{
 "cells": [
  {
   "cell_type": "code",
   "execution_count": 3,
   "metadata": {},
   "outputs": [],
   "source": [
    "import suite2p\n",
    "from suite2p.run_s2p import run_s2p\n",
    "from settings import ops\n",
    "import sys\n",
    "sys.path.append('..')\n",
    "from utils import *\n",
    "import time"
   ]
  },
  {
   "cell_type": "code",
   "execution_count": 6,
   "metadata": {
    "collapsed": true
   },
   "outputs": [],
   "source": [
    "#set paths to tiff here, any settings set here will overwrite ops settings, meaning we can set\n",
    "#different cell sizes with different zooms here.\n",
    "#JR added parameter has_stim = whether to remove phptostim artifact\n",
    "\n",
    "\n",
    "#important: data paths must be lists even if only one element\n",
    "\n",
    "\n",
    "#in the future this should be made to read a google spreadsheet or similar with experiment\n",
    "#metadata\n",
    "\n",
    "\n",
    "db = []\n",
    "\n",
    "#gave excellent results in suite2p though movie stutters around time of artefact removal\n",
    "# db.append({'data_path' : ['/home/jamesrowland/Desktop/j031/4'],\n",
    "#            'diameter'  : 18,   \n",
    "#            'has_stim'  : True\n",
    "#            })\n",
    "\n",
    "\n",
    "# ## this gave decent suite2p results, some banding but majority of cells found\n",
    "# db.append({'data_path' : ['/home/jamesrowland/Desktop/j031/6'], \n",
    "#            'diameter'  : 12, \n",
    "#            'has_stim'  : True\n",
    "#            })\n",
    "\n",
    "\n",
    "# #s2 100 shotsimaging session\n",
    "# db.append({'data_path' : ['/media/jamesrowland/DATA/plab/s2_100_shots'], \n",
    "#            'diameter'  : 12, \n",
    "#            'has_stim'  : True\n",
    "#            })\n",
    "# time.sleep(120)\n",
    "# #s2 100 shots take 2\n",
    "# db.append({'data_path' : ['/media/jamesrowland/DATA/plab/2019-02-19_RL025_S2imS1stim'], \n",
    "#            'diameter'  : 12, \n",
    "#            'has_stim'  : True\n",
    "#            })\n",
    "\n",
    "# #spontaneous activity imaging\n",
    "# db.append({'data_path' : ['/media/jamesrowland/DATA/plab/spont/4'], \n",
    "#            'diameter'  : 12, \n",
    "#            'has_stim'  : False\n",
    "#            })\n",
    "\n",
    "\n",
    "# Adam H data\n",
    "db.append({'data_path' : ['/home/jamesrowland/Documents/packerstation/aharris/Data/2019-04-11/2019-04-11_RL025_t-007'], \n",
    "           'diameter'  : 12, \n",
    "           'has_stim'  : False\n",
    "           })\n",
    "\n",
    "db.append({'data_path' : ['/home/jamesrowland/Documents/packerstation/aharris/Data/2019-04-11/2019-04-11_RL025_t-009'], \n",
    "           'diameter'  : 12, \n",
    "           'has_stim'  : False\n",
    "           })\n",
    "\n",
    "\n",
    "\n",
    "\n",
    "\n",
    "\n",
    "\n",
    "\n",
    "\n",
    "\n"
   ]
  },
  {
   "cell_type": "code",
   "execution_count": 7,
   "metadata": {},
   "outputs": [
    {
     "name": "stdout",
     "output_type": "stream",
     "text": [
      "Found 1 tifs\n"
     ]
    },
    {
     "name": "stderr",
     "output_type": "stream",
     "text": [
      "/home/jamesrowland/anaconda3/lib/python3.6/site-packages/skimage/external/tifffile/tifffile.py:1635: UserWarning: can not reshape (2000, 512, 512) to (30472, 512, 512)\n",
      "  warnings.warn(str(e))\n"
     ]
    },
    {
     "name": "stdout",
     "output_type": "stream",
     "text": [
      "time 190.4100. Wrote tifs to binaries for 1 planes\n",
      "/home/jamesrowland/Documents/suite2p_binaries/suite2p/plane0/data_raw.bin\n",
      "computed reference frame for registration\n",
      "registered 1000/30472 frames in time 26.05\n",
      "registered 2000/30472 frames in time 52.02\n",
      "registered 3000/30472 frames in time 77.95\n",
      "registered 4000/30472 frames in time 103.99\n",
      "registered 5000/30472 frames in time 130.03\n",
      "registered 6000/30472 frames in time 156.11\n",
      "registered 7000/30472 frames in time 182.28\n",
      "registered 8000/30472 frames in time 208.11\n",
      "registered 9000/30472 frames in time 234.11\n",
      "registered 10000/30472 frames in time 260.27\n",
      "registered 11000/30472 frames in time 286.05\n",
      "registered 12000/30472 frames in time 312.00\n",
      "registered 13000/30472 frames in time 337.84\n",
      "registered 14000/30472 frames in time 363.86\n",
      "registered 15000/30472 frames in time 389.62\n",
      "registered 16000/30472 frames in time 415.55\n",
      "registered 17000/30472 frames in time 442.28\n",
      "registered 18000/30472 frames in time 468.31\n",
      "registered 19000/30472 frames in time 494.68\n",
      "registered 20000/30472 frames in time 521.22\n",
      "registered 21000/30472 frames in time 548.01\n",
      "registered 22000/30472 frames in time 574.02\n",
      "registered 23000/30472 frames in time 600.67\n",
      "registered 24000/30472 frames in time 627.35\n",
      "registered 25000/30472 frames in time 653.75\n",
      "registered 26000/30472 frames in time 680.36\n",
      "registered 27000/30472 frames in time 706.72\n",
      "registered 28000/30472 frames in time 733.43\n",
      "registered 29000/30472 frames in time 760.40\n",
      "registered 30000/30472 frames in time 787.35\n",
      "computed registration metrics in time 906.79\n",
      "time 1212.2838. Registration complete for 1 planes\n",
      "[12 12]\n",
      "nt0=38\n",
      "(801, 506, 506)\n",
      "6.0\n",
      "here\n",
      "ROIs: 200, cost: 0.1360, time: 39.8994\n",
      "ROIs: 400, cost: 0.1085, time: 50.0226\n",
      "ROIs: 497, cost: 0.1001, time: 56.7788\n",
      "ROIs: 528, cost: 0.0969, time: 62.2780\n",
      "ROIs: 536, cost: 0.0958, time: 67.1269\n",
      "nt0=38\n",
      "(801, 506, 506)\n",
      "ROIs: 536, cost: 0.2715, time: 88.3126\n",
      "removed 43 overlapping ROIs\n",
      "ROIs: 493, cost: 0.2684, time: 94.2874\n",
      "ROIs: 493, cost: 0.2667, time: 97.7411\n",
      "time 108.0506. Found 493 ROIs\n",
      "extracted 0/30472 frames in 1.77 sec\n",
      "extracted 5000/30472 frames in 10.66 sec\n",
      "extracted 10000/30472 frames in 19.54 sec\n",
      "extracted 15000/30472 frames in 28.45 sec\n",
      "extracted 20000/30472 frames in 37.35 sec\n",
      "extracted 25000/30472 frames in 46.28 sec\n",
      "extracted 30472/30472 frames in 54.28 sec\n",
      "time 169.6095. Extracted fluorescence from 493 ROIs\n",
      "results saved to /home/jamesrowland/Documents/packerstation/aharris/Data/2019-04-11/2019-04-11_RL025_t-007/suite2p/plane0\n",
      "time 1419.7977. Detected spikes in 493 ROIs\n",
      "/home/jamesrowland/anaconda3/lib/python3.6/site-packages/suite2p/classifiers/classifier_user.npy\n",
      "finished all tasks in total time 1426.3501 sec\n",
      "Found 1 tifs\n",
      "time 200.1725. Wrote tifs to binaries for 1 planes\n",
      "/home/jamesrowland/Documents/suite2p_binaries/suite2p/plane0/data_raw.bin\n",
      "computed reference frame for registration\n",
      "registered 1000/30472 frames in time 27.07\n",
      "registered 2000/30472 frames in time 53.67\n",
      "registered 3000/30472 frames in time 80.10\n",
      "registered 4000/30472 frames in time 106.49\n",
      "registered 5000/30472 frames in time 133.18\n",
      "registered 6000/30472 frames in time 159.56\n",
      "registered 7000/30472 frames in time 186.03\n",
      "registered 8000/30472 frames in time 212.39\n",
      "registered 9000/30472 frames in time 238.86\n",
      "registered 10000/30472 frames in time 265.26\n",
      "registered 11000/30472 frames in time 291.84\n",
      "registered 12000/30472 frames in time 317.89\n",
      "registered 13000/30472 frames in time 343.89\n",
      "registered 14000/30472 frames in time 370.02\n",
      "registered 15000/30472 frames in time 396.03\n",
      "registered 16000/30472 frames in time 422.23\n",
      "registered 17000/30472 frames in time 448.29\n",
      "registered 18000/30472 frames in time 474.45\n",
      "registered 19000/30472 frames in time 500.50\n",
      "registered 20000/30472 frames in time 526.51\n",
      "registered 21000/30472 frames in time 552.68\n",
      "registered 22000/30472 frames in time 578.63\n",
      "registered 23000/30472 frames in time 604.89\n",
      "registered 24000/30472 frames in time 631.16\n",
      "registered 25000/30472 frames in time 657.23\n",
      "registered 26000/30472 frames in time 683.37\n",
      "registered 27000/30472 frames in time 709.80\n",
      "registered 28000/30472 frames in time 735.98\n",
      "registered 29000/30472 frames in time 762.14\n",
      "registered 30000/30472 frames in time 788.02\n",
      "computed registration metrics in time 912.31\n",
      "time 1232.4962. Registration complete for 1 planes\n",
      "[12 12]\n",
      "nt0=38\n",
      "(801, 507, 508)\n",
      "6.0\n",
      "here\n",
      "ROIs: 200, cost: 0.3003, time: 36.5223\n",
      "ROIs: 400, cost: 0.2486, time: 46.6951\n",
      "ROIs: 521, cost: 0.2315, time: 54.1096\n",
      "ROIs: 543, cost: 0.2283, time: 59.4901\n",
      "ROIs: 546, cost: 0.2275, time: 64.3381\n",
      "nt0=38\n",
      "(801, 507, 508)\n",
      "ROIs: 546, cost: 0.4395, time: 85.8073\n",
      "removed 23 overlapping ROIs\n",
      "ROIs: 523, cost: 0.4027, time: 94.1106\n",
      "ROIs: 523, cost: 0.3998, time: 97.9638\n",
      "time 112.1633. Found 523 ROIs\n",
      "extracted 0/30472 frames in 1.85 sec\n",
      "extracted 5000/30472 frames in 11.13 sec\n",
      "extracted 10000/30472 frames in 20.38 sec\n",
      "extracted 15000/30472 frames in 29.66 sec\n",
      "extracted 20000/30472 frames in 38.97 sec\n",
      "extracted 25000/30472 frames in 48.23 sec\n",
      "extracted 30472/30472 frames in 56.58 sec\n",
      "time 178.1194. Extracted fluorescence from 523 ROIs\n",
      "results saved to /home/jamesrowland/Documents/packerstation/aharris/Data/2019-04-11/2019-04-11_RL025_t-009/suite2p/plane0\n",
      "time 1449.7048. Detected spikes in 523 ROIs\n",
      "/home/jamesrowland/anaconda3/lib/python3.6/site-packages/suite2p/classifiers/classifier_user.npy\n",
      "finished all tasks in total time 1456.2784 sec\n"
     ]
    },
    {
     "data": {
      "text/plain": [
       "2882.677978515625"
      ]
     },
     "execution_count": 7,
     "metadata": {},
     "output_type": "execute_result"
    }
   ],
   "source": [
    "t1 = time.time()\n",
    "for dbi in db:\n",
    "    if dbi['has_stim']:\n",
    "        dbi = process_stim_artefact(db=dbi,threshold=1.3, interpolate=False)\n",
    "    opsEnd=run_s2p(ops=ops,db=dbi)\n",
    "    \n",
    "t2 = time.time()\n",
    "t2 - t1"
   ]
  },
  {
   "cell_type": "code",
   "execution_count": 4,
   "metadata": {},
   "outputs": [
    {
     "ename": "ZeroDivisionError",
     "evalue": "division by zero",
     "output_type": "error",
     "traceback": [
      "\u001b[0;31m---------------------------------------------------------------------------\u001b[0m",
      "\u001b[0;31mZeroDivisionError\u001b[0m                         Traceback (most recent call last)",
      "\u001b[0;32m<ipython-input-4-79f469d4830b>\u001b[0m in \u001b[0;36m<module>\u001b[0;34m()\u001b[0m\n\u001b[0;32m----> 1\u001b[0;31m \u001b[0;36m1\u001b[0m\u001b[0;34m/\u001b[0m\u001b[0;36m0\u001b[0m\u001b[0;34m\u001b[0m\u001b[0m\n\u001b[0m\u001b[1;32m      2\u001b[0m \u001b[0;31m# took 1965 seconds when all D drive\u001b[0m\u001b[0;34m\u001b[0m\u001b[0;34m\u001b[0m\u001b[0m\n\u001b[1;32m      3\u001b[0m \u001b[0;31m# took 1834 seconds when binary to SSD\u001b[0m\u001b[0;34m\u001b[0m\u001b[0;34m\u001b[0m\u001b[0m\n",
      "\u001b[0;31mZeroDivisionError\u001b[0m: division by zero"
     ]
    }
   ],
   "source": [
    "1/0\n",
    "# took 1965 seconds when all D drive\n",
    "# took 1834 seconds when binary to SSD"
   ]
  },
  {
   "cell_type": "code",
   "execution_count": null,
   "metadata": {
    "collapsed": true
   },
   "outputs": [],
   "source": [
    "t1 = time.time()\n",
    "for dbi in db:\n",
    "    if dbi['has_stim']:\n",
    "        dbi = interpolate_through_stim(db=dbi,threshold=1.3)\n",
    "    opsEnd=run_s2p(ops=ops,db=dbi)\n",
    "    \n",
    "t2 = time.time()\n",
    "t2 - t1"
   ]
  },
  {
   "cell_type": "code",
   "execution_count": null,
   "metadata": {
    "collapsed": true
   },
   "outputs": [],
   "source": [
    "1/"
   ]
  },
  {
   "cell_type": "code",
   "execution_count": null,
   "metadata": {
    "collapsed": true
   },
   "outputs": [],
   "source": [
    "#use this cell to test artifcat removal through insepction of traces\n",
    "\n",
    "db = []\n",
    "\n",
    "#results still decent without artefact removal\n",
    "db.append({'data_path' : ['/home/jamesrowland/Desktop/j031/4'],\n",
    "           'diameter'  : 18,   \n",
    "           'has_stim'  : False\n",
    "           })\n",
    "\n",
    "#results pretty good without arefact removal\n",
    "db.append({'data_path' : ['/home/jamesrowland/Desktop/j031/6'], \n",
    "           'diameter'  : 12, \n",
    "           'has_stim'  : False\n",
    "           })"
   ]
  },
  {
   "cell_type": "code",
   "execution_count": null,
   "metadata": {
    "collapsed": true
   },
   "outputs": [],
   "source": [
    "for dbi in db:\n",
    "    if dbi['has_stim']:\n",
    "        dbi = interpolate_through_stim(db=dbi,threshold=1.3)\n",
    "    opsEnd=run_s2p(ops=ops,db=dbi)"
   ]
  }
 ],
 "metadata": {
  "kernelspec": {
   "display_name": "Python 3",
   "language": "python",
   "name": "python3"
  },
  "language_info": {
   "codemirror_mode": {
    "name": "ipython",
    "version": 3
   },
   "file_extension": ".py",
   "mimetype": "text/x-python",
   "name": "python",
   "nbconvert_exporter": "python",
   "pygments_lexer": "ipython3",
   "version": "3.6.3"
  }
 },
 "nbformat": 4,
 "nbformat_minor": 2
}
