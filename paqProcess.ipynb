{
 "cells": [
  {
   "cell_type": "code",
   "execution_count": 88,
   "metadata": {},
   "outputs": [],
   "source": [
    "import numpy as np\n",
    "import tifffile as tf\n",
    "import ntpath\n",
    "import os\n",
    "import matplotlib.pyplot as plt\n",
    "import sys\n",
    "import time\n",
    "from paq2py import *\n",
    "from utils import *\n",
    "import seaborn as sns\n",
    "%matplotlib inline"
   ]
  },
  {
   "cell_type": "code",
   "execution_count": 2,
   "metadata": {},
   "outputs": [],
   "source": [
    "paq_path = r'C:\\Users\\Curtis-E-Bear\\Desktop\\J031_4\\2019-02-28_J031_packIO_004.paq'\n",
    "naparm_path = r'C:\\Users\\Curtis-E-Bear\\Desktop\\J031_4\\2019-02-28_J031_NAPARM_003'\n",
    "xml_path = next(os.path.join(naparm_path, file) for file in os.listdir(naparm_path) if file.endswith('.xml'))\n",
    "gpl_path = next(os.path.join(naparm_path, file) for file in os.listdir(naparm_path) if file.endswith('.gpl'))"
   ]
  },
  {
   "cell_type": "code",
   "execution_count": 3,
   "metadata": {},
   "outputs": [
    {
     "name": "stdout",
     "output_type": "stream",
     "text": [
      "data\n",
      "chan_names\n",
      "hw_chans\n",
      "units\n",
      "rate\n"
     ]
    }
   ],
   "source": [
    "paq = paq_read(paq_path)\n",
    "for k,v in paq.items():\n",
    "    print(k) "
   ]
  },
  {
   "cell_type": "code",
   "execution_count": 4,
   "metadata": {},
   "outputs": [
    {
     "data": {
      "text/plain": [
       "['x_galvo_uncaging',\n",
       " 'packio2slm',\n",
       " 'slm2packio',\n",
       " 'packio2markpoints',\n",
       " 'markpoints2packio',\n",
       " 'frame_clock']"
      ]
     },
     "execution_count": 4,
     "metadata": {},
     "output_type": "execute_result"
    }
   ],
   "source": [
    "paq['chan_names']"
   ]
  },
  {
   "cell_type": "code",
   "execution_count": 5,
   "metadata": {},
   "outputs": [
    {
     "data": {
      "text/plain": [
       "20000"
      ]
     },
     "execution_count": 5,
     "metadata": {},
     "output_type": "execute_result"
    }
   ],
   "source": [
    "paq['rate']"
   ]
  },
  {
   "cell_type": "code",
   "execution_count": 6,
   "metadata": {},
   "outputs": [],
   "source": [
    "m2p_idx = paq['chan_names'].index('markpoints2packio')\n",
    "m2p = paq['data'][m2p_idx, :]\n",
    "stim_samples = np.where(np.diff(m2p) > 4)[0]"
   ]
  },
  {
   "cell_type": "code",
   "execution_count": 167,
   "metadata": {},
   "outputs": [
    {
     "data": {
      "text/plain": [
       "(400000, 410000)"
      ]
     },
     "execution_count": 167,
     "metadata": {},
     "output_type": "execute_result"
    },
    {
     "data": {
      "image/png": "[encoded data removed]",
      "text/plain": [
       "<Figure size 432x288 with 1 Axes>"
      ]
     },
     "metadata": {},
     "output_type": "display_data"
    }
   ],
   "source": [
    "clock_idx = paq['chan_names'].index('frame_clock')\n",
    "clock_voltage = paq['data'][clock_idx, :]\n",
    "clock_samples =  np.where(np.diff(clock_voltage) > 2)[0]\n",
    "\n",
    "plt.plot(clock_voltage, '.')\n",
    "plt.xlim([400000,410000])"
   ]
  },
  {
   "cell_type": "code",
   "execution_count": 174,
   "metadata": {},
   "outputs": [
    {
     "data": {
      "text/plain": [
       "1954"
      ]
     },
     "execution_count": 174,
     "metadata": {},
     "output_type": "execute_result"
    }
   ],
   "source": [
    "clock_samples =  np.where(np.diff(clock_voltage) > 0.01)[0]\n",
    "differ = np.diff(clock_samples)\n",
    "\n",
    "c = np.where((differ > 100) & (differ < 1000))[0]\n",
    "\n",
    "#plt.plot(differ[c])\n",
    "len(c)"
   ]
  },
  {
   "cell_type": "code",
   "execution_count": 123,
   "metadata": {},
   "outputs": [],
   "source": [
    "def debounce(arr, window):\n",
    "    '''\n",
    "    function to debounce arrays based on the numeric values of arr1, used for example when the trial outcome is erroneously printed twice\n",
    "    removes subsequent elements of an array that occur within a time window to the previous element\n",
    "    '''\n",
    "    for i,a in enumerate(arr):\n",
    "        # finish debouncing if reach the final element\n",
    "        if i == len(arr) - 1:\n",
    "            return arr\n",
    "\n",
    "        else:\n",
    "            diff = arr[i+1] - arr[i]\n",
    "            if diff <= window:\n",
    "                del arr[i+1]\n",
    "                # recursively call debounce function\n",
    "                debounce(arr,window)"
   ]
  },
  {
   "cell_type": "code",
   "execution_count": 136,
   "metadata": {},
   "outputs": [
    {
     "data": {
      "text/plain": [
       "1962"
      ]
     },
     "execution_count": 136,
     "metadata": {},
     "output_type": "execute_result"
    }
   ],
   "source": [
    "d = debounce(list(clock_samples), 666.6666666666666)\n",
    "len(clock_samples)"
   ]
  },
  {
   "cell_type": "code",
   "execution_count": 127,
   "metadata": {},
   "outputs": [
    {
     "data": {
      "text/plain": [
       "666.6666666666666"
      ]
     },
     "execution_count": 127,
     "metadata": {},
     "output_type": "execute_result"
    }
   ],
   "source": [
    "(1/30) * 20000"
   ]
  },
  {
   "cell_type": "code",
   "execution_count": 8,
   "metadata": {},
   "outputs": [
    {
     "data": {
      "text/plain": [
       "[<matplotlib.lines.Line2D at 0x189cb1412b0>]"
      ]
     },
     "execution_count": 8,
     "metadata": {},
     "output_type": "execute_result"
    },
    {
     "data": {
      "image/png": "[encoded data removed]",
      "text/plain": [
       "<Figure size 432x288 with 1 Axes>"
      ]
     },
     "metadata": {},
     "output_type": "display_data"
    }
   ],
   "source": [
    "plt.plot(clock_samples, np.ones(len(clock_samples)), '.')\n",
    "plt.plot(stim_samples, np.ones(len(stim_samples)), '.')\n",
    "#plt.xlim([279000, 280000])"
   ]
  },
  {
   "cell_type": "code",
   "execution_count": 9,
   "metadata": {},
   "outputs": [],
   "source": [
    "markpoints = ParseMarkpoints(xml_path=xml_path, gpl_path=gpl_path)\n",
    "assert len(stim_samples) == int(markpoints.iterations)"
   ]
  },
  {
   "cell_type": "code",
   "execution_count": 10,
   "metadata": {},
   "outputs": [
    {
     "data": {
      "text/plain": [
       "200.0"
      ]
     },
     "execution_count": 10,
     "metadata": {},
     "output_type": "execute_result"
    }
   ],
   "source": [
    "# assume all group durations the same\n",
    "duration = float(markpoints.durations[0]) #ms\n",
    "duration_samples = (duration / 1000) * paq['rate']\n",
    "duration_samples"
   ]
  },
  {
   "cell_type": "code",
   "execution_count": 89,
   "metadata": {},
   "outputs": [
    {
     "data": {
      "text/plain": [
       "0.004613399505615234"
      ]
     },
     "execution_count": 89,
     "metadata": {},
     "output_type": "execute_result"
    }
   ],
   "source": [
    "#use this to remove frames during stim based on paq\n",
    "to_remove = []\n",
    "\n",
    "for stim in stim_samples:\n",
    "\n",
    "    #the sample time of the frame immediately preceeding stim\n",
    "    stim_start_frame = next(clock_samples[i-1] for i,sample in enumerate(clock_samples) if sample - stim > 0)\n",
    "\n",
    "    # frame indexes that fall during the stim\n",
    "    in_stim = np.where((clock_samples >= stim_start_frame) & (clock_samples <= stim + duration_samples))[0]\n",
    "\n",
    "    [to_remove.append(f) for f in in_stim]\n"
   ]
  },
  {
   "cell_type": "code",
   "execution_count": 87,
   "metadata": {},
   "outputs": [],
   "source": [
    "stim_start_frames = []\n",
    "\n",
    "for stim in stim_samples:\n",
    "\n",
    "    #the index of the frame immediately preceeding stim\n",
    "    stim_start_frame = next(i-1 for i,sample in enumerate(clock_samples) if sample - stim > 0)\n",
    "    \n",
    "    stim_start_frames.append(stim_start_frame)\n",
    "    \n",
    "assert len(stim_start_frames) == int(markpoints.iterations)"
   ]
  },
  {
   "cell_type": "code",
   "execution_count": 152,
   "metadata": {},
   "outputs": [
    {
     "data": {
      "text/plain": [
       "(240, 1942)"
      ]
     },
     "execution_count": 152,
     "metadata": {},
     "output_type": "execute_result"
    }
   ],
   "source": [
    "remove_arr = np.load(r\"C:\\Users\\Curtis-E-Bear\\Desktop\\J031_4\\remove\\suite2p\\plane0\\F.npy\")\n",
    "remove_arr.shape"
   ]
  },
  {
   "cell_type": "code",
   "execution_count": 154,
   "metadata": {},
   "outputs": [
    {
     "data": {
      "text/plain": [
       "(195, 1942)"
      ]
     },
     "execution_count": 154,
     "metadata": {},
     "output_type": "execute_result"
    }
   ],
   "source": [
    "noremove_arr = np.load(r\"C:\\Users\\Curtis-E-Bear\\Desktop\\J031_4\\noremove\\suite2p\\plane0\\F.npy\")\n",
    "noremove_arr.shape"
   ]
  },
  {
   "cell_type": "code",
   "execution_count": 155,
   "metadata": {},
   "outputs": [
    {
     "data": {
      "text/plain": [
       "1962"
      ]
     },
     "execution_count": 155,
     "metadata": {},
     "output_type": "execute_result"
    }
   ],
   "source": [
    "len(clock_samples)"
   ]
  },
  {
   "cell_type": "code",
   "execution_count": 105,
   "metadata": {},
   "outputs": [],
   "source": [
    "def threshold_detect(signal, threshold):\n",
    "    thresh_signal = signal > threshold\n",
    "    thresh_signal[1:][thresh_signal[:-1] & thresh_signal[1:]] = False\n",
    "    times = np.where(thresh_signal)\n",
    "    return times[0]"
   ]
  },
  {
   "cell_type": "code",
   "execution_count": 107,
   "metadata": {},
   "outputs": [],
   "source": [
    "# # get frame times\n",
    "# frame_trace = clock_voltage\n",
    "# rate = paq['rate']\n",
    "# frame_times = threshold_detect(frame_trace, 1).astype(np.float) / rate\n",
    "# frame_times = frame_times[(frame_times > sync_start) & (frame_times < sync_stop)]\n",
    "# frame_times = frame_times[0:num_frames]"
   ]
  },
  {
   "cell_type": "code",
   "execution_count": 109,
   "metadata": {},
   "outputs": [
    {
     "data": {
      "text/plain": [
       "1955"
      ]
     },
     "execution_count": 109,
     "metadata": {},
     "output_type": "execute_result"
    }
   ],
   "source": [
    "len(frame_times)"
   ]
  },
  {
   "cell_type": "code",
   "execution_count": null,
   "metadata": {},
   "outputs": [],
   "source": []
  },
  {
   "cell_type": "code",
   "execution_count": null,
   "metadata": {},
   "outputs": [],
   "source": []
  },
  {
   "cell_type": "code",
   "execution_count": null,
   "metadata": {},
   "outputs": [],
   "source": []
  },
  {
   "cell_type": "code",
   "execution_count": null,
   "metadata": {},
   "outputs": [],
   "source": []
  }
 ],
 "metadata": {
  "kernelspec": {
   "display_name": "Python 3",
   "language": "python",
   "name": "python3"
  },
  "language_info": {
   "codemirror_mode": {
    "name": "ipython",
    "version": 3
   },
   "file_extension": ".py",
   "mimetype": "text/x-python",
   "name": "python",
   "nbconvert_exporter": "python",
   "pygments_lexer": "ipython3",
   "version": "3.6.4"
  }
 },
 "nbformat": 4,
 "nbformat_minor": 2
}
