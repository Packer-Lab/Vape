{
 "cells": [
  {
   "cell_type": "code",
   "execution_count": 22,
   "metadata": {
    "collapsed": true
   },
   "outputs": [],
   "source": [
    "import numpy as np\n",
    "import tifffile as tf\n",
    "import ntpath\n",
    "import os\n",
    "import matplotlib.pyplot as plt\n",
    "\n",
    "from paq2py import *\n",
    "\n",
    "%matplotlib inline"
   ]
  },
  {
   "cell_type": "code",
   "execution_count": 8,
   "metadata": {
    "collapsed": true
   },
   "outputs": [],
   "source": [
    "paq_path = '/home/jamesrowland/Desktop/j031/2019-02-28_J031_packIO_004.paq'\n"
   ]
  },
  {
   "cell_type": "code",
   "execution_count": 9,
   "metadata": {},
   "outputs": [],
   "source": [
    "paq = paq_read(paq_path)"
   ]
  },
  {
   "cell_type": "code",
   "execution_count": 10,
   "metadata": {},
   "outputs": [
    {
     "name": "stdout",
     "output_type": "stream",
     "text": [
      "data\n",
      "chan_names\n",
      "hw_chans\n",
      "units\n",
      "rate\n"
     ]
    }
   ],
   "source": [
    "for k,v in paq.items():\n",
    "    print(k)"
   ]
  },
  {
   "cell_type": "code",
   "execution_count": 39,
   "metadata": {},
   "outputs": [
    {
     "data": {
      "text/plain": [
       "['x_galvo_uncaging',\n",
       " 'packio2slm',\n",
       " 'slm2packio',\n",
       " 'packio2markpoints',\n",
       " 'markpoints2packio',\n",
       " 'frame_clock']"
      ]
     },
     "execution_count": 39,
     "metadata": {},
     "output_type": "execute_result"
    }
   ],
   "source": [
    "paq['chan_names']"
   ]
  },
  {
   "cell_type": "code",
   "execution_count": 38,
   "metadata": {},
   "outputs": [
    {
     "data": {
      "text/plain": [
       "20000"
      ]
     },
     "execution_count": 38,
     "metadata": {},
     "output_type": "execute_result"
    }
   ],
   "source": [
    "paq['rate']"
   ]
  },
  {
   "cell_type": "code",
   "execution_count": 18,
   "metadata": {},
   "outputs": [],
   "source": [
    "m2p_idx = paq['chan_names'].index('markpoints2packio')"
   ]
  },
  {
   "cell_type": "code",
   "execution_count": 19,
   "metadata": {},
   "outputs": [],
   "source": [
    "m2p = paq['data'][m2p_idx, :]"
   ]
  },
  {
   "cell_type": "code",
   "execution_count": 36,
   "metadata": {},
   "outputs": [
    {
     "data": {
      "text/plain": [
       "(137800, 138100)"
      ]
     },
     "execution_count": 36,
     "metadata": {},
     "output_type": "execute_result"
    },
    {
     "data": {
      "image/png": "[encoded data removed]",
      "text/plain": [
       "<Figure size 432x288 with 1 Axes>"
      ]
     },
     "metadata": {},
     "output_type": "display_data"
    }
   ],
   "source": [
    "plt.plot(m2p, '.')\n",
    "plt.xlim([137800, 138100])"
   ]
  },
  {
   "cell_type": "code",
   "execution_count": 37,
   "metadata": {},
   "outputs": [
    {
     "data": {
      "text/plain": [
       "300"
      ]
     },
     "execution_count": 37,
     "metadata": {},
     "output_type": "execute_result"
    }
   ],
   "source": [
    "138100 - 137800"
   ]
  },
  {
   "cell_type": "code",
   "execution_count": null,
   "metadata": {
    "collapsed": true
   },
   "outputs": [],
   "source": [
    "def get_tiffs(path):\n",
    "    \n",
    "    tiff_files = []\n",
    "    for file in os.listdir(path):\n",
    "        if file.endswith('.tif') or file.endswith('.tiff'):\n",
    "            tiff_files.append(os.path.join(path,file))\n",
    "                   \n",
    "    return tiff_files\n"
   ]
  },
  {
   "cell_type": "code",
   "execution_count": null,
   "metadata": {
    "collapsed": true
   },
   "outputs": [],
   "source": [
    "def interpolate_through_stim(stack=None, db=None, threshold=1.5):\n",
    "    \n",
    "    '''  \n",
    "    remove frames with mean pixel intensity higher than \n",
    "    threhold x average across time series\n",
    "    returns stack with linear interpolation through these stim frames \n",
    "    \n",
    "    takes input of stack OR db\n",
    "    \n",
    "    if stack: returns artifact cleaned stack array\n",
    "    if db: returns db dict with path now to cleaned tiff\n",
    "         \n",
    "    '''\n",
    "\n",
    "    if not stack and not db: raise ValueError('must pass function stack or db')\n",
    "    if stack and db: raise ValueError('do not pass function stack and db')\n",
    "       \n",
    "    if db: \n",
    "        tiff_files = get_tiffs(db['data_path'][0])\n",
    "        \n",
    "        if len(tiff_files) > 1: raise ValueError('can only support single tiff file in folder currently')\n",
    "        tiff_file = tiff_files[0]\n",
    "        stack = tf.imread(tiff_file)\n",
    "\n",
    "    dims = stack.shape\n",
    "    n_frames = dims[0]\n",
    "    \n",
    "    av_frame = np.mean(stack, axis=(1,2))\n",
    "    \n",
    "    # Frames with averge fluoresence threshold * higher than average\n",
    "    to_remove = np.where(av_frame > threshold*np.mean(av_frame))[0]\n",
    "\n",
    "    #remove the frames that are above threshold\n",
    "    blanked = np.delete(stack, to_remove, axis=0)\n",
    "\n",
    "    # list of frames not blanked\n",
    "    xt = np.arange(n_frames)\n",
    "    xt = np.delete(xt,to_remove)\n",
    "\n",
    "    #perform pixel wise linear interpolation across blanked frames\n",
    "    for row in range(dims[1]):\n",
    "        for col in range(dims[2]):\n",
    "\n",
    "            px = blanked[:,row,col]\n",
    "\n",
    "            intp = np.interp(to_remove, xt, px)\n",
    "\n",
    "            stack[to_remove,row,col] = intp\n",
    "            \n",
    "    assert stack.shape == dims\n",
    "\n",
    "    \n",
    "    if db:\n",
    "    \n",
    "        #update db path\n",
    "        ar_path = os.path.join(os.path.dirname(tiff_file), 'artifactRemoved')            \n",
    "        db['data_path'] = [ar_path]   \n",
    "        if not os.path.exists(ar_path): os.makedirs(ar_path)\n",
    "         \n",
    "        #write artifact removed stack\n",
    "        exp_name = ntpath.basename(tiff_file).split('.')[0]\n",
    "        output_path = os.path.join(ar_path, exp_name +'_artifactRemoved.tiff')\n",
    "        tf.imwrite(output_path, stack, photometric='minisblack')\n",
    "       \n",
    "        return db\n",
    "    \n",
    "    else:\n",
    "        return stack\n"
   ]
  },
  {
   "cell_type": "code",
   "execution_count": null,
   "metadata": {
    "collapsed": true
   },
   "outputs": [],
   "source": []
  },
  {
   "cell_type": "code",
   "execution_count": null,
   "metadata": {
    "collapsed": true
   },
   "outputs": [],
   "source": []
  },
  {
   "cell_type": "code",
   "execution_count": null,
   "metadata": {
    "collapsed": true
   },
   "outputs": [],
   "source": []
  }
 ],
 "metadata": {
  "kernelspec": {
   "display_name": "Python 3",
   "language": "python",
   "name": "python3"
  },
  "language_info": {
   "codemirror_mode": {
    "name": "ipython",
    "version": 3
   },
   "file_extension": ".py",
   "mimetype": "text/x-python",
   "name": "python",
   "nbconvert_exporter": "python",
   "pygments_lexer": "ipython3",
   "version": "3.6.3"
  }
 },
 "nbformat": 4,
 "nbformat_minor": 2
}
