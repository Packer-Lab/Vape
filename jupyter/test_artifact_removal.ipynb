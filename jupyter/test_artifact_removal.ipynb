{
 "cells": [
  {
   "cell_type": "code",
   "execution_count": 1,
   "metadata": {},
   "outputs": [],
   "source": [
    "#ipython magic\n",
    "%reset -f\n",
    "%matplotlib notebook\n",
    "%load_ext autoreload\n",
    "%autoreload 2"
   ]
  },
  {
   "cell_type": "code",
   "execution_count": 2,
   "metadata": {},
   "outputs": [],
   "source": [
    "#general imports\n",
    "import sys\n",
    "sys.path.append('..')\n",
    "import os\n",
    "import matplotlib.pyplot as plt\n",
    "import seaborn as sns\n",
    "import numpy as np\n",
    "import math\n",
    "import time"
   ]
  },
  {
   "cell_type": "code",
   "execution_count": 3,
   "metadata": {
    "collapsed": true
   },
   "outputs": [],
   "source": [
    "#notebook specific imports\n",
    "from utils.artifact_removal import artifact_removal\n",
    "from utils.utils_funcs import threshold_detect, stim_start_frame, paq_data\n",
    "import tifffile\n",
    "from utils.paq2py import paq_read\n",
    "import copy\n"
   ]
  },
  {
   "cell_type": "code",
   "execution_count": 4,
   "metadata": {},
   "outputs": [],
   "source": [
    "#global plotting params\n",
    "params = {'legend.fontsize': 'x-large',\n",
    "         'axes.labelsize': 'x-large',\n",
    "         'axes.titlesize':'x-large',\n",
    "         'xtick.labelsize':'x-large',\n",
    "         'ytick.labelsize':'x-large'}\n",
    "plt.rcParams.update(params)\n",
    "sns.set()\n",
    "sns.set_style('white')"
   ]
  },
  {
   "cell_type": "code",
   "execution_count": 5,
   "metadata": {
    "collapsed": true
   },
   "outputs": [],
   "source": [
    "tiff_path = r'/home/jamesrowland/Documents/packerstation/rlees/Data/2019-04-25/RL036/2019-04-25_RL036_t-001/2019-04-25_RL036_t-001_Cycle00001_Ch3.tif'\n",
    "naparm_path = r'/home/jamesrowland/Documents/packerstation/rlees/Data/2019-04-25/RL036/2019-04-25_RL036_NAPARM'\n",
    "paq_path = r'/home/jamesrowland/Documents/packerstation/rlees/Data/2019-04-25/RL036/2019-04-25_RL036_t-001.paq'"
   ]
  },
  {
   "cell_type": "code",
   "execution_count": 6,
   "metadata": {},
   "outputs": [
    {
     "data": {
      "text/plain": [
       "(500, 512, 512)"
      ]
     },
     "execution_count": 6,
     "metadata": {},
     "output_type": "execute_result"
    }
   ],
   "source": [
    "stack = tifffile.imread(tiff_path)\n",
    "stack = stack[0:500,:,:]\n",
    "stack_original = copy.deepcopy(stack)\n",
    "stack.shape"
   ]
  },
  {
   "cell_type": "code",
   "execution_count": 7,
   "metadata": {},
   "outputs": [
    {
     "data": {
      "text/plain": [
       "[1088735,\n",
       " 1108819,\n",
       " 1128902,\n",
       " 1148988,\n",
       " 1169072,\n",
       " 1189155,\n",
       " 1209241,\n",
       " 1228655,\n",
       " 1248739,\n",
       " 1268825,\n",
       " 1288908,\n",
       " 1308992,\n",
       " 1329075,\n",
       " 1349161,\n",
       " 1369245,\n",
       " 1388659,\n",
       " 1408745,\n",
       " 1428829,\n",
       " 1448912,\n",
       " 1468998,\n",
       " 1489082,\n",
       " 1509165,\n",
       " 1529249,\n",
       " 1548665,\n",
       " 1568749,\n",
       " 1588832,\n",
       " 1608919,\n",
       " 1629002,\n",
       " 1649086,\n",
       " 1669169,\n",
       " 1689256,\n",
       " 1708669,\n",
       " 1728753,\n",
       " 1748839,\n",
       " 1768923,\n",
       " 1789006,\n",
       " 1809090,\n",
       " 1829176,\n",
       " 1849260,\n",
       " 1868674,\n",
       " 1888757,\n",
       " 1908843,\n",
       " 1928927,\n",
       " 1949011,\n",
       " 1969097,\n",
       " 1989181,\n",
       " 2009264,\n",
       " 2028678,\n",
       " 2048764,\n",
       " 2068848,\n",
       " 2088932,\n",
       " 2109015,\n",
       " 2129101,\n",
       " 2149185,\n",
       " 2169269,\n",
       " 2188683,\n",
       " 2208769,\n",
       " 2228853,\n",
       " 2248936,\n",
       " 2269020,\n",
       " 2289106,\n",
       " 2309190,\n",
       " 2329273,\n",
       " 2348687,\n",
       " 2368774,\n",
       " 2388857,\n",
       " 2408941,\n",
       " 2429025,\n",
       " 2449111,\n",
       " 2469194,\n",
       " 2489278,\n",
       " 2508692,\n",
       " 2528778,\n",
       " 2548862,\n",
       " 2568946,\n",
       " 2589029,\n",
       " 2609116,\n",
       " 2629199,\n",
       " 2649283,\n",
       " 2668697,\n",
       " 2688783,\n",
       " 2708867,\n",
       " 2728951,\n",
       " 2749034,\n",
       " 2769121,\n",
       " 2789204,\n",
       " 2809288,\n",
       " 2828702,\n",
       " 2848788,\n",
       " 2868872,\n",
       " 2888956,\n",
       " 2909039,\n",
       " 2929126,\n",
       " 2949209,\n",
       " 2969293,\n",
       " 2988707,\n",
       " 3008791,\n",
       " 3028877,\n",
       " 3048961,\n",
       " 3069044,\n",
       " 3089128,\n",
       " 3109214,\n",
       " 3129298,\n",
       " 3148712,\n",
       " 3168796,\n",
       " 3188882,\n",
       " 3208966,\n",
       " 3229050,\n",
       " 3249133,\n",
       " 3269217,\n",
       " 3289303,\n",
       " 3308717,\n",
       " 3328801,\n",
       " 3348885,\n",
       " 3368971,\n",
       " 3389055,\n",
       " 3409138,\n",
       " 3429222,\n",
       " 3448639,\n",
       " 3468723,\n",
       " 3488806,\n",
       " 3508890,\n",
       " 3528974,\n",
       " 3549060,\n",
       " 3569144,\n",
       " 3589227,\n",
       " 3608642,\n",
       " 3628728,\n",
       " 3648812,\n",
       " 3668895,\n",
       " 3688979,\n",
       " 3709063,\n",
       " 3729149,\n",
       " 3749233,\n",
       " 3768647,\n",
       " 3788731,\n",
       " 3808817,\n",
       " 3828901,\n",
       " 3848984,\n",
       " 3869068,\n",
       " 3889152,\n",
       " 3909238,\n",
       " 3928652,\n",
       " 3948736,\n",
       " 3968820,\n",
       " 3988906,\n",
       " 4008990,\n",
       " 4029074,\n",
       " 4049157,\n",
       " 4069241,\n",
       " 4088658,\n",
       " 4108741,\n",
       " 4128825,\n",
       " 4148909,\n",
       " 4168995,\n",
       " 4189079,\n",
       " 4209163,\n",
       " 4229247,\n",
       " 4248661,\n",
       " 4268747,\n",
       " 4288831,\n",
       " 4308915,\n",
       " 4328998,\n",
       " 4349082,\n",
       " 4369168,\n",
       " 4389252,\n",
       " 4408666,\n",
       " 4428750,\n",
       " 4448836,\n",
       " 4468920,\n",
       " 4489004,\n",
       " 4509088,\n",
       " 4529171,\n",
       " 4549255,\n",
       " 4568672,\n",
       " 4588756,\n",
       " 4608839,\n",
       " 4628923,\n",
       " 4649009,\n",
       " 4669093,\n",
       " 4689177,\n",
       " 4709261,\n",
       " 4728675,\n",
       " 4748761,\n",
       " 4768845,\n",
       " 4788929,\n",
       " 4809013,\n",
       " 4829096,\n",
       " 4849183,\n",
       " 4869267,\n",
       " 4888681,\n",
       " 4908764,\n",
       " 4928848,\n",
       " 4948935,\n",
       " 4969018,\n",
       " 4989102,\n",
       " 5009186,\n",
       " 5029270,\n",
       " 5048686,\n",
       " 5068770,\n",
       " 5088854,\n",
       " 5108938,\n",
       " 5129022,\n",
       " 5149108,\n",
       " 5169192,\n",
       " 5189275,\n",
       " 5208690,\n",
       " 5228776,\n",
       " 5248860,\n",
       " 5268944,\n",
       " 5289027,\n",
       " 5309111,\n",
       " 5329195,\n",
       " 5349281,\n",
       " 5368695,\n",
       " 5388779,\n",
       " 5408863,\n",
       " 5428947,\n",
       " 5449033,\n",
       " 5469117,\n",
       " 5489201,\n",
       " 5509285,\n",
       " 5528699,\n",
       " 5548785,\n",
       " 5568869,\n",
       " 5588953,\n",
       " 5609037,\n",
       " 5629120,\n",
       " 5649207,\n",
       " 5669291]"
      ]
     },
     "execution_count": 7,
     "metadata": {},
     "output_type": "execute_result"
    }
   ],
   "source": [
    "paq = paq_read(paq_path)\n",
    "stim_frames = stim_start_frame(paq, 'markpoints2packio')\n",
    "frame_clock = paq_data(paq, 'frame_clock', threshold_ttl=True)\n",
    "stim_frames"
   ]
  },
  {
   "cell_type": "code",
   "execution_count": 303,
   "metadata": {
    "collapsed": true
   },
   "outputs": [],
   "source": [
    "duration_ms = 250 #length of stim\n",
    "duration_samples = (duration_ms / 1000) * paq['rate']"
   ]
  },
  {
   "cell_type": "code",
   "execution_count": 304,
   "metadata": {},
   "outputs": [],
   "source": [
    "#use this to remove frames during stim based on paq\n",
    "to_remove = []\n",
    "\n",
    "for stim_frame in stim_frames: \n",
    "\n",
    "    # frame indexes that fall during the stim\n",
    "    in_stim = np.where((frame_clock >= stim_frame) & (frame_clock <= stim_frame + duration_samples))[0]\n",
    "    \n",
    "    #empircal observation, these are the frames with artifact\n",
    "    in_stim = np.append(in_stim, in_stim[-1]+1)\n",
    "    in_stim = np.append(in_stim, in_stim[-1]+1)\n",
    "    \n",
    "    to_remove.append(in_stim)\n",
    "\n",
    "to_remove = np.ravel(to_remove)"
   ]
  },
  {
   "cell_type": "code",
   "execution_count": 305,
   "metadata": {},
   "outputs": [],
   "source": [
    "# stack[to_remove, :, :] = 0\n",
    "# tifffile.imwrite('test.tiff', stack)"
   ]
  },
  {
   "cell_type": "code",
   "execution_count": 306,
   "metadata": {},
   "outputs": [
    {
     "data": {
      "text/plain": [
       "59.67378783226013"
      ]
     },
     "execution_count": 306,
     "metadata": {},
     "output_type": "execute_result"
    }
   ],
   "source": [
    "t1 = time.time()\n",
    "\n",
    "to_remove = [i for i in to_remove if i < stack.shape[0]]\n",
    "\n",
    "stack_removed = artifact_removal(stack, remove_me=to_remove, width_thresh=3)\n",
    "\n",
    "t2 = time.time()\n",
    "\n",
    "t2-t1"
   ]
  },
  {
   "cell_type": "code",
   "execution_count": 307,
   "metadata": {
    "collapsed": true
   },
   "outputs": [],
   "source": [
    "\n",
    "tifffile.imwrite('test_removed.tiff', stack_removed)\n",
    "tifffile.imwrite('test.tiff', stack_original)"
   ]
  },
  {
   "cell_type": "code",
   "execution_count": 308,
   "metadata": {},
   "outputs": [
    {
     "data": {
      "text/plain": [
       "130"
      ]
     },
     "execution_count": 308,
     "metadata": {},
     "output_type": "execute_result"
    }
   ],
   "source": [
    "len(to_remove)"
   ]
  },
  {
   "cell_type": "code",
   "execution_count": 309,
   "metadata": {},
   "outputs": [
    {
     "data": {
      "text/plain": [
       "[115,\n",
       " 116,\n",
       " 117,\n",
       " 118,\n",
       " 119,\n",
       " 120,\n",
       " 121,\n",
       " 122,\n",
       " 123,\n",
       " 124,\n",
       " 145,\n",
       " 146,\n",
       " 147,\n",
       " 148,\n",
       " 149,\n",
       " 150,\n",
       " 151,\n",
       " 152,\n",
       " 153,\n",
       " 154,\n",
       " 175,\n",
       " 176,\n",
       " 177,\n",
       " 178,\n",
       " 179,\n",
       " 180,\n",
       " 181,\n",
       " 182,\n",
       " 183,\n",
       " 184,\n",
       " 205,\n",
       " 206,\n",
       " 207,\n",
       " 208,\n",
       " 209,\n",
       " 210,\n",
       " 211,\n",
       " 212,\n",
       " 213,\n",
       " 214,\n",
       " 235,\n",
       " 236,\n",
       " 237,\n",
       " 238,\n",
       " 239,\n",
       " 240,\n",
       " 241,\n",
       " 242,\n",
       " 243,\n",
       " 244,\n",
       " 265,\n",
       " 266,\n",
       " 267,\n",
       " 268,\n",
       " 269,\n",
       " 270,\n",
       " 271,\n",
       " 272,\n",
       " 273,\n",
       " 274,\n",
       " 295,\n",
       " 296,\n",
       " 297,\n",
       " 298,\n",
       " 299,\n",
       " 300,\n",
       " 301,\n",
       " 302,\n",
       " 303,\n",
       " 304,\n",
       " 324,\n",
       " 325,\n",
       " 326,\n",
       " 327,\n",
       " 328,\n",
       " 329,\n",
       " 330,\n",
       " 331,\n",
       " 332,\n",
       " 333,\n",
       " 354,\n",
       " 355,\n",
       " 356,\n",
       " 357,\n",
       " 358,\n",
       " 359,\n",
       " 360,\n",
       " 361,\n",
       " 362,\n",
       " 363,\n",
       " 384,\n",
       " 385,\n",
       " 386,\n",
       " 387,\n",
       " 388,\n",
       " 389,\n",
       " 390,\n",
       " 391,\n",
       " 392,\n",
       " 393,\n",
       " 414,\n",
       " 415,\n",
       " 416,\n",
       " 417,\n",
       " 418,\n",
       " 419,\n",
       " 420,\n",
       " 421,\n",
       " 422,\n",
       " 423,\n",
       " 444,\n",
       " 445,\n",
       " 446,\n",
       " 447,\n",
       " 448,\n",
       " 449,\n",
       " 450,\n",
       " 451,\n",
       " 452,\n",
       " 453,\n",
       " 474,\n",
       " 475,\n",
       " 476,\n",
       " 477,\n",
       " 478,\n",
       " 479,\n",
       " 480,\n",
       " 481,\n",
       " 482,\n",
       " 483]"
      ]
     },
     "execution_count": 309,
     "metadata": {},
     "output_type": "execute_result"
    }
   ],
   "source": [
    "to_remove"
   ]
  },
  {
   "cell_type": "code",
   "execution_count": null,
   "metadata": {
    "collapsed": true
   },
   "outputs": [],
   "source": []
  },
  {
   "cell_type": "code",
   "execution_count": null,
   "metadata": {
    "collapsed": true
   },
   "outputs": [],
   "source": []
  },
  {
   "cell_type": "code",
   "execution_count": null,
   "metadata": {
    "collapsed": true
   },
   "outputs": [],
   "source": []
  },
  {
   "cell_type": "code",
   "execution_count": null,
   "metadata": {
    "collapsed": true
   },
   "outputs": [],
   "source": []
  },
  {
   "cell_type": "code",
   "execution_count": null,
   "metadata": {
    "collapsed": true
   },
   "outputs": [],
   "source": []
  }
 ],
 "metadata": {
  "kernelspec": {
   "display_name": "Python 3",
   "language": "python",
   "name": "python3"
  },
  "language_info": {
   "codemirror_mode": {
    "name": "ipython",
    "version": 3
   },
   "file_extension": ".py",
   "mimetype": "text/x-python",
   "name": "python",
   "nbconvert_exporter": "python",
   "pygments_lexer": "ipython3",
   "version": "3.6.3"
  }
 },
 "nbformat": 4,
 "nbformat_minor": 2
}
