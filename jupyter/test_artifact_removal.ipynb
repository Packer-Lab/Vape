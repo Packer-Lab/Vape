{
 "cells": [
  {
   "cell_type": "code",
   "execution_count": 3,
   "metadata": {},
   "outputs": [
    {
     "name": "stdout",
     "output_type": "stream",
     "text": [
      "The autoreload extension is already loaded. To reload it, use:\n",
      "  %reload_ext autoreload\n"
     ]
    }
   ],
   "source": [
    "#ipython magic\n",
    "%reset -f\n",
    "%matplotlib notebook\n",
    "%load_ext autoreload\n",
    "%autoreload 2"
   ]
  },
  {
   "cell_type": "code",
   "execution_count": 5,
   "metadata": {},
   "outputs": [],
   "source": [
    "#general imports\n",
    "import sys\n",
    "sys.path.append('..')\n",
    "import os\n",
    "import matplotlib.pyplot as plt\n",
    "import seaborn as sns\n",
    "import numpy as np\n",
    "import math\n",
    "import time"
   ]
  },
  {
   "cell_type": "code",
   "execution_count": 6,
   "metadata": {
    "collapsed": true
   },
   "outputs": [],
   "source": [
    "#notebook specific imports\n",
    "from utils.artifact_removal import artifact_removal\n",
    "from utils.utils_funcs import threshold_detect, stim_start_frame, paq_data\n",
    "import tifffile\n",
    "from utils.paq2py import paq_read\n",
    "import copy\n"
   ]
  },
  {
   "cell_type": "code",
   "execution_count": 7,
   "metadata": {},
   "outputs": [],
   "source": [
    "#global plotting params\n",
    "params = {'legend.fontsize': 'x-large',\n",
    "         'axes.labelsize': 'x-large',\n",
    "         'axes.titlesize':'x-large',\n",
    "         'xtick.labelsize':'x-large',\n",
    "         'ytick.labelsize':'x-large'}\n",
    "plt.rcParams.update(params)\n",
    "sns.set()\n",
    "sns.set_style('white')"
   ]
  },
  {
   "cell_type": "code",
   "execution_count": 8,
   "metadata": {
    "collapsed": true
   },
   "outputs": [],
   "source": [
    "# tiff_path = r'/home/jamesrowland/Documents/packerstation/rlees/Data/2019-04-25/RL036/2019-04-25_RL036_t-001/2019-04-25_RL036_t-001_Cycle00001_Ch3.tif'\n",
    "# naparm_path = r'/home/jamesrowland/Documents/packerstation/rlees/Data/2019-04-25/RL036/2019-04-25_RL036_NAPARM'\n",
    "# paq_path = r'/home/jamesrowland/Documents/packerstation/rlees/Data/2019-04-25/RL036/2019-04-25_RL036_t-001.paq'"
   ]
  },
  {
   "cell_type": "code",
   "execution_count": 9,
   "metadata": {
    "collapsed": true
   },
   "outputs": [],
   "source": [
    "tiff_path = '/home/jamesrowland/Documents/packerstation/rlees/Data/2019-03-19/RL025/2019-03-19_RL025_t-007/2019-03-19_RL025_t-007_Cycle00001_Ch3.tif'\n",
    "naparm_path = '/home/jamesrowland/Documents/packerstation/rlees/Data/2019-03-19/RL025/NAPARM/2019-03-19_RL025_NAPARM_003'\n",
    "paq_path= '/home/jamesrowland/Documents/packerstation/rlees/Data/2019-03-19/RL025/2019-03-19_RL025_photostim_003.paq'"
   ]
  },
  {
   "cell_type": "code",
   "execution_count": 10,
   "metadata": {},
   "outputs": [
    {
     "data": {
      "text/plain": [
       "(500, 512, 512)"
      ]
     },
     "execution_count": 10,
     "metadata": {},
     "output_type": "execute_result"
    }
   ],
   "source": [
    "stack = tifffile.imread(tiff_path)\n",
    "stack = stack[0:500,:,:]\n",
    "stack_original = copy.deepcopy(stack)\n",
    "stack.shape"
   ]
  },
  {
   "cell_type": "code",
   "execution_count": 11,
   "metadata": {},
   "outputs": [
    {
     "data": {
      "text/plain": [
       "[182641,\n",
       " 202724,\n",
       " 222810,\n",
       " 242893,\n",
       " 262977,\n",
       " 283063,\n",
       " 303146,\n",
       " 323232,\n",
       " 342646,\n",
       " 362729,\n",
       " 382815,\n",
       " 402899,\n",
       " 422985,\n",
       " 443068,\n",
       " 463152,\n",
       " 483238,\n",
       " 502652,\n",
       " 522735,\n",
       " 542822,\n",
       " 562905,\n",
       " 582989,\n",
       " 603075,\n",
       " 623159,\n",
       " 643242,\n",
       " 662659,\n",
       " 682742,\n",
       " 702826,\n",
       " 722912,\n",
       " 742996,\n",
       " 763080,\n",
       " 783166,\n",
       " 803250,\n",
       " 822664,\n",
       " 842750,\n",
       " 862834,\n",
       " 882918,\n",
       " 903001,\n",
       " 923088,\n",
       " 943172,\n",
       " 963255,\n",
       " 982669,\n",
       " 1002756,\n",
       " 1022840,\n",
       " 1042924,\n",
       " 1063007,\n",
       " 1083094,\n",
       " 1103178,\n",
       " 1123262,\n",
       " 1142676,\n",
       " 1162762,\n",
       " 1182846,\n",
       " 1202930,\n",
       " 1223014,\n",
       " 1243098,\n",
       " 1263184,\n",
       " 1283268,\n",
       " 1302682,\n",
       " 1322766,\n",
       " 1342850,\n",
       " 1362937,\n",
       " 1383021,\n",
       " 1403105,\n",
       " 1423189,\n",
       " 1443273,\n",
       " 1462690,\n",
       " 1482774,\n",
       " 1502858,\n",
       " 1522942,\n",
       " 1543026,\n",
       " 1563112,\n",
       " 1583196,\n",
       " 1603280,\n",
       " 1622695,\n",
       " 1642779,\n",
       " 1662863,\n",
       " 1682949,\n",
       " 1703033,\n",
       " 1723117,\n",
       " 1743202,\n",
       " 1762616,\n",
       " 1782700,\n",
       " 1802787,\n",
       " 1822871,\n",
       " 1842955,\n",
       " 1863039,\n",
       " 1883123,\n",
       " 1903207,\n",
       " 1922624,\n",
       " 1942708,\n",
       " 1962792,\n",
       " 1982876,\n",
       " 2002960,\n",
       " 2023045,\n",
       " 2043129,\n",
       " 2063213,\n",
       " 2082630,\n",
       " 2102714,\n",
       " 2122798,\n",
       " 2142882,\n",
       " 2162966,\n",
       " 2183051,\n",
       " 2203135,\n",
       " 2223219,\n",
       " 2242636,\n",
       " 2262720,\n",
       " 2282804,\n",
       " 2302888,\n",
       " 2322973,\n",
       " 2343057,\n",
       " 2363141,\n",
       " 2383225,\n",
       " 2402642,\n",
       " 2422726,\n",
       " 2442811,\n",
       " 2462895,\n",
       " 2482979,\n",
       " 2503063,\n",
       " 2523147,\n",
       " 2543232,\n",
       " 2562646,\n",
       " 2582730,\n",
       " 2602817,\n",
       " 2622901,\n",
       " 2642986,\n",
       " 2663070,\n",
       " 2683154,\n",
       " 2703238,\n",
       " 2722653,\n",
       " 2742737,\n",
       " 2762821,\n",
       " 2782906,\n",
       " 2802990,\n",
       " 2823077,\n",
       " 2843161,\n",
       " 2863245,\n",
       " 2882660,\n",
       " 2902744,\n",
       " 2922828,\n",
       " 2942912,\n",
       " 2962997,\n",
       " 2983081,\n",
       " 3003165,\n",
       " 3023250,\n",
       " 3042667,\n",
       " 3062751,\n",
       " 3082835,\n",
       " 3102919,\n",
       " 3123004,\n",
       " 3143088,\n",
       " 3163172,\n",
       " 3183257,\n",
       " 3202671,\n",
       " 3222755,\n",
       " 3242840,\n",
       " 3262924,\n",
       " 3283008,\n",
       " 3303093,\n",
       " 3323177,\n",
       " 3343264,\n",
       " 3362678,\n",
       " 3382763,\n",
       " 3402847,\n",
       " 3422931,\n",
       " 3443016,\n",
       " 3463100,\n",
       " 3483184,\n",
       " 3503269,\n",
       " 3522683,\n",
       " 3542767,\n",
       " 3562852,\n",
       " 3582936,\n",
       " 3603021,\n",
       " 3623105,\n",
       " 3643192,\n",
       " 3663276,\n",
       " 3682691,\n",
       " 3702775,\n",
       " 3722859,\n",
       " 3742944,\n",
       " 3763028,\n",
       " 3783112,\n",
       " 3803197,\n",
       " 3823281,\n",
       " 3842696,\n",
       " 3862780,\n",
       " 3882864,\n",
       " 3902949,\n",
       " 3923033,\n",
       " 3943117,\n",
       " 3963202,\n",
       " 3982619,\n",
       " 4002703,\n",
       " 4022788,\n",
       " 4042872,\n",
       " 4062956,\n",
       " 4083041,\n",
       " 4103125,\n",
       " 4123209,\n",
       " 4142624,\n",
       " 4162708,\n",
       " 4182793,\n",
       " 4202877,\n",
       " 4222962,\n",
       " 4243046,\n",
       " 4263130,\n",
       " 4283215,\n",
       " 4302629,\n",
       " 4322714]"
      ]
     },
     "execution_count": 11,
     "metadata": {},
     "output_type": "execute_result"
    }
   ],
   "source": [
    "paq = paq_read(paq_path)\n",
    "stim_frames = stim_start_frame(paq, 'markpoints2packio')\n",
    "frame_clock = paq_data(paq, 'frame_clock', threshold_ttl=True)\n",
    "stim_frames"
   ]
  },
  {
   "cell_type": "code",
   "execution_count": 12,
   "metadata": {
    "collapsed": true
   },
   "outputs": [],
   "source": [
    "duration_ms = 250 #length of stim\n",
    "duration_samples = (duration_ms / 1000) * paq['rate']"
   ]
  },
  {
   "cell_type": "code",
   "execution_count": 13,
   "metadata": {},
   "outputs": [],
   "source": [
    "#use this to remove frames during stim based on paq\n",
    "to_remove = []\n",
    "\n",
    "for stim_frame in stim_frames: \n",
    "\n",
    "    # frame indexes that fall during the stim\n",
    "    in_stim = np.where((frame_clock >= stim_frame) & (frame_clock <= stim_frame + duration_samples))[0]\n",
    "    \n",
    "    #empircal observation, these are the frames with artifact\n",
    "    in_stim = np.append(in_stim, in_stim[-1]+1)\n",
    "    in_stim = np.append(in_stim, in_stim[-1]+1)\n",
    "    \n",
    "    to_remove.append(in_stim)\n",
    "\n",
    "to_remove = np.ravel(to_remove)"
   ]
  },
  {
   "cell_type": "code",
   "execution_count": 14,
   "metadata": {},
   "outputs": [],
   "source": [
    "# stack[to_remove, :, :] = 0\n",
    "# tifffile.imwrite('test.tiff', stack)"
   ]
  },
  {
   "cell_type": "code",
   "execution_count": 15,
   "metadata": {},
   "outputs": [
    {
     "data": {
      "text/plain": [
       "72.60886240005493"
      ]
     },
     "execution_count": 15,
     "metadata": {},
     "output_type": "execute_result"
    }
   ],
   "source": [
    "t1 = time.time()\n",
    "\n",
    "to_remove = [i for i in to_remove if i < stack.shape[0]]\n",
    "\n",
    "stack_removed = artifact_removal(stack, remove_me=to_remove, width_thresh=5)\n",
    "\n",
    "t2 = time.time()\n",
    "\n",
    "t2-t1"
   ]
  },
  {
   "cell_type": "code",
   "execution_count": 16,
   "metadata": {
    "collapsed": true
   },
   "outputs": [],
   "source": [
    "\n",
    "tifffile.imwrite('test_removed.tiff', stack_removed)\n",
    "tifffile.imwrite('test.tiff', stack_original)"
   ]
  },
  {
   "cell_type": "code",
   "execution_count": 92,
   "metadata": {},
   "outputs": [
    {
     "data": {
      "text/plain": [
       "130"
      ]
     },
     "execution_count": 92,
     "metadata": {},
     "output_type": "execute_result"
    }
   ],
   "source": [
    "len(to_remove)"
   ]
  },
  {
   "cell_type": "code",
   "execution_count": 93,
   "metadata": {},
   "outputs": [
    {
     "data": {
      "text/plain": [
       "[115,\n",
       " 116,\n",
       " 117,\n",
       " 118,\n",
       " 119,\n",
       " 120,\n",
       " 121,\n",
       " 122,\n",
       " 123,\n",
       " 124,\n",
       " 145,\n",
       " 146,\n",
       " 147,\n",
       " 148,\n",
       " 149,\n",
       " 150,\n",
       " 151,\n",
       " 152,\n",
       " 153,\n",
       " 154,\n",
       " 175,\n",
       " 176,\n",
       " 177,\n",
       " 178,\n",
       " 179,\n",
       " 180,\n",
       " 181,\n",
       " 182,\n",
       " 183,\n",
       " 184,\n",
       " 205,\n",
       " 206,\n",
       " 207,\n",
       " 208,\n",
       " 209,\n",
       " 210,\n",
       " 211,\n",
       " 212,\n",
       " 213,\n",
       " 214,\n",
       " 235,\n",
       " 236,\n",
       " 237,\n",
       " 238,\n",
       " 239,\n",
       " 240,\n",
       " 241,\n",
       " 242,\n",
       " 243,\n",
       " 244,\n",
       " 265,\n",
       " 266,\n",
       " 267,\n",
       " 268,\n",
       " 269,\n",
       " 270,\n",
       " 271,\n",
       " 272,\n",
       " 273,\n",
       " 274,\n",
       " 295,\n",
       " 296,\n",
       " 297,\n",
       " 298,\n",
       " 299,\n",
       " 300,\n",
       " 301,\n",
       " 302,\n",
       " 303,\n",
       " 304,\n",
       " 324,\n",
       " 325,\n",
       " 326,\n",
       " 327,\n",
       " 328,\n",
       " 329,\n",
       " 330,\n",
       " 331,\n",
       " 332,\n",
       " 333,\n",
       " 354,\n",
       " 355,\n",
       " 356,\n",
       " 357,\n",
       " 358,\n",
       " 359,\n",
       " 360,\n",
       " 361,\n",
       " 362,\n",
       " 363,\n",
       " 384,\n",
       " 385,\n",
       " 386,\n",
       " 387,\n",
       " 388,\n",
       " 389,\n",
       " 390,\n",
       " 391,\n",
       " 392,\n",
       " 393,\n",
       " 414,\n",
       " 415,\n",
       " 416,\n",
       " 417,\n",
       " 418,\n",
       " 419,\n",
       " 420,\n",
       " 421,\n",
       " 422,\n",
       " 423,\n",
       " 444,\n",
       " 445,\n",
       " 446,\n",
       " 447,\n",
       " 448,\n",
       " 449,\n",
       " 450,\n",
       " 451,\n",
       " 452,\n",
       " 453,\n",
       " 474,\n",
       " 475,\n",
       " 476,\n",
       " 477,\n",
       " 478,\n",
       " 479,\n",
       " 480,\n",
       " 481,\n",
       " 482,\n",
       " 483]"
      ]
     },
     "execution_count": 93,
     "metadata": {},
     "output_type": "execute_result"
    }
   ],
   "source": [
    "to_remove "
   ]
  },
  {
   "cell_type": "code",
   "execution_count": null,
   "metadata": {
    "collapsed": true
   },
   "outputs": [],
   "source": [
    "from artifact_removal import artifact_removal\n",
    "import tifffile\n",
    "\n",
    "stack = tifffile.imread(path_to_stack)\n",
    "remove_me = list_of_frames_with_artifact_in\n",
    "\n",
    "cleaned_stack = artifact_removal(stack, remove_me=remove_me, width_thresh=5)\n"
   ]
  },
  {
   "cell_type": "code",
   "execution_count": null,
   "metadata": {
    "collapsed": true
   },
   "outputs": [],
   "source": []
  },
  {
   "cell_type": "code",
   "execution_count": null,
   "metadata": {
    "collapsed": true
   },
   "outputs": [],
   "source": []
  },
  {
   "cell_type": "code",
   "execution_count": null,
   "metadata": {
    "collapsed": true
   },
   "outputs": [],
   "source": []
  },
  {
   "cell_type": "code",
   "execution_count": 94,
   "metadata": {},
   "outputs": [
    {
     "data": {
      "text/plain": [
       "120.0"
      ]
     },
     "execution_count": 94,
     "metadata": {},
     "output_type": "execute_result"
    }
   ],
   "source": [
    "(60/500) * 1000"
   ]
  }
 ],
 "metadata": {
  "kernelspec": {
   "display_name": "Python 3",
   "language": "python",
   "name": "python3"
  },
  "language_info": {
   "codemirror_mode": {
    "name": "ipython",
    "version": 3
   },
   "file_extension": ".py",
   "mimetype": "text/x-python",
   "name": "python",
   "nbconvert_exporter": "python",
   "pygments_lexer": "ipython3",
   "version": "3.6.3"
  }
 },
 "nbformat": 4,
 "nbformat_minor": 2
}
