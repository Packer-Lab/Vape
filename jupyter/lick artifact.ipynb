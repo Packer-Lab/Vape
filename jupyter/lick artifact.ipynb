{
 "cells": [
  {
   "cell_type": "code",
   "execution_count": 2,
   "metadata": {},
   "outputs": [],
   "source": [
    "%matplotlib inline"
   ]
  },
  {
   "cell_type": "code",
   "execution_count": 33,
   "metadata": {},
   "outputs": [
    {
     "name": "stdout",
     "output_type": "stream",
     "text": [
      "The autoreload extension is already loaded. To reload it, use:\n",
      "  %reload_ext autoreload\n"
     ]
    }
   ],
   "source": [
    "%run ./setup_notebook.ipynb"
   ]
  },
  {
   "cell_type": "code",
   "execution_count": 4,
   "metadata": {},
   "outputs": [],
   "source": [
    "# notebook specific imports\n",
    "import pickle\n",
    "import gsheets_importer\n",
    "import math\n",
    "from scipy import stats\n",
    "import time\n",
    "import random\n",
    "import warnings"
   ]
  },
  {
   "cell_type": "code",
   "execution_count": 5,
   "metadata": {},
   "outputs": [],
   "source": [
    "packerstation_path = '/home/jamesrowland/Documents/packerstation/jrowland/Data'\n",
    "pkl_path = '/home/jamesrowland/Documents/Code/Vape/run_pkls/RL048/run24.pkl'\n",
    "\n",
    "with open(pkl_path, 'rb') as f:\n",
    "    run = pickle.load(f)"
   ]
  },
  {
   "cell_type": "code",
   "execution_count": 46,
   "metadata": {},
   "outputs": [],
   "source": [
    "figure_path = '/home/jamesrowland/Documents/Code/Vape/figures/s1s2_imaging_subsets_prototype'"
   ]
  },
  {
   "cell_type": "code",
   "execution_count": 6,
   "metadata": {},
   "outputs": [],
   "source": [
    "#s2p_path = packerstation_path + run.s2p_path.split('Data')[1]\n",
    "s2p_path = '/home/jamesrowland/Documents/packerstation/jrowland/Data/2019-08-03/2019-08-03_RL048_t-004/suite2p'"
   ]
  },
  {
   "cell_type": "code",
   "execution_count": 58,
   "metadata": {
    "scrolled": true
   },
   "outputs": [
    {
     "name": "stdout",
     "output_type": "stream",
     "text": [
      "Loading 1387 traces labelled as cells\n",
      "Subtracting neuropil with a coefficient of 0.7\n"
     ]
    },
    {
     "data": {
      "text/plain": [
       "(1387, 17958)"
      ]
     },
     "execution_count": 58,
     "metadata": {},
     "output_type": "execute_result"
    }
   ],
   "source": [
    "plane1_path = os.path.join(s2p_path, 'plane0')\n",
    "\n",
    "flu, spks, stat = utils.s2p_loader(plane1_path)\n",
    "flu = utils.dfof2(flu)\n",
    "n_cells = flu.shape[0]\n",
    "fs = 5 # imaging samping rate (read this from suite2p in the future)\n",
    "flu.shape"
   ]
  },
  {
   "cell_type": "code",
   "execution_count": 59,
   "metadata": {},
   "outputs": [
    {
     "data": {
      "text/plain": [
       "2458"
      ]
     },
     "execution_count": 59,
     "metadata": {},
     "output_type": "execute_result"
    }
   ],
   "source": [
    "from numpy import unravel_index\n",
    "idx = unravel_index(flu.argmax(), flu.shape)\n",
    "stat[idx[0]]['original_index']"
   ]
  },
  {
   "cell_type": "code",
   "execution_count": 60,
   "metadata": {},
   "outputs": [
    {
     "data": {
      "text/plain": [
       "1855.293"
      ]
     },
     "execution_count": 60,
     "metadata": {},
     "output_type": "execute_result"
    }
   ],
   "source": [
    "np.max(spks)"
   ]
  },
  {
   "cell_type": "code",
   "execution_count": 8,
   "metadata": {},
   "outputs": [
    {
     "data": {
      "text/plain": [
       "42501"
      ]
     },
     "execution_count": 8,
     "metadata": {},
     "output_type": "execute_result"
    }
   ],
   "source": [
    "# the lengths of the actual tseries\n",
    "tseries_lens = run.num_frames\n",
    "# get the frame ttls recorded in paqio that actually correspond to analysed tseries\n",
    "paqio_frames = utils.tseries_finder(tseries_lens, run.frame_clock)\n",
    "len(paqio_frames)"
   ]
  },
  {
   "cell_type": "code",
   "execution_count": 9,
   "metadata": {},
   "outputs": [
    {
     "data": {
      "text/plain": [
       "42500"
      ]
     },
     "execution_count": 9,
     "metadata": {},
     "output_type": "execute_result"
    }
   ],
   "source": [
    "# the final one was not fully paqqed\n",
    "flu.shape[1] * 3 - tseries_lens[-1]"
   ]
  },
  {
   "cell_type": "code",
   "execution_count": 10,
   "metadata": {},
   "outputs": [
    {
     "data": {
      "text/plain": [
       "42501"
      ]
     },
     "execution_count": 10,
     "metadata": {},
     "output_type": "execute_result"
    }
   ],
   "source": [
    "sum(tseries_lens[0:-1])"
   ]
  },
  {
   "cell_type": "code",
   "execution_count": 11,
   "metadata": {},
   "outputs": [],
   "source": [
    "# convert paqio recorded frames to pycontrol ms\n",
    "frames_ms = run.prereward_aligner.B_to_A(paqio_frames)"
   ]
  },
  {
   "cell_type": "code",
   "execution_count": 12,
   "metadata": {},
   "outputs": [],
   "source": [
    "lick_start_frames = utils.stim_start_frame(frame_clock=frames_ms,stim_times=run.pre_licks)\n",
    "lick_idx = [i for i, f in enumerate(frames_ms) if f in lick_start_frames]\n",
    "\n",
    "lick_frame_bool = np.repeat(False, len(frames_ms))\n",
    "lick_frame_bool[lick_idx] = True"
   ]
  },
  {
   "cell_type": "code",
   "execution_count": 13,
   "metadata": {},
   "outputs": [
    {
     "data": {
      "text/plain": [
       "(1536, 430)"
      ]
     },
     "execution_count": 13,
     "metadata": {},
     "output_type": "execute_result"
    }
   ],
   "source": [
    "preframes_idx = np.argwhere(~np.isnan(frames_ms))\n",
    "preflu = np.squeeze(flu[:,preframes_idx])\n",
    "preflu = preflu[:, 1::3] # for plane 1\n",
    "\n",
    "preframes_ms = np.squeeze(frames_ms[preframes_idx])\n",
    "preframes_ms = preframes_ms[1::3] # for plane 1\n",
    "\n",
    "licks = run.pre_licks\n",
    "\n",
    "preflu.shape"
   ]
  },
  {
   "cell_type": "code",
   "execution_count": 14,
   "metadata": {},
   "outputs": [
    {
     "data": {
      "image/png": "[encoded data removed]",
      "text/plain": [
       "<Figure size 432x288 with 1 Axes>"
      ]
     },
     "metadata": {},
     "output_type": "display_data"
    }
   ],
   "source": [
    "bin_size_ms = 1000\n",
    "plt.figure()\n",
    "lick_hist = plt.hist(licks, bins=range(0,max(licks)+bin_size_ms,bin_size_ms))"
   ]
  },
  {
   "cell_type": "code",
   "execution_count": 15,
   "metadata": {},
   "outputs": [
    {
     "data": {
      "text/plain": [
       "array([    0,  9000, 16000, 20000, 28000, 39000, 50000, 58000, 66000,\n",
       "       70000, 79000, 90000])"
      ]
     },
     "execution_count": 15,
     "metadata": {},
     "output_type": "execute_result"
    }
   ],
   "source": [
    "onset_bin_ms = utils.threshold_detect(lick_hist[0], 0.5) * bin_size_ms\n",
    "onset_bin_ms"
   ]
  },
  {
   "cell_type": "code",
   "execution_count": 16,
   "metadata": {},
   "outputs": [],
   "source": [
    "first_lick_bin = [min(licks, key=lambda x:abs(x-ms)) for ms in onset_bin_ms]\n",
    "frame_lick_idx = [utils.closest_frame_before(preframes_ms, lick) for lick in first_lick_bin]"
   ]
  },
  {
   "cell_type": "code",
   "execution_count": 17,
   "metadata": {},
   "outputs": [],
   "source": [
    "%%capture\n",
    "\n",
    "mean_flu = np.mean(preflu, 0)\n",
    "\n",
    "n_frames_plot = 5\n",
    "\n",
    "x_axis = np.linspace(-n_frames_plot, n_frames_plot, 2*n_frames_plot)\n",
    "\n",
    "plt.figure(figsize=(16,16))           \n",
    "             \n",
    "for i, idx in enumerate(frame_lick_idx):\n",
    "    \n",
    "    plt.subplot(5, int(np.ceil(len(frame_lick_idx)/5)), i+1)\n",
    "    \n",
    "    if idx <= n_frames_plot or idx + n_frames_plot > len(mean_flu):\n",
    "        continue\n",
    "        \n",
    "    pre = mean_flu[idx-n_frames_plot:idx]\n",
    "    post = mean_flu[idx:idx+n_frames_plot]\n",
    "    \n",
    "    utils.raster_plot((licks - preframes_ms[idx]) / 1000, y_pos=0, marker='.', color='red')\n",
    "    \n",
    "    plt.plot(x_axis, np.hstack((pre, post)))\n",
    "    plt.ylim((-0.1,0.7))\n",
    "    plt.xlim((min(x_axis), max(x_axis)))\n",
    "    "
   ]
  },
  {
   "cell_type": "code",
   "execution_count": 41,
   "metadata": {},
   "outputs": [
    {
     "name": "stdout",
     "output_type": "stream",
     "text": [
      "-0.022085693\n",
      "-0.06858599\n"
     ]
    }
   ],
   "source": [
    "# meaned bulk trial fluoresence\n",
    "lick_flu = []\n",
    "spont_flu = []\n",
    "\n",
    "trial_len = 5\n",
    "\n",
    "mean_flu_all = np.mean(flu,0)\n",
    "\n",
    "final_pre_frame = max(np.ravel(preframes_idx))\n",
    "\n",
    "for idx in frame_lick_idx:\n",
    "    \n",
    "    if idx+trial_len >= len(mean_flu): continue\n",
    "    \n",
    "    [lick_flu.append(f) for f in mean_flu[idx:idx+trial_len]]\n",
    "    \n",
    "    tstart_spont = idx+final_pre_frame\n",
    "    [spont_flu.append(f) for f in mean_flu_all[tstart_spont:tstart_spont+trial_len]]\n",
    "\n",
    "print(np.mean(lick_flu))\n",
    "print(np.mean(spont_flu))\n",
    "\n",
    "\n",
    "np.save('/home/jamesrowland/Documents/Code/Vape/lick_flu.npy', lick_flu)\n",
    "np.save('/home/jamesrowland/Documents/Code/Vape/spont_flu.npy', spont_flu)\n",
    "\n"
   ]
  },
  {
   "cell_type": "code",
   "execution_count": 47,
   "metadata": {},
   "outputs": [
    {
     "data": {
      "image/png": "[encoded data removed]",
      "text/plain": [
       "<Figure size 432x288 with 1 Axes>"
      ]
     },
     "metadata": {},
     "output_type": "display_data"
    }
   ],
   "source": [
    "b = plt.boxplot([lick_flu, spont_flu], positions=[1,2], \n",
    "                labels=['Licking Trial', 'Spontaneous Trial'],\n",
    "                showfliers=False)\n",
    "\n",
    "l = plt.ylabel(r'$\\Delta $F/F')\n",
    "plt.savefig(os.path.join(figure_path, 'lick_boxes.png'), bbox_inches='tight')"
   ]
  },
  {
   "cell_type": "code",
   "execution_count": 24,
   "metadata": {},
   "outputs": [
    {
     "name": "stdout",
     "output_type": "stream",
     "text": [
      "0\n",
      "46\n",
      "81\n",
      "100\n",
      "144\n",
      "197\n",
      "251\n",
      "294\n",
      "333\n",
      "351\n",
      "396\n"
     ]
    }
   ],
   "source": [
    "# all flu vales\n",
    "\n",
    "lick_flu = []\n",
    "spont_flu = []\n",
    "\n",
    "for idx in frame_lick_idx:\n",
    "    \n",
    "    if idx+trial_len >= len(mean_flu): continue\n",
    "        \n",
    "    [lick_flu.append(f) for f in mean_flu[idx:idx+trial_len]]\n",
    "        \n",
    "    \n",
    "    \n",
    "    print(idx)    \n"
   ]
  },
  {
   "cell_type": "code",
   "execution_count": 99,
   "metadata": {},
   "outputs": [
    {
     "data": {
      "text/plain": [
       "-0.021239974"
      ]
     },
     "execution_count": 99,
     "metadata": {},
     "output_type": "execute_result"
    }
   ],
   "source": [
    "np.mean(lick_flu)"
   ]
  },
  {
   "cell_type": "code",
   "execution_count": 80,
   "metadata": {},
   "outputs": [
    {
     "data": {
      "text/plain": [
       "9264"
      ]
     },
     "execution_count": 80,
     "metadata": {},
     "output_type": "execute_result"
    }
   ],
   "source": [
    "idx = np.ravel(frame_lick_idx)[1]\n",
    "\n",
    "\n",
    "idx+ max(np.ravel(preframes_idx))"
   ]
  },
  {
   "cell_type": "code",
   "execution_count": 88,
   "metadata": {},
   "outputs": [
    {
     "data": {
      "text/plain": [
       "array([9218])"
      ]
     },
     "execution_count": 88,
     "metadata": {},
     "output_type": "execute_result"
    }
   ],
   "source": [
    "max(preframes_idx)"
   ]
  },
  {
   "cell_type": "code",
   "execution_count": 76,
   "metadata": {},
   "outputs": [
    {
     "data": {
      "text/plain": [
       "array([9274])"
      ]
     },
     "execution_count": 76,
     "metadata": {},
     "output_type": "execute_result"
    }
   ],
   "source": [
    "idx+trial_len+max(preframes_idx)"
   ]
  },
  {
   "cell_type": "code",
   "execution_count": 79,
   "metadata": {},
   "outputs": [],
   "source": [
    "def test_responsive(flu, frame_clock, stim_times, pre_frames = 10, post_frames = 10, offset=0):\n",
    "\n",
    "    n_frames = flu.shape[1]\n",
    "\n",
    "    pre_idx = np.repeat(False, n_frames)\n",
    "    post_idx = np.repeat(False, n_frames)\n",
    "    # keep track of the previous stim frame to warn against overlap\n",
    "    prev_frame = 0\n",
    "                      \n",
    "    for i, stim_time in enumerate(stim_times):\n",
    "\n",
    "        stim_frame = utils.closest_frame_before(frame_clock, stim_time) \n",
    "\n",
    "        if stim_frame-pre_frames <= 0 or stim_frame+post_frames+offset >= n_frames:\n",
    "            continue\n",
    "        elif stim_frame - pre_frames <= prev_frame:\n",
    "            print('WARNING: STA for stim number {} '\n",
    "                  'overlaps with the previous stim '\n",
    "                  'pre and post arrays can not be '\n",
    "                  'reshaped to trial by trial'\n",
    "                  .format(i))\n",
    "                   \n",
    "        prev_frame = stim_frame\n",
    "              \n",
    "        pre_idx[stim_frame-pre_frames : stim_frame] = True\n",
    "        post_idx[stim_frame+offset : stim_frame+post_frames+offset] = True\n",
    "        \n",
    "\n",
    "    pre = flu[:, pre_idx]\n",
    "    post = flu[:, post_idx]\n",
    "\n",
    "    _, pvals = stats.ttest_ind(pre, post, axis=1)\n",
    "\n",
    "    return pre, post, pvals"
   ]
  },
  {
   "cell_type": "code",
   "execution_count": 80,
   "metadata": {},
   "outputs": [
    {
     "name": "stdout",
     "output_type": "stream",
     "text": [
      "0.02272868\n"
     ]
    }
   ],
   "source": [
    "pre_frames = 5\n",
    "post_frames = 5\n",
    "\n",
    "pre, post, pvals = test_responsive(preflu, preframes_ms, first_lick_bin, pre_frames, post_frames, offset=5)\n",
    "\n",
    "print(np.mean(post.ravel()) - np.mean(pre.ravel()))\n",
    "\n",
    "\n",
    "pre = np.reshape(pre, (pre.shape[0], pre_frames, int(pre.shape[1]/pre_frames)))\n",
    "post = np.reshape(post, (post.shape[0], post_frames, int(post.shape[1]/post_frames)))\n",
    "\n",
    "assert pre.shape == post.shape\n",
    "n_trials = pre.shape[2]\n",
    "mean_pre = np.mean(pre, 2)\n",
    "mean_post = np.mean(post, 2)\n",
    "\n",
    "\n",
    "\n"
   ]
  },
  {
   "cell_type": "code",
   "execution_count": 35,
   "metadata": {},
   "outputs": [
    {
     "name": "stdout",
     "output_type": "stream",
     "text": [
      "162\n"
     ]
    },
    {
     "data": {
      "image/png": "[encoded data removed]",
      "text/plain": [
       "<Figure size 432x288 with 1 Axes>"
      ]
     },
     "metadata": {},
     "output_type": "display_data"
    }
   ],
   "source": [
    "cell_idx = random.choice(np.where(pvals < 0.05)[0])\n",
    "cell_idx = 162\n",
    "print(cell_idx)\n",
    "save_path = '/home/jamesrowland/Documents/Code/Vape/figures/lick_stas'\n",
    "# add one so t=0 is at the final point of the pre period \n",
    "x_axis = np.arange(-pre_frames, post_frames) / fs + 1/fs\n",
    "for trial in range(n_trials):\n",
    "    \n",
    "    plt.plot(x_axis,\n",
    "             np.hstack((pre[cell_idx, :, trial], post[cell_idx, :, trial])),\n",
    "             color='grey', alpha=0.15) \n",
    "    \n",
    "    plt.axvline(x=0, linewidth=5, marker='d',linestyle=':', color='pink')\n",
    "    plt.text(0.05,1,'Lick Bout Onset',rotation=10, color='pink')\n",
    "    plt.plot(x_axis, np.hstack((mean_pre[cell_idx, :], mean_post[cell_idx, :])), linewidth=2.5)\n",
    "    plt.ylim(-1,1)\n",
    "    plt.xlabel('Time (Seconds)')\n",
    "    plt.ylabel(r'$\\Delta $F/F')\n",
    "    plt.savefig(os.path.join(save_path, 'lickSTA_cell{}.png'.format(cell_idx)), bbox_inches=\"tight\")"
   ]
  },
  {
   "cell_type": "code",
   "execution_count": 20,
   "metadata": {},
   "outputs": [],
   "source": [
    "# correlations\n",
    "\n",
    "\n",
    "\n",
    "\n"
   ]
  },
  {
   "cell_type": "code",
   "execution_count": null,
   "metadata": {},
   "outputs": [],
   "source": []
  },
  {
   "cell_type": "code",
   "execution_count": null,
   "metadata": {},
   "outputs": [],
   "source": []
  },
  {
   "cell_type": "code",
   "execution_count": null,
   "metadata": {},
   "outputs": [],
   "source": []
  },
  {
   "cell_type": "code",
   "execution_count": null,
   "metadata": {},
   "outputs": [],
   "source": []
  },
  {
   "cell_type": "code",
   "execution_count": null,
   "metadata": {},
   "outputs": [],
   "source": []
  },
  {
   "cell_type": "code",
   "execution_count": null,
   "metadata": {},
   "outputs": [],
   "source": []
  }
 ],
 "metadata": {
  "kernelspec": {
   "display_name": "Python 3",
   "language": "python",
   "name": "python3"
  },
  "language_info": {
   "codemirror_mode": {
    "name": "ipython",
    "version": 3
   },
   "file_extension": ".py",
   "mimetype": "text/x-python",
   "name": "python",
   "nbconvert_exporter": "python",
   "pygments_lexer": "ipython3",
   "version": "3.7.3"
  }
 },
 "nbformat": 4,
 "nbformat_minor": 2
}
