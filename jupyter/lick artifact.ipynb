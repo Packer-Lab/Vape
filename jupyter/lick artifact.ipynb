{
 "cells": [
  {
   "cell_type": "code",
   "execution_count": 1,
   "metadata": {},
   "outputs": [],
   "source": [
    "%matplotlib inline"
   ]
  },
  {
   "cell_type": "code",
   "execution_count": 3,
   "metadata": {
    "scrolled": true
   },
   "outputs": [
    {
     "name": "stdout",
     "output_type": "stream",
     "text": [
      "The autoreload extension is already loaded. To reload it, use:\n",
      "  %reload_ext autoreload\n"
     ]
    }
   ],
   "source": [
    "%run ./setup_notebook.ipynb"
   ]
  },
  {
   "cell_type": "code",
   "execution_count": 4,
   "metadata": {},
   "outputs": [],
   "source": [
    "# notebook specific imports\n",
    "import pickle\n",
    "import copy\n",
    "import utils.utils_funcs as utils\n",
    "import run_functions as rf\n",
    "import math\n",
    "from subsets_analysis import Subsets\n",
    "from scipy import signal\n",
    "import random\n",
    "import more_itertools as mit\n",
    "from scipy.ndimage import gaussian_filter\n",
    "from scipy import stats"
   ]
  },
  {
   "cell_type": "code",
   "execution_count": 5,
   "metadata": {},
   "outputs": [
    {
     "name": "stderr",
     "output_type": "stream",
     "text": [
      "Using TensorFlow backend.\n"
     ]
    }
   ],
   "source": [
    "from sklearn.model_selection import KFold\n",
    "from sklearn.model_selection import ShuffleSplit\n",
    "from sklearn.model_selection import cross_val_score\n",
    "from sklearn.metrics import confusion_matrix\n",
    "from sklearn.preprocessing import StandardScaler, MinMaxScaler\n",
    "from sklearn.linear_model import LinearRegression\n",
    "from sklearn.metrics import r2_score\n",
    "\n",
    "from keras.preprocessing import sequence\n",
    "import tensorflow as tf\n",
    "from keras.models import Sequential\n",
    "from keras.layers import Dense\n",
    "from keras.layers import LSTM\n",
    "from keras.optimizers import Adam\n",
    "from keras.models import load_model\n",
    "from keras.callbacks import ModelCheckpoint\n",
    "from sklearn.metrics import accuracy_score"
   ]
  },
  {
   "cell_type": "code",
   "execution_count": 6,
   "metadata": {},
   "outputs": [],
   "source": [
    "run_dict = {\n",
    "            'J048' : [27, 29, 30, 32], \n",
    "            'RL048': [23, 24, 25, 28, 29]\n",
    "           }"
   ]
  },
  {
   "cell_type": "code",
   "execution_count": 7,
   "metadata": {},
   "outputs": [],
   "source": [
    "pkl_path = '/home/jamesrowland/Documents/Code/Vape/run_pkls/'\n",
    "\n",
    "runs = []\n",
    "for mouse in run_dict:\n",
    "    for run_number in run_dict[mouse]:\n",
    "        run_path = os.path.join(pkl_path, mouse, 'run{}.pkl'.format(run_number))\n",
    "        with open(run_path, 'rb') as f:\n",
    "            r = pickle.load(f)\n",
    "            runs.append(r)"
   ]
  },
  {
   "cell_type": "code",
   "execution_count": 8,
   "metadata": {},
   "outputs": [
    {
     "data": {
      "text/plain": [
       "dict_keys(['mouse_id', 'df', 'rows_2p', 'rows_1p', 'dates_2p', 'paqs', 'naparm_folders', 'blimp_folders', 'pycontrol_folders', 'prereward_folders', 'tseries_folders', 'plane_numbers', 'run_pycontrol_txt', 'num_planes', 'blimp_path', 'naparm_path', 'pycontrol_path', 'paq_path', 'prereward_path', 'tseries_paths', 'align_barcode', 'trial_info', 'session', 'print_lines', 'trial_time', 'outcome', 'slm_barcode', 'slm_trial_number', 'nogo_barcode', 'nogo_trial_number', 'alltrials_barcodes', 'rsync', 'trial_start', 'paq_rsync', 'frame_clock', 'x_galvo_uncaging', 'slm2packio', 'paq_rate', 'aligner', 'paq_correct', 'pre_rsync', 'pre_licks', 'pre_reward', 'prereward_aligner', 'both_aligner', 'num_frames', 's2p_path', 'flu_raw', 'frames_ms', 'frames_ms_pre', 'flu', 'spks', 'stat'])"
      ]
     },
     "execution_count": 8,
     "metadata": {},
     "output_type": "execute_result"
    }
   ],
   "source": [
    "runs[0].__dict__.keys()"
   ]
  },
  {
   "cell_type": "code",
   "execution_count": 9,
   "metadata": {},
   "outputs": [
    {
     "data": {
      "text/plain": [
       "4"
      ]
     },
     "execution_count": 9,
     "metadata": {},
     "output_type": "execute_result"
    }
   ],
   "source": [
    "# how many frames before and after the onset of lick trial to include in the kernal\n",
    "pre_frames  = 5\n",
    "post_frames = 9\n",
    "fs = 5  # frame rate / plane\n",
    "\n",
    "# empirally observed that 1.4 seconds after onset the artifact has gone for 150 cell trials\n",
    "# offset = math.ceil(1.4*fs)\n",
    "\n",
    "# empirally observed that offset = 4 for non-150 cell stims\n",
    "offset = 4\n",
    "\n",
    "n_sessions = len(runs)\n",
    "np.mean = np.nanmean  # lots of nans to deal with here\n",
    "\n",
    "offset"
   ]
  },
  {
   "cell_type": "code",
   "execution_count": 10,
   "metadata": {},
   "outputs": [],
   "source": [
    "runs = [rf.filter_unhealthy_cells(run) for run in runs]\n",
    "runs = [utils.lick_binner(run) for run in runs]\n",
    "runs_s2 = [rf.select_s2(run) for run in copy.deepcopy(runs)]"
   ]
  },
  {
   "cell_type": "code",
   "execution_count": 19,
   "metadata": {},
   "outputs": [],
   "source": [
    "behaviour_list = [utils.build_flu_array(run, run.trial_start, pre_frames, post_frames)\n",
    "                  for run in runs]\n",
    "\n",
    "behaviour_list_s2 = [utils.build_flu_array(run, run.trial_start, pre_frames, post_frames)\n",
    "                     for run in runs_s2]"
   ]
  },
  {
   "cell_type": "code",
   "execution_count": null,
   "metadata": {
    "scrolled": true
   },
   "outputs": [],
   "source": [
    "# # plot the average traces for go trials without easy stim\n",
    "# test_filter = [np.where((Subsets(run).trial_subsets != 150)&(Subsets(run).trial_subsets!=0))[0]\n",
    "#                for run in runs]\n",
    "\n",
    "# _,_,_,_ = utils.averager(behaviour_list, pre_frames=pre_frames, post_frames=post_frames, \n",
    "#                  trial_filter=test_filter, offset=offset, plot=True)"
   ]
  },
  {
   "cell_type": "code",
   "execution_count": 25,
   "metadata": {},
   "outputs": [
    {
     "data": {
      "image/png": "[encoded data removed]",
      "text/plain": [
       "<Figure size 432x288 with 1 Axes>"
      ]
     },
     "metadata": {},
     "output_type": "display_data"
    }
   ],
   "source": [
    "hit_diffs, miss_diffs = rf.subsets_diff_plotter(runs_s2, behaviour_list_s2, True)"
   ]
  },
  {
   "cell_type": "code",
   "execution_count": 24,
   "metadata": {},
   "outputs": [
    {
     "data": {
      "text/plain": [
       "Text(0.5, 1.0, 'Trials where animals performing well')"
      ]
     },
     "execution_count": 24,
     "metadata": {},
     "output_type": "execute_result"
    },
    {
     "data": {
      "image/png": "[encoded data removed]",
      "text/plain": [
       "<Figure size 432x288 with 1 Axes>"
      ]
     },
     "metadata": {},
     "output_type": "display_data"
    }
   ],
   "source": [
    "plt.bar([0,1],[np.nanmean(hit_diffs), \n",
    "               np.mean(miss_diffs)], yerr=[np.nanstd(hit_diffs), np.nanstd(miss_diffs)])\n",
    "\n",
    "plt.ylabel(r'Mean $\\Delta $F/F Jump Post-Pre')\n",
    "\n",
    "#plt.ylim((-0.02, 0.02))\n",
    "plt.xticks([0,1], ['Hit Trials', 'Miss Trials'])\n",
    "plt.title('Trials where animals performing well')"
   ]
  },
  {
   "cell_type": "code",
   "execution_count": null,
   "metadata": {},
   "outputs": [],
   "source": [
    "1/0"
   ]
  },
  {
   "cell_type": "code",
   "execution_count": null,
   "metadata": {},
   "outputs": [],
   "source": []
  },
  {
   "cell_type": "code",
   "execution_count": null,
   "metadata": {},
   "outputs": [],
   "source": []
  },
  {
   "cell_type": "code",
   "execution_count": null,
   "metadata": {},
   "outputs": [],
   "source": []
  },
  {
   "cell_type": "code",
   "execution_count": null,
   "metadata": {},
   "outputs": [],
   "source": [
    "# which cells contribute most the above plot?\n",
    "hit_trials =  [intersect(np.where((run.outcome=='hit') & (Subsets(run).trial_subsets!=150))[0],\n",
    "                         rf.good_trials(run))\n",
    "               for run in runs]\n",
    "\n",
    "miss_trials =  [intersect(np.where((run.outcome=='miss') & (Subsets(run).trial_subsets!=150))[0],\n",
    "                         rf.good_trials(run))\n",
    "               for run in runs]\n",
    "\n",
    "_,_,_, hit_averages = utils.averager(behaviour_list, pre_frames=pre_frames, post_frames=post_frames,\n",
    "                              offset=offset, trial_filter=hit_trials)\n",
    "    \n",
    "_,_,_, miss_averages = utils.averager(behaviour_list, pre_frames=pre_frames, post_frames=post_frames,\n",
    "                              offset=offset, trial_filter=miss_trials)\n",
    "\n",
    "spont_list = [rf.get_spont_trials(run, pre_frames, post_frames) for run in runs]\n",
    "spont_averages = [np.mean(s, 1) for s in spont_list]\n",
    "    \n",
    "cell_differ = lambda cell_average:  (np.mean(cell_average[:, pre_frames+offset:\n",
    "                                            pre_frames+offset+(post_frames-offset)], 1) -\n",
    "                                    np.mean(cell_average[:, 0:pre_frames], 1))\n",
    "\n",
    "diffy_hit = [cell_differ(c) for c in hit_averages]\n",
    "diffy_miss = [cell_differ(c) for c in miss_averages]\n",
    "diffy_spont = [cell_differ(c) for c in spont_averages]\n",
    "hittest = np.argsort(diffy_hit[0])[-12:]"
   ]
  },
  {
   "cell_type": "code",
   "execution_count": null,
   "metadata": {},
   "outputs": [],
   "source": [
    "plt.figure(figsize=(18,9))\n",
    "for i, cell in enumerate(hittest): \n",
    "    plt.plot(runs[0].flu[cell, :] + i*5)"
   ]
  },
  {
   "cell_type": "code",
   "execution_count": null,
   "metadata": {},
   "outputs": [],
   "source": [
    "all_hittys = np.concatenate(diffy_hit).ravel()\n",
    "all_missys = np.concatenate(diffy_miss).ravel()\n",
    "all_lickys = np.concatenate(licky_pre_posts).ravel()\n",
    "all_spontys = np.concatenate(diffy_spont).ravel()\n",
    "double_diffy = all_hittys - all_missys\n",
    "# toggle this line to compare just hit trials to lickys\n",
    "# double_diffy = all_hittys\n",
    "assert all_lickys.shape == double_diffy.shape\n",
    "\n",
    "nonnan_idx = np.logical_and(~np.isnan(double_diffy), ~np.isnan(all_lickys))\n",
    "\n",
    "x = all_hittys[nonnan_idx].reshape(-1, 1)\n",
    "y = all_missys[nonnan_idx]\n",
    "\n",
    "model = LinearRegression()\n",
    "model.fit(x,y)\n",
    "r_sq = r2_score(x, model.predict(x))\n",
    "r_sq"
   ]
  },
  {
   "cell_type": "code",
   "execution_count": null,
   "metadata": {},
   "outputs": [],
   "source": [
    "plt.plot(all_hittys[nonnan_idx], all_missys[nonnan_idx], '.')\n",
    "plt.xlabel('Hit Trials')\n",
    "plt.ylabel('Miss Trials')\n",
    "plt.title('All Cells')\n",
    "plt.plot(x, model.predict(x), color='k')\n",
    "plt.text(0.5, 0.3, 'r^2 = {}'.format(round(r_sq, 3)), fontsize=21)"
   ]
  },
  {
   "cell_type": "code",
   "execution_count": null,
   "metadata": {},
   "outputs": [],
   "source": [
    "\n",
    "bins = np.linspace(-1.5,1.5,80)\n",
    "h = plt.hist(y, bins=bins, label='Spontaneous Rewards')\n",
    "h = plt.hist(all_spontys, bins=bins, color='Pink', \n",
    "             alpha=0.5,label='Control \"Trials\"')\n",
    "plt.legend(bbox_to_anchor=(0.7, 1.05))\n",
    "plt.xlabel(r'$\\Delta $F/F Jump (Post-Pre)')\n",
    "plt.xlim((-0.3,0.3))\n",
    "plt.xlim((-1,1.5))\n",
    "plt.ylim(0,30)\n",
    "plt.title('All Cells')"
   ]
  },
  {
   "cell_type": "code",
   "execution_count": null,
   "metadata": {},
   "outputs": [],
   "source": [
    "stats.ks_2samp(y, all_spontys)"
   ]
  },
  {
   "cell_type": "code",
   "execution_count": null,
   "metadata": {},
   "outputs": [],
   "source": [
    "# how many licks on pre_reward vs hit_rewards???\n",
    "# bin the pre-licks\n",
    "pre_binnedlicks = []\n",
    "\n",
    "for run in runs:\n",
    "    tstarts = run.pre_reward\n",
    "    pre_licks = run.pre_licks\n",
    "\n",
    "    for i, tstart in enumerate(tstarts):\n",
    "        if i == len(tstarts) - 1:\n",
    "            tend = np.inf\n",
    "        else:\n",
    "            tend = tstarts[i+1]\n",
    "\n",
    "        lick_idx = np.where((run.pre_licks >= tstart) & (run.pre_licks < tend))\n",
    "\n",
    "        pre_binnedlicks.append(pre_licks[lick_idx])\n",
    "\n",
    "# the number of licks in each trial\n",
    "pre_nlicks = np.array([len(binned) for binned in pre_binnedlicks])"
   ]
  },
  {
   "cell_type": "code",
   "execution_count": null,
   "metadata": {},
   "outputs": [],
   "source": [
    "# flat list of binned licks\n",
    "binned_licks = []\n",
    "for run in runs:\n",
    "    for trial, outcome in enumerate(run.outcome):\n",
    "        if outcome=='hit':\n",
    "            binned_licks.append(run.binned_licks[trial])\n",
    "    \n",
    "n_licks = np.array([len(binned) for binned in binned_licks])\n"
   ]
  },
  {
   "cell_type": "code",
   "execution_count": null,
   "metadata": {},
   "outputs": [],
   "source": [
    "plt.bar([0,1], [n_licks.mean(), pre_nlicks.mean()], yerr=[n_licks.std(), pre_nlicks.std()])\n",
    "plt.ylabel('Mean No. Licks per Trial')\n",
    "plt.xticks([0,1],['Hit Trials', 'Spontaneous Reward Trials'])"
   ]
  },
  {
   "cell_type": "code",
   "execution_count": null,
   "metadata": {},
   "outputs": [],
   "source": []
  },
  {
   "cell_type": "code",
   "execution_count": null,
   "metadata": {},
   "outputs": [],
   "source": []
  },
  {
   "cell_type": "code",
   "execution_count": null,
   "metadata": {},
   "outputs": [],
   "source": [
    "1/0"
   ]
  },
  {
   "cell_type": "markdown",
   "metadata": {},
   "source": [
    "## Perform linear subtraction"
   ]
  },
  {
   "cell_type": "code",
   "execution_count": null,
   "metadata": {},
   "outputs": [],
   "source": [
    "hit_list = [np.where(run.outcome=='hit')[0] for run in runs]\n",
    "\n",
    "subtraction_res = [rf.subtract_kernal(behaviour_list[session], runs[session], \n",
    "                                  hit_list[session], rf.get_time_to_lick(runs[session]),\n",
    "                                  pre_frames=pre_frames, post_frames=post_frames) \n",
    "                   for session in range(n_sessions)]\n",
    "\n",
    "#behaviour_list =  [res[0] for res in subtraction_res]\n",
    "print('Warning: disabled subtraction')\n",
    "cell_licky_idxs = [res[1] for res in subtraction_res]\n",
    "licky_pre_posts = [res[2] for res in subtraction_res]"
   ]
  },
  {
   "cell_type": "code",
   "execution_count": null,
   "metadata": {},
   "outputs": [],
   "source": [
    "# some examples of subtraction\n",
    "session_idx = 0\n",
    "flu_array = copy.deepcopy(behaviour_list[session_idx])\n",
    "run = copy.deepcopy(runs[session_idx])\n",
    "\n",
    "intersect = lambda lst1, lst2: list(set(lst1) & set(lst2)) \n",
    "hit_trials = copy.deepcopy(hit_list[session_idx])\n",
    "sub_trials = np.where(Subsets(run).trial_subsets==50)[0]\n",
    "\n",
    "# sub_trials = hit_trials\n",
    "trials_to_sub = intersect(hit_trials, sub_trials)\n",
    "offset_sub = rf.get_time_to_lick(run)\n",
    "\n",
    "subtraction_res = rf.subtract_kernal(flu_array, run, trials_to_sub, offset_sub, pre_frames=pre_frames,\n",
    "                                  post_frames=post_frames, plot=True)"
   ]
  },
  {
   "cell_type": "markdown",
   "metadata": {},
   "source": [
    "## Misc plots"
   ]
  },
  {
   "cell_type": "code",
   "execution_count": null,
   "metadata": {},
   "outputs": [],
   "source": [
    "run = runs[session_idx]\n",
    "plt.figure(figsize=(18,9))\n",
    "for i, cell in enumerate(cell_licky_idxs[session_idx][:12]): \n",
    "    plt.plot(run.flu[cell, :] + i*5)\n",
    "#plt.xlim((0,2000))"
   ]
  },
  {
   "cell_type": "markdown",
   "metadata": {},
   "source": [
    "## Lick trial classification using LSTMs"
   ]
  },
  {
   "cell_type": "code",
   "execution_count": null,
   "metadata": {},
   "outputs": [],
   "source": [
    "## subtraction of the pre-reward trials for classifier\n",
    "\n",
    "lick_kernals = [utils.build_flu_array(run, run.pre_reward, pre_frames, post_frames, True)\n",
    "                for run in runs]\n",
    "\n",
    "subtraction_res = [subtract_kernal(lick_kernals[session], runs[session],\n",
    "                                  pre_frames=pre_frames, post_frames=post_frames) \n",
    "                   for session in range(n_sessions)]\n",
    "\n",
    "lick_kernals_subbed = [res[0] for res in subtraction_res]"
   ]
  },
  {
   "cell_type": "code",
   "execution_count": null,
   "metadata": {},
   "outputs": [],
   "source": [
    "def build_session_array(list_, filter_list=None, n_filtered_cells=None):\n",
    "    \n",
    "    ''' builds a tbt flu array across sessions from list of inidivudual sessions\n",
    "        Returns:\n",
    "        session_array -- [min cells x total trials x frames in trial]\n",
    "    \n",
    "        '''\n",
    "    min_cells = min([s.shape[0] for s in list_])\n",
    "    \n",
    "    if filter_list:\n",
    "        assert len(filter_list) == len(list_) and n_filtered_cells != None\\\n",
    "        and n_filtered_cells <= min_cells\n",
    "\n",
    "    for i, arr in enumerate(list_):\n",
    "        if filter_list:\n",
    "            cell_idxs = filter_list[i][0:n_filtered_cells]\n",
    "        else:     \n",
    "            # randomly subsample cells\n",
    "            cell_idxs = np.random.choice(np.arange(0,arr.shape[0]), min_cells)\n",
    "        if i == 0:\n",
    "            session_array = arr[cell_idxs, :, :]\n",
    "        else:\n",
    "            session_array = np.hstack((session_array, arr[cell_idxs, : ,:]))\n",
    "\n",
    "    return session_array"
   ]
  },
  {
   "cell_type": "code",
   "execution_count": null,
   "metadata": {},
   "outputs": [],
   "source": [
    "def get_LSTM(data_shape):\n",
    "    \n",
    "    model = Sequential()\n",
    "    model.add(LSTM(256, input_shape=(data_shape[1], data_shape[2])))\n",
    "    model.add(Dense(1, activation='sigmoid'))\n",
    "\n",
    "    adam = Adam(lr=0.001)\n",
    "\n",
    "    model.my_checkpoints = ModelCheckpoint('best_model.pkl', monitor='val_acc', \n",
    "                                            save_best_only=True, mode='max', verbose=1)\n",
    "\n",
    "    model.compile(loss='binary_crossentropy', optimizer=adam, metrics=['accuracy'])\n",
    "    \n",
    "    return model"
   ]
  },
  {
   "cell_type": "code",
   "execution_count": null,
   "metadata": {},
   "outputs": [],
   "source": [
    "def cv_classifier(arr1, arr2, fold=10, shuffle=False):\n",
    "    \n",
    "    assert arr1.shape == arr2.shape\n",
    "    \n",
    "    nonnan_trials = lambda arr: ~np.isnan(arr).any(axis=0).any(axis=1)\n",
    "    nonnan_idx = np.logical_and(nonnan_trials(arr1), nonnan_trials(arr2))\n",
    "    \n",
    "    arr1 = arr1[:,nonnan_idx,:]\n",
    "    arr2 = arr2[:,nonnan_idx,:]\n",
    "    \n",
    "    data = np.hstack((arr1, arr2))\n",
    "    # switch from [n_cells x n_trials x n_frames] to [n_features x n_samples x n_observers]\n",
    "    data = np.swapaxes(data, 0, 1)   \n",
    "    \n",
    "    if shuffle: np.random.shuffle(data)\n",
    "        \n",
    "    labels = np.hstack((np.repeat(1, data.shape[0] / 2), np.repeat(0, data.shape[0] / 2)))\n",
    "    \n",
    "    kf = ShuffleSplit(n_splits=fold, test_size=0.2)\n",
    "    test_accs = []\n",
    "    fold_count = 0\n",
    "    for train_idx, testvalid_idx in kf.split(data):\n",
    "        \n",
    "        half = math.floor(len(testvalid_idx)/2)\n",
    "        valid_idx = testvalid_idx[:half]\n",
    "        test_idx = testvalid_idx[half:]\n",
    "        \n",
    "        model = get_LSTM(data.shape)\n",
    "        \n",
    "        model.fit(data[train_idx], labels[train_idx], epochs=150, batch_size=128, \n",
    "                  callbacks=[model.my_checkpoints], \n",
    "                  validation_data=(data[valid_idx],labels[valid_idx]),\n",
    "                  verbose=False)\n",
    "\n",
    "        test_preds = model.predict_classes(data[test_idx])\n",
    "        test_accuracy = accuracy_score(labels[test_idx], test_preds)\n",
    "        print('Test Accuracy is {}'.format(test_accuracy))\n",
    "        test_accs.append(test_accuracy)\n",
    "        \n",
    "        fold_count += 1\n",
    "        print(fold_count)\n",
    "        \n",
    "    return test_accs"
   ]
  },
  {
   "cell_type": "code",
   "execution_count": null,
   "metadata": {},
   "outputs": [],
   "source": [
    "n_cells_keep = 500\n",
    "spont_list = [get_spont_trials(run) for run in runs]\n",
    "spont_list2 = [get_spont_trials(run) for run in runs]\n",
    "\n",
    "spont_arr = build_session_array(spont_list, cell_licky_idxs, n_filtered_cells=n_cells_keep)\n",
    "spont_arr2 = build_session_array(spont_list2, cell_licky_idxs, n_filtered_cells=n_cells_keep)\n",
    "lick_arr = build_session_array(lick_kernals, cell_licky_idxs,  n_filtered_cells=n_cells_keep)\n",
    "lick_arr_subbed = build_session_array(lick_kernals_subbed, cell_licky_idxs,  n_filtered_cells=n_cells_keep)"
   ]
  },
  {
   "cell_type": "code",
   "execution_count": null,
   "metadata": {},
   "outputs": [],
   "source": [
    "test_accs = cv_classifier(lick_arr, spont_arr)\n",
    "print(np.mean(test_accs))\n",
    "print(np.std(test_accs))"
   ]
  },
  {
   "cell_type": "code",
   "execution_count": null,
   "metadata": {},
   "outputs": [],
   "source": [
    "test_accs2 = cv_classifier(spont_arr2, spont_arr)\n",
    "print(np.mean(test_accs2))\n",
    "print(np.std(test_accs2))"
   ]
  },
  {
   "cell_type": "code",
   "execution_count": null,
   "metadata": {},
   "outputs": [],
   "source": [
    "test_accs3 = cv_classifier(lick_arr, spont_arr, shuffle=True)\n",
    "print(np.mean(test_accs3))\n",
    "print(np.std(test_accs3))"
   ]
  },
  {
   "cell_type": "code",
   "execution_count": null,
   "metadata": {},
   "outputs": [],
   "source": [
    "test_accs4 = cv_classifier(lick_arr_subbed, spont_arr, shuffle=False)\n",
    "print(np.mean(test_accs4))\n",
    "print(np.std(test_accs4))"
   ]
  },
  {
   "cell_type": "code",
   "execution_count": null,
   "metadata": {},
   "outputs": [],
   "source": [
    "x=np.arange(4)\n",
    "y = [np.mean(d) for d in [test_accs, test_accs4, test_accs2, test_accs3]]\n",
    "yerr = [np.std(d) for d in [test_accs, test_accs4, test_accs2, test_accs3]]"
   ]
  },
  {
   "cell_type": "code",
   "execution_count": null,
   "metadata": {},
   "outputs": [],
   "source": [
    "plt.bar(x=x+0.4,height=y,yerr=yerr)\n",
    "\n",
    "xt = plt.xticks(x, \n",
    "                [\n",
    "                    'Lick vs\\nSpontaneous',\n",
    "                    'Lick Subtracted vs\\nSpontaneous',\n",
    "                    'Spontaneous vs\\nSpontaneous',\n",
    "                    'Lick vs\\nSpontaneous Shuffled'\n",
    "                                                    ],\n",
    "                rotation=60)\n",
    "plt.ylabel('Classifier Performance\\nChance=0.5')\n"
   ]
  },
  {
   "cell_type": "code",
   "execution_count": null,
   "metadata": {},
   "outputs": [],
   "source": [
    "runs[0].flu.shape"
   ]
  },
  {
   "cell_type": "code",
   "execution_count": null,
   "metadata": {},
   "outputs": [],
   "source": [
    "x = True\n"
   ]
  },
  {
   "cell_type": "code",
   "execution_count": null,
   "metadata": {},
   "outputs": [],
   "source": [
    "8.04+81.9+33.02+71.36+54.65+24.4"
   ]
  },
  {
   "cell_type": "markdown",
   "metadata": {},
   "source": [
    "### SVC lick classification\n",
    "#### Doesn't make sense to do this as observations are not independent"
   ]
  },
  {
   "cell_type": "code",
   "execution_count": null,
   "metadata": {},
   "outputs": [],
   "source": [
    "def split_dataset(dataset, split=0.8, shuffle=True):\n",
    "    x,y = dataset\n",
    "    assert x.shape[0] == y.shape[0]\n",
    "    n_trials = x.shape[0]\n",
    "    subset = int(split*n_trials)\n",
    "    idx = np.arange(n_trials)\n",
    "    if shuffle: np.random.shuffle(idx)\n",
    "    x = x[idx]\n",
    "    y = y[idx]\n",
    "    x_train = x[:subset]\n",
    "    x_valid = x[subset:]\n",
    "    y_train = y[:subset]\n",
    "    y_valid = y[subset:]\n",
    "    return (x_train, y_train),(x_valid, y_valid)"
   ]
  },
  {
   "cell_type": "code",
   "execution_count": null,
   "metadata": {},
   "outputs": [],
   "source": [
    "def split_dataset3d(dataset, split=0.8, shuffle=True):\n",
    "    x,y = dataset\n",
    "    assert x.shape[1] == y.shape[0]\n",
    "    n_trials = x.shape[1]\n",
    "    subset = int(split*n_trials)\n",
    "    idx = np.arange(n_trials)\n",
    "    if shuffle: np.random.shuffle(idx)\n",
    "    x = x[idx]\n",
    "    y = y[idx]\n",
    "    x_train = x[:subset]\n",
    "    x_valid = x[subset:]\n",
    "    y_train = y[:subset]\n",
    "    y_valid = y[subset:]\n",
    "    return (x_train, y_train),(x_valid, y_valid)"
   ]
  },
  {
   "cell_type": "code",
   "execution_count": null,
   "metadata": {},
   "outputs": [],
   "source": [
    "def split_dataset(dataset, split=0.8, shuffle=True):\n",
    "    x,y = dataset\n",
    "    assert x.shape[0] == y.shape[0]\n",
    "    n_trials = x.shape[0]\n",
    "    idx = np.arange(n_trials)\n",
    "    n_trials_train = int(len(idx) * split)\n",
    "    n_trials_valid = math.ceil((n_trials - n_trials_train) / 2)\n",
    "    n_trials_test = math.floor((n_trials - n_trials_train)  / 2)\n",
    "\n",
    "    if shuffle: np.random.shuffle(idx)\n",
    "    idx_train = idx[:n_trials_train]\n",
    "    idx_valid = idx[n_trials_train:n_trials_train+n_trials_valid]\n",
    "    idx_test  = idx[n_trials_train+n_trials_valid:]\n",
    "    \n",
    "    return (x[idx_train], y[idx_train]), (x[idx_valid], y[idx_valid]), (x[idx_test], y[idx_test])"
   ]
  },
  {
   "cell_type": "code",
   "execution_count": null,
   "metadata": {},
   "outputs": [],
   "source": [
    "def get_acc(dataset):\n",
    "    pred=svc.predict(dataset[0])\n",
    "    acc=(pred==dataset[1]).mean()\n",
    "    return acc"
   ]
  },
  {
   "cell_type": "code",
   "execution_count": null,
   "metadata": {},
   "outputs": [],
   "source": [
    "## cell builds dataset for classifier that is trial averaged\n",
    "\n",
    "spont_list = [get_spont_trials(run) for run in runs]\n",
    "spont_list2 = [get_spont_trials(run) for run in runs]\n",
    "# the number of cells from each session to insert into the array\n",
    "\n",
    "spont_arr = build_session_array(spont_list, cell_licky_idxs, n_filtered_cells=n_cells_keep)\n",
    "lick_arr = build_session_array(spont_list2, cell_licky_idxs, n_filtered_cells=n_cells_keep)\n",
    "#lick_arr = build_session_array(lick_kernals_subbed, cell_licky_idxs,  n_filtered_cells=n_cells_keep)\n",
    "\n",
    "\n",
    "assert spont_arr.shape == lick_arr.shape\n",
    "\n",
    "nonnan_idx = ~np.isnan(lick_arr).any(axis=0).any(axis=1)\n",
    "\n",
    "lick_arr = lick_arr[:,nonnan_idx,:]\n",
    "spont_arr = spont_arr[:,nonnan_idx,:]\n",
    "\n",
    "# mean across trials\n",
    "spont = np.mean(spont_arr, 1)\n",
    "lick = np.mean(lick_arr, 1)\n",
    "all_arr = np.hstack((lick, spont)).T\n",
    "labels = np.hstack((np.repeat(1, all_arr.shape[0] / 2), np.repeat(0, all_arr.shape[0] / 2)))"
   ]
  },
  {
   "cell_type": "code",
   "execution_count": null,
   "metadata": {},
   "outputs": [],
   "source": [
    "training_accs = []\n",
    "test_accs = []\n",
    "cvs = []\n",
    "\n",
    "n_cells_list = np.arange(10,500,10)\n",
    "\n",
    "for n_cells in n_cells_list:\n",
    "    x = all_arr[:,0:n_cells]\n",
    "\n",
    "    dataset = (x, labels)\n",
    "    \n",
    "    trainset, validset = split_dataset(dataset)\n",
    "    scaler = StandardScaler()\n",
    "    trainset = scaler.fit_transform(trainset[0]), trainset[1]\n",
    "    validset = scaler.fit_transform(validset[0]), validset[1]\n",
    "     \n",
    "    clf = SVC(kernel='poly', C=1)\n",
    "    scores = cross_val_score(clf, dataset[0], dataset[1], cv=3)\n",
    "    cvs.append(scores.mean())\n"
   ]
  },
  {
   "cell_type": "code",
   "execution_count": null,
   "metadata": {},
   "outputs": [],
   "source": [
    "plt.plot(n_cells_list, cvs)\n",
    "plt.xlim((0,200))\n",
    "plt.xlabel('Number of cells shown to classifier')\n",
    "plt.ylabel('Classifier Accuracy')\n",
    "plt.title('Spontaneous vs Spontanous')"
   ]
  },
  {
   "cell_type": "code",
   "execution_count": null,
   "metadata": {},
   "outputs": [],
   "source": [
    "# confusion matrix for the final iteration of the above loop\n",
    "\n",
    "svc = SVC(kernel='poly')\n",
    "svc.fit(*trainset)\n",
    "y_true=validset[1]\n",
    "y_pred=svc.predict(validset[0])\n",
    "M=confusion_matrix(y_true, y_pred)\n",
    "plt.imshow(M)\n",
    "plt.title(\"Confusion matrix\")\n",
    "plt.colorbar()"
   ]
  },
  {
   "cell_type": "code",
   "execution_count": null,
   "metadata": {},
   "outputs": [],
   "source": [
    "import scipy.io as sio\n",
    "sio.savemat('flu.mat', {'flu':runs[0].flu})"
   ]
  },
  {
   "cell_type": "code",
   "execution_count": null,
   "metadata": {},
   "outputs": [],
   "source": []
  },
  {
   "cell_type": "code",
   "execution_count": null,
   "metadata": {},
   "outputs": [],
   "source": []
  }
 ],
 "metadata": {
  "kernelspec": {
   "display_name": "Python 3",
   "language": "python",
   "name": "python3"
  },
  "language_info": {
   "codemirror_mode": {
    "name": "ipython",
    "version": 3
   },
   "file_extension": ".py",
   "mimetype": "text/x-python",
   "name": "python",
   "nbconvert_exporter": "python",
   "pygments_lexer": "ipython3",
   "version": "3.7.3"
  }
 },
 "nbformat": 4,
 "nbformat_minor": 2
}
