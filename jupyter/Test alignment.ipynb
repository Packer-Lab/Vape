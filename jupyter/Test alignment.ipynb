{
 "cells": [
  {
   "cell_type": "code",
   "execution_count": 241,
   "metadata": {},
   "outputs": [],
   "source": [
    "%matplotlib notebook"
   ]
  },
  {
   "cell_type": "code",
   "execution_count": 242,
   "metadata": {},
   "outputs": [
    {
     "name": "stdout",
     "output_type": "stream",
     "text": [
      "The autoreload extension is already loaded. To reload it, use:\n",
      "  %reload_ext autoreload\n"
     ]
    }
   ],
   "source": [
    "%run ./setup_notebook.ipynb"
   ]
  },
  {
   "cell_type": "code",
   "execution_count": 243,
   "metadata": {},
   "outputs": [],
   "source": [
    "# notebook specific imports\n",
    "import pickle\n",
    "import gsheets_importer\n",
    "import math\n",
    "import copy\n",
    "from scipy import stats\n",
    "import time\n",
    "import random\n",
    "import utils.utils_funcs as utils\n",
    "from subsets_analysis import Subsets"
   ]
  },
  {
   "cell_type": "code",
   "execution_count": 244,
   "metadata": {},
   "outputs": [],
   "source": [
    "mouse = 'J048'\n",
    "run_number = '27'\n",
    "\n",
    "packerstation_path = '/home/jamesrowland/Documents/packerstation/jrowland/Data'\n",
    "pkl_path = '/home/jamesrowland/Documents/Code/Vape/run_pkls/{}/run{}.pkl'.format(mouse, run_number)\n",
    "\n",
    "with open(pkl_path, 'rb') as f:\n",
    "    run = pickle.load(f)\n",
    "    \n",
    "subsets = Subsets(run)"
   ]
  },
  {
   "cell_type": "code",
   "execution_count": 245,
   "metadata": {},
   "outputs": [
    {
     "data": {
      "text/plain": [
       "dict_keys(['mouse_id', 'df', 'rows_2p', 'rows_1p', 'dates_2p', 'paqs', 'naparm_folders', 'blimp_folders', 'pycontrol_folders', 'prereward_folders', 'tseries_folders', 'plane_numbers', 'run_pycontrol_txt', 'num_planes', 'blimp_path', 'naparm_path', 'pycontrol_path', 'paq_path', 'prereward_path', 'tseries_paths', 'align_barcode', 'trial_info', 'session', 'print_lines', 'trial_time', 'outcome', 'slm_barcode', 'slm_trial_number', 'nogo_barcode', 'nogo_trial_number', 'alltrials_barcodes', 'rsync', 'trial_start', 'paq_rsync', 'frame_clock', 'x_galvo_uncaging', 'slm2packio', 'paq_rate', 'aligner', 'paq_correct', 'pre_rsync', 'pre_licks', 'pre_reward', 'prereward_aligner', 'both_aligner', 'num_frames', 's2p_path', 'flu_raw', 'flu', 'spks', 'stat', 'frames_ms'])"
      ]
     },
     "execution_count": 245,
     "metadata": {},
     "output_type": "execute_result"
    }
   ],
   "source": [
    "run.__dict__.keys()"
   ]
  },
  {
   "cell_type": "code",
   "execution_count": 246,
   "metadata": {},
   "outputs": [],
   "source": [
    "figure_path = '/home/jamesrowland/Documents/Code/Vape/figures/s1s2_imaging_subsets_prototype'"
   ]
  },
  {
   "cell_type": "code",
   "execution_count": 247,
   "metadata": {},
   "outputs": [],
   "source": [
    "frames_ms = run.frames_ms\n",
    "flu = run.flu\n",
    "n_cells = flu.shape[0]\n",
    "x_galvo_uncaging = run.x_galvo_uncaging#[::1000]\n",
    "tstart_galvo = utils.threshold_detect(x_galvo_uncaging, 0)"
   ]
  },
  {
   "cell_type": "code",
   "execution_count": 248,
   "metadata": {},
   "outputs": [],
   "source": [
    "# plt.plot(x_galvo_uncaging)\n",
    "# utils.raster_plot(tstart_galvo, y_pos=0, color='red')\n",
    "# utils.raster_plot(run.both_aligner.A_to_B(run.trial_start))"
   ]
  },
  {
   "cell_type": "code",
   "execution_count": 249,
   "metadata": {},
   "outputs": [
    {
     "data": {
      "text/plain": [
       "1601423"
      ]
     },
     "execution_count": 249,
     "metadata": {},
     "output_type": "execute_result"
    }
   ],
   "source": [
    "#assert len(run.outcome) == len(subsets.trial_subsets) == len(run.trial_start) == len(tstart_galvo)\n",
    "\n",
    "intersect = lambda A, B: list(set(A) - (set(A) - set(B)))\n",
    "\n",
    "stim_idx = np.where(subsets.trial_subsets==150)[0]\n",
    "\n",
    "stim_times = run.trial_start[stim_idx]\n",
    "stim_times[21]"
   ]
  },
  {
   "cell_type": "markdown",
   "metadata": {},
   "source": [
    "### Toggle cell below on to switch to paqio alignment"
   ]
  },
  {
   "cell_type": "code",
   "execution_count": 250,
   "metadata": {},
   "outputs": [],
   "source": [
    "# stim_times = tstart_galvo[stim_idx]\n",
    "\n",
    "# num_planes = run.num_planes \n",
    "# tseries_lens = run.num_frames\n",
    "\n",
    "# # get the frame ttls recorded in paqio that actually correspond to analysed tseries\n",
    "# paqio_frames = utils.tseries_finder(tseries_lens, run.frame_clock)\n",
    "\n",
    "# # which plane is each cell in\n",
    "# cell_plane = np.array([s['iplane'] for s in run.stat])\n",
    "\n",
    "# # matrix of frame times in ms for each fluorescent value in the flu matrix\n",
    "# frames_ms = np.empty(flu.shape)\n",
    "# frames_ms.fill(np.nan)\n",
    "\n",
    "# num_planes = 3\n",
    "\n",
    "# # mark each frame with a time in ms based on its plane\n",
    "# for plane in range(num_planes):\n",
    "#     frame_times = paqio_frames[plane::num_planes]\n",
    "#     plane_idx = np.where(cell_plane==plane)[0]\n",
    "#     frames_ms[plane_idx, 0:len(frame_times)] = frame_times"
   ]
  },
  {
   "cell_type": "code",
   "execution_count": 251,
   "metadata": {},
   "outputs": [],
   "source": [
    "%%capture\n",
    "pre_frames = 10\n",
    "post_frames = 30\n",
    "\n",
    "tot_frames = pre_frames + post_frames\n",
    "\n",
    "stim_idxs = utils.stim_start_frame_mat(stim_times, frames_ms)\n",
    "boi = copy.deepcopy(stim_idxs)\n",
    "\n",
    "stim_idxs = stim_idxs[:,np.where((stim_idxs[0,:]-pre_frames>0) & \n",
    "                     (stim_idxs[0,:] + post_frames < flu.shape[1]))[0]]\n",
    "\n",
    "n_trials = stim_idxs.shape[1]\n",
    "\n",
    "for i, shift in enumerate(np.arange(-pre_frames,post_frames)):\n",
    "    \n",
    "    if i == 0: \n",
    "        trial_idx = stim_idxs + shift\n",
    "    else:\n",
    "        trial_idx = np.dstack((trial_idx, stim_idxs + shift))\n",
    "        \n",
    "trial_idx = trial_idx.reshape((n_cells, n_trials*tot_frames))\n",
    "trial_idx.shape"
   ]
  },
  {
   "cell_type": "code",
   "execution_count": 252,
   "metadata": {
    "scrolled": false
   },
   "outputs": [
    {
     "data": {
      "text/plain": [
       "(2101, 30, 40)"
      ]
     },
     "execution_count": 252,
     "metadata": {},
     "output_type": "execute_result"
    }
   ],
   "source": [
    "flu_trials = []\n",
    "\n",
    "for i, idxs in enumerate(trial_idx):\n",
    "    idxs = idxs[~np.isnan(idxs)].astype('int')\n",
    "    flu_trials.append(flu[i,idxs])\n",
    "  \n",
    "n_trials_valid = len(idxs)\n",
    "    \n",
    "flu_trials = np.array(flu_trials).reshape((n_cells, int(n_trials_valid/tot_frames), tot_frames))\n",
    "flu_trials = np.array(flu_trials)\n",
    "flu_trials.shape"
   ]
  },
  {
   "cell_type": "code",
   "execution_count": 253,
   "metadata": {
    "scrolled": true
   },
   "outputs": [
    {
     "data": {
      "image/png": "[encoded data removed]",
      "text/plain": [
       "<Figure size 432x288 with 1 Axes>"
      ]
     },
     "metadata": {},
     "output_type": "display_data"
    }
   ],
   "source": [
    "cell_meaned = np.mean(flu_trials,0)\n",
    "mean_trial = np.mean(flu_trials, 2)\n",
    "av = np.mean(np.mean(flu_trials, 1), 0)\n",
    "#plt.plot(av)\n",
    "for i, c in enumerate(cell_meaned):\n",
    "    \n",
    "#     if c[11] > 0.4:\n",
    "#         print(i)\n",
    "\n",
    "    plt.plot(c, alpha=0.2, color='grey')"
   ]
  },
  {
   "cell_type": "code",
   "execution_count": null,
   "metadata": {},
   "outputs": [],
   "source": []
  },
  {
   "cell_type": "code",
   "execution_count": null,
   "metadata": {},
   "outputs": [],
   "source": []
  }
 ],
 "metadata": {
  "kernelspec": {
   "display_name": "Python 3",
   "language": "python",
   "name": "python3"
  },
  "language_info": {
   "codemirror_mode": {
    "name": "ipython",
    "version": 3
   },
   "file_extension": ".py",
   "mimetype": "text/x-python",
   "name": "python",
   "nbconvert_exporter": "python",
   "pygments_lexer": "ipython3",
   "version": "3.7.3"
  }
 },
 "nbformat": 4,
 "nbformat_minor": 2
}
