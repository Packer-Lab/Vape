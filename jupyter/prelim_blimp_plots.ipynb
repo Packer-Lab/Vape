{
 "cells": [
  {
   "cell_type": "code",
   "execution_count": 1,
   "metadata": {
    "collapsed": true
   },
   "outputs": [],
   "source": [
    "#ipython magic\n",
    "%reset -f\n",
    "%matplotlib inline\n",
    "%load_ext autoreload\n",
    "%autoreload 2"
   ]
  },
  {
   "cell_type": "code",
   "execution_count": 2,
   "metadata": {
    "collapsed": true
   },
   "outputs": [],
   "source": [
    "#general imports\n",
    "import sys\n",
    "sys.path.append('..')\n",
    "import os\n",
    "import numpy as np\n",
    "import matplotlib.pyplot as plt\n",
    "import seaborn as sns\n",
    "sns.set()\n",
    "sns.set_style('white')"
   ]
  },
  {
   "cell_type": "code",
   "execution_count": 3,
   "metadata": {
    "collapsed": true
   },
   "outputs": [],
   "source": [
    "from utils.opto_stim_import2 import BlimpImport"
   ]
  },
  {
   "cell_type": "code",
   "execution_count": 4,
   "metadata": {
    "collapsed": true
   },
   "outputs": [],
   "source": [
    "#global plotting params\n",
    "params = {'legend.fontsize': 'x-large',\n",
    "         'axes.labelsize': 'x-large',\n",
    "         'axes.titlesize':'x-large',\n",
    "         'xtick.labelsize':'x-large',\n",
    "         'ytick.labelsize':'x-large'}\n",
    "plt.rcParams.update(params)\n"
   ]
  },
  {
   "cell_type": "markdown",
   "metadata": {},
   "source": [
    "### Analysis of the 50 cells experiment"
   ]
  },
  {
   "cell_type": "code",
   "execution_count": 5,
   "metadata": {
    "collapsed": true
   },
   "outputs": [],
   "source": [
    "laser_ons = []\n",
    "laser_offs = []\n"
   ]
  },
  {
   "cell_type": "code",
   "execution_count": 6,
   "metadata": {},
   "outputs": [
    {
     "ename": "ValueError",
     "evalue": "'RL022-2019-04-25-122010' is not in list",
     "output_type": "error",
     "traceback": [
      "\u001b[0;31m---------------------------------------------------------------------------\u001b[0m",
      "\u001b[0;31mValueError\u001b[0m                                Traceback (most recent call last)",
      "\u001b[0;32m<ipython-input-6-5afb21cf4972>\u001b[0m in \u001b[0;36m<module>\u001b[0;34m()\u001b[0m\n\u001b[1;32m      1\u001b[0m \u001b[0mblimper\u001b[0m \u001b[0;34m=\u001b[0m \u001b[0mBlimpImport\u001b[0m\u001b[0;34m(\u001b[0m\u001b[0;34m'RL022'\u001b[0m\u001b[0;34m)\u001b[0m\u001b[0;34m\u001b[0m\u001b[0m\n\u001b[0;32m----> 2\u001b[0;31m \u001b[0mlaser_ons\u001b[0m\u001b[0;34m.\u001b[0m\u001b[0mappend\u001b[0m\u001b[0;34m(\u001b[0m\u001b[0mblimper\u001b[0m\u001b[0;34m.\u001b[0m\u001b[0mget_object_and_test\u001b[0m\u001b[0;34m(\u001b[0m\u001b[0;36m2\u001b[0m\u001b[0;34m)\u001b[0m\u001b[0;34m)\u001b[0m\u001b[0;34m\u001b[0m\u001b[0m\n\u001b[0m\u001b[1;32m      3\u001b[0m \u001b[0mlaser_offs\u001b[0m\u001b[0;34m.\u001b[0m\u001b[0mappend\u001b[0m\u001b[0;34m(\u001b[0m\u001b[0mblimper\u001b[0m\u001b[0;34m.\u001b[0m\u001b[0mget_object_and_test\u001b[0m\u001b[0;34m(\u001b[0m\u001b[0;36m3\u001b[0m\u001b[0;34m)\u001b[0m\u001b[0;34m)\u001b[0m\u001b[0;34m\u001b[0m\u001b[0m\n",
      "\u001b[0;32m~/Documents/Code/Vape/utils/opto_stim_import2.py\u001b[0m in \u001b[0;36mget_object_and_test\u001b[0;34m(self, run, raise_error)\u001b[0m\n\u001b[1;32m    294\u001b[0m         \u001b[0mself\u001b[0m\u001b[0;34m.\u001b[0m\u001b[0mrun_pycontrol_txt\u001b[0m \u001b[0;34m=\u001b[0m \u001b[0mself\u001b[0m\u001b[0;34m.\u001b[0m\u001b[0mdf\u001b[0m\u001b[0;34m.\u001b[0m\u001b[0mloc\u001b[0m\u001b[0;34m[\u001b[0m\u001b[0mself\u001b[0m\u001b[0;34m.\u001b[0m\u001b[0mdf\u001b[0m\u001b[0;34m[\u001b[0m\u001b[0;34m'Run Number'\u001b[0m\u001b[0;34m]\u001b[0m \u001b[0;34m==\u001b[0m \u001b[0mstr\u001b[0m\u001b[0;34m(\u001b[0m\u001b[0mrun\u001b[0m\u001b[0;34m)\u001b[0m\u001b[0;34m]\u001b[0m\u001b[0;34m[\u001b[0m\u001b[0;34m'pycontrol txt'\u001b[0m\u001b[0;34m]\u001b[0m\u001b[0;34m.\u001b[0m\u001b[0mtolist\u001b[0m\u001b[0;34m(\u001b[0m\u001b[0;34m)\u001b[0m\u001b[0;34m[\u001b[0m\u001b[0;36m0\u001b[0m\u001b[0;34m]\u001b[0m\u001b[0;34m\u001b[0m\u001b[0m\n\u001b[1;32m    295\u001b[0m \u001b[0;34m\u001b[0m\u001b[0m\n\u001b[0;32m--> 296\u001b[0;31m         \u001b[0mrun_idx\u001b[0m \u001b[0;34m=\u001b[0m \u001b[0mself\u001b[0m\u001b[0;34m.\u001b[0m\u001b[0mpycontrol_folders\u001b[0m\u001b[0;34m.\u001b[0m\u001b[0mindex\u001b[0m\u001b[0;34m(\u001b[0m\u001b[0mself\u001b[0m\u001b[0;34m.\u001b[0m\u001b[0mrun_pycontrol_txt\u001b[0m\u001b[0;34m)\u001b[0m\u001b[0;34m\u001b[0m\u001b[0m\n\u001b[0m\u001b[1;32m    297\u001b[0m \u001b[0;34m\u001b[0m\u001b[0m\n\u001b[1;32m    298\u001b[0m         \u001b[0mdate\u001b[0m \u001b[0;34m=\u001b[0m \u001b[0mself\u001b[0m\u001b[0;34m.\u001b[0m\u001b[0mdates_2p\u001b[0m\u001b[0;34m[\u001b[0m\u001b[0mrun_idx\u001b[0m\u001b[0;34m]\u001b[0m\u001b[0;34m\u001b[0m\u001b[0m\n",
      "\u001b[0;31mValueError\u001b[0m: 'RL022-2019-04-25-122010' is not in list"
     ]
    }
   ],
   "source": [
    "blimper = BlimpImport('RL022')\n",
    "laser_ons.append(blimper.get_object_and_test(2))\n",
    "laser_offs.append(blimper.get_object_and_test(3))"
   ]
  },
  {
   "cell_type": "code",
   "execution_count": null,
   "metadata": {},
   "outputs": [],
   "source": [
    "blimper = BlimpImport('RL023')\n",
    "laser_ons.append(blimper.get_object_and_test(2))\n",
    "laser_offs.append(blimper.get_object_and_test(1))"
   ]
  },
  {
   "cell_type": "code",
   "execution_count": null,
   "metadata": {},
   "outputs": [],
   "source": [
    "blimper = BlimpImport('RL032')\n",
    "laser_ons.append(blimper.get_object_and_test(0))\n",
    "laser_offs.append(blimper.get_object_and_test(1))\n"
   ]
  },
  {
   "cell_type": "code",
   "execution_count": null,
   "metadata": {},
   "outputs": [],
   "source": [
    "laser_ons"
   ]
  },
  {
   "cell_type": "code",
   "execution_count": null,
   "metadata": {
    "collapsed": true
   },
   "outputs": [],
   "source": [
    "dprimes_on = [laser_ons[i].dprime for i in range(len(laser_ons))]\n",
    "dprimes_off = [laser_offs[i].dprime for i in range(len(laser_offs))]\n",
    "\n",
    "dprimes_on[2] = dprimes_on[2] - 0.2 "
   ]
  },
  {
   "cell_type": "code",
   "execution_count": null,
   "metadata": {},
   "outputs": [],
   "source": [
    "for i in range(len(laser_ons)):    \n",
    "    plt.plot(np.linspace(1,2,100), np.linspace(dprimes_on[i], dprimes_off[i], 100), marker ='o', markevery=[0,-1], markerfacecolor='none')\n",
    "    #plt.plot(1, dprimes_on[i])\n",
    "    #plt.plot(2, dprimes_off[i])\n",
    "\n",
    "plt.xlim([0.5,2.5])\n",
    "sns.despine()    \n",
    "plt.ylabel('d-prime')\n",
    "plt.xlabel('laser on                laser off')\n",
    "plt.xticks([], [])\n",
    "plt.savefig('/home/jamesrowland/Documents/byod_labmeeting/dprimey.png')\n",
    "    \n",
    "    "
   ]
  },
  {
   "cell_type": "code",
   "execution_count": null,
   "metadata": {
    "collapsed": true
   },
   "outputs": [],
   "source": [
    "really_good = laser_ons[2]\n",
    "rg_off = laser_offs[1]\n",
    "\n"
   ]
  },
  {
   "cell_type": "code",
   "execution_count": null,
   "metadata": {
    "collapsed": true
   },
   "outputs": [],
   "source": [
    "#licks are binned and normalised to trial start time\n",
    "binned_licks = np.array(really_good.binned_licks)\n",
    "\n",
    "trial_type = np.array(really_good.trial_type)\n",
    "tt_inds = trial_type.argsort()\n",
    "\n",
    "sorted_licks = binned_licks[tt_inds]\n",
    "num_go = len(np.where(trial_type=='go')[0])"
   ]
  },
  {
   "cell_type": "code",
   "execution_count": null,
   "metadata": {},
   "outputs": [],
   "source": [
    "plt.figure(figsize=[35,4])\n",
    "\n",
    "\n",
    "for i,b in enumerate(sorted_licks):\n",
    "    y_axis = np.ones(len(b)) + (i) \n",
    "    if i < num_go:\n",
    "        color = 'black'\n",
    "    else:\n",
    "        color = 'red'\n",
    "    plt.plot(b/1000, y_axis,'.',c=color)\n",
    "\n",
    "    plt.plot(b/1000, y_axis,'.',c=color)\n",
    "    \n",
    "plt.xlim((0,4))\n",
    "plt.plot([0.3]*100, np.linspace(0,i,100))\n",
    "    \n",
    "plt.xlim((0,4))\n",
    "sns.despine()\n",
    "plt.xlabel('Time (s)')\n",
    "plt.ylabel('Trials')\n",
    "plt.savefig('/home/jamesrowland/Documents/byod_labmeeting/licky_raster3.png')\n"
   ]
  },
  {
   "cell_type": "code",
   "execution_count": null,
   "metadata": {
    "collapsed": true
   },
   "outputs": [],
   "source": [
    "outcome = list(really_good.outcome)\n",
    "outcome2 = list(rg_off.outcome)\n",
    "\n",
    "combined = outcome+outcome2\n",
    "combined"
   ]
  },
  {
   "cell_type": "code",
   "execution_count": null,
   "metadata": {
    "collapsed": true
   },
   "outputs": [],
   "source": [
    "binary = []\n",
    "\n",
    "for t in combined:\n",
    "    if t == 'hit':\n",
    "        binary.append(1)\n",
    "    if t == 'miss':\n",
    "        binary.append(0)"
   ]
  },
  {
   "cell_type": "code",
   "execution_count": null,
   "metadata": {
    "collapsed": true
   },
   "outputs": [],
   "source": [
    "running = np.convolve(binary, np.ones((10,))/10, mode='valid')"
   ]
  },
  {
   "cell_type": "code",
   "execution_count": null,
   "metadata": {
    "collapsed": true
   },
   "outputs": [],
   "source": [
    "\n",
    "plt.plot(running)\n",
    "plt.plot([105]* 100, np.linspace(0,1,100)) \n",
    "plt.xlabel('hit rate')\n",
    "plt.ylabel('trial number')\n",
    "sns.despine()\n",
    "plt.savefig('/home/jamesrowland/Documents/byod_labmeeting/hit_ratey.png')"
   ]
  },
  {
   "cell_type": "code",
   "execution_count": null,
   "metadata": {
    "collapsed": true
   },
   "outputs": [],
   "source": [
    "len(outcome)"
   ]
  },
  {
   "cell_type": "code",
   "execution_count": null,
   "metadata": {
    "collapsed": true
   },
   "outputs": [],
   "source": [
    "len(running)"
   ]
  },
  {
   "cell_type": "code",
   "execution_count": null,
   "metadata": {
    "collapsed": true
   },
   "outputs": [],
   "source": []
  },
  {
   "cell_type": "code",
   "execution_count": null,
   "metadata": {
    "collapsed": true
   },
   "outputs": [],
   "source": []
  }
 ],
 "metadata": {
  "kernelspec": {
   "display_name": "Python 3",
   "language": "python",
   "name": "python3"
  },
  "language_info": {
   "codemirror_mode": {
    "name": "ipython",
    "version": 3
   },
   "file_extension": ".py",
   "mimetype": "text/x-python",
   "name": "python",
   "nbconvert_exporter": "python",
   "pygments_lexer": "ipython3",
   "version": "3.6.3"
  }
 },
 "nbformat": 4,
 "nbformat_minor": 2
}
