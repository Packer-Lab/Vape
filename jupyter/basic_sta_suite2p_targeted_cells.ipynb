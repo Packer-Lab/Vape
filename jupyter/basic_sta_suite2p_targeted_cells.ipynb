{
 "cells": [
  {
   "cell_type": "code",
   "execution_count": null,
   "metadata": {},
   "outputs": [],
   "source": [
    "import numpy as np\n",
    "import tifffile as tf\n",
    "import ntpath\n",
    "import fnmatch\n",
    "import os\n",
    "import matplotlib.pyplot as plt\n",
    "import sys\n",
    "sys.path.append('..')\n",
    "import time\n",
    "import math\n",
    "from utils.paq2py import *\n",
    "from utils.parse_markpoints import ParseMarkpoints\n",
    "from utils.utils_funcs import *\n",
    "import seaborn as sns\n",
    "from random import randint\n",
    "from scipy import stats\n",
    "import csv\n",
    "\n",
    "params = {'legend.fontsize': 'x-large',\n",
    "         'axes.labelsize': 'x-large',\n",
    "         'axes.titlesize':'x-large',\n",
    "         'xtick.labelsize':'x-large',\n",
    "         'ytick.labelsize':'x-large'}\n",
    "plt.rcParams.update(params)\n",
    "sns.set()\n",
    "sns.set_style('white')\n",
    "%matplotlib notebook"
   ]
  },
  {
   "cell_type": "code",
   "execution_count": null,
   "metadata": {},
   "outputs": [],
   "source": [
    "#the path to your paq file\n",
    "paq_path = r\"C:\\Users\\roble\\Documents\\Packer lab\\TempData\\Finding targeted cells\\2019-04-25_RL035_t-005.paq\"\n",
    "#the path to the umbrella suite2p file\n",
    "s2p_path = r'C:\\Users\\roble\\Documents\\Packer lab\\TempData\\Suite2p\\2019-04-26_RL032_t-004'\n",
    "#the path to your naparm folder with FOVTarget files\n",
    "naparm_path = r'C:\\Users\\roble\\Documents\\Packer lab\\TempData\\Finding targeted cells\\2019-04-25_RL035_NAPARM_005'\n",
    "\n",
    "#change this to the name of the paq channel that the stim times was recorded on\n",
    "stim_name = 'markpoints2packio'"
   ]
  },
  {
   "cell_type": "code",
   "execution_count": null,
   "metadata": {},
   "outputs": [],
   "source": [
    "paq = paq_read(paq_path)\n",
    "raw, stat = s2p_loader(s2p_path, subtract_neuropil=True)\n",
    "\n",
    "arr = dfof(raw)\n",
    "#arr = raw\n",
    "num_units = arr.shape[0]\n",
    "\n",
    "arr.shape"
   ]
  },
  {
   "cell_type": "code",
   "execution_count": 4,
   "metadata": {},
   "outputs": [
    {
     "data": {
      "image/png": "[encoded data removed]",
      "text/plain": [
       "<Figure size 432x288 with 1 Axes>"
      ]
     },
     "metadata": {
      "needs_background": "light"
     },
     "output_type": "display_data"
    }
   ],
   "source": [
    "#you might need to run these cells twice to the get the plots for some reason\n",
    "\n",
    "clock_idx = paq['chan_names'].index('frame_clock')\n",
    "clock_voltage = paq['data'][clock_idx, :]\n",
    "\n",
    "frame_clock = threshold_detect(clock_voltage, 1)\n",
    "plt.figure()\n",
    "plt.plot(clock_voltage)\n",
    "plt.plot(frame_clock, np.ones(len(frame_clock)), '.')\n",
    "sns.despine()\n",
    "plt.show()"
   ]
  },
  {
   "cell_type": "code",
   "execution_count": 5,
   "metadata": {
    "scrolled": false
   },
   "outputs": [
    {
     "data": {
      "image/png": "[encoded data removed]",
      "text/plain": [
       "<Figure size 432x288 with 1 Axes>"
      ]
     },
     "metadata": {
      "needs_background": "light"
     },
     "output_type": "display_data"
    }
   ],
   "source": [
    "stim_idx = paq['chan_names'].index(stim_name)\n",
    "stim_volts = paq['data'][stim_idx, :]\n",
    "stim_times = threshold_detect(stim_volts, 1)\n",
    "plt.figure()\n",
    "plt.plot(stim_volts)\n",
    "plt.plot(stim_times, np.ones(len(stim_times)), '.')\n",
    "sns.despine()\n",
    "plt.show()"
   ]
  },
  {
   "cell_type": "code",
   "execution_count": 52,
   "metadata": {
    "scrolled": false
   },
   "outputs": [
    {
     "name": "stdout",
     "output_type": "stream",
     "text": [
      "C:\\Users\\roble\\Documents\\Packer lab\\TempData\\Finding targeted cells\\2019-04-25_RL035_NAPARM_005\\Targets\\FOVTargets_001_2019-04-25_RL035_NAPARM_005.tif\n",
      "C:\\Users\\roble\\Documents\\Packer lab\\TempData\\Finding targeted cells\\2019-04-25_RL035_NAPARM_005\\Targets\\FOVTargets_002_2019-04-25_RL035_NAPARM_005.tif\n",
      "C:\\Users\\roble\\Documents\\Packer lab\\TempData\\Finding targeted cells\\2019-04-25_RL035_NAPARM_005\\Targets\\FOVTargets_003_2019-04-25_RL035_NAPARM_005.tif\n",
      "C:\\Users\\roble\\Documents\\Packer lab\\TempData\\Finding targeted cells\\2019-04-25_RL035_NAPARM_005\\Targets\\FOVTargets_004_2019-04-25_RL035_NAPARM_005.tif\n",
      "C:\\Users\\roble\\Documents\\Packer lab\\TempData\\Finding targeted cells\\2019-04-25_RL035_NAPARM_005\\Targets\\FOVTargets_005_2019-04-25_RL035_NAPARM_005.tif\n",
      "C:\\Users\\roble\\Documents\\Packer lab\\TempData\\Finding targeted cells\\2019-04-25_RL035_NAPARM_005\\Targets\\FOVTargets_006_2019-04-25_RL035_NAPARM_005.tif\n",
      "C:\\Users\\roble\\Documents\\Packer lab\\TempData\\Finding targeted cells\\2019-04-25_RL035_NAPARM_005\\Targets\\FOVTargets_007_2019-04-25_RL035_NAPARM_005.tif\n",
      "C:\\Users\\roble\\Documents\\Packer lab\\TempData\\Finding targeted cells\\2019-04-25_RL035_NAPARM_005\\Targets\\FOVTargets_008_2019-04-25_RL035_NAPARM_005.tif\n"
     ]
    }
   ],
   "source": [
    "# work out how many groups in NAPARM from the targets folder + # of 'FOVTargets' files\n",
    "\n",
    "# lookup recursive for NAPARM target images, find number of stim groups\n",
    "num_groups = 0\n",
    "pattern = 'FOVTargets*'\n",
    "for dirpath, dirnames, filenames in os.walk(naparm_path):\n",
    "\n",
    "    if not filenames:\n",
    "        continue\n",
    "\n",
    "    target_files = fnmatch.filter(filenames, pattern)\n",
    "    if target_files:\n",
    "        for i,file in enumerate(target_files):\n",
    "            num_groups += 1\n",
    "            print('{}\\{}'.format(dirpath, file))\n",
    "            target_files[i] = dirpath + '\\\\' + file\n",
    "\n",
    "# separate stim_times in to groups (np.array?)\n",
    "groups = np.arange(num_groups)\n",
    "num_stims = len(stim_times)\n",
    "num_trials = num_stims//num_groups\n",
    "\n",
    "stim_times_grouped = np.zeros((num_groups, num_trials))\n",
    "\n",
    "for i in groups:\n",
    "    stim_times_grouped[i] = stim_times[i:num_stims:num_groups]\n",
    "\n",
    "# load target images in loop and find pixels with 255 value, note xy indices for each\n",
    "target_images = tf.imread(target_files)\n",
    "\n",
    "targets = np.where(target_images == np.amax(target_images)) #indexed as image index, then y index, then x index\n",
    "group_list = list(targets[0])\n",
    "num_targets = []\n",
    "\n",
    "for group in groups:\n",
    "    num_targets.append(group_list.count(group))\n",
    "\n",
    "#find roi xy values of cells from stat?\n",
    "target_units = [[] for i in range(num_groups)]\n",
    "\n",
    "for i,unit in enumerate(stat):\n",
    "    y_pixels = stat[i]['ypix']\n",
    "    x_pixels = stat[i]['xpix']\n",
    "    \n",
    "    for y_index,y_value in enumerate(targets[1]):\n",
    "        x_value = targets[2][y_index]\n",
    "        if y_value in y_pixels and x_value in x_pixels:\n",
    "            group_index = targets[0][y_index]\n",
    "            target_units[group_index].append(stat[i]['original_index'])\n",
    "\n",
    "#compare roi xy values of each cell to all target cells and append index to a list of targeted cells if so"
   ]
  },
  {
   "cell_type": "code",
   "execution_count": 53,
   "metadata": {
    "scrolled": true
   },
   "outputs": [
    {
     "data": {
      "text/plain": [
       "[[108, 119], [59, 104], [], [], [5, 19, 139], [16], [], [211]]"
      ]
     },
     "execution_count": 53,
     "metadata": {},
     "output_type": "execute_result"
    }
   ],
   "source": [
    "target_units"
   ]
  },
  {
   "cell_type": "code",
   "execution_count": null,
   "metadata": {},
   "outputs": [],
   "source": [
    "stim_start_frames = []\n",
    "\n",
    "for stim in stim_times:\n",
    "\n",
    "    #the index of the frame immediately preceeding stim\n",
    "    stim_start_frame = next(i-1 for i,sample in enumerate(frame_clock) if sample - stim >= 0)\n",
    "    stim_start_frames.append(stim_start_frame)\n",
    "    \n",
    "stim_start_frames = np.array(stim_start_frames)\n",
    "\n",
    "#sanity check\n",
    "assert max(stim_start_frames) < arr.shape[1]"
   ]
  },
  {
   "cell_type": "code",
   "execution_count": null,
   "metadata": {},
   "outputs": [],
   "source": [
    "#this is the key parameter for the sta, how many frames before and after the stim do you want to use\n",
    "pre_frames = 10\n",
    "post_frames = 30\n",
    "\n",
    "#list of cell pixel intensity values during each stim on each trial\n",
    "all_trials = []\n",
    "# the average of every trial\n",
    "stas = []\n",
    "\n",
    "t_tests = []\n",
    "mann_whits = []\n",
    "\n",
    "#loop through each cell\n",
    "for i, unit in enumerate(arr):\n",
    "\n",
    "    trials = []\n",
    "    df = []\n",
    "    \n",
    "    # a flat list of all observations before stim occured\n",
    "    pre_obs = []\n",
    "    # a flat list of all observations after stim occured\n",
    "    post_obs = []\n",
    "    \n",
    "    for stim in stim_start_frames:\n",
    "        \n",
    "        #slice the trial pre stim vs post stim\n",
    "        pre_stim  = unit[stim-pre_frames : stim]\n",
    "        post_stim = unit[stim : stim + post_frames]\n",
    "        \n",
    "        # append to flat lists\n",
    "        [pre_obs.append(ob) for ob in pre_stim]\n",
    "        [post_obs.append(ob) for ob in post_stim]\n",
    "        \n",
    "        # the whole trial\n",
    "        trial = unit[stim-pre_frames : stim+post_frames]\n",
    "        trials.append(trial)\n",
    "        \n",
    "    trials = np.array(trials)\n",
    "    all_trials.append(trials)\n",
    "    \n",
    "    #average across all trials\n",
    "    sta = np.mean(trials, 0)        \n",
    "    stas.append(sta)\n",
    "\n",
    "    #remove nans from flat lists\n",
    "    pre_obs = [x for x in pre_obs if ~np.isnan(x)]\n",
    "    post_obs = [x for x in post_obs if ~np.isnan(x)]\n",
    "    \n",
    "    #t_test and man whit test pre and post stim (any other test could also be used here)\n",
    "    t_test = stats.ttest_ind(pre_obs, post_obs)\n",
    "    t_tests.append(t_test)\n",
    "    \n",
    "    mann_whit = stats.mannwhitneyu(pre_obs, post_obs)\n",
    "    mann_whits.append(mann_whit)\n",
    "    \n",
    "   \n",
    "\n",
    "stas = np.array(stas)\n",
    "all_trials = np.array(all_trials)   \n",
    "t_tests = np.array(t_tests)\n",
    "mann_whits = np.array(mann_whits)"
   ]
  },
  {
   "cell_type": "code",
   "execution_count": null,
   "metadata": {},
   "outputs": [],
   "source": [
    "#set this to true if you want to multiple comparisons correct for the number of cells\n",
    "multi_comp_correction = True\n",
    "if not multi_comp_correction: \n",
    "    divisor = 1\n",
    "else:\n",
    "    divisor = num_units"
   ]
  },
  {
   "cell_type": "code",
   "execution_count": null,
   "metadata": {},
   "outputs": [],
   "source": [
    "p_vals = [t[1] for t in t_tests]\n",
    "idx = range(len(p_vals))\n",
    "\n",
    "if multi_comp_correction:\n",
    "    print('performing t-test on cells with mutliple comparisons correction')\n",
    "else:\n",
    "    print('performing t-test on cells without mutliple comparisons correction')\n",
    "    \n",
    "count = 0\n",
    "sig_units = []\n",
    "for p,i in sorted(zip(p_vals,idx)):\n",
    "    if p < 0.05 / divisor:\n",
    "        count += 1\n",
    "        unit_index = stat[i]['original_index']\n",
    "        print('stimulation has significantly changed fluoresence of s2p unit {}, its P value is {}'.format(unit_index, p))\n",
    "        sig_units.append(i) #significant units"
   ]
  },
  {
   "cell_type": "code",
   "execution_count": null,
   "metadata": {
    "scrolled": false
   },
   "outputs": [],
   "source": [
    "#set the unit number here you want to plot\n",
    "for i in sig_units:\n",
    "    unit = i\n",
    "    unit_index = stat[i]['original_index']\n",
    "    \n",
    "    frame_rate = 30\n",
    "    x_axis = (np.arange(len(sta)) - pre_frames) / frame_rate\n",
    "\n",
    "    plt.figure()\n",
    "\n",
    "    sta = stas[unit]\n",
    "    [plt.plot(x_axis, t, c='grey', alpha=0.2) for t in all_trials[unit,:,:]]\n",
    "    plt.plot(x_axis, sta)\n",
    "    plt.title('Unit ' + str(unit_index))\n",
    "    plt.xlabel('Time (seconds)')\n",
    "    plt.ylabel('DFoF (%)')\n",
    "    #plt.ylim((-100,200))\n",
    "    sns.despine()\n",
    "    plt.savefig('s2_responsive_cell.pdf')"
   ]
  },
  {
   "cell_type": "code",
   "execution_count": null,
   "metadata": {},
   "outputs": [],
   "source": []
  }
 ],
 "metadata": {
  "kernelspec": {
   "display_name": "Python 3",
   "language": "python",
   "name": "python3"
  },
  "language_info": {
   "codemirror_mode": {
    "name": "ipython",
    "version": 3
   },
   "file_extension": ".py",
   "mimetype": "text/x-python",
   "name": "python",
   "nbconvert_exporter": "python",
   "pygments_lexer": "ipython3",
   "version": "3.7.1"
  }
 },
 "nbformat": 4,
 "nbformat_minor": 2
}
