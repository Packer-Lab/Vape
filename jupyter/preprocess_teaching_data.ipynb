{
 "cells": [
  {
   "cell_type": "code",
   "execution_count": 1,
   "metadata": {},
   "outputs": [],
   "source": [
    "%matplotlib inline"
   ]
  },
  {
   "cell_type": "code",
   "execution_count": 2,
   "metadata": {},
   "outputs": [],
   "source": [
    "%run ./setup_notebook.ipynb  # Change path in setup_notebook if needed"
   ]
  },
  {
   "cell_type": "code",
   "execution_count": 3,
   "metadata": {},
   "outputs": [],
   "source": [
    "import pickle\n",
    "import run_functions as rf\n",
    "from subsets_analysis import Subsets"
   ]
  },
  {
   "cell_type": "code",
   "execution_count": 4,
   "metadata": {},
   "outputs": [],
   "source": [
    "# run_dict = {\n",
    "#             'J048' : [27, 29, 30, 32], \n",
    "#             'RL048': [23, 24, 25, 28, 29]\n",
    "#            }\n",
    "\n",
    "# # just take the first session from the first mouse for now\n",
    "# mouse = list(run_dict.keys())[0]\n",
    "# run_number  = run_dict[mouse][0]\n",
    "\n",
    "# pkl_path = '/home/jamesrowland/Documents/Code/Vape/run_pkls/'\n",
    "\n",
    "# run_path = os.path.join(pkl_path, mouse, 'run{}.pkl'.format(run_number))\n",
    "\n",
    "run_path = '/media/thijs/shoal/calcium_imaging_teaching/run27.pkl'  # Change path"
   ]
  },
  {
   "cell_type": "code",
   "execution_count": 5,
   "metadata": {},
   "outputs": [],
   "source": [
    "## Load data:\n",
    "with open (run_path, 'rb') as f:\n",
    "    run = pickle.load(f)"
   ]
  },
  {
   "cell_type": "code",
   "execution_count": 6,
   "metadata": {},
   "outputs": [],
   "source": [
    "# how many frames before and after the onset of lick trial to include in the kernal\n",
    "pre_frames  = 5\n",
    "post_frames = 9\n",
    "fs = 5  # frame rate / plane\n",
    "offset = 4"
   ]
  },
  {
   "cell_type": "code",
   "execution_count": 7,
   "metadata": {},
   "outputs": [],
   "source": [
    "# the number of cells stimulated on each trial\n",
    "trial_subsets = Subsets(run).trial_subsets"
   ]
  },
  {
   "cell_type": "code",
   "execution_count": 8,
   "metadata": {},
   "outputs": [],
   "source": [
    "run = rf.filter_unhealthy_cells(run)\n",
    "run = utils.lick_binner(run)"
   ]
  },
  {
   "cell_type": "code",
   "execution_count": 9,
   "metadata": {},
   "outputs": [],
   "source": [
    "# run.__dict__.keys()"
   ]
  },
  {
   "cell_type": "code",
   "execution_count": 10,
   "metadata": {},
   "outputs": [],
   "source": [
    "flu_array = utils.build_flu_array(run, run.trial_start, pre_frames, post_frames)\n",
    "\n",
    "# remove frames with artifact during photostimulation\n",
    "artifact_free = np.hstack((\n",
    "                np.arange(pre_frames), \n",
    "                np.arange(pre_frames+offset, pre_frames+post_frames\n",
    "                         )))\n",
    "\n",
    "flu_array = flu_array[:, :, artifact_free]"
   ]
  },
  {
   "cell_type": "code",
   "execution_count": 11,
   "metadata": {},
   "outputs": [],
   "source": [
    "### filter out trials\n",
    "# remove trials where 150 cells were stimmed (longer and larger artifact)\n",
    "non_150 = trial_subsets!=150\n",
    "non_nan = ~np.isnan(np.mean(np.mean(flu_array,0),1))\n",
    "trials_keep = non_150 & non_nan"
   ]
  },
  {
   "cell_type": "code",
   "execution_count": 12,
   "metadata": {},
   "outputs": [],
   "source": [
    "## Define data class:\n",
    "class Session():\n",
    "    \"\"\"Class that stores all relevant data of one recording session.\"\"\"\n",
    "    def __init__(self):\n",
    "        self.flu_array = flu_array[:, trials_keep, :]  # cells X trials X frames\n",
    "        self.trial_type = np.array(run.trial_type)[trials_keep]\n",
    "        self.outcome = run.outcome[trials_keep]\n",
    "        self.trial_stim = trial_subsets[trials_keep]  # number of stimulated cells per trial\n",
    "        assert self.flu_array.shape[1] == len(self.trial_type) == len(self.outcome)\n",
    "        self.n_cells, self.n_trials, self.n_frames = self.flu_array.shape"
   ]
  },
  {
   "cell_type": "code",
   "execution_count": 13,
   "metadata": {},
   "outputs": [],
   "source": [
    "session = Session()  # initiate class"
   ]
  },
  {
   "cell_type": "code",
   "execution_count": 14,
   "metadata": {},
   "outputs": [
    {
     "data": {
      "text/plain": [
       "array([ 0.28437889,  0.41735151, -0.01537711,  0.11531141, -0.23521256,\n",
       "       -0.15542518,  0.10384657,  0.07064252,  0.13862137, -0.48861152])"
      ]
     },
     "execution_count": 14,
     "metadata": {},
     "output_type": "execute_result"
    }
   ],
   "source": [
    "## Example of how to access class:\n",
    "i_cell = 100\n",
    "i_trial = 45\n",
    "session.flu_array[i_cell, i_trial, :]"
   ]
  },
  {
   "cell_type": "code",
   "execution_count": 15,
   "metadata": {},
   "outputs": [],
   "source": [
    "## Save session class as pickle file:\n",
    "with open('session1.pkl', 'wb') as f:\n",
    "    pickle.dump(session, f)\n",
    "    \n",
    "## Load session class from pickle file:\n",
    "# with open('session1.pkl', 'rb') as f:\n",
    "#     a = pickle.load(f)"
   ]
  }
 ],
 "metadata": {
  "kernelspec": {
   "display_name": "Python 3",
   "language": "python",
   "name": "python3"
  },
  "language_info": {
   "codemirror_mode": {
    "name": "ipython",
    "version": 3
   },
   "file_extension": ".py",
   "mimetype": "text/x-python",
   "name": "python",
   "nbconvert_exporter": "python",
   "pygments_lexer": "ipython3",
   "version": "3.7.4"
  }
 },
 "nbformat": 4,
 "nbformat_minor": 2
}
