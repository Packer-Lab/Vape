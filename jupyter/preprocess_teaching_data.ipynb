{
 "cells": [
  {
   "cell_type": "code",
   "execution_count": 1,
   "metadata": {},
   "outputs": [],
   "source": [
    "%matplotlib inline"
   ]
  },
  {
   "cell_type": "code",
   "execution_count": 2,
   "metadata": {},
   "outputs": [],
   "source": [
    "%run ./setup_notebook.ipynb"
   ]
  },
  {
   "cell_type": "code",
   "execution_count": 3,
   "metadata": {},
   "outputs": [],
   "source": [
    "import pickle\n",
    "import run_functions as rf\n",
    "from subsets_analysis import Subsets"
   ]
  },
  {
   "cell_type": "code",
   "execution_count": 4,
   "metadata": {},
   "outputs": [],
   "source": [
    "run_dict = {\n",
    "            'J048' : [27, 29, 30, 32], \n",
    "            'RL048': [23, 24, 25, 28, 29]\n",
    "           }\n",
    "\n",
    "# just take the first session from the first mouse for now\n",
    "mouse = list(run_dict.keys())[0]\n",
    "run_number  = run_dict[mouse][0]\n",
    "\n",
    "pkl_path = '/home/jamesrowland/Documents/Code/Vape/run_pkls/'\n",
    "\n",
    "run_path = os.path.join(pkl_path, mouse, 'run{}.pkl'.format(run_number))\n",
    "\n",
    "with open (run_path, 'rb') as f:\n",
    "    run = pickle.load(f)"
   ]
  },
  {
   "cell_type": "code",
   "execution_count": 5,
   "metadata": {},
   "outputs": [],
   "source": [
    "# how many frames before and after the onset of lick trial to include in the kernal\n",
    "pre_frames  = 5\n",
    "post_frames = 9\n",
    "fs = 5  # frame rate / plane\n",
    "offset = 4"
   ]
  },
  {
   "cell_type": "code",
   "execution_count": 6,
   "metadata": {},
   "outputs": [],
   "source": [
    "# the number of cells stimulated on each trial\n",
    "trial_subsets = Subsets(run).trial_subsets"
   ]
  },
  {
   "cell_type": "code",
   "execution_count": 7,
   "metadata": {},
   "outputs": [],
   "source": [
    "run = rf.filter_unhealthy_cells(run)\n",
    "run = utils.lick_binner(run)"
   ]
  },
  {
   "cell_type": "code",
   "execution_count": 8,
   "metadata": {},
   "outputs": [
    {
     "data": {
      "text/plain": [
       "dict_keys(['mouse_id', 'df', 'rows_2p', 'rows_1p', 'dates_2p', 'paqs', 'naparm_folders', 'blimp_folders', 'pycontrol_folders', 'prereward_folders', 'tseries_folders', 'plane_numbers', 'run_pycontrol_txt', 'num_planes', 'blimp_path', 'naparm_path', 'pycontrol_path', 'paq_path', 'prereward_path', 'tseries_paths', 'align_barcode', 'trial_info', 'session', 'print_lines', 'trial_time', 'outcome', 'slm_barcode', 'slm_trial_number', 'nogo_barcode', 'nogo_trial_number', 'alltrials_barcodes', 'rsync', 'trial_start', 'paq_rsync', 'frame_clock', 'x_galvo_uncaging', 'slm2packio', 'paq_rate', 'aligner', 'paq_correct', 'pre_rsync', 'pre_licks', 'pre_reward', 'prereward_aligner', 'both_aligner', 'num_frames', 's2p_path', 'flu_raw', 'frames_ms', 'frames_ms_pre', 'flu', 'spks', 'stat', 'licks', 'binned_licks_easytest'])"
      ]
     },
     "execution_count": 8,
     "metadata": {},
     "output_type": "execute_result"
    }
   ],
   "source": [
    "run.__dict__.keys()"
   ]
  },
  {
   "cell_type": "code",
   "execution_count": 9,
   "metadata": {},
   "outputs": [],
   "source": [
    "flu_array = utils.build_flu_array(run, run.trial_start, pre_frames, post_frames)\n",
    "\n",
    "# remove frames with artifact\n",
    "artifact_free = np.hstack((\n",
    "                np.arange(pre_frames), \n",
    "                np.arange(pre_frames+offset, pre_frames+post_frames\n",
    "                         )))\n",
    "\n",
    "flu_array = flu_array[:, :, artifact_free]\n",
    "\n"
   ]
  },
  {
   "cell_type": "code",
   "execution_count": 52,
   "metadata": {},
   "outputs": [],
   "source": [
    "### filter out trials\n",
    "# remove trials where 150 cells were stimmed (longer and larger artifact)\n",
    "non_150 = trial_subsets!=150\n",
    "non_nan = ~np.isnan(np.mean(np.mean(flu_array,0),1))\n",
    "trials_keep = non_150 & non_nan"
   ]
  },
  {
   "cell_type": "code",
   "execution_count": 73,
   "metadata": {},
   "outputs": [],
   "source": [
    "class Session():\n",
    "    def __init__(self):\n",
    "        self.flu_array = flu_array[:, trials_keep, :]\n",
    "        self.trial_type = np.array(run.trial_type)[trials_keep]\n",
    "        self.outcome = run.outcome[trials_keep]\n",
    "        assert self.flu_array.shape[1] == len(self.trial_type) == len(self.outcome)\n"
   ]
  },
  {
   "cell_type": "code",
   "execution_count": 78,
   "metadata": {},
   "outputs": [],
   "source": [
    "session = Session()"
   ]
  },
  {
   "cell_type": "code",
   "execution_count": 80,
   "metadata": {},
   "outputs": [],
   "source": [
    "with open('session1.pkl', 'wb') as f:\n",
    "    pickle.dump(Session, f)"
   ]
  },
  {
   "cell_type": "code",
   "execution_count": null,
   "metadata": {},
   "outputs": [],
   "source": []
  },
  {
   "cell_type": "code",
   "execution_count": null,
   "metadata": {},
   "outputs": [],
   "source": []
  },
  {
   "cell_type": "code",
   "execution_count": null,
   "metadata": {},
   "outputs": [],
   "source": []
  },
  {
   "cell_type": "code",
   "execution_count": null,
   "metadata": {},
   "outputs": [],
   "source": []
  },
  {
   "cell_type": "code",
   "execution_count": null,
   "metadata": {},
   "outputs": [],
   "source": []
  },
  {
   "cell_type": "code",
   "execution_count": null,
   "metadata": {},
   "outputs": [],
   "source": []
  },
  {
   "cell_type": "code",
   "execution_count": null,
   "metadata": {},
   "outputs": [],
   "source": []
  }
 ],
 "metadata": {
  "kernelspec": {
   "display_name": "Python 3",
   "language": "python",
   "name": "python3"
  },
  "language_info": {
   "codemirror_mode": {
    "name": "ipython",
    "version": 3
   },
   "file_extension": ".py",
   "mimetype": "text/x-python",
   "name": "python",
   "nbconvert_exporter": "python",
   "pygments_lexer": "ipython3",
   "version": "3.7.3"
  }
 },
 "nbformat": 4,
 "nbformat_minor": 2
}
