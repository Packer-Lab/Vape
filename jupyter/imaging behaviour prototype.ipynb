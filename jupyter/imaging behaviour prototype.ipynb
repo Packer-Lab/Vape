{
 "cells": [
  {
   "cell_type": "code",
   "execution_count": 1,
   "metadata": {},
   "outputs": [],
   "source": [
    "#ipython magic\n",
    "#%reset -f\n",
    "%matplotlib notebook \n",
    "%load_ext autoreload\n",
    "%autoreload 2"
   ]
  },
  {
   "cell_type": "code",
   "execution_count": 2,
   "metadata": {},
   "outputs": [],
   "source": [
    "#general imports\n",
    "import sys\n",
    "sys.path.append('..')\n",
    "sys.path.append('/home/jamesrowland/Documents/Code/Vape/utils')\n",
    "import os\n",
    "import numpy as np\n",
    "import matplotlib.pyplot as plt\n",
    "import seaborn as sns\n",
    "import copy"
   ]
  },
  {
   "cell_type": "code",
   "execution_count": 3,
   "metadata": {},
   "outputs": [],
   "source": [
    "#notebook specific imports\n",
    "import pickle\n",
    "import time\n",
    "from utils_funcs import s2p_loader, correct_s2p_combined, dfof, dfof2\n",
    "from matplotlib.widgets import Lasso\n",
    "from matplotlib.collections import RegularPolyCollection\n",
    "from matplotlib import colors as mcolors, path"
   ]
  },
  {
   "cell_type": "code",
   "execution_count": 4,
   "metadata": {},
   "outputs": [],
   "source": [
    "#global plotting params\n",
    "sns.set()\n",
    "sns.set_style('white')\n",
    "params = {'legend.fontsize': 'x-large',\n",
    "         'axes.labelsize': 'x-large',\n",
    "         'axes.titlesize':'x-large',\n",
    "         'xtick.labelsize':'x-large',\n",
    "         'ytick.labelsize':'x-large'}\n",
    "plt.rcParams.update(params)\n"
   ]
  },
  {
   "cell_type": "code",
   "execution_count": 20,
   "metadata": {},
   "outputs": [],
   "source": [
    "with open('/home/jamesrowland/Documents/Code/Vape/run_pkls/J048/run19.pkl', 'rb') as f:\n",
    "    run = pickle.load(f)"
   ]
  },
  {
   "cell_type": "code",
   "execution_count": 6,
   "metadata": {},
   "outputs": [],
   "source": [
    "correct_s2p_combined(run.s2p_path)\n",
    "combined_path = os.path.join(run.s2p_path, 'combined')"
   ]
  },
  {
   "cell_type": "code",
   "execution_count": 7,
   "metadata": {},
   "outputs": [
    {
     "name": "stdout",
     "output_type": "stream",
     "text": [
      "Loading 4244 traces labelled as cells\n",
      "Subtracting neuropil with a coefficient of 0.7\n"
     ]
    },
    {
     "data": {
      "text/plain": [
       "(4244, 15021)"
      ]
     },
     "execution_count": 7,
     "metadata": {},
     "output_type": "execute_result"
    }
   ],
   "source": [
    "flu, stat = s2p_loader(combined_path, subtract_neuropil=True)\n",
    "flu = dfof2(flu)\n",
    "flu.shape"
   ]
  },
  {
   "cell_type": "code",
   "execution_count": 8,
   "metadata": {},
   "outputs": [],
   "source": [
    "assert sum(run.num_frames) == flu.shape[1] * 3 # change if not three planes"
   ]
  },
  {
   "cell_type": "code",
   "execution_count": 22,
   "metadata": {},
   "outputs": [
    {
     "data": {
      "text/plain": [
       "[13548, 13548, 13548, 4419]"
      ]
     },
     "execution_count": 22,
     "metadata": {},
     "output_type": "execute_result"
    }
   ],
   "source": [
    "num_frames = run.num_frames\n",
    "num_frames"
   ]
  },
  {
   "cell_type": "code",
   "execution_count": 10,
   "metadata": {},
   "outputs": [],
   "source": [
    "fc = run.frame_clock / run.paq_rate"
   ]
  },
  {
   "cell_type": "code",
   "execution_count": 51,
   "metadata": {},
   "outputs": [],
   "source": [
    "gap_idx = np.where(np.diff(fc) > 1)\n",
    "gap_idx = np.insert(gap_idx, 0, 0)\n",
    "gap_idx = np.append(gap_idx, len(fc))"
   ]
  },
  {
   "cell_type": "code",
   "execution_count": 52,
   "metadata": {},
   "outputs": [
    {
     "data": {
      "text/plain": [
       "array([   99, 13557, 13557, 13558,  4426])"
      ]
     },
     "execution_count": 52,
     "metadata": {},
     "output_type": "execute_result"
    }
   ],
   "source": [
    "clock_num_frames"
   ]
  },
  {
   "cell_type": "code",
   "execution_count": 69,
   "metadata": {},
   "outputs": [
    {
     "name": "stdout",
     "output_type": "stream",
     "text": [
      "13557\n",
      "13557\n",
      "13558\n",
      "4426\n"
     ]
    }
   ],
   "source": [
    "clock_num_frames = np.diff(gap_idx)\n",
    "real_frames = [False] * len(fc)\n",
    "\n",
    "prev = 0\n",
    "\n",
    "for n in num_frames: \n",
    "\n",
    "    try:\n",
    "        idx = next(i for i,c in enumerate(clock_num_frames) if c >= n-15 and c <= n + 15)\n",
    "        real_frames[prev:prev+clock_num_frames[idx] = True\n",
    "    except StopIteration:\n",
    "        continue \n",
    "        \n",
    "    print(clock_num_frames[idx])\n",
    "    clock_num_frames = np.delete(clock_num_frames, idx)\n"
   ]
  },
  {
   "cell_type": "code",
   "execution_count": 17,
   "metadata": {},
   "outputs": [
    {
     "ename": "NameError",
     "evalue": "name 'frame_clock' is not defined",
     "output_type": "error",
     "traceback": [
      "\u001b[0;31m---------------------------------------------------------------------------\u001b[0m",
      "\u001b[0;31mNameError\u001b[0m                                 Traceback (most recent call last)",
      "\u001b[0;32m<ipython-input-17-a699debc5c4b>\u001b[0m in \u001b[0;36m<module>\u001b[0;34m\u001b[0m\n\u001b[1;32m     61\u001b[0m \u001b[0;34m\u001b[0m\u001b[0m\n\u001b[1;32m     62\u001b[0m \u001b[0;34m\u001b[0m\u001b[0m\n\u001b[0;32m---> 63\u001b[0;31m \u001b[0maxis_edge\u001b[0m \u001b[0;34m=\u001b[0m \u001b[0;36m2\u001b[0m\u001b[0;34m*\u001b[0m\u001b[0mmin\u001b[0m\u001b[0;34m(\u001b[0m\u001b[0mframe_clock\u001b[0m\u001b[0;34m)\u001b[0m\u001b[0;34m\u001b[0m\u001b[0;34m\u001b[0m\u001b[0m\n\u001b[0m\u001b[1;32m     64\u001b[0m \u001b[0mdata\u001b[0m \u001b[0;34m=\u001b[0m \u001b[0;34m[\u001b[0m\u001b[0mDatum\u001b[0m\u001b[0;34m(\u001b[0m\u001b[0;34m*\u001b[0m\u001b[0mxy\u001b[0m\u001b[0;34m)\u001b[0m \u001b[0;32mfor\u001b[0m \u001b[0mxy\u001b[0m \u001b[0;32min\u001b[0m \u001b[0mnp\u001b[0m\u001b[0;34m.\u001b[0m\u001b[0mtranspose\u001b[0m\u001b[0;34m(\u001b[0m\u001b[0mnp\u001b[0m\u001b[0;34m.\u001b[0m\u001b[0mvstack\u001b[0m\u001b[0;34m(\u001b[0m\u001b[0;34m(\u001b[0m\u001b[0mframe_clock\u001b[0m\u001b[0;34m,\u001b[0m \u001b[0mnp\u001b[0m\u001b[0;34m.\u001b[0m\u001b[0mones\u001b[0m\u001b[0;34m(\u001b[0m\u001b[0mlen\u001b[0m\u001b[0;34m(\u001b[0m\u001b[0mframe_clock\u001b[0m\u001b[0;34m)\u001b[0m\u001b[0;34m)\u001b[0m\u001b[0;34m)\u001b[0m\u001b[0;34m)\u001b[0m\u001b[0;34m)\u001b[0m\u001b[0;34m]\u001b[0m\u001b[0;34m\u001b[0m\u001b[0;34m\u001b[0m\u001b[0m\n\u001b[1;32m     65\u001b[0m \u001b[0max\u001b[0m \u001b[0;34m=\u001b[0m \u001b[0mplt\u001b[0m\u001b[0;34m.\u001b[0m\u001b[0maxes\u001b[0m\u001b[0;34m(\u001b[0m\u001b[0mxlim\u001b[0m\u001b[0;34m=\u001b[0m\u001b[0;34m(\u001b[0m\u001b[0mmin\u001b[0m\u001b[0;34m(\u001b[0m\u001b[0mframe_clock\u001b[0m\u001b[0;34m)\u001b[0m\u001b[0;34m-\u001b[0m\u001b[0maxis_edge\u001b[0m\u001b[0;34m,\u001b[0m \u001b[0mmax\u001b[0m\u001b[0;34m(\u001b[0m\u001b[0mframe_clock\u001b[0m\u001b[0;34m)\u001b[0m\u001b[0;34m+\u001b[0m\u001b[0maxis_edge\u001b[0m\u001b[0;34m)\u001b[0m\u001b[0;34m,\u001b[0m \u001b[0mylim\u001b[0m\u001b[0;34m=\u001b[0m\u001b[0;34m(\u001b[0m\u001b[0;36m0\u001b[0m\u001b[0;34m,\u001b[0m \u001b[0;36m2\u001b[0m\u001b[0;34m)\u001b[0m\u001b[0;34m,\u001b[0m \u001b[0mautoscale_on\u001b[0m\u001b[0;34m=\u001b[0m\u001b[0;32mFalse\u001b[0m\u001b[0;34m)\u001b[0m\u001b[0;34m\u001b[0m\u001b[0;34m\u001b[0m\u001b[0m\n",
      "\u001b[0;31mNameError\u001b[0m: name 'frame_clock' is not defined"
     ]
    }
   ],
   "source": [
    "class Datum(object):\n",
    "    colorin = mcolors.to_rgba(\"red\")\n",
    "    colorout = mcolors.to_rgba(\"blue\")\n",
    "\n",
    "    def __init__(self, x, y, include=False):\n",
    "        self.x = x\n",
    "        self.y = y\n",
    "        if include:\n",
    "            self.color = self.colorin\n",
    "        else:\n",
    "            self.color = self.colorout\n",
    "\n",
    "\n",
    "class LassoManager(object):\n",
    "    def __init__(self, ax, data):\n",
    "        self.axes = ax\n",
    "        self.canvas = ax.figure.canvas\n",
    "        self.data = data\n",
    "\n",
    "        self.Nxy = len(data)\n",
    "\n",
    "        facecolors = [d.color for d in data]\n",
    "        self.xys = [(d.x, d.y) for d in data]\n",
    "        self.collection = RegularPolyCollection(4, sizes=(100,),\n",
    "                                                facecolors=facecolors,\n",
    "                                                offsets=self.xys,\n",
    "                                                transOffset=ax.transData,\n",
    "                                                alpha =0.01)\n",
    "        ax.add_collection(self.collection)\n",
    "\n",
    "        self.cid = self.canvas.mpl_connect('button_press_event', self.onpress)\n",
    "\n",
    "    def callback(self, verts):\n",
    "        facecolors = self.collection.get_facecolors()\n",
    "        p = path.Path(verts)\n",
    "        # True if point selected else false \n",
    "        self.ind = p.contains_points(self.xys)\n",
    "        for i in range(len(self.xys)):\n",
    "            if self.ind[i]:\n",
    "                facecolors[i] = Datum.colorin\n",
    "            else:\n",
    "                facecolors[i] = Datum.colorout\n",
    "\n",
    "        self.canvas.draw_idle()\n",
    "        self.canvas.widgetlock.release(self.lasso)\n",
    "        del self.lasso\n",
    "\n",
    "    def onpress(self, event):\n",
    "\n",
    "        if self.canvas.widgetlock.locked():\n",
    "            return\n",
    "        if event.inaxes is None:\n",
    "            return\n",
    "        self.lasso = Lasso(event.inaxes,\n",
    "                           (event.xdata, event.ydata),\n",
    "                           self.callback)\n",
    "        # acquire a lock on the widget drawing\n",
    "        self.canvas.widgetlock(self.lasso)\n",
    "\n",
    "\n",
    "axis_edge = 2*min(frame_clock) \n",
    "data = [Datum(*xy) for xy in np.transpose(np.vstack((frame_clock, np.ones(len(frame_clock)))))]\n",
    "ax = plt.axes(xlim=(min(frame_clock)-axis_edge, max(frame_clock)+axis_edge), ylim=(0, 2), autoscale_on=False)\n",
    "ax.set_title('Lasso points using left mouse button')\n",
    "\n",
    "lman = LassoManager(ax, data)\n",
    "plt.show()"
   ]
  }
 ],
 "metadata": {
  "kernelspec": {
   "display_name": "Python 3",
   "language": "python",
   "name": "python3"
  },
  "language_info": {
   "codemirror_mode": {
    "name": "ipython",
    "version": 3
   },
   "file_extension": ".py",
   "mimetype": "text/x-python",
   "name": "python",
   "nbconvert_exporter": "python",
   "pygments_lexer": "ipython3",
   "version": "3.7.3"
  }
 },
 "nbformat": 4,
 "nbformat_minor": 2
}
