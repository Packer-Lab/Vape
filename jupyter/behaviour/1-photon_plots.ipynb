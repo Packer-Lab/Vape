{
 "cells": [
  {
   "cell_type": "code",
   "execution_count": 1,
   "metadata": {},
   "outputs": [],
   "source": [
    "# imports general modules, runs ipython magic commands\n",
    "# change path in this notebook to point to repo locally\n",
    "# n.b. sometimes need to run this cell twice to init the plotting paramters\n",
    "%run ../setup_notebook.ipynb"
   ]
  },
  {
   "cell_type": "code",
   "execution_count": 6,
   "metadata": {},
   "outputs": [],
   "source": [
    "from opto_stim_import2 import BlimpImport\n",
    "import pickle\n",
    "from utils.utils_funcs import d_prime\n",
    "\n",
    "sys.path.append(os.path.expanduser('~/Documents/code'))\n",
    "import wampl.wes as wes\n",
    "wes.set_palette('FantasticFox1')\n",
    "plt.rcParams['pdf.fonttype'] = 42"
   ]
  },
  {
   "cell_type": "code",
   "execution_count": 7,
   "metadata": {},
   "outputs": [],
   "source": [
    "figure_path = '/home/jrowland/mnt/qnap/Figures/bois'\n",
    "if not os.path.exists(figure_path):\n",
    "    os.mkdir(figure_path)"
   ]
  },
  {
   "cell_type": "code",
   "execution_count": 8,
   "metadata": {},
   "outputs": [],
   "source": [
    "mice_dicts = [\n",
    "    \n",
    "{'mouse_id': 'J048'},\n",
    "{'mouse_id': 'RL048'},\n",
    "{'mouse_id': 'J063'},\n",
    "{'mouse_id': 'J064'},\n",
    "{'mouse_id': 'J065'},\n",
    "#{'mouse_id': 'RL070'},\n",
    "{'mouse_id': 'RL072'},\n",
    "    \n",
    "]\n",
    "\n",
    "mice_dicts_controls = [\n",
    "    \n",
    "{'mouse_id': 'J045'},\n",
    "{'mouse_id': 'J046'},\n",
    "{'mouse_id': 'RL037'},\n",
    "{'mouse_id': 'RL038'},\n",
    "    \n",
    "]"
   ]
  },
  {
   "cell_type": "code",
   "execution_count": 9,
   "metadata": {},
   "outputs": [
    {
     "name": "stdout",
     "output_type": "stream",
     "text": [
      "['/home/jrowland/mnt/qnap/Data/2019-06-12/Behaviour1/J048-2019-06-12-164549.txt']\n",
      "Importing data file: J048-2019-06-12-164549.txt\n",
      "['/home/jrowland/mnt/qnap/Data/2019-06-13/Behaviour1/J048-2019-06-13-160645.txt']\n",
      "Importing data file: J048-2019-06-13-160645.txt\n",
      "['/home/jrowland/mnt/qnap/Data/2019-06-14/Behaviour1/J048-2019-06-14-163539.txt']\n",
      "Importing data file: J048-2019-06-14-163539.txt\n",
      "['/home/jrowland/mnt/qnap/Data/2019-06-12/Behaviour1/RL048-2019-06-12-181929.txt']\n",
      "Importing data file: RL048-2019-06-12-181929.txt\n",
      "['/home/jrowland/mnt/qnap/Data/2019-06-13/Behaviour1/RL048-2019-06-13-172939.txt']\n",
      "Importing data file: RL048-2019-06-13-172939.txt\n",
      "['/home/jrowland/mnt/qnap/Data/2019-06-14/Behaviour1/RL048-2019-06-14-175540.txt']\n",
      "Importing data file: RL048-2019-06-14-175540.txt\n",
      "['/home/jrowland/mnt/qnap/Data/2019-06-16/Behaviour1/RL048-2019-06-16-221750.txt']\n",
      "Importing data file: RL048-2019-06-16-221750.txt\n",
      "['/home/jrowland/mnt/qnap/Data/2019-06-18/Behaviour1/RL048-2019-06-18-203211.txt']\n",
      "Importing data file: RL048-2019-06-18-203211.txt\n",
      "['/home/jrowland/mnt/qnap/Data/2019-11-27/Behaviour1/J063-2019-11-27-223718.txt']\n",
      "Importing data file: J063-2019-11-27-223718.txt\n",
      "['/home/jrowland/mnt/qnap/Data/2019-11-28/Behaviour1/J063-2019-11-28-163651.txt']\n",
      "Importing data file: J063-2019-11-28-163651.txt\n",
      "['/home/jrowland/mnt/qnap/Data/2019-11-29/Behaviour1/J063-2019-11-29-175026.txt']\n",
      "Importing data file: J063-2019-11-29-175026.txt\n",
      "['/home/jrowland/mnt/qnap/Data/2019-12-03/Behaviour1/J063-2019-12-03-220849.txt']\n",
      "Importing data file: J063-2019-12-03-220849.txt\n",
      "['/home/jrowland/mnt/qnap/Data/2019-12-04/Behaviour1/J063-2019-12-04-232342.txt']\n",
      "Importing data file: J063-2019-12-04-232342.txt\n",
      "['/home/jrowland/mnt/qnap/Data/2019-12-03/Behaviour1/J064-2019-12-03-190821.txt']\n",
      "Importing data file: J064-2019-12-03-190821.txt\n",
      "['/home/jrowland/mnt/qnap/Data/2019-12-04/Behaviour1/J064-2019-12-04-205235.txt']\n",
      "Importing data file: J064-2019-12-04-205235.txt\n",
      "['/home/jrowland/mnt/qnap/Data/2019-12-05/Behaviour1/J064-2019-12-05-223806.txt']\n",
      "Importing data file: J064-2019-12-05-223806.txt\n",
      "['/home/jrowland/mnt/qnap/Data/2019-12-06/Behaviour1/J064-2019-12-06-152357.txt']\n",
      "Importing data file: J064-2019-12-06-152357.txt\n",
      "['/home/jrowland/mnt/qnap/Data/2019-11-28/Behaviour1/J065-2019-11-28-181532.txt']\n",
      "Importing data file: J065-2019-11-28-181532.txt\n",
      "['/home/jrowland/mnt/qnap/Data/2019-11-29/Behaviour1/J065-2019-11-29-154715.txt']\n",
      "Importing data file: J065-2019-11-29-154715.txt\n",
      "['/home/jrowland/mnt/qnap/Data/2019-12-03/Behaviour1/J065-2019-12-03-190821.txt']\n",
      "Importing data file: J065-2019-12-03-190821.txt\n",
      "['/home/jrowland/mnt/qnap/Data/2019-12-04/Behaviour1/J065-2019-12-04-204246.txt']\n",
      "Importing data file: J065-2019-12-04-204246.txt\n",
      "['/home/jrowland/mnt/qnap/Data/2019-12-05/Behaviour1/J065-2019-12-06-001327.txt']\n",
      "Importing data file: J065-2019-12-06-001327.txt\n",
      "['/home/jrowland/mnt/qnap/Data/2020-01-22/Behaviour1/RL072-2020-01-22-191632.txt']\n",
      "Importing data file: RL072-2020-01-22-191632.txt\n",
      "['/home/jrowland/mnt/qnap/Data/2020-01-23/Behaviour1/RL072-2020-01-23-180714.txt']\n",
      "Importing data file: RL072-2020-01-23-180714.txt\n",
      "['/home/jrowland/mnt/qnap/Data/2020-01-24/Behaviour1/RL072-2020-01-24-203416.txt']\n",
      "Importing data file: RL072-2020-01-24-203416.txt\n",
      "['/home/jrowland/mnt/qnap/Data/2020-01-27/Behaviour1/RL072-2020-01-27-180046.txt']\n",
      "Importing data file: RL072-2020-01-27-180046.txt\n",
      "['/home/jrowland/mnt/qnap/Data/2019-06-01/Behaviour1/J045-2019-06-01-131933.txt']\n",
      "Importing data file: J045-2019-06-01-131933.txt\n",
      "['/home/jrowland/mnt/qnap/Data/2019-06-02/Behaviour1/J045-2019-06-02-162923.txt']\n",
      "Importing data file: J045-2019-06-02-162923.txt\n",
      "['/home/jrowland/mnt/qnap/Data/2019-06-03/Behaviour1/J045-2019-06-03-210644.txt']\n",
      "Importing data file: J045-2019-06-03-210644.txt\n",
      "['/home/jrowland/mnt/qnap/Data/2019-06-04/Behaviour1/J045-2019-06-04-144132.txt']\n",
      "Importing data file: J045-2019-06-04-144132.txt\n",
      "['/home/jrowland/mnt/qnap/Data/2019-06-04/Behaviour1/J045-2019-06-04-152215.txt']\n",
      "Importing data file: J045-2019-06-04-152215.txt\n",
      "['/home/jrowland/mnt/qnap/Data/2019-05-30/Behaviour1/J046-2019-05-30-192038.txt']\n",
      "Importing data file: J046-2019-05-30-192038.txt\n",
      "['/home/jrowland/mnt/qnap/Data/2019-05-31/Behaviour1/J046-2019-05-31-141115.txt']\n",
      "Importing data file: J046-2019-05-31-141115.txt\n",
      "['/home/jrowland/mnt/qnap/Data/2019-06-01/Behaviour1/J046-2019-06-01-131933.txt']\n",
      "Importing data file: J046-2019-06-01-131933.txt\n",
      "['/home/jrowland/mnt/qnap/Data/2019-06-02/Behaviour1/J046-2019-06-02-162923.txt']\n",
      "Importing data file: J046-2019-06-02-162923.txt\n",
      "['/home/jrowland/mnt/qnap/Data/2019-06-03/Behaviour1/J046-2019-06-03-210644.txt']\n",
      "Importing data file: J046-2019-06-03-210644.txt\n",
      "['/home/jrowland/mnt/qnap/Data/2019-06-04/Behaviour1/J046-2019-06-04-144132.txt']\n",
      "Importing data file: J046-2019-06-04-144132.txt\n",
      "['/home/jrowland/mnt/qnap/Data/2019-06-04/Behaviour1/J046-2019-06-04-152215.txt']\n",
      "Importing data file: J046-2019-06-04-152215.txt\n",
      "['/home/jrowland/mnt/qnap/Data/2019-05-30/Behaviour1/RL037-2019-05-30-211454.txt']\n",
      "Importing data file: RL037-2019-05-30-211454.txt\n",
      "['/home/jrowland/mnt/qnap/Data/2019-05-31/Behaviour1/RL037-2019-05-31-173254.txt']\n",
      "Importing data file: RL037-2019-05-31-173254.txt\n",
      "['/home/jrowland/mnt/qnap/Data/2019-06-01/Behaviour1/RL037-2019-06-01-145021.txt']\n",
      "Importing data file: RL037-2019-06-01-145021.txt\n",
      "['/home/jrowland/mnt/qnap/Data/2019-06-02/Behaviour1/RL037-2019-06-02-185537.txt']\n",
      "Importing data file: RL037-2019-06-02-185537.txt\n",
      "['/home/jrowland/mnt/qnap/Data/2019-06-03/Behaviour1/RL037-2019-06-03-225510.txt']\n",
      "Importing data file: RL037-2019-06-03-225510.txt\n",
      "['/home/jrowland/mnt/qnap/Data/2019-06-04/Behaviour1/RL037-2019-06-04-162226.txt']\n",
      "Importing data file: RL037-2019-06-04-162226.txt\n",
      "['/home/jrowland/mnt/qnap/Data/2019-05-30/Behaviour1/RL038-2019-05-30-211454.txt']\n",
      "Importing data file: RL038-2019-05-30-211454.txt\n",
      "['/home/jrowland/mnt/qnap/Data/2019-05-31/Behaviour1/RL038-2019-05-31-173254.txt']\n",
      "Importing data file: RL038-2019-05-31-173254.txt\n",
      "['/home/jrowland/mnt/qnap/Data/2019-06-01/Behaviour1/RL038-2019-06-01-145021.txt']\n",
      "Importing data file: RL038-2019-06-01-145021.txt\n",
      "['/home/jrowland/mnt/qnap/Data/2019-06-02/Behaviour1/RL038-2019-06-02-185537.txt']\n",
      "Importing data file: RL038-2019-06-02-185537.txt\n",
      "['/home/jrowland/mnt/qnap/Data/2019-06-03/Behaviour1/RL038-2019-06-03-225510.txt']\n",
      "Importing data file: RL038-2019-06-03-225510.txt\n"
     ]
    }
   ],
   "source": [
    "for mouse_dict in mice_dicts:\n",
    "    mouse_obj = BlimpImport(mouse_dict['mouse_id'])\n",
    "    mouse_dict['runs'] = mouse_obj.import_1p()\n",
    "    \n",
    "for mouse_dict in mice_dicts_controls:\n",
    "    mouse_obj = BlimpImport(mouse_dict['mouse_id'])\n",
    "    mouse_dict['runs'] = mouse_obj.import_1p()"
   ]
  },
  {
   "cell_type": "code",
   "execution_count": null,
   "metadata": {},
   "outputs": [],
   "source": []
  },
  {
   "cell_type": "code",
   "execution_count": null,
   "metadata": {},
   "outputs": [],
   "source": []
  },
  {
   "cell_type": "code",
   "execution_count": null,
   "metadata": {},
   "outputs": [],
   "source": []
  },
  {
   "cell_type": "code",
   "execution_count": null,
   "metadata": {},
   "outputs": [],
   "source": []
  },
  {
   "cell_type": "code",
   "execution_count": null,
   "metadata": {},
   "outputs": [],
   "source": []
  },
  {
   "cell_type": "code",
   "execution_count": 26,
   "metadata": {},
   "outputs": [],
   "source": [
    "def get_power_arr(runs):\n",
    "    \n",
    "    powers_on_sample = [10,5,2,1,0.5,0.2,0.1]\n",
    "    \n",
    "    LED_currents = []\n",
    "    for run in runs:\n",
    "        if run.session.task_name == 'opto_stim_psychometric':\n",
    "            continue\n",
    "        else:\n",
    "            [LED_currents.append(l) for l in run.LED_current]\n",
    "    switch_trials = [i for i,d in enumerate(np.diff(LED_currents)) if d != 0] \n",
    "    \n",
    "    power_arr = np.zeros(len(LED_currents)) - 100\n",
    "    \n",
    "    for i in range(len(switch_trials)):\n",
    "\n",
    "        if i == 0: \n",
    "            power_arr[0:switch_trials[0]] = powers_on_sample[0]\n",
    "        elif i == len(switch_trials)-1:\n",
    "            power_arr[switch_trials[i]:] = powers_on_sample[-1]\n",
    "        \n",
    "        power_arr[switch_trials[i-1]:switch_trials[i]] = powers_on_sample[i-1]\n",
    "            \n",
    "    return power_arr"
   ]
  },
  {
   "cell_type": "code",
   "execution_count": 27,
   "metadata": {},
   "outputs": [],
   "source": [
    "def ladder_plot(mice_dicts, color=0, label=None):\n",
    "    \n",
    "    power_arrs = []\n",
    "    \n",
    "    for mouse_dict in mice_dicts:\n",
    "    \n",
    "        power_arrs.append(get_power_arr(mouse_dict['runs']))\n",
    "\n",
    "    maxlen =  max([len(a) for a in power_arrs]) \n",
    "    tomean = np.zeros((maxlen, len(power_arrs)))\n",
    "\n",
    "    for i, arr in enumerate(power_arrs):\n",
    "        arr = np.append(arr,[np.nan]*(maxlen - len(arr)))\n",
    "        tomean[:,i] = arr\n",
    "\n",
    "    meaned = np.nanmean(tomean,1)\n",
    "    \n",
    "    plt.plot(meaned, color=sns.color_palette()[color], label=label)\n",
    "    \n",
    "    for arr in power_arrs:\n",
    "        plt.plot(arr, color=sns.color_palette()[color], alpha=0.2)\n",
    "        "
   ]
  },
  {
   "cell_type": "code",
   "execution_count": 28,
   "metadata": {},
   "outputs": [
    {
     "data": {
      "image/png": "[encoded data removed]",
      "text/plain": [
       "<Figure size 432x288 with 1 Axes>"
      ]
     },
     "metadata": {},
     "output_type": "display_data"
    }
   ],
   "source": [
    "plt.figure()\n",
    "\n",
    "power_arrs = ladder_plot(mice_dicts, label='C1V1-kv2.1')\n",
    "power_arrs = ladder_plot(mice_dicts_controls, label='Controls', color=5)\n",
    "\n",
    "plt.xlabel('Trial Number')\n",
    "plt.ylabel('LED power (mW)')\n",
    "plt.legend(bbox_to_anchor=(0.6, 0.4))\n",
    "sns.despine()\n",
    "plt.savefig(os.path.join(figure_path, 'kv21_ladder.pdf'),bbox_inches=\"tight\")\n",
    "plt.savefig(os.path.join(figure_path, 'kv21_ladder.png'),bbox_inches=\"tight\")"
   ]
  },
  {
   "cell_type": "code",
   "execution_count": 29,
   "metadata": {},
   "outputs": [],
   "source": [
    "def get_autoswitch(mice_dicts):\n",
    "       \n",
    "    autoswitches = []\n",
    "      \n",
    "    for mouse_dict in mice_dicts: \n",
    "        autoswitch = 0\n",
    "        for run in mouse_dict['runs']:\n",
    "            if not run.trial_autoswitch:\n",
    "                autoswitch += run.n_trials_complete\n",
    "            else:\n",
    "                autoswitch += run.trial_autoswitch\n",
    "                break\n",
    "                \n",
    "        autoswitches.append(autoswitch)\n",
    "                \n",
    "    return autoswitches"
   ]
  },
  {
   "cell_type": "code",
   "execution_count": 30,
   "metadata": {},
   "outputs": [],
   "source": [
    "def bar_plotter(data, labels, save_name, ypos, ylab = 'Trials to Criterion'):\n",
    "    \n",
    "    fig = plt.figure()\n",
    "\n",
    "    mean_data = [np.nanmean(d) for d in data]\n",
    "    bar_width = 0.9\n",
    "    for i,d in enumerate(data):\n",
    "        plt.plot([ypos[i]]*len(d), d, '.', color=sns.color_palette()[6], markersize=15)\n",
    "    plt.bar(ypos, mean_data, bar_width)\n",
    "    plt.xticks(ypos, labels)\n",
    "    plt.ylabel(ylab)\n",
    "    fig.autofmt_xdate()\n",
    "    sns.despine()\n",
    "    plt.savefig(os.path.join(figure_path, save_name + '.pdf'), )\n",
    "    plt.savefig(os.path.join(figure_path, save_name + '.png'), bbox_inches=\"tight\")"
   ]
  },
  {
   "cell_type": "code",
   "execution_count": 31,
   "metadata": {},
   "outputs": [
    {
     "data": {
      "image/png": "[encoded data removed]",
      "text/plain": [
       "<Figure size 432x288 with 1 Axes>"
      ]
     },
     "metadata": {},
     "output_type": "display_data"
    }
   ],
   "source": [
    "data = [get_autoswitch(mice_dicts), get_autoswitch(mice_dicts_controls)]\n",
    "labels = ('C1V1-kv2.1', 'Controls')\n",
    "save_name = 'Trial_autoswitch'\n",
    "ypos = [0,1]\n",
    "\n",
    "bar_plotter(data, labels, save_name, ypos)"
   ]
  },
  {
   "cell_type": "code",
   "execution_count": 32,
   "metadata": {},
   "outputs": [],
   "source": [
    "def get_dprimes(mice_dicts):\n",
    "    \n",
    "    dprimes = []\n",
    "    for mouse_dict in mice_dicts:\n",
    "        for run in mouse_dict['runs']:\n",
    "            if run.session.task_name == 'opto_stim_psychometric':\n",
    "                continue\n",
    "            else:\n",
    "                dprimes.append(run.dprime)\n",
    "                \n",
    "    return dprimes"
   ]
  },
  {
   "cell_type": "code",
   "execution_count": 33,
   "metadata": {},
   "outputs": [
    {
     "data": {
      "image/png": "[encoded data removed]",
      "text/plain": [
       "<Figure size 432x288 with 1 Axes>"
      ]
     },
     "metadata": {},
     "output_type": "display_data"
    }
   ],
   "source": [
    "bar_plotter([get_dprimes(mice_dicts), get_dprimes(mice_dicts_controls)], labels, '1-photon-dprimes',\n",
    "            ypos, ylab='Total d-prime\\nacross session')\n"
   ]
  },
  {
   "cell_type": "code",
   "execution_count": 34,
   "metadata": {
    "scrolled": true
   },
   "outputs": [
    {
     "name": "stdout",
     "output_type": "stream",
     "text": [
      "['/home/jrowland/mnt/qnap/Data/2019-11-27/Behaviour1/J063-2019-11-27-223718.txt']\n",
      "Importing data file: J063-2019-11-27-223718.txt\n",
      "['/home/jrowland/mnt/qnap/Data/2019-11-28/Behaviour1/J063-2019-11-28-163651.txt']\n",
      "Importing data file: J063-2019-11-28-163651.txt\n",
      "['/home/jrowland/mnt/qnap/Data/2019-11-29/Behaviour1/J063-2019-11-29-175026.txt']\n",
      "Importing data file: J063-2019-11-29-175026.txt\n",
      "['/home/jrowland/mnt/qnap/Data/2019-12-03/Behaviour1/J063-2019-12-03-220849.txt']\n",
      "Importing data file: J063-2019-12-03-220849.txt\n",
      "['/home/jrowland/mnt/qnap/Data/2019-12-04/Behaviour1/J063-2019-12-04-232342.txt']\n",
      "Importing data file: J063-2019-12-04-232342.txt\n"
     ]
    }
   ],
   "source": [
    "mouse_obj = BlimpImport('J063')\n",
    "runs =  mouse_obj.import_1p()\n",
    "run = runs[2]"
   ]
  },
  {
   "cell_type": "code",
   "execution_count": 35,
   "metadata": {},
   "outputs": [],
   "source": [
    "x = get_dprimes(mice_dicts)"
   ]
  },
  {
   "cell_type": "code",
   "execution_count": 37,
   "metadata": {},
   "outputs": [
    {
     "data": {
      "text/plain": [
       "20"
      ]
     },
     "execution_count": 37,
     "metadata": {},
     "output_type": "execute_result"
    }
   ],
   "source": [
    "len(x)"
   ]
  },
  {
   "cell_type": "code",
   "execution_count": 39,
   "metadata": {},
   "outputs": [
    {
     "data": {
      "text/plain": [
       "[{'mouse_id': 'J048',\n",
       "  'runs': [<opto_stim_import2.OptoStim1p at 0x7f931dde94d0>,\n",
       "   <opto_stim_import2.OptoStim1p at 0x7f931dde9650>,\n",
       "   <opto_stim_import2.OptoStim1p at 0x7f931dde9790>]},\n",
       " {'mouse_id': 'RL048',\n",
       "  'runs': [<opto_stim_import2.OptoStim1p at 0x7f93218ed510>,\n",
       "   <opto_stim_import2.OptoStim1p at 0x7f93218edd10>,\n",
       "   <opto_stim_import2.OptoStim1p at 0x7f9321693e50>,\n",
       "   <opto_stim_import2.OptoStim1p at 0x7f931f9202d0>,\n",
       "   <opto_stim_import2.OptoStim1p at 0x7f9321921b90>]},\n",
       " {'mouse_id': 'J063',\n",
       "  'runs': [<opto_stim_import2.OptoStim1p at 0x7f93205c9b90>,\n",
       "   <opto_stim_import2.OptoStim1p at 0x7f93205c9610>,\n",
       "   <opto_stim_import2.OptoStim1p at 0x7f93218e45d0>,\n",
       "   <opto_stim_import2.OptoStim1p at 0x7f93238cd090>,\n",
       "   <opto_stim_import2.OptoStim1p at 0x7f9322da4bd0>]},\n",
       " {'mouse_id': 'J064',\n",
       "  'runs': [<opto_stim_import2.OptoStim1p at 0x7f9320a83290>,\n",
       "   <opto_stim_import2.OptoStim1p at 0x7f9320429390>,\n",
       "   <opto_stim_import2.OptoStim1p at 0x7f93211594d0>,\n",
       "   <opto_stim_import2.OptoStim1p at 0x7f9320e6df90>]},\n",
       " {'mouse_id': 'J065',\n",
       "  'runs': [<opto_stim_import2.OptoStim1p at 0x7f9352ef1e50>,\n",
       "   <opto_stim_import2.OptoStim1p at 0x7f931de42fd0>,\n",
       "   <opto_stim_import2.OptoStim1p at 0x7f931eb2d310>,\n",
       "   <opto_stim_import2.OptoStim1p at 0x7f9353506750>,\n",
       "   <opto_stim_import2.OptoStim1p at 0x7f931ea3f4d0>]},\n",
       " {'mouse_id': 'RL072',\n",
       "  'runs': [<opto_stim_import2.OptoStim1p at 0x7f93218e4350>,\n",
       "   <opto_stim_import2.OptoStim1p at 0x7f93221c95d0>,\n",
       "   <opto_stim_import2.OptoStim1p at 0x7f931f75b110>,\n",
       "   <opto_stim_import2.OptoStim1p at 0x7f9321133ed0>]}]"
      ]
     },
     "execution_count": 39,
     "metadata": {},
     "output_type": "execute_result"
    }
   ],
   "source": [
    "mice_dicts"
   ]
  },
  {
   "cell_type": "code",
   "execution_count": 43,
   "metadata": {},
   "outputs": [],
   "source": [
    "mouse_dict = mice_dicts[0]\n",
    "\n",
    "x = get_power_arr(mouse_dict['runs'])"
   ]
  },
  {
   "cell_type": "code",
   "execution_count": 44,
   "metadata": {},
   "outputs": [
    {
     "data": {
      "text/plain": [
       "array([10. , 10. , 10. , 10. , 10. , 10. , 10. , 10. , 10. , 10. , 10. ,\n",
       "       10. , 10. , 10. , 10. , 10. , 10. , 10. , 10. , 10. , 10. , 10. ,\n",
       "       10. , 10. , 10. , 10. , 10. , 10. , 10. , 10. , 10. , 10. , 10. ,\n",
       "       10. , 10. , 10. , 10. , 10. , 10. , 10. , 10. , 10. , 10. , 10. ,\n",
       "       10. , 10. , 10. , 10. , 10. , 10. , 10. , 10. , 10. , 10. , 10. ,\n",
       "       10. , 10. , 10. , 10. , 10. , 10. , 10. , 10. , 10. , 10. , 10. ,\n",
       "       10. , 10. , 10. , 10. , 10. , 10. , 10. , 10. , 10. , 10. , 10. ,\n",
       "       10. , 10. , 10. , 10. , 10. , 10. , 10. , 10. , 10. , 10. , 10. ,\n",
       "       10. , 10. , 10. , 10. , 10. , 10. , 10. , 10. , 10. , 10. , 10. ,\n",
       "       10. , 10. , 10. , 10. , 10. , 10. , 10. , 10. , 10. , 10. , 10. ,\n",
       "       10. , 10. , 10. , 10. , 10. , 10. , 10. , 10. , 10. , 10. , 10. ,\n",
       "       10. , 10. , 10. , 10. , 10. , 10. , 10. , 10. , 10. , 10. , 10. ,\n",
       "       10. , 10. , 10. , 10. , 10. , 10. , 10. , 10. , 10. , 10. , 10. ,\n",
       "       10. , 10. , 10. , 10. , 10. , 10. , 10. , 10. , 10. , 10. , 10. ,\n",
       "       10. , 10. , 10. , 10. , 10. , 10. , 10. , 10. , 10. , 10. , 10. ,\n",
       "       10. , 10. , 10. , 10. , 10. , 10. , 10. , 10. , 10. , 10. , 10. ,\n",
       "       10. , 10. , 10. , 10. , 10. , 10. , 10. , 10. , 10. , 10. , 10. ,\n",
       "       10. , 10. , 10. , 10. , 10. , 10. , 10. , 10. , 10. , 10. , 10. ,\n",
       "       10. , 10. , 10. , 10. , 10. , 10. , 10. , 10. , 10. , 10. , 10. ,\n",
       "       10. , 10. , 10. , 10. , 10. , 10. , 10. , 10. , 10. , 10. , 10. ,\n",
       "       10. , 10. , 10. , 10. , 10. , 10. , 10. , 10. , 10. , 10. , 10. ,\n",
       "       10. , 10. , 10. , 10. , 10. , 10. , 10. , 10. , 10. , 10. , 10. ,\n",
       "       10. , 10. , 10. , 10. , 10. , 10. , 10. , 10. , 10. , 10. , 10. ,\n",
       "       10. , 10. , 10. , 10. , 10. , 10. , 10. , 10. , 10. , 10. , 10. ,\n",
       "       10. , 10. , 10. , 10. , 10. , 10. , 10. , 10. , 10. , 10. , 10. ,\n",
       "       10. , 10. , 10. , 10. , 10. , 10. , 10. , 10. , 10. , 10. , 10. ,\n",
       "       10. , 10. , 10. , 10. , 10. , 10. , 10. , 10. , 10. , 10. , 10. ,\n",
       "       10. , 10. , 10. , 10. , 10. , 10. , 10. , 10. , 10. , 10. , 10. ,\n",
       "       10. , 10. , 10. , 10. , 10. , 10. , 10. , 10. , 10. , 10. , 10. ,\n",
       "       10. , 10. , 10. , 10. , 10. , 10. , 10. , 10. ,  5. ,  5. ,  5. ,\n",
       "        5. ,  5. ,  5. ,  5. ,  5. ,  2. ,  2. ,  2. ,  2. ,  2. ,  2. ,\n",
       "        2. ,  2. ,  2. ,  2. ,  2. ,  2. ,  2. ,  2. ,  2. ,  2. ,  2. ,\n",
       "        2. ,  2. ,  2. ,  2. ,  2. ,  2. ,  1. ,  1. ,  1. ,  1. ,  1. ,\n",
       "        1. ,  1. ,  1. ,  1. ,  1. ,  1. ,  1. ,  1. ,  1. ,  1. ,  1. ,\n",
       "        1. ,  1. ,  1. ,  1. ,  1. ,  1. ,  1. ,  1. ,  1. ,  1. ,  1. ,\n",
       "        0.5,  0.5,  0.5,  0.5,  0.5,  0.5,  0.5,  0.5,  0.5,  0.5,  0.5,\n",
       "        0.5,  0.5,  0.5,  0.5,  0.5,  0.5,  0.5,  0.5,  0.5,  0.5,  0.5,\n",
       "        0.5,  0.5,  0.5,  0.5,  0.5,  0.5,  0.5,  0.5,  0.5,  0.5,  0.5,\n",
       "        0.5,  0.5,  0.5,  0.5,  0.5,  0.5,  0.5,  0.5,  0.5,  0.5,  0.5,\n",
       "        0.5,  0.5,  0.5,  0.5,  0.5,  0.5,  0.5,  0.5,  0.5,  0.5,  0.5,\n",
       "        0.5,  0.5,  0.5,  0.5,  0.5,  0.5,  0.5,  0.5,  0.5,  0.5,  0.5,\n",
       "        0.5,  0.5,  0.5,  0.5,  0.5,  0.5,  0.5,  0.5,  0.5,  0.5,  0.5,\n",
       "        0.5,  0.5,  0.5,  0.5,  0.5,  0.5,  0.5,  0.5,  0.5,  0.5,  0.5,\n",
       "        0.5,  0.5,  0.5,  0.5,  0.5,  0.5,  0.5,  0.5,  0.5,  0.5,  0.5,\n",
       "        0.5,  0.5,  0.5,  0.5,  0.5,  0.5,  0.5,  0.5,  0.5,  0.5,  0.5,\n",
       "        0.5,  0.5,  0.5,  0.5,  0.5,  0.5,  0.5,  0.5,  0.5,  0.5,  0.5,\n",
       "        0.5,  0.5,  0.5,  0.5,  0.5,  0.5,  0.5,  0.5,  0.5,  0.5,  0.1,\n",
       "        0.1,  0.1,  0.1,  0.1,  0.1,  0.1,  0.1,  0.1])"
      ]
     },
     "execution_count": 44,
     "metadata": {},
     "output_type": "execute_result"
    }
   ],
   "source": [
    "x"
   ]
  },
  {
   "cell_type": "code",
   "execution_count": 101,
   "metadata": {},
   "outputs": [],
   "source": [
    "pm_runs = []\n",
    "for mouse_dict in mice_dicts:\n",
    "    for run in mouse_dict['runs']:\n",
    "        if run.session.task_name == 'opto_stim_psychometric':\n",
    "            pm_runs.append(run)"
   ]
  },
  {
   "cell_type": "code",
   "execution_count": 100,
   "metadata": {},
   "outputs": [
    {
     "data": {
      "text/plain": [
       "[[],\n",
       " <opto_stim_import2.OptoStim1p at 0x7f93238cd090>,\n",
       " <opto_stim_import2.OptoStim1p at 0x7f9322da4bd0>,\n",
       " <opto_stim_import2.OptoStim1p at 0x7f931ea3f4d0>,\n",
       " <opto_stim_import2.OptoStim1p at 0x7f931f75b110>,\n",
       " <opto_stim_import2.OptoStim1p at 0x7f9321133ed0>]"
      ]
     },
     "execution_count": 100,
     "metadata": {},
     "output_type": "execute_result"
    }
   ],
   "source": []
  },
  {
   "cell_type": "code",
   "execution_count": 48,
   "metadata": {},
   "outputs": [],
   "source": []
  },
  {
   "cell_type": "code",
   "execution_count": 54,
   "metadata": {},
   "outputs": [
    {
     "data": {
      "text/plain": [
       "140"
      ]
     },
     "execution_count": 54,
     "metadata": {},
     "output_type": "execute_result"
    }
   ],
   "source": [
    "len(run.LED_current)"
   ]
  },
  {
   "cell_type": "code",
   "execution_count": 55,
   "metadata": {},
   "outputs": [
    {
     "data": {
      "text/plain": [
       "220"
      ]
     },
     "execution_count": 55,
     "metadata": {},
     "output_type": "execute_result"
    }
   ],
   "source": [
    "len(run.outcome)"
   ]
  },
  {
   "cell_type": "code",
   "execution_count": 61,
   "metadata": {},
   "outputs": [
    {
     "data": {
      "text/plain": [
       "140"
      ]
     },
     "execution_count": 61,
     "metadata": {},
     "output_type": "execute_result"
    }
   ],
   "source": [
    "\n",
    "\n",
    "\n",
    "len(go)"
   ]
  },
  {
   "cell_type": "code",
   "execution_count": 75,
   "metadata": {},
   "outputs": [
    {
     "data": {
      "text/plain": [
       "6"
      ]
     },
     "execution_count": 75,
     "metadata": {},
     "output_type": "execute_result"
    }
   ],
   "source": [
    "len(currents)"
   ]
  },
  {
   "cell_type": "code",
   "execution_count": 115,
   "metadata": {},
   "outputs": [],
   "source": [
    "mw = [0.5, 0.1,0.08,0.06,0.04,0.02]\n",
    "mw = np.flip(mw)"
   ]
  },
  {
   "cell_type": "code",
   "execution_count": 69,
   "metadata": {},
   "outputs": [
    {
     "data": {
      "text/plain": [
       "6"
      ]
     },
     "execution_count": 69,
     "metadata": {},
     "output_type": "execute_result"
    }
   ],
   "source": []
  },
  {
   "cell_type": "code",
   "execution_count": 72,
   "metadata": {},
   "outputs": [
    {
     "data": {
      "text/plain": [
       "array([0.15     , 0.29     , 0.42     , 0.56     , 0.6900001, 2.82     ])"
      ]
     },
     "execution_count": 72,
     "metadata": {},
     "output_type": "execute_result"
    }
   ],
   "source": [
    "np.sort(currents)"
   ]
  },
  {
   "cell_type": "code",
   "execution_count": 138,
   "metadata": {},
   "outputs": [],
   "source": [
    "psychos = []\n",
    "\n",
    "\n",
    "\n",
    "\n",
    "for idx, run in enumerate(pm_runs):\n",
    "    \n",
    "    # Poor session\n",
    "    if idx == 3:\n",
    "        continue\n",
    "\n",
    "    LED_currents = run.LED_current\n",
    "    currents = np.unique(LED_currents)\n",
    "\n",
    "    n_fp = (run.outcome=='fp').sum()\n",
    "    n_cr = (run.outcome=='cr').sum()\n",
    "\n",
    "    go_idx = np.where((run.outcome=='hit') | (run.outcome=='miss') )[0]\n",
    "    go = run.outcome[go_idx]\n",
    "\n",
    "    fp_rate = n_fp / (n_fp + n_cr)\n",
    "    \n",
    "    dps = []\n",
    "    for c in np.sort(currents):\n",
    "        c_idx = np.where(LED_currents==c)\n",
    "\n",
    "        outcome = go[c_idx]\n",
    "\n",
    "        n_hits = (outcome=='hit').sum()\n",
    "        n_miss = (outcome=='miss').sum()\n",
    "\n",
    "        hit_rate = n_hits / (n_hits + n_miss)\n",
    "\n",
    "        dp = d_prime(hit_rate, fp_rate)\n",
    "        \n",
    "        dps.append(dp)\n",
    "    psychos.append(dps)\n",
    "\n",
    "\n",
    "psychos = np.array(psychos)\n"
   ]
  },
  {
   "cell_type": "code",
   "execution_count": 139,
   "metadata": {},
   "outputs": [
    {
     "data": {
      "text/plain": [
       "(5, 6)"
      ]
     },
     "execution_count": 139,
     "metadata": {},
     "output_type": "execute_result"
    }
   ],
   "source": [
    "psychos.shape"
   ]
  },
  {
   "cell_type": "code",
   "execution_count": 140,
   "metadata": {},
   "outputs": [
    {
     "data": {
      "text/plain": [
       "[<matplotlib.lines.Line2D at 0x7f931ac8fed0>]"
      ]
     },
     "execution_count": 140,
     "metadata": {},
     "output_type": "execute_result"
    },
    {
     "data": {
      "image/png": "[encoded data removed]",
      "text/plain": [
       "<Figure size 432x288 with 1 Axes>"
      ]
     },
     "metadata": {},
     "output_type": "display_data"
    }
   ],
   "source": [
    "plt.plot(np.mean(psychos,0))"
   ]
  },
  {
   "cell_type": "code",
   "execution_count": 149,
   "metadata": {},
   "outputs": [],
   "source": [
    "psychos = psychos[:, 0:5]\n",
    "mw = mw[0:5]\n"
   ]
  },
  {
   "cell_type": "code",
   "execution_count": null,
   "metadata": {},
   "outputs": [],
   "source": []
  },
  {
   "cell_type": "code",
   "execution_count": 208,
   "metadata": {},
   "outputs": [
    {
     "data": {
      "image/png": "[encoded data removed]",
      "text/plain": [
       "<Figure size 432x288 with 1 Axes>"
      ]
     },
     "metadata": {},
     "output_type": "display_data"
    }
   ],
   "source": [
    "wes_cols = {}\n",
    "for ii, x in enumerate(plt.rcParams['axes.prop_cycle']()):\n",
    "    wes_cols[ii] = x['color']\n",
    "    if ii > 8:\n",
    "        break\n",
    "        \n",
    "        \n",
    "plt.plot(mw, meaned,  linewidth=5, linestyle='-', \n",
    "        markersize=15, color=wes_cols[2], label=None, alpha=1)\n",
    "\n",
    "meaned = np.mean(psychos,0)\n",
    "\n",
    "\n",
    "for i in range(psychos.shape[0]):\n",
    "    plt.plot(mw, psychos[i,:], '.', markersize=15, alpha=0.7, color='grey')\n",
    "plt.xlabel('power (mW)')\n",
    "plt.ylabel('d prime')\n",
    "plt.savefig(os.path.join(figure_path, '1-photon_dps.pdf'),\n",
    "            transparent=True, bbox_inches='tight')"
   ]
  },
  {
   "cell_type": "code",
   "execution_count": 142,
   "metadata": {},
   "outputs": [
    {
     "data": {
      "text/plain": [
       "array([[-0.07671567,  0.29477239,  0.26688029,  1.02847973,  1.07054103,\n",
       "         2.24545893],\n",
       "       [-0.03387984, -0.32726105,  0.14613253,  0.2847595 ,  2.14018857,\n",
       "         2.14018857],\n",
       "       [ 0.06426475,  0.15070445,  1.0977543 ,  0.73297877,  1.75882853,\n",
       "         1.75882853],\n",
       "       [ 0.62095684,  0.43259671,  0.77102711,  0.52728552,  1.21913615,\n",
       "         2.27062702],\n",
       "       [ 0.9420508 ,  0.03387984,  2.20794824,  0.32726105,  2.20794824,\n",
       "         2.20794824]])"
      ]
     },
     "execution_count": 142,
     "metadata": {},
     "output_type": "execute_result"
    }
   ],
   "source": [
    "psychos"
   ]
  },
  {
   "cell_type": "code",
   "execution_count": null,
   "metadata": {},
   "outputs": [],
   "source": []
  },
  {
   "cell_type": "code",
   "execution_count": null,
   "metadata": {},
   "outputs": [],
   "source": []
  }
 ],
 "metadata": {
  "kernelspec": {
   "display_name": "Python 3",
   "language": "python",
   "name": "python3"
  },
  "language_info": {
   "codemirror_mode": {
    "name": "ipython",
    "version": 3
   },
   "file_extension": ".py",
   "mimetype": "text/x-python",
   "name": "python",
   "nbconvert_exporter": "python",
   "pygments_lexer": "ipython3",
   "version": "3.7.4"
  }
 },
 "nbformat": 4,
 "nbformat_minor": 2
}
