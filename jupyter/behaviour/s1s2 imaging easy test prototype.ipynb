{
 "cells": [
  {
   "cell_type": "code",
   "execution_count": 1,
   "metadata": {},
   "outputs": [],
   "source": [
    "%run ../setup_notebook.ipynb"
   ]
  },
  {
   "cell_type": "code",
   "execution_count": 2,
   "metadata": {},
   "outputs": [],
   "source": [
    "# notebook specific imports\n",
    "import pickle\n",
    "import time\n",
    "import utils.utils_funcs as utils\n",
    "from matplotlib.widgets import Lasso\n",
    "from matplotlib.collections import RegularPolyCollection\n",
    "from matplotlib import colors as mcolors, path\n",
    "from utils.paq2py import paq_read\n",
    "from utils.rsync_aligner import Rsync_aligner\n",
    "from utils.data_import import Session\n",
    "from subsets_analysis import Subsets\n"
   ]
  },
  {
   "cell_type": "code",
   "execution_count": 3,
   "metadata": {},
   "outputs": [],
   "source": [
    "with open('/home/jamesrowland/Documents/Code/Vape/run_pkls/RL048/run24.pkl', 'rb') as f:\n",
    "    run = pickle.load(f)"
   ]
  },
  {
   "cell_type": "code",
   "execution_count": 4,
   "metadata": {},
   "outputs": [
    {
     "data": {
      "text/plain": [
       "dict_keys(['mouse_id', 'df', 'rows_2p', 'rows_1p', 'dates_2p', 'paqs', 'naparm_folders', 'blimp_folders', 'pycontrol_folders', 'prereward_folders', 'tseries_folders', 'plane_numbers', 'run_pycontrol_txt', 'num_planes', 'blimp_path', 'naparm_path', 'pycontrol_path', 'paq_path', 'prereward_path', 'tseries_paths', 'align_barcode', 'trial_info', 'session', 'print_lines', 'trial_time', 'outcome', 'slm_barcode', 'slm_trial_number', 'nogo_barcode', 'nogo_trial_number', 'alltrials_barcodes', 'rsync', 'trial_start', 'paq_rsync', 'frame_clock', 'x_galvo_uncaging', 'slm2packio', 'paq_rate', 'aligner', 'paq_correct', 'pre_rsync', 'pre_licks', 'pre_reward', 'prereward_aligner', 'both_aligner', 'num_frames'])"
      ]
     },
     "execution_count": 4,
     "metadata": {},
     "output_type": "execute_result"
    }
   ],
   "source": [
    "run.__dict__.keys()"
   ]
  },
  {
   "cell_type": "code",
   "execution_count": 5,
   "metadata": {},
   "outputs": [
    {
     "data": {
      "text/plain": [
       "dict_keys(['file_name', 'experiment_name', 'task_name', 'subject_ID', 'datetime', 'datetime_string', 'events', 'times', 'print_lines'])"
      ]
     },
     "execution_count": 5,
     "metadata": {},
     "output_type": "execute_result"
    }
   ],
   "source": [
    "run.session.__dict__.keys()"
   ]
  },
  {
   "cell_type": "code",
   "execution_count": 6,
   "metadata": {},
   "outputs": [],
   "source": [
    "figure_path = '/home/jamesrowland/Documents/Code/Vape/figures/s1s2_imaging_subsets_prototype'"
   ]
  },
  {
   "cell_type": "code",
   "execution_count": 7,
   "metadata": {},
   "outputs": [],
   "source": [
    "# correct_s2p_combined(run.s2p_path)\n",
    "# combined_path = os.path.join(run.s2p_path, 'combined')\n",
    "# combined_path = '/home/jamesrowland/Documents/packerstation/jrowland/'\\\n",
    "#                 'Data/2019-07-09/2019-07-09_J048_t-003/suite2p/combined'\n",
    "\n",
    "combined_path = '/home/jamesrowland/Documents/packerstation/jrowland/Data/'\\\n",
    "                '2019-08-03/2019-08-03_RL048_t-004/suite2p/combined'"
   ]
  },
  {
   "cell_type": "code",
   "execution_count": 8,
   "metadata": {},
   "outputs": [
    {
     "name": "stdout",
     "output_type": "stream",
     "text": [
      "Loading 6394 traces labelled as cells\n",
      "Subtracting neuropil with a coefficient of 0.7\n"
     ]
    },
    {
     "data": {
      "text/plain": [
       "(6394, 17958)"
      ]
     },
     "execution_count": 8,
     "metadata": {},
     "output_type": "execute_result"
    }
   ],
   "source": [
    "flu, spks, stat = utils.s2p_loader(combined_path, subtract_neuropil=True)\n",
    "flu = utils.dfof2(flu)\n",
    "flu.shape"
   ]
  },
  {
   "cell_type": "code",
   "execution_count": 9,
   "metadata": {},
   "outputs": [],
   "source": [
    "n_planes = 3 # remove two cells below if just single plane\n",
    "assert flu.shape[1]*n_planes - n_planes <=  sum(run.num_frames) <= flu.shape[1] * n_planes + n_planes"
   ]
  },
  {
   "cell_type": "code",
   "execution_count": 10,
   "metadata": {},
   "outputs": [],
   "source": [
    "plane0 = []\n",
    "for i,s in enumerate(stat):\n",
    "    if s['iplane'] == 0:\n",
    "        plane0.append(i)     "
   ]
  },
  {
   "cell_type": "code",
   "execution_count": 11,
   "metadata": {},
   "outputs": [
    {
     "data": {
      "text/plain": [
       "(2056, 17958)"
      ]
     },
     "execution_count": 11,
     "metadata": {},
     "output_type": "execute_result"
    }
   ],
   "source": [
    "# just take the first plane\n",
    "flu = flu[plane0,:]\n",
    "stat = stat[plane0]\n",
    "flu.shape"
   ]
  },
  {
   "cell_type": "code",
   "execution_count": 12,
   "metadata": {},
   "outputs": [
    {
     "data": {
      "text/plain": [
       "1019.0"
      ]
     },
     "execution_count": 12,
     "metadata": {},
     "output_type": "execute_result"
    }
   ],
   "source": [
    "meds = []\n",
    "for i,s in enumerate(stat):\n",
    "    meds.append(s['med'][1])\n",
    "  \n",
    "\n",
    "max(meds)"
   ]
  },
  {
   "cell_type": "code",
   "execution_count": 13,
   "metadata": {},
   "outputs": [
    {
     "data": {
      "text/plain": [
       "(2056, 17958)"
      ]
     },
     "execution_count": 13,
     "metadata": {},
     "output_type": "execute_result"
    }
   ],
   "source": [
    "s2_only = False\n",
    "\n",
    "s2_cells = []\n",
    "for i,s in enumerate(stat):\n",
    "    if s['med'][1] > 684:\n",
    "        s2_cells.append(i)\n",
    "        \n",
    "if s2_only:\n",
    "    flu = flu[s2_cells,:]\n",
    "    stat = stat[s2_cells]\n",
    "    \n",
    "flu.shape       "
   ]
  },
  {
   "cell_type": "code",
   "execution_count": 14,
   "metadata": {},
   "outputs": [
    {
     "data": {
      "text/plain": [
       "[7785, 7620, 13548, 13548, 11371]"
      ]
     },
     "execution_count": 14,
     "metadata": {},
     "output_type": "execute_result"
    }
   ],
   "source": [
    "# the lengths of the actual tseries\n",
    "tseries_lens = run.num_frames\n",
    "tseries_lens"
   ]
  },
  {
   "cell_type": "code",
   "execution_count": 15,
   "metadata": {},
   "outputs": [],
   "source": [
    "# get the frames that actually correspond to analysed tseries\n",
    "paqio_frames = utils.tseries_finder(tseries_lens, run.frame_clock)"
   ]
  },
  {
   "cell_type": "code",
   "execution_count": 16,
   "metadata": {},
   "outputs": [
    {
     "name": "stdout",
     "output_type": "stream",
     "text": [
      "14167\n",
      "14167.666666666666\n"
     ]
    },
    {
     "data": {
      "text/plain": [
       "(2056, 14167)"
      ]
     },
     "execution_count": 16,
     "metadata": {},
     "output_type": "execute_result"
    }
   ],
   "source": [
    "frames_ms = run.aligner.B_to_A(paqio_frames)\n",
    "frames_ms = frames_ms[::3]  # just do the first plane for now\n",
    "\n",
    "## make the frame clock and the fluoresence matrix the same length\n",
    "# these prints should be the same\n",
    "print(len(frames_ms))\n",
    "# subtraction necessary for RL048 run24 as last tseries wasn't fully paqed\n",
    "print(flu.shape[1] - tseries_lens[-1] / n_planes)  \n",
    "\n",
    "flu = flu[:, range(len(frames_ms))]\n",
    "flu.shape                             "
   ]
  },
  {
   "cell_type": "code",
   "execution_count": 17,
   "metadata": {},
   "outputs": [],
   "source": [
    "assert len(run.trial_start) == len(run.trial_type) == len(run.outcome)\n",
    "num_trials = len(run.trial_start)"
   ]
  },
  {
   "cell_type": "code",
   "execution_count": 18,
   "metadata": {},
   "outputs": [],
   "source": [
    "pre_frames = 10\n",
    "post_frames = 20\n",
    "\n",
    "trial_flu, imaging_trial = utils.flu_splitter(flu, frames_ms, run.trial_start, pre_frames, post_frames)"
   ]
  },
  {
   "cell_type": "code",
   "execution_count": 19,
   "metadata": {},
   "outputs": [
    {
     "data": {
      "text/plain": [
       "155"
      ]
     },
     "execution_count": 19,
     "metadata": {},
     "output_type": "execute_result"
    }
   ],
   "source": [
    "outcome = run.outcome[imaging_trial]\n",
    "len(outcome)"
   ]
  },
  {
   "cell_type": "code",
   "execution_count": 20,
   "metadata": {},
   "outputs": [
    {
     "data": {
      "text/plain": [
       "(2056, 30, 155)"
      ]
     },
     "execution_count": 20,
     "metadata": {},
     "output_type": "execute_result"
    }
   ],
   "source": [
    "trial_flu.shape"
   ]
  },
  {
   "cell_type": "code",
   "execution_count": 21,
   "metadata": {},
   "outputs": [
    {
     "data": {
      "text/plain": [
       "(2056, 30, 58)"
      ]
     },
     "execution_count": 21,
     "metadata": {},
     "output_type": "execute_result"
    }
   ],
   "source": [
    "hit_flu = trial_flu[:,:,np.where(outcome=='hit')[0]]\n",
    "hit_flu.shape"
   ]
  },
  {
   "cell_type": "code",
   "execution_count": 22,
   "metadata": {},
   "outputs": [
    {
     "data": {
      "text/plain": [
       "(2056, 30, 46)"
      ]
     },
     "execution_count": 22,
     "metadata": {},
     "output_type": "execute_result"
    }
   ],
   "source": [
    "miss_flu = trial_flu[:,:,np.where(outcome=='miss')[0]]\n",
    "miss_flu.shape"
   ]
  },
  {
   "cell_type": "code",
   "execution_count": 23,
   "metadata": {},
   "outputs": [
    {
     "data": {
      "text/plain": [
       "(2056, 30, 5)"
      ]
     },
     "execution_count": 23,
     "metadata": {},
     "output_type": "execute_result"
    }
   ],
   "source": [
    "fp_flu = trial_flu[:,:,np.where(outcome=='fp')[0]]\n",
    "fp_flu.shape"
   ]
  },
  {
   "cell_type": "code",
   "execution_count": 24,
   "metadata": {},
   "outputs": [
    {
     "data": {
      "text/plain": [
       "(2056, 30, 46)"
      ]
     },
     "execution_count": 24,
     "metadata": {},
     "output_type": "execute_result"
    }
   ],
   "source": [
    "cr_flu = trial_flu[:,:,np.where(outcome=='cr')[0]]\n",
    "cr_flu.shape"
   ]
  },
  {
   "cell_type": "code",
   "execution_count": 25,
   "metadata": {},
   "outputs": [
    {
     "data": {
      "text/plain": [
       "5"
      ]
     },
     "execution_count": 25,
     "metadata": {},
     "output_type": "execute_result"
    }
   ],
   "source": [
    "grand_hit = np.mean(np.mean(hit_flu,0),1)\n",
    "grand_miss = np.mean(np.mean(miss_flu,0),1)\n",
    "grand_fp = np.mean(np.mean(fp_flu,0),1)\n",
    "grand_cr = np.mean(np.mean(cr_flu,0),1)\n",
    "\n",
    "pre_stim = range(3,7)\n",
    "post_stim = range(14,19)\n",
    "len(post_stim)"
   ]
  },
  {
   "cell_type": "code",
   "execution_count": 26,
   "metadata": {},
   "outputs": [
    {
     "data": {
      "image/png": "[encoded data removed]",
      "text/plain": [
       "<Figure size 432x288 with 1 Axes>"
      ]
     },
     "metadata": {},
     "output_type": "display_data"
    }
   ],
   "source": [
    "frame_rate = 5\n",
    "\n",
    "x_axis = (np.arange(len(grand_hit)) - pre_frames) / frame_rate\n",
    "plt.plot(x_axis, grand_hit)\n",
    "plt.plot(x_axis[pre_stim], grand_hit[pre_stim], color='red')\n",
    "plt.plot(x_axis[post_stim], grand_hit[post_stim], color='red')\n",
    "sns.despine()\n",
    "plt.ylabel(r'$\\Delta $F/F')\n",
    "plt.xlabel('Time (seconds)')\n",
    "plt.title('Hit Trials')\n",
    "plt.savefig(os.path.join(figure_path, 'grand_hit_sta.png'), bbox_inches=\"tight\")\n",
    "plt.savefig(os.path.join(figure_path, 'grand_hit_sta.pdf'), bbox_inches=\"tight\")\n"
   ]
  },
  {
   "cell_type": "code",
   "execution_count": 27,
   "metadata": {},
   "outputs": [
    {
     "data": {
      "image/png": "[encoded data removed]",
      "text/plain": [
       "<Figure size 432x288 with 1 Axes>"
      ]
     },
     "metadata": {},
     "output_type": "display_data"
    }
   ],
   "source": [
    "x_axis = (np.arange(len(grand_miss)) - pre_frames) / frame_rate\n",
    "plt.plot(x_axis, grand_miss)\n",
    "sns.despine()\n",
    "plt.ylabel(r'$\\Delta $F/F')\n",
    "plt.xlabel('Time (seconds)')\n",
    "plt.title('Miss Trials')\n",
    "plt.savefig(os.path.join(figure_path, 'grand_miss.png'), bbox_inches=\"tight\")\n",
    "plt.savefig(os.path.join(figure_path, 'grand_miss.pdf'), bbox_inches=\"tight\")"
   ]
  },
  {
   "cell_type": "code",
   "execution_count": 28,
   "metadata": {},
   "outputs": [
    {
     "data": {
      "image/png": "[encoded data removed]",
      "text/plain": [
       "<Figure size 432x288 with 1 Axes>"
      ]
     },
     "metadata": {},
     "output_type": "display_data"
    }
   ],
   "source": [
    "x_axis = (np.arange(len(grand_fp)) - pre_frames) / frame_rate\n",
    "plt.plot(x_axis, grand_fp)\n",
    "sns.despine()\n",
    "plt.ylabel(r'$\\Delta $F/F')\n",
    "plt.xlabel('Time (seconds)')\n",
    "plt.title('False Positive Trials')\n",
    "plt.savefig(os.path.join(figure_path, 'grand_fp.png'), bbox_inches=\"tight\")\n",
    "plt.savefig(os.path.join(figure_path, 'grand_fp.pdf'), bbox_inches=\"tight\")"
   ]
  },
  {
   "cell_type": "code",
   "execution_count": 29,
   "metadata": {},
   "outputs": [
    {
     "data": {
      "image/png": "[encoded data removed]",
      "text/plain": [
       "<Figure size 432x288 with 1 Axes>"
      ]
     },
     "metadata": {},
     "output_type": "display_data"
    }
   ],
   "source": [
    "x_axis = (np.arange(len(grand_cr)) - pre_frames) / frame_rate\n",
    "plt.plot(x_axis, grand_cr)\n",
    "sns.despine()\n",
    "plt.ylabel(r'$\\Delta $F/F')\n",
    "plt.xlabel('Time (seconds)')\n",
    "plt.title('Correct Rejection Trials')\n",
    "plt.savefig(os.path.join(figure_path, 'grand_cr.png'), bbox_inches=\"tight\")\n",
    "plt.savefig(os.path.join(figure_path, 'grand_cr.pdf'), bbox_inches=\"tight\")"
   ]
  },
  {
   "cell_type": "code",
   "execution_count": 30,
   "metadata": {},
   "outputs": [
    {
     "data": {
      "text/plain": [
       "0.057027955"
      ]
     },
     "execution_count": 30,
     "metadata": {},
     "output_type": "execute_result"
    }
   ],
   "source": [
    "sta_hit = np.mean(grand_hit[post_stim]) - np.mean(grand_hit[pre_stim])\n",
    "sta_hit"
   ]
  },
  {
   "cell_type": "code",
   "execution_count": 31,
   "metadata": {},
   "outputs": [
    {
     "data": {
      "text/plain": [
       "0.024766143"
      ]
     },
     "execution_count": 31,
     "metadata": {},
     "output_type": "execute_result"
    }
   ],
   "source": [
    "sta_miss = np.mean(grand_miss[post_stim]) - np.mean(grand_miss[pre_stim])\n",
    "sta_miss"
   ]
  },
  {
   "cell_type": "code",
   "execution_count": 32,
   "metadata": {},
   "outputs": [
    {
     "data": {
      "text/plain": [
       "dict_keys(['trial_info', 'outcome', 'go_outcome', 'nogo_outcome', 'trial_subsets', 'subset_sizes'])"
      ]
     },
     "execution_count": 32,
     "metadata": {},
     "output_type": "execute_result"
    }
   ],
   "source": [
    "subsets = Subsets(run)\n",
    "subsets.__dict__.keys()"
   ]
  },
  {
   "cell_type": "code",
   "execution_count": 33,
   "metadata": {},
   "outputs": [
    {
     "data": {
      "text/plain": [
       "array([  5,  10,  20,  30,  40,  50, 150])"
      ]
     },
     "execution_count": 33,
     "metadata": {},
     "output_type": "execute_result"
    }
   ],
   "source": [
    "subsets.subset_sizes"
   ]
  },
  {
   "cell_type": "code",
   "execution_count": 34,
   "metadata": {},
   "outputs": [],
   "source": [
    "# from subsets_analysis import analyse_subsets, subset_attr\n",
    "# mouse_id = 'RL048'\n",
    "# run_numbers = [24]\n",
    "# subsets, run = analyse_subsets(mouse_id, run_numbers)\n",
    "# trial_subsets = subsets.get_full_list()\n",
    "# trial_subsets = trial_subsets[imaging_trial]"
   ]
  },
  {
   "cell_type": "code",
   "execution_count": 35,
   "metadata": {},
   "outputs": [],
   "source": [
    "intersect = lambda A, B: set(A) - (set(A) - set(B))"
   ]
  },
  {
   "cell_type": "code",
   "execution_count": 36,
   "metadata": {},
   "outputs": [
    {
     "data": {
      "image/png": "[encoded data removed]",
      "text/plain": [
       "<Figure size 432x288 with 1 Axes>"
      ]
     },
     "metadata": {},
     "output_type": "display_data"
    }
   ],
   "source": [
    "plt.figure()\n",
    "\n",
    "hit_arrs = []\n",
    "miss_arrs = []\n",
    "\n",
    "for i,sub_size in enumerate(subsets.subset_sizes):\n",
    "\n",
    "    hit_idx = intersect(np.where(subsets.trial_subsets==sub_size)[0], np.where(outcome=='hit')[0])\n",
    "    miss_idx = intersect(np.where(subsets.trial_subsets==sub_size)[0], np.where(outcome=='miss')[0])\n",
    "\n",
    "    hit = trial_flu[:,:,list(hit_idx)]\n",
    "    miss = trial_flu[:,:,list(miss_idx)]\n",
    "    \n",
    "    hit_arrs.append(hit)\n",
    "    miss_arrs.append(miss)\n",
    "\n",
    "    grand_hit = np.mean(np.mean(hit, 0), 1)\n",
    "    grand_miss = np.mean(np.mean(miss, 0), 1)\n",
    "\n",
    "    sta_hit = np.mean(grand_hit[post_stim]) - np.mean(grand_hit[pre_stim])\n",
    "    sta_miss = np.mean(grand_miss[post_stim]) - np.mean(grand_miss[pre_stim])\n",
    "  \n",
    "\n",
    "    if i == 0:\n",
    "        plt.bar(i-0.1, sta_hit, color=sns.color_palette()[0], label='Hit Trials')\n",
    "        plt.bar(i, sta_miss, color=sns.color_palette()[6], label='Miss Trials')\n",
    "    else:\n",
    "        plt.bar(i-0.1, sta_hit, color=sns.color_palette()[0])\n",
    "        plt.bar(i, sta_miss, color=sns.color_palette()[6])\n",
    "                \n",
    "    plt.legend()\n",
    "    plt.ylabel(r'$\\Delta $F/F')\n",
    "    plt.xlabel('Number of cells stimulated')\n",
    "    sns.despine()\n",
    "    \n",
    "\n",
    "plt.xticks(range(len(subsets.subset_sizes)), subsets.subset_sizes)\n",
    "\n",
    "plt.title('All Cells')\n",
    "\n",
    "plt.savefig(os.path.join(figure_path, 'all_cells.pdf'))\n",
    "plt.savefig(os.path.join(figure_path, 'all_cells.png'))"
   ]
  },
  {
   "cell_type": "code",
   "execution_count": 37,
   "metadata": {},
   "outputs": [],
   "source": [
    "# balance the number of hit and miss trials\n",
    "\n",
    "hits = []\n",
    "misses = []\n",
    "\n",
    "hit_mean = []\n",
    "miss_mean = []\n",
    "\n",
    "for i, sub_size in enumerate(subsets.subset_sizes):\n",
    "    \n",
    "    hit_arr = hit_arrs[i]\n",
    "    miss_arr = miss_arrs[i]\n",
    "\n",
    "    num_hits = hit_arr.shape[2]\n",
    "    num_miss = miss_arr.shape[2]     \n",
    "    balanced = (num_hits if num_hits < num_miss else num_miss) \n",
    "\n",
    "    post_hit = hit_arr[:,post_stim,:]\n",
    "    post_hit = post_hit[:,:,range(balanced)]\n",
    "    [hits.append(f) for f in post_hit.ravel()]\n",
    "    [hit_mean.append(f) for f in np.mean(post_hit,0).ravel()]\n",
    "    \n",
    "    \n",
    "    post_miss = miss_arr[:,post_stim,:]\n",
    "    post_miss = post_miss[:,:,range(balanced)]\n",
    "    [misses.append(f) for f in post_miss.ravel()]\n",
    "    [miss_mean.append(f) for f in np.mean(post_miss,0).ravel()]\n",
    "    \n"
   ]
  },
  {
   "cell_type": "code",
   "execution_count": 38,
   "metadata": {},
   "outputs": [],
   "source": [
    "lick_flu = np.load('/home/jamesrowland/Documents/Code/Vape/lick_flu.npy')\n",
    "spont_flu =  np.load('/home/jamesrowland/Documents/Code/Vape/spont_flu.npy')"
   ]
  },
  {
   "cell_type": "code",
   "execution_count": 39,
   "metadata": {},
   "outputs": [
    {
     "data": {
      "image/png": "[encoded data removed]",
      "text/plain": [
       "<Figure size 432x288 with 1 Axes>"
      ]
     },
     "metadata": {},
     "output_type": "display_data"
    }
   ],
   "source": [
    "b = plt.boxplot([hit_mean, miss_mean, lick_flu, spont_flu], positions=[1,2,3,4],\n",
    "                labels=['Hit\\nTrial', 'Miss\\nTrial', 'Lick\\nTrial', 'Spont\\nTrial'],\n",
    "                showfliers=False)\n",
    "\n",
    "l = plt.ylabel(r'$\\Delta $F/F')\n",
    "plt.savefig(os.path.join(figure_path, 'all_boxes.png'), bbox_inches='tight')"
   ]
  },
  {
   "cell_type": "code",
   "execution_count": 40,
   "metadata": {},
   "outputs": [
    {
     "data": {
      "image/png": "[encoded data removed]",
      "text/plain": [
       "<Figure size 432x288 with 1 Axes>"
      ]
     },
     "metadata": {},
     "output_type": "display_data"
    }
   ],
   "source": [
    "b = plt.boxplot([hit_mean, miss_mean],\n",
    "                labels=['Hit Trial', 'Miss Trial'],\n",
    "                showfliers=False)\n",
    "\n",
    "l = plt.ylabel(r'$\\Delta $F/F')\n",
    "plt.savefig(os.path.join(figure_path, 'hit_miss_box.png'), bbox_inches='tight')"
   ]
  },
  {
   "cell_type": "code",
   "execution_count": 41,
   "metadata": {},
   "outputs": [
    {
     "data": {
      "text/plain": [
       "-0.021402134"
      ]
     },
     "execution_count": 41,
     "metadata": {},
     "output_type": "execute_result"
    }
   ],
   "source": [
    "np.mean(misses)"
   ]
  },
  {
   "cell_type": "code",
   "execution_count": null,
   "metadata": {},
   "outputs": [],
   "source": []
  },
  {
   "cell_type": "code",
   "execution_count": null,
   "metadata": {},
   "outputs": [],
   "source": []
  },
  {
   "cell_type": "code",
   "execution_count": 42,
   "metadata": {},
   "outputs": [],
   "source": [
    "# class Datum(object):\n",
    "# #     colorin = mcolors.to_rgba(\"red\")\n",
    "# #     colorout = mcolors.to_rgba(\"blue\")\n",
    "\n",
    "# #     def __init__(self, x, y, include=False):\n",
    "# #         self.x = x\n",
    "# #         self.y = y\n",
    "# #         if include:\n",
    "# #             self.color = self.colorin\n",
    "# #         else:\n",
    "# #             self.color = self.colorout\n",
    "\n",
    "\n",
    "# # class LassoManager(object):\n",
    "# #     def __init__(self, ax, data):\n",
    "# #         self.axes = ax\n",
    "# #         self.canvas = ax.figure.canvas\n",
    "# #         self.data = data\n",
    "\n",
    "# #         self.Nxy = len(data)\n",
    "\n",
    "# #         facecolors = [d.color for d in data]\n",
    "# #         self.xys = [(d.x, d.y) for d in data]\n",
    "# #         self.collection = RegularPolyCollection(4, sizes=(100,),\n",
    "# #                                                 facecolors=facecolors,\n",
    "# #                                                 offsets=self.xys,\n",
    "# #                                                 transOffset=ax.transData,\n",
    "# #                                                 alpha =0.01)\n",
    "# #         ax.add_collection(self.collection)\n",
    "\n",
    "# #         self.cid = self.canvas.mpl_connect('button_press_event', self.onpress)\n",
    "\n",
    "# #     def callback(self, verts):\n",
    "# #         facecolors = self.collection.get_facecolors()\n",
    "# #         p = path.Path(verts)\n",
    "# #         # True if point selected else false \n",
    "# #         self.ind = p.contains_points(self.xys)\n",
    "# #         for i in range(len(self.xys)):\n",
    "# #             if self.ind[i]:\n",
    "# #                 facecolors[i] = Datum.colorin\n",
    "# #             else:\n",
    "# #                 facecolors[i] = Datum.colorout\n",
    "\n",
    "# #         self.canvas.draw_idle()\n",
    "# #         self.canvas.widgetlock.release(self.lasso)\n",
    "# #         del self.lasso\n",
    "\n",
    "# #     def onpress(self, event):\n",
    "\n",
    "# #         if self.canvas.widgetlock.locked():\n",
    "# #             return\n",
    "# #         if event.inaxes is None:\n",
    "# #             return\n",
    "# #         self.lasso = Lasso(event.inaxes,\n",
    "# #                            (event.xdata, event.ydata),\n",
    "# #                            self.callback)\n",
    "# #         # acquire a lock on the widget drawing\n",
    "# #         self.canvas.widgetlock(self.lasso)\n",
    "\n",
    "\n",
    "# # axis_edge = 2*min(paqio_frames) \n",
    "# # data = [Datum(*xy) for xy in np.transpose(np.vstack((paqio_frames, np.ones(len(paqio_frames)))))]\n",
    "# # ax = plt.axes(xlim=(min(paqio_frames)-axis_edge, max(paqio_frames)+axis_edge), ylim=(0, 2), autoscale_on=False)\n",
    "# # ax.set_title('Lasso points using left mouse button')\n",
    "\n",
    "# # lman = LassoManager(ax, data)\n",
    "# # plt.show()"
   ]
  }
 ],
 "metadata": {
  "kernelspec": {
   "display_name": "Python 3",
   "language": "python",
   "name": "python3"
  },
  "language_info": {
   "codemirror_mode": {
    "name": "ipython",
    "version": 3
   },
   "file_extension": ".py",
   "mimetype": "text/x-python",
   "name": "python",
   "nbconvert_exporter": "python",
   "pygments_lexer": "ipython3",
   "version": "3.7.3"
  }
 },
 "nbformat": 4,
 "nbformat_minor": 2
}
