{
 "cells": [
  {
   "cell_type": "code",
   "execution_count": 1,
   "metadata": {},
   "outputs": [
    {
     "name": "stderr",
     "output_type": "stream",
     "text": [
      "ERROR:root:Invalid alias: The name clear can't be aliased because it is another magic command.\n",
      "ERROR:root:Invalid alias: The name more can't be aliased because it is another magic command.\n",
      "ERROR:root:Invalid alias: The name less can't be aliased because it is another magic command.\n",
      "ERROR:root:Invalid alias: The name man can't be aliased because it is another magic command.\n"
     ]
    }
   ],
   "source": [
    "#ipython magic\n",
    "%reset -f\n",
    "# change inline to notebook to get interactive (but slow) plots\n",
    "%matplotlib inline \n",
    "%load_ext autoreload\n",
    "%autoreload 2"
   ]
  },
  {
   "cell_type": "code",
   "execution_count": 2,
   "metadata": {},
   "outputs": [],
   "source": [
    "# general imports\n",
    "import sys\n",
    "import os\n",
    "import numpy as np\n",
    "import matplotlib.pyplot as plt\n",
    "import seaborn as sns"
   ]
  },
  {
   "cell_type": "code",
   "execution_count": 3,
   "metadata": {},
   "outputs": [],
   "source": [
    "## put your path to your vape repo here \n",
    "path_to_vape = '/home/jamesrowland/Documents/Code/Vape/'\n",
    "sys.path.append(path_to_vape)\n",
    "sys.path.append(os.path.join(path_to_vape, 'utils'))"
   ]
  },
  {
   "cell_type": "code",
   "execution_count": 4,
   "metadata": {},
   "outputs": [],
   "source": [
    "# notebook specific imports\n",
    "import pickle\n",
    "import utils_funcs as utils\n",
    "import re"
   ]
  },
  {
   "cell_type": "code",
   "execution_count": 5,
   "metadata": {},
   "outputs": [],
   "source": [
    "# global plotting params\n",
    "sns.set()\n",
    "sns.set_style('white')\n",
    "params = {'legend.fontsize': 'x-large',\n",
    "         'axes.labelsize': 'x-large',\n",
    "         'axes.titlesize':'x-large',\n",
    "         'xtick.labelsize':'x-large',\n",
    "         'ytick.labelsize':'x-large',\n",
    "         'lines.markersize': 15}\n",
    "\n",
    "plt.rc(\"axes.spines\", top=False, right=False) # despine\n",
    "\n",
    "plt.rcParams.update(params)\n"
   ]
  },
  {
   "cell_type": "code",
   "execution_count": 6,
   "metadata": {},
   "outputs": [],
   "source": [
    "def trial_outcomes(outcome):\n",
    "\n",
    "    go_outcome = []\n",
    "    nogo_outcome = []\n",
    "\n",
    "    for t in outcome:\n",
    "        if t == 'hit':\n",
    "            go_outcome.append(True)\n",
    "        elif t == 'miss':\n",
    "            go_outcome.append(False)\n",
    "        elif t =='cr':\n",
    "            nogo_outcome.append(False)\n",
    "        elif t == 'fp':\n",
    "            nogo_outcome.append(True)\n",
    "\n",
    "    go_outcome = np.array(go_outcome)\n",
    "    nogo_outcome = np.array(nogo_outcome)\n",
    "    \n",
    "    return go_outcome, nogo_outcome"
   ]
  },
  {
   "cell_type": "code",
   "execution_count": 7,
   "metadata": {},
   "outputs": [],
   "source": [
    "def get_subset_dprime(run):\n",
    "\n",
    "    go_outcome, nogo_outcome = trial_outcomes(run.outcome)\n",
    "    trial_subsets = []\n",
    "\n",
    "    for i, info in enumerate(run.trial_info):\n",
    "        if 'Nogo Trial' in info:\n",
    "            continue\n",
    "        elif 'all_cells_stimulated' in info:\n",
    "            trial_subsets.append(150)\n",
    "        elif 'Subset cells experiment' in info:\n",
    "            trial_subset = int(re.search('(?<=stimulating )(.*)(?= cells)', info).group(0))\n",
    "            trial_subsets.append(trial_subset)\n",
    "\n",
    "    trial_subsets = np.array(trial_subsets)\n",
    "    subsets = np.sort(np.unique(trial_subsets))\n",
    "        \n",
    "    fp_rate = sum(nogo_outcome) / len(nogo_outcome)\n",
    "    \n",
    "    subset_outcome = []\n",
    "\n",
    "    for sub in subsets:\n",
    "        subset_idx = np.where(trial_subsets == sub)[0]\n",
    "        if len(subset_idx) < 10:\n",
    "            subset_outcome.append(np.nan)\n",
    "        else:\n",
    "            subset_outcome.append(sum(go_outcome[subset_idx]) / len(subset_idx))\n",
    "\n",
    "    subsets_dprime = [utils.d_prime(outcome, fp_rate) for outcome in subset_outcome]\n",
    "    \n",
    "    return subsets, subsets_dprime\n",
    "    "
   ]
  },
  {
   "cell_type": "code",
   "execution_count": 8,
   "metadata": {},
   "outputs": [],
   "source": [
    "mouse_id = 'J048'\n",
    "run_numbers = [27,28,29]\n",
    "\n",
    "# mouse_id = 'RL048'\n",
    "# run_numbers = [23,24,25]\n",
    "\n",
    "across_sessions = []\n",
    "\n",
    "for run_number in run_numbers:\n",
    "\n",
    "    pkl_path = os.path.join(path_to_vape, 'run_pkls', mouse_id, 'run{}.pkl'.format(run_number))\n",
    "\n",
    "    with open(pkl_path, 'rb') as f:\n",
    "        run = pickle.load(f)\n",
    "        \n",
    "    subsets, subsets_dprime = get_subset_dprime(run)\n",
    "    \n",
    "    across_sessions.append(subsets_dprime)\n",
    "    \n",
    "across_sessions = np.array(across_sessions)    "
   ]
  },
  {
   "cell_type": "code",
   "execution_count": 9,
   "metadata": {},
   "outputs": [],
   "source": [
    "meaned = np.nanmean(across_sessions, 0)"
   ]
  },
  {
   "cell_type": "code",
   "execution_count": 10,
   "metadata": {},
   "outputs": [
    {
     "data": {
      "image/png": "[encoded data removed]",
      "text/plain": [
       "<Figure size 432x288 with 1 Axes>"
      ]
     },
     "metadata": {},
     "output_type": "display_data"
    }
   ],
   "source": [
    "plt.plot(subsets, meaned, '.')\n",
    "plt.xlabel('Number of cells targeted')\n",
    "plt.ylabel('d-prime')\n",
    "plt.title(mouse_id)\n",
    "plt.savefig(os.path.join(path_to_vape, 'figures', '{}_easytest-dprime.png'.format(mouse_id)),  bbox_inches=\"tight\")"
   ]
  },
  {
   "cell_type": "code",
   "execution_count": null,
   "metadata": {},
   "outputs": [],
   "source": []
  },
  {
   "cell_type": "code",
   "execution_count": null,
   "metadata": {},
   "outputs": [],
   "source": []
  },
  {
   "cell_type": "code",
   "execution_count": null,
   "metadata": {},
   "outputs": [],
   "source": []
  },
  {
   "cell_type": "code",
   "execution_count": null,
   "metadata": {},
   "outputs": [],
   "source": []
  }
 ],
 "metadata": {
  "kernelspec": {
   "display_name": "Python 3",
   "language": "python",
   "name": "python3"
  },
  "language_info": {
   "codemirror_mode": {
    "name": "ipython",
    "version": 3
   },
   "file_extension": ".py",
   "mimetype": "text/x-python",
   "name": "python",
   "nbconvert_exporter": "python",
   "pygments_lexer": "ipython3",
   "version": "3.7.3"
  }
 },
 "nbformat": 4,
 "nbformat_minor": 2
}
