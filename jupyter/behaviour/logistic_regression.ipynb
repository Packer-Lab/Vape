{
 "cells": [
  {
   "cell_type": "code",
   "execution_count": 19,
   "metadata": {},
   "outputs": [
    {
     "name": "stdout",
     "output_type": "stream",
     "text": [
      "The autoreload extension is already loaded. To reload it, use:\n",
      "  %reload_ext autoreload\n"
     ]
    }
   ],
   "source": [
    "%matplotlib inline\n",
    "%run ../setup_notebook.ipynb"
   ]
  },
  {
   "cell_type": "code",
   "execution_count": 20,
   "metadata": {},
   "outputs": [],
   "source": [
    "# notebook specific imports\n",
    "import utils_funcs as utils\n",
    "import pickle\n",
    "import run_functions as rf\n",
    "from subsets_analysis import Subsets\n",
    "import copy\n",
    "\n",
    "from sklearn import linear_model\n",
    "from sklearn.preprocessing import StandardScaler, LabelEncoder\n",
    "from sklearn.model_selection import train_test_split, cross_val_score, StratifiedKFold\n",
    "from sklearn.metrics import roc_curve, auc, roc_auc_score\n",
    "from scipy import interp"
   ]
  },
  {
   "cell_type": "markdown",
   "metadata": {},
   "source": [
    "## Load and preprocess the data"
   ]
  },
  {
   "cell_type": "code",
   "execution_count": 3,
   "metadata": {},
   "outputs": [],
   "source": [
    "run_dict = {\n",
    "            'J048' : [27, 29, 30, 32], \n",
    "            'RL048': [23, 24, 25, 28, 29]\n",
    "           }"
   ]
  },
  {
   "cell_type": "code",
   "execution_count": 4,
   "metadata": {},
   "outputs": [],
   "source": [
    "pkl_path = '/home/jrowland/Documents/code/Vape/run_pkls/'\n",
    "\n",
    "runs = []\n",
    "for mouse in run_dict:\n",
    "    for run_number in run_dict[mouse]:\n",
    "        run_path = os.path.join(pkl_path, mouse, 'run{}.pkl'.format(run_number))\n",
    "        with open(run_path, 'rb') as f:\n",
    "            r = pickle.load(f)\n",
    "            runs.append(r)"
   ]
  },
  {
   "cell_type": "code",
   "execution_count": 5,
   "metadata": {},
   "outputs": [
    {
     "data": {
      "text/plain": [
       "4"
      ]
     },
     "execution_count": 5,
     "metadata": {},
     "output_type": "execute_result"
    }
   ],
   "source": [
    "# how many frames before and after the onset of lick trial to include in the kernal\n",
    "pre_frames  = 5\n",
    "post_frames = 9\n",
    "fs = 5  # frame rate / plane\n",
    "\n",
    "# empirally observed that 1.4 seconds after onset the artifact has gone for 150 cell trials\n",
    "# offset = math.ceil(1.4*fs)\n",
    "\n",
    "# empirally observed that offset = 4 for non-150 cell stims\n",
    "offset = 4\n",
    "offset"
   ]
  },
  {
   "cell_type": "code",
   "execution_count": 6,
   "metadata": {},
   "outputs": [],
   "source": [
    "runs = [rf.filter_unhealthy_cells(run) for run in runs]\n",
    "runs_s2 = [rf.select_s2(run) for run in copy.deepcopy(runs)]\n",
    "runs = [utils.lick_binner(run) for run in runs]"
   ]
  },
  {
   "cell_type": "markdown",
   "metadata": {},
   "source": [
    "### These are the attibutes in each run object"
   ]
  },
  {
   "cell_type": "code",
   "execution_count": 18,
   "metadata": {},
   "outputs": [
    {
     "data": {
      "text/plain": [
       "dict_keys(['mouse_id', 'df', 'rows_2p', 'rows_1p', 'dates_2p', 'paqs', 'naparm_folders', 'blimp_folders', 'pycontrol_folders', 'prereward_folders', 'tseries_folders', 'plane_numbers', 'run_pycontrol_txt', 'num_planes', 'blimp_path', 'naparm_path', 'pycontrol_path', 'paq_path', 'prereward_path', 'tseries_paths', 'align_barcode', 'trial_info', 'session', 'print_lines', 'trial_time', 'outcome', 'slm_barcode', 'slm_trial_number', 'nogo_barcode', 'nogo_trial_number', 'alltrials_barcodes', 'rsync', 'trial_start', 'paq_rsync', 'frame_clock', 'x_galvo_uncaging', 'slm2packio', 'paq_rate', 'aligner', 'paq_correct', 'pre_rsync', 'pre_licks', 'pre_reward', 'prereward_aligner', 'both_aligner', 'num_frames', 's2p_path', 'flu_raw', 'frames_ms', 'frames_ms_pre', 'flu', 'spks', 'stat', 'licks', 'binned_licks_easytest'])"
      ]
     },
     "execution_count": 18,
     "metadata": {},
     "output_type": "execute_result"
    }
   ],
   "source": [
    "# take the first run to start\n",
    "run = runs[0]\n",
    "\n",
    "run.__dict__.keys()"
   ]
  },
  {
   "cell_type": "code",
   "execution_count": 11,
   "metadata": {},
   "outputs": [
    {
     "data": {
      "text/plain": [
       "array([ 114,  520, 5964, 6019, 6193])"
      ]
     },
     "execution_count": 11,
     "metadata": {},
     "output_type": "execute_result"
    }
   ],
   "source": [
    "trial_licks = run.binned_licks_easytest\n",
    "# the time of all the licks (in ms) that occured between trial 13 and trial 14 \n",
    "# normalised to the start time of trial 13\n",
    "trial_licks[13]"
   ]
  },
  {
   "cell_type": "code",
   "execution_count": 12,
   "metadata": {},
   "outputs": [
    {
     "data": {
      "text/plain": [
       "(1695, 22, 4)"
      ]
     },
     "execution_count": 12,
     "metadata": {},
     "output_type": "execute_result"
    }
   ],
   "source": [
    "\n",
    "# build fluorescent array\n",
    "flu_arr = utils.build_flu_array(run, run.trial_start, pre_frames, post_frames, use_spks=False)\n",
    "# outcome of the trial\n",
    "outcome = run.outcome\n",
    "# how many cells were stimmed on each trial\n",
    "trial_subsets = Subsets(run).trial_subsets\n",
    "\n",
    "######## Find indexs of the trials you want to keep ###############\n",
    "\n",
    "# hit and miss trials (go trials)\n",
    "hit_miss_idx = [True if out=='hit' or out=='miss' else False for out in outcome]\n",
    "\n",
    "# trials where the mouse is performning well\n",
    "good_idx = np.full(len(outcome), False)\n",
    "good_idx[rf.filter_trials(run, good=True)] = True\n",
    "\n",
    "# trials where not-150 cells were stimmed\n",
    "non_150 = trial_subsets!=150\n",
    "# just 5,10,15,20 cells\n",
    "small_idx = [True if t in [5, 10, 15, 20] else False for t in trial_subsets]\n",
    "# just 30,40,50 cells\n",
    "big_idx = [True if t in [30,40,50] else False for t in trial_subsets]\n",
    "non_nan_idx = ~np.isnan(np.mean(np.mean(flu_arr, 0), 1))\n",
    "\n",
    "# add index variables in here that you want to keep for subsequent analysis\n",
    "trials_keep =  hit_miss_idx & non_nan_idx & small_idx\n",
    "\n",
    "#index fluororesnece array with trials to keep and only take pre-stim frames \n",
    "pre_stim = flu_arr[:, trials_keep, :4]           \n",
    "outcome = outcome[trials_keep]\n",
    "\n",
    "assert pre_stim.shape[1] == len(outcome)\n",
    "pre_stim.shape"
   ]
  },
  {
   "cell_type": "markdown",
   "metadata": {},
   "source": [
    "## Train logistic regression classifier with frame meaned data"
   ]
  },
  {
   "cell_type": "code",
   "execution_count": 13,
   "metadata": {},
   "outputs": [
    {
     "name": "stdout",
     "output_type": "stream",
     "text": [
      "(1695, 22)\n",
      "-7.621804620650043e-19\n",
      "1.0\n"
     ]
    }
   ],
   "source": [
    "# Scale frame meaned data to have 0 mean and unit variance\n",
    "data = np.mean(pre_stim, 2)\n",
    "scaler = StandardScaler(copy=True, with_mean=True, with_std=True)\n",
    "scaler.fit(data)\n",
    "data = scaler.transform(data)\n",
    "print(data.shape)\n",
    "print(np.nanmean(data))\n",
    "print(np.nanstd(data))"
   ]
  },
  {
   "cell_type": "code",
   "execution_count": 14,
   "metadata": {},
   "outputs": [],
   "source": [
    "encoder = LabelEncoder()\n",
    "encoder.fit(outcome)\n",
    "labels = encoder.transform(outcome)"
   ]
  },
  {
   "cell_type": "code",
   "execution_count": 15,
   "metadata": {},
   "outputs": [
    {
     "name": "stdout",
     "output_type": "stream",
     "text": [
      "Classification Accuracy 0.6 +-0.25\n"
     ]
    },
    {
     "data": {
      "text/plain": [
       "array([0.5 , 0.25, 0.5 , 1.  , 0.75])"
      ]
     },
     "execution_count": 15,
     "metadata": {},
     "output_type": "execute_result"
    }
   ],
   "source": [
    "clf = linear_model.LogisticRegression(max_iter=1e8, tol=1e-4, penalty='l2', solver='lbfgs')\n",
    "scores = cross_val_score(clf, data.T, labels, cv=5)\n",
    "\n",
    "print('Classification Accuracy {} +-{}'.format(round(scores.mean(),2), round(scores.std(),2)))\n",
    "scores"
   ]
  },
  {
   "cell_type": "code",
   "execution_count": 16,
   "metadata": {},
   "outputs": [],
   "source": [
    "# split the data with StratifiedKFold and train n classifiers on training data\n",
    "# predict probabilities for test data & compute ROCs\n",
    "x = data.T\n",
    "y = labels\n",
    "\n",
    "folds = 2\n",
    "cv = StratifiedKFold(n_splits=folds)\n",
    "classifier = linear_model.LogisticRegression(max_iter=1e8, tol=1e-5, penalty='l2',solver='lbfgs')\n",
    "tprs = []\n",
    "aucs = []\n",
    "weights= []\n",
    "mean_fpr = np.linspace(0, 1, 100)\n",
    "\n",
    "for i, (train, test) in enumerate(cv.split(x, y)):\n",
    "    classifier.fit(x[train], y[train])\n",
    "    probs = classifier.predict_proba(x[test])[:,1]\n",
    "    fpr, tpr, thresholds = roc_curve(y[test], probs)\n",
    "    interp_tpr = interp(mean_fpr, fpr, tpr)\n",
    "    interp_tpr[0] = 0.0\n",
    "    tprs.append(interp_tpr)\n",
    "    aucscore = roc_auc_score(y[test], probs)\n",
    "    aucs.append(aucscore)\n",
    "    weights.append(classifier.coef_.T)"
   ]
  },
  {
   "cell_type": "code",
   "execution_count": 17,
   "metadata": {},
   "outputs": [
    {
     "data": {
      "image/png": "[encoded data removed]",
      "text/plain": [
       "<Figure size 576x432 with 1 Axes>"
      ]
     },
     "metadata": {},
     "output_type": "display_data"
    }
   ],
   "source": [
    "fig, ax = plt.subplots(figsize=(8,6))\n",
    "ax.plot([0, 1], [0, 1], linestyle='--', lw=2, color='r',\n",
    "        label='Chance', alpha=.8)\n",
    "\n",
    "mean_tpr = np.mean(tprs, axis=0)\n",
    "mean_tpr[-1] = 1.0\n",
    "mean_auc = auc(mean_fpr, mean_tpr)\n",
    "std_auc = np.std(aucs)\n",
    "ax.plot(mean_fpr, mean_tpr, color='b',\n",
    "        label=r'Mean ROC (AUC = %0.2f $\\pm$ %0.2f)' % (mean_auc, std_auc),\n",
    "        lw=2, alpha=.8)\n",
    "\n",
    "std_tpr = np.std(tprs, axis=0)\n",
    "tprs_upper = np.minimum(mean_tpr + std_tpr, 1)\n",
    "tprs_lower = np.maximum(mean_tpr - std_tpr, 0)\n",
    "ax.fill_between(mean_fpr, tprs_lower, tprs_upper, color='grey', alpha=.2,\n",
    "                label=r'$\\pm$ 1 std. dev.')\n",
    "\n",
    "ax.set(xlim=[-0.05, 1.05], ylim=[-0.05, 1.05],\n",
    "       title=\"{}-fold cross validated ROC for logistic regression classifier that uses pre stimulus frames to predict hit/miss\".format(folds))\n",
    "ax.legend(loc=\"lower right\")\n",
    "plt.show()"
   ]
  }
 ],
 "metadata": {
  "kernelspec": {
   "display_name": "Python 3",
   "language": "python",
   "name": "python3"
  },
  "language_info": {
   "codemirror_mode": {
    "name": "ipython",
    "version": 3
   },
   "file_extension": ".py",
   "mimetype": "text/x-python",
   "name": "python",
   "nbconvert_exporter": "python",
   "pygments_lexer": "ipython3",
   "version": "3.7.4"
  }
 },
 "nbformat": 4,
 "nbformat_minor": 2
}
