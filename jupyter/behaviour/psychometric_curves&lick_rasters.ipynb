{
 "cells": [
  {
   "cell_type": "code",
   "execution_count": 1,
   "metadata": {},
   "outputs": [],
   "source": [
    "# imports general modules, runs ipython magic commands\n",
    "# change path in this notebook to point to repo locally\n",
    "# n.b. sometimes need to run this cell twice to init the plotting paramters\n",
    "%run ../setup_notebook.ipynb"
   ]
  },
  {
   "cell_type": "code",
   "execution_count": 2,
   "metadata": {},
   "outputs": [],
   "source": [
    "# general imports\n",
    "import sys\n",
    "import os\n",
    "import numpy as np\n",
    "import matplotlib.pyplot as plt\n",
    "from matplotlib.patches import Rectangle\n",
    "from matplotlib import colors as mcolors\n",
    "import seaborn as sns\n",
    "from subsets_analysis import Subsets\n",
    "from matplotlib.colors import LinearSegmentedColormap\n",
    "from matplotlib import gridspec\n",
    "from run_functions import filter_trials, dprime_tanke, spiral_tstart\n",
    "import time\n",
    "from scipy.optimize import curve_fit"
   ]
  },
  {
   "cell_type": "code",
   "execution_count": 3,
   "metadata": {},
   "outputs": [],
   "source": [
    "# notebook specific imports\n",
    "import pickle\n",
    "import utils_funcs as utils\n",
    "import re"
   ]
  },
  {
   "cell_type": "code",
   "execution_count": 4,
   "metadata": {},
   "outputs": [],
   "source": [
    "# global plotting params\n",
    "sns.set()\n",
    "sns.set_style('white')\n",
    "params = {'legend.fontsize': 'x-large',\n",
    "         'axes.labelsize': 'x-large',\n",
    "         'axes.titlesize':'x-large',\n",
    "         'xtick.labelsize':'x-large',\n",
    "         'ytick.labelsize':'x-large',\n",
    "         'lines.markersize': 15}\n",
    "\n",
    "plt.rc(\"axes.spines\", top=False, right=False) # despine\n",
    "\n",
    "plt.rcParams.update(params)\n",
    "\n",
    "%matplotlib inline"
   ]
  },
  {
   "cell_type": "code",
   "execution_count": 5,
   "metadata": {},
   "outputs": [],
   "source": [
    "figure_path = '/home/jrowland/mnt/qnap/Figures'"
   ]
  },
  {
   "cell_type": "code",
   "execution_count": 6,
   "metadata": {},
   "outputs": [],
   "source": [
    "mice_dicts = [\n",
    "    \n",
    "{'mouse_id': 'J048', 'run_numbers': [27,28,29,30,32], 'runs': []},\n",
    "{'mouse_id': 'RL048', 'run_numbers': [23, 24, 25, 28, 29], 'runs': []},\n",
    "{'mouse_id': 'J063', 'run_numbers': [8,9,10,11,12,13,14], 'runs': []},\n",
    "{'mouse_id': 'J064', 'run_numbers': [10,11,12,13,14,15], 'runs': []},\n",
    "{'mouse_id': 'J065', 'run_numbers': [10,11,12,13,14,15], 'runs': []},\n",
    "{'mouse_id': 'RL070', 'run_numbers': [22,23,24,27,28,29], 'runs': []},\n",
    "{'mouse_id': 'RL072', 'run_numbers': [19,20,21,24], 'runs': []},\n",
    "    \n",
    "]"
   ]
  },
  {
   "cell_type": "code",
   "execution_count": 7,
   "metadata": {},
   "outputs": [],
   "source": [
    "for mouse_dict in mice_dicts:\n",
    "    for run_number in mouse_dict['run_numbers']:\n",
    "        \n",
    "        pkl_path = os.path.join(path_to_vape, 'run_pkls', mouse_dict['mouse_id'], \n",
    "                                'run{}.pkl'.format(run_number))\n",
    "\n",
    "        with open(pkl_path, 'rb') as f:\n",
    "            run = pickle.load(f)\n",
    "            \n",
    "        mouse_dict['runs'].append(run)\n",
    "                "
   ]
  },
  {
   "cell_type": "code",
   "execution_count": 11,
   "metadata": {},
   "outputs": [],
   "source": [
    " def get_binned_licks(run, tstarts):\n",
    "        \n",
    "    ''' Replaces the 'binned_licks' function in opto_stim_import2.py as this\n",
    "        function uses pyc tstart, not the x galvo tstart\n",
    "        '''\n",
    "    licks = run.session.times.get('lick_1')\n",
    "    binned_licks = []\n",
    "    for i, t_start in enumerate(tstarts):\n",
    "\n",
    "        # Prevent index error on last trial\n",
    "        if i == len(tstarts)-1:\n",
    "            t_end = np.inf\n",
    "        else:\n",
    "            t_end = tstarts[i+1]\n",
    "\n",
    "        #find the licks occuring in each trial\n",
    "        trial_idx = np.where((licks>=t_start) & (licks<=t_end))[0]\n",
    "\n",
    "        #normalise to time of trial start\n",
    "        trial_licks = licks[trial_idx] - t_start\n",
    "\n",
    "        binned_licks.append(trial_licks)\n",
    "\n",
    "    return binned_licks"
   ]
  },
  {
   "cell_type": "code",
   "execution_count": 12,
   "metadata": {},
   "outputs": [],
   "source": [
    "# for mouse_dict in mice_dicts:\n",
    "#     for run_number, run in zip(mouse_dict['run_numbers'], mouse_dict['runs']):\n",
    "#         run = spiral_tstart(run)"
   ]
  },
  {
   "cell_type": "code",
   "execution_count": 13,
   "metadata": {},
   "outputs": [],
   "source": [
    "# all_diffs = []\n",
    "# for mouse_dict in mice_dicts:\n",
    "#     for run_number, run in zip(mouse_dict['run_numbers'], mouse_dict['runs']):\n",
    "#         tstart_diff = spiral_tstart(run, diff_calc=True)\n",
    "#         all_diffs.append(tstart_diff)\n",
    "        "
   ]
  },
  {
   "cell_type": "code",
   "execution_count": 14,
   "metadata": {},
   "outputs": [],
   "source": [
    "for mouse_dict in mice_dicts:\n",
    "    for run_number, run in zip(mouse_dict['run_numbers'], mouse_dict['runs']):\n",
    "        run.spiral_licks = get_binned_licks(run, run.aligner.B_to_A(run.spiral_start))"
   ]
  },
  {
   "cell_type": "code",
   "execution_count": 15,
   "metadata": {},
   "outputs": [],
   "source": [
    "def get_month(run):\n",
    "    return run.session.datetime.strftime('%Y-%m')"
   ]
  },
  {
   "cell_type": "code",
   "execution_count": 16,
   "metadata": {},
   "outputs": [],
   "source": [
    "months = []\n",
    "for mouse_dict in mice_dicts:\n",
    "    for run_number, run in zip(mouse_dict['run_numbers'], mouse_dict['runs']):\n",
    "        months.append(get_month(run))"
   ]
  },
  {
   "cell_type": "code",
   "execution_count": 17,
   "metadata": {},
   "outputs": [
    {
     "ename": "NameError",
     "evalue": "name 'all_diffs' is not defined",
     "output_type": "error",
     "traceback": [
      "\u001b[0;31m---------------------------------------------------------------------------\u001b[0m",
      "\u001b[0;31mNameError\u001b[0m                                 Traceback (most recent call last)",
      "\u001b[0;32m<ipython-input-17-7f6191913a8c>\u001b[0m in \u001b[0;36m<module>\u001b[0;34m\u001b[0m\n\u001b[1;32m      4\u001b[0m \u001b[0;32mfor\u001b[0m \u001b[0mi\u001b[0m\u001b[0;34m,\u001b[0m \u001b[0mmonth\u001b[0m \u001b[0;32min\u001b[0m \u001b[0menumerate\u001b[0m\u001b[0;34m(\u001b[0m\u001b[0mmonths\u001b[0m\u001b[0;34m)\u001b[0m\u001b[0;34m:\u001b[0m\u001b[0;34m\u001b[0m\u001b[0;34m\u001b[0m\u001b[0m\n\u001b[1;32m      5\u001b[0m     \u001b[0msorted_idx\u001b[0m \u001b[0;34m=\u001b[0m \u001b[0mnp\u001b[0m\u001b[0;34m.\u001b[0m\u001b[0mwhere\u001b[0m\u001b[0;34m(\u001b[0m\u001b[0mmonths_set\u001b[0m\u001b[0;34m==\u001b[0m\u001b[0mmonth\u001b[0m\u001b[0;34m)\u001b[0m\u001b[0;34m[\u001b[0m\u001b[0;36m0\u001b[0m\u001b[0;34m]\u001b[0m\u001b[0;34m[\u001b[0m\u001b[0;36m0\u001b[0m\u001b[0;34m]\u001b[0m\u001b[0;34m\u001b[0m\u001b[0;34m\u001b[0m\u001b[0m\n\u001b[0;32m----> 6\u001b[0;31m     \u001b[0mmonth_sorted\u001b[0m\u001b[0;34m[\u001b[0m\u001b[0msorted_idx\u001b[0m\u001b[0;34m]\u001b[0m\u001b[0;34m.\u001b[0m\u001b[0mextend\u001b[0m\u001b[0;34m(\u001b[0m\u001b[0mall_diffs\u001b[0m\u001b[0;34m[\u001b[0m\u001b[0mi\u001b[0m\u001b[0;34m]\u001b[0m\u001b[0;34m)\u001b[0m\u001b[0;34m\u001b[0m\u001b[0;34m\u001b[0m\u001b[0m\n\u001b[0m\u001b[1;32m      7\u001b[0m \u001b[0;34m\u001b[0m\u001b[0m\n\u001b[1;32m      8\u001b[0m \u001b[0mmonth_sorted\u001b[0m \u001b[0;34m=\u001b[0m \u001b[0mnp\u001b[0m\u001b[0;34m.\u001b[0m\u001b[0marray\u001b[0m\u001b[0;34m(\u001b[0m\u001b[0mmonth_sorted\u001b[0m\u001b[0;34m)\u001b[0m\u001b[0;34m\u001b[0m\u001b[0;34m\u001b[0m\u001b[0m\n",
      "\u001b[0;31mNameError\u001b[0m: name 'all_diffs' is not defined"
     ]
    }
   ],
   "source": [
    "months_set = np.sort(np.unique(months))\n",
    "month_sorted = [[] for _ in range(len(months_set))]\n",
    "\n",
    "for i, month in enumerate(months):\n",
    "    sorted_idx = np.where(months_set==month)[0][0]\n",
    "    month_sorted[sorted_idx].extend(all_diffs[i])\n",
    "    \n",
    "month_sorted = np.array(month_sorted)\n",
    "month_sorted = [np.array(ms) for ms in month_sorted]"
   ]
  },
  {
   "cell_type": "code",
   "execution_count": 18,
   "metadata": {},
   "outputs": [
    {
     "ename": "TypeError",
     "evalue": "'>' not supported between instances of 'list' and 'int'",
     "output_type": "error",
     "traceback": [
      "\u001b[0;31m---------------------------------------------------------------------------\u001b[0m",
      "\u001b[0;31mTypeError\u001b[0m                                 Traceback (most recent call last)",
      "\u001b[0;32m<ipython-input-18-e637f4f67f74>\u001b[0m in \u001b[0;36m<module>\u001b[0;34m\u001b[0m\n\u001b[1;32m      1\u001b[0m \u001b[0mthresh\u001b[0m \u001b[0;34m=\u001b[0m \u001b[0;36m250\u001b[0m\u001b[0;34m\u001b[0m\u001b[0;34m\u001b[0m\u001b[0m\n\u001b[0;32m----> 2\u001b[0;31m \u001b[0mabove\u001b[0m \u001b[0;34m=\u001b[0m \u001b[0;34m[\u001b[0m\u001b[0;34m(\u001b[0m\u001b[0msum\u001b[0m\u001b[0;34m(\u001b[0m\u001b[0mms\u001b[0m \u001b[0;34m>\u001b[0m \u001b[0mthresh\u001b[0m\u001b[0;34m)\u001b[0m \u001b[0;34m/\u001b[0m \u001b[0mlen\u001b[0m\u001b[0;34m(\u001b[0m\u001b[0mms\u001b[0m\u001b[0;34m)\u001b[0m\u001b[0;34m)\u001b[0m \u001b[0;34m*\u001b[0m \u001b[0;36m100\u001b[0m \u001b[0;32mfor\u001b[0m \u001b[0mms\u001b[0m \u001b[0;32min\u001b[0m \u001b[0mmonth_sorted\u001b[0m\u001b[0;34m]\u001b[0m\u001b[0;34m\u001b[0m\u001b[0;34m\u001b[0m\u001b[0m\n\u001b[0m\u001b[1;32m      3\u001b[0m \u001b[0mplt\u001b[0m\u001b[0;34m.\u001b[0m\u001b[0mplot\u001b[0m\u001b[0;34m(\u001b[0m\u001b[0mmonths_set\u001b[0m\u001b[0;34m,\u001b[0m \u001b[0mabove\u001b[0m\u001b[0;34m)\u001b[0m\u001b[0;34m\u001b[0m\u001b[0;34m\u001b[0m\u001b[0m\n\u001b[1;32m      4\u001b[0m \u001b[0mplt\u001b[0m\u001b[0;34m.\u001b[0m\u001b[0mxlabel\u001b[0m\u001b[0;34m(\u001b[0m\u001b[0;34m'Month'\u001b[0m\u001b[0;34m)\u001b[0m\u001b[0;34m\u001b[0m\u001b[0;34m\u001b[0m\u001b[0m\n\u001b[1;32m      5\u001b[0m \u001b[0mplt\u001b[0m\u001b[0;34m.\u001b[0m\u001b[0mylabel\u001b[0m\u001b[0;34m(\u001b[0m\u001b[0;34m'% of trials\\nwith onset jitter > {} ms'\u001b[0m\u001b[0;34m.\u001b[0m\u001b[0mformat\u001b[0m\u001b[0;34m(\u001b[0m\u001b[0mthresh\u001b[0m\u001b[0;34m)\u001b[0m\u001b[0;34m)\u001b[0m\u001b[0;34m\u001b[0m\u001b[0;34m\u001b[0m\u001b[0m\n",
      "\u001b[0;32m<ipython-input-18-e637f4f67f74>\u001b[0m in \u001b[0;36m<listcomp>\u001b[0;34m(.0)\u001b[0m\n\u001b[1;32m      1\u001b[0m \u001b[0mthresh\u001b[0m \u001b[0;34m=\u001b[0m \u001b[0;36m250\u001b[0m\u001b[0;34m\u001b[0m\u001b[0;34m\u001b[0m\u001b[0m\n\u001b[0;32m----> 2\u001b[0;31m \u001b[0mabove\u001b[0m \u001b[0;34m=\u001b[0m \u001b[0;34m[\u001b[0m\u001b[0;34m(\u001b[0m\u001b[0msum\u001b[0m\u001b[0;34m(\u001b[0m\u001b[0mms\u001b[0m \u001b[0;34m>\u001b[0m \u001b[0mthresh\u001b[0m\u001b[0;34m)\u001b[0m \u001b[0;34m/\u001b[0m \u001b[0mlen\u001b[0m\u001b[0;34m(\u001b[0m\u001b[0mms\u001b[0m\u001b[0;34m)\u001b[0m\u001b[0;34m)\u001b[0m \u001b[0;34m*\u001b[0m \u001b[0;36m100\u001b[0m \u001b[0;32mfor\u001b[0m \u001b[0mms\u001b[0m \u001b[0;32min\u001b[0m \u001b[0mmonth_sorted\u001b[0m\u001b[0;34m]\u001b[0m\u001b[0;34m\u001b[0m\u001b[0;34m\u001b[0m\u001b[0m\n\u001b[0m\u001b[1;32m      3\u001b[0m \u001b[0mplt\u001b[0m\u001b[0;34m.\u001b[0m\u001b[0mplot\u001b[0m\u001b[0;34m(\u001b[0m\u001b[0mmonths_set\u001b[0m\u001b[0;34m,\u001b[0m \u001b[0mabove\u001b[0m\u001b[0;34m)\u001b[0m\u001b[0;34m\u001b[0m\u001b[0;34m\u001b[0m\u001b[0m\n\u001b[1;32m      4\u001b[0m \u001b[0mplt\u001b[0m\u001b[0;34m.\u001b[0m\u001b[0mxlabel\u001b[0m\u001b[0;34m(\u001b[0m\u001b[0;34m'Month'\u001b[0m\u001b[0;34m)\u001b[0m\u001b[0;34m\u001b[0m\u001b[0;34m\u001b[0m\u001b[0m\n\u001b[1;32m      5\u001b[0m \u001b[0mplt\u001b[0m\u001b[0;34m.\u001b[0m\u001b[0mylabel\u001b[0m\u001b[0;34m(\u001b[0m\u001b[0;34m'% of trials\\nwith onset jitter > {} ms'\u001b[0m\u001b[0;34m.\u001b[0m\u001b[0mformat\u001b[0m\u001b[0;34m(\u001b[0m\u001b[0mthresh\u001b[0m\u001b[0;34m)\u001b[0m\u001b[0;34m)\u001b[0m\u001b[0;34m\u001b[0m\u001b[0;34m\u001b[0m\u001b[0m\n",
      "\u001b[0;31mTypeError\u001b[0m: '>' not supported between instances of 'list' and 'int'"
     ]
    }
   ],
   "source": [
    "thresh = 250\n",
    "above = [(sum(ms > thresh) / len(ms)) * 100 for ms in month_sorted]\n",
    "plt.plot(months_set, above)\n",
    "plt.xlabel('Month')\n",
    "plt.ylabel('% of trials\\nwith onset jitter > {} ms'.format(thresh))"
   ]
  },
  {
   "cell_type": "code",
   "execution_count": 19,
   "metadata": {},
   "outputs": [
    {
     "ename": "TypeError",
     "evalue": "'>' not supported between instances of 'list' and 'int'",
     "output_type": "error",
     "traceback": [
      "\u001b[0;31m---------------------------------------------------------------------------\u001b[0m",
      "\u001b[0;31mTypeError\u001b[0m                                 Traceback (most recent call last)",
      "\u001b[0;32m<ipython-input-19-e637f4f67f74>\u001b[0m in \u001b[0;36m<module>\u001b[0;34m\u001b[0m\n\u001b[1;32m      1\u001b[0m \u001b[0mthresh\u001b[0m \u001b[0;34m=\u001b[0m \u001b[0;36m250\u001b[0m\u001b[0;34m\u001b[0m\u001b[0;34m\u001b[0m\u001b[0m\n\u001b[0;32m----> 2\u001b[0;31m \u001b[0mabove\u001b[0m \u001b[0;34m=\u001b[0m \u001b[0;34m[\u001b[0m\u001b[0;34m(\u001b[0m\u001b[0msum\u001b[0m\u001b[0;34m(\u001b[0m\u001b[0mms\u001b[0m \u001b[0;34m>\u001b[0m \u001b[0mthresh\u001b[0m\u001b[0;34m)\u001b[0m \u001b[0;34m/\u001b[0m \u001b[0mlen\u001b[0m\u001b[0;34m(\u001b[0m\u001b[0mms\u001b[0m\u001b[0;34m)\u001b[0m\u001b[0;34m)\u001b[0m \u001b[0;34m*\u001b[0m \u001b[0;36m100\u001b[0m \u001b[0;32mfor\u001b[0m \u001b[0mms\u001b[0m \u001b[0;32min\u001b[0m \u001b[0mmonth_sorted\u001b[0m\u001b[0;34m]\u001b[0m\u001b[0;34m\u001b[0m\u001b[0;34m\u001b[0m\u001b[0m\n\u001b[0m\u001b[1;32m      3\u001b[0m \u001b[0mplt\u001b[0m\u001b[0;34m.\u001b[0m\u001b[0mplot\u001b[0m\u001b[0;34m(\u001b[0m\u001b[0mmonths_set\u001b[0m\u001b[0;34m,\u001b[0m \u001b[0mabove\u001b[0m\u001b[0;34m)\u001b[0m\u001b[0;34m\u001b[0m\u001b[0;34m\u001b[0m\u001b[0m\n\u001b[1;32m      4\u001b[0m \u001b[0mplt\u001b[0m\u001b[0;34m.\u001b[0m\u001b[0mxlabel\u001b[0m\u001b[0;34m(\u001b[0m\u001b[0;34m'Month'\u001b[0m\u001b[0;34m)\u001b[0m\u001b[0;34m\u001b[0m\u001b[0;34m\u001b[0m\u001b[0m\n\u001b[1;32m      5\u001b[0m \u001b[0mplt\u001b[0m\u001b[0;34m.\u001b[0m\u001b[0mylabel\u001b[0m\u001b[0;34m(\u001b[0m\u001b[0;34m'% of trials\\nwith onset jitter > {} ms'\u001b[0m\u001b[0;34m.\u001b[0m\u001b[0mformat\u001b[0m\u001b[0;34m(\u001b[0m\u001b[0mthresh\u001b[0m\u001b[0;34m)\u001b[0m\u001b[0;34m)\u001b[0m\u001b[0;34m\u001b[0m\u001b[0;34m\u001b[0m\u001b[0m\n",
      "\u001b[0;32m<ipython-input-19-e637f4f67f74>\u001b[0m in \u001b[0;36m<listcomp>\u001b[0;34m(.0)\u001b[0m\n\u001b[1;32m      1\u001b[0m \u001b[0mthresh\u001b[0m \u001b[0;34m=\u001b[0m \u001b[0;36m250\u001b[0m\u001b[0;34m\u001b[0m\u001b[0;34m\u001b[0m\u001b[0m\n\u001b[0;32m----> 2\u001b[0;31m \u001b[0mabove\u001b[0m \u001b[0;34m=\u001b[0m \u001b[0;34m[\u001b[0m\u001b[0;34m(\u001b[0m\u001b[0msum\u001b[0m\u001b[0;34m(\u001b[0m\u001b[0mms\u001b[0m \u001b[0;34m>\u001b[0m \u001b[0mthresh\u001b[0m\u001b[0;34m)\u001b[0m \u001b[0;34m/\u001b[0m \u001b[0mlen\u001b[0m\u001b[0;34m(\u001b[0m\u001b[0mms\u001b[0m\u001b[0;34m)\u001b[0m\u001b[0;34m)\u001b[0m \u001b[0;34m*\u001b[0m \u001b[0;36m100\u001b[0m \u001b[0;32mfor\u001b[0m \u001b[0mms\u001b[0m \u001b[0;32min\u001b[0m \u001b[0mmonth_sorted\u001b[0m\u001b[0;34m]\u001b[0m\u001b[0;34m\u001b[0m\u001b[0;34m\u001b[0m\u001b[0m\n\u001b[0m\u001b[1;32m      3\u001b[0m \u001b[0mplt\u001b[0m\u001b[0;34m.\u001b[0m\u001b[0mplot\u001b[0m\u001b[0;34m(\u001b[0m\u001b[0mmonths_set\u001b[0m\u001b[0;34m,\u001b[0m \u001b[0mabove\u001b[0m\u001b[0;34m)\u001b[0m\u001b[0;34m\u001b[0m\u001b[0;34m\u001b[0m\u001b[0m\n\u001b[1;32m      4\u001b[0m \u001b[0mplt\u001b[0m\u001b[0;34m.\u001b[0m\u001b[0mxlabel\u001b[0m\u001b[0;34m(\u001b[0m\u001b[0;34m'Month'\u001b[0m\u001b[0;34m)\u001b[0m\u001b[0;34m\u001b[0m\u001b[0;34m\u001b[0m\u001b[0m\n\u001b[1;32m      5\u001b[0m \u001b[0mplt\u001b[0m\u001b[0;34m.\u001b[0m\u001b[0mylabel\u001b[0m\u001b[0;34m(\u001b[0m\u001b[0;34m'% of trials\\nwith onset jitter > {} ms'\u001b[0m\u001b[0;34m.\u001b[0m\u001b[0mformat\u001b[0m\u001b[0;34m(\u001b[0m\u001b[0mthresh\u001b[0m\u001b[0;34m)\u001b[0m\u001b[0;34m)\u001b[0m\u001b[0;34m\u001b[0m\u001b[0;34m\u001b[0m\u001b[0m\n",
      "\u001b[0;31mTypeError\u001b[0m: '>' not supported between instances of 'list' and 'int'"
     ]
    }
   ],
   "source": [
    "thresh = 250\n",
    "above = [(sum(ms > thresh) / len(ms)) * 100 for ms in month_sorted]\n",
    "plt.plot(months_set, above)\n",
    "plt.xlabel('Month')\n",
    "plt.ylabel('% of trials\\nwith onset jitter > {} ms'.format(thresh))"
   ]
  },
  {
   "cell_type": "code",
   "execution_count": 20,
   "metadata": {},
   "outputs": [
    {
     "ename": "NameError",
     "evalue": "name 'all_diffs' is not defined",
     "output_type": "error",
     "traceback": [
      "\u001b[0;31m---------------------------------------------------------------------------\u001b[0m",
      "\u001b[0;31mNameError\u001b[0m                                 Traceback (most recent call last)",
      "\u001b[0;32m<ipython-input-20-bad883463abe>\u001b[0m in \u001b[0;36m<module>\u001b[0;34m\u001b[0m\n\u001b[0;32m----> 1\u001b[0;31m \u001b[0mflattened\u001b[0m \u001b[0;34m=\u001b[0m \u001b[0mnp\u001b[0m\u001b[0;34m.\u001b[0m\u001b[0mconcatenate\u001b[0m\u001b[0;34m(\u001b[0m\u001b[0mall_diffs\u001b[0m\u001b[0;34m)\u001b[0m\u001b[0;34m.\u001b[0m\u001b[0mravel\u001b[0m\u001b[0;34m(\u001b[0m\u001b[0;34m)\u001b[0m\u001b[0;34m\u001b[0m\u001b[0;34m\u001b[0m\u001b[0m\n\u001b[0m\u001b[1;32m      2\u001b[0m \u001b[0mbins\u001b[0m \u001b[0;34m=\u001b[0m \u001b[0mnp\u001b[0m\u001b[0;34m.\u001b[0m\u001b[0marange\u001b[0m\u001b[0;34m(\u001b[0m\u001b[0;36m0\u001b[0m\u001b[0;34m,\u001b[0m\u001b[0;36m1500\u001b[0m\u001b[0;34m,\u001b[0m\u001b[0;36m50\u001b[0m\u001b[0;34m)\u001b[0m\u001b[0;34m\u001b[0m\u001b[0;34m\u001b[0m\u001b[0m\n\u001b[1;32m      3\u001b[0m \u001b[0mh\u001b[0m \u001b[0;34m=\u001b[0m \u001b[0mplt\u001b[0m\u001b[0;34m.\u001b[0m\u001b[0mhist\u001b[0m\u001b[0;34m(\u001b[0m\u001b[0mflattened\u001b[0m\u001b[0;34m,\u001b[0m \u001b[0mbins\u001b[0m\u001b[0;34m=\u001b[0m\u001b[0mbins\u001b[0m\u001b[0;34m)\u001b[0m\u001b[0;34m\u001b[0m\u001b[0;34m\u001b[0m\u001b[0m\n\u001b[1;32m      4\u001b[0m \u001b[0mplt\u001b[0m\u001b[0;34m.\u001b[0m\u001b[0mxlabel\u001b[0m\u001b[0;34m(\u001b[0m\u001b[0;34m'Jitter to trial onset (ms)'\u001b[0m\u001b[0;34m)\u001b[0m\u001b[0;34m\u001b[0m\u001b[0;34m\u001b[0m\u001b[0m\n\u001b[1;32m      5\u001b[0m \u001b[0mplt\u001b[0m\u001b[0;34m.\u001b[0m\u001b[0mylim\u001b[0m\u001b[0;34m(\u001b[0m\u001b[0;34m(\u001b[0m\u001b[0;36m0\u001b[0m\u001b[0;34m,\u001b[0m\u001b[0;36m10\u001b[0m\u001b[0;34m)\u001b[0m\u001b[0;34m)\u001b[0m\u001b[0;34m\u001b[0m\u001b[0;34m\u001b[0m\u001b[0m\n",
      "\u001b[0;31mNameError\u001b[0m: name 'all_diffs' is not defined"
     ]
    }
   ],
   "source": [
    "flattened = np.concatenate(all_diffs).ravel()\n",
    "bins = np.arange(0,1500,50)\n",
    "h = plt.hist(flattened, bins=bins)\n",
    "plt.xlabel('Jitter to trial onset (ms)')\n",
    "plt.ylim((0,10))\n",
    "#plt.xlim((0,200))"
   ]
  },
  {
   "cell_type": "code",
   "execution_count": 21,
   "metadata": {},
   "outputs": [],
   "source": [
    "def trial_outcomes(outcome):\n",
    "\n",
    "    go_outcome = []\n",
    "    nogo_outcome = []\n",
    "\n",
    "    for t in outcome:\n",
    "        if t == 'hit':\n",
    "            go_outcome.append(True)\n",
    "        elif t == 'miss':\n",
    "            go_outcome.append(False)\n",
    "        elif t =='cr':\n",
    "            nogo_outcome.append(False)\n",
    "        elif t == 'fp':\n",
    "            nogo_outcome.append(True)\n",
    "\n",
    "    go_outcome = np.array(go_outcome)\n",
    "    nogo_outcome = np.array(nogo_outcome)\n",
    "    \n",
    "    return go_outcome, nogo_outcome"
   ]
  },
  {
   "cell_type": "code",
   "execution_count": 22,
   "metadata": {},
   "outputs": [],
   "source": [
    "def get_subset_dprime(run, good=True):\n",
    "    \n",
    "    ''' get the d-prime for each subset in a run.\n",
    "        Returns nan if < 10 trials of a subset in a session\n",
    "        '''\n",
    "\n",
    "    if good:\n",
    "        trial_idxs = filter_trials(run)\n",
    "    else:\n",
    "        trial_idxs = np.arange(len(run.outcome))\n",
    "        \n",
    "    outcome = np.array(run.outcome)[trial_idxs]\n",
    "    trial_info = np.array(run.trial_info)[trial_idxs]\n",
    "    assert len(outcome) == len(trial_info)\n",
    "    print('{}% of trials good'.format(round(sum(trial_idxs) / len(trial_idxs) * 100), 2))\n",
    "    \n",
    "    go_outcome, nogo_outcome = trial_outcomes(outcome)\n",
    "    trial_subsets = []\n",
    "    \n",
    "    for i, info in enumerate(trial_info):\n",
    "        if 'Nogo Trial' in info:\n",
    "            continue\n",
    "        elif 'all_cells_stimulated' in info:\n",
    "            trial_subsets.append(150)\n",
    "        elif 'Subset cells experiment' in info:\n",
    "            trial_subset = int(re.search('(?<=stimulating )(.*)(?= cells)', info).group(0))\n",
    "            trial_subsets.append(trial_subset)\n",
    "\n",
    "    group_dict = {\n",
    "        0: '0',\n",
    "        5: '5-10',\n",
    "        10: '5-10',\n",
    "        20: '20-30',\n",
    "        30: '20-30',\n",
    "        40: '40-50',\n",
    "        50: '40-50',\n",
    "        150: '150'\n",
    "    }\n",
    "    \n",
    "    trial_subsets = [group_dict[sub] for sub in trial_subsets]\n",
    "    trial_subsets = np.array(trial_subsets)\n",
    "    subsets = ['0', '5-10', '20-30', '40-50', '150']\n",
    "        \n",
    "    fp_rate = sum(nogo_outcome) / len(nogo_outcome)\n",
    "    subset_rate = []\n",
    "        \n",
    "    assert len(go_outcome) == len(trial_subsets), '{} {}'.format(len(trial_subsets), len(go_outcome))\n",
    "    for sub in subsets:\n",
    "        subset_idx = np.where(trial_subsets == sub)[0]\n",
    "        if len(subset_idx) < 10:\n",
    "            subset_rate.append(np.nan)\n",
    "        else:\n",
    "            subset_rate.append(sum(go_outcome[subset_idx]) / len(subset_idx))\n",
    "\n",
    "    subsets_dprime = [utils.d_prime(rate, fp_rate) for rate in subset_rate]\n",
    "    #subsets_dprime = subset_rate\n",
    "    return subsets, subsets_dprime, fp_rate\n",
    "    "
   ]
  },
  {
   "cell_type": "code",
   "execution_count": 23,
   "metadata": {},
   "outputs": [],
   "source": [
    "def get_psychometric(runs, good=True):\n",
    "    \n",
    "    across_sessions = []\n",
    "    fp_rates = []\n",
    "\n",
    "    \n",
    "    for run in runs:\n",
    "        n_hits = len(np.where(run.outcome=='hit')[0])\n",
    "        n_go = len(np.where(np.array(run.trial_type)=='go')[0])\n",
    "        session_hitrate = n_hits / n_go\n",
    "        session_fprate = len(np.where(run.outcome=='fp')[0]) / (len(run.outcome) - n_go)\n",
    "        \n",
    "        session_dprime = utils.d_prime(session_hitrate, session_fprate)\n",
    "        \n",
    "        if session_dprime < 0.6:\n",
    "            continue\n",
    "        \n",
    "        global subsets  # hackkkkkkk\n",
    "        subsets, subsets_dprime, fp_rate = get_subset_dprime(run, good=good)\n",
    "\n",
    "        across_sessions.append(subsets_dprime)\n",
    "        fp_rates.append(fp_rate)\n",
    "\n",
    "    across_sessions = np.array(across_sessions)   \n",
    "    meaned = np.nanmean(across_sessions, 0)\n",
    "    \n",
    "    # Currently returning mean of fp rate to avoid\n",
    "    # session speicific info in dict\n",
    "    return meaned, np.mean(fp_rates)"
   ]
  },
  {
   "cell_type": "code",
   "execution_count": 24,
   "metadata": {},
   "outputs": [
    {
     "name": "stdout",
     "output_type": "stream",
     "text": [
      "53% of trials good\n",
      "53% of trials good\n",
      "46% of trials good\n",
      "65% of trials good\n",
      "69% of trials good\n",
      "33% of trials good\n",
      "37% of trials good\n",
      "43% of trials good\n",
      "71% of trials good\n",
      "70% of trials good\n",
      "86% of trials good\n",
      "69% of trials good\n",
      "58% of trials good\n",
      "48% of trials good\n",
      "79% of trials good\n",
      "55% of trials good\n",
      "81% of trials good\n",
      "55% of trials good\n",
      "71% of trials good\n",
      "66% of trials good\n",
      "56% of trials good\n",
      "63% of trials good\n",
      "60% of trials good\n",
      "62% of trials good\n",
      "55% of trials good\n",
      "30% of trials good\n",
      "46% of trials good\n",
      "59% of trials good\n"
     ]
    }
   ],
   "source": [
    "for mouse_dict in mice_dicts:\n",
    "    dprimes, fp_rate = get_psychometric(mouse_dict['runs'], good=True)\n",
    "    mouse_dict['dprimes'] = dprimes\n",
    "    mouse_dict['fp_rate'] = fp_rate\n",
    "\n",
    "across_mice = np.array([mouse_dict['dprimes'] for mouse_dict in mice_dicts])"
   ]
  },
  {
   "cell_type": "code",
   "execution_count": 25,
   "metadata": {},
   "outputs": [],
   "source": [
    "def func(x, a, b, c, d):\n",
    "    return a*x**3 + b*x**2 +c*x + d"
   ]
  },
  {
   "cell_type": "code",
   "execution_count": 26,
   "metadata": {
    "scrolled": true
   },
   "outputs": [
    {
     "ename": "ValueError",
     "evalue": "array must not contain infs or NaNs",
     "output_type": "error",
     "traceback": [
      "\u001b[0;31m---------------------------------------------------------------------------\u001b[0m",
      "\u001b[0;31mValueError\u001b[0m                                Traceback (most recent call last)",
      "\u001b[0;32m<ipython-input-26-c7418952e08d>\u001b[0m in \u001b[0;36m<module>\u001b[0;34m\u001b[0m\n\u001b[1;32m      9\u001b[0m \u001b[0;32mfor\u001b[0m \u001b[0mmouse_dict\u001b[0m \u001b[0;32min\u001b[0m \u001b[0mmice_dicts\u001b[0m\u001b[0;34m:\u001b[0m\u001b[0;34m\u001b[0m\u001b[0;34m\u001b[0m\u001b[0m\n\u001b[1;32m     10\u001b[0m     \u001b[0mplt\u001b[0m\u001b[0;34m.\u001b[0m\u001b[0mplot\u001b[0m\u001b[0;34m(\u001b[0m\u001b[0msubsets\u001b[0m\u001b[0;34m,\u001b[0m \u001b[0mmouse_dict\u001b[0m\u001b[0;34m[\u001b[0m\u001b[0;34m'dprimes'\u001b[0m\u001b[0;34m]\u001b[0m\u001b[0;34m,\u001b[0m \u001b[0;34m'.'\u001b[0m\u001b[0;34m,\u001b[0m \u001b[0mmarkersize\u001b[0m\u001b[0;34m=\u001b[0m\u001b[0;36m30\u001b[0m\u001b[0;34m,\u001b[0m \u001b[0mcolor\u001b[0m\u001b[0;34m=\u001b[0m\u001b[0mmy_color\u001b[0m\u001b[0;34m,\u001b[0m \u001b[0malpha\u001b[0m\u001b[0;34m=\u001b[0m\u001b[0;36m0.2\u001b[0m\u001b[0;34m)\u001b[0m\u001b[0;34m\u001b[0m\u001b[0;34m\u001b[0m\u001b[0m\n\u001b[0;32m---> 11\u001b[0;31m     \u001b[0mpopt\u001b[0m\u001b[0;34m,\u001b[0m \u001b[0mpcov\u001b[0m \u001b[0;34m=\u001b[0m \u001b[0mcurve_fit\u001b[0m\u001b[0;34m(\u001b[0m\u001b[0mfunc\u001b[0m\u001b[0;34m,\u001b[0m \u001b[0mx\u001b[0m\u001b[0;34m,\u001b[0m \u001b[0mmouse_dict\u001b[0m\u001b[0;34m[\u001b[0m\u001b[0;34m'dprimes'\u001b[0m\u001b[0;34m]\u001b[0m\u001b[0;34m[\u001b[0m\u001b[0;36m1\u001b[0m\u001b[0;34m:\u001b[0m\u001b[0;34m]\u001b[0m\u001b[0;34m)\u001b[0m\u001b[0;34m\u001b[0m\u001b[0;34m\u001b[0m\u001b[0m\n\u001b[0m\u001b[1;32m     12\u001b[0m     \u001b[0mplt\u001b[0m\u001b[0;34m.\u001b[0m\u001b[0mplot\u001b[0m\u001b[0;34m(\u001b[0m\u001b[0mx\u001b[0m\u001b[0;34m,\u001b[0m \u001b[0mfunc\u001b[0m\u001b[0;34m(\u001b[0m\u001b[0mx\u001b[0m\u001b[0;34m,\u001b[0m \u001b[0;34m*\u001b[0m\u001b[0mpopt\u001b[0m\u001b[0;34m)\u001b[0m\u001b[0;34m,\u001b[0m \u001b[0mzorder\u001b[0m\u001b[0;34m=\u001b[0m\u001b[0;36m0\u001b[0m\u001b[0;34m,\u001b[0m \u001b[0mcolor\u001b[0m\u001b[0;34m=\u001b[0m\u001b[0mmy_color\u001b[0m\u001b[0;34m,\u001b[0m \u001b[0malpha\u001b[0m\u001b[0;34m=\u001b[0m\u001b[0;36m0.2\u001b[0m\u001b[0;34m)\u001b[0m\u001b[0;34m\u001b[0m\u001b[0;34m\u001b[0m\u001b[0m\n\u001b[1;32m     13\u001b[0m     \u001b[0mplt\u001b[0m\u001b[0;34m.\u001b[0m\u001b[0mxlabel\u001b[0m\u001b[0;34m(\u001b[0m\u001b[0;34m'Number of cells targeted'\u001b[0m\u001b[0;34m)\u001b[0m\u001b[0;34m\u001b[0m\u001b[0;34m\u001b[0m\u001b[0m\n",
      "\u001b[0;32m~/anaconda3/lib/python3.7/site-packages/scipy/optimize/minpack.py\u001b[0m in \u001b[0;36mcurve_fit\u001b[0;34m(f, xdata, ydata, p0, sigma, absolute_sigma, check_finite, bounds, method, jac, **kwargs)\u001b[0m\n\u001b[1;32m    706\u001b[0m     \u001b[0;31m# NaNs can not be handled\u001b[0m\u001b[0;34m\u001b[0m\u001b[0;34m\u001b[0m\u001b[0;34m\u001b[0m\u001b[0m\n\u001b[1;32m    707\u001b[0m     \u001b[0;32mif\u001b[0m \u001b[0mcheck_finite\u001b[0m\u001b[0;34m:\u001b[0m\u001b[0;34m\u001b[0m\u001b[0;34m\u001b[0m\u001b[0m\n\u001b[0;32m--> 708\u001b[0;31m         \u001b[0mydata\u001b[0m \u001b[0;34m=\u001b[0m \u001b[0mnp\u001b[0m\u001b[0;34m.\u001b[0m\u001b[0masarray_chkfinite\u001b[0m\u001b[0;34m(\u001b[0m\u001b[0mydata\u001b[0m\u001b[0;34m,\u001b[0m \u001b[0mfloat\u001b[0m\u001b[0;34m)\u001b[0m\u001b[0;34m\u001b[0m\u001b[0;34m\u001b[0m\u001b[0m\n\u001b[0m\u001b[1;32m    709\u001b[0m     \u001b[0;32melse\u001b[0m\u001b[0;34m:\u001b[0m\u001b[0;34m\u001b[0m\u001b[0;34m\u001b[0m\u001b[0m\n\u001b[1;32m    710\u001b[0m         \u001b[0mydata\u001b[0m \u001b[0;34m=\u001b[0m \u001b[0mnp\u001b[0m\u001b[0;34m.\u001b[0m\u001b[0masarray\u001b[0m\u001b[0;34m(\u001b[0m\u001b[0mydata\u001b[0m\u001b[0;34m,\u001b[0m \u001b[0mfloat\u001b[0m\u001b[0;34m)\u001b[0m\u001b[0;34m\u001b[0m\u001b[0;34m\u001b[0m\u001b[0m\n",
      "\u001b[0;32m~/anaconda3/lib/python3.7/site-packages/numpy/lib/function_base.py\u001b[0m in \u001b[0;36masarray_chkfinite\u001b[0;34m(a, dtype, order)\u001b[0m\n\u001b[1;32m    494\u001b[0m     \u001b[0;32mif\u001b[0m \u001b[0ma\u001b[0m\u001b[0;34m.\u001b[0m\u001b[0mdtype\u001b[0m\u001b[0;34m.\u001b[0m\u001b[0mchar\u001b[0m \u001b[0;32min\u001b[0m \u001b[0mtypecodes\u001b[0m\u001b[0;34m[\u001b[0m\u001b[0;34m'AllFloat'\u001b[0m\u001b[0;34m]\u001b[0m \u001b[0;32mand\u001b[0m \u001b[0;32mnot\u001b[0m \u001b[0mnp\u001b[0m\u001b[0;34m.\u001b[0m\u001b[0misfinite\u001b[0m\u001b[0;34m(\u001b[0m\u001b[0ma\u001b[0m\u001b[0;34m)\u001b[0m\u001b[0;34m.\u001b[0m\u001b[0mall\u001b[0m\u001b[0;34m(\u001b[0m\u001b[0;34m)\u001b[0m\u001b[0;34m:\u001b[0m\u001b[0;34m\u001b[0m\u001b[0;34m\u001b[0m\u001b[0m\n\u001b[1;32m    495\u001b[0m         raise ValueError(\n\u001b[0;32m--> 496\u001b[0;31m             \"array must not contain infs or NaNs\")\n\u001b[0m\u001b[1;32m    497\u001b[0m     \u001b[0;32mreturn\u001b[0m \u001b[0ma\u001b[0m\u001b[0;34m\u001b[0m\u001b[0;34m\u001b[0m\u001b[0m\n\u001b[1;32m    498\u001b[0m \u001b[0;34m\u001b[0m\u001b[0m\n",
      "\u001b[0;31mValueError\u001b[0m: array must not contain infs or NaNs"
     ]
    },
    {
     "data": {
      "image/png": "[encoded data removed]",
      "text/plain": [
       "<Figure size 432x288 with 1 Axes>"
      ]
     },
     "metadata": {
      "needs_background": "light"
     },
     "output_type": "display_data"
    }
   ],
   "source": [
    "plt.figure()\n",
    "y_min = 0\n",
    "y_max = 2.5\n",
    "my_color = 'orange'\n",
    "\n",
    "\n",
    "x = np.arange(1,5)\n",
    "plot_idx = 0\n",
    "for mouse_dict in mice_dicts:\n",
    "    plt.plot(subsets, mouse_dict['dprimes'], '.', markersize=30, color=my_color, alpha=0.2)\n",
    "    popt, pcov = curve_fit(func, x, mouse_dict['dprimes'][1:])\n",
    "    plt.plot(x, func(x, *popt), zorder=0, color=my_color, alpha=0.2) \n",
    "    plt.xlabel('Number of cells targeted')\n",
    "    plt.ylabel('D Prime')\n",
    "    plt.ylim((y_min, y_max))\n",
    "    \n",
    "meaned = np.nanmean(across_mice, 0)\n",
    "popt, pcov = curve_fit(func, x, meaned[1:])\n",
    "\n",
    "plt.plot(subsets, np.nanmean(across_mice, 0), '.', markersize=30, color=my_color)\n",
    "plt.plot(x, func(x, *popt), zorder=0, color=my_color) \n",
    "plt.xlabel('Number of Cells Targeted')\n",
    "plt.ylabel('D Prime')\n",
    "plt.ylim((y_min, y_max))\n",
    "plt.savefig(os.path.join(figure_path, 'easyTestPsychometrics.pdf'),bbox_inches=\"tight\")\n",
    "plt.savefig(os.path.join(figure_path, 'easyTestPsychometrics.png'),bbox_inches=\"tight\")"
   ]
  },
  {
   "cell_type": "code",
   "execution_count": 27,
   "metadata": {},
   "outputs": [],
   "source": [
    "def trial_binner(arr):\n",
    "    \n",
    "    group_dict = {\n",
    "        \n",
    "        0: '0',\n",
    "        5: '5-10',\n",
    "        10: '5-10',\n",
    "        20: '20-30',\n",
    "        30: '20-30',\n",
    "        40: '40-50',\n",
    "        50: '40-50',\n",
    "        150: '150'\n",
    "        \n",
    "    }\n",
    "\n",
    "    return np.array([group_dict[a] for a in arr])"
   ]
  },
  {
   "cell_type": "code",
   "execution_count": 28,
   "metadata": {},
   "outputs": [],
   "source": [
    "def lick_raster(run, grid, run_number, only_good=False):\n",
    "    \n",
    "    binned_licks = np.array(run.spiral_licks)\n",
    "    trial_type = np.array(run.trial_type)\n",
    "    trial_subsets = Subsets(run).trial_subsets\n",
    "    outcome = run.outcome\n",
    "    \n",
    "    # Do you only want to plot good trials?\n",
    "    if only_good:\n",
    "        good_idxs = filter_trials(run)\n",
    "        binned_licks = binned_licks[good_idxs]\n",
    "        trial_type = trial_type[good_idxs]\n",
    "        trial_subsets = trial_subsets[good_idxs]\n",
    "        outcome = outcome[good_idxs]\n",
    "\n",
    "    assert len(binned_licks) == len(trial_type) == len(trial_subsets) == len(outcome), \\\n",
    "    '{} {} {} {}'.format(len(binned_licks), len(trial_type), len(trial_subsets), len(outcome))\n",
    "    \n",
    "    # Sort variables by whether the number of cells stimmed\n",
    "    trial_idxs = np.argsort(trial_subsets, kind='mergesort')\n",
    "    \n",
    "    sorted_licks = binned_licks[trial_idxs]\n",
    "    sorted_outcome = outcome[trial_idxs]\n",
    "    sorted_subsets = trial_subsets[trial_idxs]\n",
    "    sorted_subsets = trial_binner(sorted_subsets)\n",
    "    \n",
    "    # Map a plot color to each subset size\n",
    "    #colors = ['black', 'dimgrey', 'darkgrey', 'silver', 'pink']\n",
    "    colors = ['pink'] * 4\n",
    "    colors.append('c')\n",
    "    subsets = ['150', '40-50', '20-30', '5-10', '0']\n",
    "\n",
    "    color_map = {}\n",
    "    for i, sub in enumerate(subsets):\n",
    "        color_map[sub] = colors[i] \n",
    "    subset_colors = [color_map[i] for i in sorted_subsets]\n",
    "    \n",
    "    # Init the parent figure \n",
    "    #fig = plt.figure(figsize=(8, 6)) \n",
    "    gs = gridspec.GridSpecFromSubplotSpec(1, 2, grid, width_ratios=[4, 1]) \n",
    "    #gs.update(wspace=0) # set the spacing between axes. \n",
    "    ax0 = plt.subplot(gs[0])\n",
    "    ax1 = plt.subplot(gs[1])\n",
    "    \n",
    "    # Plot lick rasters \n",
    "    line_pos = []\n",
    "    global reaction_times\n",
    "    reaction_times = []\n",
    "    for i, rast in enumerate(sorted_licks):\n",
    "\n",
    "        color=subset_colors[i]\n",
    "        y_axis = np.ones(len(rast)) + i\n",
    "\n",
    "        if sorted_subsets[i] != sorted_subsets[i-1] and i != 0:\n",
    "            ax0.axhline(y=i, ls='--', color='black')\n",
    "            line_pos.append(i)\n",
    "        try:\n",
    "            point = rast[0] / 1000\n",
    "            if point <= 1:\n",
    "                marker = '.'\n",
    "                fillstyle = 'full'\n",
    "            else:\n",
    "                marker = '.'\n",
    "                fillstyle = 'none'\n",
    "            ax0.plot(point, y_axis[0], marker=marker,\n",
    "                     fillstyle=fillstyle, c=color, markersize=12)\n",
    "            reaction_times.append(rast[0])\n",
    "        except IndexError:\n",
    "            reaction_times.append(np.nan)\n",
    "            pass\n",
    "            \n",
    "\n",
    "    # Get positions of dividing lines so know where to put y tick labels\n",
    "    line_pos.insert(0,0)\n",
    "    line_pos.append(len(sorted_subsets))\n",
    "    subset_centre = [(line_pos[i] + line_pos[i+1]) / 2 for i in range(len(line_pos)-1)]\n",
    "    \n",
    "    # Calculate session performance metrics\n",
    "    session_dprime = round(utils.d_prime(run.hit_rate, run.fp_rate),2)\n",
    "    _, subsets_dprime, _ = get_subset_dprime(run, good=True)\n",
    "    easygood_dp = round(subsets_dprime[-1], 2)\n",
    "    _, subsets_dprime, _ = get_subset_dprime(run, good=False)\n",
    "    easyall_dp = round(subsets_dprime[-1], 2)\n",
    "    tanke_test = round(dprime_tanke(run), 2)\n",
    "    \n",
    "    # Setup raster axis \n",
    "    ax0.fill_between([0,1], 0, len(sorted_licks), color='gainsboro', alpha=0.5)\n",
    "    ax0.set_xlim((0,2))\n",
    "    ax0.set_xlabel('Time (s)')\n",
    "    ax0.set_ylim((0,len(sorted_licks)+1))\n",
    "    ax0.set_yticks(subset_centre)\n",
    "    ax0.set_yticklabels(np.flip(subsets))\n",
    "    ax0.set_ylabel('Number of Cells Stimulated')\n",
    "    ax0.set_title('Run Number {0}\\n'\n",
    "                  'Session d-prime = {1}\\n'\n",
    "                  '150 cell d-prime (all trials) = {2}\\n'\n",
    "                  '40/50 cell dprimes (tanke excluded) = {3}'\n",
    "                  .format(run_number, session_dprime, easyall_dp, tanke_test))\n",
    "    sns.despine()\n",
    "    \n",
    "    # Map trial types to ints so can express as colormap\n",
    "    int_map = {\n",
    "        'hit': 3,\n",
    "        'miss': 2,\n",
    "        'fp': 1,\n",
    "        'cr': 0\n",
    "    }\n",
    "    \n",
    "    int_mapped = [int_map[out] for out in np.flip(sorted_outcome)]        \n",
    "    bar_width = 10\n",
    "    bar_data = np.stack([int_mapped for _ in range(bar_width)], axis=1)\n",
    "    \n",
    "    # Color the trial int array\n",
    "    cols =  [mcolors.to_rgba('gold') ,mcolors.to_rgba('tomato'),\n",
    "            mcolors.to_rgba('orchid') , mcolors.to_rgba('yellowgreen')]\n",
    "    cols =  [mcolors.to_rgba('gold') ,mcolors.to_rgba('black'),\n",
    "            mcolors.to_rgba('red') , mcolors.to_rgba('green')]\n",
    "    cm = LinearSegmentedColormap.from_list('hit_miss', cols, N=4)\n",
    "    \n",
    "    # Build the colorbar\n",
    "    im = ax1.imshow(bar_data, cmap=cm)\n",
    "    ax1.set_xticks([])\n",
    "    trial_scale = [0, len(sorted_outcome)]\n",
    "    ax1.set_yticks(trial_scale)\n",
    "    ax1.set_yticklabels([('#'+str(t)) for t in np.flip(trial_scale)])\n",
    "    #ax1.set_axis_off()\n",
    "    cbar = plt.colorbar(im)\n",
    "    cbar.set_ticks([0.2,1.1,1.75,2.5])\n",
    "    cbar.set_ticklabels(['Correct\\nRejection', 'False\\nPositive', 'Miss', 'Hit'])\n",
    "    #plt.tight_layout(w_pad=0)\n",
    "    \n",
    "    return gs"
   ]
  },
  {
   "cell_type": "code",
   "execution_count": 29,
   "metadata": {
    "scrolled": true
   },
   "outputs": [
    {
     "name": "stdout",
     "output_type": "stream",
     "text": [
      "81% of trials good\n",
      "8750.0% of trials good\n"
     ]
    },
    {
     "data": {
      "image/png": "[encoded data removed]",
      "text/plain": [
       "<Figure size 864x1440 with 3 Axes>"
      ]
     },
     "metadata": {},
     "output_type": "display_data"
    }
   ],
   "source": [
    "fig = plt.figure(figsize=(12,20), facecolor='white')\n",
    "mouse_dict = mice_dicts[3]\n",
    "outer = gridspec.GridSpec(4,2, hspace=0.6, wspace=0.8)\n",
    "\n",
    "\n",
    "for i, run in enumerate(mouse_dict['runs']):\n",
    "    if i ==1:\n",
    "        gs = lick_raster(run, outer[i], mouse_dict['run_numbers'][i], only_good=False)\n",
    "    \n",
    "\n",
    "fig.suptitle(mouse_dict['mouse_id'], fontsize=32)\n",
    "plt.savefig(os.path.join(figure_path, 'lickRasters.pdf'),bbox_inches=\"tight\")\n",
    "plt.savefig(os.path.join(figure_path, 'lickRasters.png'),bbox_inches=\"tight\")"
   ]
  },
  {
   "cell_type": "code",
   "execution_count": null,
   "metadata": {},
   "outputs": [],
   "source": []
  },
  {
   "cell_type": "code",
   "execution_count": null,
   "metadata": {},
   "outputs": [],
   "source": []
  },
  {
   "cell_type": "code",
   "execution_count": null,
   "metadata": {},
   "outputs": [],
   "source": []
  },
  {
   "cell_type": "code",
   "execution_count": null,
   "metadata": {},
   "outputs": [],
   "source": []
  },
  {
   "cell_type": "code",
   "execution_count": null,
   "metadata": {},
   "outputs": [],
   "source": []
  },
  {
   "cell_type": "code",
   "execution_count": null,
   "metadata": {},
   "outputs": [],
   "source": []
  }
 ],
 "metadata": {
  "kernelspec": {
   "display_name": "Python 3",
   "language": "python",
   "name": "python3"
  },
  "language_info": {
   "codemirror_mode": {
    "name": "ipython",
    "version": 3
   },
   "file_extension": ".py",
   "mimetype": "text/x-python",
   "name": "python",
   "nbconvert_exporter": "python",
   "pygments_lexer": "ipython3",
   "version": "3.7.4"
  }
 },
 "nbformat": 4,
 "nbformat_minor": 4
}
