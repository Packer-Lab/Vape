{
 "cells": [
  {
   "cell_type": "code",
   "execution_count": 14,
   "metadata": {},
   "outputs": [
    {
     "name": "stdout",
     "output_type": "stream",
     "text": [
      "The autoreload extension is already loaded. To reload it, use:\n",
      "  %reload_ext autoreload\n"
     ]
    }
   ],
   "source": [
    "# imports general modules, runs ipython magic commands\n",
    "# change path in this notebook to point to repo locally\n",
    "# n.b. sometimes need to run this cell twice to init the plotting paramters\n",
    "%run ../setup_notebook.ipynb"
   ]
  },
  {
   "cell_type": "code",
   "execution_count": 15,
   "metadata": {},
   "outputs": [],
   "source": [
    "# general imports\n",
    "import sys\n",
    "import os\n",
    "import numpy as np\n",
    "import matplotlib.pyplot as plt\n",
    "from matplotlib.patches import Rectangle\n",
    "from matplotlib import colors as mcolors\n",
    "import seaborn as sns\n",
    "from subsets_analysis import Subsets\n",
    "from run_functions import filter_trials\n",
    "import time"
   ]
  },
  {
   "cell_type": "code",
   "execution_count": 16,
   "metadata": {},
   "outputs": [],
   "source": [
    "# notebook specific imports\n",
    "import pickle\n",
    "import utils_funcs as utils\n",
    "import re"
   ]
  },
  {
   "cell_type": "code",
   "execution_count": 17,
   "metadata": {},
   "outputs": [],
   "source": [
    "# global plotting params\n",
    "sns.set()\n",
    "sns.set_style('white')\n",
    "params = {'legend.fontsize': 'x-large',\n",
    "         'axes.labelsize': 'x-large',\n",
    "         'axes.titlesize':'x-large',\n",
    "         'xtick.labelsize':'x-large',\n",
    "         'ytick.labelsize':'x-large',\n",
    "         'lines.markersize': 15}\n",
    "\n",
    "plt.rc(\"axes.spines\", top=False, right=False) # despine\n",
    "\n",
    "plt.rcParams.update(params)\n"
   ]
  },
  {
   "cell_type": "code",
   "execution_count": 18,
   "metadata": {},
   "outputs": [],
   "source": [
    "mice_dicts = [\n",
    "    \n",
    "{'mouse_id': 'J048', 'run_numbers': [27,28,29,30,32], 'runs': []},\n",
    "{'mouse_id': 'RL048', 'run_numbers': [23, 24, 25, 28, 29], 'runs': []},\n",
    "{'mouse_id': 'J063', 'run_numbers': [8,9,10,11,12,13,14], 'runs': []},\n",
    "{'mouse_id': 'J064', 'run_numbers': [10,11,12,13,14,15], 'runs': []},\n",
    "{'mouse_id': 'J065', 'run_numbers': [10,11,12,13,14,15], 'runs': []},\n",
    "    \n",
    "]"
   ]
  },
  {
   "cell_type": "code",
   "execution_count": 32,
   "metadata": {},
   "outputs": [],
   "source": [
    "for mouse_dict in mice_dicts:\n",
    "    for run_number in mouse_dict['run_numbers']:\n",
    "        \n",
    "        pkl_path = os.path.join(path_to_vape, 'run_pkls', mouse_dict['mouse_id'], \n",
    "                                'run{}.pkl'.format(run_number))\n",
    "\n",
    "        with open(pkl_path, 'rb') as f:\n",
    "            run = pickle.load(f)\n",
    "            \n",
    "        mouse_dict['runs'].append(run)\n",
    "                "
   ]
  },
  {
   "cell_type": "code",
   "execution_count": 20,
   "metadata": {},
   "outputs": [],
   "source": [
    "def trial_outcomes(outcome):\n",
    "\n",
    "    go_outcome = []\n",
    "    nogo_outcome = []\n",
    "\n",
    "    for t in outcome:\n",
    "        if t == 'hit':\n",
    "            go_outcome.append(True)\n",
    "        elif t == 'miss':\n",
    "            go_outcome.append(False)\n",
    "        elif t =='cr':\n",
    "            nogo_outcome.append(False)\n",
    "        elif t == 'fp':\n",
    "            nogo_outcome.append(True)\n",
    "\n",
    "    go_outcome = np.array(go_outcome)\n",
    "    nogo_outcome = np.array(nogo_outcome)\n",
    "    \n",
    "    return go_outcome, nogo_outcome"
   ]
  },
  {
   "cell_type": "code",
   "execution_count": 146,
   "metadata": {},
   "outputs": [],
   "source": [
    "def get_subset_dprime(run):\n",
    "    \n",
    "    ''' get the d-prime for each subset in a run.\n",
    "        Returns nan if < 10 trials of a subset in a session\n",
    "        '''\n",
    "\n",
    "    good_idxs = filter_trials(run, dp_thresh=2)\n",
    "    outcome = np.array(run.outcome)[good_idxs]\n",
    "    trial_info = np.array(run.trial_info)[good_idxs]\n",
    "    \n",
    "    go_outcome, nogo_outcome = trial_outcomes(outcome)\n",
    "    trial_subsets = []\n",
    "    \n",
    "    for i, info in enumerate(trial_info):\n",
    "        if 'Nogo Trial' in info:\n",
    "            continue\n",
    "        elif 'all_cells_stimulated' in info:\n",
    "            trial_subsets.append(150)\n",
    "        elif 'Subset cells experiment' in info:\n",
    "            trial_subset = int(re.search('(?<=stimulating )(.*)(?= cells)', info).group(0))\n",
    "            trial_subsets.append(trial_subset)\n",
    "\n",
    "    group_dict = {\n",
    "        0: '0',\n",
    "        5: '5-10',\n",
    "        10: '5-10',\n",
    "        20: '20-30',\n",
    "        30: '20-30',\n",
    "        40: '40-50',\n",
    "        50: '40-50',\n",
    "        150: '150'\n",
    "    }\n",
    "    \n",
    "    trial_subsets = [group_dict[sub] for sub in trial_subsets]\n",
    "    trial_subsets = np.array(trial_subsets)\n",
    "    subsets = ['0', '5-10', '20-30', '40-50', '150']\n",
    "        \n",
    "    fp_rate = sum(nogo_outcome) / len(nogo_outcome)\n",
    "    subset_rate = []\n",
    "        \n",
    "    assert len(go_outcome) == len(trial_subsets), '{} {}'.format(len(trial_subsets), len(go_outcome))\n",
    "    for sub in subsets:\n",
    "        subset_idx = np.where(trial_subsets == sub)[0]\n",
    "        if len(subset_idx) < 10:\n",
    "            subset_rate.append(np.nan)\n",
    "        else:\n",
    "            subset_rate.append(sum(go_outcome[subset_idx]) / len(subset_idx))\n",
    "\n",
    "    subsets_dprime = [utils.d_prime(rate, fp_rate) for rate in subset_rate]\n",
    "    subsets_dprime = subset_rate\n",
    "    return subsets, subsets_dprime, fp_rate\n",
    "    "
   ]
  },
  {
   "cell_type": "code",
   "execution_count": 159,
   "metadata": {},
   "outputs": [],
   "source": [
    "def get_psychometric(runs):\n",
    "    \n",
    "    across_sessions = []\n",
    "    fp_rates = []\n",
    "\n",
    "    \n",
    "    for run in runs:\n",
    "        n_hits = len(np.where(run.outcome=='hit')[0])\n",
    "        n_go = len(np.where(np.array(run.trial_type)=='go')[0])\n",
    "        session_hitrate = n_hits / n_go\n",
    "        session_fprate = len(np.where(run.outcome=='fp')[0]) / (len(run.outcome) - n_go)\n",
    "        \n",
    "        session_dprime = utils.d_prime(session_hitrate, session_fprate)\n",
    "        \n",
    "        if session dp\n",
    "        print(session_dprime)\n",
    "        \n",
    "        \n",
    "        global subsets  # hackkkkkkk\n",
    "        subsets, subsets_dprime, fp_rate = get_subset_dprime(run)\n",
    "\n",
    "        across_sessions.append(subsets_dprime)\n",
    "        fp_rates.append(fp_rate)\n",
    "\n",
    "    across_sessions = np.array(across_sessions)   \n",
    "    meaned = np.nanmean(across_sessions, 0)\n",
    "    \n",
    "    # Currently returning mean of fp rate to avoid\n",
    "    # session speicific info in dict\n",
    "    return meaned, np.mean(fp_rates)"
   ]
  },
  {
   "cell_type": "code",
   "execution_count": 160,
   "metadata": {},
   "outputs": [
    {
     "name": "stdout",
     "output_type": "stream",
     "text": [
      "0.47532088135587114\n",
      "0.8770490727654598\n",
      "0.5615959836190809\n",
      "0.9551947549529192\n",
      "0.80047201616639\n",
      "0.47532088135587114\n",
      "0.8770490727654598\n",
      "0.5615959836190809\n",
      "0.9551947549529192\n",
      "0.80047201616639\n",
      "1.247907741000524\n",
      "1.3841923813543293\n",
      "0.8041461641939575\n",
      "0.9510214652008144\n",
      "0.7173315037864484\n",
      "1.247907741000524\n",
      "1.3841923813543293\n",
      "0.8041461641939575\n",
      "0.9510214652008144\n",
      "0.7173315037864484\n",
      "0.9055432748958452\n",
      "0.8644584621450653\n",
      "0.9897986050688992\n",
      "0.8490938023153679\n",
      "0.7219201131018194\n",
      "0.6408836673947628\n",
      "0.8600930287987082\n",
      "0.9055432748958452\n",
      "0.8644584621450653\n",
      "0.9897986050688992\n",
      "0.8490938023153679\n",
      "0.7219201131018194\n",
      "0.6408836673947628\n",
      "0.8600930287987082\n",
      "0.8877384963637647\n",
      "1.213700596502556\n",
      "0.8953442942999816\n",
      "1.407841156382752\n",
      "0.9050668313150148\n",
      "0.7276596208929305\n",
      "0.8877384963637647\n",
      "1.213700596502556\n",
      "0.8953442942999816\n",
      "1.407841156382752\n",
      "0.9050668313150148\n",
      "0.7276596208929305\n",
      "1.056071794133022\n",
      "0.5070935694416584\n",
      "0.7371004911482336\n",
      "0.8191947437775873\n",
      "0.8766244467135869\n",
      "0.5878860028166066\n",
      "1.056071794133022\n",
      "0.5070935694416584\n",
      "0.7371004911482336\n",
      "0.8191947437775873\n",
      "0.8766244467135869\n",
      "0.5878860028166066\n"
     ]
    }
   ],
   "source": [
    "for mouse_dict in mice_dicts:\n",
    "    dprimes, fp_rate = get_psychometric(mouse_dict['runs'])\n",
    "    mouse_dict['dprimes'] = dprimes\n",
    "    mouse_dict['fp_rate'] = fp_rate\n",
    "\n",
    "across_mice = np.array([mouse_dict['dprimes'] for mouse_dict in mice_dicts])"
   ]
  },
  {
   "cell_type": "code",
   "execution_count": 149,
   "metadata": {},
   "outputs": [
    {
     "data": {
      "text/plain": [
       "{'mouse_id': 'J048',\n",
       " 'run_numbers': [27, 28, 29, 30, 32],\n",
       " 'runs': [<opto_stim_import2.BlimpImport at 0x7fd996089f90>,\n",
       "  <opto_stim_import2.BlimpImport at 0x7fd995b6cf10>,\n",
       "  <opto_stim_import2.BlimpImport at 0x7fd9e838e890>,\n",
       "  <opto_stim_import2.BlimpImport at 0x7fd995d38d50>,\n",
       "  <opto_stim_import2.BlimpImport at 0x7fd99696d610>,\n",
       "  <opto_stim_import2.BlimpImport at 0x7fd992681e90>,\n",
       "  <opto_stim_import2.BlimpImport at 0x7fd9926812d0>,\n",
       "  <opto_stim_import2.BlimpImport at 0x7fd9923494d0>,\n",
       "  <opto_stim_import2.BlimpImport at 0x7fd991cfbf50>,\n",
       "  <opto_stim_import2.BlimpImport at 0x7fd991cc8e50>],\n",
       " 'dprimes': array([       nan, 0.21746032, 0.35227273,        nan, 0.9507215 ]),\n",
       " 'fp_rate': 0.23969017094017095}"
      ]
     },
     "execution_count": 149,
     "metadata": {},
     "output_type": "execute_result"
    }
   ],
   "source": [
    "mice_dicts[0]"
   ]
  },
  {
   "cell_type": "code",
   "execution_count": 150,
   "metadata": {},
   "outputs": [
    {
     "data": {
      "text/plain": [
       "array([  0,   5,  10,  20,  30,  40,  50, 150])"
      ]
     },
     "execution_count": 150,
     "metadata": {},
     "output_type": "execute_result"
    }
   ],
   "source": [
    "np.unique(Subsets(run).trial_subsets)"
   ]
  },
  {
   "cell_type": "code",
   "execution_count": 151,
   "metadata": {
    "scrolled": true
   },
   "outputs": [
    {
     "data": {
      "text/plain": [
       "(0, 1)"
      ]
     },
     "execution_count": 151,
     "metadata": {},
     "output_type": "execute_result"
    },
    {
     "data": {
      "image/png": "[encoded data removed]",
      "text/plain": [
       "<Figure size 1440x1296 with 6 Axes>"
      ]
     },
     "metadata": {},
     "output_type": "display_data"
    }
   ],
   "source": [
    "plt.figure(figsize=(20,18))\n",
    "y_min = 0\n",
    "y_max = 1\n",
    "\n",
    "\n",
    "plot_idx = 0\n",
    "for mouse_dict in mice_dicts:\n",
    "    plot_idx += 1\n",
    "    plt.subplot(2, 3, plot_idx)\n",
    "    plt.plot(subsets, mouse_dict['dprimes'], '.', markersize=30)\n",
    "    plt.xlabel('Number of cells targeted')\n",
    "    plt.ylabel('Hit Rate')\n",
    "    plt.title(mouse_dict['mouse_id'])\n",
    "    plt.ylim((y_min, y_max))\n",
    "    \n",
    "plt.subplot(2,3,6)\n",
    "plt.plot(subsets, np.mean(across_mice, 0), '.', markersize=30)\n",
    "plt.xlabel('Number of cells targeted')\n",
    "plt.ylabel('Hit Rate')\n",
    "plt.title('Mean Across all Mice')\n",
    "plt.ylim((y_min, y_max))\n"
   ]
  },
  {
   "cell_type": "code",
   "execution_count": 145,
   "metadata": {},
   "outputs": [
    {
     "ename": "NameError",
     "evalue": "name 'num_nogo' is not defined",
     "output_type": "error",
     "traceback": [
      "\u001b[0;31m---------------------------------------------------------------------------\u001b[0m",
      "\u001b[0;31mNameError\u001b[0m                                 Traceback (most recent call last)",
      "\u001b[0;32m<ipython-input-145-bebebea1fccb>\u001b[0m in \u001b[0;36m<module>\u001b[0;34m\u001b[0m\n\u001b[1;32m      1\u001b[0m \u001b[0mrun\u001b[0m \u001b[0;34m=\u001b[0m \u001b[0mmice_dicts\u001b[0m\u001b[0;34m[\u001b[0m\u001b[0;36m0\u001b[0m\u001b[0;34m]\u001b[0m\u001b[0;34m[\u001b[0m\u001b[0;34m'runs'\u001b[0m\u001b[0;34m]\u001b[0m\u001b[0;34m[\u001b[0m\u001b[0;36m1\u001b[0m\u001b[0;34m]\u001b[0m\u001b[0;34m\u001b[0m\u001b[0;34m\u001b[0m\u001b[0m\n\u001b[1;32m      2\u001b[0m \u001b[0;31m# hit_rate = len(np.where(run.outcome=='hit')[0]) / num_go\u001b[0m\u001b[0;34m\u001b[0m\u001b[0;34m\u001b[0m\u001b[0;34m\u001b[0m\u001b[0m\n\u001b[0;32m----> 3\u001b[0;31m \u001b[0mfp_rate\u001b[0m \u001b[0;34m=\u001b[0m \u001b[0mlen\u001b[0m\u001b[0;34m(\u001b[0m\u001b[0mnp\u001b[0m\u001b[0;34m.\u001b[0m\u001b[0mwhere\u001b[0m\u001b[0;34m(\u001b[0m\u001b[0mrun\u001b[0m\u001b[0;34m.\u001b[0m\u001b[0moutcome\u001b[0m\u001b[0;34m==\u001b[0m\u001b[0;34m'fp'\u001b[0m\u001b[0;34m)\u001b[0m\u001b[0;34m[\u001b[0m\u001b[0;36m0\u001b[0m\u001b[0;34m]\u001b[0m\u001b[0;34m)\u001b[0m \u001b[0;34m/\u001b[0m \u001b[0mnum_nogo\u001b[0m\u001b[0;34m\u001b[0m\u001b[0;34m\u001b[0m\u001b[0m\n\u001b[0m\u001b[1;32m      4\u001b[0m \u001b[0msession_dprime\u001b[0m \u001b[0;34m=\u001b[0m \u001b[0mutils\u001b[0m\u001b[0;34m.\u001b[0m\u001b[0md_prime\u001b[0m\u001b[0;34m(\u001b[0m\u001b[0mhit_rate\u001b[0m\u001b[0;34m,\u001b[0m \u001b[0mfp_rate\u001b[0m\u001b[0;34m)\u001b[0m\u001b[0;34m\u001b[0m\u001b[0;34m\u001b[0m\u001b[0m\n\u001b[1;32m      5\u001b[0m \u001b[0msession_dprime\u001b[0m\u001b[0;34m\u001b[0m\u001b[0;34m\u001b[0m\u001b[0m\n",
      "\u001b[0;31mNameError\u001b[0m: name 'num_nogo' is not defined"
     ]
    }
   ],
   "source": [
    "run = mice_dicts[0]['runs'][1]\n",
    "# hit_rate = len(np.where(run.outcome=='hit')[0]) / num_go \n",
    "fp_rate = len(np.where(run.outcome=='fp')[0]) / num_nogo\n",
    "session_dprime = utils.d_prime(hit_rate, fp_rate)\n",
    "session_dprime"
   ]
  },
  {
   "cell_type": "code",
   "execution_count": 27,
   "metadata": {},
   "outputs": [
    {
     "data": {
      "text/plain": [
       "211"
      ]
     },
     "execution_count": 27,
     "metadata": {},
     "output_type": "execute_result"
    }
   ],
   "source": [
    "len(run.trial_info)"
   ]
  },
  {
   "cell_type": "code",
   "execution_count": null,
   "metadata": {},
   "outputs": [],
   "source": []
  },
  {
   "cell_type": "code",
   "execution_count": 28,
   "metadata": {},
   "outputs": [
    {
     "data": {
      "text/plain": [
       "211"
      ]
     },
     "execution_count": 28,
     "metadata": {},
     "output_type": "execute_result"
    }
   ],
   "source": [
    "len(run.outcome)"
   ]
  },
  {
   "cell_type": "code",
   "execution_count": 152,
   "metadata": {},
   "outputs": [
    {
     "name": "stdout",
     "output_type": "stream",
     "text": [
      "dict_keys(['mouse_id', 'df', 'rows_2p', 'rows_1p', 'dates_2p', 'paqs', 'naparm_folders', 'blimp_folders', 'pycontrol_folders', 'prereward_folders', 'tseries_folders', 'plane_numbers', 'run_pycontrol_txt', 'num_planes', 'blimp_path', 'naparm_path', 'pycontrol_path', 'paq_path', 'prereward_path', 'tseries_paths', 'align_barcode', 'trial_info', 'session', 'print_lines', 'trial_time', 'outcome', 'slm_barcode', 'slm_trial_number', 'nogo_barcode', 'nogo_trial_number', 'alltrials_barcodes', 'rsync', 'trial_start', 'paq_rsync', 'frame_clock', 'x_galvo_uncaging', 'slm2packio', 'paq_rate', 'aligner', 'paq_correct', 'pre_rsync', 'pre_licks', 'pre_reward', 'prereward_aligner', 'both_aligner', 'num_frames', 's2p_path', 'flu_raw', 'frames_ms', 'frames_ms_pre', 'flu', 'spks', 'stat'])\n"
     ]
    }
   ],
   "source": [
    "print(run.__dict__.keys())"
   ]
  },
  {
   "cell_type": "code",
   "execution_count": null,
   "metadata": {},
   "outputs": [],
   "source": []
  },
  {
   "cell_type": "code",
   "execution_count": null,
   "metadata": {},
   "outputs": [],
   "source": []
  },
  {
   "cell_type": "code",
   "execution_count": null,
   "metadata": {},
   "outputs": [],
   "source": []
  },
  {
   "cell_type": "code",
   "execution_count": null,
   "metadata": {},
   "outputs": [],
   "source": [
    "#licks are binned and normalised to trial start time (5ms before LED pulse)\n",
    "binned_licks = np.array(run.binned_licks)\n",
    "\n",
    "trial_type = np.array(run.trial_type)\n",
    "\n",
    "sorted_licks = binned_licks[trial_idxs]\n",
    "trial_subsets = Subsets(run).trial_subsets\n",
    "trial_idxs = trial_subsets.argsort()\n",
    "sorted_subsets = trial_subsets[trial_idxs]\n",
    "\n",
    "num_trials = len(run.outcome)\n",
    "num_go = len(np.where(trial_type=='go')[0])\n",
    "num_nogo = len(np.where(trial_type=='nogo')[0])"
   ]
  },
  {
   "cell_type": "code",
   "execution_count": null,
   "metadata": {},
   "outputs": [],
   "source": []
  },
  {
   "cell_type": "code",
   "execution_count": null,
   "metadata": {},
   "outputs": [],
   "source": []
  },
  {
   "cell_type": "code",
   "execution_count": null,
   "metadata": {},
   "outputs": [],
   "source": [
    "colors = dict(mcolors.BASE_COLORS, **mcolors.CSS4_COLORS)\n",
    "\n",
    "# Sort colors by hue, saturation, value and name.\n",
    "by_hsv = sorted((tuple(mcolors.rgb_to_hsv(mcolors.to_rgba(color)[:3])), name)\n",
    "                for name, color in colors.items())\n",
    "sorted_names = [name for hsv, name in by_hsv]\n",
    "#sorted_names\n",
    "\n",
    "start_color = 0\n",
    "\n",
    "color_map = {}\n",
    "\n",
    "for i, sub in enumerate(np.unique(trial_subsets)):\n",
    "    color_map[sub] = sorted_names[start_color+i*20]\n",
    "\n",
    "subset_colors = [color_map[i] for i in trial_subsets[trial_idxs]]\n",
    "\n",
    "\n",
    "\n",
    "\n"
   ]
  },
  {
   "cell_type": "code",
   "execution_count": null,
   "metadata": {},
   "outputs": [],
   "source": [
    "plt.figure(figsize=[10,16])\n",
    "\n",
    "for i, b in enumerate(sorted_licks):\n",
    "    \n",
    "    color=subset_colors[i]\n",
    "    y_axis = np.ones(len(b)) + i\n",
    "    \n",
    "    if sorted_subsets[i] != sorted_subsets[i-1]:\n",
    "        label = sorted_subsets[i]\n",
    "    else:\n",
    "        label = None\n",
    "    plt.plot(b/1000, y_axis,'.', c=color, label=label)\n",
    "    \n",
    "plt.fill_between([0,1], 0, num_trials+5, color='lightblue', alpha=0.5)\n",
    "plt.xlim((0,4))\n",
    "sns.despine()\n",
    "plt.xlabel('Time (s)')\n",
    "plt.ylabel('Trials')\n",
    "plt.ylim((0,num_trials+5))\n",
    "plt.legend()\n",
    "ax = plt.gca()\n",
    "handles, labels = ax.get_legend_handles_labels()\n",
    "ax.legend(handles[::-1], labels[::-1], loc='right', fontsize=40)\n",
    "#plt.savefig(os.path.join(figure_path, 'lick_raster.png'))\n",
    "#plt.savefig(os.path.join(figure_path, 'lick_raster.svg'))"
   ]
  },
  {
   "cell_type": "code",
   "execution_count": null,
   "metadata": {},
   "outputs": [],
   "source": [
    "filtered = filter_trials(run, window_size=6, plot=True)"
   ]
  },
  {
   "cell_type": "code",
   "execution_count": null,
   "metadata": {},
   "outputs": [],
   "source": [
    "len(filtered)"
   ]
  },
  {
   "cell_type": "code",
   "execution_count": null,
   "metadata": {},
   "outputs": [],
   "source": [
    "subsets = Subsets(rn)\n",
    "np.where((subsets.trial_subsets!=150) & (subsets.trial_subsets!=0))[0]"
   ]
  },
  {
   "cell_type": "code",
   "execution_count": null,
   "metadata": {},
   "outputs": [],
   "source": [
    "run.trial_typeaaaaaaaa"
   ]
  },
  {
   "cell_type": "code",
   "execution_count": null,
   "metadata": {},
   "outputs": [],
   "source": [
    "run.trial_type\n",
    "\n"
   ]
  },
  {
   "cell_type": "code",
   "execution_count": null,
   "metadata": {},
   "outputs": [],
   "source": []
  },
  {
   "cell_type": "code",
   "execution_count": null,
   "metadata": {},
   "outputs": [],
   "source": []
  },
  {
   "cell_type": "code",
   "execution_count": null,
   "metadata": {},
   "outputs": [],
   "source": []
  },
  {
   "cell_type": "code",
   "execution_count": null,
   "metadata": {},
   "outputs": [],
   "source": []
  },
  {
   "cell_type": "markdown",
   "metadata": {},
   "source": [
    "## Not sure what the purpose of this code is"
   ]
  },
  {
   "cell_type": "code",
   "execution_count": null,
   "metadata": {},
   "outputs": [],
   "source": [
    "def subsets_hit_fp(run):\n",
    "    \n",
    "    ''' Hacky function code copied from above to get out\n",
    "        dprimes calculated across all sessions\n",
    "        '''\n",
    "    \n",
    "    go_outcome, nogo_outcome = trial_outcomes(run.outcome)\n",
    "    \n",
    "    trial_subsets = []\n",
    "\n",
    "    for i, info in enumerate(run.trial_info):\n",
    "        if 'Nogo Trial' in info:\n",
    "            continue\n",
    "        elif 'all_cells_stimulated' in info:\n",
    "            trial_subsets.append(150)\n",
    "        elif 'Subset cells experiment' in info:\n",
    "            trial_subset = int(re.search('(?<=stimulating )(.*)(?= cells)', info).group(0))\n",
    "            trial_subsets.append(trial_subset)\n",
    "\n",
    "    trial_subsets = np.array(trial_subsets)\n",
    "    global subsets # lol\n",
    "    subsets = np.sort(np.unique(trial_subsets))\n",
    "    assert len(trial_subsets) == len(go_outcome), 'dsdsd {} {}'.format(len(trial_subsets), len(go_outcome))\n",
    "    \n",
    "    subby = [] # list of lists\n",
    "    \n",
    "    for sub in subsets:\n",
    "        subset_idx = np.where(trial_subsets == sub)[0]\n",
    "        subby.append(go_outcome[subset_idx])\n",
    "        \n",
    "        \n",
    "    fp_rate = sum(nogo_outcome) / len(nogo_outcome)\n",
    "    \n",
    "    return subby, fp_rate\n",
    "        "
   ]
  },
  {
   "cell_type": "code",
   "execution_count": null,
   "metadata": {},
   "outputs": [],
   "source": [
    "fp_rates = []\n",
    "\n",
    "\n",
    "for i, run_number in enumerate(run_numbers):\n",
    "    pkl_path = os.path.join(path_to_vape, 'run_pkls', mouse_id, 'run{}.pkl'.format(run_number))\n",
    "    print(i)\n",
    "    with open(pkl_path, 'rb') as f:\n",
    "        run = pickle.load(f)\n",
    "        \n",
    "    subby, fp_rate = subsets_hit_fp(run)\n",
    "    fp_rates.append(fp_rate)\n",
    "    \n",
    "    if i == 0:    \n",
    "        all_subbys = subby\n",
    "    \n",
    "    else:\n",
    "        for i, lst in enumerate(all_subbys):   \n",
    "            all_subbys[i] = np.append(lst, subby[i])"
   ]
  },
  {
   "cell_type": "code",
   "execution_count": null,
   "metadata": {},
   "outputs": [],
   "source": [
    "# change this need to sum and divide by len across all sessions\n",
    "fp_rate = np.mean(fp_rates)\n",
    "fp_rate"
   ]
  },
  {
   "cell_type": "code",
   "execution_count": null,
   "metadata": {},
   "outputs": [],
   "source": [
    "hit_rates = []\n",
    "\n",
    "dprimes = []\n",
    "\n",
    "for i,sub in enumerate(all_subbys):\n",
    "    hit_rate = sum(sub) / len(sub)\n",
    "    print(len(sub))\n",
    "    dprimes.append(utils.d_prime(hit_rate, fp_rate))"
   ]
  },
  {
   "cell_type": "code",
   "execution_count": null,
   "metadata": {},
   "outputs": [],
   "source": [
    "plt.plot(subsets, dprimes, '.')\n",
    "plt.xlabel('Number of Cells Targeted')\n",
    "plt.ylabel('d-prime')\n",
    "plt.title('{} number of sessions = {}'.format(mouse_id, len(fp_rates)))\n",
    "plt.ylim((-0.1,1.5))"
   ]
  }
 ],
 "metadata": {
  "kernelspec": {
   "display_name": "Python 3",
   "language": "python",
   "name": "python3"
  },
  "language_info": {
   "codemirror_mode": {
    "name": "ipython",
    "version": 3
   },
   "file_extension": ".py",
   "mimetype": "text/x-python",
   "name": "python",
   "nbconvert_exporter": "python",
   "pygments_lexer": "ipython3",
   "version": "3.7.4"
  }
 },
 "nbformat": 4,
 "nbformat_minor": 2
}
