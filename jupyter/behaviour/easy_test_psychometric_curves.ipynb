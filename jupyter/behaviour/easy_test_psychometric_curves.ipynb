{
 "cells": [
  {
   "cell_type": "code",
   "execution_count": 1,
   "metadata": {},
   "outputs": [
    {
     "name": "stderr",
     "output_type": "stream",
     "text": [
      "ERROR:root:Invalid alias: The name clear can't be aliased because it is another magic command.\n",
      "ERROR:root:Invalid alias: The name more can't be aliased because it is another magic command.\n",
      "ERROR:root:Invalid alias: The name less can't be aliased because it is another magic command.\n",
      "ERROR:root:Invalid alias: The name man can't be aliased because it is another magic command.\n"
     ]
    }
   ],
   "source": [
    "#ipython magic\n",
    "%reset -f\n",
    "# change inline to notebook to get interactive (but slow) plots\n",
    "%matplotlib inline \n",
    "%load_ext autoreload\n",
    "%autoreload 2"
   ]
  },
  {
   "cell_type": "code",
   "execution_count": 2,
   "metadata": {},
   "outputs": [],
   "source": [
    "# general imports\n",
    "import sys\n",
    "import os\n",
    "import numpy as np\n",
    "import matplotlib.pyplot as plt\n",
    "import seaborn as sns"
   ]
  },
  {
   "cell_type": "code",
   "execution_count": 3,
   "metadata": {},
   "outputs": [],
   "source": [
    "## put your path to your vape repo here \n",
    "path_to_vape = '/home/jamesrowland/Documents/Code/Vape/'\n",
    "sys.path.append(path_to_vape)\n",
    "sys.path.append(os.path.join(path_to_vape, 'utils'))"
   ]
  },
  {
   "cell_type": "code",
   "execution_count": 4,
   "metadata": {},
   "outputs": [],
   "source": [
    "# notebook specific imports\n",
    "import pickle\n",
    "import utils_funcs as utils\n",
    "import re"
   ]
  },
  {
   "cell_type": "code",
   "execution_count": 5,
   "metadata": {},
   "outputs": [],
   "source": [
    "# global plotting params\n",
    "sns.set()\n",
    "sns.set_style('white')\n",
    "params = {'legend.fontsize': 'x-large',\n",
    "         'axes.labelsize': 'x-large',\n",
    "         'axes.titlesize':'x-large',\n",
    "         'xtick.labelsize':'x-large',\n",
    "         'ytick.labelsize':'x-large',\n",
    "         'lines.markersize': 15}\n",
    "\n",
    "plt.rc(\"axes.spines\", top=False, right=False) # despine\n",
    "\n",
    "plt.rcParams.update(params)\n"
   ]
  },
  {
   "cell_type": "code",
   "execution_count": 6,
   "metadata": {},
   "outputs": [],
   "source": [
    "def trial_outcomes(outcome):\n",
    "\n",
    "    go_outcome = []\n",
    "    nogo_outcome = []\n",
    "\n",
    "    for t in outcome:\n",
    "        if t == 'hit':\n",
    "            go_outcome.append(True)\n",
    "        elif t == 'miss':\n",
    "            go_outcome.append(False)\n",
    "        elif t =='cr':\n",
    "            nogo_outcome.append(False)\n",
    "        elif t == 'fp':\n",
    "            nogo_outcome.append(True)\n",
    "\n",
    "    go_outcome = np.array(go_outcome)\n",
    "    nogo_outcome = np.array(nogo_outcome)\n",
    "    \n",
    "    return go_outcome, nogo_outcome"
   ]
  },
  {
   "cell_type": "code",
   "execution_count": 7,
   "metadata": {},
   "outputs": [],
   "source": [
    "def get_subset_dprime(run):\n",
    "\n",
    "    go_outcome, nogo_outcome = trial_outcomes(run.outcome)\n",
    "    trial_subsets = []\n",
    "\n",
    "    for i, info in enumerate(run.trial_info):\n",
    "        if 'Nogo Trial' in info:\n",
    "            continue\n",
    "        elif 'all_cells_stimulated' in info:\n",
    "            trial_subsets.append(150)\n",
    "        elif 'Subset cells experiment' in info:\n",
    "            trial_subset = int(re.search('(?<=stimulating )(.*)(?= cells)', info).group(0))\n",
    "            trial_subsets.append(trial_subset)\n",
    "\n",
    "    trial_subsets = np.array(trial_subsets)\n",
    "    subsets = np.sort(np.unique(trial_subsets))\n",
    "        \n",
    "    fp_rate = sum(nogo_outcome) / len(nogo_outcome)\n",
    "    \n",
    "    subset_outcome = []\n",
    "\n",
    "    for sub in subsets:\n",
    "        subset_idx = np.where(trial_subsets == sub)[0]\n",
    "        if len(subset_idx) < 10:\n",
    "            subset_outcome.append(np.nan)\n",
    "        else:\n",
    "            subset_outcome.append(sum(go_outcome[subset_idx]) / len(subset_idx))\n",
    "\n",
    "    subsets_dprime = [utils.d_prime(outcome, fp_rate) for outcome in subset_outcome]\n",
    "    \n",
    "    return subsets, subsets_dprime\n",
    "    "
   ]
  },
  {
   "cell_type": "code",
   "execution_count": 8,
   "metadata": {},
   "outputs": [],
   "source": [
    "def subsets_hit_fp(run):\n",
    "    \n",
    "    '''hacky function code copied from above to get out\n",
    "       dprimes calculated across all sessions'''\n",
    "    \n",
    "    go_outcome, nogo_outcome = trial_outcomes(run.outcome)\n",
    "    \n",
    "    trial_subsets = []\n",
    "\n",
    "    for i, info in enumerate(run.trial_info):\n",
    "        if 'Nogo Trial' in info:\n",
    "            continue\n",
    "        elif 'all_cells_stimulated' in info:\n",
    "            trial_subsets.append(150)\n",
    "        elif 'Subset cells experiment' in info:\n",
    "            trial_subset = int(re.search('(?<=stimulating )(.*)(?= cells)', info).group(0))\n",
    "            trial_subsets.append(trial_subset)\n",
    "\n",
    "    trial_subsets = np.array(trial_subsets)\n",
    "    global subsets # lol\n",
    "    subsets = np.sort(np.unique(trial_subsets))\n",
    "    assert len(trial_subsets) == len(go_outcome)\n",
    "    \n",
    "    subby = [] # list of lists\n",
    "    \n",
    "    for sub in subsets:\n",
    "        subset_idx = np.where(trial_subsets == sub)[0]\n",
    "        subby.append(go_outcome[subset_idx])\n",
    "        \n",
    "        \n",
    "    fp_rate = sum(nogo_outcome) / len(nogo_outcome)\n",
    "    \n",
    "    return subby, fp_rate\n",
    "        "
   ]
  },
  {
   "cell_type": "code",
   "execution_count": 9,
   "metadata": {},
   "outputs": [],
   "source": [
    "mouse_id = 'J048'\n",
    "run_numbers = [27,28,29,30,32]\n",
    "\n",
    "# mouse_id = 'RL048'\n",
    "# run_numbers = [23, 24, 25, 28, 29]"
   ]
  },
  {
   "cell_type": "code",
   "execution_count": 10,
   "metadata": {},
   "outputs": [],
   "source": [
    "fp_rates = []\n",
    "\n",
    "\n",
    "for i, run_number in enumerate(run_numbers):\n",
    "    pkl_path = os.path.join(path_to_vape, 'run_pkls', mouse_id, 'run{}.pkl'.format(run_number))\n",
    "    \n",
    "    with open(pkl_path, 'rb') as f:\n",
    "        run = pickle.load(f)\n",
    "        \n",
    "    subby, fp_rate = subsets_hit_fp(run)\n",
    "    fp_rates.append(fp_rate)\n",
    "    \n",
    "    if i == 0:    \n",
    "        all_subbys = subby\n",
    "    \n",
    "    else:\n",
    "        for i, lst in enumerate(all_subbys):   \n",
    "            all_subbys[i] = np.append(lst, subby[i])"
   ]
  },
  {
   "cell_type": "code",
   "execution_count": 11,
   "metadata": {},
   "outputs": [
    {
     "data": {
      "text/plain": [
       "0.3699193336695924"
      ]
     },
     "execution_count": 11,
     "metadata": {},
     "output_type": "execute_result"
    }
   ],
   "source": [
    "# change this need to sum and divide by len across all sessions\n",
    "fp_rate = np.mean(fp_rates)\n",
    "fp_rate"
   ]
  },
  {
   "cell_type": "code",
   "execution_count": 12,
   "metadata": {},
   "outputs": [
    {
     "name": "stdout",
     "output_type": "stream",
     "text": [
      "91\n",
      "70\n",
      "65\n",
      "66\n",
      "59\n",
      "62\n",
      "370\n"
     ]
    }
   ],
   "source": [
    "hit_rates = []\n",
    "\n",
    "dprimes = []\n",
    "\n",
    "for i,sub in enumerate(all_subbys):\n",
    "    hit_rate = sum(sub) / len(sub)\n",
    "    print(len(sub))\n",
    "    dprimes.append(utils.d_prime(hit_rate, fp_rate))"
   ]
  },
  {
   "cell_type": "code",
   "execution_count": 13,
   "metadata": {},
   "outputs": [
    {
     "data": {
      "text/plain": [
       "(-0.1, 1.5)"
      ]
     },
     "execution_count": 13,
     "metadata": {},
     "output_type": "execute_result"
    },
    {
     "data": {
      "image/png": "[encoded data removed]",
      "text/plain": [
       "<Figure size 432x288 with 1 Axes>"
      ]
     },
     "metadata": {},
     "output_type": "display_data"
    }
   ],
   "source": [
    "plt.plot(subsets, dprimes, '.')\n",
    "plt.xlabel('Number of Cells Targeted')\n",
    "plt.ylabel('d-prime')\n",
    "plt.title('{} number of sessions = {}'.format(mouse_id, len(fp_rates)))\n",
    "plt.ylim((-0.1,1.5))"
   ]
  },
  {
   "cell_type": "code",
   "execution_count": 17,
   "metadata": {},
   "outputs": [
    {
     "ename": "ZeroDivisionError",
     "evalue": "division by zero",
     "output_type": "error",
     "traceback": [
      "\u001b[0;31m---------------------------------------------------------------------------\u001b[0m",
      "\u001b[0;31mZeroDivisionError\u001b[0m                         Traceback (most recent call last)",
      "\u001b[0;32m<ipython-input-17-9e1622b385b6>\u001b[0m in \u001b[0;36m<module>\u001b[0;34m\u001b[0m\n\u001b[0;32m----> 1\u001b[0;31m \u001b[0;36m1\u001b[0m\u001b[0;34m/\u001b[0m\u001b[0;36m0\u001b[0m\u001b[0;34m\u001b[0m\u001b[0;34m\u001b[0m\u001b[0m\n\u001b[0m",
      "\u001b[0;31mZeroDivisionError\u001b[0m: division by zero"
     ]
    }
   ],
   "source": [
    "1/0"
   ]
  },
  {
   "cell_type": "code",
   "execution_count": 21,
   "metadata": {},
   "outputs": [],
   "source": [
    "mouse_id = 'J048'\n",
    "run_numbers = [27,28,29,30,32]\n",
    "#run_numbers = [30]\n",
    "# mouse_id = 'RL048'\n",
    "# run_numbers = [23,24,25]\n",
    "\n",
    "across_sessions = []\n",
    "\n",
    "for run_number in run_numbers:\n",
    "\n",
    "    pkl_path = os.path.join(path_to_vape, 'run_pkls', mouse_id, 'run{}.pkl'.format(run_number))\n",
    "\n",
    "    with open(pkl_path, 'rb') as f:\n",
    "        run = pickle.load(f)\n",
    "        \n",
    "    subsets, subsets_dprime = get_subset_dprime(run)\n",
    "    \n",
    "    across_sessions.append(subsets_dprime)\n",
    "    \n",
    "across_sessions = np.array(across_sessions)    "
   ]
  },
  {
   "cell_type": "code",
   "execution_count": 19,
   "metadata": {},
   "outputs": [
    {
     "data": {
      "text/plain": [
       "array([0.45530417,        nan, 0.1340972 , 0.34875564])"
      ]
     },
     "execution_count": 19,
     "metadata": {},
     "output_type": "execute_result"
    }
   ],
   "source": [
    "meaned = np.nanmean(across_sessions, 0)\n",
    "across_sessions.shape\n",
    "across_sessions[:,3]"
   ]
  },
  {
   "cell_type": "code",
   "execution_count": 20,
   "metadata": {},
   "outputs": [
    {
     "data": {
      "image/png": "[encoded data removed]",
      "text/plain": [
       "<Figure size 432x288 with 1 Axes>"
      ]
     },
     "metadata": {},
     "output_type": "display_data"
    }
   ],
   "source": [
    "plt.plot(subsets, meaned, '.')\n",
    "plt.xlabel('Number of cells targeted')\n",
    "plt.ylabel('d-prime')\n",
    "plt.title(mouse_id)\n",
    "plt.ylim((0,1.5))\n",
    "plt.savefig(os.path.join(path_to_vape, 'figures', '{}_easytest-dprime.png'.format(mouse_id)),  bbox_inches=\"tight\")"
   ]
  },
  {
   "cell_type": "code",
   "execution_count": null,
   "metadata": {},
   "outputs": [],
   "source": []
  }
 ],
 "metadata": {
  "kernelspec": {
   "display_name": "Python 3",
   "language": "python",
   "name": "python3"
  },
  "language_info": {
   "codemirror_mode": {
    "name": "ipython",
    "version": 3
   },
   "file_extension": ".py",
   "mimetype": "text/x-python",
   "name": "python",
   "nbconvert_exporter": "python",
   "pygments_lexer": "ipython3",
   "version": "3.7.3"
  }
 },
 "nbformat": 4,
 "nbformat_minor": 2
}
