{
 "cells": [
  {
   "cell_type": "code",
   "execution_count": 44,
   "metadata": {},
   "outputs": [
    {
     "name": "stdout",
     "output_type": "stream",
     "text": [
      "The autoreload extension is already loaded. To reload it, use:\n",
      "  %reload_ext autoreload\n"
     ]
    }
   ],
   "source": [
    "%run ../setup_notebook.ipynb"
   ]
  },
  {
   "cell_type": "code",
   "execution_count": 45,
   "metadata": {},
   "outputs": [],
   "source": [
    "# notebook specific imports\n",
    "from utils import cacher\n",
    "import pickle\n",
    "from termcolor import cprint\n",
    "from subsets_analysis import Subsets\n",
    "import time"
   ]
  },
  {
   "cell_type": "code",
   "execution_count": 46,
   "metadata": {},
   "outputs": [],
   "source": [
    "pkl_path = '/home/jrowland/mnt/qnap/run_pkls'"
   ]
  },
  {
   "cell_type": "code",
   "execution_count": null,
   "metadata": {
    "scrolled": true
   },
   "outputs": [
    {
     "name": "stdout",
     "output_type": "stream",
     "text": [
      "\u001b[1m\n",
      "\n",
      "Run Number 30\n",
      "\u001b[0m\n",
      "/home/jrowland/mnt/qnap/Data/2021-03-02\n",
      "['/home/jrowland/mnt/qnap/Data/2021-03-02/blimp/2021-03-02-155737']\n",
      "['/home/jrowland/mnt/qnap/Data/2021-03-02/naparm/2021-03-02_RL116_002']\n",
      "['/home/jrowland/mnt/qnap/Data/2021-03-02/RL116-2021-03-02-160818.txt', '/home/jrowland/mnt/qnap/Data/2021-03-02/2021-03-02_RL116_t-005.paq', '/home/jrowland/mnt/qnap/Data/2021-03-02/RL116-2021-03-02-154602.txt']\n",
      "['/home/jrowland/mnt/qnap/Data/2021-03-02/2021-03-02_RL116_t-002']\n",
      "['/home/jrowland/mnt/qnap/Data/2021-03-02/2021-03-02_RL116_t-003']\n",
      "['/home/jrowland/mnt/qnap/Data/2021-03-02/2021-03-02_RL116_t-004']\n",
      "['/home/jrowland/mnt/qnap/Data/2021-03-02/2021-03-02_RL116_t-005']\n",
      "['/home/jrowland/mnt/qnap/Data/2021-03-02/2021-03-02_RL116_t-006']\n",
      "['/home/jrowland/mnt/qnap/Data/2021-03-02/2021-03-02_RL116_t-007']\n",
      "['/home/jrowland/mnt/qnap/Data/2021-03-02/2021-03-02_RL116_t-008']\n",
      "Importing data file: RL116-2021-03-02-160818.txt\n",
      "pycontrol RL116-2021-03-02-160818 successfully matched to blimp folder 2021-03-02-155737\n",
      "pycontrol RL116-2021-03-02-154602.txt rsync successfully matched to paq 2021-03-02_RL116_t-005.paq\n",
      "Importing data file: RL116-2021-03-02-154602.txt\n",
      "prereward RL116-2021-03-02-154602.txt rsync successfully matched to paq 2021-03-02_RL116_t-005.paq\n",
      "\n",
      "following tseries found:\n",
      "['/home/jrowland/mnt/qnap/Data/2021-03-02/2021-03-02_RL116_t-002', '/home/jrowland/mnt/qnap/Data/2021-03-02/2021-03-02_RL116_t-003', '/home/jrowland/mnt/qnap/Data/2021-03-02/2021-03-02_RL116_t-004', '/home/jrowland/mnt/qnap/Data/2021-03-02/2021-03-02_RL116_t-005', '/home/jrowland/mnt/qnap/Data/2021-03-02/2021-03-02_RL116_t-006', '/home/jrowland/mnt/qnap/Data/2021-03-02/2021-03-02_RL116_t-007', '/home/jrowland/mnt/qnap/Data/2021-03-02/2021-03-02_RL116_t-008']\n",
      "\n",
      "\n",
      "[[1024, 514], [1024, 514], [1024, 514], [1024, 514], [1024, 514], [1024, 514], [1024, 514]]\n",
      "obfov detected\n",
      "Data path is /home/jrowland/mnt/qnap/Data/2021-03-02\n",
      "s2p path is /home/jrowland/mnt/qnap/Data/2021-03-02/suite2p/RL116\n",
      "Bad frames calculated and saved to /home/jrowland/mnt/qnap/Data/2021-03-02\n",
      "Bad frames calculated and saved to /home/jrowland/mnt/qnap/Data/2021-03-02/suite2p/RL116\n",
      "Bad frames calculated and saved to /home/jrowland/mnt/qnap/Data/2021-03-02/suite2p/RL116\n",
      "Running s2p on tseries printed above\n",
      "\n",
      "{'data_path': ['/home/jrowland/mnt/qnap/Data/2021-03-02'], 'look_one_level_down': True, 'diameter': 11, 'tiff_list': ['/home/jrowland/mnt/qnap/Data/2021-03-02/2021-03-02_RL116_t-002/2021-03-02_RL116_t-002_Cycle00001_Ch3.tif', '/home/jrowland/mnt/qnap/Data/2021-03-02/2021-03-02_RL116_t-003/2021-03-02_RL116_t-003_Cycle00001_Ch3.tif', '/home/jrowland/mnt/qnap/Data/2021-03-02/2021-03-02_RL116_t-004/2021-03-02_RL116_t-004_Cycle00001_Ch3.tif', '/home/jrowland/mnt/qnap/Data/2021-03-02/2021-03-02_RL116_t-005/2021-03-02_RL116_t-005_Cycle00001_Ch3.tif', '/home/jrowland/mnt/qnap/Data/2021-03-02/2021-03-02_RL116_t-006/2021-03-02_RL116_t-006_Cycle00001_Ch3.tif', '/home/jrowland/mnt/qnap/Data/2021-03-02/2021-03-02_RL116_t-007/2021-03-02_RL116_t-007_Cycle00001_Ch3.tif', '/home/jrowland/mnt/qnap/Data/2021-03-02/2021-03-02_RL116_t-008/2021-03-02_RL116_t-008_Cycle00001_Ch3.tif'], 'nplanes': 1, 'fs': 30, 'save_folder': '/home/jrowland/mnt/qnap/Data/2021-03-02/suite2p/RL116', 'roidetect': True, 'spikedetect': False}\n",
      "tif\n",
      "** Found 7 tifs - converting to binary **\n",
      "10000 frames of binary, time 332.60 sec.\n",
      "time 3927.53 sec. Wrote 143282 frames per binary for 1 planes\n",
      ">>>>>>>>>>>>>>>>>>>>> PLANE 0 <<<<<<<<<<<<<<<<<<<<<<\n",
      "NOTE: not registered / registration forced with ops['do_registration']>1\n",
      "      (no previous offsets to delete)\n",
      "----------- REGISTRATION\n",
      "registering 143282 frames\n",
      "Reference frame, 55.68 sec.\n",
      "Registered 10000/143282 in 2130.07s\n",
      "Registered 20000/143282 in 3395.70s\n",
      "Registered 30000/143282 in 4889.16s\n",
      "Registered 40000/143282 in 6276.14s\n",
      "Registered 50000/143282 in 7575.26s\n",
      "Registered 60000/143282 in 8813.89s\n",
      "Registered 70000/143282 in 9805.78s\n",
      "Registered 80000/143282 in 10711.03s\n",
      "Registered 90000/143282 in 11563.92s\n",
      "Registered 100000/143282 in 12430.39s\n",
      "Registered 110000/143282 in 13317.73s\n",
      "Registered 120000/143282 in 14209.73s\n",
      "Registered 130000/143282 in 15099.83s\n",
      "Registered 140000/143282 in 16179.81s\n",
      "bad frames file path: /home/jrowland/mnt/qnap/Data/2021-03-02/bad_frames.npy\n",
      "number of badframes: 23700\n",
      "added enhanced mean image\n",
      "----------- Total 16684.59 sec\n",
      "Registration metrics, 43.94 sec.\n",
      "NOTE: Applying builtin classifier at /home/clean_python/anaconda3/envs/suite2p/lib/python3.7/site-packages/suite2p/classifiers/classifier.npy\n",
      "----------- ROI DETECTION\n",
      "Binning movie in chunks of length 38\n"
     ]
    }
   ],
   "source": [
    "mouse_id = 'RL116'\n",
    "\n",
    "# Good imaging but not pupil\n",
    "# run_numbers = [32]\n",
    "\n",
    "# I had to remove the last trials from blimp alignment and pycontrol txt because session\n",
    "# was ended half way through a trial. Made baks of the original files\n",
    "# run_numbers = [34]\n",
    "\n",
    "run_numbers = [30,31]\n",
    "\n",
    "for run_number in run_numbers:\n",
    "    \n",
    "    cprint('\\n\\nRun Number {}\\n'.format(run_number), attrs=['bold'])\n",
    "    \n",
    "    cacher.main(mouse_id, run_number, pkl_path,   \n",
    "                reprocess=True, reload=True, do_s2p=True, do_flu_preprocess=True)"
   ]
  },
  {
   "cell_type": "code",
   "execution_count": 20,
   "metadata": {},
   "outputs": [],
   "source": [
    "def load_run(mouse, run_number, pkl_path):\n",
    "    run_path = os.path.join(pkl_path, mouse, f'run{run_number}.pkl')\n",
    "    with open(run_path, 'rb') as f:\n",
    "        run = pickle.load(f)\n",
    "    return run"
   ]
  },
  {
   "cell_type": "code",
   "execution_count": 27,
   "metadata": {},
   "outputs": [
    {
     "ename": "FileNotFoundError",
     "evalue": "[Errno 2] No such file or directory: '/home/jrowland/mnt/qnap/run_pkls/RL116/run34.pkl'",
     "output_type": "error",
     "traceback": [
      "\u001b[0;31m---------------------------------------------------------------------------\u001b[0m",
      "\u001b[0;31mFileNotFoundError\u001b[0m                         Traceback (most recent call last)",
      "\u001b[0;32m<ipython-input-27-8af3bb268278>\u001b[0m in \u001b[0;36m<module>\u001b[0;34m\u001b[0m\n\u001b[1;32m      3\u001b[0m \u001b[0;34m\u001b[0m\u001b[0m\n\u001b[1;32m      4\u001b[0m \u001b[0mpkl_path\u001b[0m \u001b[0;34m=\u001b[0m \u001b[0;34m'/home/jrowland/mnt/qnap/run_pkls'\u001b[0m\u001b[0;34m\u001b[0m\u001b[0;34m\u001b[0m\u001b[0m\n\u001b[0;32m----> 5\u001b[0;31m \u001b[0mrun\u001b[0m \u001b[0;34m=\u001b[0m \u001b[0mload_run\u001b[0m\u001b[0;34m(\u001b[0m\u001b[0mmouse\u001b[0m\u001b[0;34m,\u001b[0m \u001b[0mrun_number\u001b[0m\u001b[0;34m,\u001b[0m \u001b[0mpkl_path\u001b[0m\u001b[0;34m)\u001b[0m\u001b[0;34m\u001b[0m\u001b[0;34m\u001b[0m\u001b[0m\n\u001b[0m",
      "\u001b[0;32m<ipython-input-20-c521faa84566>\u001b[0m in \u001b[0;36mload_run\u001b[0;34m(mouse, run_number, pkl_path)\u001b[0m\n\u001b[1;32m      1\u001b[0m \u001b[0;32mdef\u001b[0m \u001b[0mload_run\u001b[0m\u001b[0;34m(\u001b[0m\u001b[0mmouse\u001b[0m\u001b[0;34m,\u001b[0m \u001b[0mrun_number\u001b[0m\u001b[0;34m,\u001b[0m \u001b[0mpkl_path\u001b[0m\u001b[0;34m)\u001b[0m\u001b[0;34m:\u001b[0m\u001b[0;34m\u001b[0m\u001b[0;34m\u001b[0m\u001b[0m\n\u001b[1;32m      2\u001b[0m     \u001b[0mrun_path\u001b[0m \u001b[0;34m=\u001b[0m \u001b[0mos\u001b[0m\u001b[0;34m.\u001b[0m\u001b[0mpath\u001b[0m\u001b[0;34m.\u001b[0m\u001b[0mjoin\u001b[0m\u001b[0;34m(\u001b[0m\u001b[0mpkl_path\u001b[0m\u001b[0;34m,\u001b[0m \u001b[0mmouse\u001b[0m\u001b[0;34m,\u001b[0m \u001b[0;34mf'run{run_number}.pkl'\u001b[0m\u001b[0;34m)\u001b[0m\u001b[0;34m\u001b[0m\u001b[0;34m\u001b[0m\u001b[0m\n\u001b[0;32m----> 3\u001b[0;31m     \u001b[0;32mwith\u001b[0m \u001b[0mopen\u001b[0m\u001b[0;34m(\u001b[0m\u001b[0mrun_path\u001b[0m\u001b[0;34m,\u001b[0m \u001b[0;34m'rb'\u001b[0m\u001b[0;34m)\u001b[0m \u001b[0;32mas\u001b[0m \u001b[0mf\u001b[0m\u001b[0;34m:\u001b[0m\u001b[0;34m\u001b[0m\u001b[0;34m\u001b[0m\u001b[0m\n\u001b[0m\u001b[1;32m      4\u001b[0m         \u001b[0mrun\u001b[0m \u001b[0;34m=\u001b[0m \u001b[0mpickle\u001b[0m\u001b[0;34m.\u001b[0m\u001b[0mload\u001b[0m\u001b[0;34m(\u001b[0m\u001b[0mf\u001b[0m\u001b[0;34m)\u001b[0m\u001b[0;34m\u001b[0m\u001b[0;34m\u001b[0m\u001b[0m\n\u001b[1;32m      5\u001b[0m     \u001b[0;32mreturn\u001b[0m \u001b[0mrun\u001b[0m\u001b[0;34m\u001b[0m\u001b[0;34m\u001b[0m\u001b[0m\n",
      "\u001b[0;31mFileNotFoundError\u001b[0m: [Errno 2] No such file or directory: '/home/jrowland/mnt/qnap/run_pkls/RL116/run34.pkl'"
     ]
    }
   ],
   "source": [
    "mouse = 'RL116'\n",
    "run_number = 34\n",
    "\n",
    "pkl_path = '/home/jrowland/mnt/qnap/run_pkls'\n",
    "run = load_run(mouse, run_number, pkl_path)"
   ]
  },
  {
   "cell_type": "code",
   "execution_count": 28,
   "metadata": {},
   "outputs": [],
   "source": [
    "def get_subset_dprime(run):\n",
    "    \n",
    "    trial_subsets = Subsets(run).trial_subsets\n",
    "    assert trial_subsets.shape == run.outcome.shape\n",
    "    \n",
    "    fp_rate = sum(run.outcome=='fp') / (sum(run.outcome=='fp') + sum(run.outcome=='cr'))\n",
    "    subset_dprimes = []\n",
    "    for subset in [[5],[10],[20],[30],[40],[50], [150]]:\n",
    "        idx = np.isin(trial_subsets, subset)\n",
    "        outcome = run.outcome[idx]\n",
    "        hit_rate = sum(outcome=='hit') / (sum(outcome=='hit') + sum(outcome=='miss'))\n",
    "        subset_dprimes.append(utils.d_prime(hit_rate, fp_rate)) \n",
    "    return subset_dprimes"
   ]
  },
  {
   "cell_type": "code",
   "execution_count": 29,
   "metadata": {},
   "outputs": [
    {
     "data": {
      "text/plain": [
       "<matplotlib.lines.Line2D at 0x7f78f0041b90>"
      ]
     },
     "execution_count": 29,
     "metadata": {},
     "output_type": "execute_result"
    },
    {
     "data": {
      "image/png": "[encoded data removed]",
      "text/plain": [
       "<Figure size 432x288 with 1 Axes>"
      ]
     },
     "metadata": {},
     "output_type": "display_data"
    }
   ],
   "source": [
    "subset_dprimes = get_subset_dprime(run)\n",
    "plt.plot([5,10,20,30,40,50,150], subset_dprimes, '.')\n",
    "plt.xlabel(\"number cells stimmed\")\n",
    "plt.ylabel('dprime')\n",
    "plt.ylim(min(subset_dprimes)-0.1, max(subset_dprimes)+0.1)\n",
    "\n",
    "plt.axhline(0.5, linestyle=':')\n",
    "plt.axhline(1, linestyle=':')\n"
   ]
  },
  {
   "cell_type": "code",
   "execution_count": null,
   "metadata": {},
   "outputs": [],
   "source": []
  },
  {
   "cell_type": "code",
   "execution_count": null,
   "metadata": {},
   "outputs": [],
   "source": []
  },
  {
   "cell_type": "code",
   "execution_count": null,
   "metadata": {},
   "outputs": [],
   "source": []
  },
  {
   "cell_type": "code",
   "execution_count": null,
   "metadata": {},
   "outputs": [],
   "source": []
  },
  {
   "cell_type": "code",
   "execution_count": null,
   "metadata": {},
   "outputs": [],
   "source": []
  },
  {
   "cell_type": "code",
   "execution_count": null,
   "metadata": {},
   "outputs": [],
   "source": []
  },
  {
   "cell_type": "code",
   "execution_count": null,
   "metadata": {},
   "outputs": [],
   "source": []
  }
 ],
 "metadata": {
  "kernelspec": {
   "display_name": "suite2p",
   "language": "python",
   "name": "suite2p"
  },
  "language_info": {
   "codemirror_mode": {
    "name": "ipython",
    "version": 3
   },
   "file_extension": ".py",
   "mimetype": "text/x-python",
   "name": "python",
   "nbconvert_exporter": "python",
   "pygments_lexer": "ipython3",
   "version": "3.7.10"
  }
 },
 "nbformat": 4,
 "nbformat_minor": 2
}
