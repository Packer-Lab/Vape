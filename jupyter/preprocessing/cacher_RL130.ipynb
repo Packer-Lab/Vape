{
 "cells": [
  {
   "cell_type": "code",
   "execution_count": 78,
   "metadata": {},
   "outputs": [
    {
     "name": "stdout",
     "output_type": "stream",
     "text": [
      "The autoreload extension is already loaded. To reload it, use:\n",
      "  %reload_ext autoreload\n"
     ]
    }
   ],
   "source": [
    "%run ../setup_notebook.ipynb"
   ]
  },
  {
   "cell_type": "code",
   "execution_count": 79,
   "metadata": {},
   "outputs": [],
   "source": [
    "# notebook specific imports\n",
    "from utils import cacher\n",
    "import pickle\n",
    "from termcolor import cprint\n",
    "from subsets_analysis import Subsets"
   ]
  },
  {
   "cell_type": "code",
   "execution_count": 80,
   "metadata": {},
   "outputs": [],
   "source": [
    "pkl_path = '/home/jrowland/mnt/qnap/run_pkls'"
   ]
  },
  {
   "cell_type": "code",
   "execution_count": null,
   "metadata": {
    "scrolled": true
   },
   "outputs": [
    {
     "name": "stdout",
     "output_type": "stream",
     "text": [
      "\u001b[1m\n",
      "\n",
      "Run Number 15\n",
      "\u001b[0m\n",
      "/home/jrowland/mnt/qnap/Data/2021-06-10\n",
      "['/home/jrowland/mnt/qnap/Data/2021-06-10/blimp/2021-06-10-165732']\n",
      "['/home/jrowland/mnt/qnap/Data/2021-06-10/naparm/2021-06-10-RL130_002']\n",
      "['/home/jrowland/mnt/qnap/Data/2021-06-10/RL130-2021-06-10-170141.txt', '/home/jrowland/mnt/qnap/Data/2021-06-10/2021-06-10-RL130_t002.paq', '/home/jrowland/mnt/qnap/Data/2021-06-10/RL130-2021-06-10-165228.txt']\n",
      "['/home/jrowland/mnt/qnap/Data/2021-06-10/2021-06-10_RL130_t-002']\n",
      "['/home/jrowland/mnt/qnap/Data/2021-06-10/2021-06-10_RL130_t-003']\n",
      "['/home/jrowland/mnt/qnap/Data/2021-06-10/2021-06-10_RL130_t-004']\n",
      "['/home/jrowland/mnt/qnap/Data/2021-06-10/2021-06-10_RL130_t-005']\n",
      "['/home/jrowland/mnt/qnap/Data/2021-06-10/2021-06-10_RL130_t-006']\n",
      "Importing data file: RL130-2021-06-10-170141.txt\n",
      "pycontrol RL130-2021-06-10-170141 successfully matched to blimp folder 2021-06-10-165732\n",
      "pycontrol RL130-2021-06-10-165228.txt rsync successfully matched to paq 2021-06-10-RL130_t002.paq\n",
      "Importing data file: RL130-2021-06-10-165228.txt\n",
      "prereward RL130-2021-06-10-165228.txt rsync successfully matched to paq 2021-06-10-RL130_t002.paq\n",
      "\n",
      "following tseries found:\n",
      "['/home/jrowland/mnt/qnap/Data/2021-06-10/2021-06-10_RL130_t-002', '/home/jrowland/mnt/qnap/Data/2021-06-10/2021-06-10_RL130_t-003', '/home/jrowland/mnt/qnap/Data/2021-06-10/2021-06-10_RL130_t-004', '/home/jrowland/mnt/qnap/Data/2021-06-10/2021-06-10_RL130_t-005', '/home/jrowland/mnt/qnap/Data/2021-06-10/2021-06-10_RL130_t-006']\n",
      "\n",
      "\n",
      "[[1024, 514], [1024, 514], [1024, 514], [1024, 514], [1024, 514]]\n",
      "obfov detected\n",
      "Data path is /home/jrowland/mnt/qnap/Data/2021-06-10\n",
      "s2p path is /home/jrowland/mnt/qnap/Data/2021-06-10/suite2p/RL130\n",
      "Bad frames calculated and saved to /home/jrowland/mnt/qnap/Data/2021-06-10\n",
      "Bad frames calculated and saved to /home/jrowland/mnt/qnap/Data/2021-06-10/suite2p/RL130\n",
      "Bad frames calculated and saved to /home/jrowland/mnt/qnap/Data/2021-06-10/suite2p/RL130\n",
      "Running s2p on tseries printed above\n",
      "\n",
      "{'data_path': ['/home/jrowland/mnt/qnap/Data/2021-06-10'], 'look_one_level_down': True, 'diameter': 11, 'tiff_list': ['/home/jrowland/mnt/qnap/Data/2021-06-10/2021-06-10_RL130_t-002/2021-06-10_RL130_t-002_Cycle00001_Ch3.tif', '/home/jrowland/mnt/qnap/Data/2021-06-10/2021-06-10_RL130_t-003/2021-06-10_RL130_t-003_Cycle00001_Ch3.tif', '/home/jrowland/mnt/qnap/Data/2021-06-10/2021-06-10_RL130_t-004/2021-06-10_RL130_t-004_Cycle00001_Ch3.tif', '/home/jrowland/mnt/qnap/Data/2021-06-10/2021-06-10_RL130_t-005/2021-06-10_RL130_t-005_Cycle00001_Ch3.tif', '/home/jrowland/mnt/qnap/Data/2021-06-10/2021-06-10_RL130_t-006/2021-06-10_RL130_t-006_Cycle00001_Ch3.tif'], 'nplanes': 1, 'fs': 30, 'save_folder': '/home/jrowland/mnt/qnap/Data/2021-06-10/suite2p/RL130', 'roidetect': True, 'spikedetect': False}\n",
      "tif\n",
      "** Found 5 tifs - converting to binary **\n",
      "10000 frames of binary, time 254.55 sec.\n",
      "time 2926.44 sec. Wrote 115759 frames per binary for 1 planes\n",
      ">>>>>>>>>>>>>>>>>>>>> PLANE 0 <<<<<<<<<<<<<<<<<<<<<<\n",
      "NOTE: not registered / registration forced with ops['do_registration']>1\n",
      "      (no previous offsets to delete)\n",
      "----------- REGISTRATION\n",
      "registering 115759 frames\n",
      "Reference frame, 54.90 sec.\n",
      "Registered 10000/115759 in 1725.41s\n",
      "Registered 20000/115759 in 2875.45s\n",
      "Registered 30000/115759 in 3765.06s\n"
     ]
    }
   ],
   "source": [
    "mouse_id = 'RL130'\n",
    "\n",
    "run_numbers = [12,13,14,15]\n",
    "run_numbers = [15, 16]\n",
    "\n",
    "for run_number in run_numbers:\n",
    "    \n",
    "    cprint('\\n\\nRun Number {}\\n'.format(run_number), attrs=['bold'])\n",
    "    \n",
    "    cacher.main(mouse_id, run_number, pkl_path,   \n",
    "                reprocess=True, reload=True, do_s2p=True, do_flu_preprocess=True)"
   ]
  },
  {
   "cell_type": "markdown",
   "metadata": {},
   "source": [
    "### Quickly eyeball the behaviour so you don't have to suite2p bad behaviour. \n",
    "### Requires cacher.main to have been run. But you can set do_s2p = False"
   ]
  },
  {
   "cell_type": "code",
   "execution_count": 87,
   "metadata": {},
   "outputs": [],
   "source": [
    "def load_run(mouse, run_number, pkl_path):\n",
    "    run_path = os.path.join(pkl_path, mouse, f'run{run_number}.pkl')\n",
    "    with open(run_path, 'rb') as f:\n",
    "        run = pickle.load(f)\n",
    "    return run"
   ]
  },
  {
   "cell_type": "code",
   "execution_count": 91,
   "metadata": {},
   "outputs": [],
   "source": [
    "run_number = 15\n",
    "mouse = 'RL130'\n",
    "run = load_run(mouse, run_number, pkl_path)"
   ]
  },
  {
   "cell_type": "code",
   "execution_count": 89,
   "metadata": {},
   "outputs": [],
   "source": [
    "def get_subset_dprime(run):\n",
    "    \n",
    "    trial_subsets = Subsets(run).trial_subsets\n",
    "    assert trial_subsets.shape == run.outcome.shape\n",
    "    \n",
    "    fp_rate = sum(run.outcome=='fp') / (sum(run.outcome=='fp') + sum(run.outcome=='cr'))\n",
    "    subset_dprimes = []\n",
    "    for subset in [[5],[10],[20],[30],[40],[50], [150]]:\n",
    "        idx = np.isin(trial_subsets, subset)\n",
    "        outcome = run.outcome[idx]\n",
    "        hit_rate = sum(outcome=='hit') / (sum(outcome=='hit') + sum(outcome=='miss'))\n",
    "        subset_dprimes.append(utils.d_prime(hit_rate, fp_rate)) \n",
    "    return subset_dprimes"
   ]
  },
  {
   "cell_type": "code",
   "execution_count": 90,
   "metadata": {},
   "outputs": [
    {
     "data": {
      "text/plain": [
       "<matplotlib.lines.Line2D at 0x7f581909fe90>"
      ]
     },
     "execution_count": 90,
     "metadata": {},
     "output_type": "execute_result"
    },
    {
     "data": {
      "image/png": "[encoded data removed]",
      "text/plain": [
       "<Figure size 432x288 with 1 Axes>"
      ]
     },
     "metadata": {},
     "output_type": "display_data"
    }
   ],
   "source": [
    "subset_dprimes = get_subset_dprime(run)\n",
    "plt.plot([5,10,20,30,40,50,150], subset_dprimes, '.')\n",
    "plt.xlabel(\"number cells stimmed\")\n",
    "plt.ylabel('dprime')\n",
    "plt.ylim(min(subset_dprimes)-0.1, max(subset_dprimes)+0.1)\n",
    "\n",
    "plt.axhline(0.5, linestyle=':')\n",
    "plt.axhline(1, linestyle=':')\n"
   ]
  },
  {
   "cell_type": "code",
   "execution_count": null,
   "metadata": {},
   "outputs": [],
   "source": []
  }
 ],
 "metadata": {
  "kernelspec": {
   "display_name": "suite2p",
   "language": "python",
   "name": "suite2p"
  },
  "language_info": {
   "codemirror_mode": {
    "name": "ipython",
    "version": 3
   },
   "file_extension": ".py",
   "mimetype": "text/x-python",
   "name": "python",
   "nbconvert_exporter": "python",
   "pygments_lexer": "ipython3",
   "version": "3.7.10"
  }
 },
 "nbformat": 4,
 "nbformat_minor": 2
}
