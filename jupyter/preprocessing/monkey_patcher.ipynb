{
 "cells": [
  {
   "cell_type": "markdown",
   "metadata": {},
   "source": [
    "## Patch extra attributes onto run object"
   ]
  },
  {
   "cell_type": "code",
   "execution_count": 1,
   "metadata": {},
   "outputs": [],
   "source": [
    "# imports general modules, runs ipython magic commands\n",
    "# change path in this notebook to point to repo locally\n",
    "# n.b. sometimes need to run this cell twice to init the plotting paramters\n",
    "%run ../setup_notebook.ipynb"
   ]
  },
  {
   "cell_type": "code",
   "execution_count": 2,
   "metadata": {},
   "outputs": [],
   "source": [
    "import pickle\n",
    "import cacher\n",
    "import run_functions as rf"
   ]
  },
  {
   "cell_type": "code",
   "execution_count": 4,
   "metadata": {},
   "outputs": [],
   "source": [
    "mice_dicts = [\n",
    "    \n",
    "{'mouse_id': 'J048', 'run_numbers': [27,28,29,30,32], 'runs': []},\n",
    "{'mouse_id': 'RL048', 'run_numbers': [23, 24, 25, 28, 29], 'runs': []},\n",
    "{'mouse_id': 'J063', 'run_numbers': [8,9,10,11,12,13,14], 'runs': []},\n",
    "{'mouse_id': 'J064', 'run_numbers': [10,11,12,13,14,15], 'runs': []},\n",
    "{'mouse_id': 'J065', 'run_numbers': [10,11,12,13,14,15], 'runs': []},\n",
    "{'mouse_id': 'RL070', 'run_numbers': [22,23,24,27,28,29], 'runs': []},\n",
    "{'mouse_id': 'RL072', 'run_numbers': [19,20,21,24], 'runs': []},\n",
    "    \n",
    "]"
   ]
  },
  {
   "cell_type": "code",
   "execution_count": 7,
   "metadata": {},
   "outputs": [
    {
     "name": "stdout",
     "output_type": "stream",
     "text": [
      "ye\n",
      "ye\n",
      "ye\n"
     ]
    },
    {
     "ename": "KeyboardInterrupt",
     "evalue": "",
     "output_type": "error",
     "traceback": [
      "\u001b[0;31m---------------------------------------------------------------------------\u001b[0m",
      "\u001b[0;31mKeyboardInterrupt\u001b[0m                         Traceback (most recent call last)",
      "\u001b[0;32m<ipython-input-7-d7d298766e61>\u001b[0m in \u001b[0;36m<module>\u001b[0;34m\u001b[0m\n\u001b[1;32m      8\u001b[0m \u001b[0;34m\u001b[0m\u001b[0m\n\u001b[1;32m      9\u001b[0m         \u001b[0;32mwith\u001b[0m \u001b[0mopen\u001b[0m\u001b[0;34m(\u001b[0m\u001b[0mpkl_path\u001b[0m\u001b[0;34m,\u001b[0m \u001b[0;34m'rb'\u001b[0m\u001b[0;34m)\u001b[0m \u001b[0;32mas\u001b[0m \u001b[0mf\u001b[0m\u001b[0;34m:\u001b[0m\u001b[0;34m\u001b[0m\u001b[0;34m\u001b[0m\u001b[0m\n\u001b[0;32m---> 10\u001b[0;31m             \u001b[0mrun\u001b[0m \u001b[0;34m=\u001b[0m \u001b[0mpickle\u001b[0m\u001b[0;34m.\u001b[0m\u001b[0mload\u001b[0m\u001b[0;34m(\u001b[0m\u001b[0mf\u001b[0m\u001b[0;34m)\u001b[0m\u001b[0;34m\u001b[0m\u001b[0;34m\u001b[0m\u001b[0m\n\u001b[0m\u001b[1;32m     11\u001b[0m         \u001b[0;32mif\u001b[0m \u001b[0;32mnot\u001b[0m \u001b[0mhasattr\u001b[0m\u001b[0;34m(\u001b[0m\u001b[0mrun\u001b[0m\u001b[0;34m,\u001b[0m \u001b[0;34m'flu'\u001b[0m\u001b[0;34m)\u001b[0m\u001b[0;34m:\u001b[0m\u001b[0;34m\u001b[0m\u001b[0;34m\u001b[0m\u001b[0m\n\u001b[1;32m     12\u001b[0m             \u001b[0;32mcontinue\u001b[0m\u001b[0;34m\u001b[0m\u001b[0;34m\u001b[0m\u001b[0m\n",
      "\u001b[0;31mKeyboardInterrupt\u001b[0m: "
     ]
    }
   ],
   "source": [
    "\n",
    "# Add extra attributes to run objects that I didn't consider at instantiation\n",
    "# time. Should be built into cacher for future runs\n",
    "for mouse_dict in mice_dicts:\n",
    "    for run_number in mouse_dict['run_numbers']:\n",
    "        \n",
    "        pkl_path = os.path.join(path_to_vape, 'run_pkls', mouse_dict['mouse_id'], \n",
    "                                'run{}.pkl'.format(run_number))\n",
    "\n",
    "        with open(pkl_path, 'rb') as f:\n",
    "            run = pickle.load(f)\n",
    "        if not hasattr(run, 'flu'):\n",
    "            continue\n",
    "            \n",
    "        if hasattr(run, 'is_target'):\n",
    "            print('ye')\n",
    "            continue\n",
    "            \n",
    "        gt = rf.GetTargets(run)\n",
    "        run.is_target = gt.is_target\n",
    "        \n",
    "        with open(pkl_path, 'wb') as f:\n",
    "            pickle.dump(run, f)"
   ]
  },
  {
   "cell_type": "code",
   "execution_count": 5,
   "metadata": {},
   "outputs": [
    {
     "name": "stdout",
     "output_type": "stream",
     "text": [
      "ye\n",
      "ye\n",
      "ye\n",
      "ye\n",
      "ye\n",
      "ye\n",
      "ye\n",
      "ye\n",
      "ye\n",
      "ye\n",
      "ye\n",
      "ye\n",
      "ye\n",
      "ye\n",
      "ye\n",
      "ye\n",
      "ye\n",
      "ye\n",
      "ye\n",
      "ye\n",
      "ye\n",
      "ye\n",
      "ye\n",
      "ye\n",
      "ye\n",
      "ye\n",
      "ye\n",
      "ye\n",
      "ye\n",
      "ye\n",
      "ye\n",
      "ye\n",
      "ye\n",
      "ye\n",
      "ye\n",
      "ye\n",
      "RL072\n",
      "20\n",
      "ye\n",
      "ye\n"
     ]
    }
   ],
   "source": [
    "# # Add extra attributes to run objects that I didn't consider at instantiation\n",
    "# # time. Should be built into cacher for future runs\n",
    "# for mouse_dict in mice_dicts:\n",
    "#     for run_number in mouse_dict['run_numbers']:\n",
    "        \n",
    "#         pkl_path = os.path.join(path_to_vape, 'run_pkls', mouse_dict['mouse_id'], \n",
    "#                                 'run{}.pkl'.format(run_number))\n",
    "\n",
    "#         with open(pkl_path, 'rb') as f:\n",
    "#             run = pickle.load(f)\n",
    "            \n",
    "#         if hasattr(run, 'spiral_licks'):\n",
    "#             print('ye')\n",
    "#             continue\n",
    "            \n",
    "#         ###### ADD SPIRAL TSTART WITH ######\n",
    "        \n",
    "#         try:\n",
    "#             run = rf.spiral_tstart(run)\n",
    "#         except AssertionError:\n",
    "#             print(run.mouse_id)\n",
    "#             print(run_number)\n",
    "#             continue\n",
    "        \n",
    "\n",
    "#         run.spiral_licks = rf.get_binned_licks(run, run.aligner.B_to_A(run.spiral_start))\n",
    "#         run.autorewarded_trial = rf.autoreward(run) \n",
    "#         run = rf.reclassify_trials(run)\n",
    "        \n",
    "            \n",
    "#         with open(pkl_path, 'wb') as f:\n",
    "#             pickle.dump(run, f)\n",
    "        \n",
    "        \n",
    "                "
   ]
  },
  {
   "cell_type": "code",
   "execution_count": 6,
   "metadata": {},
   "outputs": [],
   "source": [
    "######## I THINK THIS IS ALL TAKEN CARE OF NOW BY rf.spiral_tstart\n",
    "        #if run_number == 24 and mouse_dict['mouse_id'] == 'RL072':\n",
    "        #    # The galvo was parked at 1 volt for some reason during\n",
    "        #    # prereward, manually correct this\n",
    "        #    run.x_galvo_uncaging[:int(1.610905e7)] = -1\n",
    "        #    \n",
    "        #    \n",
    "        #if run_number == 20 and mouse_dict['mouse_id'] == 'RL072':\n",
    "        #    # Galvo again parked in a weird place before session started\n",
    "        #    run.x_galvo_uncaging[0:int(0.145088e8)] = -1\n",
    "        \n",
    "#        try:\n",
    "#            run.spiral_start = utils.get_spiral_start(run.x_galvo_uncaging, run.paq_rate*3)\n",
    "#        except AssertionError:\n",
    "#            print(run_number)\n",
    "#            print(mouse_dict['mouse_id'])\n"
   ]
  },
  {
   "cell_type": "code",
   "execution_count": 6,
   "metadata": {},
   "outputs": [
    {
     "data": {
      "text/plain": [
       "False"
      ]
     },
     "execution_count": 6,
     "metadata": {},
     "output_type": "execute_result"
    }
   ],
   "source": [
    "\n",
    "hasattr(run, 'is_target')"
   ]
  },
  {
   "cell_type": "code",
   "execution_count": null,
   "metadata": {},
   "outputs": [],
   "source": []
  }
 ],
 "metadata": {
  "kernelspec": {
   "display_name": "Python 3",
   "language": "python",
   "name": "python3"
  },
  "language_info": {
   "codemirror_mode": {
    "name": "ipython",
    "version": 3
   },
   "file_extension": ".py",
   "mimetype": "text/x-python",
   "name": "python",
   "nbconvert_exporter": "python",
   "pygments_lexer": "ipython3",
   "version": "3.7.4"
  }
 },
 "nbformat": 4,
 "nbformat_minor": 2
}
