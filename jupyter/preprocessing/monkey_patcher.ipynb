{
 "cells": [
  {
   "cell_type": "markdown",
   "metadata": {},
   "source": [
    "## Patch extra attributes onto run object"
   ]
  },
  {
   "cell_type": "code",
   "execution_count": 1,
   "metadata": {},
   "outputs": [],
   "source": [
    "# imports general modules, runs ipython magic commands\n",
    "# change path in this notebook to point to repo locally\n",
    "# n.b. sometimes need to run this cell twice to init the plotting paramters\n",
    "%run ../setup_notebook.ipynb"
   ]
  },
  {
   "cell_type": "code",
   "execution_count": 2,
   "metadata": {},
   "outputs": [],
   "source": [
    "import pickle\n",
    "import run_functions as rf"
   ]
  },
  {
   "cell_type": "code",
   "execution_count": 3,
   "metadata": {},
   "outputs": [],
   "source": [
    "mice_dicts = [\n",
    "    \n",
    "{'mouse_id': 'J048', 'run_numbers': [27,28,29,30,32], 'runs': []},\n",
    "{'mouse_id': 'RL048', 'run_numbers': [23, 24, 25, 28, 29], 'runs': []},\n",
    "{'mouse_id': 'J063', 'run_numbers': [8,9,10,11,12,13,14], 'runs': []},\n",
    "{'mouse_id': 'J064', 'run_numbers': [10,11,12,13,14,15], 'runs': []},\n",
    "{'mouse_id': 'J065', 'run_numbers': [10,11,12,13,14,15], 'runs': []},\n",
    "{'mouse_id': 'RL070', 'run_numbers': [22,23,24,27,28,29], 'runs': []},\n",
    "{'mouse_id': 'RL072', 'run_numbers': [19,20,21,24], 'runs': []},\n",
    "    \n",
    "]"
   ]
  },
  {
   "cell_type": "code",
   "execution_count": null,
   "metadata": {},
   "outputs": [],
   "source": []
  },
  {
   "cell_type": "code",
   "execution_count": 4,
   "metadata": {},
   "outputs": [],
   "source": [
    "# Add the spiral trial start\n",
    "for mouse_dict in mice_dicts:\n",
    "    for run_number in mouse_dict['run_numbers']:\n",
    "        \n",
    "        pkl_path = os.path.join(path_to_vape, 'run_pkls', mouse_dict['mouse_id'], \n",
    "                                'run{}.pkl'.format(run_number))\n",
    "\n",
    "        with open(pkl_path, 'rb') as f:\n",
    "            run = pickle.load(f)\n",
    "        \n",
    "        if hasattr(run, 'spiral_start'):\n",
    "            pass\n",
    "            #continue\n",
    "            \n",
    "        run = rf.spiral_tstart(run)\n",
    "         \n",
    "            \n",
    "        #if run_number == 24 and mouse_dict['mouse_id'] == 'RL072':\n",
    "        #    # The galvo was parked at 1 volt for some reason during\n",
    "        #    # prereward, manually correct this\n",
    "        #    run.x_galvo_uncaging[:int(1.610905e7)] = -1\n",
    "        #    \n",
    "        #    \n",
    "        #if run_number == 20 and mouse_dict['mouse_id'] == 'RL072':\n",
    "        #    # Galvo again parked in a weird place before session started\n",
    "        #    run.x_galvo_uncaging[0:int(0.145088e8)] = -1\n",
    "        \n",
    "#        try:\n",
    "#            run.spiral_start = utils.get_spiral_start(run.x_galvo_uncaging, run.paq_rate*3)\n",
    "#        except AssertionError:\n",
    "#            print(run_number)\n",
    "#            print(mouse_dict['mouse_id'])\n",
    "        \n",
    "            \n",
    "        with open(pkl_path, 'wb') as f:\n",
    "            run = pickle.dump(run, f)\n",
    "        \n",
    "        \n",
    "                "
   ]
  },
  {
   "cell_type": "code",
   "execution_count": null,
   "metadata": {},
   "outputs": [],
   "source": []
  }
 ],
 "metadata": {
  "kernelspec": {
   "display_name": "Python 3",
   "language": "python",
   "name": "python3"
  },
  "language_info": {
   "codemirror_mode": {
    "name": "ipython",
    "version": 3
   },
   "file_extension": ".py",
   "mimetype": "text/x-python",
   "name": "python",
   "nbconvert_exporter": "python",
   "pygments_lexer": "ipython3",
   "version": "3.7.4"
  }
 },
 "nbformat": 4,
 "nbformat_minor": 2
}
