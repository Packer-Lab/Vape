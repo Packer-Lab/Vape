{
 "cells": [
  {
   "cell_type": "code",
   "execution_count": 1,
   "metadata": {},
   "outputs": [
    {
     "name": "stderr",
     "output_type": "stream",
     "text": [
      "ERROR:root:Invalid alias: The name clear can't be aliased because it is another magic command.\n",
      "ERROR:root:Invalid alias: The name more can't be aliased because it is another magic command.\n",
      "ERROR:root:Invalid alias: The name less can't be aliased because it is another magic command.\n",
      "ERROR:root:Invalid alias: The name man can't be aliased because it is another magic command.\n"
     ]
    }
   ],
   "source": [
    "#ipython magic\n",
    "%load_ext autoreload\n",
    "%autoreload 2\n",
    "%reset -f\n",
    "%matplotlib notebook"
   ]
  },
  {
   "cell_type": "code",
   "execution_count": 2,
   "metadata": {},
   "outputs": [],
   "source": [
    "#general imports\n",
    "import sys\n",
    "import os\n",
    "import numpy as np\n",
    "import matplotlib.pyplot as plt\n",
    "import seaborn as sns\n",
    "import pickle\n",
    "import time"
   ]
  },
  {
   "cell_type": "code",
   "execution_count": 3,
   "metadata": {},
   "outputs": [
    {
     "data": {
      "text/plain": [
       "'/home/jamesrowland/Documents/Code/Vape/'"
      ]
     },
     "execution_count": 3,
     "metadata": {},
     "output_type": "execute_result"
    }
   ],
   "source": [
    "# path to your vape repo\n",
    "path_to_vape = '/home/jamesrowland/Documents/Code/Vape/'\n",
    "sys.path.append(path_to_vape)\n",
    "sys.path.append(os.path.join(path_to_vape, 'utils'))\n",
    "path_to_vape"
   ]
  },
  {
   "cell_type": "code",
   "execution_count": 4,
   "metadata": {},
   "outputs": [],
   "source": [
    "#notebook specific imports\n",
    "from opto_stim_import2 import BlimpImport, OptoStim2p\n",
    "import suite2p\n",
    "from suite2p.run_s2p import run_s2p\n",
    "from my_suite2p.settings import ops\n",
    "from utils_funcs import get_tiffs\n",
    "import re\n",
    "import tifffile\n",
    "import glob\n"
   ]
  },
  {
   "cell_type": "code",
   "execution_count": 5,
   "metadata": {},
   "outputs": [],
   "source": [
    "mouse_id = 'RL048'\n",
    "pkl_path='/home/jamesrowland/Documents/Code/Vape/run_pkls'"
   ]
  },
  {
   "cell_type": "code",
   "execution_count": 6,
   "metadata": {},
   "outputs": [],
   "source": [
    "run_number = 23"
   ]
  },
  {
   "cell_type": "code",
   "execution_count": 7,
   "metadata": {},
   "outputs": [],
   "source": [
    "def run_processor(mouse_id, run_number, pkl_path, reprocess=False, reload=False):\n",
    "    \n",
    "    mouse_folder = os.path.join(pkl_path, mouse_id)\n",
    "    \n",
    "    if not os.path.exists(mouse_folder):\n",
    "        os.makedirs(mouse_folder)\n",
    "    \n",
    "    global pkl_file # im so sorry\n",
    "    pkl_file = os.path.join(mouse_folder, 'run{}.pkl'.format(run_number))\n",
    "\n",
    "    if os.path.isfile(pkl_file) and not reprocess:\n",
    "        print('run number {} already processed\\n'.format(run_number))\n",
    "        \n",
    "        if reload:\n",
    "            with open(pkl_file, 'rb') as f:\n",
    "                mouse_obj =  pickle.load(f)\n",
    "            return mouse_obj\n",
    "        else:\n",
    "            return None\n",
    "        \n",
    "    mouse_obj = BlimpImport(mouse_id)\n",
    "    try:\n",
    "        mouse_obj.get_object_and_test(run_number, raise_error = True)\n",
    "    except Exception as e:\n",
    "        print('error for run number {}'.format(run_number))\n",
    "        print('{}\\n'.format(e))\n",
    "        return None\n",
    "        \n",
    "    return mouse_obj"
   ]
  },
  {
   "cell_type": "code",
   "execution_count": 8,
   "metadata": {},
   "outputs": [
    {
     "name": "stdout",
     "output_type": "stream",
     "text": [
      "Importing data file: RL048-2019-08-02-182658.txt\n",
      "pycontrol RL048-2019-08-02-182658 successfully matched to blimp folder 2019-08-02-182445\n",
      "pycontrol RL048-2019-08-02-182658 rsync successfully matched to paq 2019-08-02_RL048_t003.paq\n"
     ]
    },
    {
     "data": {
      "text/plain": [
       "<opto_stim_import2.BlimpImport at 0x7f12e832de48>"
      ]
     },
     "execution_count": 8,
     "metadata": {},
     "output_type": "execute_result"
    }
   ],
   "source": [
    "mouse_obj = run_processor(mouse_id, run_number, pkl_path, reprocess=True, reload=True)\n",
    "mouse_obj"
   ]
  },
  {
   "cell_type": "code",
   "execution_count": null,
   "metadata": {},
   "outputs": [],
   "source": [
    "tseries_paths = mouse_obj.tseries_paths\n",
    "\n",
    "tseries_paths = [item for sublist in tseries_paths for item in sublist]\n",
    "tseries_paths"
   ]
  },
  {
   "cell_type": "code",
   "execution_count": null,
   "metadata": {},
   "outputs": [],
   "source": [
    "def get_num_frames(tiff_folder):\n",
    "    \n",
    "    '''takes input of list of tiff folders and returns\n",
    "    number of frames in the first of each tiff folder'''\n",
    "    \n",
    "    with tifffile.TiffFile(tiff_folder) as tif:\n",
    "        tif_tags = {}\n",
    "        for tag in tif.pages[0].tags.values():\n",
    "            name, value = tag.name, tag.value\n",
    "            tif_tags[name] = value\n",
    "\n",
    "    d = re.search('(?<=\\[)(.*?)(?=\\,)', tif_tags['ImageDescription'])\n",
    "    n_frames = int(d.group(0))\n",
    "    \n",
    "    return n_frames"
   ]
  },
  {
   "cell_type": "code",
   "execution_count": null,
   "metadata": {},
   "outputs": [],
   "source": [
    "num_frames = []\n",
    "\n",
    "for tseries in tseries_paths:\n",
    "    tiff = get_tiffs(tseries)\n",
    "    assert len(tiff) == 1\n",
    "    num_frames.append(get_num_frames(tiff[0]))\n",
    "    \n",
    "mouse_obj.num_frames = num_frames"
   ]
  },
  {
   "cell_type": "code",
   "execution_count": null,
   "metadata": {},
   "outputs": [],
   "source": [
    "db = {\n",
    "    \n",
    "       'data_path': tseries_paths,                                         \n",
    "       'diameter'  : 11, \n",
    "       'nplanes'  : mouse_obj.num_planes,\n",
    "       'fs'        : 15, # string which specifies where the binary file will be stored (should be an SSD)   \n",
    "}   "
   ]
  },
  {
   "cell_type": "code",
   "execution_count": null,
   "metadata": {},
   "outputs": [],
   "source": [
    "# opsEnd=run_s2p(ops=ops,db=db)"
   ]
  },
  {
   "cell_type": "code",
   "execution_count": null,
   "metadata": {},
   "outputs": [],
   "source": [
    "################################ delete this cell #############################################\n",
    "# p = '/home/jamesrowland/Documents/packerstation/jrowland/Data/2019-07-09/2019-07-09_J048_t-003/suite2p/ops1.npy'\n",
    "# opsEnd = np.load(p)"
   ]
  },
  {
   "cell_type": "code",
   "execution_count": null,
   "metadata": {},
   "outputs": [],
   "source": [
    "save_path = opsEnd[0]['save_path0']\n",
    "s2p_path  = os.path.join(save_path, 'suite2p')"
   ]
  },
  {
   "cell_type": "code",
   "execution_count": null,
   "metadata": {},
   "outputs": [],
   "source": [
    "mouse_obj.s2p_path = s2p_path"
   ]
  },
  {
   "cell_type": "code",
   "execution_count": 12,
   "metadata": {},
   "outputs": [],
   "source": [
    "with open(pkl_file, 'wb') as f:\n",
    "    pickle.dump(mouse_obj, f)"
   ]
  }
 ],
 "metadata": {
  "kernelspec": {
   "display_name": "Python 3",
   "language": "python",
   "name": "python3"
  },
  "language_info": {
   "codemirror_mode": {
    "name": "ipython",
    "version": 3
   },
   "file_extension": ".py",
   "mimetype": "text/x-python",
   "name": "python",
   "nbconvert_exporter": "python",
   "pygments_lexer": "ipython3",
   "version": "3.7.3"
  }
 },
 "nbformat": 4,
 "nbformat_minor": 2
}
