{
 "cells": [
  {
   "cell_type": "code",
   "execution_count": 2,
   "metadata": {
    "collapsed": true
   },
   "outputs": [],
   "source": [
    "#general imports\n",
    "import sys\n",
    "sys.path.append(r'C:\\Users\\Robert Lees\\Documents\\Code\\Vape\\suite2p_etc')\n",
    "sys.path.append('..')\n",
    "\n",
    "import numpy as np\n",
    "import os\n",
    "import time"
   ]
  },
  {
   "cell_type": "code",
   "execution_count": 10,
   "metadata": {},
   "outputs": [
    {
     "name": "stdout",
     "output_type": "stream",
     "text": [
      "['C:\\\\ProgramData\\\\Anaconda3\\\\lib\\\\site-packages\\\\suite2p']\n"
     ]
    }
   ],
   "source": [
    "#notebook specific imports\n",
    "from utils.gsheets_importer import gsheet2df, correct_behaviour_df, split_df, path_conversion, path_finder\n",
    "from utils.artifact_removal import artifact_removal\n",
    "from utils.utils_funcs import *\n",
    "from utils.paq2py import *\n",
    "from utils.parse_metadata import *\n",
    "import tifffile\n",
    "import copy\n",
    "import math\n",
    "\n",
    "import suite2p\n",
    "print(suite2p.__path__)\n",
    "from suite2p.run_s2p import run_s2p\n",
    "from settings import ops\n",
    "\n",
    "import matplotlib.pyplot as plt"
   ]
  },
  {
   "cell_type": "code",
   "execution_count": 19,
   "metadata": {},
   "outputs": [
    {
     "name": "stdout",
     "output_type": "stream",
     "text": [
      "['P:sarmstrong\\\\Data\\\\2019-06-25\\\\RL048\\\\2019-06-24_RL048_t-005', 'P:sarmstrong\\\\Data\\\\2019-06-25\\\\RL048\\\\2019-06-24_RL048_t-006\\\\MPTIFF'] ['P:sarmstrong\\\\Data\\\\2019-06-25\\\\RL048\\\\2019-06-24_RL048_NAPARM\\\\2019-06-25_RL048_NAPARM_003', 'P:sarmstrong\\\\Data\\\\2019-06-25\\\\RL048\\\\2019-06-24_RL048_NAPARM\\\\2019-06-25_RL048_NAPARM_004']\n"
     ]
    }
   ],
   "source": [
    "# read g sheets to populate some lists for processing stim artifact and running suite2p\n",
    "\n",
    "sheet_ID = '1PgSXs6BVHe9dACWEydykucN74rirNfOY4Vr_AmLcCdY'\n",
    "SHEET_NAME = '2019-06-25_RL048'\n",
    "df = gsheet2df(sheet_ID, HEADER_ROW=2, SHEET_NAME=SHEET_NAME)\n",
    "\n",
    "# at this point we have lots of files that could be whisker stim or photostim, need to find out which is which\n",
    "\n",
    "for_processing = split_df(df, 's2p_me') # only files with TRUE in suite2p_me column\n",
    "\n",
    "if not for_processing.shape[0]:\n",
    "    raise Exception('ERROR: no files set for processing')\n",
    "\n",
    "stim = for_processing.loc[:,'stim'] # find out what stims have been carried out\n",
    "photostim_idx = [i for i,stim in enumerate(stim) if stim=='p'] # row indices of all photostim exps (for artifact removal)\n",
    "whisker_stim_idx = [i for i,stim in enumerate(stim) if stim=='w'] # '' for whisker stim (no artifact removal)\n",
    "\n",
    "if ( len(photostim_idx) + len(whisker_stim_idx) ) != stim.shape[0]:\n",
    "    raise Exception('ERROR: stim type is not defined for some files')\n",
    "\n",
    "tiff_paths = for_processing.loc[:,'tiff_path']\n",
    "naparm_paths = for_processing.loc[:,'naparm_path']\n",
    "\n",
    "# if not all(tiff_paths) or not all(naparm_paths):\n",
    "#     raise Exception('ERROR: missing tiff or naparm paths')\n",
    "    \n",
    "packerstation_path = r\"P:\" # the path to PackerStation on the local machine\n",
    "# TODO: update this to path_finder rather than conversion, to increase failsafe at this point\n",
    "tiffs_pstation = path_conversion(tiff_paths, packerstation_path) # convert paths (from Packer1 or PackerStation) to local PackerStation paths\n",
    "# naparm_pstation = path_conversion(naparm_paths, packerstation_path)\n",
    "\n",
    "print(tiffs_pstation, naparm_pstation)"
   ]
  },
  {
   "cell_type": "code",
   "execution_count": 14,
   "metadata": {},
   "outputs": [
    {
     "name": "stdout",
     "output_type": "stream",
     "text": [
      "P:sarmstrong\\Data\\2019-06-26\\2019-06-26_t-005\\MPTIFF\n",
      "P:sarmstrong\\Data\\2019-06-26\\2019-06-26_t-005\\2019-06-26_t-005_BACKUP.xml\n",
      "P:sarmstrong\\Data\\2019-06-25\\RL048\\2019-06-24_RL048_NAPARM\\2019-06-25_RL048_NAPARM_003\\2019-06-25_RL048_NAPARM_003.xml\n",
      "P:sarmstrong\\Data\\2019-06-25\\RL048\\2019-06-24_RL048_NAPARM\\2019-06-25_RL048_NAPARM_003\\2019-06-25_RL048_NAPARM_003.gpl\n",
      "Number of frames: 27217 \n",
      "Number of planes: 1\n",
      "Frames per second: 24.519006361382644\n",
      "Frame averaging: 1\n",
      "Size (x): 1020\n",
      "Size (y): 626\n",
      "Imaging laser power: 248.717948717949\n",
      "Pixel size (x,y): 1.31338993281181 1.31338993281181\n",
      "Number of groups: 4 \n",
      "Number of sequence reps: 10 \n",
      "Number of shots: 1 \n",
      "Numbers of trials: 100 \n",
      "Inter-point delay: 5\n",
      "Repetitions: 1\n",
      "Single stim dur (ms): 10\n"
     ]
    }
   ],
   "source": [
    "pv_values, naparm_xml, naparm_gpl = getMetadata(tiffs_pstation, naparm_pstation)"
   ]
  },
  {
   "cell_type": "code",
   "execution_count": 15,
   "metadata": {},
   "outputs": [
    {
     "name": "stdout",
     "output_type": "stream",
     "text": [
      "P:sarmstrong\\Data\\2019-06-26\\2019-06-26_t-005\\MPTIFF\n"
     ]
    }
   ],
   "source": [
    "# obtain list of tiffs to run stim removal on\n",
    "\n",
    "tiff_lists = []\n",
    "\n",
    "# need to find single multi-page TIFF or many TIFFs/MPTIFFs\n",
    "\n",
    "for tiff in tiffs_pstation:\n",
    "    print(tiff)\n",
    "    \n",
    "    if '.tif' not in tiff or '.tiff' not in tiff: # if the path is not directly a TIFF, it may be folder with MPTIFF or multiple TIFFs/MPTIFFs\n",
    "        \n",
    "        items = os.listdir(tiff)\n",
    "        newlist = []\n",
    "        \n",
    "        for name in items:\n",
    "            if name.endswith(\".tiff\") or name.endswith(\".tif\"):\n",
    "                filename = os.path.join(tiff, name)\n",
    "                newlist.append(filename)\n",
    "        tiff_lists.append(newlist)\n",
    "        \n",
    "    else: # if provided path directs to TIFF file, make sure it is only one in folder\n",
    "        \n",
    "        tiff_count = 0\n",
    "        \n",
    "        parent_dir = os.path.dirname(tiff)\n",
    "        items = os.listdir(parent_dir)\n",
    "                \n",
    "        for name in items:\n",
    "            if name.endswith(\".tiff\") or name.endswith(\".tif\"):\n",
    "                tiff_count += 1\n",
    "        \n",
    "        if tiff_count > 1:\n",
    "            raise Exception('ERROR: make sure large, single TIFF files are in their own folder')\n",
    "        else: \n",
    "            tiff_lists.append(tiff)\n",
    "            \n",
    "photostim_tiffs = [tiff_lists[i] for i in photostim_idx] # only run artifact removal-specific code on photostim exps"
   ]
  },
  {
   "cell_type": "code",
   "execution_count": 17,
   "metadata": {},
   "outputs": [
    {
     "name": "stdout",
     "output_type": "stream",
     "text": [
      "P:sarmstrong\\Data\\2019-06-26\\2019-06-26_t-005\\MPTIFF\\2019-06-26_t-005_Cycle00001_Ch3.tif\n",
      "Whisker stim experiment\n"
     ]
    },
    {
     "data": {
      "text/plain": [
       "[{'data_path': ['P:sarmstrong\\\\Data\\\\2019-06-26\\\\2019-06-26_t-005\\\\MPTIFF'],\n",
       "  'fs': 24.519006361382644,\n",
       "  'diameter': (9, 9),\n",
       "  'batch_size': 82,\n",
       "  'nimg_init': 82,\n",
       "  'nplanes': 1}]"
      ]
     },
     "execution_count": 17,
     "metadata": {},
     "output_type": "execute_result"
    }
   ],
   "source": [
    "# important: data paths must be lists even if only one element\n",
    "# can also only run on specified tiffs\n",
    "\n",
    "user_batch_size = 200 # number of frames to be processed at once (i.e. registered)\n",
    "\n",
    "db = []\n",
    "\n",
    "for i,tiff_list in enumerate(tiff_lists):\n",
    "    print(tiff_list[0])\n",
    "    \n",
    "    if tiff_list in photostim_tiffs: # photostim experiments should have tiffs processed with artifact removed\n",
    "        print('Photostim experiment')\n",
    "        umbrella_folder = os.path.dirname(tiff_list[0])\n",
    "#         folder_name = path_finder(umbrella_folder, 'Artifact_removed',  is_folder=True) # find new folder containing artifact-removed data\n",
    "        folder_name = umbrella_folder\n",
    "    else: # whisker stim experiments\n",
    "        print('Whisker stim experiment')\n",
    "        umbrella_folder = os.path.dirname(tiff_list[0])\n",
    "#         folder_name = path_finder(umbrella_folder, 'Artifact_removed',  is_folder=True) # find new folder containing artifact-removed data\n",
    "        folder_name = umbrella_folder\n",
    "        \n",
    "#     tiff_list = []\n",
    "    \n",
    "#     for file in os.listdir(folder_name):\n",
    "#             if '.ome' not in file and '.tif' in file:\n",
    "#                 tiff_list.append(file) \n",
    "    \n",
    "#     tiff_list = sorted(tiff_list)\n",
    "    \n",
    "    fps = pv_values[i][0]\n",
    "    n_planes = pv_values[i][5]\n",
    "    pixel_x = pv_values[i][7]\n",
    "    pixel_y = pv_values[i][8]\n",
    "    frame_size = pv_values[i][2:4]\n",
    "    num_pixels = frame_size[0]*frame_size[1]\n",
    "    \n",
    "    sampling_rate = fps/n_planes\n",
    "    diameter_x = 13/pixel_x\n",
    "    diameter_y = 13/pixel_y\n",
    "    diameter = int(diameter_x), int(diameter_y)\n",
    "    batch_size = user_batch_size * (262144 / num_pixels) # larger frames will be more RAM intensive, scale user batch size based on num pixels in 512x512 images\n",
    "      \n",
    "    db.append({ 'data_path' : [folder_name], \n",
    "#               'tiff_list' : tiff_list,\n",
    "              'fs' : float(sampling_rate),\n",
    "              'diameter' : diameter, \n",
    "              'batch_size' : int(batch_size), \n",
    "              'nimg_init' : int(batch_size),\n",
    "              'nplanes' : n_planes\n",
    "              })\n",
    "    \n",
    "db"
   ]
  },
  {
   "cell_type": "code",
   "execution_count": 18,
   "metadata": {},
   "outputs": [
    {
     "name": "stdout",
     "output_type": "stream",
     "text": [
      "Found 1 tifs\n"
     ]
    },
    {
     "name": "stderr",
     "output_type": "stream",
     "text": [
      "C:\\ProgramData\\Anaconda3\\lib\\site-packages\\skimage\\external\\tifffile\\tifffile.py:1635: UserWarning: can not reshape (2000, 626, 1020) to (27217, 626, 1020)\n",
      "  warnings.warn(str(e))\n"
     ]
    },
    {
     "name": "stdout",
     "output_type": "stream",
     "text": [
      "27217\n",
      "time 3241.7584. Wrote tifs to binaries for 1 planes\n",
      "C:\\BIN\\suite2p\\plane0\\data_raw.bin\n",
      "computed reference frame for registration\n",
      "registered 410/27217 frames in time 104.37\n",
      "registered 820/27217 frames in time 207.28\n",
      "registered 1230/27217 frames in time 310.51\n",
      "registered 1640/27217 frames in time 413.71\n",
      "registered 2050/27217 frames in time 517.29\n",
      "registered 2460/27217 frames in time 620.10\n",
      "registered 2870/27217 frames in time 723.73\n",
      "registered 3280/27217 frames in time 826.88\n",
      "registered 3690/27217 frames in time 931.15\n",
      "registered 4100/27217 frames in time 1034.85\n",
      "registered 4510/27217 frames in time 1138.51\n",
      "registered 4920/27217 frames in time 1241.89\n",
      "registered 5330/27217 frames in time 1345.61\n",
      "registered 5740/27217 frames in time 1449.00\n",
      "registered 6150/27217 frames in time 1552.48\n",
      "registered 6560/27217 frames in time 1656.16\n",
      "registered 6970/27217 frames in time 1759.91\n",
      "registered 7380/27217 frames in time 1863.21\n",
      "registered 7790/27217 frames in time 1967.46\n",
      "registered 8200/27217 frames in time 2070.81\n",
      "registered 8610/27217 frames in time 2174.59\n",
      "registered 9020/27217 frames in time 2278.09\n",
      "registered 9430/27217 frames in time 2381.20\n",
      "registered 9840/27217 frames in time 2484.91\n",
      "registered 10250/27217 frames in time 2588.13\n",
      "registered 10660/27217 frames in time 2691.62\n",
      "registered 11070/27217 frames in time 2795.09\n",
      "registered 11480/27217 frames in time 2898.45\n",
      "registered 11890/27217 frames in time 3002.12\n",
      "registered 12300/27217 frames in time 3106.01\n",
      "registered 12710/27217 frames in time 3209.86\n",
      "registered 13120/27217 frames in time 3312.98\n",
      "registered 13530/27217 frames in time 3416.92\n",
      "registered 13940/27217 frames in time 3520.58\n",
      "registered 14350/27217 frames in time 3623.47\n",
      "registered 14760/27217 frames in time 3726.54\n",
      "registered 15170/27217 frames in time 3829.77\n",
      "registered 15580/27217 frames in time 3933.29\n",
      "registered 15990/27217 frames in time 4036.85\n",
      "registered 16400/27217 frames in time 4139.93\n",
      "registered 16810/27217 frames in time 4244.06\n",
      "registered 17220/27217 frames in time 4347.24\n",
      "registered 17630/27217 frames in time 4451.07\n",
      "registered 18040/27217 frames in time 4554.72\n",
      "registered 18450/27217 frames in time 4658.53\n",
      "registered 18860/27217 frames in time 4762.82\n",
      "registered 19270/27217 frames in time 4866.98\n",
      "registered 19680/27217 frames in time 4970.05\n",
      "registered 20090/27217 frames in time 5073.56\n",
      "registered 20500/27217 frames in time 5177.14\n",
      "registered 20910/27217 frames in time 5280.73\n",
      "registered 21320/27217 frames in time 5384.45\n",
      "registered 21730/27217 frames in time 5487.42\n",
      "registered 22140/27217 frames in time 5591.46\n",
      "registered 22550/27217 frames in time 5695.18\n",
      "registered 22960/27217 frames in time 5798.73\n",
      "registered 23370/27217 frames in time 5902.95\n",
      "registered 23780/27217 frames in time 6006.33\n",
      "registered 24190/27217 frames in time 6109.96\n",
      "registered 24600/27217 frames in time 6213.56\n",
      "registered 25010/27217 frames in time 6317.78\n",
      "registered 25420/27217 frames in time 6421.79\n",
      "registered 25830/27217 frames in time 6525.74\n",
      "registered 26240/27217 frames in time 6629.19\n",
      "registered 26650/27217 frames in time 6732.63\n",
      "registered 27060/27217 frames in time 6836.25\n",
      "computed registration metrics in time 7273.89\n",
      "time 10779.0173. Registration complete for 1 planes\n",
      "[9 9]\n",
      "nt0=49\n",
      "(555, 621, 1015)\n",
      "6.0\n",
      "ROIs: 200, cost: 0.4612, time: 90.6951\n",
      "ROIs: 400, cost: 0.4478, time: 101.3504\n",
      "ROIs: 600, cost: 0.4381, time: 112.4632\n",
      "ROIs: 800, cost: 0.4298, time: 124.6258\n",
      "ROIs: 1000, cost: 0.4228, time: 137.4201\n",
      "ROIs: 1200, cost: 0.4166, time: 151.8097\n",
      "ROIs: 1400, cost: 0.4108, time: 167.2530\n",
      "ROIs: 1600, cost: 0.4055, time: 183.9212\n",
      "ROIs: 1707, cost: 0.4026, time: 200.9899\n",
      "ROIs: 1714, cost: 0.4022, time: 216.9346\n",
      "nt0=49\n",
      "(555, 621, 1015)\n",
      "ROIs: 1714, cost: 0.4872, time: 294.2921\n",
      "removed 16 overlapping ROIs\n",
      "ROIs: 1698, cost: 0.4651, time: 318.9471\n",
      "ROIs: 1698, cost: 0.4635, time: 326.9737\n",
      "time 348.3431. Found 1698 ROIs\n",
      "extracted 0/27217 frames in 9.93 sec\n",
      "extracted 5000/27217 frames in 58.91 sec\n",
      "extracted 10000/27217 frames in 107.80 sec\n",
      "extracted 15000/27217 frames in 156.89 sec\n",
      "extracted 20000/27217 frames in 206.50 sec\n",
      "extracted 25000/27217 frames in 257.09 sec\n",
      "extracted 27217/27217 frames in 270.32 sec\n",
      "time 648.6572. Extracted fluorescence from 1698 ROIs\n",
      "results saved to P:sarmstrong\\Data\\2019-06-26\\2019-06-26_t-005\\MPTIFF\\suite2p\\plane0\n",
      "time 11626.9325. Detected spikes in 1698 ROIs\n",
      "C:\\ProgramData\\Anaconda3\\lib\\site-packages\\suite2p\\classifiers/classifier_user.npy\n",
      "finished all tasks in total time 11668.0516 sec\n"
     ]
    },
    {
     "data": {
      "text/plain": [
       "11668.217411518097"
      ]
     },
     "execution_count": 18,
     "metadata": {},
     "output_type": "execute_result"
    }
   ],
   "source": [
    "t1 = time.time()\n",
    "\n",
    "for dbi in db:\n",
    "    opsEnd = run_s2p(ops=ops,db=dbi)\n",
    "    \n",
    "t2 = time.time()\n",
    "t2 - t1"
   ]
  }
 ],
 "metadata": {
  "kernelspec": {
   "display_name": "Python 3",
   "language": "python",
   "name": "python3"
  },
  "language_info": {
   "codemirror_mode": {
    "name": "ipython",
    "version": 3
   },
   "file_extension": ".py",
   "mimetype": "text/x-python",
   "name": "python",
   "nbconvert_exporter": "python",
   "pygments_lexer": "ipython3",
   "version": "3.7.3"
  }
 },
 "nbformat": 4,
 "nbformat_minor": 2
}
