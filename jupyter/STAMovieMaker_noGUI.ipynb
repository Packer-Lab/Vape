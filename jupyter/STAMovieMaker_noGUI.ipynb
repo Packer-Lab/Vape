{
 "cells": [
  {
   "cell_type": "code",
   "execution_count": 2,
   "metadata": {},
   "outputs": [],
   "source": [
    "import os\n",
    "import sys\n",
    "sys.path.append(os.path.expanduser('~/Documents/Code/Vape'))\n",
    "\n",
    "import utils.STAMovieMaker_noGUI as STAMM"
   ]
  },
  {
   "cell_type": "markdown",
   "metadata": {},
   "source": [
    "### Define QNAP and save path"
   ]
  },
  {
   "cell_type": "code",
   "execution_count": 5,
   "metadata": {},
   "outputs": [
    {
     "name": "stdout",
     "output_type": "stream",
     "text": [
      "QNAP_path: /home/rlees/mnt/qnap \n",
      "STA movie save path: /home/rlees/mnt/qnap/Analysis/STA_movies\n"
     ]
    }
   ],
   "source": [
    "qnap_path = os.path.expanduser('~/mnt/qnap')\n",
    "\n",
    "stam_save_path = os.path.join(qnap_path, 'Analysis', 'STA_movies')\n",
    "\n",
    "print('QNAP_path:', qnap_path,\n",
    "      '\\nSTA movie save path:', stam_save_path)"
   ]
  },
  {
   "cell_type": "markdown",
   "metadata": {},
   "source": [
    "### Define settings and check image/paq paths for STAMovieMaker"
   ]
  },
  {
   "cell_type": "code",
   "execution_count": 3,
   "metadata": {},
   "outputs": [
    {
     "name": "stdout",
     "output_type": "stream",
     "text": [
      "Movie_path: /home/rlees/mnt/qnap/Analysis/STA_movies/Temp_files/2020-03-20_RL080_t-002.bin \n",
      "Sync_path: /home/rlees/mnt/qnap/Analysis/STA_movies/Temp_files/2020-03-20_RL080_t-002.paq\n"
     ]
    }
   ],
   "source": [
    "temp_folder = os.path.join(stam_save_path, 'Temp_files')\n",
    "temp_file_list = os.listdir(temp_folder)\n",
    "\n",
    "for file in temp_file_list:\n",
    "    if any(s in file for s in ['.bin', '.tif']):\n",
    "        movie_path = os.path.join(temp_folder, file)\n",
    "    elif '.paq' in file:\n",
    "        sync_path = os.path.join(temp_folder, file)\n",
    "        \n",
    "print('Movie_path:', movie_path,\n",
    "      '\\nSync_path:', sync_path)\n",
    "\n",
    "arg_dict = {'moviePath' : movie_path, # hard-code this\n",
    "            'savePath' : stam_save_path,\n",
    "            'syncFrameChannel' : 'frame_clock',\n",
    "            'syncStimChannel' : 'piezo_stim',\n",
    "            'syncStartSec' : 0,\n",
    "            'syncStopSec' : 0,\n",
    "            'numDiffStims' : 1,\n",
    "            'startOnStim' : 1,\n",
    "            'everyXStims' : 1,\n",
    "            'preSeconds' : 1,\n",
    "            'postSeconds' : 3,\n",
    "            'frameRate' : 15,\n",
    "            'averageImageStart' : 0.5,\n",
    "            'averageImageStop' : 1.5,\n",
    "            'methodDF' : False,\n",
    "            'methodDFF' : True,\n",
    "            'methodZscore' : False,\n",
    "            'syncPath' : sync_path,\n",
    "            'zPlanes' : 1,\n",
    "            'useStimOrder' : False,\n",
    "            'stimOrder' : [],\n",
    "            'useSingleTrials' : False,\n",
    "            'doThreshold' : False,\n",
    "            'threshold' : 0,\n",
    "            'colourByTime' : False,\n",
    "            'useCorrelationImage' : False,\n",
    "            'blurHandS' : False,\n",
    "            'makeMaxImage' : True,\n",
    "            'makeColourImage' : False\n",
    "           }"
   ]
  },
  {
   "cell_type": "markdown",
   "metadata": {},
   "source": [
    "### Run STAMovieMaker"
   ]
  },
  {
   "cell_type": "code",
   "execution_count": 4,
   "metadata": {},
   "outputs": [
    {
     "name": "stdout",
     "output_type": "stream",
     "text": [
      "Loading sync file\n",
      "Loading movie\n",
      "Plane 1 of 1. Stim 1 of 1 (100 trials)\n",
      "Plane 1 of 1. Stim 1 of 1 (100 trials) - Raw\n",
      "Plane 1 of 1. Stim 1 of 1 (100 trials) - dFF\n"
     ]
    }
   ],
   "source": [
    "STAMM.STAMovieMaker(arg_dict);"
   ]
  }
 ],
 "metadata": {
  "kernelspec": {
   "display_name": "Python 3",
   "language": "python",
   "name": "python3"
  },
  "language_info": {
   "codemirror_mode": {
    "name": "ipython",
    "version": 3
   },
   "file_extension": ".py",
   "mimetype": "text/x-python",
   "name": "python",
   "nbconvert_exporter": "python",
   "pygments_lexer": "ipython3",
   "version": "3.7.4"
  }
 },
 "nbformat": 4,
 "nbformat_minor": 4
}
