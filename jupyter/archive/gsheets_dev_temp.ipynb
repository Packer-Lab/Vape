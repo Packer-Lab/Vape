{
 "cells": [
  {
   "cell_type": "code",
   "execution_count": null,
   "metadata": {},
   "outputs": [],
   "source": [
    "#ipython magic\n",
    "%reset -f\n",
    "%matplotlib notebook\n",
    "%load_ext autoreload\n",
    "%autoreload 2"
   ]
  },
  {
   "cell_type": "code",
   "execution_count": null,
   "metadata": {},
   "outputs": [],
   "source": [
    "import sys\n",
    "sys.path.append(r'C:\\Users\\Robert Lees\\Documents\\Code\\Vape\\suite2p_etc')\n",
    "sys.path.append('..')\n",
    "\n",
    "import numpy as np\n",
    "import os\n",
    "import time\n",
    "\n",
    "from utils.gsheets_importer import gsheet2df, correct_behaviour_df, split_df, df_bool, df_col, path_conversion\n",
    "from utils.utils_funcs import *\n",
    "from utils.paq2py import *\n",
    "import tifffile\n",
    "\n",
    "import matplotlib.pyplot as plt\n",
    "\n",
    "import suite2p\n",
    "print(suite2p.__path__)\n",
    "from suite2p.run_s2p import run_s2p\n",
    "from settings import ops\n",
    "\n",
    "import matplotlib.pyplot as plt"
   ]
  },
  {
   "cell_type": "code",
   "execution_count": null,
   "metadata": {
    "collapsed": true
   },
   "outputs": [],
   "source": [
    "# spreadsheet settings\n",
    "\n",
    "#the name of the file path column\n",
    "t_series_header = 'Path (file or folder)'\n",
    "paq_header = '.paq file'\n",
    "naparm_header = 'NAPARM path'\n",
    "\n",
    "#column telling whether to analyse or not\n",
    "suite2p_bool_header = 'Suite2p_me'"
   ]
  },
  {
   "cell_type": "code",
   "execution_count": null,
   "metadata": {
    "collapsed": true
   },
   "outputs": [],
   "source": [
    "sheet_ID = '1PgSXs6BVHe9dACWEydykucN74rirNfOY4Vr_AmLcCdY'\n",
    "mouse_name = 'RL042'\n",
    "date = '2019-05-15_'\n",
    "SHEET_NAME = date + mouse_name + '!A3:Z69'\n",
    "\n",
    "df = gsheet2df(sheet_ID, HEADER_ROW=2, SHEET_NAME=SHEET_NAME)\n",
    "df\n",
    "\n",
    "# RL in future we should change Suite2p_me to FALSE once it has been run"
   ]
  },
  {
   "cell_type": "code",
   "execution_count": null,
   "metadata": {
    "collapsed": true
   },
   "outputs": [],
   "source": [
    "analyse_idx = df.index[df[suite2p_bool_header]=='TRUE']\n",
    "tseries_paths = [df.loc[idx,t_series_header] for idx in analyse_idx]\n",
    "paq_paths = [df.loc[idx,paq_header] for idx in analyse_idx]\n",
    "sampling_rates = [df.loc[idx,'~FPS'] for idx in analyse_idx]\n",
    "zoom = [df.loc[idx,'Zoom'] for idx in analyse_idx]\n",
    "# naparm_paths = [df.loc[idx,naparm_header] for idx in analyse_idx]\n",
    "\n",
    "print(tseries_paths)\n",
    "print(paq_paths)\n",
    "print(sampling_rates)\n",
    "print(zoom)"
   ]
  },
  {
   "cell_type": "code",
   "execution_count": null,
   "metadata": {
    "collapsed": true
   },
   "outputs": [],
   "source": [
    "packerstation_path = r\"P:\"\n",
    "\n",
    "tseries_pstation = path_conversion(tseries_paths, packerstation_path)\n",
    "paqs_pstation = path_conversion(paq_paths, packerstation_path)\n",
    "# naparms_pstation = path_conversion(naparm_paths)\n",
    "\n",
    "print(tseries_pstation)\n",
    "print(paqs_pstation)"
   ]
  },
  {
   "cell_type": "code",
   "execution_count": null,
   "metadata": {},
   "outputs": [],
   "source": [
    "#set paths to tiff here, any settings set here will overwrite ops settings, meaning we can set\n",
    "#different cell sizes with different zooms here.\n",
    "#JR added parameter has_stim = whether to remove photostim artifact\n",
    "\n",
    "#important: data paths must be lists even if only one element\n",
    "\n",
    "# only run on specified tiffs\n",
    "db = []\n",
    "\n",
    "for i,folder_name in enumerate(tseries_pstation):\n",
    "\n",
    "#     tiff_list = []\n",
    "    \n",
    "#     for file in os.listdir(folder_name):\n",
    "#             if '.ome' not in file and '.tif' in file:\n",
    "#                 tiff_list.append(file) \n",
    "    \n",
    "#     tiff_list = sorted(tiff_list)\n",
    "    \n",
    "    if float(zoom[i]) < 2:\n",
    "        diameter = 10\n",
    "        batch_size = 200 # this should be eventually decided based on image size (in pixels) as a proxy of file size, also depends on CPU capacity\n",
    "        \n",
    "    if float(zoom[i]) == 2:\n",
    "        diameter = 12\n",
    "        batch_size = 500\n",
    "        \n",
    "#     db.append( { 'data_path' : ['P:\\\\\\\\sarmstrong\\\\Data\\\\2019-05-15\\\\RL042\\\\2019-05-15_t-003'],\n",
    "#            'has_stim' : False} )\n",
    "\n",
    "    db.append({ 'data_path' : [folder_name], \n",
    "#               'tiff_list' : tiff_list,\n",
    "              'fs' : int(sampling_rates[i])/3,\n",
    "              'diameter' : diameter, \n",
    "              'batch_size' : batch_size, \n",
    "              'nimg_init' : batch_size\n",
    "              })\n",
    "    \n",
    "db"
   ]
  },
  {
   "cell_type": "code",
   "execution_count": null,
   "metadata": {},
   "outputs": [],
   "source": [
    "t1 = time.time()\n",
    "\n",
    "for dbi in db:\n",
    "#     if dbi['has_stim']:\n",
    "#         dbi = process_stim_artefact(db=dbi,threshold=1.3, interpolate=False)\n",
    "    opsEnd = run_s2p(ops=ops,db=dbi)\n",
    "    \n",
    "t2 = time.time()\n",
    "t2 - t1"
   ]
  }
 ],
 "metadata": {
  "kernelspec": {
   "display_name": "Python 3",
   "language": "python",
   "name": "python3"
  },
  "language_info": {
   "codemirror_mode": {
    "name": "ipython",
    "version": 3
   },
   "file_extension": ".py",
   "mimetype": "text/x-python",
   "name": "python",
   "nbconvert_exporter": "python",
   "pygments_lexer": "ipython3",
   "version": "3.7.3"
  }
 },
 "nbformat": 4,
 "nbformat_minor": 2
}
