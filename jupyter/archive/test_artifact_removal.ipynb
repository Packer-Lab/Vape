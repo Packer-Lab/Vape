{
 "cells": [
  {
   "cell_type": "code",
   "execution_count": 1,
   "metadata": {},
   "outputs": [
    {
     "name": "stderr",
     "output_type": "stream",
     "text": [
      "ERROR:root:Invalid alias: The name clear can't be aliased because it is another magic command.\n",
      "ERROR:root:Invalid alias: The name more can't be aliased because it is another magic command.\n",
      "ERROR:root:Invalid alias: The name less can't be aliased because it is another magic command.\n",
      "ERROR:root:Invalid alias: The name man can't be aliased because it is another magic command.\n"
     ]
    }
   ],
   "source": [
    "#ipython magic\n",
    "%reset -f\n",
    "%matplotlib notebook\n",
    "%load_ext autoreload\n",
    "%autoreload 2"
   ]
  },
  {
   "cell_type": "code",
   "execution_count": 2,
   "metadata": {},
   "outputs": [],
   "source": [
    "#general imports\n",
    "import sys\n",
    "sys.path.append('..')\n",
    "import os\n",
    "import matplotlib.pyplot as plt\n",
    "import seaborn as sns\n",
    "import numpy as np\n",
    "import math\n",
    "import time"
   ]
  },
  {
   "cell_type": "code",
   "execution_count": 3,
   "metadata": {},
   "outputs": [],
   "source": [
    "sys.path.append('/home/jamesrowland/Documents/Code/Vape')"
   ]
  },
  {
   "cell_type": "code",
   "execution_count": 4,
   "metadata": {},
   "outputs": [],
   "source": [
    "#notebook specific imports\n",
    "from utils.artifact_removal import artifact_removal\n",
    "from utils.utils_funcs import threshold_detect, stim_start_frame, paq_data\n",
    "import tifffile\n",
    "from utils.paq2py import paq_read\n",
    "import copy\n"
   ]
  },
  {
   "cell_type": "code",
   "execution_count": 5,
   "metadata": {},
   "outputs": [],
   "source": [
    "#global plotting params\n",
    "params = {'legend.fontsize': 'x-large',\n",
    "         'axes.labelsize': 'x-large',\n",
    "         'axes.titlesize':'x-large',\n",
    "         'xtick.labelsize':'x-large',\n",
    "         'ytick.labelsize':'x-large'}\n",
    "plt.rcParams.update(params)\n",
    "sns.set()\n",
    "sns.set_style('white')"
   ]
  },
  {
   "cell_type": "code",
   "execution_count": 6,
   "metadata": {},
   "outputs": [],
   "source": [
    "# tiff_path = r'/home/jamesrowland/Documents/packerstation/rlees/Data/2019-04-25/RL036/2019-04-25_RL036_t-001/2019-04-25_RL036_t-001_Cycle00001_Ch3.tif'\n",
    "# naparm_path = r'/home/jamesrowland/Documents/packerstation/rlees/Data/2019-04-25/RL036/2019-04-25_RL036_NAPARM'\n",
    "# paq_path = r'/home/jamesrowland/Documents/packerstation/rlees/Data/2019-04-25/RL036/2019-04-25_RL036_t-001.paq'"
   ]
  },
  {
   "cell_type": "code",
   "execution_count": 7,
   "metadata": {},
   "outputs": [],
   "source": [
    "tiff_path = '/home/jamesrowland/Documents/packerstation/jrowland/Data/2019-06-29/2019-06-29_J048_t-001/2019-06-29_J048_t-001_Cycle00001_Ch3.tif'\n",
    "#naparm_path = \n",
    "paq_path = '/home/jamesrowland/Documents/packerstation/jrowland/Data/2019-06-29/2019-06-29_J048_t001.paq'"
   ]
  },
  {
   "cell_type": "code",
   "execution_count": null,
   "metadata": {},
   "outputs": [],
   "source": []
  },
  {
   "cell_type": "code",
   "execution_count": null,
   "metadata": {},
   "outputs": [],
   "source": []
  },
  {
   "cell_type": "code",
   "execution_count": null,
   "metadata": {},
   "outputs": [],
   "source": []
  },
  {
   "cell_type": "code",
   "execution_count": null,
   "metadata": {},
   "outputs": [],
   "source": []
  },
  {
   "cell_type": "code",
   "execution_count": 8,
   "metadata": {},
   "outputs": [
    {
     "data": {
      "text/plain": [
       "(5228, 512, 512)"
      ]
     },
     "execution_count": 8,
     "metadata": {},
     "output_type": "execute_result"
    }
   ],
   "source": [
    "stack = tifffile.imread(tiff_path)\n",
    "#stack = stack[0:1000,:,:]\n",
    "stack_original = copy.deepcopy(stack)\n",
    "stack.shape"
   ]
  },
  {
   "cell_type": "code",
   "execution_count": 9,
   "metadata": {},
   "outputs": [
    {
     "data": {
      "text/plain": [
       "array([ 511409,  532163,  552248,  573002,  593754,  613839,  634594,\n",
       "        654676,  675431,  695516,  716268,  736353,  757107,  777192,\n",
       "        797944,  818029,  838784,  859536,  879621,  900375,  920458,\n",
       "        941213,  961298,  982052, 1002135, 1022889, 1042974, 1063726,\n",
       "       1083811, 1104566, 1125318, 1145403, 1166157, 1186240, 1206994,\n",
       "       1227080, 1247834, 1267917, 1288671, 1308756, 1329508, 1349593,\n",
       "       1370348, 1391100, 1411185, 1431940, 1452022, 1472777, 1492862,\n",
       "       1513614, 1533699, 1554453, 1574536, 1595291, 1615376, 1636128,\n",
       "       1656882, 1676967, 1697722, 1717804, 1738559, 1758644, 1779396,\n",
       "       1799481, 1820236, 1840318, 1861073, 1881158, 1901910, 1922665,\n",
       "       1942750, 1963502, 1983587, 2004342, 2024424, 2045179, 2065264,\n",
       "       2086016, 2106101, 2126856, 2147608, 2167693, 2188448, 2208530,\n",
       "       2229285, 2249370, 2270122, 2290207, 2310962, 2331044, 2351799,\n",
       "       2371884, 2392636, 2412721, 2433476, 2454228, 2474313, 2495068,\n",
       "       2515150, 2535905, 2555990, 2576742, 2596827, 2617579, 2637664,\n",
       "       2658419, 2678502, 2699256, 2720011, 2740093, 2760848, 2780933,\n",
       "       2801685, 2821770, 2842525, 2862608, 2883362, 2903447, 2924199,\n",
       "       2944285, 2965039, 2985791, 3005877, 3026631, 3046714, 3067468,\n",
       "       3087554, 3108306, 3128391, 3149145, 3169228, 3189983, 3210735,\n",
       "       3230820, 3251575, 3271657, 3292412, 3312497, 3333249, 3353334,\n",
       "       3374089, 3394172, 3414926, 3435011, 3455763, 3476518, 3496603,\n",
       "       3517355, 3537441, 3558193, 3578278, 3599033, 3619115, 3639870,\n",
       "       3659955, 3680707, 3700792, 3721547, 3741630, 3762384])"
      ]
     },
     "execution_count": 9,
     "metadata": {},
     "output_type": "execute_result"
    }
   ],
   "source": [
    "paq = paq_read(paq_path)\n",
    "stim_frames = stim_start_frame(paq, 'markpoints2packio')\n",
    "frame_clock = paq_data(paq, 'frame_clock', threshold_ttl=True)\n",
    "stim_frames"
   ]
  },
  {
   "cell_type": "code",
   "execution_count": 10,
   "metadata": {},
   "outputs": [],
   "source": [
    "duration_ms = 250 #length of stim\n",
    "duration_samples = (duration_ms / 1000) * paq['rate']"
   ]
  },
  {
   "cell_type": "code",
   "execution_count": 11,
   "metadata": {},
   "outputs": [],
   "source": [
    "#use this to remove frames during stim based on paq\n",
    "to_remove = []\n",
    "\n",
    "for stim_frame in stim_frames: \n",
    "\n",
    "    # frame indexes that fall during the stim\n",
    "    in_stim = np.where((frame_clock >= stim_frame) & (frame_clock <= stim_frame + duration_samples))[0]\n",
    "    \n",
    "    #empircal observation, these are the frames with artifact\n",
    "    in_stim = np.append(in_stim, in_stim[-1]+1)\n",
    "    in_stim = np.append(in_stim, in_stim[-1]+1)\n",
    "    \n",
    "    to_remove.append(in_stim)\n",
    "\n",
    "to_remove = np.ravel(to_remove)"
   ]
  },
  {
   "cell_type": "code",
   "execution_count": 12,
   "metadata": {},
   "outputs": [],
   "source": [
    "# this just chops the frames out without artifact removal\n",
    "\n",
    "stack_removed = np.delete(stack, to_remove, axis=0)\n",
    "tifffile.imwrite('test_removed.tiff', stack_removed)\n",
    "tifffile.imwrite('test.tiff', stack_original)"
   ]
  },
  {
   "cell_type": "code",
   "execution_count": 13,
   "metadata": {},
   "outputs": [
    {
     "data": {
      "text/plain": [
       "(5228, 512, 512)"
      ]
     },
     "execution_count": 13,
     "metadata": {},
     "output_type": "execute_result"
    }
   ],
   "source": [
    "stack.shape"
   ]
  },
  {
   "cell_type": "code",
   "execution_count": 14,
   "metadata": {},
   "outputs": [
    {
     "ename": "ZeroDivisionError",
     "evalue": "division by zero",
     "output_type": "error",
     "traceback": [
      "\u001b[0;31m---------------------------------------------------------------------------\u001b[0m",
      "\u001b[0;31mZeroDivisionError\u001b[0m                         Traceback (most recent call last)",
      "\u001b[0;32m<ipython-input-14-9e1622b385b6>\u001b[0m in \u001b[0;36m<module>\u001b[0;34m\u001b[0m\n\u001b[0;32m----> 1\u001b[0;31m \u001b[0;36m1\u001b[0m\u001b[0;34m/\u001b[0m\u001b[0;36m0\u001b[0m\u001b[0;34m\u001b[0m\u001b[0;34m\u001b[0m\u001b[0m\n\u001b[0m",
      "\u001b[0;31mZeroDivisionError\u001b[0m: division by zero"
     ]
    }
   ],
   "source": [
    "1/0"
   ]
  },
  {
   "cell_type": "code",
   "execution_count": null,
   "metadata": {},
   "outputs": [],
   "source": []
  },
  {
   "cell_type": "code",
   "execution_count": null,
   "metadata": {},
   "outputs": [],
   "source": []
  },
  {
   "cell_type": "code",
   "execution_count": null,
   "metadata": {},
   "outputs": [],
   "source": []
  },
  {
   "cell_type": "code",
   "execution_count": null,
   "metadata": {},
   "outputs": [],
   "source": []
  },
  {
   "cell_type": "code",
   "execution_count": null,
   "metadata": {},
   "outputs": [],
   "source": []
  },
  {
   "cell_type": "code",
   "execution_count": null,
   "metadata": {},
   "outputs": [],
   "source": [
    "t1 = time.time()\n",
    "\n",
    "to_remove = [i for i in to_remove if i < stack.shape[0]]\n",
    "\n",
    "stack_removed = artifact_removal(stack, remove_me=to_remove, width_thresh=5)\n",
    "\n",
    "t2 = time.time()\n",
    "\n",
    "t2-t1"
   ]
  },
  {
   "cell_type": "code",
   "execution_count": null,
   "metadata": {},
   "outputs": [],
   "source": [
    "\n",
    "tifffile.imwrite('test_removed.tiff', stack_removed)\n",
    "tifffile.imwrite('test.tiff', stack_original)"
   ]
  },
  {
   "cell_type": "code",
   "execution_count": null,
   "metadata": {},
   "outputs": [],
   "source": [
    "1/0"
   ]
  },
  {
   "cell_type": "code",
   "execution_count": null,
   "metadata": {},
   "outputs": [],
   "source": []
  },
  {
   "cell_type": "code",
   "execution_count": null,
   "metadata": {},
   "outputs": [],
   "source": []
  },
  {
   "cell_type": "code",
   "execution_count": null,
   "metadata": {},
   "outputs": [],
   "source": []
  },
  {
   "cell_type": "code",
   "execution_count": null,
   "metadata": {},
   "outputs": [],
   "source": []
  },
  {
   "cell_type": "code",
   "execution_count": null,
   "metadata": {},
   "outputs": [],
   "source": [
    "len(to_remove)"
   ]
  },
  {
   "cell_type": "code",
   "execution_count": null,
   "metadata": {},
   "outputs": [],
   "source": [
    "to_remove "
   ]
  },
  {
   "cell_type": "code",
   "execution_count": null,
   "metadata": {},
   "outputs": [],
   "source": [
    "from artifact_removal import artifact_removal\n",
    "import tifffile\n",
    "\n",
    "stack = tifffile.imread(path_to_stack)\n",
    "remove_me = list_of_frames_with_artifact_in\n",
    "\n",
    "cleaned_stack = artifact_removal(stack, remove_me=remove_me, width_thresh=5)\n"
   ]
  },
  {
   "cell_type": "code",
   "execution_count": null,
   "metadata": {},
   "outputs": [],
   "source": []
  },
  {
   "cell_type": "code",
   "execution_count": null,
   "metadata": {},
   "outputs": [],
   "source": []
  },
  {
   "cell_type": "code",
   "execution_count": null,
   "metadata": {},
   "outputs": [],
   "source": []
  },
  {
   "cell_type": "code",
   "execution_count": null,
   "metadata": {},
   "outputs": [],
   "source": [
    "(60/500) * 1000"
   ]
  }
 ],
 "metadata": {
  "kernelspec": {
   "display_name": "Python 3",
   "language": "python",
   "name": "python3"
  },
  "language_info": {
   "codemirror_mode": {
    "name": "ipython",
    "version": 3
   },
   "file_extension": ".py",
   "mimetype": "text/x-python",
   "name": "python",
   "nbconvert_exporter": "python",
   "pygments_lexer": "ipython3",
   "version": "3.7.3"
  }
 },
 "nbformat": 4,
 "nbformat_minor": 2
}
