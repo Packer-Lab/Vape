{
 "cells": [
  {
   "cell_type": "code",
   "execution_count": 3,
   "metadata": {},
   "outputs": [],
   "source": [
    "#ipython magic\n",
    "#%reset -f\n",
    "%matplotlib inline \n",
    "%load_ext autoreload\n",
    "%autoreload 2"
   ]
  },
  {
   "cell_type": "code",
   "execution_count": 4,
   "metadata": {},
   "outputs": [],
   "source": [
    "# general imports\n",
    "import sys\n",
    "import os\n",
    "import numpy as np\n",
    "import matplotlib.pyplot as plt\n",
    "import seaborn as sns\n",
    "import copy"
   ]
  },
  {
   "cell_type": "code",
   "execution_count": 5,
   "metadata": {},
   "outputs": [],
   "source": [
    "## put your path to your vape repo here \n",
    "path_to_vape = '/home/jamesrowland/Documents/Code/Vape/'\n",
    "sys.path.append(path_to_vape)\n",
    "sys.path.append(os.path.join(path_to_vape, 'utils'))"
   ]
  },
  {
   "cell_type": "code",
   "execution_count": 6,
   "metadata": {},
   "outputs": [],
   "source": [
    "#global plotting params\n",
    "sns.set()\n",
    "sns.set_style('white')\n",
    "sns.set_palette('muted')\n",
    "params = {'legend.fontsize': 'x-large',\n",
    "         'axes.labelsize': 'x-large',\n",
    "         'axes.titlesize':'x-large',\n",
    "         'xtick.labelsize':'x-large',\n",
    "         'ytick.labelsize':'x-large'}\n",
    "plt.rcParams.update(params)\n"
   ]
  },
  {
   "cell_type": "code",
   "execution_count": 7,
   "metadata": {},
   "outputs": [],
   "source": [
    "#notebook specific imports\n",
    "import pickle\n",
    "import time\n",
    "import utils.utils_funcs as utils\n",
    "from matplotlib.widgets import Lasso\n",
    "from matplotlib.collections import RegularPolyCollection\n",
    "from matplotlib import colors as mcolors, path\n",
    "from utils.paq2py import paq_read\n",
    "from utils.rsync_aligner import Rsync_aligner\n",
    "from utils.data_import import Session"
   ]
  },
  {
   "cell_type": "code",
   "execution_count": 8,
   "metadata": {},
   "outputs": [],
   "source": [
    "with open('/home/jamesrowland/Documents/Code/Vape/run_pkls/J048/run19.pkl', 'rb') as f:\n",
    "    run = pickle.load(f)"
   ]
  },
  {
   "cell_type": "code",
   "execution_count": 9,
   "metadata": {},
   "outputs": [],
   "source": [
    "figure_path = '/home/jamesrowland/Documents/Code/Vape/figures/s1s2_imaging_subsets_prototype'"
   ]
  },
  {
   "cell_type": "code",
   "execution_count": 10,
   "metadata": {},
   "outputs": [],
   "source": [
    "#correct_s2p_combined(run.s2p_path)\n",
    "#combined_path = os.path.join(run.s2p_path, 'combined')\n",
    "# combined_path = '/home/jamesrowland/Documents/packerstation/jrowland/'\\\n",
    "#                 'Data/2019-07-09/2019-07-09_J048_t-003/suite2p/combined'\n",
    "\n",
    "\n",
    "combined_path = '/home/jamesrowland/Documents/packerstation/jrowland/Data/'\\\n",
    "                '2019-08-03/2019-08-03_RL048_t-004/suite2p/combined'"
   ]
  },
  {
   "cell_type": "code",
   "execution_count": 11,
   "metadata": {},
   "outputs": [
    {
     "name": "stdout",
     "output_type": "stream",
     "text": [
      "Loading 6394 traces labelled as cells\n",
      "Subtracting neuropil with a coefficient of 0.7\n"
     ]
    },
    {
     "data": {
      "text/plain": [
       "(6394, 17958)"
      ]
     },
     "execution_count": 11,
     "metadata": {},
     "output_type": "execute_result"
    }
   ],
   "source": [
    "flu, spks, stat = utils.s2p_loader(combined_path, subtract_neuropil=True)\n",
    "flu = utils.dfof2(flu)\n",
    "flu.shape"
   ]
  },
  {
   "cell_type": "code",
   "execution_count": 10,
   "metadata": {},
   "outputs": [],
   "source": [
    "plane0 = []\n",
    "for i,s in enumerate(stat):\n",
    "    if s['iplane'] == 0:\n",
    "        plane0.append(i)     "
   ]
  },
  {
   "cell_type": "code",
   "execution_count": 11,
   "metadata": {},
   "outputs": [
    {
     "data": {
      "text/plain": [
       "(1349, 15021)"
      ]
     },
     "execution_count": 11,
     "metadata": {},
     "output_type": "execute_result"
    }
   ],
   "source": [
    "# just take the first plane\n",
    "flu = flu[plane0,:]\n",
    "stat = stat[plane0]\n",
    "flu.shape"
   ]
  },
  {
   "cell_type": "code",
   "execution_count": 12,
   "metadata": {},
   "outputs": [],
   "source": [
    "s2_cells = []\n",
    "for i,s in enumerate(stat):\n",
    "    if s['med'][1] > 684:\n",
    "        s2_cells.append(i)"
   ]
  },
  {
   "cell_type": "code",
   "execution_count": 38,
   "metadata": {},
   "outputs": [
    {
     "data": {
      "text/plain": [
       "(1349, 15021)"
      ]
     },
     "execution_count": 38,
     "metadata": {},
     "output_type": "execute_result"
    }
   ],
   "source": [
    "s2_only = False\n",
    "\n",
    "if s2_only:\n",
    "    flu = flu[s2_cells,:]\n",
    "    stat = stat[s2_cells]\n",
    "flu.shape"
   ]
  },
  {
   "cell_type": "code",
   "execution_count": 14,
   "metadata": {},
   "outputs": [],
   "source": [
    "assert sum(run.num_frames) == flu.shape[1] * 3 # change if not three planes"
   ]
  },
  {
   "cell_type": "code",
   "execution_count": 16,
   "metadata": {},
   "outputs": [
    {
     "data": {
      "text/plain": [
       "[13548, 13548, 13548, 4419]"
      ]
     },
     "execution_count": 16,
     "metadata": {},
     "output_type": "execute_result"
    }
   ],
   "source": [
    "# the lengths of the actual tseries\n",
    "tseries_lens = run.num_frames\n",
    "tseries_lens"
   ]
  },
  {
   "cell_type": "code",
   "execution_count": 17,
   "metadata": {},
   "outputs": [],
   "source": [
    "# get the frames that actually correspond to analysed tseries\n",
    "paqio_frames = utils.tseries_finder(tseries_lens, run.frame_clock)"
   ]
  },
  {
   "cell_type": "code",
   "execution_count": 18,
   "metadata": {},
   "outputs": [],
   "source": [
    "frames_ms = run.aligner.B_to_A(paqio_frames)\n",
    "assert len(np.argwhere(np.isnan(frames_ms))) == 0\n",
    "frames_ms = frames_ms[::3] # just do the first plane for now"
   ]
  },
  {
   "cell_type": "code",
   "execution_count": 19,
   "metadata": {},
   "outputs": [],
   "source": [
    "assert len(run.trial_start) == len(run.trial_type) == len(run.outcome)\n",
    "num_trials = len(run.trial_start)"
   ]
  },
  {
   "cell_type": "code",
   "execution_count": 20,
   "metadata": {},
   "outputs": [
    {
     "ename": "AssertionError",
     "evalue": "17958 frames in fluorescent array 15021 frames in clock",
     "output_type": "error",
     "traceback": [
      "\u001b[0;31m---------------------------------------------------------------------------\u001b[0m",
      "\u001b[0;31mAssertionError\u001b[0m                            Traceback (most recent call last)",
      "\u001b[0;32m<ipython-input-20-85599b269ddf>\u001b[0m in \u001b[0;36m<module>\u001b[0;34m\u001b[0m\n\u001b[1;32m      2\u001b[0m \u001b[0mpost_frames\u001b[0m \u001b[0;34m=\u001b[0m \u001b[0;36m20\u001b[0m\u001b[0;34m\u001b[0m\u001b[0;34m\u001b[0m\u001b[0m\n\u001b[1;32m      3\u001b[0m \u001b[0;34m\u001b[0m\u001b[0m\n\u001b[0;32m----> 4\u001b[0;31m \u001b[0mtrial_flu\u001b[0m\u001b[0;34m,\u001b[0m \u001b[0mimaging_trial\u001b[0m \u001b[0;34m=\u001b[0m \u001b[0mutils\u001b[0m\u001b[0;34m.\u001b[0m\u001b[0mflu_splitter\u001b[0m\u001b[0;34m(\u001b[0m\u001b[0mflu\u001b[0m\u001b[0;34m,\u001b[0m \u001b[0mframes_ms\u001b[0m\u001b[0;34m,\u001b[0m \u001b[0mrun\u001b[0m\u001b[0;34m.\u001b[0m\u001b[0mtrial_start\u001b[0m\u001b[0;34m,\u001b[0m \u001b[0mpre_frames\u001b[0m\u001b[0;34m,\u001b[0m \u001b[0mpost_frames\u001b[0m\u001b[0;34m)\u001b[0m\u001b[0;34m\u001b[0m\u001b[0;34m\u001b[0m\u001b[0m\n\u001b[0m",
      "\u001b[0;32m~/Documents/Code/Vape/utils/utils_funcs.py\u001b[0m in \u001b[0;36mflu_splitter\u001b[0;34m(flu, clock, t_starts, pre_frames, post_frames)\u001b[0m\n\u001b[1;32m    321\u001b[0m     \u001b[0;32massert\u001b[0m \u001b[0mflu\u001b[0m\u001b[0;34m.\u001b[0m\u001b[0mshape\u001b[0m\u001b[0;34m[\u001b[0m\u001b[0;36m1\u001b[0m\u001b[0;34m]\u001b[0m \u001b[0;34m==\u001b[0m \u001b[0mlen\u001b[0m\u001b[0;34m(\u001b[0m\u001b[0mclock\u001b[0m\u001b[0;34m)\u001b[0m\u001b[0;34m,\u001b[0m \u001b[0;34m'{} frames in fluorescent array '\u001b[0m\u001b[0;31m\\\u001b[0m\u001b[0;34m\u001b[0m\u001b[0;34m\u001b[0m\u001b[0m\n\u001b[1;32m    322\u001b[0m                                        \u001b[0;34m'{} frames in clock'\u001b[0m\u001b[0;31m\\\u001b[0m\u001b[0;34m\u001b[0m\u001b[0;34m\u001b[0m\u001b[0m\n\u001b[0;32m--> 323\u001b[0;31m                                        \u001b[0;34m.\u001b[0m\u001b[0mformat\u001b[0m\u001b[0;34m(\u001b[0m\u001b[0mflu\u001b[0m\u001b[0;34m.\u001b[0m\u001b[0mshape\u001b[0m\u001b[0;34m[\u001b[0m\u001b[0;36m1\u001b[0m\u001b[0;34m]\u001b[0m\u001b[0;34m,\u001b[0m \u001b[0mlen\u001b[0m\u001b[0;34m(\u001b[0m\u001b[0mclock\u001b[0m\u001b[0;34m)\u001b[0m\u001b[0;34m)\u001b[0m\u001b[0;34m\u001b[0m\u001b[0;34m\u001b[0m\u001b[0m\n\u001b[0m\u001b[1;32m    324\u001b[0m \u001b[0;34m\u001b[0m\u001b[0m\n\u001b[1;32m    325\u001b[0m     \u001b[0mnum_trials\u001b[0m \u001b[0;34m=\u001b[0m \u001b[0mlen\u001b[0m\u001b[0;34m(\u001b[0m\u001b[0mt_starts\u001b[0m\u001b[0;34m)\u001b[0m\u001b[0;34m\u001b[0m\u001b[0;34m\u001b[0m\u001b[0m\n",
      "\u001b[0;31mAssertionError\u001b[0m: 17958 frames in fluorescent array 15021 frames in clock"
     ]
    }
   ],
   "source": [
    "pre_frames = 10\n",
    "post_frames = 20\n",
    "\n",
    "trial_flu, imaging_trial = utils.flu_splitter(flu, frames_ms, run.trial_start, pre_frames, post_frames)"
   ]
  },
  {
   "cell_type": "code",
   "execution_count": 20,
   "metadata": {},
   "outputs": [],
   "source": [
    "outcome = run.outcome[imaging_trial]"
   ]
  },
  {
   "cell_type": "code",
   "execution_count": 21,
   "metadata": {},
   "outputs": [
    {
     "data": {
      "text/plain": [
       "(1349, 30, 71)"
      ]
     },
     "execution_count": 21,
     "metadata": {},
     "output_type": "execute_result"
    }
   ],
   "source": [
    "hit_flu = trial_flu[:,:,np.where(outcome=='hit')[0]]\n",
    "hit_flu.shape"
   ]
  },
  {
   "cell_type": "code",
   "execution_count": 22,
   "metadata": {},
   "outputs": [
    {
     "data": {
      "text/plain": [
       "(1349, 30, 51)"
      ]
     },
     "execution_count": 22,
     "metadata": {},
     "output_type": "execute_result"
    }
   ],
   "source": [
    "miss_flu = trial_flu[:,:,np.where(outcome=='miss')[0]]\n",
    "miss_flu.shape"
   ]
  },
  {
   "cell_type": "code",
   "execution_count": 23,
   "metadata": {},
   "outputs": [
    {
     "data": {
      "text/plain": [
       "(1349, 30, 27)"
      ]
     },
     "execution_count": 23,
     "metadata": {},
     "output_type": "execute_result"
    }
   ],
   "source": [
    "fp_flu = trial_flu[:,:,np.where(outcome=='fp')[0]]\n",
    "fp_flu.shape"
   ]
  },
  {
   "cell_type": "code",
   "execution_count": 24,
   "metadata": {},
   "outputs": [
    {
     "data": {
      "text/plain": [
       "(1349, 30, 82)"
      ]
     },
     "execution_count": 24,
     "metadata": {},
     "output_type": "execute_result"
    }
   ],
   "source": [
    "cr_flu = trial_flu[:,:,np.where(outcome=='cr')[0]]\n",
    "cr_flu.shape"
   ]
  },
  {
   "cell_type": "code",
   "execution_count": 25,
   "metadata": {},
   "outputs": [],
   "source": [
    "grand_hit = np.mean(np.mean(hit_flu,0),1)\n",
    "grand_miss = np.mean(np.mean(miss_flu,0),1)\n",
    "grand_fp = np.mean(np.mean(fp_flu,0),1)\n",
    "grand_cr = np.mean(np.mean(cr_flu,0),1)\n",
    "\n",
    "pre_stim = range(3,7)\n",
    "post_stim = range(15,25)"
   ]
  },
  {
   "cell_type": "code",
   "execution_count": 26,
   "metadata": {},
   "outputs": [
    {
     "data": {
      "image/png": "[encoded data removed]",
      "text/plain": [
       "<Figure size 432x288 with 1 Axes>"
      ]
     },
     "metadata": {},
     "output_type": "display_data"
    }
   ],
   "source": [
    "frame_rate = 5\n",
    "\n",
    "x_axis = (np.arange(len(grand_hit)) - pre_frames) / frame_rate\n",
    "plt.plot(x_axis, grand_hit)\n",
    "plt.plot(x_axis[pre_stim], grand_hit[pre_stim], color='red')\n",
    "plt.plot(x_axis[post_stim], grand_hit[post_stim], color='red')\n",
    "sns.despine()\n",
    "plt.ylabel(r'$\\Delta $F/F')\n",
    "plt.xlabel('Time (seconds)')\n",
    "plt.title('Hit Trials')\n",
    "plt.savefig(os.path.join(figure_path, 'grand_hit_sta.png'), bbox_inches=\"tight\")\n",
    "plt.savefig(os.path.join(figure_path, 'grand_hit_sta.pdf'), bbox_inches=\"tight\")\n"
   ]
  },
  {
   "cell_type": "code",
   "execution_count": 27,
   "metadata": {},
   "outputs": [
    {
     "data": {
      "image/png": "[encoded data removed]",
      "text/plain": [
       "<Figure size 432x288 with 1 Axes>"
      ]
     },
     "metadata": {},
     "output_type": "display_data"
    }
   ],
   "source": [
    "x_axis = (np.arange(len(grand_miss)) - pre_frames) / frame_rate\n",
    "plt.plot(x_axis, grand_miss)\n",
    "sns.despine()\n",
    "plt.ylabel(r'$\\Delta $F/F')\n",
    "plt.xlabel('Time (seconds)')\n",
    "plt.title('Miss Trials')\n",
    "plt.savefig(os.path.join(figure_path, 'grand_miss.png'), bbox_inches=\"tight\")\n",
    "plt.savefig(os.path.join(figure_path, 'grand_miss.pdf'), bbox_inches=\"tight\")"
   ]
  },
  {
   "cell_type": "code",
   "execution_count": 28,
   "metadata": {},
   "outputs": [
    {
     "data": {
      "image/png": "[encoded data removed]",
      "text/plain": [
       "<Figure size 432x288 with 1 Axes>"
      ]
     },
     "metadata": {},
     "output_type": "display_data"
    }
   ],
   "source": [
    "x_axis = (np.arange(len(grand_fp)) - pre_frames) / frame_rate\n",
    "plt.plot(x_axis, grand_fp)\n",
    "sns.despine()\n",
    "plt.ylabel(r'$\\Delta $F/F')\n",
    "plt.xlabel('Time (seconds)')\n",
    "plt.title('False Positive Trials')\n",
    "plt.savefig(os.path.join(figure_path, 'grand_fp.png'), bbox_inches=\"tight\")\n",
    "plt.savefig(os.path.join(figure_path, 'grand_fp.pdf'), bbox_inches=\"tight\")"
   ]
  },
  {
   "cell_type": "code",
   "execution_count": 29,
   "metadata": {},
   "outputs": [
    {
     "data": {
      "image/png": "[encoded data removed]",
      "text/plain": [
       "<Figure size 432x288 with 1 Axes>"
      ]
     },
     "metadata": {},
     "output_type": "display_data"
    }
   ],
   "source": [
    "x_axis = (np.arange(len(grand_cr)) - pre_frames) / frame_rate\n",
    "plt.plot(x_axis, grand_cr)\n",
    "sns.despine()\n",
    "plt.ylabel(r'$\\Delta $F/F')\n",
    "plt.xlabel('Time (seconds)')\n",
    "plt.title('Correct Rejection Trials')\n",
    "plt.savefig(os.path.join(figure_path, 'grand_cr.png'), bbox_inches=\"tight\")\n",
    "plt.savefig(os.path.join(figure_path, 'grand_cr.pdf'), bbox_inches=\"tight\")"
   ]
  },
  {
   "cell_type": "code",
   "execution_count": 30,
   "metadata": {},
   "outputs": [
    {
     "data": {
      "text/plain": [
       "0.06569931"
      ]
     },
     "execution_count": 30,
     "metadata": {},
     "output_type": "execute_result"
    }
   ],
   "source": [
    "sta_hit = np.mean(grand_hit[post_stim]) - np.mean(grand_hit[pre_stim])\n",
    "sta_hit"
   ]
  },
  {
   "cell_type": "code",
   "execution_count": 31,
   "metadata": {},
   "outputs": [
    {
     "data": {
      "text/plain": [
       "0.02717232"
      ]
     },
     "execution_count": 31,
     "metadata": {},
     "output_type": "execute_result"
    }
   ],
   "source": [
    "sta_miss = np.mean(grand_miss[post_stim]) - np.mean(grand_miss[pre_stim])\n",
    "sta_miss"
   ]
  },
  {
   "cell_type": "code",
   "execution_count": 32,
   "metadata": {},
   "outputs": [],
   "source": [
    "from subsets_analysis import analyse_subsets, subset_attr\n",
    "mouse_id = 'J048'\n",
    "run_numbers = [19]\n",
    "subsets, run = analyse_subsets(mouse_id, run_numbers)\n",
    "trial_subsets = subsets.get_full_list()\n",
    "trial_subsets = trial_subsets[imaging_trial]"
   ]
  },
  {
   "cell_type": "code",
   "execution_count": 33,
   "metadata": {},
   "outputs": [
    {
     "name": "stdout",
     "output_type": "stream",
     "text": [
      "27\n",
      "16\n",
      "16\n",
      "12\n",
      "14\n",
      "49\n"
     ]
    },
    {
     "data": {
      "image/png": "[encoded data removed]",
      "text/plain": [
       "<Figure size 432x288 with 1 Axes>"
      ]
     },
     "metadata": {},
     "output_type": "display_data"
    }
   ],
   "source": [
    "plt.plot(subsets.subsets, subsets.subsets_dprime, '.', markersize=15)\n",
    "sns.despine()\n",
    "plt.xlabel('Number of cells stimulated')\n",
    "plt.ylabel('D-prime')\n",
    "plt.savefig(os.path.join(figure_path, 'J048_subsets.png'), bbox_inches=\"tight\")\n",
    "plt.savefig(os.path.join(figure_path, 'J048_subsets.pdf'), bbox_inches=\"tight\")"
   ]
  },
  {
   "cell_type": "code",
   "execution_count": 34,
   "metadata": {},
   "outputs": [
    {
     "data": {
      "image/png": "[encoded data removed]",
      "text/plain": [
       "<Figure size 432x288 with 1 Axes>"
      ]
     },
     "metadata": {},
     "output_type": "display_data"
    }
   ],
   "source": [
    "plt.figure()\n",
    "\n",
    "subset_sizes = ['50.0', '40.0', '30.0', '20.0', '10.0', '5.0']\n",
    "\n",
    "for i,sub_size in enumerate(subset_sizes):\n",
    "\n",
    "    intersect = lambda A, B: set(A) - (set(A) - set(B))\n",
    "\n",
    "    cool_idx = intersect(np.where(trial_subsets==sub_size)[0], np.where(outcome=='hit')[0])\n",
    "    cool_idx_miss = intersect(np.where(trial_subsets==sub_size)[0], np.where(outcome=='miss')[0])\n",
    "\n",
    "    hit_boi = trial_flu[:,:,list(cool_idx)]\n",
    "    miss_boi = trial_flu[:,:,list(cool_idx_miss)]\n",
    "\n",
    "    grand_hit = np.mean(np.mean(hit_boi,0),1)\n",
    "    grand_miss = np.mean(np.mean(miss_boi,0),1)\n",
    "\n",
    "    sta_hit = np.mean(grand_hit[post_stim]) - np.mean(grand_hit[pre_stim])\n",
    "    sta_miss = np.mean(grand_miss[post_stim]) - np.mean(grand_miss[pre_stim])\n",
    "    if i == 0:\n",
    "        plt.bar(i-0.1, sta_hit, color=sns.color_palette()[0], label='Hit Trials')\n",
    "        plt.bar(i, sta_miss, color=sns.color_palette()[6], label='Miss Trials')\n",
    "    else:\n",
    "        plt.bar(i-0.1, sta_hit, color=sns.color_palette()[0])\n",
    "        plt.bar(i, sta_miss, color=sns.color_palette()[6])\n",
    "                \n",
    "    plt.legend()\n",
    "    plt.ylabel(r'$\\Delta $F/F')\n",
    "    plt.xlabel('Number of cells stimulated')\n",
    "    sns.despine()\n",
    "    \n",
    "\n",
    "plt.xticks(range(len(subset_sizes)), subset_sizes)\n",
    "\n",
    "plt.title('All Cells')\n",
    "\n",
    "plt.savefig(os.path.join(figure_path, 'all_cells.pdf'))\n",
    "plt.savefig(os.path.join(figure_path, 'all_cells.png'))"
   ]
  },
  {
   "cell_type": "code",
   "execution_count": 35,
   "metadata": {},
   "outputs": [
    {
     "data": {
      "text/plain": [
       "0.04324209"
      ]
     },
     "execution_count": 35,
     "metadata": {},
     "output_type": "execute_result"
    }
   ],
   "source": [
    "sta_hit = np.mean(grand_hit[post_stim]) - np.mean(grand_hit[pre_stim])\n",
    "sta_hit"
   ]
  },
  {
   "cell_type": "code",
   "execution_count": 36,
   "metadata": {},
   "outputs": [
    {
     "data": {
      "text/plain": [
       "0.022902265"
      ]
     },
     "execution_count": 36,
     "metadata": {},
     "output_type": "execute_result"
    }
   ],
   "source": [
    "sta_miss = np.mean(grand_miss[post_stim]) - np.mean(grand_miss[pre_stim])\n",
    "sta_miss"
   ]
  },
  {
   "cell_type": "code",
   "execution_count": 37,
   "metadata": {},
   "outputs": [],
   "source": [
    "# class Datum(object):\n",
    "# #     colorin = mcolors.to_rgba(\"red\")\n",
    "# #     colorout = mcolors.to_rgba(\"blue\")\n",
    "\n",
    "# #     def __init__(self, x, y, include=False):\n",
    "# #         self.x = x\n",
    "# #         self.y = y\n",
    "# #         if include:\n",
    "# #             self.color = self.colorin\n",
    "# #         else:\n",
    "# #             self.color = self.colorout\n",
    "\n",
    "\n",
    "# # class LassoManager(object):\n",
    "# #     def __init__(self, ax, data):\n",
    "# #         self.axes = ax\n",
    "# #         self.canvas = ax.figure.canvas\n",
    "# #         self.data = data\n",
    "\n",
    "# #         self.Nxy = len(data)\n",
    "\n",
    "# #         facecolors = [d.color for d in data]\n",
    "# #         self.xys = [(d.x, d.y) for d in data]\n",
    "# #         self.collection = RegularPolyCollection(4, sizes=(100,),\n",
    "# #                                                 facecolors=facecolors,\n",
    "# #                                                 offsets=self.xys,\n",
    "# #                                                 transOffset=ax.transData,\n",
    "# #                                                 alpha =0.01)\n",
    "# #         ax.add_collection(self.collection)\n",
    "\n",
    "# #         self.cid = self.canvas.mpl_connect('button_press_event', self.onpress)\n",
    "\n",
    "# #     def callback(self, verts):\n",
    "# #         facecolors = self.collection.get_facecolors()\n",
    "# #         p = path.Path(verts)\n",
    "# #         # True if point selected else false \n",
    "# #         self.ind = p.contains_points(self.xys)\n",
    "# #         for i in range(len(self.xys)):\n",
    "# #             if self.ind[i]:\n",
    "# #                 facecolors[i] = Datum.colorin\n",
    "# #             else:\n",
    "# #                 facecolors[i] = Datum.colorout\n",
    "\n",
    "# #         self.canvas.draw_idle()\n",
    "# #         self.canvas.widgetlock.release(self.lasso)\n",
    "# #         del self.lasso\n",
    "\n",
    "# #     def onpress(self, event):\n",
    "\n",
    "# #         if self.canvas.widgetlock.locked():\n",
    "# #             return\n",
    "# #         if event.inaxes is None:\n",
    "# #             return\n",
    "# #         self.lasso = Lasso(event.inaxes,\n",
    "# #                            (event.xdata, event.ydata),\n",
    "# #                            self.callback)\n",
    "# #         # acquire a lock on the widget drawing\n",
    "# #         self.canvas.widgetlock(self.lasso)\n",
    "\n",
    "\n",
    "# # axis_edge = 2*min(paqio_frames) \n",
    "# # data = [Datum(*xy) for xy in np.transpose(np.vstack((paqio_frames, np.ones(len(paqio_frames)))))]\n",
    "# # ax = plt.axes(xlim=(min(paqio_frames)-axis_edge, max(paqio_frames)+axis_edge), ylim=(0, 2), autoscale_on=False)\n",
    "# # ax.set_title('Lasso points using left mouse button')\n",
    "\n",
    "# # lman = LassoManager(ax, data)\n",
    "# # plt.show()"
   ]
  }
 ],
 "metadata": {
  "kernelspec": {
   "display_name": "Python 3",
   "language": "python",
   "name": "python3"
  },
  "language_info": {
   "codemirror_mode": {
    "name": "ipython",
    "version": 3
   },
   "file_extension": ".py",
   "mimetype": "text/x-python",
   "name": "python",
   "nbconvert_exporter": "python",
   "pygments_lexer": "ipython3",
   "version": "3.7.3"
  }
 },
 "nbformat": 4,
 "nbformat_minor": 2
}
