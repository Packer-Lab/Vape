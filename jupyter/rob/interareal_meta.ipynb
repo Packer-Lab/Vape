{
 "cells": [
  {
   "cell_type": "markdown",
   "metadata": {},
   "source": [
    "## Notebook for meta analysis of experiments to determine exclusions"
   ]
  },
  {
   "cell_type": "code",
   "execution_count": 1,
   "metadata": {},
   "outputs": [
    {
     "name": "stdout",
     "output_type": "stream",
     "text": [
      "\n",
      "Suite2p path: ['/home/rlees/Documents/Code/suite2p/suite2p']\n",
      "QNAP_path: /home/rlees/mnt/qnap \n",
      "QNAP_data_path /home/rlees/mnt/qnap/Data \n",
      "Pickle folder: /home/rlees/mnt/qnap/pkl_files \n",
      "Master pickle: /home/rlees/mnt/qnap/master_pkl/master_obj.pkl \n",
      "Figure save path: /home/rlees/mnt/qnap/Analysis/Plots \n",
      "STA movie save path: /home/rlees/mnt/qnap/Analysis/STA_movies \n",
      "S2 borders path: /home/rlees/mnt/qnap/Analysis/S2_borders\n"
     ]
    }
   ],
   "source": [
    "%run ./rob_setup_notebook.ipynb\n",
    "\n",
    "from ia_funcs import *"
   ]
  },
  {
   "cell_type": "markdown",
   "metadata": {},
   "source": [
    "### Define list of pickled objects to meta analyse"
   ]
  },
  {
   "cell_type": "code",
   "execution_count": 2,
   "metadata": {},
   "outputs": [],
   "source": [
    "pkl_list = [\n",
    "            '2019-06-11_J048.pkl',\n",
    "            '2019-06-13_J052.pkl',\n",
    "            '2019-06-25_RL048.pkl',\n",
    "            '2019-07-15_RL052.pkl',\n",
    "            '2019-08-14_J058.pkl',\n",
    "            '2019-08-14_J059.pkl',\n",
    "            '2019-08-15_RL055.pkl',\n",
    "            '2019-11-14_J061.pkl',\n",
    "            '2019-11-14_J063.pkl',\n",
    "            '2019-11-15_J064.pkl',\n",
    "            '2019-11-18_J065.pkl',\n",
    "            '2020-02-27_RL075.pkl',\n",
    "            '2020-03-03_RL074.pkl',\n",
    "            '2020-03-05_RL070.pkl',\n",
    "            '2020-03-05_RL072.pkl',\n",
    "            '2020-03-12_RL070.pkl',\n",
    "            '2020-03-16_RL074.pkl',\n",
    "            '2020-03-19_RL075.pkl',\n",
    "#             '2020-03-20_RL080.pkl'\n",
    "           ]\n",
    "\n",
    "for i,pkl in enumerate(pkl_list):\n",
    "    pkl_list[i] = os.path.join(qnap_path, 'pkl_files', pkl)"
   ]
  },
  {
   "cell_type": "markdown",
   "metadata": {},
   "source": [
    "### Make STA movies"
   ]
  },
  {
   "cell_type": "code",
   "execution_count": null,
   "metadata": {},
   "outputs": [],
   "source": [
    "staMovie(stam_save_path, pkl_list)"
   ]
  },
  {
   "cell_type": "markdown",
   "metadata": {},
   "source": [
    "### Plot fluorescence across all concatenated t-series frames"
   ]
  },
  {
   "cell_type": "code",
   "execution_count": null,
   "metadata": {},
   "outputs": [
    {
     "name": "stdout",
     "output_type": "stream",
     "text": [
      "Measuring mean cell fluorescence for: /home/rlees/mnt/qnap/pkl_files/2020-03-19_RL075.pkl               \r"
     ]
    }
   ],
   "source": [
    "cellFluTime(pkl_list)\n",
    "plt.savefig(os.path.join(fig_save_path, 'cell_fluorescence_time.svg'));"
   ]
  },
  {
   "cell_type": "markdown",
   "metadata": {},
   "source": [
    "### Make downsampled stack of first 1000 and last 1000 frames of each experiment for all sessions"
   ]
  },
  {
   "cell_type": "code",
   "execution_count": null,
   "metadata": {},
   "outputs": [],
   "source": [
    "for pkl in pkl_list:\n",
    "\n",
    "        with open(pkl_path, 'rb') as f:\n",
    "            exp_obj = pickle.load(f)\n",
    "            \n",
    "        obj_list = [exp_obj.photostim_r, exp_obj.photostim_s]\n",
    "\n",
    "        if exp_obj.spont.n_frames > 0:\n",
    "            obj_list.append(exp_obj.spont)\n",
    "\n",
    "        if exp_obj.whisker_stim.n_frames > 0:\n",
    "            obj_list.append(exp_obj.whisker_stim)\n",
    "        \n",
    "        for sub_obj in obj_list:\n",
    "            \n",
    "            tiff_path = sub_obj.tiff_path\n",
    "            \n",
    "            file_list = os.listdir(tiff_path)\n",
    "            for file in file_list:\n",
    "                if '.tif' in file:\n",
    "                    tiff_file = os.path.join(tiff_path, file)\n",
    "  \n",
    "            total_frames = range(0,sub_obj.n_frames) #get the range of frames for this experiment\n",
    "            start_frames = total_frames[30:1000] # get 970 frames after start\n",
    "            end_frames = total_frames[-1000:-30] # get 970 frames before end\n",
    "            \n",
    "            stack_start = tf.imread(tiff_file, key=start_frames)\n",
    "            stack_end = tf.imread(tiff_file, key=end_frames)\n",
    "            \n",
    "            mean_start = np.mean(stack_start, axis=0)\n",
    "            mean_end = np.mean(stack_end, axis=0)\n",
    "            \n",
    "            save_path = os.path.join(qnap_path, 'Analysis', 'Drift_check', 'Raw', tiff_path.split('/')[-1])\n",
    "            \n",
    "            tf.imsave(save_path + '_mean_start.tif', mean_start.astype('int16'))\n",
    "            tf.imsave(save_path + '_mean_end.tif', mean_end.astype('int16'))"
   ]
  },
  {
   "cell_type": "markdown",
   "metadata": {},
   "source": [
    "### Plot frame fluorescence over time for each experiment in all sessions"
   ]
  },
  {
   "cell_type": "code",
   "execution_count": null,
   "metadata": {},
   "outputs": [],
   "source": [
    "data_folder = os.path.join(qnap_path, 'Analysis', 'Drift_check', 'Stacks')\n",
    "frameFluTime(pkl_list, data_folder, legend=False)\n",
    "plt.savefig(os.path.join(fig_save_path, 'frame_fluorescence_time.svg'));"
   ]
  }
 ],
 "metadata": {
  "kernelspec": {
   "display_name": "Python 3",
   "language": "python",
   "name": "python3"
  },
  "language_info": {
   "codemirror_mode": {
    "name": "ipython",
    "version": 3
   },
   "file_extension": ".py",
   "mimetype": "text/x-python",
   "name": "python",
   "nbconvert_exporter": "python",
   "pygments_lexer": "ipython3",
   "version": "3.7.4"
  }
 },
 "nbformat": 4,
 "nbformat_minor": 4
}
