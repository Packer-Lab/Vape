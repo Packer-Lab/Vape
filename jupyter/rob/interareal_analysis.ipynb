{
 "cells": [
  {
   "cell_type": "markdown",
   "metadata": {},
   "source": [
    "## Notebook for collecting metadata, processing imaging data through suite2p and analysing trial responses"
   ]
  },
  {
   "cell_type": "code",
   "execution_count": null,
   "metadata": {},
   "outputs": [],
   "source": [
    "%run ./rob_setup_notebook.ipynb\n",
    "\n",
    "import utils.interareal_analysis as ia"
   ]
  },
  {
   "cell_type": "markdown",
   "metadata": {},
   "source": [
    "### Define sessions to run s2p or analysis on"
   ]
  },
  {
   "cell_type": "code",
   "execution_count": null,
   "metadata": {},
   "outputs": [],
   "source": [
    "ss_id = '1PgSXs6BVHe9dACWEydykucN74rirNfOY4Vr_AmLcCdY'\n",
    "sheet_names = [\n",
    "#     '2019-06-11_J048',\n",
    "#     '2019-06-13_J052',\n",
    "#     '2019-06-25_RL048',\n",
    "#     '2019-07-15_RL052',\n",
    "#     '2019-08-14_J058',\n",
    "#     '2019-08-14_J059',\n",
    "#     '2019-08-15_RL055',\n",
    "#     '2019-11-14_J061',\n",
    "#     '2019-11-14_J063',\n",
    "#     '2019-11-15_J064',\n",
    "#     '2019-11-18_J065',\n",
    "#     '2020-02-27_RL075',\n",
    "#     '2020-03-03_RL074',\n",
    "#     '2020-03-05_RL070',\n",
    "#     '2020-03-05_RL072',\n",
    "#     '2020-03-12_RL070',\n",
    "#     '2020-03-16_RL074',\n",
    "#     '2020-03-19_RL075',\n",
    "#     '2020-06-03_RL086',\n",
    "#     '2020-06-08_RL086',\n",
    "#     '2020-06-15_RL086',\n",
    "#     '2020-09-03_RL091',\n",
    "#     '2020-09-04_RL093',\n",
    "#     '2020-09-08_RL099',\n",
    "#     '2020-09-09_RL100',\n",
    "#     '2020-09-14_RL101',\n",
    "#     '2020-09-15_RL102',\n",
    "#     '2020-09-16_RL103',\n",
    "#     '2020-10-02_RL108',\n",
    "#     '2020-10-12_RL109',\n",
    "#     '2020-10-29_RL111',\n",
    "#     '2020-12-10_RL115',\n",
    "#     '2021-01-06_RL120',\n",
    "#     '2021-01-20_RL121',\n",
    "#     '2021-01-20_RL125', \n",
    "#     '2021-01-20_RL124', \n",
    "#     '2021-01-28_RL124', \n",
    "#     '2021-02-18_RL127', \n",
    "#     '2021-02-22_RL128', \n",
    "#     '2021-02-23_RL129', \n",
    "#     '2021-02-24_RL132', \n",
    "#     '2021-02-25_RL131', \n",
    "#     '2021-03-02_RL130'\n",
    "              ]"
   ]
  },
  {
   "cell_type": "markdown",
   "metadata": {},
   "source": [
    "### Run s2p on defined sessions (commented-out to not overwrite data by accident)"
   ]
  },
  {
   "cell_type": "code",
   "execution_count": null,
   "metadata": {},
   "outputs": [],
   "source": [
    "# for sheet_name in sheet_names:\n",
    "    \n",
    "#     # Initialise the class\n",
    "#     ses_obj = ia.interarealProcessing(ss_id, sheet_name, qnap_data_path)\n",
    "    \n",
    "#     # Run s2p on this experiment (if not already done)\n",
    "#     ses_obj.s2pRun(tau=0.7) # tau = 0.7 for fast, 1.25 for slow\n",
    "    \n",
    "#     # Pickle the object output to save it for analysis\n",
    "#     pkl_path = os.path.join(pkl_folder, sheet_name + '.pkl')\n",
    "    \n",
    "#     with open(pkl_path, 'wb') as f:\n",
    "#         pickle.dump(ses_obj, f)"
   ]
  },
  {
   "cell_type": "markdown",
   "metadata": {},
   "source": [
    "### Run sessions through analysis pipeline (after s2p ROI curation)"
   ]
  },
  {
   "cell_type": "code",
   "execution_count": null,
   "metadata": {},
   "outputs": [],
   "source": [
    "trial_sig_calc = 'dff' # how to calculate trial significance ('dff' or 'dfsf' = change in f over std deviation of f)\n",
    "\n",
    "for sheet_name in sheet_names:\n",
    "    \n",
    "    # Initialise the class\n",
    "    ses_obj = ia.interarealProcessing(ss_id, sheet_name, qnap_data_path)\n",
    "    \n",
    "    # Get the range of frames that are attributed to each experiment (from the concatenated t-series)\n",
    "    ses_obj.getFrameRanges()\n",
    "    \n",
    "    # Process the s2p data (after manual curation)\n",
    "    ses_obj.photostim_r.s2pAnalysis(s2_borders_path, trial_sig_calc)\n",
    "    ses_obj.photostim_s.s2pAnalysis(s2_borders_path, trial_sig_calc)\n",
    "    ses_obj.whisker_stim.s2pAnalysis(s2_borders_path, trial_sig_calc)\n",
    "    \n",
    "    # Add sham photostim metadata\n",
    "    if ses_obj.spont.n_frames > 0:\n",
    "        ses_obj.addShamPhotostim()\n",
    "        \n",
    "    ses_obj.spont.s2pAnalysis(s2_borders_path, trial_sig_calc)\n",
    "    \n",
    "    ses_obj.whiskerTargets()\n",
    "    \n",
    "    # Pickle the object output to save it for analysis\n",
    "    pkl_path = os.path.join(pkl_folder, sheet_name + '.pkl')\n",
    "    \n",
    "    with open(pkl_path, 'wb') as f:\n",
    "        pickle.dump(ses_obj, f)        "
   ]
  }
 ],
 "metadata": {
  "kernelspec": {
   "display_name": "Python 3",
   "language": "python",
   "name": "python3"
  },
  "language_info": {
   "codemirror_mode": {
    "name": "ipython",
    "version": 3
   },
   "file_extension": ".py",
   "mimetype": "text/x-python",
   "name": "python",
   "nbconvert_exporter": "python",
   "pygments_lexer": "ipython3",
   "version": "3.7.9"
  }
 },
 "nbformat": 4,
 "nbformat_minor": 4
}
