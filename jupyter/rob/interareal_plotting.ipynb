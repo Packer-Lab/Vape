{
 "cells": [
  {
   "cell_type": "markdown",
   "metadata": {},
   "source": [
    "## Notebook for collating metadata and analysed data from all experiments and plotting the results"
   ]
  },
  {
   "cell_type": "code",
   "execution_count": 1,
   "metadata": {},
   "outputs": [
    {
     "name": "stdout",
     "output_type": "stream",
     "text": [
      "\n",
      "Suite2p path: ['/home/rlees/Documents/Code/suite2p/suite2p']\n",
      "QNAP_path: /home/rlees/mnt/qnap \n",
      "QNAP_data_path /home/rlees/mnt/qnap/Data \n",
      "Pickle folder: /home/rlees/mnt/qnap/pkl_files \n",
      "Master pickle: /home/rlees/mnt/qnap/master_pkl/master_obj.pkl \n",
      "Figure save path: /home/rlees/mnt/qnap/Analysis/Plots \n",
      "STA movie save path: /home/rlees/mnt/qnap/Analysis/STA_movies \n",
      "S2 borders path: /home/rlees/mnt/qnap/Analysis/S2_borders\n"
     ]
    }
   ],
   "source": [
    "%run ./rob_setup_notebook.ipynb\n",
    "\n",
    "import utils.interareal_plotting as ip\n",
    "\n",
    "try:\n",
    "    with open(master_path, 'rb') as f:\n",
    "        master_obj = pickle.load(f)\n",
    "except: \n",
    "    raise Exception('ERROR: Could not load master pickle')"
   ]
  },
  {
   "cell_type": "markdown",
   "metadata": {},
   "source": [
    "### See the variables that are attributed to the master object"
   ]
  },
  {
   "cell_type": "code",
   "execution_count": 2,
   "metadata": {},
   "outputs": [
    {
     "name": "stdout",
     "output_type": "stream",
     "text": [
      "Attributes of master object:\n",
      "\n",
      "pkl_folder\n",
      "pkl_name\n",
      "pkl_path\n",
      "n_units\n",
      "n_targets\n",
      "n_targeted_cells\n",
      "targeted_cells\n",
      "s1_cells\n",
      "stim_dur\n",
      "stim_freq\n",
      "stim_type\n",
      "sheet_name\n",
      "tiff_path\n",
      "fps\n",
      "df\n",
      "new_pkls\n",
      "temp_df\n"
     ]
    }
   ],
   "source": [
    "print('Attributes of master object:', end='\\n\\n')\n",
    "for key, value in vars(master_obj).items():\n",
    "    print(key)"
   ]
  },
  {
   "cell_type": "markdown",
   "metadata": {},
   "source": [
    "### Add new pickle files to the master object"
   ]
  },
  {
   "cell_type": "code",
   "execution_count": 3,
   "metadata": {
    "scrolled": true
   },
   "outputs": [],
   "source": [
    "# master_obj.addPickles()\n",
    "\n",
    "# with open(master_path, 'wb') as f:\n",
    "#     pickle.dump(master_obj, f)"
   ]
  },
  {
   "cell_type": "markdown",
   "metadata": {},
   "source": [
    "### Create master object and collate all analysis from individual experiments"
   ]
  },
  {
   "cell_type": "code",
   "execution_count": null,
   "metadata": {},
   "outputs": [],
   "source": [
    "master_obj = ip.interarealPlotting(pkl_folder)\n",
    "\n",
    "with open(master_path, 'wb') as f:\n",
    "    pickle.dump(master_obj, f)"
   ]
  },
  {
   "cell_type": "markdown",
   "metadata": {},
   "source": [
    "### Plot summary statistics and other analytics"
   ]
  },
  {
   "cell_type": "code",
   "execution_count": 4,
   "metadata": {},
   "outputs": [
    {
     "name": "stdout",
     "output_type": "stream",
     "text": [
      "Plotting summary statistic for all experiments: target_responders_sta\n",
      "2020-03-05_RL070\n",
      "Similar: 12 out of 57\n",
      "Random: 32 out of 59\n",
      "2019-11-14_J061\n",
      "Similar: 9 out of 23\n",
      "Random: 14 out of 19\n",
      "2020-03-03_RL074\n",
      "Similar: 55 out of 80\n",
      "Random: 35 out of 60\n",
      "2020-03-19_RL075\n",
      "Similar: 12 out of 37\n",
      "Random: 12 out of 30\n",
      "2020-03-16_RL074\n",
      "Similar: 18 out of 36\n",
      "Random: 26 out of 42\n",
      "2019-11-14_J063\n",
      "Similar: 2 out of 12\n",
      "Random: 11 out of 19\n",
      "2020-02-27_RL075\n",
      "Similar: 29 out of 62\n",
      "Random: 44 out of 67\n",
      "2020-03-05_RL072\n",
      "Similar: 32 out of 63\n",
      "Random: 41 out of 63\n",
      "2019-11-15_J064\n",
      "Similar: 10 out of 25\n",
      "Random: 18 out of 26\n",
      "2020-03-12_RL070\n",
      "Similar: 6 out of 63\n",
      "Random: 21 out of 60\n",
      "2019-11-18_J065\n",
      "Similar: 6 out of 24\n",
      "Random: 6 out of 18\n"
     ]
    },
    {
     "data": {
      "image/png": "[encoded data removed]",
      "text/plain": [
       "<Figure size 432x288 with 1 Axes>"
      ]
     },
     "metadata": {
      "needs_background": "light"
     },
     "output_type": "display_data"
    },
    {
     "data": {
      "image/png": "[encoded data removed]",
      "text/plain": [
       "<Figure size 1080x360 with 2 Axes>"
      ]
     },
     "metadata": {
      "needs_background": "light"
     },
     "output_type": "display_data"
    }
   ],
   "source": [
    "with open(master_path, 'rb') as f:\n",
    "    master_obj = pickle.load(f)\n",
    "\n",
    "# Plot probability of response on whisker trials for 'ps' and 'pr' target responders\n",
    "# master_obj.plotWhiskerBias()\n",
    "    \n",
    "# Plot mean STA dFF amplitude across all cells in group\n",
    "# master_obj.boxplotSummaryStat('target_sta_amp')\n",
    "# plt.savefig(os.path.join(fig_save_path, 'target_sta_amp.svg'))\n",
    "# master_obj.boxplotSummaryStat('non_target_sta_amp')\n",
    "# master_obj.boxplotSummaryStat('s2_sta_amp')\n",
    "# master_obj.boxplotSummaryStat('stim_freq')\n",
    "# master_obj.boxplotSummaryStat('positive_s2_responders_sta')\n",
    "master_obj.boxplotSummaryStat('target_responders_sta')\n",
    "# plt.savefig(os.path.join(fig_save_path, 'positive_s2_responders_sta.svg'))\n",
    "\n",
    "# Plot distribution of STA amplitudes across all cells in group\n",
    "# master_obj.distributionSummaryStat('s2_sta')\n",
    "\n",
    "# Plot mean STA dFF trace across all cells in group\n",
    "# master_obj.lineplotSTA('target_sta')\n",
    "# plt.savefig(os.path.join(fig_save_path, 'target_sta.svg'))\n",
    "# master_obj.lineplotSTA('non_target_sta')\n",
    "# master_obj.lineplotSTA('s2_sta')\n",
    "\n",
    "# Plot probability of response for each stim separately for each animal\n",
    "# master_obj.boxplotProbResponse(to_mask='target_cells')\n",
    "# plt.savefig(os.path.join(fig_save_path, 'prob_response_boxplot.svg'))\n",
    "\n",
    "# Plot probability of response for each cell across two different stim types\n",
    "# master_obj.scatterProbResponse(to_mask='target_cells')\n",
    "# plt.savefig(os.path.join(fig_save_path, 'prob_response_scatter.svg'))\n",
    "\n",
    "# Plot reliable responders over 100 trials (STA)\n",
    "# master_obj.scatterResponseSTA(['target_responders_sta', 'positive_s2_responders_sta'], proportion=False)\n",
    "# master_obj.scatterResponseSTA(['positive_s1_responders_sta', 'positive_s2_responders_sta'], proportion=True)\n",
    "\n",
    "# Plot all responders per trial (> 2 S.D. of baseline)\n",
    "# master_obj.scatterResponseTrial(['target_responders_trial_sum', 'positive_s2_responders_trial'], proportion=True)\n",
    "# master_obj.scatterResponseTrial(['target_responders_trial_sum', 'positive_s2_responders_trial'])\n",
    "# master_obj.scatterResponseTrial(['positive_s1_responders_trial', 'positive_s2_responders_trial'], proportion=True)\n",
    "# master_obj.scatterResponseTrial(['positive_s1_responders_trial', 'positive_s2_responders_trial'])\n",
    "# master_obj.scatterResponseTrial(['target_sum_dff', 'positive_s2_responders_trial'])\n",
    "# master_obj.scatterResponseTrial(['num_whisker_targets', 'positive_s2_responders_trial'])\n",
    "# master_obj.scatterResponseTrial(['euclid_dist', 'positive_s2_responders_trial'])\n",
    "\n",
    "# Plot whisker bias of targets\n",
    "master_obj.boxplotWhiskerBias()"
   ]
  }
 ],
 "metadata": {
  "kernelspec": {
   "display_name": "Python 3",
   "language": "python",
   "name": "python3"
  },
  "language_info": {
   "codemirror_mode": {
    "name": "ipython",
    "version": 3
   },
   "file_extension": ".py",
   "mimetype": "text/x-python",
   "name": "python",
   "nbconvert_exporter": "python",
   "pygments_lexer": "ipython3",
   "version": "3.7.4"
  }
 },
 "nbformat": 4,
 "nbformat_minor": 4
}
