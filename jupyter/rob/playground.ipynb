{
 "cells": [
  {
   "cell_type": "markdown",
   "metadata": {},
   "source": [
    "## Notebook for playing around with variables in experimental and master objects"
   ]
  },
  {
   "cell_type": "code",
   "execution_count": 1,
   "metadata": {},
   "outputs": [
    {
     "name": "stdout",
     "output_type": "stream",
     "text": [
      "\n",
      "Suite2p path: ['/home/rlees/Documents/Code/suite2p/suite2p']\n",
      "QNAP_path: /home/rlees/mnt/qnap \n",
      "QNAP_data_path /home/rlees/mnt/qnap/Data \n",
      "Pickle folder: /home/rlees/mnt/qnap/pkl_files \n",
      "Master pickle: /home/rlees/mnt/qnap/master_pkl/master_obj.pkl \n",
      "Figure save path: /home/rlees/mnt/qnap/Analysis/Plots \n",
      "STA movie save path: /home/rlees/mnt/qnap/Analysis/STA_movies \n",
      "S2 borders path: /home/rlees/mnt/qnap/Analysis/S2_borders\n"
     ]
    }
   ],
   "source": [
    "%run ./rob_setup_notebook.ipynb\n",
    "\n",
    "import utils.interareal_analysis as ia\n",
    "import utils.interareal_plotting as ip\n",
    "import utils.utils_funcs as uf\n",
    "from ia_funcs import *\n",
    "\n",
    "from utils.paq2py import *"
   ]
  },
  {
   "cell_type": "markdown",
   "metadata": {},
   "source": [
    "### Add or check attributes in all exp_obj pkl files"
   ]
  },
  {
   "cell_type": "code",
   "execution_count": null,
   "metadata": {},
   "outputs": [],
   "source": [
    "pkl_files = os.listdir(pkl_folder)\n",
    "\n",
    "for i,pkl in enumerate(pkl_files):\n",
    "    if '.pkl' in pkl:\n",
    "        \n",
    "        pkl_path = os.path.join(pkl_folder, pkl)\n",
    "\n",
    "        with open(pkl_path, 'rb') as f:\n",
    "            exp_obj = pickle.load(f)\n",
    "            \n",
    "#             with open(pkl_path, 'wb') as f:\n",
    "#                 pickle.dump(exp_obj, f)\n",
    "                \n",
    "#         pkl_list = [exp_obj.photostim_r, exp_obj.photostim_s]\n",
    "\n",
    "#         if exp_obj.spont.n_frames > 0:\n",
    "#             pkl_list.append(exp_obj.spont)\n",
    "\n",
    "#         if exp_obj.whisker_stim.n_frames > 0:\n",
    "#             pkl_list.append(exp_obj.whisker_stim)\n",
    "        \n",
    "#         for sub_obj in pkl_list:"
   ]
  },
  {
   "cell_type": "markdown",
   "metadata": {},
   "source": [
    "### Play with data from individual experimental objects"
   ]
  },
  {
   "cell_type": "code",
   "execution_count": 242,
   "metadata": {},
   "outputs": [
    {
     "name": "stdout",
     "output_type": "stream",
     "text": [
      "Loaded pickled object.\n"
     ]
    }
   ],
   "source": [
    "# List of pickle object file names\n",
    "# '2019-06-11_J048',\n",
    "# '2019-06-13_J052',\n",
    "# '2019-06-25_RL048',\n",
    "# '2019-07-15_RL052',\n",
    "# '2019-08-14_J058',\n",
    "# '2019-08-14_J059',\n",
    "# '2019-08-15_RL055',\n",
    "# '2019-11-14_J061',\n",
    "# '2019-11-14_J063',\n",
    "# '2019-11-15_J064',\n",
    "# '2019-11-18_J065',\n",
    "# '2020-02-27_RL075',\n",
    "# '2020-03-03_RL074',\n",
    "# '2020-03-05_RL070',\n",
    "# '2020-03-05_RL072',\n",
    "# '2020-03-12_RL070',\n",
    "# '2020-03-16_RL074',\n",
    "# '2020-03-19_RL075',\n",
    "# '2020-03-20_RL080'\n",
    "\n",
    "pkl_path = os.path.join(pkl_folder, '2020-03-03_RL074.pkl')\n",
    "\n",
    "with open(pkl_path, 'rb') as f:\n",
    "    exp_obj = pickle.load(f)\n",
    "    \n",
    "print('Loaded pickled object.')"
   ]
  },
  {
   "cell_type": "markdown",
   "metadata": {},
   "source": [
    "### Show all attributes in exp_obj or sub_objs"
   ]
  },
  {
   "cell_type": "code",
   "execution_count": 3,
   "metadata": {
    "scrolled": true
   },
   "outputs": [
    {
     "name": "stdout",
     "output_type": "stream",
     "text": [
      "Session object attributes\n",
      "ss_id\n",
      "sheet_name\n",
      "s2p_path\n",
      "photostim_r\n",
      "photostim_s\n",
      "whisker_stim\n",
      "spont\n",
      "frame_list\n",
      "\n",
      "Experimental object attributes\n",
      "tiff_path\n",
      "naparm_path\n",
      "paq_path\n",
      "sheet_name\n",
      "s2p_path\n",
      "stim_channel\n",
      "stim_type\n",
      "fps\n",
      "frame_x\n",
      "frame_y\n",
      "n_planes\n",
      "pix_sz_x\n",
      "pix_sz_y\n",
      "scan_x\n",
      "scan_y\n",
      "zoom\n",
      "n_frames\n",
      "last_good_frame\n",
      "n_groups\n",
      "n_reps\n",
      "n_shots\n",
      "n_trials\n",
      "inter_point_delay\n",
      "spiral_size\n",
      "single_stim_dur\n",
      "stim_dur\n",
      "duration_frames\n",
      "stim_start_frames\n",
      "frames\n",
      "cell_id\n",
      "n_units\n",
      "cell_plane\n",
      "cell_med\n",
      "cell_s1\n",
      "cell_x\n",
      "cell_y\n",
      "raw\n",
      "mean_img\n",
      "xoff\n",
      "yoff\n",
      "pre_frames\n",
      "post_frames\n",
      "all_trials\n",
      "stas\n",
      "all_amplitudes\n",
      "sta_amplitudes\n",
      "t_tests\n",
      "wilcoxons\n",
      "sta_sig\n",
      "sta_sig_nomulti\n",
      "single_sig\n",
      "n_targets\n",
      "target_coords\n",
      "target_areas\n",
      "targeted_cells\n",
      "n_targeted_cells\n"
     ]
    }
   ],
   "source": [
    "# Show all attributes in exp_obj or sub_objs\n",
    "print('Session object attributes')\n",
    "for key, value in vars(exp_obj).items():\n",
    "    print(key)\n",
    "\n",
    "print('\\nExperimental object attributes')\n",
    "for key, value in vars(exp_obj.photostim_r).items():\n",
    "    print(key)"
   ]
  },
  {
   "cell_type": "code",
   "execution_count": 259,
   "metadata": {},
   "outputs": [
    {
     "name": "stdout",
     "output_type": "stream",
     "text": [
      "total stim duration (frames): 17\n"
     ]
    }
   ],
   "source": [
    "sub_obj = exp_obj.whisker_stim\n",
    "\n",
    "total_frames = np.sum(exp_obj.frame_list)\n",
    "dff = np.zeros([sub_obj.n_planes, sub_obj.n_units[0], total_frames])\n",
    "\n",
    "for plane in range(sub_obj.n_planes):\n",
    "    dff[plane] = uf.dfof2(sub_obj.raw[plane])\n",
    "    \n",
    "paq = paq_read(sub_obj.paq_path)\n",
    "frame_clock = uf.paq_data(paq, 'frame_clock', threshold_ttl=True, plot=False)\n",
    "stim_times = uf.paq_data(paq, sub_obj.stim_channel, threshold_ttl=True, plot=False)\n",
    "\n",
    "sub_obj.stim_start_frames = []\n",
    "\n",
    "for plane in range(sub_obj.n_planes):\n",
    "\n",
    "    stim_start_frames = uf.stim_start_frame(paq, sub_obj.stim_channel, \n",
    "                        frame_clock, stim_times, plane, sub_obj.n_planes)\n",
    "            \n",
    "    sub_obj.stim_start_frames.append(stim_start_frames)\n",
    "\n",
    "#correct this based on txt file\n",
    "duration_ms = sub_obj.stim_dur\n",
    "frame_rate = sub_obj.fps/sub_obj.n_planes\n",
    "duration_frames = np.ceil((duration_ms/1000)*frame_rate) + 1 #+1 as sometimes artifact leaked in to data\n",
    "sub_obj.duration_frames = int(duration_frames)\n",
    "print('total stim duration (frames):', int(duration_frames))"
   ]
  },
  {
   "cell_type": "code",
   "execution_count": 261,
   "metadata": {},
   "outputs": [
    {
     "ename": "ValueError",
     "evalue": "cannot reshape array of size 517408 into shape (703,91,newaxis)",
     "output_type": "error",
     "traceback": [
      "\u001b[0;31m---------------------------------------------------------------------------\u001b[0m",
      "\u001b[0;31mValueError\u001b[0m                                Traceback (most recent call last)",
      "\u001b[0;32m<ipython-input-261-7798db9802b2>\u001b[0m in \u001b[0;36m<module>\u001b[0;34m\u001b[0m\n\u001b[1;32m     18\u001b[0m \u001b[0;34m\u001b[0m\u001b[0m\n\u001b[1;32m     19\u001b[0m         \u001b[0;31m# reconstruct trials from pre and post periods\u001b[0m\u001b[0;34m\u001b[0m\u001b[0;34m\u001b[0m\u001b[0;34m\u001b[0m\u001b[0m\n\u001b[0;32m---> 20\u001b[0;31m         \u001b[0mpre_trials\u001b[0m \u001b[0;34m=\u001b[0m \u001b[0mnp\u001b[0m\u001b[0;34m.\u001b[0m\u001b[0mreshape\u001b[0m\u001b[0;34m(\u001b[0m\u001b[0mpre\u001b[0m\u001b[0;34m,\u001b[0m \u001b[0;34m(\u001b[0m\u001b[0mpre\u001b[0m\u001b[0;34m.\u001b[0m\u001b[0mshape\u001b[0m\u001b[0;34m[\u001b[0m\u001b[0;36m0\u001b[0m\u001b[0;34m]\u001b[0m\u001b[0;34m,\u001b[0m \u001b[0msub_obj\u001b[0m\u001b[0;34m.\u001b[0m\u001b[0mn_trials\u001b[0m\u001b[0;34m,\u001b[0m \u001b[0;34m-\u001b[0m\u001b[0;36m1\u001b[0m\u001b[0;34m)\u001b[0m\u001b[0;34m)\u001b[0m\u001b[0;34m\u001b[0m\u001b[0;34m\u001b[0m\u001b[0m\n\u001b[0m\u001b[1;32m     21\u001b[0m         \u001b[0mpost_trials\u001b[0m \u001b[0;34m=\u001b[0m \u001b[0mnp\u001b[0m\u001b[0;34m.\u001b[0m\u001b[0mreshape\u001b[0m\u001b[0;34m(\u001b[0m\u001b[0mpost\u001b[0m\u001b[0;34m,\u001b[0m \u001b[0;34m(\u001b[0m\u001b[0mpost\u001b[0m\u001b[0;34m.\u001b[0m\u001b[0mshape\u001b[0m\u001b[0;34m[\u001b[0m\u001b[0;36m0\u001b[0m\u001b[0;34m]\u001b[0m\u001b[0;34m,\u001b[0m \u001b[0msub_obj\u001b[0m\u001b[0;34m.\u001b[0m\u001b[0mn_trials\u001b[0m\u001b[0;34m,\u001b[0m \u001b[0;34m-\u001b[0m\u001b[0;36m1\u001b[0m\u001b[0;34m)\u001b[0m\u001b[0;34m)\u001b[0m\u001b[0;34m\u001b[0m\u001b[0;34m\u001b[0m\u001b[0m\n\u001b[1;32m     22\u001b[0m         \u001b[0mstim_offset\u001b[0m \u001b[0;34m=\u001b[0m \u001b[0mnp\u001b[0m\u001b[0;34m.\u001b[0m\u001b[0mzeros\u001b[0m\u001b[0;34m(\u001b[0m\u001b[0;34m(\u001b[0m\u001b[0mpre\u001b[0m\u001b[0;34m.\u001b[0m\u001b[0mshape\u001b[0m\u001b[0;34m[\u001b[0m\u001b[0;36m0\u001b[0m\u001b[0;34m]\u001b[0m\u001b[0;34m,\u001b[0m \u001b[0msub_obj\u001b[0m\u001b[0;34m.\u001b[0m\u001b[0mn_trials\u001b[0m\u001b[0;34m,\u001b[0m \u001b[0msub_obj\u001b[0m\u001b[0;34m.\u001b[0m\u001b[0mduration_frames\u001b[0m\u001b[0;34m)\u001b[0m\u001b[0;34m)\u001b[0m\u001b[0;34m\u001b[0m\u001b[0;34m\u001b[0m\u001b[0m\n",
      "\u001b[0;32m<__array_function__ internals>\u001b[0m in \u001b[0;36mreshape\u001b[0;34m(*args, **kwargs)\u001b[0m\n",
      "\u001b[0;32m~/anaconda3/lib/python3.7/site-packages/numpy/core/fromnumeric.py\u001b[0m in \u001b[0;36mreshape\u001b[0;34m(a, newshape, order)\u001b[0m\n\u001b[1;32m    299\u001b[0m            [5, 6]])\n\u001b[1;32m    300\u001b[0m     \"\"\"\n\u001b[0;32m--> 301\u001b[0;31m     \u001b[0;32mreturn\u001b[0m \u001b[0m_wrapfunc\u001b[0m\u001b[0;34m(\u001b[0m\u001b[0ma\u001b[0m\u001b[0;34m,\u001b[0m \u001b[0;34m'reshape'\u001b[0m\u001b[0;34m,\u001b[0m \u001b[0mnewshape\u001b[0m\u001b[0;34m,\u001b[0m \u001b[0morder\u001b[0m\u001b[0;34m=\u001b[0m\u001b[0morder\u001b[0m\u001b[0;34m)\u001b[0m\u001b[0;34m\u001b[0m\u001b[0;34m\u001b[0m\u001b[0m\n\u001b[0m\u001b[1;32m    302\u001b[0m \u001b[0;34m\u001b[0m\u001b[0m\n\u001b[1;32m    303\u001b[0m \u001b[0;34m\u001b[0m\u001b[0m\n",
      "\u001b[0;32m~/anaconda3/lib/python3.7/site-packages/numpy/core/fromnumeric.py\u001b[0m in \u001b[0;36m_wrapfunc\u001b[0;34m(obj, method, *args, **kwds)\u001b[0m\n\u001b[1;32m     59\u001b[0m \u001b[0;34m\u001b[0m\u001b[0m\n\u001b[1;32m     60\u001b[0m     \u001b[0;32mtry\u001b[0m\u001b[0;34m:\u001b[0m\u001b[0;34m\u001b[0m\u001b[0;34m\u001b[0m\u001b[0m\n\u001b[0;32m---> 61\u001b[0;31m         \u001b[0;32mreturn\u001b[0m \u001b[0mbound\u001b[0m\u001b[0;34m(\u001b[0m\u001b[0;34m*\u001b[0m\u001b[0margs\u001b[0m\u001b[0;34m,\u001b[0m \u001b[0;34m**\u001b[0m\u001b[0mkwds\u001b[0m\u001b[0;34m)\u001b[0m\u001b[0;34m\u001b[0m\u001b[0;34m\u001b[0m\u001b[0m\n\u001b[0m\u001b[1;32m     62\u001b[0m     \u001b[0;32mexcept\u001b[0m \u001b[0mTypeError\u001b[0m\u001b[0;34m:\u001b[0m\u001b[0;34m\u001b[0m\u001b[0;34m\u001b[0m\u001b[0m\n\u001b[1;32m     63\u001b[0m         \u001b[0;31m# A TypeError occurs if the object does have such a method in its\u001b[0m\u001b[0;34m\u001b[0m\u001b[0;34m\u001b[0m\u001b[0;34m\u001b[0m\u001b[0m\n",
      "\u001b[0;31mValueError\u001b[0m: cannot reshape array of size 517408 into shape (703,91,newaxis)"
     ]
    }
   ],
   "source": [
    "if sub_obj.stim_start_frames:\n",
    "        \n",
    "    sub_obj.all_trials = []\n",
    "    sub_obj.stas = []\n",
    "    sub_obj.sta_amplitudes = []\n",
    "    \n",
    "    # key parameter for the sta, how many frames before and after the stim onset do you want to use\n",
    "    sub_obj.pre_frames = int(np.ceil(sub_obj.fps*0.5)) # 500 ms pre-stim period\n",
    "    sub_obj.post_frames = int(np.ceil(sub_obj.fps*3)) # 3000 ms post-stim period\n",
    "    \n",
    "    for plane in range(sub_obj.n_planes):\n",
    "\n",
    "        plane_dff = dff[plane][:,sub_obj.frames]\n",
    "        \n",
    "        pre, post, _ = uf.test_responsive(plane_dff, frame_clock, stim_times, \n",
    "                                                 sub_obj.pre_frames, sub_obj.post_frames, \n",
    "                                                 sub_obj.duration_frames)\n",
    "        \n",
    "        # reconstruct trials from pre and post periods\n",
    "        if pre.shape[1]/sub_obj.n_trials\n",
    "        \n",
    "        pre_trials = np.reshape(pre, (pre.shape[0], sub_obj.n_trials, -1))\n",
    "        post_trials = np.reshape(post, (post.shape[0], sub_obj.n_trials, -1))\n",
    "        stim_offset = np.zeros((pre.shape[0], sub_obj.n_trials, sub_obj.duration_frames))\n",
    "        all_trials = np.concatenate((pre_trials, stim_offset, post_trials), axis=2)\n",
    "        \n",
    "        sub_obj.all_trials.append(all_trials)\n",
    "        \n",
    "        # scale all_trials \n",
    "        all_trials_scaled = np.zeros_like(all_trials)\n",
    "        for cell in range(all_trials.shape[0]):\n",
    "            for trial in range(all_trials.shape[1]):\n",
    "                all_trials_scaled[cell][trial] = all_trials[cell][trial] - all_trials[cell][trial][0]\n",
    "         \n",
    "        pre_f = all_trials_scaled[:, :, :sub_obj.pre_frames]\n",
    "        stim_end = sub_obj.pre_frames + sub_obj.duration_frames\n",
    "        post_f = all_trials_scaled[:, :, stim_end : stim_end + sub_obj.pre_frames]\n",
    "        \n",
    "        all_amplitudes = np.mean(pre_f, 2) - np.mean(post_f, 2)\n",
    "        t_tests = stats.ttest_rel(np.mean(pre_f, 2).transpose(), np.mean(post_f, 2).transpose())\n",
    "                                  \n",
    "        # calculate stimulus-triggered average trial and scale dfof to 0 for each cell\n",
    "        sta = np.mean(sub_obj.all_trials[0], axis=1)\n",
    "        sta_scaled = [sta[i] - sta[i][0] for i in range(sta.shape[0])]\n",
    "        \n",
    "        sta_scaled = np.array(sta_scaled)\n",
    "        sub_obj.stas.append(sta_scaled)\n",
    "        \n",
    "        # calculate amplitude of response around stim\n",
    "        pre_sta = sta_scaled[:, :sub_obj.pre_frames]\n",
    "        post_sta = sta_scaled[:, stim_end : stim_end + sub_obj.pre_frames]\n",
    "\n",
    "        sta_amplitudes = np.mean(post_sta, 1) - np.mean(pre_sta, 1)\n",
    "        sub_obj.sta_amplitudes.append(sta_amplitudes)"
   ]
  },
  {
   "cell_type": "code",
   "execution_count": 262,
   "metadata": {},
   "outputs": [
    {
     "data": {
      "text/plain": [
       "15288"
      ]
     },
     "execution_count": 262,
     "metadata": {},
     "output_type": "execute_result"
    }
   ],
   "source": [
    "sub_obj.n_frames"
   ]
  },
  {
   "cell_type": "code",
   "execution_count": null,
   "metadata": {},
   "outputs": [],
   "source": [
    "# backup of old cellStaProcessing\n",
    "\n",
    "if self.stim_start_frames:\n",
    "            \n",
    "            #this is the key parameter for the sta, how many frames before and after the stim onset do you want to use\n",
    "            self.pre_frames = int(np.ceil(self.fps*0.5)) # 500 ms pre-stim period\n",
    "            self.post_frames = int(np.ceil(self.fps*3)) # 3000 ms post-stim period\n",
    "\n",
    "            #list of cell pixel intensity values during each stim on each trial\n",
    "            self.all_trials = [] # list 1 = cells, list 2 = trials, list 3 = dff vector\n",
    "\n",
    "            # the average of every trial\n",
    "            self.stas = [] # list 1 = cells, list 2 = sta vector\n",
    "\n",
    "            self.all_amplitudes = []\n",
    "            self.sta_amplitudes = []\n",
    "\n",
    "            self.t_tests = []\n",
    "            self.wilcoxons = []\n",
    "\n",
    "            for plane in range(self.n_planes):\n",
    "                \n",
    "                raw = self.raw[plane][:,self.frames] \n",
    "\n",
    "                all_trials = [] # list 1 = cells, list 2 = trials, list 3 = dff vector\n",
    "\n",
    "                stas = [] # list 1 = cells, list 2 = sta vector\n",
    "\n",
    "                all_amplitudes = []\n",
    "                sta_amplitudes = []\n",
    "\n",
    "                t_tests = []\n",
    "                wilcoxons = []\n",
    "\n",
    "                #loop through each cell\n",
    "                for i, unit in enumerate(raw):\n",
    "\n",
    "                    trials = []\n",
    "                    amplitudes = []\n",
    "                    df = []\n",
    "                    \n",
    "                    # a flat list of all observations before stim occured\n",
    "                    pre_obs = []\n",
    "                    # a flat list of all observations after stim occured\n",
    "                    post_obs = []\n",
    "                    \n",
    "                    for stim in self.stim_start_frames[plane]:\n",
    "                        \n",
    "                        # get baseline values from pre_stim\n",
    "                        pre_stim_f  = unit[ stim - self.pre_frames : stim ]\n",
    "                        baseline = np.mean(pre_stim_f)\n",
    "\n",
    "                        # the whole trial and dfof using baseline\n",
    "                        trial = unit[ stim - self.pre_frames : stim + self.post_frames ]\n",
    "                        trial = [ ( (f-baseline) / baseline) * 100 for f in trial ] #dff calc\n",
    "                        \n",
    "                        if trial: #this is because of missing data in t-series, can be removed RL\n",
    "                            \n",
    "                            trials.append(trial)\n",
    "                            \n",
    "                            #calc amplitude of response        \n",
    "                            pre_f = trial[ : self.pre_frames - 1]\n",
    "                            pre_f = np.mean(pre_f)\n",
    "                            \n",
    "                            avg_post_start = self.pre_frames + ( self.duration_frames + 1 )\n",
    "                            avg_post_end = avg_post_start + int(np.ceil(self.fps*0.5)) # post-stim period of 500 ms\n",
    "                            \n",
    "                            post_f = trial[avg_post_start : avg_post_end]\n",
    "                            post_f = np.mean(post_f)\n",
    "                            amplitude = post_f - pre_f\n",
    "                            amplitudes.append(amplitude)\n",
    "                            \n",
    "                            # append to flat lists\n",
    "                            pre_obs.append(pre_f)\n",
    "                            post_obs.append(post_f)\n",
    "                        \n",
    "                    trials = np.array(trials)\n",
    "                    all_trials.append(trials)\n",
    "                    \n",
    "                    #average amplitudes across trials\n",
    "                    amplitudes = np.array(amplitudes)\n",
    "                    all_amplitudes.append(amplitudes)\n",
    "                    sta_amplitude = np.mean(amplitudes, axis=0)\n",
    "                    sta_amplitudes.append(sta_amplitude)\n",
    "\n",
    "                    #average across all trials\n",
    "                    sta = np.mean(trials, axis=0)        \n",
    "                    stas.append(sta)\n",
    "                    \n",
    "                    #remove nans from flat lists\n",
    "                    pre_obs = [x for x in pre_obs if ~np.isnan(x)]\n",
    "                    post_obs = [x for x in post_obs if ~np.isnan(x)]\n",
    "                    \n",
    "                    #t_test and man whit test pre and post stim (any other test could also be used here)\n",
    "                    t_test = stats.ttest_rel(pre_obs, post_obs)\n",
    "                    t_tests.append(t_test)\n",
    "                    \n",
    "#                     wilcoxon = stats.wilcoxon(pre_obs, post_obs)\n",
    "#                     wilcoxons.append(wilcoxon)\n",
    "\n",
    "                self.all_trials.append(np.array(all_trials))\n",
    "                self.stas.append(np.array(stas))\n",
    "                \n",
    "                self.all_amplitudes.append(np.array(all_amplitudes))\n",
    "                self.sta_amplitudes.append(np.array(sta_amplitudes))\n",
    "\n",
    "                self.t_tests.append(np.array(t_tests))\n",
    "                self.wilcoxons.append(np.array(wilcoxons))\n",
    "            \n",
    "#             plt.figure()\n",
    "#             plt.plot([avg_post_start] * 2, [-1000, 1000])\n",
    "#             plt.plot([avg_post_end] * 2, [-1000, 1000])\n",
    "#             plt.plot([self.pre_frames - 1] * 2, [-1000, 1000])\n",
    "#             plt.plot([0] * 2, [-1000, 1000])\n",
    "#             plt.plot(stas[5])\n",
    "#             plt.plot(stas[10])\n",
    "#             plt.plot(stas[15])\n",
    "#             plt.ylim([-100,200]) \n",
    "\n",
    "            self._staSignificance(test)\n",
    "            self._singleTrialSignificance()"
   ]
  },
  {
   "cell_type": "code",
   "execution_count": null,
   "metadata": {},
   "outputs": [],
   "source": [
    "def plotAllDff(sub_obj, threshold):\n",
    "    \n",
    "    #all trials (dff based on sub_obj.pre_frames pre-stim period)\n",
    "    all_trials_dff = np.array(sub_obj.all_trials[0])\n",
    "\n",
    "    #s1 cell ids\n",
    "    in_s1 = np.array(sub_obj.cell_s1[0])\n",
    "    s1_cells = np.where(in_s1)\n",
    "\n",
    "    #s1 trials\n",
    "    s1_trials_dff = all_trials_dff[s1_cells][:][:]\n",
    "    s1_trials_dff_avg = np.mean(s1_trials_dff, axis=1)\n",
    "    #distribution of s1 trial dff values (few really high/low)\n",
    "#     plt.hist(np.mean(s1_trials_dff, axis=(1,2)));\n",
    "#     plt.axis([-2500, 1000, 0, 5])\n",
    "\n",
    "    #filter high/low values out\n",
    "    mean_dff_s1 = np.mean(s1_trials_dff_avg, axis=1)\n",
    "    extreme_s1_means = np.where(abs(mean_dff_s1) > threshold)\n",
    "    print(len(extreme_s1_means[0]), 'extreme values excluded')\n",
    "    s1_trials_dff_avg = np.delete(s1_trials_dff_avg, extreme_s1_means, axis=0)\n",
    "    \n",
    "    plt.plot(s1_trials_dff_avg.transpose(), lw=0.2);\n",
    "    plt.plot(np.mean(s1_trials_dff_avg, axis=0), lw=5)\n",
    "    plt.axis([0, 54, -10, 25])"
   ]
  },
  {
   "cell_type": "code",
   "execution_count": null,
   "metadata": {},
   "outputs": [],
   "source": [
    "sub_obj = exp_obj.photostim_s\n",
    "threshold = 500\n",
    "\n",
    "plt.figure()\n",
    "plotAllDff(sub_obj, threshold)\n",
    "\n",
    "sub_obj = exp_obj.photostim_r\n",
    "\n",
    "plt.figure()\n",
    "plotAllDff(sub_obj, threshold)\n",
    "\n",
    "sub_obj = exp_obj.spont\n",
    "\n",
    "plt.figure()\n",
    "plotAllDff(sub_obj, threshold)"
   ]
  },
  {
   "cell_type": "markdown",
   "metadata": {},
   "source": [
    "### Play with whisker stim data"
   ]
  },
  {
   "cell_type": "code",
   "execution_count": null,
   "metadata": {},
   "outputs": [],
   "source": [
    "# Calculate the number of cells that responded both to whisker stim and photostim\n",
    "\n",
    "# a = np.where(exp_obj.whisker_stim.sta_sig[0])\n",
    "# b = np.where(exp_obj.photostim_r.sta_sig[0])\n",
    "# print(a,b)\n",
    "# sum(1 for i in b[0] if i in a[0])\n",
    "\n",
    "# Plot whisker stim trials where cells went over 200 dFF\n",
    "\n",
    "plt.figure(figsize=(5,10))\n",
    "sta_mean = []\n",
    "\n",
    "for i, sta in enumerate(exp_obj.whisker_stim.stas[0]):\n",
    "    if exp_obj.whisker_stim.sta_sig[0][i]:\n",
    "        plt.plot(sta, alpha=0.2)\n",
    "        sta_mean.append(sta)\n",
    "    \n",
    "        if exp_obj.whisker_stim.sta_amplitudes[0][i] > 200:\n",
    "            print(exp_obj.whisker_stim.cell_id[0][i])\n",
    "            \n",
    "sta_mean = np.mean(sta_mean, axis=0)\n",
    "\n",
    "plt.plot(sta_mean, 'k', linewidth=2);\n",
    "\n",
    "plt.axis([0, 55, -10, 300]);"
   ]
  },
  {
   "cell_type": "markdown",
   "metadata": {},
   "source": [
    "### Play with dataframes from master object"
   ]
  },
  {
   "cell_type": "code",
   "execution_count": null,
   "metadata": {},
   "outputs": [],
   "source": [
    "with open(master_path, 'rb') as f:\n",
    "    master_obj = pickle.load(f)\n",
    "\n",
    "df = master_obj.df\n",
    "print(df.columns)"
   ]
  },
  {
   "cell_type": "code",
   "execution_count": null,
   "metadata": {},
   "outputs": [],
   "source": [
    "df"
   ]
  }
 ],
 "metadata": {
  "kernelspec": {
   "display_name": "Python 3",
   "language": "python",
   "name": "python3"
  },
  "language_info": {
   "codemirror_mode": {
    "name": "ipython",
    "version": 3
   },
   "file_extension": ".py",
   "mimetype": "text/x-python",
   "name": "python",
   "nbconvert_exporter": "python",
   "pygments_lexer": "ipython3",
   "version": "3.7.4"
  }
 },
 "nbformat": 4,
 "nbformat_minor": 4
}
