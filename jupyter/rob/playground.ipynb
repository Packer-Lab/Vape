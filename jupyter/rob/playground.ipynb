{
 "cells": [
  {
   "cell_type": "code",
   "execution_count": null,
   "metadata": {},
   "outputs": [],
   "source": [
    "%run ./rob_setup_notebook.ipynb"
   ]
  },
  {
   "cell_type": "markdown",
   "metadata": {},
   "source": [
    "### Add or check attributes in all exp_obj pkl files"
   ]
  },
  {
   "cell_type": "code",
   "execution_count": null,
   "metadata": {},
   "outputs": [],
   "source": [
    "pkl_files = os.listdir(pkl_folder)\n",
    "\n",
    "for i,pkl in enumerate(pkl_files):\n",
    "    if '.pkl' in pkl:\n",
    "        \n",
    "        pkl_path = os.path.join(pkl_folder, pkl)\n",
    "\n",
    "        with open(pkl_path, 'rb') as f:\n",
    "            exp_obj = pickle.load(f)\n",
    "        \n",
    "#         pkl_list = [exp_obj.photostim_r, exp_obj.photostim_s]\n",
    "\n",
    "#         if exp_obj.spont.n_frames > 0:\n",
    "#             pkl_list.append(exp_obj.spont)\n",
    "\n",
    "#         if exp_obj.whisker_stim.n_frames > 0:\n",
    "#             pkl_list.append(exp_obj.whisker_stim)\n",
    "        \n",
    "#         for sub_obj in pkl_list:"
   ]
  },
  {
   "cell_type": "markdown",
   "metadata": {},
   "source": [
    "### Play with data from individual experimental objects"
   ]
  },
  {
   "cell_type": "code",
   "execution_count": null,
   "metadata": {},
   "outputs": [],
   "source": [
    "# '2019-06-11_J048',\n",
    "# '2019-06-13_J052',\n",
    "# '2019-06-25_RL048',\n",
    "# '2019-07-15_RL052',\n",
    "# '2019-08-14_J058',\n",
    "# '2019-08-14_J059',\n",
    "# '2019-08-15_RL055',\n",
    "# '2019-11-14_J061',\n",
    "# '2019-11-14_J063',\n",
    "# '2019-11-15_J064',\n",
    "# '2019-11-18_J065',\n",
    "# '2020-02-27_RL075'\n",
    "\n",
    "pkl_path = os.path.join(pkl_folder, '2020-02-27_RL075.pkl')\n",
    "\n",
    "with open(pkl_path, 'rb') as f:\n",
    "    exp_obj = pickle.load(f)\n",
    "\n",
    "# with open(pkl_path, 'wb') as f:\n",
    "#     pickle.dump(exp_obj, f)"
   ]
  },
  {
   "cell_type": "markdown",
   "metadata": {},
   "source": [
    "### Show all attributes in exp_obj or sub_objs"
   ]
  },
  {
   "cell_type": "code",
   "execution_count": null,
   "metadata": {
    "scrolled": true
   },
   "outputs": [],
   "source": [
    "# Show all attributes in exp_obj or sub_objs\n",
    "\n",
    "# for key, value in vars(exp_obj).items():\n",
    "#     print(key)\n",
    "\n",
    "for key, value in vars(exp_obj.photostim_s).items():\n",
    "    print(key)"
   ]
  },
  {
   "cell_type": "markdown",
   "metadata": {},
   "source": [
    "### Play with whisker stim data"
   ]
  },
  {
   "cell_type": "code",
   "execution_count": null,
   "metadata": {},
   "outputs": [],
   "source": [
    "# Calculate the number of cells that responded both to whisker stim and photostim\n",
    "\n",
    "a = np.where(exp_obj.whisker_stim.sta_sig[0])\n",
    "b = np.where(exp_obj.photostim_r.sta_sig[0])\n",
    "print(a,b)\n",
    "sum(1 for i in b[0] if i in a[0])\n",
    "\n",
    "# Plot whisker stim trials where cells went over 200 dFF\n",
    "\n",
    "# plt.figure(figsize=(5,10))\n",
    "# sta_mean = []\n",
    "\n",
    "# for i, sta in enumerate(exp_obj.whisker_stim.stas[0]):\n",
    "#     if exp_obj.whisker_stim.sta_sig[0][i]:\n",
    "#         plt.plot(sta, alpha=0.2)\n",
    "#         sta_mean.append(sta)\n",
    "    \n",
    "#         if exp_obj.whisker_stim.sta_amplitudes[0][i] > 200:\n",
    "#             print(exp_obj.whisker_stim.cell_id[0][i])\n",
    "            \n",
    "# sta_mean = np.mean(sta_mean, axis=0)\n",
    "\n",
    "# plt.plot(sta_mean, 'k', linewidth=2)\n",
    "\n",
    "# plt.axis([0, 55, -10, 300])"
   ]
  },
  {
   "cell_type": "code",
   "execution_count": 3,
   "metadata": {
    "collapsed": true,
    "jupyter": {
     "outputs_hidden": true
    }
   },
   "outputs": [
    {
     "ename": "IndexError",
     "evalue": "index out of range",
     "output_type": "error",
     "traceback": [
      "\u001b[0;31m---------------------------------------------------------------------------\u001b[0m",
      "\u001b[0;31mIndexError\u001b[0m                                Traceback (most recent call last)",
      "\u001b[0;32m<ipython-input-3-0ead96f67344>\u001b[0m in \u001b[0;36m<module>\u001b[0;34m\u001b[0m\n\u001b[1;32m     67\u001b[0m         \u001b[0mend_frames\u001b[0m \u001b[0;34m=\u001b[0m \u001b[0mtotal_frames\u001b[0m\u001b[0;34m[\u001b[0m\u001b[0;34m-\u001b[0m\u001b[0;36m1000\u001b[0m\u001b[0;34m:\u001b[0m\u001b[0;34m-\u001b[0m\u001b[0;36m30\u001b[0m\u001b[0;34m]\u001b[0m \u001b[0;31m# get 970 frames before end\u001b[0m\u001b[0;34m\u001b[0m\u001b[0;34m\u001b[0m\u001b[0m\n\u001b[1;32m     68\u001b[0m \u001b[0;34m\u001b[0m\u001b[0m\n\u001b[0;32m---> 69\u001b[0;31m         \u001b[0mstack_start\u001b[0m \u001b[0;34m=\u001b[0m \u001b[0mtf\u001b[0m\u001b[0;34m.\u001b[0m\u001b[0mimread\u001b[0m\u001b[0;34m(\u001b[0m\u001b[0mtiff_file\u001b[0m\u001b[0;34m,\u001b[0m \u001b[0mkey\u001b[0m\u001b[0;34m=\u001b[0m\u001b[0mstart_frames\u001b[0m\u001b[0;34m)\u001b[0m\u001b[0;34m\u001b[0m\u001b[0;34m\u001b[0m\u001b[0m\n\u001b[0m\u001b[1;32m     70\u001b[0m         \u001b[0mstack_end\u001b[0m \u001b[0;34m=\u001b[0m \u001b[0mtf\u001b[0m\u001b[0;34m.\u001b[0m\u001b[0mimread\u001b[0m\u001b[0;34m(\u001b[0m\u001b[0mtiff_file\u001b[0m\u001b[0;34m,\u001b[0m \u001b[0mkey\u001b[0m\u001b[0;34m=\u001b[0m\u001b[0mend_frames\u001b[0m\u001b[0;34m)\u001b[0m\u001b[0;34m\u001b[0m\u001b[0;34m\u001b[0m\u001b[0m\n\u001b[1;32m     71\u001b[0m \u001b[0;34m\u001b[0m\u001b[0m\n",
      "\u001b[0;32m~/anaconda3/lib/python3.7/site-packages/tifffile/tifffile.py\u001b[0m in \u001b[0;36mimread\u001b[0;34m(files, **kwargs)\u001b[0m\n\u001b[1;32m    714\u001b[0m     \u001b[0;32mif\u001b[0m \u001b[0misinstance\u001b[0m\u001b[0;34m(\u001b[0m\u001b[0mfiles\u001b[0m\u001b[0;34m,\u001b[0m \u001b[0mbasestring\u001b[0m\u001b[0;34m)\u001b[0m \u001b[0;32mor\u001b[0m \u001b[0mhasattr\u001b[0m\u001b[0;34m(\u001b[0m\u001b[0mfiles\u001b[0m\u001b[0;34m,\u001b[0m \u001b[0;34m'seek'\u001b[0m\u001b[0;34m)\u001b[0m\u001b[0;34m:\u001b[0m\u001b[0;34m\u001b[0m\u001b[0;34m\u001b[0m\u001b[0m\n\u001b[1;32m    715\u001b[0m         \u001b[0;32mwith\u001b[0m \u001b[0mTiffFile\u001b[0m\u001b[0;34m(\u001b[0m\u001b[0mfiles\u001b[0m\u001b[0;34m,\u001b[0m \u001b[0;34m**\u001b[0m\u001b[0mkwargs_file\u001b[0m\u001b[0;34m)\u001b[0m \u001b[0;32mas\u001b[0m \u001b[0mtif\u001b[0m\u001b[0;34m:\u001b[0m\u001b[0;34m\u001b[0m\u001b[0;34m\u001b[0m\u001b[0m\n\u001b[0;32m--> 716\u001b[0;31m             \u001b[0;32mreturn\u001b[0m \u001b[0mtif\u001b[0m\u001b[0;34m.\u001b[0m\u001b[0masarray\u001b[0m\u001b[0;34m(\u001b[0m\u001b[0;34m**\u001b[0m\u001b[0mkwargs\u001b[0m\u001b[0;34m)\u001b[0m\u001b[0;34m\u001b[0m\u001b[0;34m\u001b[0m\u001b[0m\n\u001b[0m\u001b[1;32m    717\u001b[0m     \u001b[0;32melse\u001b[0m\u001b[0;34m:\u001b[0m\u001b[0;34m\u001b[0m\u001b[0;34m\u001b[0m\u001b[0m\n\u001b[1;32m    718\u001b[0m         \u001b[0;32mwith\u001b[0m \u001b[0mTiffSequence\u001b[0m\u001b[0;34m(\u001b[0m\u001b[0mfiles\u001b[0m\u001b[0;34m,\u001b[0m \u001b[0;34m**\u001b[0m\u001b[0mkwargs_seq\u001b[0m\u001b[0;34m)\u001b[0m \u001b[0;32mas\u001b[0m \u001b[0mimseq\u001b[0m\u001b[0;34m:\u001b[0m\u001b[0;34m\u001b[0m\u001b[0;34m\u001b[0m\u001b[0m\n",
      "\u001b[0;32m~/anaconda3/lib/python3.7/site-packages/tifffile/tifffile.py\u001b[0m in \u001b[0;36masarray\u001b[0;34m(self, key, series, out, validate, maxworkers)\u001b[0m\n\u001b[1;32m   2379\u001b[0m             \u001b[0;32mpass\u001b[0m\u001b[0;34m\u001b[0m\u001b[0;34m\u001b[0m\u001b[0m\n\u001b[1;32m   2380\u001b[0m         \u001b[0;32melif\u001b[0m \u001b[0mseries\u001b[0m \u001b[0;32mis\u001b[0m \u001b[0;32mNone\u001b[0m\u001b[0;34m:\u001b[0m\u001b[0;34m\u001b[0m\u001b[0;34m\u001b[0m\u001b[0m\n\u001b[0;32m-> 2381\u001b[0;31m             \u001b[0mpages\u001b[0m \u001b[0;34m=\u001b[0m \u001b[0mself\u001b[0m\u001b[0;34m.\u001b[0m\u001b[0mpages\u001b[0m\u001b[0;34m.\u001b[0m\u001b[0m_getlist\u001b[0m\u001b[0;34m(\u001b[0m\u001b[0mkey\u001b[0m\u001b[0;34m)\u001b[0m\u001b[0;34m\u001b[0m\u001b[0;34m\u001b[0m\u001b[0m\n\u001b[0m\u001b[1;32m   2382\u001b[0m         \u001b[0;32melif\u001b[0m \u001b[0misinstance\u001b[0m\u001b[0;34m(\u001b[0m\u001b[0mkey\u001b[0m\u001b[0;34m,\u001b[0m \u001b[0minttypes\u001b[0m\u001b[0;34m)\u001b[0m\u001b[0;34m:\u001b[0m\u001b[0;34m\u001b[0m\u001b[0;34m\u001b[0m\u001b[0m\n\u001b[1;32m   2383\u001b[0m             \u001b[0mpages\u001b[0m \u001b[0;34m=\u001b[0m \u001b[0;34m[\u001b[0m\u001b[0mpages\u001b[0m\u001b[0;34m[\u001b[0m\u001b[0mkey\u001b[0m\u001b[0;34m]\u001b[0m\u001b[0;34m]\u001b[0m\u001b[0;34m\u001b[0m\u001b[0;34m\u001b[0m\u001b[0m\n",
      "\u001b[0;32m~/anaconda3/lib/python3.7/site-packages/tifffile/tifffile.py\u001b[0m in \u001b[0;36m_getlist\u001b[0;34m(self, key, useframes, validate)\u001b[0m\n\u001b[1;32m   3824\u001b[0m         \u001b[0;31m# use first page as keyframe\u001b[0m\u001b[0;34m\u001b[0m\u001b[0;34m\u001b[0m\u001b[0;34m\u001b[0m\u001b[0m\n\u001b[1;32m   3825\u001b[0m         \u001b[0mkeyframe\u001b[0m \u001b[0;34m=\u001b[0m \u001b[0mself\u001b[0m\u001b[0;34m.\u001b[0m\u001b[0m_keyframe\u001b[0m\u001b[0;34m\u001b[0m\u001b[0;34m\u001b[0m\u001b[0m\n\u001b[0;32m-> 3826\u001b[0;31m         \u001b[0mself\u001b[0m\u001b[0;34m.\u001b[0m\u001b[0mkeyframe\u001b[0m \u001b[0;34m=\u001b[0m \u001b[0mnext\u001b[0m\u001b[0;34m(\u001b[0m\u001b[0mkey\u001b[0m\u001b[0;34m)\u001b[0m\u001b[0;34m\u001b[0m\u001b[0;34m\u001b[0m\u001b[0m\n\u001b[0m\u001b[1;32m   3827\u001b[0m         \u001b[0;32mif\u001b[0m \u001b[0mvalidate\u001b[0m\u001b[0;34m:\u001b[0m\u001b[0;34m\u001b[0m\u001b[0;34m\u001b[0m\u001b[0m\n\u001b[1;32m   3828\u001b[0m             \u001b[0mvalidate\u001b[0m \u001b[0;34m=\u001b[0m \u001b[0mself\u001b[0m\u001b[0;34m.\u001b[0m\u001b[0m_keyframe\u001b[0m\u001b[0;34m.\u001b[0m\u001b[0mhash\u001b[0m\u001b[0;34m\u001b[0m\u001b[0;34m\u001b[0m\u001b[0m\n",
      "\u001b[0;32m~/anaconda3/lib/python3.7/site-packages/tifffile/tifffile.py\u001b[0m in \u001b[0;36mkeyframe\u001b[0;34m(self, index)\u001b[0m\n\u001b[1;32m   3620\u001b[0m         \u001b[0mself\u001b[0m\u001b[0;34m.\u001b[0m\u001b[0m_tiffpage\u001b[0m \u001b[0;34m=\u001b[0m \u001b[0mTiffPage\u001b[0m\u001b[0;34m\u001b[0m\u001b[0;34m\u001b[0m\u001b[0m\n\u001b[1;32m   3621\u001b[0m         \u001b[0;32mtry\u001b[0m\u001b[0;34m:\u001b[0m\u001b[0;34m\u001b[0m\u001b[0;34m\u001b[0m\u001b[0m\n\u001b[0;32m-> 3622\u001b[0;31m             \u001b[0mself\u001b[0m\u001b[0;34m.\u001b[0m\u001b[0m_keyframe\u001b[0m \u001b[0;34m=\u001b[0m \u001b[0mself\u001b[0m\u001b[0;34m.\u001b[0m\u001b[0m_getitem\u001b[0m\u001b[0;34m(\u001b[0m\u001b[0mindex\u001b[0m\u001b[0;34m)\u001b[0m\u001b[0;34m\u001b[0m\u001b[0;34m\u001b[0m\u001b[0m\n\u001b[0m\u001b[1;32m   3623\u001b[0m         \u001b[0;32mfinally\u001b[0m\u001b[0;34m:\u001b[0m\u001b[0;34m\u001b[0m\u001b[0;34m\u001b[0m\u001b[0m\n\u001b[1;32m   3624\u001b[0m             \u001b[0mself\u001b[0m\u001b[0;34m.\u001b[0m\u001b[0m_tiffpage\u001b[0m \u001b[0;34m=\u001b[0m \u001b[0mtiffpage\u001b[0m\u001b[0;34m\u001b[0m\u001b[0;34m\u001b[0m\u001b[0m\n",
      "\u001b[0;32m~/anaconda3/lib/python3.7/site-packages/tifffile/tifffile.py\u001b[0m in \u001b[0;36m_getitem\u001b[0;34m(self, key, validate)\u001b[0m\n\u001b[1;32m   3863\u001b[0m                 \u001b[0;32mreturn\u001b[0m \u001b[0mpage\u001b[0m\u001b[0;34m\u001b[0m\u001b[0;34m\u001b[0m\u001b[0m\n\u001b[1;32m   3864\u001b[0m \u001b[0;34m\u001b[0m\u001b[0m\n\u001b[0;32m-> 3865\u001b[0;31m         \u001b[0mself\u001b[0m\u001b[0;34m.\u001b[0m\u001b[0m_seek\u001b[0m\u001b[0;34m(\u001b[0m\u001b[0mkey\u001b[0m\u001b[0;34m)\u001b[0m\u001b[0;34m\u001b[0m\u001b[0;34m\u001b[0m\u001b[0m\n\u001b[0m\u001b[1;32m   3866\u001b[0m         \u001b[0mpage\u001b[0m \u001b[0;34m=\u001b[0m \u001b[0mself\u001b[0m\u001b[0;34m.\u001b[0m\u001b[0m_tiffpage\u001b[0m\u001b[0;34m(\u001b[0m\u001b[0mself\u001b[0m\u001b[0;34m.\u001b[0m\u001b[0mparent\u001b[0m\u001b[0;34m,\u001b[0m \u001b[0mindex\u001b[0m\u001b[0;34m=\u001b[0m\u001b[0mkey\u001b[0m\u001b[0;34m,\u001b[0m \u001b[0mkeyframe\u001b[0m\u001b[0;34m=\u001b[0m\u001b[0mself\u001b[0m\u001b[0;34m.\u001b[0m\u001b[0m_keyframe\u001b[0m\u001b[0;34m)\u001b[0m\u001b[0;34m\u001b[0m\u001b[0;34m\u001b[0m\u001b[0m\n\u001b[1;32m   3867\u001b[0m         \u001b[0;32mif\u001b[0m \u001b[0mvalidate\u001b[0m \u001b[0;32mand\u001b[0m \u001b[0mvalidate\u001b[0m \u001b[0;34m!=\u001b[0m \u001b[0mpage\u001b[0m\u001b[0;34m.\u001b[0m\u001b[0mhash\u001b[0m\u001b[0;34m:\u001b[0m\u001b[0;34m\u001b[0m\u001b[0;34m\u001b[0m\u001b[0m\n",
      "\u001b[0;32m~/anaconda3/lib/python3.7/site-packages/tifffile/tifffile.py\u001b[0m in \u001b[0;36m_seek\u001b[0;34m(self, index, maxpages)\u001b[0m\n\u001b[1;32m   3786\u001b[0m \u001b[0;34m\u001b[0m\u001b[0m\n\u001b[1;32m   3787\u001b[0m         \u001b[0;32mif\u001b[0m \u001b[0mindex\u001b[0m \u001b[0;34m>=\u001b[0m \u001b[0mlenpages\u001b[0m\u001b[0;34m:\u001b[0m\u001b[0;34m\u001b[0m\u001b[0;34m\u001b[0m\u001b[0m\n\u001b[0;32m-> 3788\u001b[0;31m             \u001b[0;32mraise\u001b[0m \u001b[0mIndexError\u001b[0m\u001b[0;34m(\u001b[0m\u001b[0;34m'index out of range'\u001b[0m\u001b[0;34m)\u001b[0m\u001b[0;34m\u001b[0m\u001b[0;34m\u001b[0m\u001b[0m\n\u001b[0m\u001b[1;32m   3789\u001b[0m \u001b[0;34m\u001b[0m\u001b[0m\n\u001b[1;32m   3790\u001b[0m         \u001b[0mpage\u001b[0m \u001b[0;34m=\u001b[0m \u001b[0mpages\u001b[0m\u001b[0;34m[\u001b[0m\u001b[0mindex\u001b[0m\u001b[0;34m]\u001b[0m\u001b[0;34m\u001b[0m\u001b[0;34m\u001b[0m\u001b[0m\n",
      "\u001b[0;31mIndexError\u001b[0m: index out of range"
     ]
    },
    {
     "data": {
      "image/png": "[encoded data removed]",
      "text/plain": [
       "<Figure size 1080x720 with 2 Axes>"
      ]
     },
     "metadata": {
      "needs_background": "light"
     },
     "output_type": "display_data"
    }
   ],
   "source": [
    "legend = True\n",
    "\n",
    "pkl_list = [\n",
    "#             '2019-06-11_J048.pkl',\n",
    "#             '2019-06-13_J052.pkl',\n",
    "#             '2019-06-25_RL048.pkl',\n",
    "#             '2019-07-15_RL052.pkl',\n",
    "#             '2019-08-14_J058.pkl',\n",
    "#             '2019-08-14_J059.pkl',\n",
    "#             '2019-08-15_RL055.pkl',\n",
    "#             '2019-11-14_J061.pkl',\n",
    "#             '2019-11-14_J063.pkl',\n",
    "#             '2019-11-15_J064.pkl',\n",
    "#             '2019-11-18_J065.pkl',\n",
    "#             '2020-02-27_RL075.pkl',\n",
    "            '2020-03-03_RL074.pkl',\n",
    "#             '2020-03-05_RL070.pkl',\n",
    "#             '2020-03-05_RL072.pkl',\n",
    "#             '2020-03-12_RL070.pkl',\n",
    "#             '2020-03-16_RL074.pkl',\n",
    "#             '2020-03-19_RL075.pkl',\n",
    "#             '2020-03-20_RL080.pkl'\n",
    "           ]\n",
    "\n",
    "for i,pkl in enumerate(pkl_list):\n",
    "    pkl_list[i] = os.path.join(qnap_path, 'pkl_files', pkl)\n",
    "\n",
    "if not pkl_list:\n",
    "    pkl_list = self.pkl_path\n",
    "\n",
    "fig, ax = plt.subplots(nrows=2, ncols=1, figsize=(15,10), sharex=True)\n",
    "labels = []\n",
    "\n",
    "raw_f_frame = np.empty([len(pkl_list), 8])\n",
    "norm_f_frame = np.empty([len(pkl_list), 8])\n",
    "\n",
    "for i,pkl_file in enumerate(pkl_list):\n",
    "\n",
    "    with open(pkl_file, 'rb') as f:\n",
    "        exp_obj = pickle.load(f)\n",
    "        \n",
    "    obj_list = []\n",
    "    \n",
    "    if exp_obj.whisker_stim.n_frames > 0:\n",
    "        obj_list.append(exp_obj.whisker_stim)\n",
    "        \n",
    "    if exp_obj.spont.n_frames > 0:\n",
    "        obj_list.append(exp_obj.spont)\n",
    "\n",
    "    obj_list.extend([exp_obj.photostim_r, exp_obj.photostim_s])\n",
    "        \n",
    "    size_y = exp_obj.photostim_r.frame_y\n",
    "    size_x = exp_obj.photostim_r.frame_x\n",
    "    drift_stack = np.empty([0, size_y, size_x])\n",
    "\n",
    "    for j,sub_obj in enumerate(obj_list):\n",
    "\n",
    "        tiff_path = sub_obj.tiff_path\n",
    "\n",
    "        file_list = os.listdir(tiff_path)\n",
    "        for file in file_list:\n",
    "            if '.tif' in file:\n",
    "                tiff_file = os.path.join(tiff_path, file)\n",
    "\n",
    "        total_frames = range(0,sub_obj.n_frames) #get the range of frames for this experiment\n",
    "        start_frames = total_frames[30:1000] # get 970 frames after start\n",
    "        end_frames = total_frames[-1000:-30] # get 970 frames before end\n",
    "\n",
    "        stack_start = tf.imread(tiff_file, key=start_frames)\n",
    "        stack_end = tf.imread(tiff_file, key=end_frames)\n",
    "\n",
    "        mean_start = np.mean(stack_start, axis=0)\n",
    "        mean_end = np.mean(stack_end, axis=0)\n",
    "\n",
    "        drift_stack = np.append(drift_stack, [mean_start, mean_end], axis=0)\n",
    "                \n",
    "#         save_path = os.path.join(qnap_path, 'Analysis', 'Drift_check', tiff_path.split('/')[-1])\n",
    "#         tf.imwrite(save_path + '_drift_stack.tif', drift_stack.astype('int16'))\n",
    "    \n",
    "    raw_f = np.mean(drift_stack, axis=(1,2))\n",
    "    norm_f = raw_f/raw_f[0]\n",
    "    raw_f_frame[i][:len(raw_f)] = raw_f\n",
    "    norm_f_frame[i][:len(norm_f)] = norm_f\n",
    "\n",
    "    ax[0].plot(raw_f)\n",
    "    ax[1].plot(norm_f)\n",
    "    labels.append(pkl[:-4])               \n",
    "\n",
    "plt.xlabel('experiments');\n",
    "plt.xticks(range(0,8), np.tile(np.array(['start','end']), 4));\n",
    "ax[0].set_ylabel('raw_f');\n",
    "ax[1].set_ylabel('norm_f');\n",
    "ax[1].set_ylim([0.6, 1.2]);       \n",
    "\n",
    "if legend:\n",
    "    plt.legend(labels);"
   ]
  }
 ],
 "metadata": {
  "kernelspec": {
   "display_name": "Python 3",
   "language": "python",
   "name": "python3"
  },
  "language_info": {
   "codemirror_mode": {
    "name": "ipython",
    "version": 3
   },
   "file_extension": ".py",
   "mimetype": "text/x-python",
   "name": "python",
   "nbconvert_exporter": "python",
   "pygments_lexer": "ipython3",
   "version": "3.7.4"
  }
 },
 "nbformat": 4,
 "nbformat_minor": 4
}
