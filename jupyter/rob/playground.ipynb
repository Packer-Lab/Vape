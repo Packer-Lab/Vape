{
 "cells": [
  {
   "cell_type": "markdown",
   "metadata": {},
   "source": [
    "# Notebook for preliminary data analysis"
   ]
  },
  {
   "cell_type": "code",
   "execution_count": 3,
   "metadata": {},
   "outputs": [
    {
     "name": "stdout",
     "output_type": "stream",
     "text": [
      "The autoreload extension is already loaded. To reload it, use:\n",
      "  %reload_ext autoreload\n",
      "\n",
      "Suite2p path: ['/home/rlees/anaconda3/envs/suite2p/lib/python3.7/site-packages/suite2p']\n",
      "qnap_path: /home/rlees/mnt/qnap \n",
      "qnap_data_path /home/rlees/mnt/qnap/Data \n",
      "pkl_folder: /home/rlees/mnt/qnap/pkl_files \n",
      "master_path: /home/rlees/mnt/qnap/master_pkl/master_obj.pkl \n",
      "fig_save_path: /home/rlees/mnt/qnap/Analysis/Figures \n",
      "stam_save_path: /home/rlees/mnt/qnap/Analysis/STA_movies \n",
      "s2_borders_path: /home/rlees/mnt/qnap/Analysis/S2_borders\n"
     ]
    }
   ],
   "source": [
    "%run ./rob_setup_notebook.ipynb\n",
    "    \n",
    "import utils.ia_funcs as ia \n",
    "import utils.utils_funcs as uf\n",
    "import utils.gsheets_importer as gsi\n",
    "from utils.paq2py import *\n",
    "\n",
    "session_type = 'sensory_2sec_test'"
   ]
  },
  {
   "cell_type": "markdown",
   "metadata": {},
   "source": [
    "## Gain calculations from plastic slide images"
   ]
  },
  {
   "cell_type": "code",
   "execution_count": null,
   "metadata": {
    "jupyter": {
     "source_hidden": true
    }
   },
   "outputs": [],
   "source": [
    "path = '/home/apacker/mnt/qnap/Data/2021-10-19/'\n",
    "\n",
    "all_dirs = np.sort([folder for folder in os.listdir(path) if '_t' in folder])\n",
    "\n",
    "dir_lists = [all_dirs[14:], all_dirs[7:14], all_dirs[:7]]\n",
    "pmt_gains = ['700', '600', '500']\n",
    "powers = [50, 80, 110, 140, 170, 200, 230]\n",
    "channels = ['Ch2', 'Ch3']\n",
    "markers = ['o', '^', 'x']\n",
    "\n",
    "m = np.empty([len(channels), len(pmt_gains), len(powers)])\n",
    "v = np.empty([len(channels), len(pmt_gains), len(powers)])\n",
    "\n",
    "for ch_i, channel in enumerate(channels):    \n",
    "    \n",
    "    fig, axes = plt.subplots(nrows=1, ncols=1, figsize=(10,10))\n",
    "    \n",
    "    for gain_i, (pmt_gain, dir_list, marker) in enumerate(zip(pmt_gains, dir_lists, markers)):\n",
    "        for power_i, (power, folder) in enumerate(zip(powers, dir_list)):\n",
    "            for file in os.listdir(os.path.join(path, folder)):\n",
    "                if all(s in file for s in [channel, '.tif']):\n",
    "                    tiff = tf.imread(os.path.join(path, folder, file))\n",
    "\n",
    "                    m[ch_i, gain_i, power_i] = np.mean(tiff)\n",
    "                    v[ch_i, gain_i, power_i] = np.var(tiff, ddof=1)\n",
    "                    \n",
    "                    print(channel, pmt_gain, power, 'done')\n",
    "        \n",
    "        plt.scatter(m[ch_i, gain_i], v[ch_i, gain_i], color='k', label=pmt_gain + 'V', marker=marker)\n",
    "        plt.legend()\n",
    "        \n",
    "        slope, intercept, r_value, p_value, se = stats.linregress(m[ch_i, gain_i], v[ch_i, gain_i])\n",
    "        y = (slope*m[ch_i, gain_i]) + intercept\n",
    "        plt.plot(m[ch_i, gain_i], y, color='r')\n",
    "        \n",
    "        ax = plt.gca()\n",
    "        text_x = ax.get_xlim()[1]/2\n",
    "        plt.text(text_x, np.median(v[ch_i, gain_i]), 'Slope = {0:.2f}'.format(slope))\n",
    "        \n",
    "    axes.set_xlabel('Mean pixel value')\n",
    "    axes.set_ylabel('Variance of pixel values')\n",
    "    axes.set_title('Channel = ' + channel)\n",
    "    \n",
    "    save_path = os.path.join(qnap_path, channel + '_gain_mean_vs_variance_plot')\n",
    "    ia.savePlot(save_path)"
   ]
  },
  {
   "cell_type": "markdown",
   "metadata": {},
   "source": [
    "### Add or check attributes in all session objects"
   ]
  },
  {
   "cell_type": "code",
   "execution_count": null,
   "metadata": {},
   "outputs": [],
   "source": [
    "sheet_names = ['2019-06-11_J048',\n",
    "                '2019-06-13_J052',\n",
    "                '2019-06-25_RL048',\n",
    "                '2019-07-15_RL052',\n",
    "                '2019-08-14_J058',\n",
    "                '2019-08-14_J059',\n",
    "                '2019-08-15_RL055',\n",
    "                '2019-11-14_J061',\n",
    "                '2019-11-14_J063',\n",
    "                '2019-11-15_J064',\n",
    "                '2019-11-18_J065',\n",
    "                '2020-02-27_RL075',\n",
    "                '2020-03-03_RL074',\n",
    "                '2020-03-05_RL070',\n",
    "                '2020-03-05_RL072']\n",
    "\n",
    "s1s2_coords = [[294, 119, 750, 166],\n",
    "                [213, 165, 735, 234],\n",
    "                [148, 203, 760, 175],\n",
    "                [177, 332, 825, 404],\n",
    "                [291, 183, 715, 345],\n",
    "                [148, 114, 764, 203],\n",
    "                [132, 273, 659, 328],\n",
    "                [341, 453, 700, 535],\n",
    "                [264, 481, 657, 605],\n",
    "                [412, 440, 703, 580],\n",
    "                [304, 515, 637, 625],\n",
    "                [239, 452, 571, 456],\n",
    "                [244, 453, 743, 567],\n",
    "                [269, 429, 843, 520],\n",
    "                [327, 519, 807, 607]]\n",
    "\n",
    "# # To add s1/s2 coords to pickled objects\n",
    "# for sheet_name, [s1_x, s1_y, s2_x, s2_y] in zip(sheet_names, s1s2_coords):\n",
    "#     if sheet_name in pkl:\n",
    "#         ses_obj.s1_coord = [s1_x, s1_y]\n",
    "#         ses_obj.s2_coord = [s2_x, s2_y]"
   ]
  },
  {
   "cell_type": "code",
   "execution_count": null,
   "metadata": {},
   "outputs": [],
   "source": [
    "pkl_files = [p for p in os.listdir(pkl_folder) if '.pkl' in p]\n",
    "pkl_files.sort()\n",
    "\n",
    "for pkl in pkl_files:\n",
    "        \n",
    "    print(pkl)\n",
    "\n",
    "    pkl_path = os.path.join(pkl_folder, pkl)\n",
    "\n",
    "    with open(pkl_path, 'rb') as f:\n",
    "        ses_obj = pickle.load(f)\n",
    "\n",
    "    exp_list = [ses_obj.photostim_r, ses_obj.photostim_s]\n",
    "\n",
    "    if ses_obj.spont.n_frames > 0:\n",
    "        exp_list.append(ses_obj.spont)\n",
    "\n",
    "    if ses_obj.whisker_stim.n_frames > 0:\n",
    "        exp_list.append(ses_obj.whisker_stim)\n",
    "\n",
    "    for exp_obj in exp_list:\n",
    "\n",
    "#     with open(pkl_path, 'wb') as f:\n",
    "#         pickle.dump(ses_obj, f)"
   ]
  },
  {
   "cell_type": "markdown",
   "metadata": {},
   "source": [
    "## Smoothing line plots"
   ]
  },
  {
   "cell_type": "code",
   "execution_count": null,
   "metadata": {},
   "outputs": [],
   "source": [
    "box_pts=4\n",
    "box = np.ones(box_pts)/box_pts\n",
    "y_smooth = np.convolve(y, box, mode='same')\n",
    "print(y_smooth[0:5], y[:5])"
   ]
  },
  {
   "cell_type": "code",
   "execution_count": null,
   "metadata": {},
   "outputs": [],
   "source": [
    "def smooth(y, box_pts):\n",
    "    box = np.ones(box_pts)/box_pts\n",
    "    y_smooth = np.convolve(y, box, mode='same')\n",
    "    return y_smooth"
   ]
  },
  {
   "cell_type": "code",
   "execution_count": null,
   "metadata": {},
   "outputs": [],
   "source": [
    "cell = 4\n",
    "\n",
    "y = smooth(exp_obj.all_trials[0][cell,:,0], 4)\n",
    "    \n",
    "plt.figure(figsize=(15,5))\n",
    "plt.plot(y);\n",
    "plt.plot(exp_obj.all_trials[0][cell,:,0])\n",
    "plt.hlines(0, xmin=0, xmax=180, linestyles='dashed');"
   ]
  },
  {
   "cell_type": "markdown",
   "metadata": {},
   "source": [
    "### Play with data from individual session objects"
   ]
  },
  {
   "cell_type": "code",
   "execution_count": 4,
   "metadata": {},
   "outputs": [
    {
     "name": "stdout",
     "output_type": "stream",
     "text": [
      "Loaded pickled object.\n"
     ]
    }
   ],
   "source": [
    "# List of pickle object file names, i.e. experiments that have been analysed\n",
    "# '2019-06-11_J048', # -- OBFOV shallow \n",
    "# '2019-06-13_J052', # -- OBFOV shallow \n",
    "# '2019-06-25_RL048', # -- OBFOV shallow \n",
    "# '2019-07-15_RL052', # -- OBFOV shallow \n",
    "# '2019-08-14_J058', # -- OBFOV shallow \n",
    "# '2019-08-14_J059', # -- OBFOV shallow \n",
    "# '2019-08-15_RL055', # -- OBFOV shallow \n",
    "# '2019-11-14_J061', # -- shallow \n",
    "# '2019-11-14_J063', # -- shallow\n",
    "# '2019-11-15_J064', # -- shallow\n",
    "# '2019-11-18_J065', # -- shallow\n",
    "# '2020-02-27_RL075', # -- shallow\n",
    "# '2020-03-03_RL074', # -- shallow\n",
    "# '2020-03-05_RL070', # -- shallow\n",
    "# '2020-03-05_RL072', # -- shallow\n",
    "# '2020-06-03_RL086', # -- shallow (JR stim)\n",
    "##===NOT ANALYSED===##\n",
    "# '2020-03-12_RL070', # -- deep\n",
    "# '2020-03-16_RL074', # -- deep\n",
    "# '2020-03-19_RL075', # -- deep\n",
    "# '2020-06-08_RL086', # -- deep\n",
    "##===NOT ANALYSED===##\n",
    "# '2020-06-15_RL086', # -- auditory\n",
    "# '2020-03-20_RL080', # -- shallow (failed)\n",
    "# '2020-09-03_RL091', # -- shallow\n",
    "# '2020-09-04_RL093', # -- shallow\n",
    "# '2020-09-08_RL095', # -- shallow\n",
    "# '2020-09-08_RL099', # -- shallow\n",
    "# '2020-09-09_RL096', # -- shallow\n",
    "# '2020-09-09_RL100', # -- shallow\n",
    "# '2020-09-14_RL101', # -- shallow\n",
    "# '2020-09-15_RL102', # -- shallow\n",
    "# '2020-09-16_RL103', # -- shallow\n",
    "# '2020-10-02_RL108', # -- shallow\n",
    "# '2020-10-12_RL109', # -- shallow\n",
    "# '2020-10-29_RL111', # -- projection\n",
    "# '2020-12-10_RL115', # -- projection\n",
    "# '2021-01-06_RL120', # -- interneuron\n",
    "# '2021-01-20_RL121', # -- interneuron\n",
    "# '2021-01-20_RL125', # -- interneuron\n",
    "# '2021-01-20_RL124', # -- interneuron\n",
    "# '2021-01-28_RL124', # -- interneuron\n",
    "# '2021-02-18_RL127', # -- projection\n",
    "# '2021-02-22_RL128', # -- projection\n",
    "# '2021-02-23_RL129', # -- projection\n",
    "# '2021-02-24_RL132', # -- projection\n",
    "# '2021-02-25_RL131', # -- projection\n",
    "# '2021-03-02_RL130', # -- projection\n",
    "\n",
    "pkl_path = os.path.join(pkl_folder, session_type, '2020-09-04_RL093.pkl')\n",
    "\n",
    "with open(pkl_path, 'rb') as f:\n",
    "    ses_obj = pickle.load(f)\n",
    "    \n",
    "print('Loaded pickled object.')"
   ]
  },
  {
   "cell_type": "code",
   "execution_count": 6,
   "metadata": {
    "scrolled": true
   },
   "outputs": [
    {
     "name": "stdout",
     "output_type": "stream",
     "text": [
      "Session object attributes\n",
      "ss_id <class 'str'>\n",
      "sheet_name <class 'str'>\n",
      "s2p_path <class 'str'>\n",
      "photostim_r <class 'utils.interareal_analysis.interarealAnalysis'>\n",
      "photostim_s <class 'utils.interareal_analysis.interarealAnalysis'>\n",
      "whisker_stim <class 'utils.interareal_analysis.interarealAnalysis'>\n",
      "spont <class 'utils.interareal_analysis.interarealAnalysis'>\n",
      "frame_list <class 'numpy.ndarray'>\n",
      "\n",
      "Experimental object attributes\n",
      "tiff_path <class 'numpy.str_'>\n",
      "naparm_path <class 'numpy.str_'>\n",
      "paq_path <class 'numpy.str_'>\n",
      "sheet_name <class 'str'>\n",
      "s2p_path <class 'str'>\n",
      "stim_channel <class 'str'>\n",
      "stim_type <class 'str'>\n",
      "fps <class 'float'>\n",
      "frame_x <class 'int'>\n",
      "frame_y <class 'int'>\n",
      "n_planes <class 'int'>\n",
      "pix_sz_x <class 'float'>\n",
      "pix_sz_y <class 'float'>\n",
      "scan_x <class 'float'>\n",
      "scan_y <class 'float'>\n",
      "zoom <class 'float'>\n",
      "n_frames <class 'numpy.int32'>\n",
      "last_good_frame <class 'str'>\n",
      "frames <class 'range'>\n",
      "n_groups <class 'int'>\n",
      "n_reps <class 'int'>\n",
      "n_shots <class 'int'>\n",
      "inter_point_delay <class 'int'>\n",
      "single_stim_dur <class 'float'>\n",
      "spiral_size <class 'int'>\n",
      "stim_dur <class 'float'>\n",
      "stim_freq <class 'float'>\n",
      "frame_clock <class 'numpy.ndarray'>\n",
      "stim_times <class 'numpy.ndarray'>\n",
      "stim_start_frames <class 'list'>\n",
      "duration_frames <class 'int'>\n",
      "n_trials <class 'int'>\n",
      "targeted_cells <class 'numpy.ndarray'>\n",
      "n_targets <class 'int'>\n",
      "cell_id <class 'list'>\n",
      "n_units <class 'list'>\n",
      "cell_plane <class 'list'>\n",
      "cell_med <class 'list'>\n",
      "cell_s1 <class 'list'>\n",
      "cell_s2 <class 'list'>\n",
      "num_s1_cells <class 'list'>\n",
      "num_s2_cells <class 'list'>\n",
      "cell_x <class 'list'>\n",
      "cell_y <class 'list'>\n",
      "raw <class 'list'>\n",
      "dfof <class 'list'>\n",
      "mean_img <class 'list'>\n",
      "mean_imgE <class 'list'>\n",
      "xoff <class 'numpy.ndarray'>\n",
      "yoff <class 'numpy.ndarray'>\n",
      "all_trials <class 'list'>\n",
      "all_amplitudes <class 'list'>\n",
      "stas <class 'list'>\n",
      "sta_amplitudes <class 'list'>\n",
      "prob_response <class 'list'>\n",
      "t_tests <class 'list'>\n",
      "wilcoxons <class 'list'>\n",
      "trial_sig_dff <class 'list'>\n",
      "trial_sig_dfsf <class 'list'>\n",
      "sta_sig <class 'list'>\n",
      "sta_sig_nomulti <class 'list'>\n",
      "pre_frames <class 'int'>\n",
      "post_frames <class 'int'>\n",
      "test_frames <class 'int'>\n",
      "pre_trial_frames <class 'slice'>\n",
      "post_trial_frames <class 'slice'>\n",
      "target_coords <class 'list'>\n",
      "target_areas <class 'list'>\n",
      "n_targeted_cells <class 'numpy.int64'>\n",
      "trial_target_dff <class 'numpy.ndarray'>\n",
      "trial_euclid_dist <class 'numpy.ndarray'>\n",
      "sta_euclid_dist <class 'float'>\n",
      "time <class 'numpy.ndarray'>\n",
      "trial_w_targets <class 'numpy.ndarray'>\n"
     ]
    }
   ],
   "source": [
    "# Show all attributes in ses_obj or exp_objs\n",
    "print('Session object attributes')\n",
    "for key, value in vars(ses_obj).items():\n",
    "    print(key, type(value))\n",
    "\n",
    "print('\\nExperimental object attributes')\n",
    "for key, value in vars(ses_obj.spont).items():\n",
    "    print(key, type(value))"
   ]
  }
 ],
 "metadata": {
  "kernelspec": {
   "display_name": "Python 3",
   "language": "python",
   "name": "python3"
  },
  "language_info": {
   "codemirror_mode": {
    "name": "ipython",
    "version": 3
   },
   "file_extension": ".py",
   "mimetype": "text/x-python",
   "name": "python",
   "nbconvert_exporter": "python",
   "pygments_lexer": "ipython3",
   "version": "3.7.9"
  }
 },
 "nbformat": 4,
 "nbformat_minor": 4
}
