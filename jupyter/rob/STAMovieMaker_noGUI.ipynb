{
 "cells": [
  {
   "cell_type": "code",
   "execution_count": 1,
   "metadata": {},
   "outputs": [],
   "source": [
    "import os\n",
    "import sys\n",
    "sys.path.append(os.path.expanduser('~/Documents/Code/STAMovieMaker'))\n",
    "\n",
    "import utils.STAMovieMaker_noGUI as STAMM"
   ]
  },
  {
   "cell_type": "code",
   "execution_count": 2,
   "metadata": {},
   "outputs": [
    {
     "name": "stdout",
     "output_type": "stream",
     "text": [
      "QNAP_path: /home/rlees/mnt/qnap \n",
      "STA movie save path: /home/rlees/mnt/qnap/Analysis/STA_movies\n"
     ]
    }
   ],
   "source": [
    "# qnap_path = r'Q:\\Data' # for Windows\n",
    "qnap_data_path = '/home/rlees/mnt/qnap/Data' # for Ubuntu\n",
    "qnap_path = qnap_data_path[:-5]\n",
    "\n",
    "stam_save_path = os.path.join(qnap_path, 'Analysis', 'STA_movies')\n",
    "\n",
    "print('QNAP_path:', qnap_path,\n",
    "      '\\nSTA movie save path:', stam_save_path)"
   ]
  },
  {
   "cell_type": "code",
   "execution_count": 3,
   "metadata": {},
   "outputs": [],
   "source": [
    "movie_path = os.path.join(qnap_data_path, '2019-11-18/2019-11-18_J065/2019-11-18_J065_t-005/2019-11-18_J065_t-005_Cycle00001_Ch3.tif')\n",
    "sync_path = os.path.join(qnap_data_path, '2019-11-18/2019-11-18_J065/2019-11-18_J065_t-005.paq')\n",
    "\n",
    "arg_dict = {'moviePath' : movie_path, # hard-code this\n",
    "            'savePath' : stam_save_path,\n",
    "            'syncFrameChannel' : 'frame_clock',\n",
    "            'syncStimChannel' : 'piezo_stim',\n",
    "            'syncStartSec' : 0,\n",
    "            'syncStopSec' : 0,\n",
    "            'numDiffStims' : 1,\n",
    "            'startOnStim' : 1,\n",
    "            'everyXStims' : 1,\n",
    "            'preSeconds' : 1,\n",
    "            'postSeconds' : 3,\n",
    "            'frameRate' : 15,\n",
    "            'averageImageStart' : 0.5,\n",
    "            'averageImageStop' : 1.5,\n",
    "            'methodDF' : False,\n",
    "            'methodDFF' : True,\n",
    "            'methodZscore' : False,\n",
    "            'syncPath' : sync_path,\n",
    "            'zPlanes' : 1,\n",
    "            'useStimOrder' : False,\n",
    "            'stimOrder' : [],\n",
    "            'useSingleTrials' : False,\n",
    "            'doThreshold' : False,\n",
    "            'threshold' : 0,\n",
    "            'colourByTime' : False,\n",
    "            'useCorrelationImage' : False,\n",
    "            'blurHandS' : False,\n",
    "            'makeMaxImage' : True,\n",
    "            'makeColourImage' : False\n",
    "           }"
   ]
  },
  {
   "cell_type": "code",
   "execution_count": 4,
   "metadata": {},
   "outputs": [
    {
     "name": "stdout",
     "output_type": "stream",
     "text": [
      "Loading sync file\n",
      "Loading movie\n",
      "Plane 1 of 1. Stim 1 of 1 (100 trials)\n",
      "Plane 1 of 1. Stim 1 of 1 (100 trials) - Raw\n",
      "Plane 1 of 1. Stim 1 of 1 (100 trials) - dFF\n"
     ]
    }
   ],
   "source": [
    "STAMM.STAMovieMaker(arg_dict);"
   ]
  }
 ],
 "metadata": {
  "kernelspec": {
   "display_name": "Python 3",
   "language": "python",
   "name": "python3"
  },
  "language_info": {
   "codemirror_mode": {
    "name": "ipython",
    "version": 3
   },
   "file_extension": ".py",
   "mimetype": "text/x-python",
   "name": "python",
   "nbconvert_exporter": "python",
   "pygments_lexer": "ipython3",
   "version": "3.7.4"
  }
 },
 "nbformat": 4,
 "nbformat_minor": 4
}
