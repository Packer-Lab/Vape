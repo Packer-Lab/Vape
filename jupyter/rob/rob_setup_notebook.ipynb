{
 "cells": [
  {
   "cell_type": "markdown",
   "metadata": {},
   "source": [
    "## Run at the start of 'interareal' notebooks"
   ]
  },
  {
   "cell_type": "code",
   "execution_count": 9,
   "metadata": {
    "collapsed": true,
    "jupyter": {
     "outputs_hidden": true
    }
   },
   "outputs": [
    {
     "ename": "AttributeError",
     "evalue": "'kernel.XInteractiveShell' object has no attribute 'events'",
     "output_type": "error",
     "traceback": [
      "\u001b[0;31m---------------------------------------------------------------------------\u001b[0m\n\u001b[0;31mAttributeError\u001b[0m                            Traceback (most recent call last)",
      "In  \u001b[0;34m[9]\u001b[0m:\nLine \u001b[0;34m4\u001b[0m:     %load_ext autoreload\n",
      "File \u001b[0;34m<decorator-gen-57>\u001b[0m, in \u001b[0;32mload_ext\u001b[0m:\nLine \u001b[0;34m2\u001b[0m:     \n",
      "File \u001b[0;34m/home/rlees/anaconda3/envs/suite2p/lib/python3.7/site-packages/IPython/core/magic.py\u001b[0m, in \u001b[0;32m<lambda>\u001b[0m:\nLine \u001b[0;34m187\u001b[0m:   call = \u001b[34mlambda\u001b[39;49;00m f, *a, **k: f(*a, **k)\n",
      "File \u001b[0;34m/home/rlees/anaconda3/envs/suite2p/lib/python3.7/site-packages/IPython/core/magics/extension.py\u001b[0m, in \u001b[0;32mload_ext\u001b[0m:\nLine \u001b[0;34m33\u001b[0m:    res = \u001b[36mself\u001b[39;49;00m.shell.extension_manager.load_extension(module_str)\n",
      "File \u001b[0;34m/home/rlees/anaconda3/envs/suite2p/lib/python3.7/site-packages/IPython/core/extensions.py\u001b[0m, in \u001b[0;32mload_extension\u001b[0m:\nLine \u001b[0;34m87\u001b[0m:    \u001b[34mif\u001b[39;49;00m \u001b[36mself\u001b[39;49;00m._call_load_ipython_extension(mod):\n",
      "File \u001b[0;34m/home/rlees/anaconda3/envs/suite2p/lib/python3.7/site-packages/IPython/core/extensions.py\u001b[0m, in \u001b[0;32m_call_load_ipython_extension\u001b[0m:\nLine \u001b[0;34m134\u001b[0m:   mod.load_ipython_extension(\u001b[36mself\u001b[39;49;00m.shell)\n",
      "File \u001b[0;34m/home/rlees/anaconda3/envs/suite2p/lib/python3.7/site-packages/IPython/extensions/autoreload.py\u001b[0m, in \u001b[0;32mload_ipython_extension\u001b[0m:\nLine \u001b[0;34m549\u001b[0m:   ip.events.register(\u001b[33m'\u001b[39;49;00m\u001b[33mpre_run_cell\u001b[39;49;00m\u001b[33m'\u001b[39;49;00m, auto_reload.pre_run_cell)\n",
      "\u001b[0;31mAttributeError\u001b[0m: 'kernel.XInteractiveShell' object has no attribute 'events'\n\u001b[0;31m---------------------------------------------------------------------------\u001b[0m"
     ]
    }
   ],
   "source": [
    "# ipython magic\n",
    "\n",
    "# %matplotlib widget\n",
    "%load_ext autoreload\n",
    "%autoreload 2"
   ]
  },
  {
   "cell_type": "markdown",
   "metadata": {},
   "source": [
    "### Generic imports"
   ]
  },
  {
   "cell_type": "code",
<<<<<<< HEAD
   "execution_count": 1,
=======
   "execution_count": null,
>>>>>>> 82fda885e5891d1626d5b5f68660d1900b8d9890
   "metadata": {},
   "outputs": [],
   "source": [
    "import os\n",
    "import time\n",
    "import sys\n",
    "sys.path.append(os.path.expanduser('~/Documents/Code/Vape'))\n",
    "\n",
    "# Path to suite2p (if git cloned to code folder rather than pip installed)\n",
    "s2p_path = os.path.expanduser('~/Documents/Code/suite2p')\n",
    "sys.path.append(s2p_path)\n",
    "\n",
    "import matplotlib.pyplot as plt\n",
    "import matplotlib.patches as patches\n",
    "from mpl_toolkits.axes_grid.inset_locator import (inset_axes, InsetPosition,\n",
    "                                                  mark_inset)\n",
    "from IPython.display import display, clear_output\n",
    "import numpy as np\n",
    "import seaborn as sns\n",
    "import pandas as pd\n",
    "\n",
    "import pickle\n",
    "import tifffile as tf\n",
    "from scipy import spatial, stats, signal, interpolate\n",
    "import statsmodels.api as sm\n",
    "import statsmodels.stats as smstats\n",
    "from sklearn.preprocessing import minmax_scale\n",
    "\n",
    "import utils.utils_funcs as uf\n",
    "\n",
    "import suite2p\n",
    "print('\\nSuite2p path:', suite2p.__path__)"
   ]
  },
  {
   "cell_type": "markdown",
   "metadata": {},
   "source": [
    "### Default plotting parameters"
   ]
  },
  {
   "cell_type": "code",
   "execution_count": 2,
   "metadata": {},
   "outputs": [],
   "source": [
    "# global plotting params\n",
    "sns.set()\n",
    "sns.set_style('white')\n",
    "params = {'legend.fontsize': 'x-large',\n",
    "          'text.usetex': False,\n",
<<<<<<< HEAD
    "          'axes.labelsize': 'large',\n",
    "          'axes.titlesize':'large',\n",
    "          'xtick.labelsize':'large',\n",
    "          'ytick.labelsize':'large',\n",
    "          'axes.facecolor' : 'white'}\n",
=======
    "          'axes.labelsize': 'xx-large',\n",
    "          'axes.titlesize':'xx-large',\n",
    "          'xtick.labelsize':'xx-large',\n",
    "          'ytick.labelsize':'xx-large',\n",
    "          'axes.facecolor' : 'white',\n",
    "          'text.color' : 'black',\n",
    "          'axes.labelcolor' : 'black',\n",
    "          'xtick.color' : 'black',\n",
    "          'ytick.color' : 'black',\n",
    "          'xtick.bottom' : True,\n",
    "          'ytick.left' : True,\n",
    "          'font.family' : 'sans-serif',\n",
    "          'font.sans-serif' : 'Arial'\n",
    "         }\n",
>>>>>>> 82fda885e5891d1626d5b5f68660d1900b8d9890
    "\n",
    "plt.rc(\"axes.spines\", top=False, right=False) # despine\n",
    "\n",
    "plt.rcParams.update(params)"
   ]
  },
  {
   "cell_type": "markdown",
   "metadata": {},
   "source": [
    "### Define paths"
   ]
  },
  {
   "cell_type": "code",
   "execution_count": 3,
   "metadata": {},
   "outputs": [
    {
     "name": "stdout",
     "output_type": "stream",
     "text": [
      "QNAP_path: /home/rlees/mnt/qnap \n",
      "QNAP_data_path /home/rlees/mnt/qnap/Data \n",
      "Pickle folder: /home/rlees/mnt/qnap/pkl_files \n",
      "Master pickle: /home/rlees/mnt/qnap/master_pkl/master_obj.pkl \n",
      "Figure save path: /home/rlees/mnt/qnap/Analysis/Figures \n",
      "STA movie save path: /home/rlees/mnt/qnap/Analysis/STA_movies \n",
      "S2 borders path: /home/rlees/mnt/qnap/Analysis/S2_borders\n"
     ]
    }
   ],
   "source": [
    "qnap_data_path = os.path.expanduser('~/mnt/qnap/Data') # for Ubuntu\n",
    "\n",
    "qnap_path = qnap_data_path[:-5]\n",
    "\n",
    "pkl_folder = os.path.join(qnap_path, 'pkl_files')\n",
    "master_path = os.path.join(qnap_path, 'master_pkl', 'master_obj.pkl')\n",
    "\n",
    "fig_save_path = os.path.join(qnap_path, 'Analysis', 'Figures')\n",
    "stam_save_path = os.path.join(qnap_path, 'Analysis', 'STA_movies')\n",
    "s2_borders_path = os.path.join(qnap_path, 'Analysis', 'S2_borders')\n",
    "\n",
    "print('qnap_path:', qnap_path,\n",
    "      '\\nqnap_data_path', qnap_data_path,\n",
    "      '\\npkl_folder:', pkl_folder,\n",
    "      '\\nmaster_path:', master_path,\n",
    "      '\\nfig_save_path:', fig_save_path,\n",
    "      '\\nstam_save_path:', stam_save_path,\n",
    "      '\\ns2_borders_path:', s2_borders_path)"
   ]
  }
 ],
 "metadata": {
  "kernelspec": {
   "display_name": "Python 3",
   "language": "python",
   "name": "python3"
  },
  "language_info": {
   "codemirror_mode": {
    "name": "ipython",
    "version": 3
   },
   "file_extension": ".py",
   "mimetype": "text/x-python",
   "name": "python",
   "nbconvert_exporter": "python",
   "pygments_lexer": "ipython3",
   "version": "3.7.9"
  }
 },
 "nbformat": 4,
 "nbformat_minor": 4
}
