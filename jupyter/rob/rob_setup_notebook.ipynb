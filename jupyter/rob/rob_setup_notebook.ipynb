{
 "cells": [
  {
   "cell_type": "markdown",
   "metadata": {},
   "source": [
    "## Run at the start of 'interareal' notebooks"
   ]
  },
  {
   "cell_type": "code",
   "execution_count": 1,
   "metadata": {},
   "outputs": [],
   "source": [
    "# ipython magic\n",
    "\n",
    "# %matplotlib widget\n",
    "%load_ext autoreload\n",
    "%autoreload 2"
   ]
  },
  {
   "cell_type": "markdown",
   "metadata": {},
   "source": [
    "### Generic imports"
   ]
  },
  {
   "cell_type": "code",
   "execution_count": null,
   "metadata": {},
   "outputs": [],
   "source": [
    "import os\n",
    "import time\n",
    "import sys\n",
    "sys.path.append(os.path.expanduser('~/Documents/Code/Vape'))\n",
    "\n",
    "# Path to suite2p (if git cloned to code folder rather than pip installed)\n",
    "s2p_path = os.path.expanduser('~/Documents/Code/suite2p')\n",
    "sys.path.append(s2p_path)\n",
    "\n",
    "import matplotlib.pyplot as plt\n",
    "import matplotlib.patches as patches\n",
    "from mpl_toolkits.axes_grid.inset_locator import (inset_axes, InsetPosition,\n",
    "                                                  mark_inset)\n",
    "from IPython.display import display, clear_output\n",
    "import numpy as np\n",
    "import seaborn as sns\n",
    "import pandas as pd\n",
    "\n",
    "import pickle\n",
    "import tifffile as tf\n",
    "from scipy import spatial, stats, signal, interpolate\n",
    "import statsmodels.api as sm\n",
    "import statsmodels.stats as smstats\n",
    "from sklearn.preprocessing import minmax_scale\n",
    "\n",
    "import utils.utils_funcs as uf\n",
    "\n",
    "import suite2p\n",
    "print('\\nSuite2p path:', suite2p.__path__)"
   ]
  },
  {
   "cell_type": "markdown",
   "metadata": {},
   "source": [
    "### Default plotting parameters"
   ]
  },
  {
   "cell_type": "code",
   "execution_count": null,
   "metadata": {},
   "outputs": [],
   "source": [
    "# global plotting params\n",
    "sns.set()\n",
    "sns.set_style('white')\n",
    "params = {'legend.fontsize': 'x-large',\n",
    "          'text.usetex': False,\n",
    "          'axes.labelsize': 'xx-large',\n",
    "          'axes.titlesize':'xx-large',\n",
    "          'xtick.labelsize':'xx-large',\n",
    "          'ytick.labelsize':'xx-large',\n",
    "          'axes.facecolor' : 'white',\n",
    "          'text.color' : 'black',\n",
    "          'axes.labelcolor' : 'black',\n",
    "          'xtick.color' : 'black',\n",
    "          'ytick.color' : 'black',\n",
    "          'xtick.bottom' : True,\n",
    "          'ytick.left' : True,\n",
    "          'font.family' : 'sans-serif',\n",
    "          'font.sans-serif' : 'Arial'\n",
    "         }\n",
    "\n",
    "plt.rc(\"axes.spines\", top=False, right=False) # despine\n",
    "\n",
    "plt.rcParams.update(params)"
   ]
  },
  {
   "cell_type": "markdown",
   "metadata": {},
   "source": [
    "### Define paths"
   ]
  },
  {
   "cell_type": "code",
   "execution_count": 3,
   "metadata": {},
   "outputs": [
    {
     "name": "stdout",
     "output_type": "stream",
     "text": [
      "QNAP_path: /home/rlees/mnt/qnap \n",
      "QNAP_data_path /home/rlees/mnt/qnap/Data \n",
      "Pickle folder: /home/rlees/mnt/qnap/pkl_files \n",
      "Master pickle: /home/rlees/mnt/qnap/master_pkl/master_obj.pkl \n",
      "Figure save path: /home/rlees/mnt/qnap/Analysis/Figures \n",
      "STA movie save path: /home/rlees/mnt/qnap/Analysis/STA_movies \n",
      "S2 borders path: /home/rlees/mnt/qnap/Analysis/S2_borders\n"
     ]
    }
   ],
   "source": [
    "# qnap_path = r'Q:\\Data' # for Windows\n",
    "qnap_data_path = '/home/rlees/mnt/qnap/Data' # for Ubuntu\n",
    "\n",
    "qnap_path = qnap_data_path[:-5]\n",
    "\n",
    "pkl_folder = os.path.join(qnap_path, 'pkl_files')\n",
    "master_path = os.path.join(qnap_path, 'master_pkl', 'master_obj.pkl')\n",
    "\n",
    "fig_save_path = os.path.join(qnap_path, 'Analysis', 'Figures')\n",
    "stam_save_path = os.path.join(qnap_path, 'Analysis', 'STA_movies')\n",
    "s2_borders_path = os.path.join(qnap_path, 'Analysis', 'S2_borders')\n",
    "\n",
    "print('qnap_path:', qnap_path,\n",
    "      '\\nqnap_data_path', qnap_data_path,\n",
    "      '\\npkl_folder:', pkl_folder,\n",
    "      '\\nmaster_path:', master_path,\n",
    "      '\\nfig_save_path:', fig_save_path,\n",
    "      '\\nstam_save_path:', stam_save_path,\n",
    "      '\\ns2_borders_path:', s2_borders_path)"
   ]
  }
 ],
 "metadata": {
  "kernelspec": {
   "display_name": "Python 3",
   "language": "python",
   "name": "python3"
  },
  "language_info": {
   "codemirror_mode": {
    "name": "ipython",
    "version": 3
   },
   "file_extension": ".py",
   "mimetype": "text/x-python",
   "name": "python",
   "nbconvert_exporter": "python",
   "pygments_lexer": "ipython3",
   "version": "3.7.9"
  }
 },
 "nbformat": 4,
 "nbformat_minor": 4
}
