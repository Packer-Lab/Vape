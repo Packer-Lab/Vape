{
 "cells": [
  {
   "cell_type": "code",
   "execution_count": 5,
   "metadata": {},
   "outputs": [
    {
     "name": "stdout",
     "output_type": "stream",
     "text": [
      "The autoreload extension is already loaded. To reload it, use:\n",
      "  %reload_ext autoreload\n"
     ]
    }
   ],
   "source": [
    "#ipython magic\n",
    "%reset -f\n",
    "%matplotlib notebook\n",
    "%load_ext autoreload\n",
    "%autoreload 2"
   ]
  },
  {
   "cell_type": "code",
   "execution_count": 6,
   "metadata": {},
   "outputs": [],
   "source": [
    "#from utils import *\n",
    "import sys\n",
    "sys.path.append('..')\n",
    "from utils.gsheets_importer import gsheet2df, correct_behaviour_df\n",
    "import numpy as np\n",
    "import os\n",
    "from paq2py import *\n",
    "import matplotlib.pyplot as plt\n",
    "from utils.opto_stim_import2 import OptoStimTxt \n",
    "7\n",
    "from paq2py import *\n",
    "8\n",
    "import matplotlib.pyplot as plt\n",
    "9\n",
    "from utils.opto_stim_import2 import OptoStimTxt "
   ]
  },
  {
   "cell_type": "code",
   "execution_count": 7,
   "metadata": {
    "collapsed": true
   },
   "outputs": [],
   "source": [
    "f_path = '/home/jamesrowland/Documents/packerstation/jrowland/Data/2019-04-19/pycontrol_data/RL019-2019-04-19-190618.txt'"
   ]
  },
  {
   "cell_type": "code",
   "execution_count": 12,
   "metadata": {},
   "outputs": [
    {
     "name": "stdout",
     "output_type": "stream",
     "text": [
      "Importing data file: RL019-2019-04-19-190618.txt\n"
     ]
    },
    {
     "data": {
      "text/plain": [
       "0.19047619047619047"
      ]
     },
     "execution_count": 12,
     "metadata": {},
     "output_type": "execute_result"
    }
   ],
   "source": [
    "tp = OptoStimTxt(f_path)\n",
    "tp.fp_rate\n"
   ]
  },
  {
   "cell_type": "code",
   "execution_count": 9,
   "metadata": {},
   "outputs": [
    {
     "data": {
      "text/plain": [
       "181"
      ]
     },
     "execution_count": 9,
     "metadata": {},
     "output_type": "execute_result"
    }
   ],
   "source": [
    "len(tp.outcome)"
   ]
  },
  {
   "cell_type": "code",
   "execution_count": null,
   "metadata": {
    "collapsed": true
   },
   "outputs": [],
   "source": [
    "#the google sheet ID from the url\n",
    "# exp_log_s2 = '1PgSXs6BVHe9dACWEydykucN74rirNfOY4Vr_AmLcCdY'\n",
    "# sheet_name = '2019-03-19_RL025'\n",
    "# df = gsheet2df(exp_log_s2, HEADER_ROW=4, SHEET_NAME=sheet_name)"
   ]
  },
  {
   "cell_type": "code",
   "execution_count": null,
   "metadata": {
    "collapsed": true
   },
   "outputs": [],
   "source": [
    "# spreadsheet settings\n",
    "\n",
    "#the name of the file path column\n",
    "t_series_header = 't-series name'\n",
    "paq_header = '.paq file'\n",
    "naparm_header = 'Naparm'\n",
    "\n",
    "#column telling whether to analyse or not\n",
    "analyse_bool_header = 'Analyse'\n",
    "suite2p_bool_header = 'Suite2p me?'"
   ]
  },
  {
   "cell_type": "code",
   "execution_count": null,
   "metadata": {},
   "outputs": [],
   "source": [
    "sheet_ID = '1GG5Y0yCEw_h5dMfHBnBRTh5NXgF6NqC_VVGfSpCHroc'\n",
    "mouse_name = 'RL019'\n",
    "SHEET_NAME = mouse_name + '!A1:Z69'\n",
    "\n",
    "df = gsheet2df(sheet_ID, HEADER_ROW=2, SHEET_NAME=SHEET_NAME)\n",
    "df = correct_behaviour_df(df)\n",
    "df"
   ]
  },
  {
   "cell_type": "code",
   "execution_count": null,
   "metadata": {},
   "outputs": [],
   "source": [
    "analyse_idx = df.index[df[analyse_bool_header]=='TRUE']\n",
    "tseries_paths = [df.loc[idx,t_series_header] for idx in analyse_idx]\n",
    "paq_paths = [df.loc[idx,paq_header] for idx in analyse_idx]\n",
    "naparm_paths = [df.loc[idx,naparm_header] for idx in analyse_idx]\n",
    "naparm_paths"
   ]
  },
  {
   "cell_type": "code",
   "execution_count": null,
   "metadata": {},
   "outputs": [],
   "source": [
    "df.columns.values[0:4]"
   ]
  },
  {
   "cell_type": "code",
   "execution_count": null,
   "metadata": {},
   "outputs": [],
   "source": [
    "train1p_idx = df.index[df['Trained 1P']=='TRUE']\n",
    "df.loc[train1p_idx, :]"
   ]
  },
  {
   "cell_type": "code",
   "execution_count": null,
   "metadata": {
    "collapsed": true
   },
   "outputs": [],
   "source": [
    "packerstation_path = '/home/jamesrowland/Documents/packerstation'"
   ]
  },
  {
   "cell_type": "code",
   "execution_count": null,
   "metadata": {
    "collapsed": true
   },
   "outputs": [],
   "source": [
    "def path_conversion(path_list, packerstation_path = '/home/jamesrowland/Documents/packerstation'):\n",
    "    \n",
    "    '''converts local paths on 2p imaging computer to packerstation paths\n",
    "       only works with data arrangement as of 2019-03-27 will likely break in the future\n",
    "    '''\n",
    "    \n",
    "    p = path_list[0]\n",
    "    name = p.split('\\\\')[2]\n",
    "    date = p.split('\\\\')[3]\n",
    "    \n",
    "    local_path = os.path.join(packerstation_path, name, 'Data', date)\n",
    "    \n",
    "    converted_paths = [os.path.join(local_path, *p.split('\\\\')[4:]) for p in path_list]\n",
    "    otpo\n",
    "    #get rid of weird quote marks\n",
    "    converted_paths = [p.replace('\"', '') for p in converted_paths]\n",
    "    \n",
    "    return converted_paths\n",
    "                            "
   ]
  },
  {
   "cell_type": "code",
   "execution_count": null,
   "metadata": {},
   "outputs": [],
   "source": [
    "# tseries_pstation = path_conversion(tseries_paths)\n",
    "# paqs_pstatition = path_conversion(paq_paths)\n",
    "# naparms_pstation = path_conversion(naparm_paths)\n"
   ]
  },
  {
   "cell_type": "code",
   "execution_count": null,
   "metadata": {
    "collapsed": true
   },
   "outputs": [],
   "source": []
  },
  {
   "cell_type": "code",
   "execution_count": null,
   "metadata": {},
   "outputs": [],
   "source": [
    "t = tseries_pstation[1]\n",
    "paq = paq_read(paqs_pstatition[1])\n",
    "binary = np.fromfile(t + '.bin')\n",
    "\n"
   ]
  },
  {
   "cell_type": "code",
   "execution_count": null,
   "metadata": {
    "collapsed": true
   },
   "outputs": [],
   "source": [
    "paqs_pstatition[0]"
   ]
  },
  {
   "cell_type": "code",
   "execution_count": null,
   "metadata": {
    "collapsed": true
   },
   "outputs": [],
   "source": [
    "clock_idx = paq['chan_names'].index('frame_clock')\n",
    "#voltage from the frame clock channel\n",
    "clock_voltage = paq['data'][clock_idx, :]\n",
    "clock_times = threshold_detect(clock_voltage, 4)\n",
    "frame_clock = digitise_trigger(clock_voltage, min_time = 0.01*paq['rate'], max_time = 0.1*paq['rate'])\n",
    "len(clock_times)\n",
    "plt.plot(clock_times, np.ones(len(clock_times)), '.')\n",
    "plt.plot(clock_voltage)\n",
    "\n"
   ]
  },
  {
   "cell_type": "code",
   "execution_count": null,
   "metadata": {
    "collapsed": true
   },
   "outputs": [],
   "source": [
    "plt.figure()\n",
    "plt.plot(np.diff(clock_times), '.')\n",
    "plt.show()"
   ]
  },
  {
   "cell_type": "code",
   "execution_count": null,
   "metadata": {
    "collapsed": true
   },
   "outputs": [],
   "source": [
    "len(clock_times)"
   ]
  },
  {
   "cell_type": "code",
   "execution_count": null,
   "metadata": {
    "collapsed": true
   },
   "outputs": [],
   "source": [
    "binary.shape"
   ]
  },
  {
   "cell_type": "code",
   "execution_count": null,
   "metadata": {
    "collapsed": true
   },
   "outputs": [],
   "source": [
    "/home/jamesrowland/Documents/packerstation/rlees/Data/2019-03-19/RL025/2019-03-19_RL025_B2_2P_003.paq"
   ]
  },
  {
   "cell_type": "code",
   "execution_count": 1,
   "metadata": {},
   "outputs": [
    {
     "ename": "NameError",
     "evalue": "name 'binary' is not defined",
     "output_type": "error",
     "traceback": [
      "\u001b[0;31m---------------------------------------------------------------------------\u001b[0m",
      "\u001b[0;31mNameError\u001b[0m                                 Traceback (most recent call last)",
      "\u001b[0;32m<ipython-input-1-ebe883d6ed3a>\u001b[0m in \u001b[0;36m<module>\u001b[0;34m()\u001b[0m\n\u001b[0;32m----> 1\u001b[0;31m \u001b[0;34m(\u001b[0m\u001b[0mlen\u001b[0m\u001b[0;34m(\u001b[0m\u001b[0mbinary\u001b[0m\u001b[0;34m)\u001b[0m \u001b[0;34m-\u001b[0m \u001b[0;36m5\u001b[0m\u001b[0;34m)\u001b[0m \u001b[0;34m/\u001b[0m \u001b[0;36m6281\u001b[0m\u001b[0;34m\u001b[0m\u001b[0m\n\u001b[0m",
      "\u001b[0;31mNameError\u001b[0m: name 'binary' is not defined"
     ]
    }
   ],
   "source": [
    "(len(binary) - 5) / 6281"
   ]
  },
  {
   "cell_type": "code",
   "execution_count": null,
   "metadata": {
    "collapsed": true
   },
   "outputs": [],
   "source": []
  },
  {
   "cell_type": "code",
   "execution_count": null,
   "metadata": {
    "collapsed": true
   },
   "outputs": [],
   "source": []
  }
 ],
 "metadata": {
  "kernelspec": {
   "display_name": "Python 3",
   "language": "python",
   "name": "python3"
  },
  "language_info": {
   "codemirror_mode": {
    "name": "ipython",
    "version": 3
   },
   "file_extension": ".py",
   "mimetype": "text/x-python",
   "name": "python",
   "nbconvert_exporter": "python",
   "pygments_lexer": "ipython3",
   "version": "3.6.3"
  }
 },
 "nbformat": 4,
 "nbformat_minor": 2
}
