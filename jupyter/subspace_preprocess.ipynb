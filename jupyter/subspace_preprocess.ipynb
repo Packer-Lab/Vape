{
 "cells": [
  {
   "cell_type": "code",
   "execution_count": 1,
   "metadata": {},
   "outputs": [],
   "source": [
    "#ipython magic\n",
    "#%reset -f\n",
    "%matplotlib inline \n",
    "%load_ext autoreload\n",
    "%autoreload 2"
   ]
  },
  {
   "cell_type": "code",
   "execution_count": 2,
   "metadata": {},
   "outputs": [],
   "source": [
    "#general imports\n",
    "import sys\n",
    "sys.path.append('..')\n",
    "sys.path.append('/home/jamesrowland/Documents/Code/Vape/utils')\n",
    "import os\n",
    "import numpy as np\n",
    "import matplotlib.pyplot as plt\n",
    "import seaborn as sns\n",
    "import copy"
   ]
  },
  {
   "cell_type": "code",
   "execution_count": 3,
   "metadata": {},
   "outputs": [],
   "source": [
    "#global plotting params\n",
    "sns.set()\n",
    "sns.set_style('white')\n",
    "sns.set_palette('muted')\n",
    "params = {'legend.fontsize': 'x-large',\n",
    "         'axes.labelsize': 'x-large',\n",
    "         'axes.titlesize':'x-large',\n",
    "         'xtick.labelsize':'x-large',\n",
    "         'ytick.labelsize':'x-large'}\n",
    "plt.rcParams.update(params)\n"
   ]
  },
  {
   "cell_type": "code",
   "execution_count": 4,
   "metadata": {},
   "outputs": [],
   "source": [
    "#notebook specific imports\n",
    "import utils.utils_funcs as utils\n",
    "from utils.paq2py import paq_read"
   ]
  },
  {
   "cell_type": "code",
   "execution_count": 5,
   "metadata": {},
   "outputs": [],
   "source": [
    "s2p_path = '/home/jamesrowland/Documents/packerstation/'\\\n",
    "           'sarmstrong/Data/2019-05-15/RL042/2019-05-15_RL042_B2_t-005/suite2p'"
   ]
  },
  {
   "cell_type": "code",
   "execution_count": 6,
   "metadata": {},
   "outputs": [],
   "source": [
    "paq_path = '/home/jamesrowland/Documents/packerstation/'\\\n",
    "           'sarmstrong/Data/2019-05-15/RL042/2019-05-15_RL042_B2_t005.paq'"
   ]
  },
  {
   "cell_type": "code",
   "execution_count": 7,
   "metadata": {},
   "outputs": [],
   "source": [
    "# can only think how to do one plane at a time for now\n",
    "plane = 0\n",
    "tot_planes = 3 # how many planes did you record in total?\n",
    "fs = 15 # total frame rate Hz\n",
    "fs = fs / tot_planes"
   ]
  },
  {
   "cell_type": "code",
   "execution_count": 8,
   "metadata": {},
   "outputs": [
    {
     "name": "stdout",
     "output_type": "stream",
     "text": [
      "Loading 1088 traces labelled as cells\n",
      "Subtracting neuropil with a coefficient of 0.7\n"
     ]
    },
    {
     "data": {
      "text/plain": [
       "(1088, 5570)"
      ]
     },
     "execution_count": 8,
     "metadata": {},
     "output_type": "execute_result"
    }
   ],
   "source": [
    "# just sticking with plane0 for now\n",
    "_, spks, stat = utils.s2p_loader(os.path.join(s2p_path, 'plane{}'.format(plane)))\n",
    "spks.shape"
   ]
  },
  {
   "cell_type": "code",
   "execution_count": 9,
   "metadata": {},
   "outputs": [
    {
     "data": {
      "text/plain": [
       "16710"
      ]
     },
     "execution_count": 9,
     "metadata": {},
     "output_type": "execute_result"
    }
   ],
   "source": [
    "tot_frames = spks.shape[1] * tot_planes\n",
    "tot_frames"
   ]
  },
  {
   "cell_type": "code",
   "execution_count": 10,
   "metadata": {},
   "outputs": [
    {
     "data": {
      "image/png": "[encoded data removed]",
      "text/plain": [
       "<Figure size 432x288 with 1 Axes>"
      ]
     },
     "metadata": {},
     "output_type": "display_data"
    }
   ],
   "source": [
    "# oasis gives out some weird value that we're not quite sure the meaning of\n",
    "# it's something like: P(spike in this frame) but why the range is 0-1200\n",
    "# I have no idea. Adam thinks we should try just putting these values in \n",
    "# first. Can try normalising or thresholding later\n",
    "plt.plot(spks[0,:])\n",
    "sns.despine()"
   ]
  },
  {
   "cell_type": "code",
   "execution_count": 11,
   "metadata": {},
   "outputs": [
    {
     "data": {
      "text/plain": [
       "['frame_clock', 'camera_frame', 'piezo_stim']"
      ]
     },
     "execution_count": 11,
     "metadata": {},
     "output_type": "execute_result"
    }
   ],
   "source": [
    "paq = paq_read(paq_path)\n",
    "paq['chan_names']"
   ]
  },
  {
   "cell_type": "code",
   "execution_count": 12,
   "metadata": {},
   "outputs": [
    {
     "data": {
      "text/plain": [
       "100"
      ]
     },
     "execution_count": 12,
     "metadata": {},
     "output_type": "execute_result"
    }
   ],
   "source": [
    "stim_start = utils.paq_data(paq, 'piezo_stim', threshold_ttl = True)\n",
    "len(stim_start)"
   ]
  },
  {
   "cell_type": "code",
   "execution_count": 13,
   "metadata": {},
   "outputs": [],
   "source": [
    "frame_clock = utils.paq_data(paq, 'frame_clock', threshold_ttl = True)\n",
    "frame_clock = frame_clock[:tot_frames] # get rid of foxy bonus frames\n",
    "frame_clock = frame_clock[plane::tot_planes] # just take clocks from the frame you care about"
   ]
  },
  {
   "cell_type": "code",
   "execution_count": 25,
   "metadata": {},
   "outputs": [
    {
     "data": {
      "text/plain": [
       "(1088, 15, 100)"
      ]
     },
     "execution_count": 25,
     "metadata": {},
     "output_type": "execute_result"
    }
   ],
   "source": [
    "# set the time window for each trial here. The authors of the paper take 1 second of data \n",
    "# per trial. As our stim is longer i'm gonna take 1 second before and after 2 seconds after\n",
    "# stim onset. Worth playing with this parameter\n",
    "\n",
    "pre_seconds = 1\n",
    "post_seconds = 2\n",
    "pre_frames = int(pre_seconds * fs) # number of frames before stim onset to inlcude in the trial\n",
    "post_frames = int(post_seconds * fs) # number of frames after stim onset to inlcude in the trial\n",
    "spks_trials = utils.flu_splitter(spks, frame_clock, stim_start, pre_frames, post_frames)\n",
    "spks_trials.shape"
   ]
  },
  {
   "cell_type": "code",
   "execution_count": 20,
   "metadata": {},
   "outputs": [
    {
     "data": {
      "text/plain": [
       "5"
      ]
     },
     "execution_count": 20,
     "metadata": {},
     "output_type": "execute_result"
    }
   ],
   "source": [
    "pre_frames"
   ]
  },
  {
   "cell_type": "code",
   "execution_count": 50,
   "metadata": {},
   "outputs": [
    {
     "data": {
      "text/plain": [
       "[<matplotlib.lines.Line2D at 0x7f3e7f17c128>]"
      ]
     },
     "execution_count": 50,
     "metadata": {},
     "output_type": "execute_result"
    },
    {
     "data": {
      "image/png": "[encoded data removed]",
      "text/plain": [
       "<Figure size 432x288 with 1 Axes>"
      ]
     },
     "metadata": {},
     "output_type": "display_data"
    }
   ],
   "source": [
    "# have plotted this as scatter to show that t=0 occurs between two frames\n",
    "axes = plt.gca()\n",
    "x_axis = np.linspace(-pre_seconds, post_seconds, spks_trials.shape[1]) \n",
    "for i in range(3):\n",
    "    meaned = np.mean(spks_trials[i,:,:],1) + i*100\n",
    "    plt.plot(x_axis, meaned, '.')\n",
    "sns.despine()\n",
    "plt.plot(np.zeros(10), np.linspace(0, axes.get_ylim()[1],10))"
   ]
  },
  {
   "cell_type": "code",
   "execution_count": 63,
   "metadata": {},
   "outputs": [
    {
     "data": {
      "text/plain": [
       "(1088, 15, 1)"
      ]
     },
     "execution_count": 63,
     "metadata": {},
     "output_type": "execute_result"
    }
   ],
   "source": [
    "# trial average each cell\n",
    "mean_trial = np.mean(spks_trials, 2)\n",
    "# reshape for subtraction\n",
    "mean_trial = mean_trial.reshape(spks_trials.shape[0], spks_trials.shape[1], 1)\n",
    "mean_trial.shape"
   ]
  },
  {
   "cell_type": "code",
   "execution_count": 66,
   "metadata": {},
   "outputs": [],
   "source": [
    "# subtract trial average from each trial\n",
    "subbed = spks_trials - mean_trial\n",
    "assert subbed.shape == spks_trials.shape"
   ]
  }
 ],
 "metadata": {
  "kernelspec": {
   "display_name": "Python 3",
   "language": "python",
   "name": "python3"
  },
  "language_info": {
   "codemirror_mode": {
    "name": "ipython",
    "version": 3
   },
   "file_extension": ".py",
   "mimetype": "text/x-python",
   "name": "python",
   "nbconvert_exporter": "python",
   "pygments_lexer": "ipython3",
   "version": "3.7.3"
  }
 },
 "nbformat": 4,
 "nbformat_minor": 2
}
