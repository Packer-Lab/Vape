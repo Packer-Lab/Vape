{
 "cells": [
  {
   "cell_type": "code",
   "execution_count": 1,
   "metadata": {},
   "outputs": [],
   "source": [
    "# #ipython magic\n",
    "# %reset -f\n",
    "# %matplotlib inline\n",
    "# %load_ext autoreload\n",
    "# %autoreload 2"
   ]
  },
  {
   "cell_type": "code",
   "execution_count": 14,
   "metadata": {},
   "outputs": [],
   "source": [
    "#general imports\n",
    "import os\n",
    "import sys \n",
    "import numpy as np\n",
    "import matplotlib.pyplot as plt\n",
    "import seaborn as sns\n",
    "import math\n",
    "import scipy\n",
    "\n",
    "nb_dir = os.path.split(os.getcwd())[0]\n",
    "sys.path.append(nb_dir)\n",
    "sys.path.append(os.path.join(nb_dir, 'utils'))"
   ]
  },
  {
   "cell_type": "code",
   "execution_count": 15,
   "metadata": {},
   "outputs": [],
   "source": [
    "\n",
    "sns.set()\n",
    "sns.set_style('white')\n",
    "\n",
    "#global plotting params\n",
    "params = {'legend.fontsize': 'x-large',\n",
    "         'axes.labelsize': 'x-large',\n",
    "         'axes.titlesize':'x-large',\n",
    "         'xtick.labelsize':'x-large',\n",
    "         'ytick.labelsize':'x-large'}\n",
    "plt.rcParams.update(params)\n"
   ]
  },
  {
   "cell_type": "code",
   "execution_count": 16,
   "metadata": {},
   "outputs": [],
   "source": [
    "#notebook specific imports\n",
    "import pickle\n",
    "from utils_funcs import d_prime\n",
    "#from utils import subsets_analysis as subs\n",
    "from subsets_analysis import analyse_subsets, subset_attr"
   ]
  },
  {
   "cell_type": "code",
   "execution_count": 17,
   "metadata": {},
   "outputs": [],
   "source": [
    "mouse_id = 'J048'\n",
    "run_numbers = [19]\n",
    "\n",
    "# mouse_id = 'RL048'\n",
    "# run_numbers = [14]"
   ]
  },
  {
   "cell_type": "code",
   "execution_count": 18,
   "metadata": {},
   "outputs": [
    {
     "name": "stdout",
     "output_type": "stream",
     "text": [
      "134\n"
     ]
    }
   ],
   "source": [
    "subsets, run = analyse_subsets(mouse_id, run_numbers)\n",
    "\n",
    "fifty_cells = subsets.subset_running_hit[-1]\n",
    "#subsets.snip_session(start=1)\n",
    "print(len(subsets.go_outcome))\n",
    "subsets"
   ]
  },
  {
   "cell_type": "code",
   "execution_count": 22,
   "metadata": {},
   "outputs": [
    {
     "name": "stdout",
     "output_type": "stream",
     "text": [
      "27\n",
      "16\n",
      "16\n",
      "12\n",
      "14\n",
      "49\n"
     ]
    },
    {
     "data": {
      "text/plain": [
       "[<matplotlib.lines.Line2D at 0x7fa9a7f261d0>]"
      ]
     },
     "execution_count": 22,
     "metadata": {},
     "output_type": "execute_result"
    },
    {
     "data": {
      "image/png": "[encoded data removed]",
      "text/plain": [
       "<Figure size 432x288 with 1 Axes>"
      ]
     },
     "metadata": {},
     "output_type": "display_data"
    }
   ],
   "source": [
    "plt.plot(subsets.subsets, subsets.subsets_dprime, '.')\n",
    "\n"
   ]
  },
  {
   "cell_type": "code",
   "execution_count": null,
   "metadata": {},
   "outputs": [],
   "source": [
    "plt.plot(subsets.subsets_dprime)"
   ]
  },
  {
   "cell_type": "code",
   "execution_count": null,
   "metadata": {},
   "outputs": [],
   "source": [
    "subsets.nogo_outcome"
   ]
  },
  {
   "cell_type": "code",
   "execution_count": null,
   "metadata": {},
   "outputs": [],
   "source": [
    "type(subsets.nogo_outcome)"
   ]
  },
  {
   "cell_type": "code",
   "execution_count": null,
   "metadata": {},
   "outputs": [],
   "source": [
    "running_hit = []\n",
    "running_fa = []\n",
    "\n",
    "for outcome in run.outcome:\n",
    "    if outcome == 'miss':\n",
    "        running_hit.append(0)\n",
    "    elif outcome == 'hit':\n",
    "        running_hit.append(1)\n",
    "    elif outcome == 'cr':\n",
    "        running_fa.append(0)\n",
    "    elif outcome == 'fp':\n",
    "        running_fa.append(1)\n",
    "        \n",
    "        \n",
    "N = 25\n",
    "moving_hit = np.convolve(running_hit, np.ones((N,))/N, mode='valid')\n",
    "moving_fa  = np.convolve(running_fa, np.ones((N,))/N, mode='valid')\n",
    "    \n",
    "running_dprime = []\n",
    "i = 0\n",
    "while True:\n",
    "    if i == len(moving_hit)-1 or i==len(moving_fa)-1: break\n",
    "    running_dprime.append(d_prime(moving_hit[i], moving_fa[i]))\n",
    "    i = i+1\n",
    "    \n",
    "plt.plot(running_dprime)"
   ]
  },
  {
   "cell_type": "code",
   "execution_count": null,
   "metadata": {},
   "outputs": [],
   "source": [
    "np.where(np.array(running_dprime) > 0.5)\n",
    "\n",
    "x = 72/len(running_dprime)\n",
    "136 * x"
   ]
  },
  {
   "cell_type": "code",
   "execution_count": null,
   "metadata": {},
   "outputs": [],
   "source": [
    "plt.figure(figsize=(7,5))\n",
    "plt.plot(subsets, run7[0])\n",
    "plt.xlabel('Number of Cells Targeted')\n",
    "plt.ylabel('dprime')\n",
    "sns.despine()\n",
    "plt.savefig('/home/jamesrowland/Documents/Code/Vape/figures/J047_run7.png')"
   ]
  },
  {
   "cell_type": "code",
   "execution_count": null,
   "metadata": {},
   "outputs": [],
   "source": [
    "# RL022_dprime = RL022.dprime_mouse([11,13,14])\n",
    "# RL023_dprime = RL023.dprime_mouse([9,11,12])\n",
    "# RL032_dprime = RL032.dprime_mouse([10,12,13])\n",
    "\n",
    "\n",
    "# all_dprime = np.vstack((RL022_dprime, RL023_dprime, RL032_dprime)).squeez\n",
    "\n",
    "# subset_sizes = RL022.subsets"
   ]
  },
  {
   "cell_type": "code",
   "execution_count": null,
   "metadata": {},
   "outputs": [],
   "source": [
    "# mean_dprime = np.mean(all_dprime, 0)\n",
    "# std_dprime = np.std(all_dprime, 0)\n",
    "# sem_dprime = scipy.stats.sem(all_dprime, 0)"
   ]
  },
  {
   "cell_type": "code",
   "execution_count": null,
   "metadata": {},
   "outputs": [],
   "source": [
    "# plt.figure()\n",
    "# plt.errorbar(subset_sizes, mean_dprime,yerr=sem_dprime , fmt='.')\n",
    "\n",
    "# sns.despine()\n",
    "# plt.ylabel('d-prime')\n",
    "# plt.xlabel('Number of Cells Targeted')\n",
    "# plt.show()\n",
    "# plt.savefig('/home/jamesrowland/Documents/Code/Vape/figures/all_mice_subsets.png')"
   ]
  },
  {
   "cell_type": "code",
   "execution_count": null,
   "metadata": {},
   "outputs": [],
   "source": [
    "# running_fa = []\n",
    "\n",
    "# good_runs = [11,13,14]\n",
    "# arr_len = np.inf\n",
    "# for run_number in good_runs:\n",
    "#     res = RL023.running_fa(run_number)\n",
    "    \n",
    "#     if len(res) < arr_len:\n",
    "#         arr_len = len(res)\n",
    "#     running_fa.append(res)\n",
    "\n",
    "    \n",
    "# running_fa = [lst[0:arr_len] for lst in running_fa]\n",
    "\n",
    "# running_fa = np.dstack(running_fa).squeeze()\n",
    "running_fa = []\n",
    "\n",
    "# good_runs = [11,13,14]\n",
    "# arr_len = np.inf\n",
    "# for run_number in good_runs:\n",
    "#     res = RL023.running_fa(run_number)\n",
    "    \n",
    "#     if len(res) < arr_len:\n",
    "#         arr_len = len(res)\n",
    "#     running_fa.append(res)\n",
    "\n",
    "    \n",
    "# running_fa = [lst[0:arr_len] for lst in running_fa]\n",
    "\n",
    "# running_fa = np.dstack(running_fa).squeeze()\n",
    "\n",
    "# meaned = np.mean(running_fa,1)\n",
    "\n",
    "# plt.plot(meaned[5:])\n",
    "# meaned = np.mean(running_fa,1)\n",
    "\n",
    "# plt.plot(meaned[5:])"
   ]
  },
  {
   "cell_type": "code",
   "execution_count": null,
   "metadata": {},
   "outputs": [],
   "source": [
    "plt.plot(running_fa[5:])\n",
    "plt.xlabel('trial_number')\n",
    "plt.ylabel('false alarm rate')\n",
    "sns.despine()"
   ]
  }
 ],
 "metadata": {
  "kernelspec": {
   "display_name": "Python 3",
   "language": "python",
   "name": "python3"
  },
  "language_info": {
   "codemirror_mode": {
    "name": "ipython",
    "version": 3
   },
   "file_extension": ".py",
   "mimetype": "text/x-python",
   "name": "python",
   "nbconvert_exporter": "python",
   "pygments_lexer": "ipython3",
   "version": "3.7.3"
  }
 },
 "nbformat": 4,
 "nbformat_minor": 2
}
