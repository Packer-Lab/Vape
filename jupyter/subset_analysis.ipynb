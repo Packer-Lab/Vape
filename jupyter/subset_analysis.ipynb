{
 "cells": [
  {
   "cell_type": "code",
   "execution_count": 3,
   "metadata": {},
   "outputs": [
    {
     "name": "stdout",
     "output_type": "stream",
     "text": [
      "The autoreload extension is already loaded. To reload it, use:\n",
      "  %reload_ext autoreload\n"
     ]
    }
   ],
   "source": [
    "#ipython magic\n",
    "%reset -f\n",
    "%matplotlib inline\n",
    "%load_ext autoreload\n",
    "%autoreload 2"
   ]
  },
  {
   "cell_type": "code",
   "execution_count": 4,
   "metadata": {
    "collapsed": true
   },
   "outputs": [],
   "source": [
    "#general imports\n",
    "import sys\n",
    "sys.path.append('..')\n",
    "import os\n",
    "\n",
    "import numpy as np\n",
    "import matplotlib.pyplot as plt\n",
    "import seaborn as sns\n",
    "import math\n",
    "import scipy"
   ]
  },
  {
   "cell_type": "code",
   "execution_count": 5,
   "metadata": {
    "collapsed": true
   },
   "outputs": [],
   "source": [
    "\n",
    "sns.set()\n",
    "sns.set_style('white')\n",
    "\n",
    "#global plotting params\n",
    "params = {'legend.fontsize': 'x-large',\n",
    "         'axes.labelsize': 'x-large',\n",
    "         'axes.titlesize':'x-large',\n",
    "         'xtick.labelsize':'x-large',\n",
    "         'ytick.labelsize':'x-large'}\n",
    "plt.rcParams.update(params)\n"
   ]
  },
  {
   "cell_type": "code",
   "execution_count": 6,
   "metadata": {
    "collapsed": true
   },
   "outputs": [],
   "source": [
    "#notebook specific imports\n",
    "import pickle\n",
    "from utils.utils_funcs import d_prime\n",
    "#from utils import subsets_analysis as subs\n",
    "from utils.subsets_analysis import analyse_subsets, subset_attr"
   ]
  },
  {
   "cell_type": "code",
   "execution_count": 7,
   "metadata": {
    "collapsed": true
   },
   "outputs": [],
   "source": [
    "mouse_id = 'J047'\n",
    "run_numbers = [7]"
   ]
  },
  {
   "cell_type": "code",
   "execution_count": 8,
   "metadata": {},
   "outputs": [
    {
     "data": {
      "text/plain": [
       "[[[0.0,\n",
       "   0.0,\n",
       "   0.0,\n",
       "   0.25,\n",
       "   0.4,\n",
       "   0.5,\n",
       "   0.42857142857142855,\n",
       "   0.5,\n",
       "   0.4444444444444444,\n",
       "   0.5,\n",
       "   0.45454545454545453,\n",
       "   0.4166666666666667,\n",
       "   0.38461538461538464,\n",
       "   0.42857142857142855,\n",
       "   0.4,\n",
       "   0.375,\n",
       "   0.4117647058823529,\n",
       "   0.3888888888888889,\n",
       "   0.3684210526315789],\n",
       "  [0.0,\n",
       "   0.0,\n",
       "   0.3333333333333333,\n",
       "   0.25,\n",
       "   0.2,\n",
       "   0.16666666666666666,\n",
       "   0.2857142857142857,\n",
       "   0.375,\n",
       "   0.3333333333333333,\n",
       "   0.3,\n",
       "   0.2727272727272727,\n",
       "   0.25,\n",
       "   0.23076923076923078,\n",
       "   0.21428571428571427],\n",
       "  [0.0,\n",
       "   0.5,\n",
       "   0.6666666666666666,\n",
       "   0.75,\n",
       "   0.8,\n",
       "   0.8333333333333334,\n",
       "   0.7142857142857143,\n",
       "   0.75,\n",
       "   0.6666666666666666,\n",
       "   0.6,\n",
       "   0.5454545454545454,\n",
       "   0.5],\n",
       "  [0.0, 0.0, 0.3333333333333333, 0.5, 0.6, 0.5, 0.42857142857142855],\n",
       "  [0.0,\n",
       "   0.5,\n",
       "   0.6666666666666666,\n",
       "   0.75,\n",
       "   0.8,\n",
       "   0.8333333333333334,\n",
       "   0.8571428571428571,\n",
       "   0.875,\n",
       "   0.7777777777777778,\n",
       "   0.8,\n",
       "   0.7272727272727273,\n",
       "   0.75,\n",
       "   0.6923076923076923,\n",
       "   0.6428571428571429,\n",
       "   0.6666666666666666],\n",
       "  [1.0,\n",
       "   1.0,\n",
       "   1.0,\n",
       "   1.0,\n",
       "   1.0,\n",
       "   1.0,\n",
       "   1.0,\n",
       "   1.0,\n",
       "   1.0,\n",
       "   1.0,\n",
       "   1.0,\n",
       "   1.0,\n",
       "   1.0,\n",
       "   1.0,\n",
       "   1.0,\n",
       "   1.0,\n",
       "   1.0,\n",
       "   0.9444444444444444,\n",
       "   0.9473684210526315]]]"
      ]
     },
     "execution_count": 8,
     "metadata": {},
     "output_type": "execute_result"
    }
   ],
   "source": [
    "J047 = analyse_subsets(mouse_id, [7], 'subsets_dprime')\n",
    "\n",
    "J047[0]\n",
    "\n",
    "subset_attr('subset_running_hit', J047)\n"
   ]
  },
  {
   "cell_type": "code",
   "execution_count": null,
   "metadata": {
    "collapsed": true
   },
   "outputs": [],
   "source": [
    "plt.figure(figsize=(7,5))\n",
    "plt.plot(subsets, run7[0])\n",
    "plt.xlabel('Number of Cells Targeted')\n",
    "plt.ylabel('dprime')\n",
    "sns.despine()\n",
    "plt.savefig('/home/jamesrowland/Documents/Code/Vape/figures/J047_run7.png')"
   ]
  },
  {
   "cell_type": "code",
   "execution_count": null,
   "metadata": {
    "collapsed": true
   },
   "outputs": [],
   "source": [
    "# RL022_dprime = RL022.dprime_mouse([11,13,14])\n",
    "# RL023_dprime = RL023.dprime_mouse([9,11,12])\n",
    "# RL032_dprime = RL032.dprime_mouse([10,12,13])\n",
    "\n",
    "\n",
    "# all_dprime = np.vstack((RL022_dprime, RL023_dprime, RL032_dprime)).squeez\n",
    "\n",
    "# subset_sizes = RL022.subsets"
   ]
  },
  {
   "cell_type": "code",
   "execution_count": null,
   "metadata": {
    "collapsed": true
   },
   "outputs": [],
   "source": [
    "# mean_dprime = np.mean(all_dprime, 0)\n",
    "# std_dprime = np.std(all_dprime, 0)\n",
    "# sem_dprime = scipy.stats.sem(all_dprime, 0)"
   ]
  },
  {
   "cell_type": "code",
   "execution_count": null,
   "metadata": {
    "collapsed": true
   },
   "outputs": [],
   "source": [
    "# plt.figure()\n",
    "# plt.errorbar(subset_sizes, mean_dprime,yerr=sem_dprime , fmt='.')\n",
    "\n",
    "# sns.despine()\n",
    "# plt.ylabel('d-prime')\n",
    "# plt.xlabel('Number of Cells Targeted')\n",
    "# plt.show()\n",
    "# plt.savefig('/home/jamesrowland/Documents/Code/Vape/figures/all_mice_subsets.png')"
   ]
  },
  {
   "cell_type": "code",
   "execution_count": null,
   "metadata": {
    "collapsed": true
   },
   "outputs": [],
   "source": [
    "# running_fa = []\n",
    "\n",
    "# good_runs = [11,13,14]\n",
    "# arr_len = np.inf\n",
    "# for run_number in good_runs:\n",
    "#     res = RL023.running_fa(run_number)\n",
    "    \n",
    "#     if len(res) < arr_len:\n",
    "#         arr_len = len(res)\n",
    "#     running_fa.append(res)\n",
    "\n",
    "    \n",
    "# running_fa = [lst[0:arr_len] for lst in running_fa]\n",
    "\n",
    "# running_fa = np.dstack(running_fa).squeeze()\n",
    "running_fa = []\n",
    "\n",
    "# good_runs = [11,13,14]\n",
    "# arr_len = np.inf\n",
    "# for run_number in good_runs:\n",
    "#     res = RL023.running_fa(run_number)\n",
    "    \n",
    "#     if len(res) < arr_len:\n",
    "#         arr_len = len(res)\n",
    "#     running_fa.append(res)\n",
    "\n",
    "    \n",
    "# running_fa = [lst[0:arr_len] for lst in running_fa]\n",
    "\n",
    "# running_fa = np.dstack(running_fa).squeeze()\n",
    "\n",
    "# meaned = np.mean(running_fa,1)\n",
    "\n",
    "# plt.plot(meaned[5:])\n",
    "# meaned = np.mean(running_fa,1)\n",
    "\n",
    "# plt.plot(meaned[5:])"
   ]
  },
  {
   "cell_type": "code",
   "execution_count": null,
   "metadata": {
    "collapsed": true
   },
   "outputs": [],
   "source": [
    "plt.plot(running_fa[5:])\n",
    "plt.xlabel('trial_number')\n",
    "plt.ylabel('false alarm rate')\n",
    "sns.despine()"
   ]
  }
 ],
 "metadata": {
  "kernelspec": {
   "display_name": "Python 3",
   "language": "python",
   "name": "python3"
  },
  "language_info": {
   "codemirror_mode": {
    "name": "ipython",
    "version": 3
   },
   "file_extension": ".py",
   "mimetype": "text/x-python",
   "name": "python",
   "nbconvert_exporter": "python",
   "pygments_lexer": "ipython3",
   "version": "3.6.3"
  }
 },
 "nbformat": 4,
 "nbformat_minor": 2
}
