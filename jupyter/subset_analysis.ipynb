{
 "cells": [
  {
   "cell_type": "code",
   "execution_count": 1,
   "metadata": {
    "collapsed": true
   },
   "outputs": [],
   "source": [
    "#ipython magic\n",
    "%reset -f\n",
    "%matplotlib inline\n",
    "%load_ext autoreload\n",
    "%autoreload 2"
   ]
  },
  {
   "cell_type": "code",
   "execution_count": 2,
   "metadata": {
    "collapsed": true
   },
   "outputs": [],
   "source": [
    "#general imports\n",
    "import sys\n",
    "sys.path.append('..')\n",
    "import os\n",
    "import numpy as np\n",
    "import matplotlib.pyplot as plt\n",
    "import seaborn as sns\n",
    "import math\n",
    "import scipy"
   ]
  },
  {
   "cell_type": "code",
   "execution_count": 7,
   "metadata": {},
   "outputs": [],
   "source": [
    "#notebook specific imports\n",
    "import pickle\n",
    "from utils.utils_funcs import d_prime\n",
    "#from utils import subsets_analysis as subs\n",
    "from utils.subsets_analysis import analyse_subsets\n"
   ]
  },
  {
   "cell_type": "code",
   "execution_count": 24,
   "metadata": {},
   "outputs": [
    {
     "data": {
      "text/plain": [
       "[array([False, False, False, False, False, False, False, False,  True,\n",
       "        False,  True,  True,  True, False,  True, False,  True, False,\n",
       "        False, False, False, False,  True, False,  True, False,  True,\n",
       "        False,  True, False, False,  True, False,  True,  True, False,\n",
       "         True, False,  True,  True,  True,  True,  True,  True, False,\n",
       "         True,  True, False, False,  True, False,  True,  True,  True,\n",
       "         True,  True, False,  True, False, False, False, False,  True,\n",
       "        False, False,  True, False,  True,  True,  True,  True,  True,\n",
       "         True, False, False,  True, False, False,  True, False, False,\n",
       "        False,  True,  True,  True,  True,  True, False, False, False,\n",
       "        False,  True,  True,  True,  True, False, False,  True, False,\n",
       "         True,  True,  True,  True, False, False, False, False,  True,\n",
       "        False, False,  True, False,  True,  True, False, False,  True,\n",
       "        False, False,  True, False, False, False, False,  True, False,\n",
       "         True, False, False, False, False, False, False, False, False,\n",
       "        False, False]),\n",
       " array([False,  True,  True,  True,  True,  True,  True,  True,  True,\n",
       "         True,  True,  True,  True,  True,  True,  True,  True,  True,\n",
       "         True,  True,  True,  True,  True,  True,  True,  True,  True,\n",
       "        False,  True, False, False,  True,  True, False, False,  True,\n",
       "         True,  True, False,  True, False,  True,  True,  True,  True,\n",
       "         True,  True,  True,  True,  True, False,  True, False,  True,\n",
       "         True,  True,  True,  True, False, False, False,  True,  True,\n",
       "         True,  True, False,  True, False,  True,  True, False,  True,\n",
       "        False,  True,  True,  True,  True,  True,  True,  True,  True,\n",
       "        False, False, False,  True, False, False,  True,  True, False,\n",
       "         True,  True, False, False, False, False,  True, False, False,\n",
       "        False, False, False,  True]),\n",
       " array([ True,  True,  True,  True,  True, False, False,  True,  True,\n",
       "         True,  True,  True, False,  True, False,  True,  True,  True,\n",
       "         True,  True,  True,  True,  True,  True,  True,  True,  True,\n",
       "        False,  True,  True,  True, False,  True,  True,  True, False,\n",
       "         True,  True,  True,  True,  True,  True,  True,  True,  True,\n",
       "         True,  True,  True, False,  True,  True, False,  True,  True,\n",
       "         True,  True,  True,  True,  True, False,  True,  True,  True,\n",
       "         True,  True,  True,  True,  True,  True, False, False, False,\n",
       "         True,  True, False,  True,  True,  True,  True, False,  True,\n",
       "         True,  True,  True,  True])]"
      ]
     },
     "execution_count": 24,
     "metadata": {},
     "output_type": "execute_result"
    }
   ],
   "source": [
    "mouse_id = 'RL022'\n",
    "run_numbers = [11,13,14]\n",
    "analyse_subsets(mouse_id,run_numbers, 'go_outcome')\n",
    "\n",
    "\n"
   ]
  },
  {
   "cell_type": "code",
   "execution_count": 10,
   "metadata": {},
   "outputs": [
    {
     "ename": "TypeError",
     "evalue": "analyse_subsets() missing 1 required positional argument: 'variable_name'",
     "output_type": "error",
     "traceback": [
      "\u001b[0;31m---------------------------------------------------------------------------\u001b[0m",
      "\u001b[0;31mTypeError\u001b[0m                                 Traceback (most recent call last)",
      "\u001b[0;32m<ipython-input-10-c72b42e3cda0>\u001b[0m in \u001b[0;36m<module>\u001b[0;34m()\u001b[0m\n\u001b[1;32m      3\u001b[0m \u001b[0mmouse_id\u001b[0m \u001b[0;34m=\u001b[0m \u001b[0;34m'RL022'\u001b[0m\u001b[0;34m\u001b[0m\u001b[0m\n\u001b[1;32m      4\u001b[0m \u001b[0mrun_number\u001b[0m \u001b[0;34m=\u001b[0m \u001b[0;36m11\u001b[0m\u001b[0;34m\u001b[0m\u001b[0m\n\u001b[0;32m----> 5\u001b[0;31m \u001b[0manalyse_subsets\u001b[0m\u001b[0;34m(\u001b[0m\u001b[0mmouse_id\u001b[0m\u001b[0;34m,\u001b[0m\u001b[0mrun_number\u001b[0m\u001b[0;34m)\u001b[0m\u001b[0;34m\u001b[0m\u001b[0m\n\u001b[0m\u001b[1;32m      6\u001b[0m \u001b[0;34m\u001b[0m\u001b[0m\n",
      "\u001b[0;31mTypeError\u001b[0m: analyse_subsets() missing 1 required positional argument: 'variable_name'"
     ]
    }
   ],
   "source": [
    "\n",
    "\n",
    "\n",
    "mouse_id = 'RL022'\n",
    "run_number = 11\n",
    "analyse_subsets(mouse_id,run_number)\n",
    "\n"
   ]
  },
  {
   "cell_type": "code",
   "execution_count": null,
   "metadata": {},
   "outputs": [],
   "source": [
    "1/0"
   ]
  },
  {
   "cell_type": "code",
   "execution_count": null,
   "metadata": {
    "collapsed": true
   },
   "outputs": [],
   "source": [
    "\n",
    "sns.set()\n",
    "sns.set_style('white')\n",
    "\n",
    "#global plotting params\n",
    "params = {'legend.fontsize': 'x-large',\n",
    "         'axes.labelsize': 'x-large',\n",
    "         'axes.titlesize':'x-large',\n",
    "         'xtick.labelsize':'x-large',\n",
    "         'ytick.labelsize':'x-large'}\n",
    "plt.rcParams.update(params)\n"
   ]
  },
  {
   "cell_type": "code",
   "execution_count": null,
   "metadata": {},
   "outputs": [],
   "source": [
    "RL022 = analyse_subsets('RL022', [11,13,14])\n",
    "# RL023 = Subsets('RL023')\n",
    "# RL032 = Subsets('RL032')"
   ]
  },
  {
   "cell_type": "code",
   "execution_count": null,
   "metadata": {
    "collapsed": true
   },
   "outputs": [],
   "source": [
    "# RL022_dprime = RL022.dprime_mouse([11,13,14])\n",
    "# RL023_dprime = RL023.dprime_mouse([9,11,12])\n",
    "# RL032_dprime = RL032.dprime_mouse([10,12,13])\n",
    "\n",
    "# subset_sizes = RL022.subsets\n"
   ]
  },
  {
   "cell_type": "code",
   "execution_count": null,
   "metadata": {
    "collapsed": true
   },
   "outputs": [],
   "source": [
    "# all_dprime = np.vstack((RL022_dprime, RL023_dprime, RL032_dprime)).squeez\n",
    "     \n",
    "\n",
    "class AnalyseSubsets(Subsets):\n",
    "    mouse_id = 'RL022'\n",
    "    run_number = 11\n",
    "\n",
    "    with open('/home/jamesrowland/Documents/Code/Vape/run_pkls/{}/run{}.pkl' \\\n",
    "                .format(mouse_id,run_number), 'rb') as f:\n",
    "        Run = pickle.load(f)\n",
    "        Subsets(Run)\n",
    "\n",
    "e()\n",
    "# all_dprime.shape"
   ]
  },
  {
   "cell_type": "code",
   "execution_count": null,
   "metadata": {
    "collapsed": true
   },
   "outputs": [],
   "source": [
    "# mean_dprime = np.mean(all_dprime, 0)\n",
    "# std_dprime = np.std(all_dprime, 0)\n",
    "# sem_dprime = scipy.stats.sem(all_dprime, 0)"
   ]
  },
  {
   "cell_type": "code",
   "execution_count": null,
   "metadata": {
    "collapsed": true
   },
   "outputs": [],
   "source": [
    "# plt.figure()\n",
    "# plt.errorbar(subset_sizes, mean_dprime,yerr=sem_dprime , fmt='.')\n",
    "\n",
    "# sns.despine()\n",
    "# plt.ylabel('d-prime')\n",
    "# plt.xlabel('Number of Cells Targeted')\n",
    "# plt.show()\n",
    "# plt.savefig('/home/jamesrowland/Documents/Code/Vape/figures/all_mice_subsets.png')"
   ]
  },
  {
   "cell_type": "code",
   "execution_count": null,
   "metadata": {},
   "outputs": [],
   "source": [
    "# running_fa = []\n",
    "\n",
    "# good_runs = [11,13,14]\n",
    "# arr_len = np.inf\n",
    "# for run_number in good_runs:\n",
    "#     res = RL023.running_fa(run_number)\n",
    "    \n",
    "#     if len(res) < arr_len:\n",
    "#         arr_len = len(res)\n",
    "#     running_fa.append(res)\n",
    "\n",
    "    \n",
    "# running_fa = [lst[0:arr_len] for lst in running_fa]\n",
    "\n",
    "# running_fa = np.dstack(running_fa).squeeze()\n",
    "running_fa = []\n",
    "\n",
    "# good_runs = [11,13,14]\n",
    "# arr_len = np.inf\n",
    "# for run_number in good_runs:\n",
    "#     res = RL023.running_fa(run_number)\n",
    "    \n",
    "#     if len(res) < arr_len:\n",
    "#         arr_len = len(res)\n",
    "#     running_fa.append(res)\n",
    "\n",
    "    \n",
    "# running_fa = [lst[0:arr_len] for lst in running_fa]\n",
    "\n",
    "# running_fa = np.dstack(running_fa).squeeze()\n",
    "\n",
    "# meaned = np.mean(running_fa,1)\n",
    "\n",
    "# plt.plot(meaned[5:])\n",
    "# meaned = np.mean(running_fa,1)\n",
    "\n",
    "# plt.plot(meaned[5:])"
   ]
  },
  {
   "cell_type": "code",
   "execution_count": null,
   "metadata": {},
   "outputs": [],
   "source": [
    "plt.plot(running_fa[5:])\n",
    "plt.xlabel('trial_number')\n",
    "plt.ylabel('false alarm rate')\n",
    "sns.despine()"
   ]
  }
 ],
 "metadata": {
  "kernelspec": {
   "display_name": "Python 3",
   "language": "python",
   "name": "python3"
  },
  "language_info": {
   "codemirror_mode": {
    "name": "ipython",
    "version": 3
   },
   "file_extension": ".py",
   "mimetype": "text/x-python",
   "name": "python",
   "nbconvert_exporter": "python",
   "pygments_lexer": "ipython3",
   "version": "3.6.3"
  }
 },
 "nbformat": 4,
 "nbformat_minor": 2
}
