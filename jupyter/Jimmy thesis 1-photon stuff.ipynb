{
 "cells": [
  {
   "cell_type": "code",
   "execution_count": 1,
   "metadata": {},
   "outputs": [],
   "source": [
    "# imports general modules, runs ipython magic commands\n",
    "# change path in this notebook to point to repo locally\n",
    "# n.b. sometimes need to run this cell twice to init the plotting paramters\n",
    "%run ./setup_notebook.ipynb"
   ]
  },
  {
   "cell_type": "code",
   "execution_count": 2,
   "metadata": {},
   "outputs": [],
   "source": [
    "from opto_stim_import2 import BlimpImport\n",
    "import pickle\n",
    "from utils.utils_funcs import d_prime\n",
    "import scipy.stats as scst\n",
    "sys.path.append(os.path.expanduser('/home/jrowland/mnt/qnap/Data'))\n",
    "sys.path.append('/home/jrowland/mnt/qnap')\n",
    "\n",
    "sys.path.append('..')\n",
    "sys.path.append('/home/aebbeling/Vape/utils')\n",
    "\n",
    "import seaborn as sns\n",
    "from cycler import cycler\n",
    "\n",
    "figure_path = '/home/jrowland/mnt/qnap/Figures/alek_thesis'\n",
    "if not os.path.exists(figure_path):\n",
    "    os.mkdir(figure_path)"
   ]
  },
  {
   "cell_type": "code",
   "execution_count": 3,
   "metadata": {},
   "outputs": [],
   "source": [
    "plt.rcParams['axes.prop_cycle'] = cycler(color=sns.color_palette('colorblind'))\n",
    "\n",
    "def save_figure(name, base_path=figure_path):\n",
    "    plt.rcParams['pdf.fonttype'] = 42\n",
    "    plt.savefig(os.path.join(base_path, f'{name}.pdf'), \n",
    "                bbox_inches='tight', transparent=True)\n"
   ]
  },
  {
   "cell_type": "code",
   "execution_count": 4,
   "metadata": {},
   "outputs": [],
   "source": [
    "mice_dicts = [\n",
    "    \n",
    "{'mouse_id': 'J048'},\n",
    "{'mouse_id': 'RL048'},\n",
    "{'mouse_id': 'J063'},\n",
    "{'mouse_id': 'J064'},\n",
    "{'mouse_id': 'J065'},\n",
    "{'mouse_id': 'RL070'},\n",
    "{'mouse_id': 'RL072'},\n",
    "{'mouse_id': 'RL127'},\n",
    "{'mouse_id': 'RL129'},\n",
    "{'mouse_id': 'RL130'},\n",
    "{'mouse_id': 'RL131'},\n",
    "{'mouse_id': 'RL132'},\n",
    "\n",
    "]\n",
    "\n",
    "mice_dicts_controls = [\n",
    "    \n",
    "{'mouse_id': 'J045'},\n",
    "{'mouse_id': 'J046'},\n",
    "{'mouse_id': 'RL037'},\n",
    "{'mouse_id': 'RL038'},\n",
    "\n",
    "]"
   ]
  },
  {
   "cell_type": "code",
   "execution_count": 5,
   "metadata": {},
   "outputs": [
    {
     "name": "stdout",
     "output_type": "stream",
     "text": [
      "['/home/jrowland/mnt/qnap/Data/1-photon-behaviour/opto_stim_J047_J048/J048-2019-06-12-164549.txt']\n",
      "Importing data file: J048-2019-06-12-164549.txt\n",
      "['/home/jrowland/mnt/qnap/Data/1-photon-behaviour/opto_stim_J047_J048/J048-2019-06-13-160645.txt']\n",
      "Importing data file: J048-2019-06-13-160645.txt\n",
      "['/home/jrowland/mnt/qnap/Data/1-photon-behaviour/opto_stim_J047_J048/J048-2019-06-14-163539.txt']\n",
      "Importing data file: J048-2019-06-14-163539.txt\n",
      "['/home/jrowland/mnt/qnap/Data/1-photon-behaviour/opto_stim_RL047_RL048/RL048-2019-06-12-181929.txt']\n",
      "Importing data file: RL048-2019-06-12-181929.txt\n",
      "['/home/jrowland/mnt/qnap/Data/1-photon-behaviour/opto_stim_RL047_RL048/RL048-2019-06-13-172939.txt']\n",
      "Importing data file: RL048-2019-06-13-172939.txt\n",
      "['/home/jrowland/mnt/qnap/Data/1-photon-behaviour/opto_stim_RL047_RL048/RL048-2019-06-14-175540.txt']\n",
      "Importing data file: RL048-2019-06-14-175540.txt\n",
      "['/home/jrowland/mnt/qnap/Data/1-photon-behaviour/opto_stim_RL047_RL048/RL048-2019-06-16-221750.txt']\n",
      "Importing data file: RL048-2019-06-16-221750.txt\n",
      "['/home/jrowland/mnt/qnap/Data/1-photon-behaviour/opto_stim_RL047_RL048/RL048-2019-06-18-203211.txt']\n",
      "Importing data file: RL048-2019-06-18-203211.txt\n",
      "['/home/jrowland/mnt/qnap/Data/1-photon-behaviour/opto_stim_experiment_J061_J063/J063-2019-11-27-223718.txt']\n",
      "Importing data file: J063-2019-11-27-223718.txt\n",
      "['/home/jrowland/mnt/qnap/Data/1-photon-behaviour/opto_stim_experiment_J061_J063/J063-2019-11-28-163651.txt']\n",
      "Importing data file: J063-2019-11-28-163651.txt\n",
      "['/home/jrowland/mnt/qnap/Data/1-photon-behaviour/J063-2019-11-29-175026.txt']\n",
      "Importing data file: J063-2019-11-29-175026.txt\n",
      "['/home/jrowland/mnt/qnap/Data/1-photon-behaviour/J063-2019-12-03-220849.txt']\n",
      "Importing data file: J063-2019-12-03-220849.txt\n",
      "['/home/jrowland/mnt/qnap/Data/1-photon-behaviour/J063-2019-12-04-232342.txt']\n",
      "Importing data file: J063-2019-12-04-232342.txt\n",
      "['/home/jrowland/mnt/qnap/Data/1-photon-behaviour/opto_stim_experiment_J064_J065/J064-2019-12-03-190821.txt']\n",
      "Importing data file: J064-2019-12-03-190821.txt\n",
      "['/home/jrowland/mnt/qnap/Data/1-photon-behaviour/opto_stim_experiment_J064_J065/J064-2019-12-04-205235.txt']\n",
      "Importing data file: J064-2019-12-04-205235.txt\n",
      "['/home/jrowland/mnt/qnap/Data/1-photon-behaviour/J064-2019-12-05-223806.txt']\n",
      "Importing data file: J064-2019-12-05-223806.txt\n",
      "['/home/jrowland/mnt/qnap/Data/1-photon-behaviour/J064-2019-12-06-152357.txt']\n",
      "Importing data file: J064-2019-12-06-152357.txt\n",
      "['/home/jrowland/mnt/qnap/Data/1-photon-behaviour/opto_stim_experiment_J064_J065/J065-2019-11-28-181532.txt']\n",
      "Importing data file: J065-2019-11-28-181532.txt\n",
      "['/home/jrowland/mnt/qnap/Data/1-photon-behaviour/opto_stim_experiment_J064_J065/J065-2019-11-29-154715.txt']\n",
      "Importing data file: J065-2019-11-29-154715.txt\n",
      "['/home/jrowland/mnt/qnap/Data/1-photon-behaviour/opto_stim_experiment_J064_J065/J065-2019-12-03-190821.txt']\n",
      "Importing data file: J065-2019-12-03-190821.txt\n",
      "['/home/jrowland/mnt/qnap/Data/1-photon-behaviour/opto_stim_experiment_J064_J065/J065-2019-12-04-204246.txt']\n",
      "Importing data file: J065-2019-12-04-204246.txt\n",
      "['/home/jrowland/mnt/qnap/Data/1-photon-behaviour/J065-2019-12-06-001327.txt']\n",
      "Importing data file: J065-2019-12-06-001327.txt\n",
      "['/home/jrowland/mnt/qnap/Data/1-photon-behaviour/opto_stim_experiment_RL070_RL072/RL070-2020-01-22-191632.txt']\n",
      "Importing data file: RL070-2020-01-22-191632.txt\n",
      "['/home/jrowland/mnt/qnap/Data/1-photon-behaviour/opto_stim_experiment_RL070_RL072/RL070-2020-01-23-180714.txt']\n",
      "Importing data file: RL070-2020-01-23-180714.txt\n",
      "['/home/jrowland/mnt/qnap/Data/1-photon-behaviour/opto_stim_experiment_RL070_RL072/RL070-2020-01-24-190521.txt']\n",
      "Importing data file: RL070-2020-01-24-190521.txt\n",
      "['/home/jrowland/mnt/qnap/Data/1-photon-behaviour/RL070-2020-01-24-192104.txt']\n",
      "Importing data file: RL070-2020-01-24-192104.txt\n",
      "['/home/jrowland/mnt/qnap/Data/1-photon-behaviour/RL070-2020-01-27-171529.txt']\n",
      "Importing data file: RL070-2020-01-27-171529.txt\n",
      "['/home/jrowland/mnt/qnap/Data/1-photon-behaviour/RL070-2020-02-05-164701.txt']\n",
      "Importing data file: RL070-2020-02-05-164701.txt\n",
      "['/home/jrowland/mnt/qnap/Data/1-photon-behaviour/opto_stim_experiment_RL070_RL072/RL072-2020-01-22-191632.txt']\n",
      "Importing data file: RL072-2020-01-22-191632.txt\n",
      "['/home/jrowland/mnt/qnap/Data/1-photon-behaviour/opto_stim_experiment_RL070_RL072/RL072-2020-01-23-180714.txt']\n",
      "Importing data file: RL072-2020-01-23-180714.txt\n",
      "['/home/jrowland/mnt/qnap/Data/1-photon-behaviour/RL072-2020-01-24-203416.txt']\n",
      "Importing data file: RL072-2020-01-24-203416.txt\n",
      "['/home/jrowland/mnt/qnap/Data/1-photon-behaviour/RL072-2020-01-27-180046.txt']\n",
      "Importing data file: RL072-2020-01-27-180046.txt\n",
      "['/home/jrowland/mnt/qnap/Data/1-photon-behaviour/RL127-2021-05-11-120111.txt']\n",
      "Importing data file: RL127-2021-05-11-120111.txt\n",
      "['/home/jrowland/mnt/qnap/Data/1-photon-behaviour/RL127-2021-05-12-133158.txt']\n",
      "Importing data file: RL127-2021-05-12-133158.txt\n",
      "['/home/jrowland/mnt/qnap/Data/1-photon-behaviour/RL127-2021-05-13-141959.txt']\n",
      "Importing data file: RL127-2021-05-13-141959.txt\n",
      "['/home/jrowland/mnt/qnap/Data/1-photon-behaviour/RL127-2021-05-14-160359.txt']\n",
      "Importing data file: RL127-2021-05-14-160359.txt\n",
      "['/home/jrowland/mnt/qnap/Data/1-photon-behaviour/RL129-2021-05-11-120111.txt']\n",
      "Importing data file: RL129-2021-05-11-120111.txt\n",
      "['/home/jrowland/mnt/qnap/Data/1-photon-behaviour/RL129-2021-05-13-141959.txt']\n",
      "Importing data file: RL129-2021-05-13-141959.txt\n",
      "['/home/jrowland/mnt/qnap/Data/1-photon-behaviour/RL129-2021-05-20-155719.txt']\n",
      "Importing data file: RL129-2021-05-20-155719.txt\n",
      "['/home/jrowland/mnt/qnap/Data/1-photon-behaviour/RL130-2021-05-11-133659.txt']\n",
      "Importing data file: RL130-2021-05-11-133659.txt\n",
      "['/home/jrowland/mnt/qnap/Data/1-photon-behaviour/RL130-2021-05-12-151228.txt']\n",
      "Importing data file: RL130-2021-05-12-151228.txt\n",
      "['/home/jrowland/mnt/qnap/Data/1-photon-behaviour/RL130-2021-05-18-142217.txt']\n",
      "Importing data file: RL130-2021-05-18-142217.txt\n",
      "['/home/jrowland/mnt/qnap/Data/1-photon-behaviour/RL131-2021-05-12-151228.txt']\n",
      "Importing data file: RL131-2021-05-12-151228.txt\n",
      "['/home/jrowland/mnt/qnap/Data/1-photon-behaviour/RL131-2021-05-13-155152.txt']\n",
      "Importing data file: RL131-2021-05-13-155152.txt\n",
      "['/home/jrowland/mnt/qnap/Data/1-photon-behaviour/RL131-2021-05-17-154841.txt']\n",
      "Importing data file: RL131-2021-05-17-154841.txt\n",
      "['/home/jrowland/mnt/qnap/Data/1-photon-behaviour/RL132-2021-05-11-145929.txt']\n",
      "Importing data file: RL132-2021-05-11-145929.txt\n",
      "['/home/jrowland/mnt/qnap/Data/1-photon-behaviour/RL132-2021-05-12-163136.txt']\n",
      "Importing data file: RL132-2021-05-12-163136.txt\n",
      "['/home/jrowland/mnt/qnap/Data/1-photon-behaviour/RL132-2021-05-14-140936.txt']\n",
      "Importing data file: RL132-2021-05-14-140936.txt\n",
      "['/home/jrowland/mnt/qnap/Data/1-photon-behaviour/RL132-2021-05-19-152227.txt']\n",
      "Importing data file: RL132-2021-05-19-152227.txt\n",
      "['/home/jrowland/mnt/qnap/Data/1-photon-behaviour/older/2019-05-30/Behaviour1/J045-2019-05-30-192038.txt']\n",
      "Importing data file: J045-2019-05-30-192038.txt\n",
      "['/home/jrowland/mnt/qnap/Data/1-photon-behaviour/older/2019-05-31/Behaviour1/J045-2019-05-31-141115.txt']\n",
      "Importing data file: J045-2019-05-31-141115.txt\n",
      "['/home/jrowland/mnt/qnap/Data/1-photon-behaviour/older/2019-06-01/Behaviour1/J045-2019-06-01-131933.txt']\n",
      "Importing data file: J045-2019-06-01-131933.txt\n",
      "['/home/jrowland/mnt/qnap/Data/1-photon-behaviour/older/2019-06-02/Behaviour1/J045-2019-06-02-162923.txt']\n",
      "Importing data file: J045-2019-06-02-162923.txt\n",
      "['/home/jrowland/mnt/qnap/Data/1-photon-behaviour/older/2019-06-03/Behaviour1/J045-2019-06-03-210644.txt']\n",
      "Importing data file: J045-2019-06-03-210644.txt\n",
      "['/home/jrowland/mnt/qnap/Data/1-photon-behaviour/J045-2019-06-04-144132.txt']\n",
      "Importing data file: J045-2019-06-04-144132.txt\n",
      "['/home/jrowland/mnt/qnap/Data/1-photon-behaviour/J045-2019-06-04-152215.txt']\n",
      "Importing data file: J045-2019-06-04-152215.txt\n",
      "['/home/jrowland/mnt/qnap/Data/1-photon-behaviour/older/2019-05-30/Behaviour1/J046-2019-05-30-192038.txt']\n",
      "Importing data file: J046-2019-05-30-192038.txt\n",
      "['/home/jrowland/mnt/qnap/Data/1-photon-behaviour/older/2019-05-31/Behaviour1/J046-2019-05-31-141115.txt']\n",
      "Importing data file: J046-2019-05-31-141115.txt\n"
     ]
    },
    {
     "name": "stdout",
     "output_type": "stream",
     "text": [
      "['/home/jrowland/mnt/qnap/Data/1-photon-behaviour/older/2019-06-01/Behaviour1/J046-2019-06-01-131933.txt']\n",
      "Importing data file: J046-2019-06-01-131933.txt\n",
      "['/home/jrowland/mnt/qnap/Data/1-photon-behaviour/older/2019-06-02/Behaviour1/J046-2019-06-02-162923.txt']\n",
      "Importing data file: J046-2019-06-02-162923.txt\n",
      "['/home/jrowland/mnt/qnap/Data/1-photon-behaviour/older/2019-06-03/Behaviour1/J046-2019-06-03-210644.txt']\n",
      "Importing data file: J046-2019-06-03-210644.txt\n",
      "['/home/jrowland/mnt/qnap/Data/1-photon-behaviour/J046-2019-06-04-144132.txt']\n",
      "Importing data file: J046-2019-06-04-144132.txt\n",
      "['/home/jrowland/mnt/qnap/Data/1-photon-behaviour/J046-2019-06-04-152215.txt']\n",
      "Importing data file: J046-2019-06-04-152215.txt\n",
      "['/home/jrowland/mnt/qnap/Data/1-photon-behaviour/older/2019-05-30/Behaviour1/RL037-2019-05-30-211454.txt']\n",
      "Importing data file: RL037-2019-05-30-211454.txt\n",
      "['/home/jrowland/mnt/qnap/Data/1-photon-behaviour/older/2019-05-31/Behaviour1/RL037-2019-05-31-173254.txt']\n",
      "Importing data file: RL037-2019-05-31-173254.txt\n",
      "['/home/jrowland/mnt/qnap/Data/1-photon-behaviour/older/2019-06-01/Behaviour1/RL037-2019-06-01-145021.txt']\n",
      "Importing data file: RL037-2019-06-01-145021.txt\n",
      "['/home/jrowland/mnt/qnap/Data/1-photon-behaviour/older/2019-06-02/Behaviour1/RL037-2019-06-02-185537.txt']\n",
      "Importing data file: RL037-2019-06-02-185537.txt\n",
      "['/home/jrowland/mnt/qnap/Data/1-photon-behaviour/RL037-2019-06-03-225510.txt']\n",
      "Importing data file: RL037-2019-06-03-225510.txt\n",
      "['/home/jrowland/mnt/qnap/Data/1-photon-behaviour/RL037-2019-06-04-162226.txt']\n",
      "Importing data file: RL037-2019-06-04-162226.txt\n",
      "['/home/jrowland/mnt/qnap/Data/1-photon-behaviour/older/2019-05-30/Behaviour1/RL038-2019-05-30-211454.txt']\n",
      "Importing data file: RL038-2019-05-30-211454.txt\n",
      "['/home/jrowland/mnt/qnap/Data/1-photon-behaviour/older/2019-05-31/Behaviour1/RL038-2019-05-31-173254.txt']\n",
      "Importing data file: RL038-2019-05-31-173254.txt\n",
      "['/home/jrowland/mnt/qnap/Data/1-photon-behaviour/older/2019-06-01/Behaviour1/RL038-2019-06-01-145021.txt']\n",
      "Importing data file: RL038-2019-06-01-145021.txt\n",
      "['/home/jrowland/mnt/qnap/Data/1-photon-behaviour/older/2019-06-02/Behaviour1/RL038-2019-06-02-185537.txt']\n",
      "Importing data file: RL038-2019-06-02-185537.txt\n",
      "['/home/jrowland/mnt/qnap/Data/1-photon-behaviour/RL038-2019-06-03-225510.txt']\n",
      "Importing data file: RL038-2019-06-03-225510.txt\n"
     ]
    }
   ],
   "source": [
    "for mouse_dict in mice_dicts:\n",
    "    mouse_obj = BlimpImport(mouse_dict['mouse_id'])\n",
    "    mouse_dict['runs'] = mouse_obj.import_1p()\n",
    "    \n",
    "for mouse_dict in mice_dicts_controls:\n",
    "    mouse_obj = BlimpImport(mouse_dict['mouse_id'])\n",
    "    mouse_dict['runs'] = mouse_obj.import_1p()"
   ]
  },
  {
   "cell_type": "code",
   "execution_count": 6,
   "metadata": {},
   "outputs": [],
   "source": [
    "def get_power_arr(runs):\n",
    "    \n",
    "    powers_on_sample = [10,5,2,1,0.5,0.2,0.1]\n",
    "    \n",
    "    LED_currents = []\n",
    "    for run in runs:\n",
    "        if run.session.task_name == 'opto_stim_psychometric':\n",
    "            continue\n",
    "        else:\n",
    "            [LED_currents.append(l) for l in run.LED_current]\n",
    "    switch_trials = [i for i,d in enumerate(np.diff(LED_currents)) if d != 0] \n",
    "    \n",
    "    power_arr = np.zeros(len(LED_currents)) - 100\n",
    "    \n",
    "    for i in range(len(switch_trials)):\n",
    "\n",
    "        if i == 0: \n",
    "            power_arr[0:switch_trials[0]] = powers_on_sample[0]\n",
    "        elif i == len(switch_trials)-1:\n",
    "            power_arr[switch_trials[i]:] = powers_on_sample[-1]\n",
    "        \n",
    "        power_arr[switch_trials[i-1]:switch_trials[i]] = powers_on_sample[i-1]\n",
    "            \n",
    "    return power_arr"
   ]
  },
  {
   "cell_type": "code",
   "execution_count": 7,
   "metadata": {},
   "outputs": [],
   "source": [
    "## This gives the mean where a power of 0 is awarded to mice that have completed the sessions\n",
    "#change \"arr = np.append(arr,[0]*(maxlen - len(arr)))\" to have NaN instead of 0 for other plot\n",
    "\n",
    "def ladder_plot(mice_dicts, color=0, label=None):\n",
    "    \n",
    "    power_arrs = []\n",
    "    \n",
    "    for mouse_dict in mice_dicts:\n",
    "    \n",
    "        power_arrs.append(get_power_arr(mouse_dict['runs']))\n",
    "\n",
    "    maxlen =  max([len(a) for a in power_arrs]) \n",
    "    tomean = np.zeros((maxlen, len(power_arrs)))\n",
    "\n",
    "    for i, arr in enumerate(power_arrs):\n",
    "        arr = np.append(arr,[0]*(maxlen - len(arr)))\n",
    "        tomean[:,i] = arr\n",
    "\n",
    "    meaned = np.nanmean(tomean,1)\n",
    "    \n",
    "    plt.plot(meaned, color=sns.color_palette()[color], label=label)\n",
    "    \n",
    "    for arr in power_arrs:\n",
    "        plt.plot(arr, color=sns.color_palette()[color], alpha=0.2)\n",
    "        "
   ]
  },
  {
   "cell_type": "code",
   "execution_count": 8,
   "metadata": {},
   "outputs": [],
   "source": [
    "from matplotlib import rcParams\n",
    "\n",
    "params = {'legend.fontsize': 'xx-large',\n",
    "         'axes.labelsize': 'xx-large',\n",
    "         'axes.titlesize':'xx-large',\n",
    "         'xtick.labelsize':'xx-large',\n",
    "         'ytick.labelsize':'xx-large'}\n",
    "\n",
    "plt.rc(\"axes.spines\", top=False, right=False) # despine\n",
    "\n",
    "COLORS = [\n",
    "'#228E5E', # Hit green\n",
    "'#DB3713', # Miss red\n",
    "]\n",
    "\n",
    "## MAKE THE FONT SIZE 20 or 21\n",
    "rcParams['font.family'] = 'sans-serif'\n",
    "rcParams['font.sans-serif'] = ['Arial']\n",
    "rcParams['font.size'] = 14\n",
    "\n",
    "\n",
    "rcParams.update(params)"
   ]
  },
  {
   "cell_type": "code",
   "execution_count": 9,
   "metadata": {},
   "outputs": [
    {
     "data": {
      "image/png": "[encoded data removed]",
      "text/plain": [
       "<Figure size 432x288 with 1 Axes>"
      ]
     },
     "metadata": {},
     "output_type": "display_data"
    }
   ],
   "source": [
    "plt.figure()\n",
    "\n",
    "labels = ['Opsin-expressing','Control']\n",
    "\n",
    "ladder_plot(mice_dicts, label=labels[0], color=2)\n",
    "ladder_plot(mice_dicts_controls, label=labels[1], color=7)\n",
    "\n",
    "plt.xlabel('Trial Number')\n",
    "plt.ylabel('LED power (mW)')\n",
    "#plt.legend(bbox_to_anchor=(0.6, 0.8))\n",
    "sns.despine()\n",
    "save_figure('Ladder')\n"
   ]
  },
  {
   "cell_type": "code",
   "execution_count": 10,
   "metadata": {},
   "outputs": [],
   "source": [
    "def get_autoswitch(mice_dicts):\n",
    "       \n",
    "    autoswitches = []\n",
    "      \n",
    "    for mouse_dict in mice_dicts: \n",
    "        autoswitch = 0\n",
    "        for run in mouse_dict['runs']:\n",
    "            if not run.trial_autoswitch:\n",
    "                autoswitch += run.n_trials_complete\n",
    "            else:\n",
    "                autoswitch += run.trial_autoswitch\n",
    "                break\n",
    "                \n",
    "        autoswitches.append(autoswitch)\n",
    "                \n",
    "    return autoswitches"
   ]
  },
  {
   "cell_type": "code",
   "execution_count": 11,
   "metadata": {},
   "outputs": [],
   "source": [
    "def bar_plotter(data, labels, save_name, ypos, ylab = 'Trials to Criterion'):\n",
    "    \n",
    "    fig = plt.figure()\n",
    "\n",
    "    mean_data = [np.nanmean(d) for d in data]\n",
    "    bar_width = 0.9\n",
    "    for i,d in enumerate(data):\n",
    "        plt.plot([ypos[i]]*len(d), d, '.', color=sns.color_palette()[6], markersize=2)\n",
    "    plt.bar(ypos, mean_data, bar_width)\n",
    "    plt.xticks(ypos, labels)\n",
    "    plt.ylabel(ylab)\n",
    "    fig.autofmt_xdate()\n",
    "    sns.despine()\n",
    "    plt.savefig(os.path.join(figure_path, save_name + '.pdf'), )\n",
    "    plt.savefig(os.path.join(figure_path, save_name + '.png'), bbox_inches=\"tight\")"
   ]
  },
  {
   "cell_type": "code",
   "execution_count": 13,
   "metadata": {},
   "outputs": [
    {
     "data": {
      "image/png": "[encoded data removed]",
      "text/plain": [
       "<Figure size 432x288 with 1 Axes>"
      ]
     },
     "metadata": {},
     "output_type": "display_data"
    }
   ],
   "source": [
    "data = [get_autoswitch(mice_dicts), get_autoswitch(mice_dicts_controls)]\n",
    "labels = ('Opsin\\nexpressing', 'Controls')\n",
    "palette = [sns.color_palette()[2],sns.color_palette()[7]]\n",
    "save_name = 'Trials_to_criterion'\n",
    "ypos = [0,1]\n",
    "\n",
    "bar_plotter(data, labels, save_name, ypos, )"
   ]
  },
  {
   "cell_type": "code",
   "execution_count": 14,
   "metadata": {},
   "outputs": [
    {
     "data": {
      "image/png": "[encoded data removed]",
      "text/plain": [
       "<Figure size 432x288 with 1 Axes>"
      ]
     },
     "metadata": {},
     "output_type": "display_data"
    }
   ],
   "source": [
    "x = [get_autoswitch(mice_dicts), get_autoswitch(mice_dicts_controls)]\n",
    "ax = sns.swarmplot(data = x, color = 'black' )\n",
    "ax = sns.violinplot(data = x, inner = \"point\", width = 0.5, palette=palette)\n",
    "ax.set_xticklabels(labels)\n",
    "ax.set_ylabel('Trials to Criterion')\n",
    "plt.ylim(0, None)\n",
    "save_figure('Trials to cirt')"
   ]
  },
  {
   "cell_type": "code",
   "execution_count": 22,
   "metadata": {},
   "outputs": [
    {
     "name": "stdout",
     "output_type": "stream",
     "text": [
      "opsin expressing\n",
      "247.16666666666666\n",
      "222.8978964060052\n"
     ]
    }
   ],
   "source": []
  },
  {
   "cell_type": "code",
   "execution_count": 26,
   "metadata": {},
   "outputs": [
    {
     "name": "stdout",
     "output_type": "stream",
     "text": [
      "opsin expressing\n",
      "666.8333333333334\n",
      "206.1932076691395\n",
      "\n",
      "\n",
      "Controls\n",
      "1229.75\n",
      "187.01520660096065\n"
     ]
    }
   ],
   "source": [
    "print(\"opsin expressing\")\n",
    "print(np.mean(x[0]))\n",
    "print(np.std(x[0]))\n",
    "print('\\n')\n",
    "\n",
    "print('Controls')\n",
    "print(np.mean(x[1]))\n",
    "print(np.std(x[1]))"
   ]
  },
  {
   "cell_type": "code",
   "execution_count": 53,
   "metadata": {},
   "outputs": [
    {
     "data": {
      "text/plain": [
       "MannwhitneyuResult(statistic=14.0, pvalue=0.12447730761863995)"
      ]
     },
     "execution_count": 53,
     "metadata": {},
     "output_type": "execute_result"
    }
   ],
   "source": [
    "scst.mannwhitneyu(x[0], x[1])"
   ]
  },
  {
   "cell_type": "code",
   "execution_count": null,
   "metadata": {},
   "outputs": [],
   "source": []
  },
  {
   "cell_type": "code",
   "execution_count": null,
   "metadata": {},
   "outputs": [],
   "source": []
  },
  {
   "cell_type": "code",
   "execution_count": null,
   "metadata": {},
   "outputs": [],
   "source": []
  },
  {
   "cell_type": "code",
   "execution_count": null,
   "metadata": {},
   "outputs": [],
   "source": []
  },
  {
   "cell_type": "code",
   "execution_count": null,
   "metadata": {},
   "outputs": [],
   "source": []
  },
  {
   "cell_type": "code",
   "execution_count": null,
   "metadata": {},
   "outputs": [],
   "source": []
  },
  {
   "cell_type": "code",
   "execution_count": 24,
   "metadata": {},
   "outputs": [
    {
     "name": "stdout",
     "output_type": "stream",
     "text": [
      "525\n",
      "1165\n",
      "362\n",
      "678\n",
      "742\n",
      "744\n",
      "589\n",
      "772\n",
      "579\n",
      "462\n",
      "506\n",
      "878\n",
      "970\n",
      "1473\n",
      "1319\n",
      "1157\n"
     ]
    }
   ],
   "source": [
    "power_arrs_control = []  \n",
    "len_power_control = []\n",
    "\n",
    "power_arrs = []\n",
    "len_power = []\n",
    "\n",
    "for mouse_dict in mice_dicts:\n",
    "    power_arrs.append(get_power_arr(mouse_dict['runs']))\n",
    "\n",
    "for i in np.arange(len(power_arrs)):\n",
    "    print(len(power_arrs[i]))\n",
    "    len_power.append(len(power_arrs[i]))\n",
    "\n",
    "for mouse_dict in mice_dicts_controls:\n",
    "    power_arrs_control.append(get_power_arr(mouse_dict['runs']))\n",
    "\n",
    "for i in np.arange(len(power_arrs_control)):\n",
    "    print(len(power_arrs_control[i]))\n",
    "    len_power_control.append(len(power_arrs_control[i]))"
   ]
  },
  {
   "cell_type": "code",
   "execution_count": 25,
   "metadata": {},
   "outputs": [
    {
     "data": {
      "image/png": "[encoded data removed]",
      "text/plain": [
       "<Figure size 432x288 with 1 Axes>"
      ]
     },
     "metadata": {},
     "output_type": "display_data"
    }
   ],
   "source": [
    "x = [len_power, len_power_control]\n",
    "ax = sns.swarmplot(data = x, color = 'black' )\n",
    "ax = sns.violinplot(data = x, inner = \"point\", width = 0.5, palette = palette)\n",
    "ax.set_xticklabels(labels)\n",
    "ax.set_ylabel('Trials to \\n Completion')\n",
    "plt.ylim(0, None)\n",
    "save_figure('wooooooooooooooooo')"
   ]
  },
  {
   "cell_type": "code",
   "execution_count": 27,
   "metadata": {},
   "outputs": [
    {
     "data": {
      "text/plain": [
       "MannwhitneyuResult(statistic=2.0, pvalue=0.004563528464786798)"
      ]
     },
     "execution_count": 27,
     "metadata": {},
     "output_type": "execute_result"
    }
   ],
   "source": [
    "scst.mannwhitneyu(len_power, len_power_control)"
   ]
  },
  {
   "cell_type": "code",
   "execution_count": 31,
   "metadata": {},
   "outputs": [
    {
     "name": "stdout",
     "output_type": "stream",
     "text": [
      "opsin expressing\n",
      "667.0\n",
      "206.0\n",
      "\n",
      "\n",
      "Controls\n",
      "1230.0\n",
      "187.0\n"
     ]
    }
   ],
   "source": [
    "print(\"opsin expressing\")\n",
    "print(round(np.mean(x[0]), 0))\n",
    "print(round(np.std(x[0]), 0))\n",
    "print('\\n')\n",
    "\n",
    "print('Controls')\n",
    "print(round(np.mean(x[1]), 0))\n",
    "print(round(np.std(x[1]), 0))\n"
   ]
  },
  {
   "cell_type": "code",
   "execution_count": 32,
   "metadata": {},
   "outputs": [],
   "source": [
    "def get_dprimes(mice_dicts):\n",
    "    \n",
    "    dprimes = []\n",
    "    for mouse_dict in mice_dicts:\n",
    "        for run in mouse_dict['runs']:\n",
    "            if run.session.task_name == 'opto_stim_psychometric':\n",
    "                continue\n",
    "            else:\n",
    "                dprimes.append(run.dprime)\n",
    "                \n",
    "    return dprimes"
   ]
  },
  {
   "cell_type": "code",
   "execution_count": null,
   "metadata": {},
   "outputs": [],
   "source": []
  },
  {
   "cell_type": "code",
   "execution_count": null,
   "metadata": {},
   "outputs": [],
   "source": []
  },
  {
   "cell_type": "code",
   "execution_count": null,
   "metadata": {},
   "outputs": [],
   "source": []
  },
  {
   "cell_type": "code",
   "execution_count": 33,
   "metadata": {},
   "outputs": [
    {
     "data": {
      "image/png": "[encoded data removed]",
      "text/plain": [
       "<Figure size 432x288 with 1 Axes>"
      ]
     },
     "metadata": {},
     "output_type": "display_data"
    }
   ],
   "source": [
    "x = [get_dprimes(mice_dicts), get_dprimes(mice_dicts_controls)]\n",
    "ax = sns.swarmplot(data = x, color = 'black')\n",
    "ax = sns.violinplot(data = x, inner = \"point\", width = 0.5, palette=palette)\n",
    "ax.set_xticklabels(labels)\n",
    "ax.set_ylabel('Total dprime across session')\n",
    "save_figure('Toatal-drimes')"
   ]
  },
  {
   "cell_type": "code",
   "execution_count": 37,
   "metadata": {},
   "outputs": [
    {
     "name": "stdout",
     "output_type": "stream",
     "text": [
      "opsin expressing\n",
      "0.71\n",
      "0.73\n",
      "35\n",
      "\n",
      "\n",
      "Controls\n",
      "0.28\n",
      "0.49\n",
      "25\n"
     ]
    }
   ],
   "source": [
    "print(\"opsin expressing\")\n",
    "print(round(np.mean(x[0]), 2))\n",
    "print(round(np.std(x[0]), 2))\n",
    "print(len(x[0]))\n",
    "\n",
    "print('\\n')\n",
    "\n",
    "print('Controls')\n",
    "print(round(np.mean(x[1]), 2))\n",
    "print(round(np.std(x[1]), 2))\n",
    "print(len(x[1]))\n",
    "\n"
   ]
  },
  {
   "cell_type": "code",
   "execution_count": null,
   "metadata": {},
   "outputs": [],
   "source": []
  },
  {
   "cell_type": "code",
   "execution_count": 62,
   "metadata": {},
   "outputs": [
    {
     "data": {
      "text/plain": [
       "[0.27702447518226525,\n",
       " 0.6968291979841337,\n",
       " 0.49550036663870267,\n",
       " -0.029928452089894808,\n",
       " 0.7846198393583335,\n",
       " 0.38559724339778717,\n",
       " 0.5965990867319304,\n",
       " 0.3167471969740114,\n",
       " 1.8016908039669954,\n",
       " 2.540174673335472,\n",
       " -0.2911145395826984,\n",
       " 0.7853375500603461,\n",
       " 1.2356349209992983,\n",
       " 2.4332938880941004,\n",
       " -0.2698664155273909,\n",
       " 0.7255300776298987,\n",
       " 0.9429506526903657,\n",
       " 2.1740684087753595,\n",
       " -0.14034770802027619,\n",
       " 0.7446224646669487,\n",
       " 1.0547195160889637,\n",
       " 0.13068416048052223,\n",
       " 0.9301358947427525,\n",
       " -0.0446246175464573,\n",
       " 0.3013122994061066,\n",
       " 1.969371517674778,\n",
       " 0.20120104231792824,\n",
       " 0.8389576347424194,\n",
       " 0.09859940233613829,\n",
       " 1.2801541895558342,\n",
       " 0.2593633009622256,\n",
       " 0.6824585173810206,\n",
       " -0.07685855638764583,\n",
       " 0.668407201989396,\n",
       " 0.4836498878013362]"
      ]
     },
     "execution_count": 62,
     "metadata": {},
     "output_type": "execute_result"
    }
   ],
   "source": [
    "x[0]"
   ]
  },
  {
   "cell_type": "code",
   "execution_count": 63,
   "metadata": {},
   "outputs": [
    {
     "data": {
      "text/plain": [
       "MannwhitneyuResult(statistic=268.0, pvalue=0.00563770369010003)"
      ]
     },
     "execution_count": 63,
     "metadata": {},
     "output_type": "execute_result"
    }
   ],
   "source": [
    "scst.mannwhitneyu(x[0], x[1])"
   ]
  },
  {
   "cell_type": "code",
   "execution_count": null,
   "metadata": {},
   "outputs": [],
   "source": []
  },
  {
   "cell_type": "code",
   "execution_count": null,
   "metadata": {},
   "outputs": [],
   "source": []
  },
  {
   "cell_type": "code",
   "execution_count": 21,
   "metadata": {},
   "outputs": [
    {
     "data": {
      "image/png": "[encoded data removed]",
      "text/plain": [
       "<Figure size 432x288 with 1 Axes>"
      ]
     },
     "metadata": {},
     "output_type": "display_data"
    }
   ],
   "source": [
    "ypos = [0,1]\n",
    "\n",
    "bar_plotter([get_dprimes(mice_dicts),get_dprimes(mice_dicts_controls)], labels, '1-photon-dprimes',\n",
    "            ypos, ylab='Total d-prime\\nacross session')\n",
    "\n"
   ]
  },
  {
   "cell_type": "code",
   "execution_count": 22,
   "metadata": {},
   "outputs": [],
   "source": [
    "pm_runs = []\n",
    "for mouse_dict in mice_dicts:\n",
    "    for run in mouse_dict['runs']:\n",
    "        if run.session.task_name == 'opto_stim_psychometric':\n",
    "            pm_runs.append(run)"
   ]
  },
  {
   "cell_type": "code",
   "execution_count": 23,
   "metadata": {},
   "outputs": [],
   "source": [
    "psychos = []\n",
    "\n",
    "for idx, run in enumerate(pm_runs):\n",
    "    \n",
    "    LED_currents = run.LED_current\n",
    "    currents = np.unique(LED_currents)\n",
    "\n",
    "    n_fp = (run.outcome=='fp').sum()\n",
    "    n_cr = (run.outcome=='cr').sum()\n",
    "\n",
    "    go_idx = np.where((run.outcome=='hit') | (run.outcome=='miss') )[0]\n",
    "    go = run.outcome[go_idx]\n",
    "    \n",
    "    # Hack fix to the off by one error, be careful with this\n",
    "    LED_currents = LED_currents[:len(go)]\n",
    "\n",
    "    fp_rate = n_fp / (n_fp + n_cr)\n",
    "    \n",
    "    dps = []\n",
    "    for c in np.sort(currents):\n",
    "        c_idx = np.where(LED_currents==c)\n",
    "\n",
    "        outcome = go[c_idx]\n",
    "\n",
    "        n_hits = (outcome=='hit').sum()\n",
    "        n_miss = (outcome=='miss').sum()\n",
    "\n",
    "        hit_rate = n_hits / (n_hits + n_miss)\n",
    "\n",
    "        dp = d_prime(hit_rate, fp_rate)\n",
    "        \n",
    "        dps.append(dp)\n",
    "\n",
    "    # This fixes that some sessions are missing the reminder power\n",
    "    psychos.append(dps[:5])\n",
    "\n",
    "\n",
    "psychos = np.array(psychos)\n",
    "\n"
   ]
  },
  {
   "cell_type": "code",
   "execution_count": null,
   "metadata": {},
   "outputs": [],
   "source": []
  },
  {
   "cell_type": "code",
   "execution_count": 24,
   "metadata": {},
   "outputs": [],
   "source": [
    "# x = [0.02, 0.04, 0.06, 0.08, 0.1]\n",
    "\n",
    "# plt.plot(x, np.mean(psychos,0), color = 'black')\n",
    "\n",
    "# for session_idx in range(psychos.shape[0]):\n",
    "#     plt.scatter(x, psychos[session_idx, :], alpha=0.8, color = 'black', s = 10)\n",
    "    \n",
    "# ax.set_xticklabels(x)\n",
    "# plt.xlabel('power (mW)')\n",
    "# plt.ylabel('d prime')\n",
    "\n",
    "# save_figure('1P-Psychometric')"
   ]
  },
  {
   "cell_type": "code",
   "execution_count": 25,
   "metadata": {},
   "outputs": [],
   "source": [
    "# wes_cols = {}\n",
    "# for ii, x in enumerate(plt.rcParams['axes.prop_cycle']()):\n",
    "#     wes_cols[ii] = x['color']\n",
    "#     if ii > 8:\n",
    "#         break\n",
    "        \n",
    "        \n",
    "# mw = x\n",
    "# meaned = np.mean(psychos,0)\n",
    "# plt.plot(mw, meaned,  linewidth=5, linestyle='-', \n",
    "#         markersize=15, color=wes_cols[2], label=None, alpha=1)\n",
    "\n",
    "\n",
    "\n",
    "# for i in range(psychos.shape[0]):\n",
    "#     plt.plot(mw, psychos[i,:], '.', markersize=15, alpha=0.7, color='grey')\n",
    "# plt.xlabel('power (mW)')\n",
    "# plt.ylabel('d prime')\n",
    "# plt.savefig(os.path.join(figure_path, '1-photon_dps.pdf'),\n",
    "#             transparent=True, bbox_inches='tight')"
   ]
  },
  {
   "cell_type": "code",
   "execution_count": 36,
   "metadata": {},
   "outputs": [],
   "source": [
    "from scipy.optimize import curve_fit\n",
    "\n",
    "# psychometric function\n",
    "def pf(x, max_value, alpha, beta):\n",
    "    ''' Max value: max value of sigmoid\n",
    "        alpha: x_axis midpoint\n",
    "        beta: the growth rate\n",
    "    '''\n",
    "    return max_value / (1 + np.exp( -(x-alpha)/beta))\n",
    "\n",
    "x = [0.02, 0.04, 0.06, 0.08, 0.1]\n",
    "\n",
    "alpha = 0.04\n",
    "beta = 0.05\n",
    "\n",
    "dp = np.ravel(psychos)\n",
    "\n",
    "x_axis = x * psychos.shape[0]\n",
    "\n",
    "popt, pcov = curve_fit(pf, x_axis, dp, method = 'dogbox', p0=[max(dp), alpha, beta])"
   ]
  },
  {
   "cell_type": "code",
   "execution_count": 35,
   "metadata": {},
   "outputs": [
    {
     "data": {
      "text/plain": [
       "'Psychometric midpoint = 0.0603'"
      ]
     },
     "execution_count": 35,
     "metadata": {},
     "output_type": "execute_result"
    }
   ],
   "source": [
    "# Find the midpoint empirally as cba to invert the function\n",
    "mid_dp = popt[0] / 2\n",
    "search = np.linspace(0.05, 0.075, 1001)\n",
    "\n",
    "min_error = 100000\n",
    "best = None\n",
    "for val in search:\n",
    "    error = abs(mid_dp - pf(val, *popt))\n",
    "    \n",
    "    if error < min_error:\n",
    "        best = val\n",
    "        min_error = error\n",
    "        \n",
    "midpoint = round(best, 4)\n",
    "f'Psychometric midpoint = {midpoint}'"
   ]
  },
  {
   "cell_type": "code",
   "execution_count": 37,
   "metadata": {},
   "outputs": [
    {
     "data": {
      "image/png": "[encoded data removed]",
      "text/plain": [
       "<Figure size 432x288 with 1 Axes>"
      ]
     },
     "metadata": {},
     "output_type": "display_data"
    }
   ],
   "source": [
    "\n",
    "plt.plot(np.linspace(min(x_axis), max(x_axis),100), pf(np.linspace(min(x_axis), max(x_axis),100), *popt), color='black')\n",
    "    \n",
    "for session_idx in range(psychos.shape[0]):\n",
    "    plt.scatter(x, psychos[session_idx, :], alpha=0.8, color = 'black', s = 5)\n",
    "\n",
    "plt.xlabel('Power (mW)')\n",
    "plt.ylabel(\"Behavioural \\n Performance (D')\")\n",
    "\n",
    "save_figure('1P-Psychometric_fitted')"
   ]
  },
  {
   "cell_type": "code",
   "execution_count": null,
   "metadata": {},
   "outputs": [],
   "source": []
  },
  {
   "cell_type": "code",
   "execution_count": null,
   "metadata": {},
   "outputs": [],
   "source": []
  },
  {
   "cell_type": "code",
   "execution_count": null,
   "metadata": {},
   "outputs": [],
   "source": [
    "# for run in pm_runs:\n",
    "#     binned_licks = np.array(run.binned_licks)\n",
    "\n",
    "#     trial_type = np.array(run.trial_type)\n",
    "#     tt_inds = trial_type.argsort(kind='mergesort')\n",
    "\n",
    "#     sorted_licks = binned_licks[tt_inds]\n",
    "\n",
    "#     num_go = len(np.where(trial_type=='go')[0])\n",
    "\n",
    "\n",
    "#     for i,b in enumerate(sorted_licks):\n",
    "#         y_axis = np.ones(len(b)) + (i) \n",
    "#         if i < num_go:\n",
    "#             color = 'black'\n",
    "#         else:\n",
    "#             color = 'red'\n",
    "#         plt.plot(b/1000, y_axis,'.',c=color)\n",
    "#     print(str(run))\n",
    "#     plt.xlim(-1,4)\n",
    "#     plt.show()"
   ]
  },
  {
   "cell_type": "code",
   "execution_count": null,
   "metadata": {},
   "outputs": [],
   "source": [
    "#Select runs\n",
    "\n",
    "pm_runs = []\n",
    "for mouse_dict in mice_dicts:\n",
    "    for run in mouse_dict['runs']:\n",
    "        if run.session.task_name == 'opto_stim':\n",
    "            pm_runs.append(run)\n",
    "\n",
    "            \n",
    "#Plot all-licks raster\n",
    "\n",
    "run = pm_runs[11] #A good example session\n",
    "binned_licks = np.array(run.binned_licks)\n",
    "\n",
    "trial_type = np.array(run.trial_type)\n",
    "tt_inds = trial_type.argsort(kind='mergesort')\n",
    "\n",
    "sorted_licks = binned_licks[tt_inds]\n",
    "\n",
    "num_go = len(np.where(trial_type=='go')[0])\n",
    "reaction_time = []\n",
    "for i,b in enumerate(sorted_licks):\n",
    "    if len(b)>0:\n",
    "        b = b[0]\n",
    "        if i < num_go:\n",
    "            color = 'black'\n",
    "        else:\n",
    "            color = 'red'\n",
    "        reaction_time.append(b)\n",
    "        plt.plot(b/1000, i,'.',c=color)\n",
    "plt.xlim(-0.05,2)\n",
    "plt.yticks([])\n",
    "plt.xlabel('Time (s)')\n",
    "plt.ylabel('Trials')\n",
    "\n",
    "save_figure('First_Lick_Raster')\n",
    "\n",
    "#Trying to make it plot the first value only, but the problem is that you cant take\n",
    "#the first value of an empty array "
   ]
  },
  {
   "cell_type": "code",
   "execution_count": null,
   "metadata": {},
   "outputs": [],
   "source": [
    "#Select runs\n",
    "\n",
    "pm_runs = []\n",
    "for mouse_dict in mice_dicts:\n",
    "    for run in mouse_dict['runs']:\n",
    "        if run.session.task_name == 'opto_stim':\n",
    "            pm_runs.append(run)\n",
    "\n",
    "            \n",
    "#Plot all-licks raster\n",
    "\n",
    "run = pm_runs[11] #A good example session\n",
    "binned_licks = np.array(run.binned_licks)\n",
    "\n",
    "trial_type = np.array(run.trial_type)\n",
    "tt_inds = trial_type.argsort(kind='mergesort')\n",
    "\n",
    "sorted_licks = binned_licks[tt_inds]\n",
    "\n",
    "num_go = len(np.where(trial_type=='go')[0])\n",
    "reaction_time = []\n",
    "for i,b in enumerate(sorted_licks):\n",
    "    if len(b)>0:\n",
    "        b = b[0]\n",
    "        if i < num_go:\n",
    "            color = 'black'\n",
    "        else:\n",
    "            color = 'red'\n",
    "        reaction_time.append(b)\n",
    "        plt.plot(b/1000, i,'.',c=color)\n",
    "plt.xlim(-0.05,2)\n",
    "plt.yticks([])\n",
    "plt.xlabel('Time (s)')\n",
    "plt.ylabel('Trials')\n",
    "\n",
    "save_figure('First_Lick_Raster')\n",
    "\n",
    "#Trying to make it plot the first value only, but the problem is that you cant take\n",
    "#the first value of an empty array "
   ]
  },
  {
   "cell_type": "code",
   "execution_count": null,
   "metadata": {},
   "outputs": [],
   "source": [
    "#Select runs\n",
    "\n",
    "pm_runs = []\n",
    "for mouse_dict in mice_dicts_controls:\n",
    "    for run in mouse_dict['runs']:\n",
    "        if run.session.task_name == 'opto_stim':\n",
    "            pm_runs.append(run)\n",
    "\n",
    "            \n",
    "#Plot all-licks raster\n",
    "ii=2\n",
    "run = pm_runs[4] #A good example session\n",
    "binned_licks = np.array(run.binned_licks)\n",
    "\n",
    "trial_type = np.array(run.trial_type)\n",
    "tt_inds = trial_type.argsort(kind='mergesort')\n",
    "\n",
    "sorted_licks = binned_licks[tt_inds]\n",
    "\n",
    "num_go = len(np.where(trial_type=='go')[0])\n",
    "reaction_time = []\n",
    "for i,b in enumerate(sorted_licks):\n",
    "    if len(b)>0:\n",
    "        b = b[0]\n",
    "        if i < num_go:\n",
    "            color = 'black'\n",
    "        else:\n",
    "            color = 'dodgerblue'\n",
    "        reaction_time.append(b)\n",
    "        plt.plot(b/1000, i,'.',c=color)\n",
    "plt.xlim(-0.05,2)\n",
    "plt.yticks([])\n",
    "plt.xlabel('Time (s)')\n",
    "plt.ylabel('Trials')\n",
    "\n",
    "save_figure('First_Lick_Raster_Control')\n",
    "\n",
    "#Trying to make it plot the first value only, but the problem is that you cant take\n",
    "#the first value of an empty array"
   ]
  },
  {
   "cell_type": "code",
   "execution_count": null,
   "metadata": {},
   "outputs": [],
   "source": [
    "reaction_times = []\n",
    "    for i, rast in enumerate(sorted_licks):\n",
    "\n",
    "        color=subset_colors[i]\n",
    "        y_axis = np.ones(len(rast)) + i\n",
    "\n",
    "        if sorted_subsets[i] != sorted_subsets[i-1] and i != 0:\n",
    "            ax0.axhline(y=i, ls='--', color='black')\n",
    "            line_pos.append(i)\n",
    "        try:\n",
    "            point = rast[0] / 1000\n",
    "            if point <= 1:\n",
    "                marker = '.'\n",
    "                fillstyle = 'full'\n",
    "            else:\n",
    "                marker = '.'\n",
    "                fillstyle = 'none'\n",
    "            ax0.plot(point, y_axis[0], marker=marker,\n",
    "                     fillstyle=fillstyle, c=color, markersize=12)\n",
    "            reaction_times.append(rast[0])\n",
    "        except IndexError:\n",
    "            reaction_times.append(np.nan)\n",
    "            pass"
   ]
  }
 ],
 "metadata": {
  "kernelspec": {
   "display_name": "Python 3",
   "language": "python",
   "name": "python3"
  },
  "language_info": {
   "codemirror_mode": {
    "name": "ipython",
    "version": 3
   },
   "file_extension": ".py",
   "mimetype": "text/x-python",
   "name": "python",
   "nbconvert_exporter": "python",
   "pygments_lexer": "ipython3",
   "version": "3.7.4"
  }
 },
 "nbformat": 4,
 "nbformat_minor": 2
}
