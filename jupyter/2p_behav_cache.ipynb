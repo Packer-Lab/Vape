{
 "cells": [
  {
   "cell_type": "code",
   "execution_count": 1,
   "metadata": {
    "collapsed": true
   },
   "outputs": [],
   "source": [
    "#ipython magic\n",
    "%load_ext autoreload\n",
    "%autoreload 2\n",
    "%reset -f\n",
    "%matplotlib notebook"
   ]
  },
  {
   "cell_type": "code",
   "execution_count": 2,
   "metadata": {
    "collapsed": true
   },
   "outputs": [],
   "source": [
    "#general imports\n",
    "import sys\n",
    "sys.path.append('..')\n",
    "import os\n",
    "import numpy as np\n",
    "import matplotlib.pyplot as plt\n",
    "import seaborn as sns\n",
    "import pickle"
   ]
  },
  {
   "cell_type": "code",
   "execution_count": 3,
   "metadata": {
    "collapsed": true
   },
   "outputs": [],
   "source": [
    "#notebook specific imports\n",
    "from utils.opto_stim_import2 import BlimpImport"
   ]
  },
  {
   "cell_type": "code",
   "execution_count": 4,
   "metadata": {
    "collapsed": true
   },
   "outputs": [],
   "source": [
    "mouse_id = 'J047'\n",
    "pkl_path = '/home/jamesrowland/Documents/Code/Vape/run_pkls'\n",
    "mouse_folder = os.path.join(pkl_path, mouse_id)\n",
    "if not os.path.exists(mouse_folder):\n",
    "    os.makedirs(mouse_folder)"
   ]
  },
  {
   "cell_type": "code",
   "execution_count": 6,
   "metadata": {},
   "outputs": [],
   "source": [
    "mouse_obj = BlimpImport(mouse_id)"
   ]
  },
  {
   "cell_type": "code",
   "execution_count": 8,
   "metadata": {},
   "outputs": [
    {
     "name": "stdout",
     "output_type": "stream",
     "text": [
      "error for run number 0\n",
      "list index out of range\n",
      "\n",
      "error for run number 1\n",
      "'J047-2019-06-11-193812' is not in list\n",
      "\n",
      "error for run number 2\n",
      "'J047-2019-06-12-164549' is not in list\n",
      "\n",
      "error for run number 3\n",
      "'J047-2019-06-13-160645' is not in list\n",
      "\n",
      "error for run number 4\n",
      "'J047-2019-06-14-163539' is not in list\n",
      "\n",
      "error for run number 5\n",
      "'FORGOT TO RECORD' is not in list\n",
      "\n",
      "error for run number 6\n",
      "could not find path to J047-2019-06-18-001859\n",
      "\n",
      "Importing data file: J047-2019-06-18-191605.txt\n",
      "pycontrol J047-2019-06-18-191605 successfully matched to blimp folder 2019-06-18-190806\n",
      "pycontrol J047-2019-06-18-191605 rsync successfully matched to paq 2019-06-28_J047_t002.paq\n",
      "error for run number 8\n",
      "'' is not in list\n",
      "\n",
      "error for run number 9\n",
      "'' is not in list\n",
      "\n",
      "error for run number 10\n",
      "'' is not in list\n",
      "\n",
      "error for run number 11\n",
      "'' is not in list\n",
      "\n",
      "error for run number 12\n",
      "'' is not in list\n",
      "\n",
      "error for run number 13\n",
      "'' is not in list\n",
      "\n",
      "error for run number 14\n",
      "list index out of range\n",
      "\n"
     ]
    }
   ],
   "source": [
    "for run_number in range(15):\n",
    "    \n",
    "    pkl_file = os.path.join(mouse_folder, 'run{}.pkl'.format(run_number))\n",
    "    \n",
    "    if os.path.isfile(pkl_file):\n",
    "        print('run number {} already processed\\n'.format(run_number))\n",
    "        continue\n",
    "        \n",
    "    try:\n",
    "        mouse_obj.get_object_and_test(run_number, raise_error = False)\n",
    "    except Exception as e:\n",
    "        print('error for run number {}'.format(run_number))\n",
    "        print('{}\\n'.format(e))\n",
    "        continue\n",
    "  \n",
    "    with open(pkl_file, 'wb') as f:\n",
    "        pickle.dump(mouse_obj, f)\n",
    "\n"
   ]
  }
 ],
 "metadata": {
  "kernelspec": {
   "display_name": "Python 3",
   "language": "python",
   "name": "python3"
  },
  "language_info": {
   "codemirror_mode": {
    "name": "ipython",
    "version": 3
   },
   "file_extension": ".py",
   "mimetype": "text/x-python",
   "name": "python",
   "nbconvert_exporter": "python",
   "pygments_lexer": "ipython3",
   "version": "3.6.3"
  }
 },
 "nbformat": 4,
 "nbformat_minor": 2
}
