{
 "cells": [
  {
   "cell_type": "code",
   "execution_count": 1,
   "metadata": {},
   "outputs": [],
   "source": [
    "# imports general modules, runs ipython magic commands\n",
    "# change path in this notebook to point to repo locally\n",
    "# n.b. sometimes need to run this cell twice to init the plotting paramters\n",
    "%run ./setup_notebook.ipynb\n",
    "%matplotlib inline"
   ]
  },
  {
   "cell_type": "code",
   "execution_count": 2,
   "metadata": {},
   "outputs": [
    {
     "data": {
      "text/plain": [
       "480"
      ]
     },
     "execution_count": 2,
     "metadata": {},
     "output_type": "execute_result"
    }
   ],
   "source": [
    "import json\n",
    "with open('/home/jrowland/Documents/code/Vape/s2_position.json') as json_file:\n",
    "    s1s2_border = json.load(json_file)\n",
    "    \n",
    "s1s2_border['J048']['27']"
   ]
  },
  {
   "cell_type": "code",
   "execution_count": 3,
   "metadata": {},
   "outputs": [],
   "source": [
    "import scipy.io as spio\n",
    "\n",
    "def loadmat(filename):\n",
    "    '''\n",
    "    this function should be called instead of direct spio.loadmat\n",
    "    as it cures the problem of not properly recovering python dictionaries\n",
    "    from mat files. It calls the function check keys to cure all entries\n",
    "    which are still mat-objects\n",
    "    \n",
    "    Stolen from some hero https://stackoverflow.com/a/8832212\n",
    "    (Modified slightly so dont use dict as variable name)\n",
    "    \n",
    "    '''\n",
    "    data = spio.loadmat(filename, struct_as_record=False, squeeze_me=True)\n",
    "    return _check_keys(data)\n",
    "\n",
    "def _check_keys(dict_):\n",
    "    '''\n",
    "    checks if entries in dictionary are mat-objects. If yes\n",
    "    todict is called to change them to nested dictionaries\n",
    "    '''\n",
    "    for key in dict_:\n",
    "        if isinstance(dict_[key], spio.matlab.mio5_params.mat_struct):\n",
    "            dict_[key] = _todict(dict_[key])\n",
    "    return dict_        \n",
    "\n",
    "def _todict(matobj):\n",
    "    '''\n",
    "    A recursive function which constructs from matobjects nested dictionaries\n",
    "    '''\n",
    "    dict_ = {}\n",
    "    for strg in matobj._fieldnames:\n",
    "        elem = matobj.__dict__[strg]\n",
    "        if isinstance(elem, spio.matlab.mio5_params.mat_struct):\n",
    "            dict_[strg] = _todict(elem)\n",
    "        else:\n",
    "            dict_[strg] = elem\n",
    "    return dict_"
   ]
  },
  {
   "cell_type": "code",
   "execution_count": 4,
   "metadata": {},
   "outputs": [
    {
     "name": "stdout",
     "output_type": "stream",
     "text": [
      "/home/jrowland/Documents/code/pop-off/popoff/popoff/loadpaths.py\n"
     ]
    }
   ],
   "source": [
    "import utils.utils_funcs as uf\n",
    "import os\n",
    "import cv2\n",
    "import sys\n",
    "from subsets_analysis import Subsets\n",
    "import pickle\n",
    "from gsheets_importer import path_finder\n",
    "import math\n",
    "import copy\n",
    "from scipy import interpolate\n",
    "from pathlib import Path\n",
    "import scipy.io as sio\n",
    "import h5py\n",
    "import tifffile as tf\n",
    "import popoff\n",
    "from average_traces import AverageTraces\n",
    "from Session import Session, SessionLite\n"
   ]
  },
  {
   "cell_type": "code",
   "execution_count": 31,
   "metadata": {},
   "outputs": [],
   "source": [
    "mice_dicts = [\n",
    "    \n",
    "{'mouse_id': 'J048', 'run_numbers': [27,28], 'runs': []},\n",
    "# {'mouse_id': 'RL048', 'run_numbers': [23, 24, 25, 28, 29], 'runs': []},\n",
    "# {'mouse_id': 'J063', 'run_numbers': [8,9,10,11,12,13,14], 'runs': []},\n",
    "\n",
    "# {'mouse_id': 'J064', 'run_numbers': [10,11,12,13,14,15], 'runs': []},\n",
    "{'mouse_id': 'J064', 'run_numbers': [10], 'runs': []},\n",
    "# {'mouse_id': 'J065', 'run_numbers': [10,11,12,13,14,15], 'runs': []},\n",
    "#{'mouse_id': 'RL070', 'run_numbers': [22,23,24,27,28,29], 'runs': []},\n",
    "{'mouse_id': 'RL070', 'run_numbers': [28], 'runs': []},\n",
    "# {'mouse_id': 'RL072', 'run_numbers': [19,20,21,24], 'runs': []},\n",
    "    \n",
    "]"
   ]
  },
  {
   "cell_type": "code",
   "execution_count": 34,
   "metadata": {},
   "outputs": [],
   "source": [
    "for mouse_dict in mice_dicts:\n",
    "    for run_number in mouse_dict['run_numbers']:\n",
    "        \n",
    "        pkl_path = os.path.join(path_to_vape, 'run_pkls', mouse_dict['mouse_id'], \n",
    "                                'run{}.pkl'.format(run_number))\n",
    "\n",
    "        with open(pkl_path, 'rb') as f:\n",
    "            run = pickle.load(f)\n",
    "            \n",
    "        mouse_dict['runs'].append(run)\n",
    "    \n",
    "\n",
    "#run = mice_dicts[0]['runs'][1]\n",
    "run = mice_dicts[2]['runs'][0]"
   ]
  },
  {
   "cell_type": "code",
   "execution_count": 36,
   "metadata": {},
   "outputs": [
    {
     "data": {
      "text/plain": [
       "instance Mouse RL070, run 28 of Session class"
      ]
     },
     "execution_count": 36,
     "metadata": {},
     "output_type": "execute_result"
    }
   ],
   "source": [
    "at = AverageTraces('dff')\n",
    "session = at.sessions[0]\n",
    "session"
   ]
  },
  {
   "cell_type": "code",
   "execution_count": 9,
   "metadata": {},
   "outputs": [
    {
     "data": {
      "text/plain": [
       "{0: instance Mouse RL070, run 28 of Session class,\n",
       " 1: instance Mouse RL070, run 29 of Session class,\n",
       " 2: instance Mouse J048, run 27 of Session class,\n",
       " 3: instance Mouse J048, run 28 of Session class,\n",
       " 4: instance Mouse J048, run 29 of Session class,\n",
       " 5: instance Mouse J048, run 30 of Session class,\n",
       " 6: instance Mouse J048, run 32 of Session class,\n",
       " 7: instance Mouse J064, run 10 of Session class,\n",
       " 8: instance Mouse J064, run 11 of Session class,\n",
       " 9: instance Mouse J064, run 14 of Session class,\n",
       " 10: instance Mouse J063, run 8 of Session class,\n",
       " 11: instance Mouse J063, run 9 of Session class,\n",
       " 12: instance Mouse RL048, run 23 of Session class,\n",
       " 13: instance Mouse RL048, run 24 of Session class,\n",
       " 14: instance Mouse RL048, run 25 of Session class,\n",
       " 15: instance Mouse RL048, run 28 of Session class,\n",
       " 16: instance Mouse RL048, run 29 of Session class,\n",
       " 17: instance Mouse J065, run 10 of Session class,\n",
       " 18: instance Mouse J065, run 11 of Session class}"
      ]
     },
     "execution_count": 9,
     "metadata": {},
     "output_type": "execute_result"
    }
   ],
   "source": [
    "sessions = at.sessions\n",
    "sessions"
   ]
  },
  {
   "cell_type": "code",
   "execution_count": 37,
   "metadata": {},
   "outputs": [
    {
     "data": {
      "text/plain": [
       "dict_keys(['mouse', 'run_number', 'flu_flavour', 'pkl_path', 'pre_seconds', 'post_seconds', 'pre_gap_seconds', 'post_gap_seconds', 'verbose', 'filter_threshold', 'name', 'tstart_galvo', 'trial_start', 'galvo_ms', 'subsets', 'trial_subsets', 'n_stim_arr', 'outcome', 'outcome_arr', 'frequency', 'pre_frames', 'post_frames', 'art_gap_start', 'final_pre_gap_tp', 'art_gap_stop', 'filter_ps_array', 'filter_ps_time', 'behaviour_trials', 'pre_rew_trials', 'unfiltered_n_cells', 'filtered_neurons', 'n_cells', 'av_ypix', 'av_xpix', 'plane_number', 's1s2_border', 's2_bool', 's1_bool', 'decision', 'photostim', 'photostim_occ', 'autorewarded', 'unrewarded_hits', 'n_unique_stims', 'n_neurons', 'n_times', 'n_trials', 'n_unique_dec', 'occ_table', 'n_com_trials', 'is_target', 'nonnan_trials', 'frames_use'])"
      ]
     },
     "execution_count": 37,
     "metadata": {},
     "output_type": "execute_result"
    }
   ],
   "source": [
    "session.__dict__.keys()"
   ]
  },
  {
   "cell_type": "code",
   "execution_count": 38,
   "metadata": {},
   "outputs": [],
   "source": [
    "def pstation2qnap(path):\n",
    "    \n",
    "    ''' Converts a packerstation path to a qnap path '''\n",
    "    \n",
    "    # Path to qnap data folder\n",
    "    qnap_data = os.path.expanduser('~/mnt/qnap/Data')\n",
    "    \n",
    "    # Part of the pstation path that is shared with the qnap path\n",
    "    # Split with the seperator as path.join doesn't like leading\n",
    "    # slashes.\n",
    "    shared_path = path.split('Data'+ os.sep)[1]\n",
    "    \n",
    "    return os.path.join(qnap_data, shared_path)"
   ]
  },
  {
   "cell_type": "code",
   "execution_count": 39,
   "metadata": {},
   "outputs": [],
   "source": [
    "blimp_path = pstation2qnap(run.blimp_path)"
   ]
  },
  {
   "cell_type": "code",
   "execution_count": 40,
   "metadata": {},
   "outputs": [],
   "source": [
    "groups = {}\n",
    "for folder in os.listdir(blimp_path):\n",
    "    \n",
    "    # Folders containing e.g. .mat files from groups have only numeric characters or _\n",
    "    if all([np.logical_or(char.isdigit(), char=='_') for char in folder]):\n",
    "        \n",
    "        # Add the coordinates of stimulated cells in test trials\n",
    "        group = {}\n",
    "        \n",
    "        mat_path = os.path.join(blimp_path, folder, 'matlab_input_parameters.mat')\n",
    "        mat = loadmat(mat_path)\n",
    "        \n",
    "        group['x'] = mat['obj']['split_points']['X'] \n",
    "        group['y'] = mat['obj']['split_points']['Y'] \n",
    "        \n",
    "        groups[folder] = group\n",
    "        \n",
    "# Add easy trials to groups dict. The mat in the loop should have an all_points field\n",
    "group = {}\n",
    "group['x'] = mat['obj']['all_points']['X'] \n",
    "group['y'] = mat['obj']['all_points']['Y'] \n",
    "groups['all'] = group\n",
    "\n",
    "# Add a nogo key for easy hashing\n",
    "group = {}\n",
    "group['x'] = None\n",
    "group['y'] = None\n",
    "groups['nogo'] = group"
   ]
  },
  {
   "cell_type": "code",
   "execution_count": 41,
   "metadata": {},
   "outputs": [],
   "source": [
    "trial_group = []\n",
    "for info in run.trial_info:\n",
    "    if info == 'all_cells_stimulated':\n",
    "        trial_group.append('all')\n",
    "    elif 'Nogo Trial' in info:\n",
    "        trial_group.append('nogo')\n",
    "    elif 'Go trial' in info:\n",
    "        # Will probably break on windows but pathlib will not\n",
    "        # parse this string for some reason and cannot split on os.sep\n",
    "        trial_group.append(info.split(' ')[-1].split('\\\\')[-1])\n",
    "    else:\n",
    "        raise ValueError('Not sure what this trial is m8')\n",
    "    \n",
    "trial_group = np.array(trial_group)\n",
    "    \n",
    "assert len(trial_group) == len(Subsets(run).trial_subsets)\n",
    "assert np.all(np.where(Subsets(run).trial_subsets==150)[0] == np.where(trial_group=='all')[0])\n",
    "assert np.all(np.where(Subsets(run).trial_subsets==0)[0] == np.where(trial_group=='nogo')[0])"
   ]
  },
  {
   "cell_type": "code",
   "execution_count": 42,
   "metadata": {},
   "outputs": [],
   "source": [
    "um_per_pixel = 1.35  # Correct-ish at 0.8x, check me\n",
    "stim_radius = 17.5  #  Distance (um) from stim to be considered target\n",
    "radius_px = stim_radius * um_per_pixel"
   ]
  },
  {
   "cell_type": "code",
   "execution_count": 53,
   "metadata": {},
   "outputs": [],
   "source": [
    "def build_mask(group, single_plane):\n",
    "    \n",
    "    \n",
    "    if single_plane:\n",
    "        # I am using 512 even though actually 514. Shouldn't make a difference as using a\n",
    "        # > 25 pixel radius for target. But check if need high precision\n",
    "        mask = np.zeros((514, 1024))\n",
    "    else:\n",
    "        mask = np.zeros((1024,1024))\n",
    "\n",
    "    for x,y in zip(group['x'], group['y']):\n",
    "\n",
    "        if single_plane:\n",
    "            # I think you just need to rescale x in the obfov condition. Be careful and check though\n",
    "            scale_y = 1\n",
    "        else:\n",
    "            # I have rescaled by just multiplying coordinates by 2, go careful with this as not \n",
    "            # 100% sure it is correct\n",
    "            scale_y = 2\n",
    "            \n",
    "        scale_x = 2\n",
    "        \n",
    "        mask = cv2.circle(mask, (int(scale_x*x), int(scale_y*y)) , radius=int(radius_px), color=1, thickness=-1)\n",
    "\n",
    "    return mask.astype('bool')"
   ]
  },
  {
   "cell_type": "code",
   "execution_count": 54,
   "metadata": {},
   "outputs": [],
   "source": [
    "def get_normalised_coords(stat):\n",
    "    \n",
    "    #cell_coords = np.array([stat[cell]['med'] for cell in range(len(stat))])\n",
    "    cell_coords = np.array([[stat['ypix'], stat['xpix']] for stat in run.stat])\n",
    "    \n",
    "    try:\n",
    "        global planes  # Fix me\n",
    "        planes = np.array([stat[cell]['iplane'] for cell in range(len(stat))])\n",
    "        cell_coords[planes==1, 1] = cell_coords[planes==1, 1] - 1024 \n",
    "        cell_coords[planes==2, 0] = cell_coords[planes==2, 0] - 1024 \n",
    "    except KeyError:  # Single plane\n",
    "        pass\n",
    "    \n",
    "    return cell_coords\n",
    "    return cell_coords.astype('int')"
   ]
  },
  {
   "cell_type": "code",
   "execution_count": 55,
   "metadata": {},
   "outputs": [
    {
     "data": {
      "text/plain": [
       "(624, 2)"
      ]
     },
     "execution_count": 55,
     "metadata": {},
     "output_type": "execute_result"
    }
   ],
   "source": [
    "cell_coords = get_normalised_coords(run.stat)\n",
    "min_coord = np.min([np.min(np.stack(cell_coord)) for cell_coord in cell_coords])\n",
    "max_coord = np.max([np.max(np.stack(cell_coord)) for cell_coord in cell_coords])\n",
    "\n",
    "assert min_coord > 0 and max_coord < 1024\n",
    "\n",
    "cell_coords = cell_coords[session.filtered_neurons]\n",
    "cell_coords.shape"
   ]
  },
  {
   "cell_type": "code",
   "execution_count": 56,
   "metadata": {},
   "outputs": [
    {
     "data": {
      "text/plain": [
       "1020"
      ]
     },
     "execution_count": 56,
     "metadata": {},
     "output_type": "execute_result"
    }
   ],
   "source": [
    "maxi = np.max([np.max(cell_coord[1]) for cell_coord in cell_coords])\n",
    "maxi"
   ]
  },
  {
   "cell_type": "code",
   "execution_count": 57,
   "metadata": {},
   "outputs": [],
   "source": [
    "is_target = []\n",
    "single_plane = True\n",
    "\n",
    "for trial in trial_group:\n",
    "\n",
    "    if trial == 'nogo':\n",
    "        is_target.append(np.repeat(False, len(cell_coords)))\n",
    "        continue\n",
    "        \n",
    "    group = groups[trial]\n",
    "    \n",
    "    mask = build_mask(group, single_plane=single_plane)\n",
    "    \n",
    "    # xy indexing rather than ij seems to be correct on plot but check\n",
    "    is_target.append(\n",
    "    [mask[coord[0], coord[1]].any() for coord in cell_coords]\n",
    "    )\n",
    "    \n",
    "is_target = np.array(is_target)\n",
    "is_target = is_target[session.nonnan_trials]\n",
    "\n",
    "# # Check no cells are marked as targets on nogo trials\n",
    "assert sum(np.sum(is_target, axis=1)[session.photostim==0]) == 0\n",
    "\n",
    "# # Expand is target mask to include every frame of trial\n",
    "is_target = np.repeat(is_target.T[:, :, np.newaxis], session.n_times, axis=2)"
   ]
  },
  {
   "cell_type": "code",
   "execution_count": 26,
   "metadata": {},
   "outputs": [],
   "source": [
    "behaviour_trials = session.behaviour_trials\n",
    "\n",
    "# Use copy=True when making arrays if you want to mutate masks downstream\n",
    "targets = np.ma.array(behaviour_trials, mask=~is_target, copy=True)\n",
    "followers = np.ma.array(behaviour_trials, mask=is_target, copy=True)\n",
    "# Remove nogo trials from followers MUST USE copy=TRUE when making\n",
    "# array to avoid mutating mask that multiple arrays reference\n",
    "followers.mask[:, session.photostim==0, :] = True"
   ]
  },
  {
   "cell_type": "code",
   "execution_count": 27,
   "metadata": {},
   "outputs": [
    {
     "data": {
      "text/plain": [
       "Text(0.5, 0, 'Time (seconds)')"
      ]
     },
     "execution_count": 27,
     "metadata": {},
     "output_type": "execute_result"
    },
    {
     "data": {
      "image/png": "[encoded data removed]",
      "text/plain": [
       "<Figure size 432x288 with 1 Axes>"
      ]
     },
     "metadata": {},
     "output_type": "display_data"
    }
   ],
   "source": [
    "plt.plot(session.filter_ps_time, np.mean(targets, (0,1)), label='Targets')\n",
    "plt.plot(session.filter_ps_time, np.mean(followers, (0,1)), label='Followers')\n",
    "\n",
    "plt.legend()\n",
    "plt.ylabel('Df/f')\n",
    "plt.xlabel('Time (seconds)')"
   ]
  },
  {
   "cell_type": "code",
   "execution_count": 28,
   "metadata": {},
   "outputs": [
    {
     "data": {
      "text/plain": [
       "123"
      ]
     },
     "execution_count": 28,
     "metadata": {},
     "output_type": "execute_result"
    }
   ],
   "source": [
    "# Was a cell targeted on any trial?\n",
    "ever_targeted = np.any(is_target, axis=(1,2))\n",
    "# Check that all targets are in s1\n",
    "for target, s1 in zip(ever_targeted, session.s1_bool):\n",
    "    if target:\n",
    "        assert s1\n",
    "sum(ever_targeted)"
   ]
  },
  {
   "cell_type": "code",
   "execution_count": 29,
   "metadata": {},
   "outputs": [
    {
     "data": {
      "text/plain": [
       "<matplotlib.image.AxesImage at 0x7f966b0f6990>"
      ]
     },
     "execution_count": 29,
     "metadata": {},
     "output_type": "execute_result"
    },
    {
     "data": {
      "image/png": "[encoded data removed]",
      "text/plain": [
       "<Figure size 1152x1152 with 1 Axes>"
      ]
     },
     "metadata": {},
     "output_type": "display_data"
    }
   ],
   "source": [
    "plt.figure(figsize=(16,16))\n",
    "im = np.zeros((514,1024))\n",
    "for coord in cell_coords[ever_targeted, :]:\n",
    "    im[coord[0], coord[1]] = 1\n",
    "plt.imshow(im)"
   ]
  },
  {
   "cell_type": "code",
   "execution_count": 299,
   "metadata": {},
   "outputs": [],
   "source": [
    "tiff_path = os.path.expanduser('~/mnt/qnap/Data/2019-12-13/STA/2019-12-13_J064_t-001/'\n",
    "          '2019-12-13_J064_t-001_15Stims_STA_dF_MaxResponseImage.tif')"
   ]
  },
  {
   "cell_type": "code",
   "execution_count": 46,
   "metadata": {},
   "outputs": [
    {
     "data": {
      "text/plain": [
       "<matplotlib.image.AxesImage at 0x7f36aa3a2ed0>"
      ]
     },
     "execution_count": 46,
     "metadata": {},
     "output_type": "execute_result"
    },
    {
     "data": {
      "image/png": "[encoded data removed]",
      "text/plain": [
       "<Figure size 4320x2160 with 1 Axes>"
      ]
     },
     "metadata": {},
     "output_type": "display_data"
    }
   ],
   "source": [
    "#tiff = tf.imread(tiff_path)\n",
    "#tiff = tiff[256:513+257, :]\n",
    "tiff = np.zeros((1024,1024))\n",
    "tiff.shape\n",
    "\n",
    "tiff[im.astype('bool')] = np.max(tiff)\n",
    "\n",
    "y, x = np.where(im)\n",
    "\n",
    "scale_x = 1\n",
    "scale_y = 1\n",
    "    \n",
    "for xx, yy, in zip(x,y):\n",
    "    tiff = cv2.circle(tiff, (int(scale_x*xx), int(scale_y*yy)) , radius=int(2), color=6000, thickness=-1)\n",
    "    \n",
    "plt.figure(figsize=(60,30))\n",
    "plt.imshow(tiff)"
   ]
  },
  {
   "cell_type": "code",
   "execution_count": 282,
   "metadata": {},
   "outputs": [],
   "source": [
    "is_target_og = copy.deepcopy(is_target)"
   ]
  },
  {
   "cell_type": "code",
   "execution_count": 283,
   "metadata": {},
   "outputs": [],
   "source": [
    "from utils.run_functions import GetTargets\n",
    "import time"
   ]
  },
  {
   "cell_type": "code",
   "execution_count": 284,
   "metadata": {},
   "outputs": [],
   "source": [
    "gt = GetTargets(run)\n",
    "is_target = gt.is_target[session.filtered_neurons, :]\n",
    "is_target = is_target[:, session.nonnan_trials]\n",
    "is_target = np.repeat(is_target[:, :, np.newaxis], session.n_times, axis=2)"
   ]
  },
  {
   "cell_type": "code",
   "execution_count": 285,
   "metadata": {},
   "outputs": [
    {
     "data": {
      "text/plain": [
       "(2101, 130, 60)"
      ]
     },
     "execution_count": 285,
     "metadata": {},
     "output_type": "execute_result"
    }
   ],
   "source": [
    "is_target.shape"
   ]
  },
  {
   "cell_type": "code",
   "execution_count": 286,
   "metadata": {},
   "outputs": [
    {
     "data": {
      "text/plain": [
       "False"
      ]
     },
     "execution_count": 286,
     "metadata": {},
     "output_type": "execute_result"
    }
   ],
   "source": [
    "(is_target == is_target_og).all()"
   ]
  },
  {
   "cell_type": "code",
   "execution_count": 287,
   "metadata": {},
   "outputs": [],
   "source": [
    "# Was a cell targeted on any trial?\n",
    "ever_targeted = np.any(is_target, axis=(1,2))\n",
    "# Check that all targets are in s1\n",
    "for target, s1 in zip(ever_targeted, session.s1_bool):\n",
    "    if target:\n",
    "        assert s1"
   ]
  },
  {
   "cell_type": "code",
   "execution_count": 288,
   "metadata": {},
   "outputs": [
    {
     "data": {
      "text/plain": [
       "466"
      ]
     },
     "execution_count": 288,
     "metadata": {},
     "output_type": "execute_result"
    }
   ],
   "source": [
    "sum(ever_targeted)"
   ]
  },
  {
   "cell_type": "code",
   "execution_count": 30,
   "metadata": {},
   "outputs": [
    {
     "data": {
      "text/plain": [
       "dict_keys(['mouse_id', 'df', 'rows_2p', 'rows_1p', 'dates_2p', 'paqs', 'naparm_folders', 'blimp_folders', 'pycontrol_folders', 'prereward_folders', 'tseries_folders', 'plane_numbers', 'run_pycontrol_txt', 'num_planes', 'blimp_path', 'naparm_path', 'pycontrol_path', 'paq_path', 'prereward_path', 'tseries_paths', 'align_barcode', 'trial_info', 'session', 'print_lines', 'trial_time', 'outcome', 'slm_barcode', 'slm_trial_number', 'nogo_barcode', 'nogo_trial_number', 'alltrials_barcodes', 'rsync', 'trial_start', 'paq_rsync', 'frame_clock', 'x_galvo_uncaging', 'slm2packio', 'paq_rate', 'aligner', 'paq_correct', 'pre_rsync', 'pre_licks', 'pre_reward', 'prereward_aligner', 'both_aligner', 'num_frames', 's2p_path', 'flu_raw', 'frames_ms', 'frames_ms_pre', 'flu', 'spks', 'stat', 'paqio_frames', 'spiral_start', 'spiral_licks', 'autorewarded_trial', 'toosoon_idx', 'false_miss', 'denoised_flu'])"
      ]
     },
     "execution_count": 30,
     "metadata": {},
     "output_type": "execute_result"
    }
   ],
   "source": [
    "run.__dict__.keys()"
   ]
  },
  {
   "cell_type": "code",
   "execution_count": null,
   "metadata": {},
   "outputs": [],
   "source": []
  },
  {
   "cell_type": "code",
   "execution_count": null,
   "metadata": {},
   "outputs": [],
   "source": []
  },
  {
   "cell_type": "code",
   "execution_count": 31,
   "metadata": {},
   "outputs": [
    {
     "data": {
      "text/plain": [
       "array(['miss', 'hit', 'fp', 'miss', 'hit', 'hit', 'miss', 'fp', 'hit',\n",
       "       'cr', 'miss', 'hit', 'hit', 'cr', 'hit', 'hit', 'fp', 'cr', 'cr',\n",
       "       'hit', 'hit', 'hit', 'hit', 'cr', 'hit', 'hit', 'hit', 'fp',\n",
       "       'miss', 'fp', 'miss', 'cr', 'miss', 'hit', 'cr', 'hit', 'hit',\n",
       "       'miss', 'hit', 'hit', 'fp', 'fp', 'cr', 'hit', 'fp', 'hit', 'fp',\n",
       "       'cr', 'hit', 'miss', 'hit', 'hit', 'hit', 'hit', 'hit', 'fp',\n",
       "       'hit', 'hit', 'hit', 'fp', 'hit', 'hit', 'cr', 'hit', 'fp', 'fp',\n",
       "       'hit', 'fp', 'hit', 'hit', 'hit', 'hit', 'hit', 'hit', 'hit',\n",
       "       'hit', 'fp', 'fp', 'hit', 'hit', 'hit', 'hit', 'fp', 'fp', 'hit',\n",
       "       'hit', 'cr', 'fp', 'hit', 'fp', 'hit', 'cr', 'cr', 'hit', 'hit',\n",
       "       'hit', 'hit', 'hit', 'fp', 'hit', 'hit', 'cr', 'hit', 'hit', 'fp',\n",
       "       'fp', 'cr', 'miss', 'hit', 'hit', 'fp', 'hit', 'hit', 'fp', 'cr',\n",
       "       'fp', 'hit', 'fp', 'miss', 'cr', 'cr', 'hit', 'hit', 'hit', 'cr',\n",
       "       'cr', 'miss', 'cr', 'miss', 'cr', 'hit', 'hit', 'miss', 'hit',\n",
       "       'hit', 'hit', 'hit', 'miss', 'fp', 'hit', 'hit', 'cr', 'cr', 'hit',\n",
       "       'hit', 'hit', 'cr', 'miss', 'cr', 'hit', 'cr', 'miss', 'cr', 'hit',\n",
       "       'cr', 'cr', 'miss', 'miss', 'cr', 'cr', 'miss', 'miss', 'cr',\n",
       "       'miss', 'cr', 'cr', 'cr', 'miss', 'miss', 'miss', 'cr', 'cr',\n",
       "       'miss'], dtype='<U4')"
      ]
     },
     "execution_count": 31,
     "metadata": {},
     "output_type": "execute_result"
    }
   ],
   "source": [
    "run.outcome"
   ]
  },
  {
   "cell_type": "code",
   "execution_count": null,
   "metadata": {},
   "outputs": [],
   "source": []
  },
  {
   "cell_type": "code",
   "execution_count": null,
   "metadata": {},
   "outputs": [],
   "source": []
  },
  {
   "cell_type": "markdown",
   "metadata": {},
   "source": [
    "## Plot to check coordinates are correct"
   ]
  },
  {
   "cell_type": "code",
   "execution_count": 109,
   "metadata": {},
   "outputs": [],
   "source": [
    "# I think this is the non-transformed coordinates as the are also structure fields\n",
    "# e.g. offset_x\n",
    "x = mat['obj']['all_points']['X'] \n",
    "y = mat['obj']['all_points']['Y'] \n",
    "\n",
    "\n",
    "# x = mat['obj']['all_points']['X'] \n",
    "# y = mat['obj']['all_points']['Y'] "
   ]
  },
  {
   "cell_type": "code",
   "execution_count": null,
   "metadata": {},
   "outputs": [],
   "source": [
    "# naparm_path/Images has every image that was loaded in to naparm at the time, so will probably need manual\n",
    "# inspection to \n",
    "tiff_file = '2019-08-03_J048_t-001_20Stims_STA_dF_MaxResponseImage.tif'\n",
    "\n",
    "tiff_path = os.path.join(\n",
    "                os.path.expanduser('/home/jrowland/mnt/qnap/Data/2019-08-03/STA/2019-08-03_J048_t-001'),\n",
    "                tiff_file\n",
    "                )\n",
    "\n",
    "tiff = tf.imread(tiff_path)\n",
    "tiff = tiff[::2, ::2]\n",
    "\n",
    "tiff[y, x] = np.max(tiff)\n",
    "\n",
    "plt.figure(figsize=(20,20,))\n",
    "plt.imshow(tiff)\n",
    "plt.colorbar()"
   ]
  }
 ],
 "metadata": {
  "kernelspec": {
   "display_name": "Python 3",
   "language": "python",
   "name": "python3"
  },
  "language_info": {
   "codemirror_mode": {
    "name": "ipython",
    "version": 3
   },
   "file_extension": ".py",
   "mimetype": "text/x-python",
   "name": "python",
   "nbconvert_exporter": "python",
   "pygments_lexer": "ipython3",
   "version": "3.7.4"
  }
 },
 "nbformat": 4,
 "nbformat_minor": 4
}
