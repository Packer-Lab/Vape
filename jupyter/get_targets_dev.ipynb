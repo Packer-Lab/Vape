{
 "cells": [
  {
   "cell_type": "code",
   "execution_count": 1,
   "metadata": {},
   "outputs": [],
   "source": [
    "# imports general modules, runs ipython magic commands\n",
    "# change path in this notebook to point to repo locally\n",
    "# n.b. sometimes need to run this cell twice to init the plotting paramters\n",
    "%run ./setup_notebook.ipynb\n",
    "%matplotlib inline"
   ]
  },
  {
   "cell_type": "code",
   "execution_count": 2,
   "metadata": {},
   "outputs": [],
   "source": [
    "import scipy.io as spio\n",
    "\n",
    "def loadmat(filename):\n",
    "    '''\n",
    "    this function should be called instead of direct spio.loadmat\n",
    "    as it cures the problem of not properly recovering python dictionaries\n",
    "    from mat files. It calls the function check keys to cure all entries\n",
    "    which are still mat-objects\n",
    "    \n",
    "    Stolen from some hero https://stackoverflow.com/a/8832212\n",
    "    (Modified slightly so dont use dict as variable name)\n",
    "    \n",
    "    '''\n",
    "    data = spio.loadmat(filename, struct_as_record=False, squeeze_me=True)\n",
    "    return _check_keys(data)\n",
    "\n",
    "def _check_keys(dict_):\n",
    "    '''\n",
    "    checks if entries in dictionary are mat-objects. If yes\n",
    "    todict is called to change them to nested dictionaries\n",
    "    '''\n",
    "    for key in dict_:\n",
    "        if isinstance(dict_[key], spio.matlab.mio5_params.mat_struct):\n",
    "            dict_[key] = _todict(dict_[key])\n",
    "    return dict_        \n",
    "\n",
    "def _todict(matobj):\n",
    "    '''\n",
    "    A recursive function which constructs from matobjects nested dictionaries\n",
    "    '''\n",
    "    dict_ = {}\n",
    "    for strg in matobj._fieldnames:\n",
    "        elem = matobj.__dict__[strg]\n",
    "        if isinstance(elem, spio.matlab.mio5_params.mat_struct):\n",
    "            dict_[strg] = _todict(elem)\n",
    "        else:\n",
    "            dict_[strg] = elem\n",
    "    return dict_"
   ]
  },
  {
   "cell_type": "code",
   "execution_count": 3,
   "metadata": {},
   "outputs": [
    {
     "name": "stdout",
     "output_type": "stream",
     "text": [
      "/home/jrowland/Documents/code/pop-off/popoff/popoff/loadpaths.py\n"
     ]
    }
   ],
   "source": [
    "import utils.utils_funcs as uf\n",
    "import os\n",
    "import cv2\n",
    "import sys\n",
    "from subsets_analysis import Subsets\n",
    "import pickle\n",
    "from gsheets_importer import path_finder\n",
    "import math\n",
    "import copy\n",
    "from scipy import interpolate\n",
    "from pathlib import Path\n",
    "import scipy.io as sio\n",
    "import h5py\n",
    "import tifffile as tf\n",
    "import popoff\n",
    "from average_traces import AverageTraces\n",
    "from Session import Session, SessionLite\n"
   ]
  },
  {
   "cell_type": "code",
   "execution_count": 4,
   "metadata": {},
   "outputs": [],
   "source": [
    "mice_dicts = [\n",
    "    \n",
    "{'mouse_id': 'J048', 'run_numbers': [27,28], 'runs': []},\n",
    "# {'mouse_id': 'RL048', 'run_numbers': [23, 24, 25, 28, 29], 'runs': []},\n",
    "# {'mouse_id': 'J063', 'run_numbers': [8,9,10,11,12,13,14], 'runs': []},\n",
    "\n",
    "# {'mouse_id': 'J064', 'run_numbers': [10,11,12,13,14,15], 'runs': []},\n",
    "{'mouse_id': 'J064', 'run_numbers': [10], 'runs': []},\n",
    "# {'mouse_id': 'J065', 'run_numbers': [10,11,12,13,14,15], 'runs': []},\n",
    "# {'mouse_id': 'RL070', 'run_numbers': [22,23,24,27,28,29], 'runs': []},\n",
    "# {'mouse_id': 'RL072', 'run_numbers': [19,20,21,24], 'runs': []},\n",
    "    \n",
    "]"
   ]
  },
  {
   "cell_type": "code",
   "execution_count": 5,
   "metadata": {},
   "outputs": [],
   "source": [
    "for mouse_dict in mice_dicts:\n",
    "    for run_number in mouse_dict['run_numbers']:\n",
    "        \n",
    "        pkl_path = os.path.join(path_to_vape, 'run_pkls', mouse_dict['mouse_id'], \n",
    "                                'run{}.pkl'.format(run_number))\n",
    "\n",
    "        with open(pkl_path, 'rb') as f:\n",
    "            run = pickle.load(f)\n",
    "            \n",
    "        mouse_dict['runs'].append(run)\n",
    "    \n",
    "\n",
    "#run = mice_dicts[0]['runs'][1]\n",
    "run = mice_dicts[1]['runs'][0]"
   ]
  },
  {
   "cell_type": "code",
   "execution_count": 41,
   "metadata": {},
   "outputs": [
    {
     "data": {
      "text/plain": [
       "instance Mouse J064, run 10 of Session class"
      ]
     },
     "execution_count": 41,
     "metadata": {},
     "output_type": "execute_result"
    }
   ],
   "source": [
    "at = AverageTraces('dff')\n",
    "session = at.sessions[7]\n",
    "session"
   ]
  },
  {
   "cell_type": "code",
   "execution_count": 8,
   "metadata": {},
   "outputs": [],
   "source": [
    "group_path = os.path.expanduser('~/mnt/qnap/Data/2019-08-03/blimp/2019-08-03-142743/20_2/matlab_input_parameters.mat')\n",
    "mat = loadmat(group_path)"
   ]
  },
  {
   "cell_type": "code",
   "execution_count": 9,
   "metadata": {},
   "outputs": [],
   "source": [
    "def pstation2qnap(path):\n",
    "    \n",
    "    ''' Converts a packerstation path to a qnap path '''\n",
    "    \n",
    "    # Path to qnap data folder\n",
    "    qnap_data = os.path.expanduser('~/mnt/qnap/Data')\n",
    "    \n",
    "    # Part of the pstation path that is shared with the qnap path\n",
    "    # Split with the seperator as path.join doesn't like leading\n",
    "    # slashes.\n",
    "    shared_path = path.split('Data'+ os.sep)[1]\n",
    "    \n",
    "    return os.path.join(qnap_data, shared_path)"
   ]
  },
  {
   "cell_type": "code",
   "execution_count": 42,
   "metadata": {},
   "outputs": [],
   "source": [
    "blimp_path = pstation2qnap(run.blimp_path)"
   ]
  },
  {
   "cell_type": "code",
   "execution_count": 43,
   "metadata": {},
   "outputs": [],
   "source": [
    "groups = {}\n",
    "for folder in os.listdir(blimp_path):\n",
    "    \n",
    "    # Folders containing e.g. .mat files from groups have only numeric characters or _\n",
    "    if all([np.logical_or(char.isdigit(), char=='_') for char in folder]):\n",
    "        \n",
    "        # Add the coordinates of stimulated cells in test trials\n",
    "        group = {}\n",
    "        \n",
    "        mat_path = os.path.join(blimp_path, folder, 'matlab_input_parameters.mat')\n",
    "        mat = loadmat(mat_path)\n",
    "        \n",
    "        group['x'] = mat['obj']['split_points']['X'] \n",
    "        group['y'] = mat['obj']['split_points']['Y'] \n",
    "        \n",
    "        groups[folder] = group\n",
    "        \n",
    "# Add easy trials to groups dict. The mat in the loop should have an all_points field\n",
    "group = {}\n",
    "group['x'] = mat['obj']['all_points']['X'] \n",
    "group['y'] = mat['obj']['all_points']['Y'] \n",
    "groups['all'] = group\n",
    "\n",
    "# Add a nogo key for easy hashing\n",
    "group = {}\n",
    "group['x'] = None\n",
    "group['y'] = None\n",
    "groups['nogo'] = group"
   ]
  },
  {
   "cell_type": "code",
   "execution_count": 44,
   "metadata": {},
   "outputs": [],
   "source": [
    "trial_group = []\n",
    "for info in run.trial_info:\n",
    "    if info == 'all_cells_stimulated':\n",
    "        trial_group.append('all')\n",
    "    elif 'Nogo Trial' in info:\n",
    "        trial_group.append('nogo')\n",
    "    elif 'Go trial' in info:\n",
    "        # Will probably break on windows but pathlib will not\n",
    "        # parse this string for some reason and cannot split on os.sep\n",
    "        trial_group.append(info.split(' ')[-1].split('\\\\')[-1])\n",
    "    else:\n",
    "        raise ValueError('Not sure what this trial is m8')\n",
    "    \n",
    "trial_group = np.array(trial_group)\n",
    "    \n",
    "assert len(trial_group) == len(Subsets(run).trial_subsets)\n",
    "assert np.all(np.where(Subsets(run).trial_subsets==150)[0] == np.where(trial_group=='all')[0])\n",
    "assert np.all(np.where(Subsets(run).trial_subsets==0)[0] == np.where(trial_group=='nogo')[0])"
   ]
  },
  {
   "cell_type": "code",
   "execution_count": 45,
   "metadata": {},
   "outputs": [],
   "source": [
    "def euclid_distance(coord1, coord2):\n",
    "    '''Takes two sets of coordinates (tuple or list).\n",
    "       Returns euclidean distance between them'''\n",
    "    return math.sqrt(\n",
    "        math.pow(coord1[0] - coord2[0], 2)\n",
    "        + math.pow(coord1[1] - coord2[1], 2)\n",
    "    )"
   ]
  },
  {
   "cell_type": "code",
   "execution_count": 46,
   "metadata": {},
   "outputs": [],
   "source": [
    "um_per_pixel = 1.35  # Correct-ish at 0.8x, check me\n",
    "stim_radius = 20  #  Distance (um) from stim to be considered target\n",
    "radius_px = stim_radius * um_per_pixel"
   ]
  },
  {
   "cell_type": "code",
   "execution_count": 47,
   "metadata": {},
   "outputs": [
    {
     "data": {
      "text/plain": [
       "27.0"
      ]
     },
     "execution_count": 47,
     "metadata": {},
     "output_type": "execute_result"
    }
   ],
   "source": [
    "radius_px"
   ]
  },
  {
   "cell_type": "code",
   "execution_count": null,
   "metadata": {},
   "outputs": [],
   "source": []
  },
  {
   "cell_type": "code",
   "execution_count": 48,
   "metadata": {},
   "outputs": [],
   "source": [
    "def build_mask(group, single_plane):\n",
    "    \n",
    "    \n",
    "    if single_plane:\n",
    "        # I am using 512 even though actually 514. Shouldn't make a difference as using a\n",
    "        # > 25 pixel radius for target. But check if need high precision\n",
    "        mask = np.zeros((512, 1024))\n",
    "    else:\n",
    "        mask = np.zeros((1024,1024))\n",
    "\n",
    "    for x,y in zip(group['x'], group['y']):\n",
    "\n",
    "        if single_plane:\n",
    "            # I think you just need to rescale x in the obfov condition. Be careful and check though\n",
    "            scale_y = 1\n",
    "        else:\n",
    "            # I have rescaled by just multiplying coordinates by 2, go careful with this as not \n",
    "            # 100% sure it is correct\n",
    "            scale_y = 2\n",
    "            \n",
    "        scale_x = 2\n",
    "        \n",
    "        mask = cv2.circle(mask, (int(scale_x*x), int(scale_y*y)) , radius=int(radius_px), color=1, thickness=-1)\n",
    "\n",
    "    return mask.astype('bool')"
   ]
  },
  {
   "cell_type": "code",
   "execution_count": 49,
   "metadata": {},
   "outputs": [],
   "source": [
    "def get_normalised_coords(stat):\n",
    "    \n",
    "    cell_coords = np.array([stat[cell]['med'] for cell in range(len(stat))])\n",
    "    \n",
    "    try:\n",
    "        global planes  # Fix me\n",
    "        planes = np.array([stat[cell]['iplane'] for cell in range(len(stat))])\n",
    "        cell_coords[planes==1, 1] = cell_coords[planes==1, 1] - 1024 \n",
    "        cell_coords[planes==2, 0] = cell_coords[planes==2, 0] - 1024 \n",
    "    except KeyError:  # Single plane\n",
    "        pass\n",
    "    \n",
    "    return cell_coords.astype('int')"
   ]
  },
  {
   "cell_type": "code",
   "execution_count": 50,
   "metadata": {},
   "outputs": [],
   "source": [
    "cell_coords = get_normalised_coords(run.stat)\n",
    "assert np.min(cell_coords) > 0 and np.max(cell_coords) < 1024\n",
    "# Maybe filter before in future\n",
    "cell_coords = cell_coords[session.filtered_neurons]"
   ]
  },
  {
   "cell_type": "code",
   "execution_count": 51,
   "metadata": {},
   "outputs": [],
   "source": [
    "is_target = []\n",
    "single_plane = True\n",
    "\n",
    "\n",
    "for trial in trial_group:\n",
    "\n",
    "    if trial == 'nogo':\n",
    "        is_target.append(np.repeat(False, len(cell_coords)))\n",
    "        continue\n",
    "        \n",
    "    group = groups[trial]\n",
    "    \n",
    "    mask = build_mask(group, single_plane=single_plane)\n",
    "    \n",
    "    # xy indexing rather than ij seems to be correct on plot but check\n",
    "    is_target.append(\n",
    "        [mask[coord[0], coord[1]] for coord in cell_coords]\n",
    "    )\n",
    "\n",
    "is_target = np.array(is_target)\n",
    "\n",
    "\n",
    "is_target = is_target[session.nonnan_trials]\n",
    "\n",
    "# Check no cells are marked as targets on nogo trials\n",
    "assert sum(np.sum(is_target, axis=1)[session.photostim==0]) == 0\n",
    "\n",
    "# Expand is target mask to include every frame of trial\n",
    "is_target = np.repeat(is_target.T[:, :, np.newaxis], session.n_times, axis=2)\n",
    "\n",
    "# Remove filtered \"surreal\" neurons (now done in cell_coords)\n",
    "#is_target = is_target[session.filtered_neurons, :, :]"
   ]
  },
  {
   "cell_type": "code",
   "execution_count": 52,
   "metadata": {},
   "outputs": [],
   "source": [
    "behaviour_trials = session.behaviour_trials\n",
    "\n",
    "# Use copy=True when making arrays if you want to mutate masks downstream\n",
    "targets = np.ma.array(behaviour_trials, mask=~is_target, copy=True)\n",
    "followers = np.ma.array(behaviour_trials, mask=is_target, copy=True)\n",
    "# Remove nogo trials from followers MUST USE copy=TRUE when making\n",
    "# array to avoid mutating mask that multiple arrays reference\n",
    "followers.mask[:, session.photostim==0, :] = True"
   ]
  },
  {
   "cell_type": "code",
   "execution_count": 53,
   "metadata": {},
   "outputs": [
    {
     "data": {
      "text/plain": [
       "Text(0.5, 0, 'Time (seconds)')"
      ]
     },
     "execution_count": 53,
     "metadata": {},
     "output_type": "execute_result"
    },
    {
     "data": {
      "image/png": "[encoded data removed]",
      "text/plain": [
       "<Figure size 432x288 with 1 Axes>"
      ]
     },
     "metadata": {},
     "output_type": "display_data"
    }
   ],
   "source": [
    "plt.plot(session.filter_ps_time, np.mean(targets, (0,1)), label='Targets')\n",
    "plt.plot(session.filter_ps_time, np.mean(followers, (0,1)), label='Followers')\n",
    "\n",
    "plt.ylim(-0.05,0.2)\n",
    "plt.legend()\n",
    "plt.ylabel('Df/f')\n",
    "plt.xlabel('Time (seconds)')"
   ]
  },
  {
   "cell_type": "code",
   "execution_count": 66,
   "metadata": {},
   "outputs": [
    {
     "ename": "AssertionError",
     "evalue": "",
     "output_type": "error",
     "traceback": [
      "\u001b[0;31m---------------------------------------------------------------------------\u001b[0m",
      "\u001b[0;31mAssertionError\u001b[0m                            Traceback (most recent call last)",
      "\u001b[0;32m<ipython-input-66-bc5ff359caee>\u001b[0m in \u001b[0;36m<module>\u001b[0;34m\u001b[0m\n\u001b[1;32m      4\u001b[0m \u001b[0;32mfor\u001b[0m \u001b[0mtarget\u001b[0m\u001b[0;34m,\u001b[0m \u001b[0ms1\u001b[0m \u001b[0;32min\u001b[0m \u001b[0mzip\u001b[0m\u001b[0;34m(\u001b[0m\u001b[0mever_targeted\u001b[0m\u001b[0;34m,\u001b[0m \u001b[0msession\u001b[0m\u001b[0;34m.\u001b[0m\u001b[0ms1_bool\u001b[0m\u001b[0;34m)\u001b[0m\u001b[0;34m:\u001b[0m\u001b[0;34m\u001b[0m\u001b[0;34m\u001b[0m\u001b[0m\n\u001b[1;32m      5\u001b[0m     \u001b[0;32mif\u001b[0m \u001b[0mtarget\u001b[0m\u001b[0;34m:\u001b[0m\u001b[0;34m\u001b[0m\u001b[0;34m\u001b[0m\u001b[0m\n\u001b[0;32m----> 6\u001b[0;31m         \u001b[0;32massert\u001b[0m \u001b[0ms1\u001b[0m\u001b[0;34m\u001b[0m\u001b[0;34m\u001b[0m\u001b[0m\n\u001b[0m",
      "\u001b[0;31mAssertionError\u001b[0m: "
     ]
    }
   ],
   "source": [
    "# Was a cell targeted on any trial?A\n",
    "ever_targeted = np.any(is_target, axis=(1,2))\n",
    "# Check that all targets are in s1\n",
    "for target, s1 in zip(ever_targeted, session.s1_bool):\n",
    "    if target:\n",
    "        assert s1"
   ]
  },
  {
   "cell_type": "code",
   "execution_count": 60,
   "metadata": {},
   "outputs": [],
   "source": [
    "im = np.zeros((514,1024))\n",
    "for coord in cell_coords[ever_targeted, :]:\n",
    "    im[coord[0], coord[1]] = 1"
   ]
  },
  {
   "cell_type": "code",
   "execution_count": 61,
   "metadata": {},
   "outputs": [
    {
     "data": {
      "text/plain": [
       "<matplotlib.image.AxesImage at 0x7fe0b2213a50>"
      ]
     },
     "execution_count": 61,
     "metadata": {},
     "output_type": "execute_result"
    },
    {
     "data": {
      "image/png": "[encoded data removed]",
      "text/plain": [
       "<Figure size 720x720 with 1 Axes>"
      ]
     },
     "metadata": {},
     "output_type": "display_data"
    }
   ],
   "source": [
    "plt.figure(figsize=(10,10))\n",
    "plt.imshow(im)"
   ]
  },
  {
   "cell_type": "code",
   "execution_count": null,
   "metadata": {},
   "outputs": [],
   "source": []
  },
  {
   "cell_type": "code",
   "execution_count": null,
   "metadata": {},
   "outputs": [],
   "source": []
  },
  {
   "cell_type": "code",
   "execution_count": null,
   "metadata": {},
   "outputs": [],
   "source": []
  },
  {
   "cell_type": "markdown",
   "metadata": {},
   "source": [
    "## Plot to check coordinates are correct"
   ]
  },
  {
   "cell_type": "code",
   "execution_count": null,
   "metadata": {},
   "outputs": [],
   "source": [
    "# I think this is the non-transformed coordinates as the are also structure fields\n",
    "# e.g. offset_x\n",
    "x = mat['obj']['all_points']['X'] \n",
    "y = mat['obj']['all_points']['Y'] \n",
    "\n",
    "\n",
    "\n",
    "# x = mat['obj']['all_points']['X'] \n",
    "# y = mat['obj']['all_points']['Y'] "
   ]
  },
  {
   "cell_type": "code",
   "execution_count": null,
   "metadata": {},
   "outputs": [],
   "source": [
    "# naparm_path/Images has every image that was loaded in to naparm at the time, so will probably need manual\n",
    "# inspection to \n",
    "tiff_file = '2019-08-03_J048_t-001_20Stims_STA_dF_MaxResponseImage.tif'\n",
    "\n",
    "tiff_path = os.path.join(\n",
    "                os.path.expanduser('/home/jrowland/mnt/qnap/Data/2019-08-03/STA/2019-08-03_J048_t-001'),\n",
    "                tiff_file\n",
    "                )\n",
    "\n",
    "tiff = tf.imread(tiff_path)\n",
    "tiff = tiff[::2, ::2]\n",
    "\n",
    "tiff[y, x] = np.max(tiff)\n",
    "\n",
    "plt.figure(figsize=(20,20,))\n",
    "plt.imshow(tiff)\n",
    "plt.colorbar()"
   ]
  }
 ],
 "metadata": {
  "kernelspec": {
   "display_name": "Python 3",
   "language": "python",
   "name": "python3"
  },
  "language_info": {
   "codemirror_mode": {
    "name": "ipython",
    "version": 3
   },
   "file_extension": ".py",
   "mimetype": "text/x-python",
   "name": "python",
   "nbconvert_exporter": "python",
   "pygments_lexer": "ipython3",
   "version": "3.7.4"
  }
 },
 "nbformat": 4,
 "nbformat_minor": 4
}
