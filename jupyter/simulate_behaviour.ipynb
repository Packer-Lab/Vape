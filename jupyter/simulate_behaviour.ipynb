{
 "cells": [
  {
   "cell_type": "code",
   "execution_count": 44,
   "metadata": {},
   "outputs": [
    {
     "name": "stdout",
     "output_type": "stream",
     "text": [
      "The autoreload extension is already loaded. To reload it, use:\n",
      "  %reload_ext autoreload\n"
     ]
    }
   ],
   "source": [
    "# imports general modules, runs ipython magic commands\n",
    "# change path in this notebook to point to repo locally\n",
    "# n.b. sometimes need to run this cell twice to init the plotting paramters\n",
    "%run ./setup_notebook.ipynb"
   ]
  },
  {
   "cell_type": "code",
   "execution_count": 45,
   "metadata": {},
   "outputs": [],
   "source": [
    "import copy\n",
    "import utils.utils_funcs as uf"
   ]
  },
  {
   "cell_type": "code",
   "execution_count": 46,
   "metadata": {},
   "outputs": [],
   "source": [
    "def consec_check(lst, n_trials):\n",
    "    if len(lst) <= 3:\n",
    "        return True\n",
    "    if lst[-1] == n_trials-1 and lst[-2] == n_trials-2 and lst[-3]== n_trials-3:\n",
    "        return False\n",
    "    else:\n",
    "        return True"
   ]
  },
  {
   "cell_type": "code",
   "execution_count": 47,
   "metadata": {},
   "outputs": [],
   "source": [
    "def get_trial_idxs(n_trials_total):\n",
    "\n",
    "    easy_idx = []\n",
    "    nogo_idx = []\n",
    "    test_idx = []\n",
    "\n",
    "    n_trials = 0\n",
    "\n",
    "    while n_trials < n_trials_total:\n",
    "        n_trials += 1\n",
    "        ttype = np.random.choice(['easy', 'nogo', 'test_idx'])\n",
    "        if ttype == 'easy' and consec_check(easy_idx, n_trials):\n",
    "            easy_idx.append(n_trials)\n",
    "        elif ttype == 'nogo' and consec_check(nogo_idx, n_trials):\n",
    "            nogo_idx.append(n_trials)\n",
    "        elif ttype =='test_idx' and consec_check(test_idx, n_trials):\n",
    "            test_idx.append(n_trials)\n",
    "        else:\n",
    "            n_trials -= 1\n",
    "\n",
    "    return easy_idx, nogo_idx, test_idx"
   ]
  },
  {
   "cell_type": "code",
   "execution_count": 48,
   "metadata": {},
   "outputs": [],
   "source": [
    "def simulate_behaviour(window_size, hit_rate=0.5, fp_rate=0.5, dp_threshold=1, plot=False):  \n",
    "    \n",
    "    n_trials_total = 500\n",
    "    \n",
    "    easy_idx, nogo_idx, test_idx = get_trial_idxs(n_trials_total)\n",
    "\n",
    "    go_outcome = np.zeros(len(easy_idx))\n",
    "    n_hits = int(len(go_outcome) * hit_rate)\n",
    "    go_outcome[:n_hits] = 1\n",
    "    np.random.shuffle(go_outcome)\n",
    "\n",
    "    nogo_outcome = np.zeros(len(nogo_idx))\n",
    "    n_fp = int(len(nogo_outcome) * fp_rate)\n",
    "    nogo_outcome[:n_fp] = 1\n",
    "    np.random.shuffle(nogo_outcome)\n",
    "    running_go = np.convolve(go_outcome, np.ones(\n",
    "        (window_size,))/window_size, mode='same')\n",
    "    running_nogo = np.convolve(nogo_outcome, np.ones(\n",
    "        (window_size,))/window_size, mode='same')\n",
    "    \n",
    "        \n",
    "\n",
    "    running_go = np.interp(np.arange(n_trials_total), easy_idx, running_go)\n",
    "    running_nogo = np.interp(np.arange(n_trials_total), nogo_idx, running_nogo)\n",
    "    running_dp = np.array([uf.d_prime(go, fp) for go, fp in zip(running_go, running_nogo)])\n",
    "    if window_size == 3 and plot:\n",
    "        plt.plot(running_dp)\n",
    "\n",
    "    return len(np.where(running_dp > dp_threshold)[0]) / len(running_dp) * 100    "
   ]
  },
  {
   "cell_type": "code",
   "execution_count": 54,
   "metadata": {},
   "outputs": [],
   "source": [
    "window_sizes =  [3,5,10,15,20,25]\n",
    "dp_threshold = 2\n",
    "hit_rate = 0.5\n",
    "fp_rate = 0.5\n",
    "\n",
    "mean_pass = []\n",
    "std_pass = []\n",
    "n_repeats = 50\n",
    "for window_size in window_sizes:\n",
    "    \n",
    "    pass_per = [simulate_behaviour(window_size, hit_rate, fp_rate,\n",
    "                                   dp_threshold=dp_threshold) for repeat in range(n_repeats)]\n",
    "    \n",
    "    mean_pass.append(np.mean(pass_per))\n",
    "    std_pass.append(np.std(pass_per))\n",
    "        "
   ]
  },
  {
   "cell_type": "code",
   "execution_count": 55,
   "metadata": {},
   "outputs": [
    {
     "data": {
      "text/plain": [
       "Text(0.5, 0, 'Window Size')"
      ]
     },
     "execution_count": 55,
     "metadata": {},
     "output_type": "execute_result"
    },
    {
     "data": {
      "image/png": "[encoded data removed]",
      "text/plain": [
       "<Figure size 432x288 with 1 Axes>"
      ]
     },
     "metadata": {},
     "output_type": "display_data"
    }
   ],
   "source": [
    "plt.errorbar(window_sizes, mean_pass, yerr=std_pass)\n",
    "plt.title('Dprime threshold = {}'.format(dp_threshold))\n",
    "plt.ylim(0,max(mean_pass)+5)\n",
    "plt.ylabel('% of Trials\\nPassing Criteria')\n",
    "plt.xlabel('Window Size')"
   ]
  },
  {
   "cell_type": "code",
   "execution_count": null,
   "metadata": {},
   "outputs": [],
   "source": []
  }
 ],
 "metadata": {
  "kernelspec": {
   "display_name": "Python 3",
   "language": "python",
   "name": "python3"
  },
  "language_info": {
   "codemirror_mode": {
    "name": "ipython",
    "version": 3
   },
   "file_extension": ".py",
   "mimetype": "text/x-python",
   "name": "python",
   "nbconvert_exporter": "python",
   "pygments_lexer": "ipython3",
   "version": "3.7.4"
  }
 },
 "nbformat": 4,
 "nbformat_minor": 2
}
