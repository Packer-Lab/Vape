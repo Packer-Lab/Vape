{
 "cells": [
  {
   "cell_type": "code",
   "execution_count": 1,
   "metadata": {
    "collapsed": true
   },
   "outputs": [],
   "source": [
    "from tifffile import *\n",
    "import numpy as np\n",
    "import matplotlib.pyplot as plt\n",
    "from skimage.measure import label, regionprops, find_contours\n",
    "import time\n",
    "import cv2\n",
    "%matplotlib inline\n"
   ]
  },
  {
   "cell_type": "code",
   "execution_count": 2,
   "metadata": {},
   "outputs": [
    {
     "data": {
      "text/plain": [
       "(1942, 512, 512)"
      ]
     },
     "execution_count": 2,
     "metadata": {},
     "output_type": "execute_result"
    }
   ],
   "source": [
    "tiff_path = '/media/jamesrowland/DATA/plab/j031/4/2019-02-28_J031_t-004.tif'\n",
    "tiff = imread(tiff_path)\n",
    "tiff.shape"
   ]
  },
  {
   "cell_type": "code",
   "execution_count": 3,
   "metadata": {
    "collapsed": true
   },
   "outputs": [],
   "source": [
    "#stim occured from frame 60-68\n",
    "stim_start = 60\n",
    "stim_end = 68"
   ]
  },
  {
   "cell_type": "code",
   "execution_count": 4,
   "metadata": {
    "collapsed": true
   },
   "outputs": [],
   "source": [
    "def threshold(tiff, stim_start, sigma=4):\n",
    "    \n",
    "    '''\n",
    "    tiff: tiff stack \n",
    "    stim_start: frame on which the stimulus started\n",
    "    sigma: sigma value over which to threshold pixels\n",
    "\n",
    "    thresh: thresholded single frame\n",
    "    '''\n",
    "         \n",
    "    base_vals = tiff[stim_start-10:stim_start-2, :, :]\n",
    "    base_mean = np.mean(base_vals, 0)\n",
    "    base_std =  np.std(base_vals, 0)\n",
    "    thresh = base_mean + base_std*sigma\n",
    "    \n",
    "    return thresh "
   ]
  },
  {
   "cell_type": "code",
   "execution_count": 5,
   "metadata": {
    "collapsed": true
   },
   "outputs": [],
   "source": [
    "def region_widths(frame):\n",
    "    \n",
    "    '''\n",
    "    finds regions of connected pixels in a frame and their widths\n",
    "    returns:\n",
    "    labelled: array of frame dimensions with each pixels region labelled\n",
    "    widths: the width (x len) of each region\n",
    "    '''\n",
    "    \n",
    "    labelled, num_labels = label(frame, connectivity=1, return_num=True)\n",
    "    regions = regionprops(labelled)\n",
    "\n",
    "    widths = []\n",
    "\n",
    "    for props in regions:\n",
    "        coords = props['Coordinates']\n",
    "        width = max(coords[:,1]) - min(coords[:,1])\n",
    "        widths.append(width)\n",
    "        \n",
    "    widths = np.array(widths)  \n",
    "    \n",
    "    return labelled, widths      "
   ]
  },
  {
   "cell_type": "code",
   "execution_count": 6,
   "metadata": {
    "collapsed": true
   },
   "outputs": [],
   "source": [
    "def process_frame(frame_bin, frame, width_thresh):\n",
    "        \n",
    "    t1 = time.time()\n",
    "    \n",
    "    labelled, widths = region_widths(frame_bin)\n",
    "    \n",
    "    processed_frame = np.copy(frame)\n",
    "\n",
    "    for group in np.where(widths<width_thresh)[0]:\n",
    "        \n",
    "        if group==0:continue\n",
    "          \n",
    "        contam_x,contam_y = np.where(labelled==group)\n",
    "        \n",
    "        processed_frame[contam_x, contam_y] = 0\n",
    "     \n",
    "    imsave('prco.tiff', processed_frame.astype('int16'))\n",
    "\n",
    "    return processed_frame"
   ]
  },
  {
   "cell_type": "code",
   "execution_count": 7,
   "metadata": {
    "collapsed": true
   },
   "outputs": [],
   "source": [
    "def main(tiff, stim_start, stim_end, width_thresh=10):\n",
    "    \n",
    "    thresh = threshold(tiff, stim_start)\n",
    "    \n",
    "    for frame_idx in range(stim_start, stim_end):\n",
    "        \n",
    "        t1 = time.time()\n",
    "\n",
    "        frame = tiff[frame_idx, :, :]\n",
    "\n",
    "        frame_bin = np.greater(frame, thresh).astype('int')\n",
    "        processed_frame = process_frame(frame_bin, frame, width_thresh)\n",
    "\n",
    "        tiff[frame_idx, :, :] = processed_frame\n",
    "        \n",
    "        \n",
    "    return tiff"
   ]
  },
  {
   "cell_type": "code",
   "execution_count": 8,
   "metadata": {},
   "outputs": [
    {
     "data": {
      "text/plain": [
       "127.23767733573914"
      ]
     },
     "execution_count": 8,
     "metadata": {},
     "output_type": "execute_result"
    }
   ],
   "source": [
    "t1 = time.time()\n",
    "processed_tiff = main(tiff, stim_start, stim_end)\n",
    "t2 = time.time()\n",
    "t2-t1"
   ]
  },
  {
   "cell_type": "code",
   "execution_count": 9,
   "metadata": {
    "collapsed": true
   },
   "outputs": [],
   "source": [
    "imsave('original_stack.tiff', tiff[0:200,:,:])\n",
    "imsave('processed_stack.tiff', processed_tiff[0:200,:,:])"
   ]
  }
 ],
 "metadata": {
  "kernelspec": {
   "display_name": "Python 3",
   "language": "python",
   "name": "python3"
  },
  "language_info": {
   "codemirror_mode": {
    "name": "ipython",
    "version": 3
   },
   "file_extension": ".py",
   "mimetype": "text/x-python",
   "name": "python",
   "nbconvert_exporter": "python",
   "pygments_lexer": "ipython3",
   "version": "3.6.3"
  }
 },
 "nbformat": 4,
 "nbformat_minor": 2
}
