{
 "cells": [
  {
   "cell_type": "code",
   "execution_count": 1,
   "metadata": {
    "collapsed": true
   },
   "outputs": [],
   "source": [
    "from tifffile import *\n",
    "import numpy as np\n",
    "import matplotlib.pyplot as plt\n",
    "from skimage.measure import label, regionprops, find_contours\n",
    "import time\n",
    "import cv2\n",
    "%matplotlib inline\n"
   ]
  },
  {
   "cell_type": "code",
   "execution_count": 2,
   "metadata": {},
   "outputs": [
    {
     "data": {
      "text/plain": [
       "(1942, 512, 512)"
      ]
     },
     "execution_count": 2,
     "metadata": {},
     "output_type": "execute_result"
    }
   ],
   "source": [
    "tiff_path = '/media/jamesrowland/DATA/plab/j031/4/2019-02-28_J031_t-004.tif'\n",
    "tiff = imread(tiff_path)\n",
    "tiff.shape"
   ]
  },
  {
   "cell_type": "code",
   "execution_count": 3,
   "metadata": {
    "collapsed": true
   },
   "outputs": [],
   "source": [
    "#stim occured from frame 60-68\n",
    "stim_start = 0\n",
    "stim_end = 200"
   ]
  },
  {
   "cell_type": "code",
   "execution_count": 4,
   "metadata": {
    "collapsed": true
   },
   "outputs": [],
   "source": [
    "def find_threshold(tiff, stim_start, sigma=4):\n",
    "    \n",
    "    '''\n",
    "    tiff: tiff stack \n",
    "    stim_start: frame on which the stimulus started\n",
    "    sigma: sigma value over which to threshold pixels\n",
    "\n",
    "    thresh: thresholded single frame\n",
    "    '''\n",
    "         \n",
    "    base_vals = tiff[stim_start-10:stim_start-2, :, :]\n",
    "    base_mean = np.mean(base_vals, 0)\n",
    "    base_std =  np.std(base_vals, 0)\n",
    "    thresh = base_mean + base_std*sigma\n",
    "    \n",
    "    return thresh "
   ]
  },
  {
   "cell_type": "code",
   "execution_count": 5,
   "metadata": {
    "collapsed": true
   },
   "outputs": [],
   "source": [
    "def binarise_frame(frame, thresh):\n",
    "    \n",
    "    '''binarises frame, where all pixels > thresh = 1'''\n",
    "    \n",
    "    assert frame.shape == thresh.shape\n",
    "    \n",
    "    return np.greater(frame, thresh).astype('int')"
   ]
  },
  {
   "cell_type": "code",
   "execution_count": 6,
   "metadata": {
    "collapsed": true
   },
   "outputs": [],
   "source": [
    "def process_frame(frame, frame_bin, width_thresh=10):\n",
    "    \n",
    "    '''\n",
    "    finds regions of connected pixels in a frame and their widths\n",
    "    returns:\n",
    "    labelled: array of frame dimensions with each pixels region labelled\n",
    "    widths: the width (x len) of each region\n",
    "    '''\n",
    "    #find regions of pixel connectivity\n",
    "    labelled, num_labels = label(frame_bin, connectivity=1, return_num=True)\n",
    "    \n",
    "    # the properties of connected regions\n",
    "    regions = regionprops(labelled)\n",
    "\n",
    "    for i,props in enumerate(regions):\n",
    "        \n",
    "        #if i==0:continue\n",
    "        \n",
    "        coords = props['Coordinates']\n",
    "        \n",
    "        rows = coords[:,0]\n",
    "        cols = coords[:,1]\n",
    "        \n",
    "        width_rows = max(rows) - min(rows)\n",
    "        width_cols = max(cols) - min(cols)\n",
    "        \n",
    "        width = (width_rows if width_rows<width_cols else width_cols)\n",
    "        \n",
    "        # the width of the labelled region is thin or it is very asymmetrical\n",
    "        if width < width_thresh or props['major_axis_length'] / props['minor_axis_length'] > 2:\n",
    "            \n",
    "            frame[rows, cols] = 0\n",
    "            \n",
    "            #useful for debugging\n",
    "            #labelled[rows, cols] = 0\n",
    "        else:\n",
    "            pass\n",
    "            #labelled[rows, cols] = width\n",
    "\n",
    "    \n",
    "    return frame    "
   ]
  },
  {
   "cell_type": "code",
   "execution_count": 7,
   "metadata": {
    "collapsed": true
   },
   "outputs": [],
   "source": [
    "def main(tiff, stim_start, stim_end, width_thresh=10):\n",
    "    \n",
    "    thresh = find_threshold(tiff, stim_start)\n",
    "    \n",
    "    for frame_idx in range(stim_start, stim_end):\n",
    "\n",
    "        frame = tiff[frame_idx, :, :]\n",
    "\n",
    "        frame_bin = binarise_frame(frame, thresh)\n",
    "        \n",
    "        processed_frame = process_frame(frame, frame_bin, width_thresh)\n",
    "\n",
    "        tiff[frame_idx, :, :] = processed_frame\n",
    "\n",
    "\n",
    "    \n",
    "    return tiff"
   ]
  },
  {
   "cell_type": "code",
   "execution_count": 8,
   "metadata": {},
   "outputs": [
    {
     "data": {
      "text/plain": [
       "269.7435395717621"
      ]
     },
     "execution_count": 8,
     "metadata": {},
     "output_type": "execute_result"
    }
   ],
   "source": [
    "t1 = time.time()\n",
    "processed_tiff = main(tiff, stim_start, tiff.shape[0])\n",
    "t2 = time.time()\n",
    "t2-t1"
   ]
  },
  {
   "cell_type": "code",
   "execution_count": 11,
   "metadata": {},
   "outputs": [
    {
     "data": {
      "text/plain": [
       "4.495725659529368"
      ]
     },
     "execution_count": 11,
     "metadata": {},
     "output_type": "execute_result"
    }
   ],
   "source": [
    "(t2-t1) / 60"
   ]
  },
  {
   "cell_type": "code",
   "execution_count": 12,
   "metadata": {
    "collapsed": true
   },
   "outputs": [],
   "source": [
    "imsave('original_stack.tiff', tiff[0:200,:,:])\n",
    "imsave('processed_stack.tiff', processed_tiff)"
   ]
  }
 ],
 "metadata": {
  "kernelspec": {
   "display_name": "Python 3",
   "language": "python",
   "name": "python3"
  },
  "language_info": {
   "codemirror_mode": {
    "name": "ipython",
    "version": 3
   },
   "file_extension": ".py",
   "mimetype": "text/x-python",
   "name": "python",
   "nbconvert_exporter": "python",
   "pygments_lexer": "ipython3",
   "version": "3.6.3"
  }
 },
 "nbformat": 4,
 "nbformat_minor": 2
}
