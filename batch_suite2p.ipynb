{
 "cells": [
  {
   "cell_type": "code",
   "execution_count": 1,
   "metadata": {},
   "outputs": [
    {
     "name": "stderr",
     "output_type": "stream",
     "text": [
      "/home/jamesrowland/anaconda3/lib/python3.6/site-packages/h5py/__init__.py:34: FutureWarning: Conversion of the second argument of issubdtype from `float` to `np.floating` is deprecated. In future, it will be treated as `np.float64 == np.dtype(float).type`.\n",
      "  from ._conv import register_converters as _register_converters\n"
     ]
    }
   ],
   "source": [
    "import suite2p\n",
    "from suite2p.run_s2p import run_s2p\n",
    "from settings import ops\n",
    "from utils import *"
   ]
  },
  {
   "cell_type": "code",
   "execution_count": 4,
   "metadata": {
    "collapsed": true
   },
   "outputs": [],
   "source": [
    "#set paths to tiff here, any settings set here will overwrite ops settings, meaning we can set\n",
    "#different cell sizes with different zooms here.\n",
    "#JR added parameter has_stim = whether to remove phptostim artifact\n",
    "\n",
    "\n",
    "#important: data paths must be lists even if only one element\n",
    "\n",
    "\n",
    "#in the future this should be made to read a google spreadsheet or similar with experiment\n",
    "#metadata\n",
    "\n",
    "\n",
    "db = []\n",
    "\n",
    "#gave excellent results in suite2p though movie stutters around time of artefact removal\n",
    "# db.append({'data_path' : ['/home/jamesrowland/Desktop/j031/4'],\n",
    "#            'diameter'  : 18,   \n",
    "#            'has_stim'  : True\n",
    "#            })\n",
    "\n",
    "\n",
    "# ## this gave decent suite2p results, some banding but majority of cells found\n",
    "# db.append({'data_path' : ['/home/jamesrowland/Desktop/j031/6'], \n",
    "#            'diameter'  : 12, \n",
    "#            'has_stim'  : True\n",
    "#            })\n",
    "\n",
    "\n",
    "#s2 imaging session\n",
    "db.append({'data_path' : ['/home/jamesrowland/Desktop/s2'], \n",
    "           'diameter'  : 14, \n",
    "           'has_stim'  : False\n",
    "           })\n",
    "\n",
    "\n",
    "\n",
    "\n",
    "\n",
    "\n",
    "\n",
    "\n",
    "\n",
    "\n",
    "\n"
   ]
  },
  {
   "cell_type": "code",
   "execution_count": 5,
   "metadata": {},
   "outputs": [
    {
     "name": "stdout",
     "output_type": "stream",
     "text": [
      "Found 1 tifs\n",
      "time 2.4159. Wrote tifs to binaries for 1 planes\n",
      "/home/jamesrowland/Desktop/s2/suite2p/plane0/data_raw.bin\n",
      "computed reference frame for registration\n",
      "registered 1000/1942 frames in time 28.04\n",
      "registered 1942/1942 frames in time 52.91\n",
      "computed registration metrics in time 97.72\n",
      "time 143.7411. Registration complete for 1 planes\n",
      "[14 14]\n",
      "nt0=38\n",
      "(51, 506, 507)\n",
      "6.0\n",
      "here\n",
      "ROIs: 93, cost: 0.1151, time: 65.5689\n",
      "ROIs: 136, cost: 0.0883, time: 74.3765\n",
      "ROIs: 137, cost: 0.0862, time: 78.7433\n",
      "nt0=38\n",
      "(51, 506, 507)\n",
      "ROIs: 137, cost: 0.2707, time: 80.5208\n",
      "removed 4 overlapping ROIs\n",
      "ROIs: 133, cost: 0.2775, time: 87.4576\n",
      "ROIs: 133, cost: 0.2815, time: 103.3757\n",
      "time 132.2233. Found 133 ROIs\n",
      "extracted 0/1942 frames in 0.99 sec\n",
      "extracted 1942/1942 frames in 1.97 sec\n",
      "time 138.0615. Extracted fluorescence from 133 ROIs\n",
      "results saved to /home/jamesrowland/Desktop/s2/suite2p/plane0\n",
      "time 299.1053. Detected spikes in 133 ROIs\n",
      "/home/jamesrowland/anaconda3/lib/python3.6/site-packages/suite2p/classifiers/classifier_user.npy\n",
      "finished all tasks in total time 299.9172 sec\n"
     ]
    }
   ],
   "source": [
    "for dbi in db:\n",
    "    if dbi['has_stim']:\n",
    "        dbi = interpolate_through_stim(db=dbi,threshold=1.3)\n",
    "    opsEnd=run_s2p(ops=ops,db=dbi)"
   ]
  },
  {
   "cell_type": "code",
   "execution_count": 8,
   "metadata": {
    "collapsed": true
   },
   "outputs": [],
   "source": [
    "#use this cell to test artifcat removal through insepction of traces\n",
    "\n",
    "db = []\n",
    "\n",
    "#results still decent without artefact removal\n",
    "db.append({'data_path' : ['/home/jamesrowland/Desktop/j031/4'],\n",
    "           'diameter'  : 18,   \n",
    "           'has_stim'  : False\n",
    "           })\n",
    "\n",
    "#results pretty good without arefact removal\n",
    "db.append({'data_path' : ['/home/jamesrowland/Desktop/j031/6'], \n",
    "           'diameter'  : 12, \n",
    "           'has_stim'  : False\n",
    "           })"
   ]
  },
  {
   "cell_type": "code",
   "execution_count": 9,
   "metadata": {},
   "outputs": [
    {
     "name": "stdout",
     "output_type": "stream",
     "text": [
      "Found 1 tifs\n",
      "time 2.7819. Wrote tifs to binaries for 1 planes\n",
      "/home/jamesrowland/Desktop/j031/4/suite2p/plane0/data_raw.bin\n",
      "computed reference frame for registration\n",
      "registered 1000/1942 frames in time 26.42\n",
      "registered 1942/1942 frames in time 51.34\n",
      "computed registration metrics in time 133.42\n",
      "time 179.8914. Registration complete for 1 planes\n",
      "[18 18]\n",
      "nt0=38\n",
      "(51, 508, 509)\n",
      "6.0\n",
      "here\n",
      "ROIs: 143, cost: 0.0401, time: 28.5431\n",
      "ROIs: 194, cost: 0.0345, time: 35.9183\n",
      "ROIs: 199, cost: 0.0335, time: 39.2065\n",
      "nt0=38\n",
      "(51, 508, 509)\n",
      "ROIs: 199, cost: 0.0931, time: 40.9820\n",
      "removed 4 overlapping ROIs\n",
      "ROIs: 195, cost: 0.0857, time: 46.3253\n",
      "ROIs: 195, cost: 0.0871, time: 52.7549\n",
      "time 73.3679. Found 195 ROIs\n",
      "extracted 0/1942 frames in 1.06 sec\n",
      "extracted 1942/1942 frames in 2.17 sec\n",
      "time 80.1765. Extracted fluorescence from 195 ROIs\n",
      "results saved to /home/jamesrowland/Desktop/j031/4/suite2p/plane0\n",
      "time 283.5256. Detected spikes in 195 ROIs\n",
      "/home/jamesrowland/anaconda3/lib/python3.6/site-packages/suite2p/classifiers/classifier_user.npy\n",
      "finished all tasks in total time 284.3207 sec\n",
      "/home/jamesrowland/Desktop/j031/6/suite2p/plane0\n",
      "found ops1 and binaries\n",
      "/home/jamesrowland/Desktop/j031/6/suite2p/plane0/data.bin\n",
      "/home/jamesrowland/Desktop/j031/6/suite2p/plane0/data_raw.bin\n",
      "computed reference frame for registration\n",
      "registered 1000/4631 frames in time 26.46\n",
      "registered 2000/4631 frames in time 53.38\n",
      "registered 3000/4631 frames in time 80.51\n",
      "registered 4000/4631 frames in time 107.00\n",
      "computed registration metrics in time 190.21\n",
      "time 252.0511. Registration complete for 1 planes\n",
      "[12 12]\n",
      "nt0=38\n",
      "(121, 507, 508)\n",
      "6.0\n",
      "here\n",
      "ROIs: 200, cost: 0.1633, time: 13.3154\n",
      "ROIs: 400, cost: 0.1422, time: 18.9724\n",
      "ROIs: 526, cost: 0.1357, time: 22.9667\n",
      "ROIs: 556, cost: 0.1339, time: 25.4216\n",
      "ROIs: 561, cost: 0.1335, time: 27.3652\n",
      "nt0=38\n",
      "(121, 507, 508)\n",
      "ROIs: 561, cost: 0.3586, time: 31.0075\n",
      "removed 20 overlapping ROIs\n",
      "ROIs: 541, cost: 0.3505, time: 34.7624\n",
      "ROIs: 541, cost: 0.3529, time: 36.8079\n",
      "time 46.8857. Found 541 ROIs\n",
      "extracted 0/4631 frames in 1.91 sec\n",
      "extracted 4631/4631 frames in 8.94 sec\n",
      "time 63.7872. Extracted fluorescence from 541 ROIs\n",
      "results saved to /home/jamesrowland/Desktop/j031/6/suite2p/plane0\n",
      "time 332.6890. Detected spikes in 541 ROIs\n",
      "/home/jamesrowland/anaconda3/lib/python3.6/site-packages/suite2p/classifiers/classifier_user.npy\n",
      "finished all tasks in total time 333.5571 sec\n"
     ]
    }
   ],
   "source": [
    "for dbi in db:\n",
    "    if dbi['has_stim']:\n",
    "        dbi = interpolate_through_stim(db=dbi,threshold=1.3)\n",
    "    opsEnd=run_s2p(ops=ops,db=dbi)"
   ]
  }
 ],
 "metadata": {
  "kernelspec": {
   "display_name": "Python 3",
   "language": "python",
   "name": "python3"
  },
  "language_info": {
   "codemirror_mode": {
    "name": "ipython",
    "version": 3
   },
   "file_extension": ".py",
   "mimetype": "text/x-python",
   "name": "python",
   "nbconvert_exporter": "python",
   "pygments_lexer": "ipython3",
   "version": "3.6.3"
  }
 },
 "nbformat": 4,
 "nbformat_minor": 2
}
