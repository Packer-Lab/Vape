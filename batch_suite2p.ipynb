{
 "cells": [
  {
   "cell_type": "code",
   "execution_count": 4,
   "metadata": {},
   "outputs": [],
   "source": [
    "import suite2p\n",
    "from suite2p.run_s2p import run_s2p\n",
    "from settings import ops\n",
    "from utils import *\n",
    "import time"
   ]
  },
  {
   "cell_type": "code",
   "execution_count": 5,
   "metadata": {
    "collapsed": true
   },
   "outputs": [],
   "source": [
    "#set paths to tiff here, any settings set here will overwrite ops settings, meaning we can set\n",
    "#different cell sizes with different zooms here.\n",
    "#JR added parameter has_stim = whether to remove phptostim artifact\n",
    "\n",
    "\n",
    "#important: data paths must be lists even if only one element\n",
    "\n",
    "\n",
    "#in the future this should be made to read a google spreadsheet or similar with experiment\n",
    "#metadata\n",
    "\n",
    "\n",
    "db = []\n",
    "\n",
    "#gave excellent results in suite2p though movie stutters around time of artefact removal\n",
    "# db.append({'data_path' : ['/home/jamesrowland/Desktop/j031/4'],\n",
    "#            'diameter'  : 18,   \n",
    "#            'has_stim'  : True\n",
    "#            })\n",
    "\n",
    "\n",
    "# ## this gave decent suite2p results, some banding but majority of cells found\n",
    "# db.append({'data_path' : ['/home/jamesrowland/Desktop/j031/6'], \n",
    "#            'diameter'  : 12, \n",
    "#            'has_stim'  : True\n",
    "#            })\n",
    "\n",
    "\n",
    "# #s2 100 shotsimaging session\n",
    "# db.append({'data_path' : ['/media/jamesrowland/DATA/plab/s2_100_shots'], \n",
    "#            'diameter'  : 12, \n",
    "#            'has_stim'  : True\n",
    "#            })\n",
    "time.sleep(120)\n",
    "#s2 100 shots take 2\n",
    "db.append({'data_path' : ['/media/jamesrowland/DATA/plab/2019-02-19_RL025_S2imS1stim'], \n",
    "           'diameter'  : 12, \n",
    "           'has_stim'  : True\n",
    "           })\n",
    "\n",
    "# #spontaneous activity imaging\n",
    "# db.append({'data_path' : ['/media/jamesrowland/DATA/plab/spont/4'], \n",
    "#            'diameter'  : 12, \n",
    "#            'has_stim'  : False\n",
    "#            })\n",
    "\n",
    "\n",
    "\n",
    "\n"
   ]
  },
  {
   "cell_type": "code",
   "execution_count": 7,
   "metadata": {},
   "outputs": [
    {
     "name": "stdout",
     "output_type": "stream",
     "text": [
      "calculating frames to remove\n",
      "setting stim frames to 0\n",
      "updating db to link to stim removed tiff\n",
      "saving tiff\n",
      "Found 1 tifs\n"
     ]
    },
    {
     "name": "stderr",
     "output_type": "stream",
     "text": [
      "/home/jamesrowland/anaconda3/lib/python3.6/site-packages/skimage/external/tifffile/tifffile.py:1635: UserWarning: can not reshape (2000, 512, 512) to (31368, 512, 512)\n",
      "  warnings.warn(str(e))\n"
     ]
    },
    {
     "name": "stdout",
     "output_type": "stream",
     "text": [
      "time 119.2138. Wrote tifs to binaries for 1 planes\n",
      "/home/jamesrowland/Documents/suite2p_binaries/suite2p/plane0/data_raw.bin\n"
     ]
    },
    {
     "name": "stderr",
     "output_type": "stream",
     "text": [
      "/home/jamesrowland/anaconda3/lib/python3.6/site-packages/suite2p/register.py:305: RuntimeWarning: invalid value encountered in true_divide\n",
      "  cc = cc / np.outer(ndiag, ndiag)\n",
      "/home/jamesrowland/anaconda3/lib/python3.6/site-packages/suite2p/register.py:120: RuntimeWarning: invalid value encountered in true_divide\n",
      "  snr = X1max / Xmax # computes snr\n",
      "/home/jamesrowland/anaconda3/lib/python3.6/site-packages/suite2p/register.py:120: RuntimeWarning: invalid value encountered in true_divide\n",
      "  snr = X1max / Xmax # computes snr\n",
      "/home/jamesrowland/anaconda3/lib/python3.6/site-packages/suite2p/register.py:120: RuntimeWarning: invalid value encountered in true_divide\n",
      "  snr = X1max / Xmax # computes snr\n",
      "/home/jamesrowland/anaconda3/lib/python3.6/site-packages/suite2p/register.py:120: RuntimeWarning: invalid value encountered in true_divide\n",
      "  snr = X1max / Xmax # computes snr\n"
     ]
    },
    {
     "name": "stdout",
     "output_type": "stream",
     "text": [
      "computed reference frame for registration\n",
      "registered 1000/31368 frames in time 26.94\n",
      "registered 2000/31368 frames in time 53.60\n",
      "registered 3000/31368 frames in time 80.42\n",
      "registered 4000/31368 frames in time 107.48\n",
      "registered 5000/31368 frames in time 134.51\n",
      "registered 6000/31368 frames in time 161.78\n",
      "registered 7000/31368 frames in time 188.12\n",
      "registered 8000/31368 frames in time 214.61\n",
      "registered 9000/31368 frames in time 241.34\n",
      "registered 10000/31368 frames in time 267.81\n",
      "registered 11000/31368 frames in time 294.05\n",
      "registered 12000/31368 frames in time 320.40\n",
      "registered 13000/31368 frames in time 346.53\n",
      "registered 14000/31368 frames in time 373.31\n",
      "registered 15000/31368 frames in time 399.72\n",
      "registered 16000/31368 frames in time 426.13\n",
      "registered 17000/31368 frames in time 452.48\n",
      "registered 18000/31368 frames in time 478.75\n",
      "registered 19000/31368 frames in time 505.37\n",
      "registered 20000/31368 frames in time 531.86\n",
      "registered 21000/31368 frames in time 558.68\n",
      "registered 22000/31368 frames in time 585.34\n",
      "registered 23000/31368 frames in time 611.97\n",
      "registered 24000/31368 frames in time 638.46\n",
      "registered 25000/31368 frames in time 665.23\n",
      "registered 26000/31368 frames in time 691.84\n",
      "registered 27000/31368 frames in time 718.80\n",
      "registered 28000/31368 frames in time 745.75\n",
      "registered 29000/31368 frames in time 772.89\n",
      "registered 30000/31368 frames in time 799.54\n",
      "registered 31000/31368 frames in time 825.71\n",
      "computed registration metrics in time 940.68\n",
      "time 1196.2887. Registration complete for 1 planes\n",
      "[12 12]\n",
      "nt0=38\n",
      "(825, 485, 480)\n",
      "6.0\n",
      "here\n",
      "ROIs: 200, cost: 0.2023, time: 31.5946\n",
      "ROIs: 400, cost: 0.1859, time: 41.1293\n",
      "ROIs: 512, cost: 0.1807, time: 47.2942\n",
      "ROIs: 534, cost: 0.1797, time: 52.1897\n",
      "ROIs: 539, cost: 0.1794, time: 56.6746\n",
      "nt0=38\n",
      "(825, 485, 480)\n",
      "ROIs: 539, cost: 0.3619, time: 78.4874\n",
      "removed 13 overlapping ROIs\n",
      "ROIs: 526, cost: 0.3504, time: 84.0854\n",
      "ROIs: 526, cost: 0.3499, time: 87.3475\n",
      "time 97.9717. Found 526 ROIs\n",
      "extracted 0/31368 frames in 1.88 sec\n",
      "extracted 5000/31368 frames in 11.37 sec\n",
      "extracted 10000/31368 frames in 20.85 sec\n",
      "extracted 15000/31368 frames in 30.34 sec\n",
      "extracted 20000/31368 frames in 39.85 sec\n",
      "extracted 25000/31368 frames in 49.37 sec\n",
      "extracted 30000/31368 frames in 58.90 sec\n",
      "extracted 31368/31368 frames in 59.68 sec\n",
      "time 165.2291. Extracted fluorescence from 526 ROIs\n",
      "results saved to /media/jamesrowland/DATA/plab/2019-02-19_RL025_S2imS1stim/artifactRemoved/suite2p/plane0\n",
      "time 1396.2427. Detected spikes in 526 ROIs\n",
      "/home/jamesrowland/anaconda3/lib/python3.6/site-packages/suite2p/classifiers/classifier_user.npy\n",
      "finished all tasks in total time 1399.6482 sec\n"
     ]
    },
    {
     "data": {
      "text/plain": [
       "1628.7142231464386"
      ]
     },
     "execution_count": 7,
     "metadata": {},
     "output_type": "execute_result"
    }
   ],
   "source": [
    "t1 = time.time()\n",
    "for dbi in db:\n",
    "    if dbi['has_stim']:\n",
    "        dbi = process_stim_artefact(db=dbi,threshold=1.3, interpolate=False)\n",
    "    opsEnd=run_s2p(ops=ops,db=dbi)\n",
    "    \n",
    "t2 = time.time()\n",
    "t2 - t1"
   ]
  },
  {
   "cell_type": "code",
   "execution_count": 4,
   "metadata": {},
   "outputs": [
    {
     "ename": "ZeroDivisionError",
     "evalue": "division by zero",
     "output_type": "error",
     "traceback": [
      "\u001b[0;31m---------------------------------------------------------------------------\u001b[0m",
      "\u001b[0;31mZeroDivisionError\u001b[0m                         Traceback (most recent call last)",
      "\u001b[0;32m<ipython-input-4-79f469d4830b>\u001b[0m in \u001b[0;36m<module>\u001b[0;34m()\u001b[0m\n\u001b[0;32m----> 1\u001b[0;31m \u001b[0;36m1\u001b[0m\u001b[0;34m/\u001b[0m\u001b[0;36m0\u001b[0m\u001b[0;34m\u001b[0m\u001b[0m\n\u001b[0m\u001b[1;32m      2\u001b[0m \u001b[0;31m# took 1965 seconds when all D drive\u001b[0m\u001b[0;34m\u001b[0m\u001b[0;34m\u001b[0m\u001b[0m\n\u001b[1;32m      3\u001b[0m \u001b[0;31m# took 1834 seconds when binary to SSD\u001b[0m\u001b[0;34m\u001b[0m\u001b[0;34m\u001b[0m\u001b[0m\n",
      "\u001b[0;31mZeroDivisionError\u001b[0m: division by zero"
     ]
    }
   ],
   "source": [
    "1/0\n",
    "# took 1965 seconds when all D drive\n",
    "# took 1834 seconds when binary to SSD"
   ]
  },
  {
   "cell_type": "code",
   "execution_count": null,
   "metadata": {
    "collapsed": true
   },
   "outputs": [],
   "source": [
    "t1 = time.time()\n",
    "for dbi in db:\n",
    "    if dbi['has_stim']:\n",
    "        dbi = interpolate_through_stim(db=dbi,threshold=1.3)\n",
    "    opsEnd=run_s2p(ops=ops,db=dbi)\n",
    "    \n",
    "t2 = time.time()\n",
    "t2 - t1"
   ]
  },
  {
   "cell_type": "code",
   "execution_count": null,
   "metadata": {
    "collapsed": true
   },
   "outputs": [],
   "source": [
    "1/"
   ]
  },
  {
   "cell_type": "code",
   "execution_count": null,
   "metadata": {
    "collapsed": true
   },
   "outputs": [],
   "source": [
    "#use this cell to test artifcat removal through insepction of traces\n",
    "\n",
    "db = []\n",
    "\n",
    "#results still decent without artefact removal\n",
    "db.append({'data_path' : ['/home/jamesrowland/Desktop/j031/4'],\n",
    "           'diameter'  : 18,   \n",
    "           'has_stim'  : False\n",
    "           })\n",
    "\n",
    "#results pretty good without arefact removal\n",
    "db.append({'data_path' : ['/home/jamesrowland/Desktop/j031/6'], \n",
    "           'diameter'  : 12, \n",
    "           'has_stim'  : False\n",
    "           })"
   ]
  },
  {
   "cell_type": "code",
   "execution_count": null,
   "metadata": {
    "collapsed": true
   },
   "outputs": [],
   "source": [
    "for dbi in db:\n",
    "    if dbi['has_stim']:\n",
    "        dbi = interpolate_through_stim(db=dbi,threshold=1.3)\n",
    "    opsEnd=run_s2p(ops=ops,db=dbi)"
   ]
  }
 ],
 "metadata": {
  "kernelspec": {
   "display_name": "Python 3",
   "language": "python",
   "name": "python3"
  },
  "language_info": {
   "codemirror_mode": {
    "name": "ipython",
    "version": 3
   },
   "file_extension": ".py",
   "mimetype": "text/x-python",
   "name": "python",
   "nbconvert_exporter": "python",
   "pygments_lexer": "ipython3",
   "version": "3.6.3"
  }
 },
 "nbformat": 4,
 "nbformat_minor": 2
}
