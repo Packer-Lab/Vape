{
 "cells": [
  {
   "cell_type": "code",
   "execution_count": 1,
   "metadata": {
    "collapsed": true
   },
   "outputs": [],
   "source": [
    "import numpy as np\n",
    "import tifffile as tf\n",
    "import ntpath\n",
    "import os\n",
    "import matplotlib.pyplot as plt\n",
    "import sys\n",
    "import time\n",
    "import math\n",
    "from paq2py import *\n",
    "from parse_markpoints import ParseMarkpoints\n",
    "from utils import *\n",
    "import seaborn as sns\n",
    "from random import randint\n",
    "from scipy import stats\n",
    "import csv\n",
    "\n",
    "params = {'legend.fontsize': 'x-large',\n",
    "         'axes.labelsize': 'x-large',\n",
    "         'axes.titlesize':'x-large',\n",
    "         'xtick.labelsize':'x-large',\n",
    "         'ytick.labelsize':'x-large'}\n",
    "plt.rcParams.update(params)\n",
    "\n",
    "%matplotlib inline"
   ]
  },
  {
   "cell_type": "code",
   "execution_count": 2,
   "metadata": {
    "collapsed": true
   },
   "outputs": [],
   "source": [
    "paq_path = r'/media/jamesrowland/DATA/plab/s2_100_shots/2019-03-12_RL025_t_007.paq'\n",
    "s2p_path = r'/media/jamesrowland/DATA/plab/s2_100_shots/artifactRemoved/suite2p'\n",
    "naparm_path = r'/media/jamesrowland/DATA/plab/s2_100_shots/2019-03-12_RL025_NAPARM_006'\n",
    "csv_path = '/media/jamesrowland/DATA/plab/s2_100_shots/sigCellRaw.csv'"
   ]
  },
  {
   "cell_type": "code",
   "execution_count": 3,
   "metadata": {},
   "outputs": [
    {
     "data": {
      "text/plain": [
       "(264, 30770)"
      ]
     },
     "execution_count": 3,
     "metadata": {},
     "output_type": "execute_result"
    }
   ],
   "source": [
    "paq = paq_read(paq_path)\n",
    "raw, stat = s2p_loader(s2p_path, subtract_neuropil=True)\n",
    "arr = dfof(raw)\n",
    "num_units = arr.shape[0]\n",
    "\n",
    "arr.shape\n",
    "\n",
    "# raw = read_fiji(csv_path)\n",
    "# #help with enumeration\n",
    "# arr = np.vstack([raw]*3)\n",
    "# num_units = 264\n",
    "# arr = dfof(arr)\n",
    "# arr = np.squeeze(arr)\n",
    "# arr.shape"
   ]
  },
  {
   "cell_type": "code",
   "execution_count": 4,
   "metadata": {
    "collapsed": true
   },
   "outputs": [],
   "source": [
    "xml_path = next(os.path.join(naparm_path, file) for file in os.listdir(naparm_path) if file.endswith('.xml'))\n",
    "gpl_path = next(os.path.join(naparm_path, file) for file in os.listdir(naparm_path) if file.endswith('.gpl'))"
   ]
  },
  {
   "cell_type": "code",
   "execution_count": 5,
   "metadata": {
    "collapsed": true
   },
   "outputs": [],
   "source": [
    "clock_idx = paq['chan_names'].index('frame_clock')\n",
    "clock_voltage = paq['data'][clock_idx, :]\n",
    "\n",
    "#digitise frame clock, two clocks should not occur less than 10ms apart or more than 100ms apart\n",
    "frame_clock = digitise_trigger(clock_voltage, min_time = 0.01*paq['rate'], max_time = 0.1*paq['rate'])\n"
   ]
  },
  {
   "cell_type": "code",
   "execution_count": 6,
   "metadata": {},
   "outputs": [
    {
     "data": {
      "image/png": "[encoded data removed]",
      "text/plain": [
       "<Figure size 432x288 with 1 Axes>"
      ]
     },
     "metadata": {},
     "output_type": "display_data"
    },
    {
     "data": {
      "text/plain": [
       "100"
      ]
     },
     "execution_count": 6,
     "metadata": {},
     "output_type": "execute_result"
    }
   ],
   "source": [
    "m2p_idx = paq['chan_names'].index('markpoints2packio')\n",
    "m2p_volts = paq['data'][m2p_idx, :]\n",
    "\n",
    "#stims should not occur within 1ms of each other\n",
    "stim_times = digitise_trigger(m2p_volts, min_time = 0.001*paq['rate'])\n",
    "\n",
    "markpoints = ParseMarkpoints(xml_path=xml_path, gpl_path=gpl_path)\n",
    "assert len(stim_times) == int(markpoints.iterations)\n",
    "\n",
    "plt.figure()\n",
    "plt.plot(m2p_volts)\n",
    "plt.show()\n",
    "len(stim_times)"
   ]
  },
  {
   "cell_type": "code",
   "execution_count": 7,
   "metadata": {},
   "outputs": [
    {
     "data": {
      "text/plain": [
       "60"
      ]
     },
     "execution_count": 7,
     "metadata": {},
     "output_type": "execute_result"
    }
   ],
   "source": [
    "# assume all group durations the same\n",
    "single_duration = float(markpoints.durations[0]) #ms\n",
    "repetitions = float(markpoints.repetitions[0])\n",
    "n_groups = len(markpoints.durations)\n",
    "duration_ms = single_duration * repetitions * n_groups\n",
    "\n",
    "#correct this based on txt file\n",
    "duration_ms = 1200\n",
    "\n",
    "duration_samples = (duration_ms / 1000) * paq['rate']\n",
    "\n",
    "single_duration\n",
    "n_groups"
   ]
  },
  {
   "cell_type": "code",
   "execution_count": 8,
   "metadata": {
    "collapsed": true
   },
   "outputs": [],
   "source": [
    "#use this to remove frames during stim based on paq\n",
    "to_remove = []\n",
    "\n",
    "for stim in stim_times:\n",
    "\n",
    "    #the sample time of the frame immediately preceeding stim\n",
    "    stim_start_frame = next(frame_clock[i-1] for i,sample in enumerate(frame_clock) if sample - stim > 0)\n",
    "\n",
    "    # frame indexes that fall during the stim\n",
    "    in_stim = np.where((frame_clock >= stim_start_frame) & (frame_clock <= stim + duration_samples))[0]\n",
    "    \n",
    "    in_stim = np.append(in_stim, in_stim[-1] + 1)\n",
    "    in_stim = np.append(in_stim, in_stim[-1] + 1)\n",
    "    \n",
    "    [to_remove.append(f) for f in in_stim]\n",
    "    \n",
    "arr[:, to_remove] = np.nan\n"
   ]
  },
  {
   "cell_type": "code",
   "execution_count": 9,
   "metadata": {
    "collapsed": true
   },
   "outputs": [],
   "source": [
    "stim_start_frames = []\n",
    "\n",
    "for stim in stim_times:\n",
    "\n",
    "    #the index of the frame immediately preceeding stim\n",
    "    stim_start_frame = next(i-1 for i,sample in enumerate(frame_clock) if sample - stim > 0)\n",
    "    \n",
    "    stim_start_frames.append(stim_start_frame)\n",
    "    \n",
    "assert len(stim_start_frames) == int(markpoints.iterations)\n",
    "\n",
    "stim_start_frames = np.array(stim_start_frames)\n",
    "#assert max(stim_start_frames) < arr.shape[1]\n"
   ]
  },
  {
   "cell_type": "code",
   "execution_count": 10,
   "metadata": {},
   "outputs": [],
   "source": [
    "pre_frames = 50\n",
    "post_frames = 100\n",
    "\n",
    "all_trials = []\n",
    "stas = []\n",
    "dfs = []\n",
    "t_tests = []\n",
    "mann_whits = []\n",
    "\n",
    "count = 0\n",
    "    \n",
    "for i, unit in enumerate(arr):\n",
    "\n",
    "    trials = []\n",
    "    df = []\n",
    "    \n",
    "    # observations before stim\n",
    "    pre_obs = []\n",
    "    #observations after stim\n",
    "    post_obs = []\n",
    "\n",
    "    for stim in stim_start_frames:\n",
    "        \n",
    "        pre_stim  = unit[stim-pre_frames: stim]\n",
    "        post_stim = unit[stim: stim + post_frames]\n",
    "        \n",
    "        pre_mean = np.mean(pre_stim)\n",
    "        post_mean = np.mean(post_stim)\n",
    "        df.append(post_mean - pre_mean)\n",
    "\n",
    "        [pre_obs.append(ob) for ob in pre_stim]\n",
    "        [post_obs.append(ob) for ob in post_stim]\n",
    "                          \n",
    "        trial = unit[stim-pre_frames : stim+post_frames]\n",
    "        trials.append(trial)\n",
    "  \n",
    "    trials = np.array(trials)\n",
    "    all_trials.append(trials)\n",
    "\n",
    "    sta = np.mean(trials, 0)        \n",
    "    stas.append(sta)\n",
    "    \n",
    "    dfs.append(np.mean(df))\n",
    "    pre_obs = [x for x in pre_obs if ~np.isnan(x)]\n",
    "    post_obs = [x for x in post_obs if ~np.isnan(x)]\n",
    "    \n",
    "    t_test = stats.ttest_ind(pre_obs, post_obs)\n",
    "    mann_whit = stats.mannwhitneyu(pre_obs, post_obs)\n",
    "    \n",
    "    t_tests.append(t_test)\n",
    "    mann_whits.append(mann_whit)\n",
    "    \n",
    "        \n",
    "    if t_test[1] < 0.05 / num_units:\n",
    "        count += 1\n",
    "        \n",
    " \n",
    "dfs = np.array(dfs)\n",
    "stas = np.array(stas)\n",
    "all_trials = np.array(all_trials)\n",
    "\n",
    "\n"
   ]
  },
  {
   "cell_type": "code",
   "execution_count": 11,
   "metadata": {},
   "outputs": [
    {
     "name": "stdout",
     "output_type": "stream",
     "text": [
      "unit 40 has P value of 0.0\n",
      "unit 246 has P value of 1.7237123315704051e-128\n",
      "unit 96 has P value of 3.7070368953949076e-111\n",
      "unit 35 has P value of 2.9987816532541416e-92\n",
      "unit 68 has P value of 2.4403389777731965e-82\n",
      "unit 6 has P value of 2.1028797192005147e-81\n",
      "unit 109 has P value of 3.3956869550781513e-79\n",
      "unit 61 has P value of 4.192352355316712e-63\n",
      "unit 82 has P value of 2.1248469338683382e-58\n",
      "unit 28 has P value of 1.6580636696740711e-56\n",
      "unit 15 has P value of 2.043890800935155e-56\n",
      "unit 44 has P value of 1.7097910837327393e-55\n",
      "unit 182 has P value of 5.4356624120682335e-55\n",
      "unit 1 has P value of 6.958613979443942e-54\n",
      "unit 2 has P value of 1.4007923592493867e-52\n",
      "unit 151 has P value of 1.3829519758387617e-49\n",
      "unit 14 has P value of 8.150998547194544e-49\n",
      "unit 171 has P value of 1.6245787906456293e-48\n",
      "unit 27 has P value of 1.021086522301701e-45\n",
      "unit 91 has P value of 1.4342654150550677e-45\n",
      "unit 9 has P value of 4.447629546269151e-45\n",
      "unit 55 has P value of 1.5634002127033623e-44\n",
      "unit 59 has P value of 2.0349249408234262e-43\n",
      "unit 0 has P value of 1.2166355056422353e-42\n",
      "unit 75 has P value of 2.0022690999813724e-41\n",
      "unit 43 has P value of 6.538437944582993e-41\n",
      "unit 8 has P value of 2.6890908445957002e-40\n",
      "unit 85 has P value of 3.5381323273093314e-39\n",
      "unit 33 has P value of 1.0731940941532535e-37\n",
      "unit 31 has P value of 4.433113140615271e-36\n",
      "unit 232 has P value of 2.9880951775337367e-35\n",
      "unit 194 has P value of 1.749307514115775e-28\n",
      "unit 70 has P value of 1.980122110405243e-27\n",
      "unit 22 has P value of 4.105278414179369e-27\n",
      "unit 7 has P value of 4.277418150304377e-27\n",
      "unit 41 has P value of 2.0554527699452413e-26\n",
      "unit 76 has P value of 5.1209977637405196e-26\n",
      "unit 140 has P value of 1.7507889008911266e-23\n",
      "unit 18 has P value of 2.5357751995543227e-23\n",
      "unit 19 has P value of 3.082728509364247e-23\n",
      "unit 66 has P value of 6.856167747448193e-23\n",
      "unit 172 has P value of 3.161257796014618e-21\n",
      "unit 12 has P value of 5.09698140668106e-21\n",
      "unit 69 has P value of 8.095506421233614e-21\n",
      "unit 94 has P value of 1.987794293576598e-20\n",
      "unit 122 has P value of 4.290286947513175e-20\n",
      "unit 97 has P value of 2.6814856485916906e-19\n",
      "unit 77 has P value of 3.08303750382343e-19\n",
      "unit 149 has P value of 3.36643612884836e-19\n",
      "unit 110 has P value of 8.63585357216897e-19\n",
      "unit 101 has P value of 1.1082091722616764e-18\n",
      "unit 155 has P value of 3.1493499152451785e-18\n",
      "unit 10 has P value of 3.889275607214913e-18\n",
      "unit 72 has P value of 4.129571745904794e-18\n",
      "unit 25 has P value of 5.587031571610295e-18\n",
      "unit 95 has P value of 9.95160572282761e-18\n",
      "unit 51 has P value of 1.2765232739131941e-17\n",
      "unit 213 has P value of 1.994097174449135e-17\n",
      "unit 42 has P value of 4.895602220705479e-17\n",
      "unit 60 has P value of 9.938002444383887e-17\n",
      "unit 98 has P value of 1.3330515685781508e-16\n",
      "unit 130 has P value of 1.9000070352052658e-16\n",
      "unit 179 has P value of 3.3699836785560943e-16\n",
      "unit 132 has P value of 7.518974633159354e-16\n",
      "unit 21 has P value of 9.777693657039712e-16\n",
      "unit 200 has P value of 1.1262351485108444e-15\n",
      "unit 87 has P value of 1.4219175408063398e-15\n",
      "unit 11 has P value of 4.5777231620380545e-15\n",
      "unit 236 has P value of 1.283275331075963e-13\n",
      "unit 136 has P value of 2.478618689847419e-13\n",
      "unit 223 has P value of 6.7495443651229e-13\n",
      "unit 156 has P value of 9.014877170927201e-13\n",
      "unit 3 has P value of 2.025366231933954e-12\n",
      "unit 45 has P value of 4.576082854116546e-12\n",
      "unit 62 has P value of 6.119184514427483e-12\n",
      "unit 53 has P value of 1.3949754765399116e-11\n",
      "unit 112 has P value of 1.725534962761819e-11\n",
      "unit 142 has P value of 2.0580077134591263e-11\n",
      "unit 48 has P value of 4.4869937035783916e-11\n",
      "unit 34 has P value of 5.672528189302685e-11\n",
      "unit 166 has P value of 9.418127905053633e-11\n",
      "unit 63 has P value of 1.3232060113642707e-10\n",
      "unit 111 has P value of 2.1988366824435395e-10\n",
      "unit 139 has P value of 4.4734257418083996e-10\n",
      "unit 226 has P value of 9.909627060946317e-10\n",
      "unit 5 has P value of 1.1691989400797974e-09\n",
      "unit 174 has P value of 1.5292883733868134e-09\n",
      "unit 115 has P value of 2.1821634764937477e-09\n",
      "unit 235 has P value of 2.691736045826334e-09\n",
      "unit 220 has P value of 3.243415710090678e-09\n",
      "unit 23 has P value of 4.734933666006853e-09\n",
      "unit 67 has P value of 5.394951063236051e-09\n",
      "unit 127 has P value of 6.422188644306471e-09\n",
      "unit 17 has P value of 7.035171147552689e-09\n",
      "unit 52 has P value of 9.056971766807294e-09\n",
      "unit 150 has P value of 9.89843324163524e-09\n",
      "unit 167 has P value of 1.3965783377809692e-08\n",
      "unit 93 has P value of 1.443103502106036e-08\n",
      "unit 81 has P value of 1.9607210645810297e-08\n",
      "unit 157 has P value of 2.9625980766915225e-08\n",
      "unit 116 has P value of 3.584257759204219e-08\n",
      "unit 103 has P value of 3.997616300731966e-08\n",
      "unit 192 has P value of 1.569536268062945e-07\n",
      "unit 58 has P value of 1.7125296163602793e-07\n",
      "unit 133 has P value of 2.7469108967972405e-07\n",
      "unit 114 has P value of 3.7603219286756007e-07\n",
      "unit 108 has P value of 5.28720312247012e-07\n",
      "unit 131 has P value of 6.713427874894485e-07\n",
      "unit 176 has P value of 7.873112125308981e-07\n",
      "unit 57 has P value of 1.1718213394383937e-06\n",
      "unit 79 has P value of 1.2946371376084854e-06\n",
      "unit 201 has P value of 1.2981267848781424e-06\n",
      "unit 46 has P value of 2.3859664005504407e-06\n",
      "unit 169 has P value of 3.3758430805479362e-06\n",
      "unit 144 has P value of 4.468768167503173e-06\n",
      "unit 37 has P value of 5.500530503413502e-06\n",
      "unit 102 has P value of 8.098315178811318e-06\n",
      "unit 190 has P value of 8.861236164546522e-06\n",
      "unit 80 has P value of 1.1109666066373351e-05\n",
      "unit 253 has P value of 1.479199182102688e-05\n",
      "unit 244 has P value of 2.6122758801586948e-05\n",
      "unit 191 has P value of 2.679611666569521e-05\n",
      "unit 146 has P value of 2.8747813703093655e-05\n",
      "unit 29 has P value of 3.191088558291767e-05\n",
      "unit 138 has P value of 4.033623011212664e-05\n",
      "unit 20 has P value of 4.695425574911321e-05\n",
      "unit 217 has P value of 4.78096636569829e-05\n",
      "unit 113 has P value of 5.864732105406089e-05\n",
      "unit 120 has P value of 5.944015934834907e-05\n",
      "unit 39 has P value of 0.00015112851276272\n",
      "unit 49 has P value of 0.0001664468355146272\n",
      "unit 224 has P value of 0.0001709458332092693\n",
      "unit 173 has P value of 0.00017704927062410443\n"
     ]
    }
   ],
   "source": [
    "p_vals = [t[1] for t in mann_whits]\n",
    "idx = range(len(p_vals))\n",
    "\n",
    "for p,i in sorted(zip(p_vals,idx)):\n",
    "    if p < 0.05 / num_units:\n",
    "        print('unit {} has P value of {}'.format(i, p))\n"
   ]
  },
  {
   "cell_type": "code",
   "execution_count": 12,
   "metadata": {},
   "outputs": [
    {
     "data": {
      "image/png": "[encoded data removed]",
      "text/plain": [
       "<Figure size 432x288 with 1 Axes>"
      ]
     },
     "metadata": {},
     "output_type": "display_data"
    }
   ],
   "source": [
    "unit = 96\n",
    "\n",
    "frame_rate = 30\n",
    "x_axis = (np.arange(len(sta)) - pre_frames) / frame_rate\n",
    "\n",
    "plt.figure()\n",
    "\n",
    "sta = stas[unit]\n",
    "[plt.plot(x_axis, t, c='grey', alpha=0.2) for t in all_trials[unit,:,:]]\n",
    "plt.plot(x_axis, sta)\n",
    "plt.xlabel('Time (seconds)')\n",
    "plt.ylabel('DFoF (%)')\n",
    "plt.ylim((-100,200))\n",
    "#plt.plot([pre_frames] * 100, np.linspace(min(sta), max(sta), 100), '--')\n",
    "sns.despine()\n",
    "plt.savefig('s2_responsive_cell.pdf')"
   ]
  },
  {
   "cell_type": "code",
   "execution_count": 14,
   "metadata": {},
   "outputs": [
    {
     "data": {
      "text/plain": [
       "{'aspect_ratio': 1.0627851161944484,\n",
       " 'compact': 1.0145813932145569,\n",
       " 'footprint': 0.7707544319411221,\n",
       " 'ipix_neuropil': (array([154338, 154339, 154340, 154341, 154849, 154850, 154851, 154852,\n",
       "         154853, 154854, 155360, 155361, 155362, 155363, 155364, 155365,\n",
       "         155366, 155367, 155870, 155871, 155872, 155873, 155874, 155875,\n",
       "         155876, 155877, 155878, 156381, 156382, 156383, 156384, 156385,\n",
       "         156386, 156387, 156892, 156893, 156894, 156895, 156896, 156897,\n",
       "         156898, 156899, 156900, 157403, 157404, 157405, 157406, 157407,\n",
       "         157408, 157409, 157410, 157411, 157412, 157915, 157916, 157917,\n",
       "         157918, 157919, 157920, 157921, 157922, 157923, 157924, 158427,\n",
       "         158428, 158429, 158430, 158431, 158432, 158433, 158434, 158435,\n",
       "         158939, 158940, 158941, 158942, 158943, 158944, 158945, 158946,\n",
       "         158947, 158958, 159452, 159453, 159454, 159455, 159456, 159457,\n",
       "         159470, 159471, 159964, 159965, 159966, 159967, 159968, 159981,\n",
       "         159982, 159983, 159984, 160476, 160477, 160478, 160479, 160493,\n",
       "         160494, 160495, 160496, 160497, 160987, 160988, 160989, 161004,\n",
       "         161005, 161006, 161007, 161008, 161009, 161498, 161499, 161500,\n",
       "         161516, 161517, 161518, 161519, 161520, 161521, 161522, 162002,\n",
       "         162009, 162010, 162011, 162027, 162028, 162029, 162030, 162031,\n",
       "         162032, 162033, 162034, 162035, 162514, 162515, 162516, 162517,\n",
       "         162520, 162521, 162522, 162523, 162538, 162539, 162540, 162541,\n",
       "         162542, 162543, 162544, 162545, 162546, 162547, 163026, 163027,\n",
       "         163028, 163029, 163030, 163031, 163032, 163033, 163034, 163035,\n",
       "         163050, 163051, 163052, 163053, 163054, 163055, 163056, 163057,\n",
       "         163058, 163059, 163538, 163539, 163540, 163541, 163542, 163543,\n",
       "         163544, 163545, 163546, 163547, 163562, 163563, 163564, 163565,\n",
       "         163566, 163567, 163568, 163569, 163570, 163571, 164050, 164051,\n",
       "         164052, 164053, 164054, 164055, 164056, 164057, 164058, 164059,\n",
       "         164074, 164075, 164076, 164077, 164078, 164079, 164080, 164081,\n",
       "         164082, 164083, 164562, 164563, 164564, 164565, 164566, 164567,\n",
       "         164568, 164569, 164570, 164571, 164586, 164587, 164588, 164589,\n",
       "         164590, 164591, 164592, 164593, 164594, 164595, 165074, 165075,\n",
       "         165076, 165077, 165078, 165079, 165080, 165081, 165082, 165083,\n",
       "         165097, 165098, 165099, 165100, 165101, 165102, 165103, 165104,\n",
       "         165105, 165106, 165587, 165588, 165589, 165590, 165591, 165592,\n",
       "         165593, 165594, 165596, 165608, 165609, 165610, 165611, 165612,\n",
       "         165613, 165614, 165615, 165616, 165617, 166100, 166101, 166102,\n",
       "         166103, 166104, 166105, 166108, 166109, 166119, 166120, 166121,\n",
       "         166122, 166123, 166124, 166125, 166126, 166127, 166128, 166613,\n",
       "         166614, 166615, 166616, 166617, 166619, 166620, 166621, 166622,\n",
       "         166623, 166629, 166630, 166631, 166632, 166633, 166634, 166635,\n",
       "         166636, 166637, 166638, 166639, 167126, 167127, 167131, 167132,\n",
       "         167133, 167134, 167135, 167136, 167137, 167138, 167139, 167140,\n",
       "         167141, 167142, 167143, 167144, 167145, 167146, 167147, 167148,\n",
       "         167149, 167150, 167642, 167643, 167644, 167645, 167646, 167647,\n",
       "         167648, 167649, 167650, 167651, 167652, 167653, 167654, 167655,\n",
       "         167656, 167657, 167658, 167659, 167660, 167661, 168154, 168155,\n",
       "         168156, 168157, 168158, 168159, 168160, 168161, 168162, 168163,\n",
       "         168164, 168165, 168166, 168167, 168168, 168169, 168170, 168171,\n",
       "         168172, 168665, 168666, 168667, 168668, 168669, 168670, 168671,\n",
       "         168672, 168673, 168674, 168675, 168676, 168677, 168678, 168679,\n",
       "         168680, 168681, 168682, 168683, 169178, 169179, 169180, 169181,\n",
       "         169182, 169183, 169184, 169185, 169186, 169187, 169188, 169189,\n",
       "         169190, 169191, 169192, 169193, 169194, 169691, 169692, 169693,\n",
       "         169694, 169695, 169696, 169697, 169698, 169699, 169700, 169701,\n",
       "         169702, 169703, 169704, 169705, 170204, 170205, 170206, 170207,\n",
       "         170208, 170209, 170210, 170211, 170212, 170213, 170214, 170215,\n",
       "         170216, 170717, 170718, 170719, 170720, 170721, 170722, 170723,\n",
       "         170724, 170725, 170726, 170727, 171230, 171231, 171232, 171233,\n",
       "         171234, 171235, 171236, 171237, 171238, 171744, 171745, 171746,\n",
       "         171747, 171748]),),\n",
       " 'lam': array([0.27240235, 0.32104415, 0.29151115, 0.198955  , 0.30547401,\n",
       "        0.54392046, 0.55300909, 0.57644159, 0.45839259, 0.2608915 ,\n",
       "        0.43822861, 0.72637635, 0.87579626, 1.03901255, 1.0106405 ,\n",
       "        0.58819896, 0.1779142 , 0.25284386, 0.38532606, 0.67947763,\n",
       "        0.94736719, 1.19425833, 1.54157555, 1.64634705, 1.08513594,\n",
       "        0.34488994, 0.23632209, 0.44001293, 0.69024032, 1.11526942,\n",
       "        1.3355509 , 1.46709669, 1.73040926, 2.04526901, 1.58336926,\n",
       "        0.5787521 , 0.36626044, 0.70732522, 1.08335972, 1.55333626,\n",
       "        1.74776626, 1.76346505, 1.77533484, 1.93598175, 1.45134091,\n",
       "        0.48017961, 0.36201397, 0.75098044, 1.18351042, 1.52145147,\n",
       "        1.62472677, 1.56049514, 1.60344899, 1.65124679, 1.20001316,\n",
       "        0.40117228, 0.35666212, 0.77285296, 1.17475796, 1.39442873,\n",
       "        1.4436574 , 1.43309069, 1.50998175, 1.45187461, 0.8373639 ,\n",
       "        0.23122086, 0.29386973, 0.58463341, 0.83449221, 1.10238862,\n",
       "        1.23390722, 1.26317108, 1.29727471, 1.11452043, 0.58433664,\n",
       "        0.18182378, 0.31229308, 0.34679237, 0.47638211, 0.65229255,\n",
       "        0.70403671, 0.76288205, 0.76088732, 0.53858131, 0.31228995,\n",
       "        0.22873947, 0.29012313, 0.30814633, 0.27189094, 0.25593588]),\n",
       " 'med': [318.0, 227.0],\n",
       " 'mrs': 0.30147304817931486,\n",
       " 'mrs0': 0.297140328113728,\n",
       " 'npix': 90,\n",
       " 'npix_norm': 0.6436386,\n",
       " 'original_index': 110,\n",
       " 'overlap': array([False, False, False,  True, False, False, False, False, False,\n",
       "        False, False, False, False, False, False,  True, False, False,\n",
       "        False, False, False, False, False, False, False, False, False,\n",
       "        False, False, False, False, False, False, False, False, False,\n",
       "        False, False, False, False, False, False, False, False, False,\n",
       "        False, False, False, False, False, False, False, False, False,\n",
       "        False, False, False, False, False, False, False, False, False,\n",
       "        False, False, False, False, False, False, False, False, False,\n",
       "        False, False, False, False, False, False, False, False, False,\n",
       "        False, False, False, False, False, False, False, False, False]),\n",
       " 'radius': 4.740065275328107,\n",
       " 'skew': 0.043171734,\n",
       " 'std': 7.8344965,\n",
       " 'xpix': array([226, 227, 228, 229, 225, 226, 227, 228, 229, 224, 225, 226, 227,\n",
       "        228, 229, 230, 222, 223, 224, 225, 226, 227, 228, 229, 230, 231,\n",
       "        222, 223, 224, 225, 226, 227, 228, 229, 230, 231, 222, 223, 224,\n",
       "        225, 226, 227, 228, 229, 230, 231, 222, 223, 224, 225, 226, 227,\n",
       "        228, 229, 230, 231, 222, 223, 224, 225, 226, 227, 228, 229, 230,\n",
       "        231, 222, 223, 224, 225, 226, 227, 228, 229, 230, 231, 222, 223,\n",
       "        224, 225, 226, 227, 228, 229, 230, 224, 225, 226, 227, 228]),\n",
       " 'ypix': array([313, 313, 313, 313, 314, 314, 314, 314, 314, 315, 315, 315, 315,\n",
       "        315, 315, 315, 316, 316, 316, 316, 316, 316, 316, 316, 316, 316,\n",
       "        317, 317, 317, 317, 317, 317, 317, 317, 317, 317, 318, 318, 318,\n",
       "        318, 318, 318, 318, 318, 318, 318, 319, 319, 319, 319, 319, 319,\n",
       "        319, 319, 319, 319, 320, 320, 320, 320, 320, 320, 320, 320, 320,\n",
       "        320, 321, 321, 321, 321, 321, 321, 321, 321, 321, 321, 322, 322,\n",
       "        322, 322, 322, 322, 322, 322, 322, 323, 323, 323, 323, 323])}"
      ]
     },
     "execution_count": 14,
     "metadata": {},
     "output_type": "execute_result"
    }
   ],
   "source": [
    "stat[96]"
   ]
  },
  {
   "cell_type": "code",
   "execution_count": null,
   "metadata": {
    "collapsed": true
   },
   "outputs": [],
   "source": []
  },
  {
   "cell_type": "code",
   "execution_count": null,
   "metadata": {
    "collapsed": true
   },
   "outputs": [],
   "source": []
  },
  {
   "cell_type": "code",
   "execution_count": null,
   "metadata": {
    "collapsed": true
   },
   "outputs": [],
   "source": []
  },
  {
   "cell_type": "code",
   "execution_count": 13,
   "metadata": {},
   "outputs": [
    {
     "ename": "ZeroDivisionError",
     "evalue": "division by zero",
     "output_type": "error",
     "traceback": [
      "\u001b[0;31m---------------------------------------------------------------------------\u001b[0m",
      "\u001b[0;31mZeroDivisionError\u001b[0m                         Traceback (most recent call last)",
      "\u001b[0;32m<ipython-input-13-05c9758a9c21>\u001b[0m in \u001b[0;36m<module>\u001b[0;34m()\u001b[0m\n\u001b[0;32m----> 1\u001b[0;31m \u001b[0;36m1\u001b[0m\u001b[0;34m/\u001b[0m\u001b[0;36m0\u001b[0m\u001b[0;34m\u001b[0m\u001b[0m\n\u001b[0m",
      "\u001b[0;31mZeroDivisionError\u001b[0m: division by zero"
     ]
    }
   ],
   "source": [
    "1/0"
   ]
  },
  {
   "cell_type": "code",
   "execution_count": null,
   "metadata": {
    "collapsed": true
   },
   "outputs": [],
   "source": [
    "unit = 40\n",
    "frame_rate = 30\n",
    "x_axis = (np.arange(len(sta)) - pre_frames) / frame_rate\n",
    "\n",
    "plt.figure(figsize=(7,7))\n",
    "sta = stas[unit]\n",
    "[plt.plot(x_axis, t, c='grey', alpha=0.2) for t in all_trials[unit,:,:]]\n",
    "plt.plot(x_axis, sta)\n",
    "plt.xlabel('Time (seconds)')\n",
    "plt.ylabel('DFoF (%)')\n",
    "#plt.plot([pre_frames] * 100, np.linspace(min(sta), max(sta), 100), '--')\n",
    "sns.despine()\n",
    "plt.savefig('s2_responsive_cell.pdf')\n"
   ]
  },
  {
   "cell_type": "code",
   "execution_count": null,
   "metadata": {
    "collapsed": true
   },
   "outputs": [],
   "source": [
    "for i,s in enumerate(stat):\n",
    "    if s['original_index'] == 126:\n",
    "        print(i)\n",
    "        print(p_vals[i])"
   ]
  }
 ],
 "metadata": {
  "kernelspec": {
   "display_name": "Python 3",
   "language": "python",
   "name": "python3"
  },
  "language_info": {
   "codemirror_mode": {
    "name": "ipython",
    "version": 3
   },
   "file_extension": ".py",
   "mimetype": "text/x-python",
   "name": "python",
   "nbconvert_exporter": "python",
   "pygments_lexer": "ipython3",
   "version": "3.6.3"
  }
 },
 "nbformat": 4,
 "nbformat_minor": 2
}
