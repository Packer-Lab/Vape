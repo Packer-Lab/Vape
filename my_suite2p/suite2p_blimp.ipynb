{
 "cells": [
  {
   "cell_type": "code",
   "execution_count": 1,
   "metadata": {},
   "outputs": [],
   "source": [
    "import sys\n",
    "sys.path.append('/home/jamesrowland/Documents/Code/Vape/utils')\n",
    "from opto_stim_import2 import BlimpImport\n",
    "import suite2p\n",
    "from suite2p.run_s2p import run_s2p\n",
    "from my_suite2p.settings import ops\n",
    "from settings import ops\n",
    "from gsheets_importer import path_finder\n"
   ]
  },
  {
   "cell_type": "code",
   "execution_count": 2,
   "metadata": {},
   "outputs": [],
   "source": [
    "mouse_id = 'J048'\n",
    "run_number = 15    "
   ]
  },
  {
   "cell_type": "code",
   "execution_count": 3,
   "metadata": {},
   "outputs": [],
   "source": [
    "importer = BlimpImport(mouse_id)\n",
    "\n",
    "\n",
    "\n",
    "\n",
    "tseries_folders = [folder for folder in importer.tseries_folders \n",
    "                   if folder != 'None']\n"
   ]
  },
  {
   "cell_type": "code",
   "execution_count": 6,
   "metadata": {},
   "outputs": [
    {
     "name": "stdout",
     "output_type": "stream",
     "text": [
      "Importing data file: J048-2019-07-05-180157.txt\n",
      "pycontrol J048-2019-07-05-180157 successfully matched to blimp folder 2019-07-05-175852\n",
      "pycontrol J048-2019-07-05-180157 rsync successfully matched to paq 2019-07-05_J048_t002.paq\n"
     ]
    }
   ],
   "source": [
    "importer.get_object_and_test(run_number)"
   ]
  },
  {
   "cell_type": "code",
   "execution_count": 7,
   "metadata": {},
   "outputs": [
    {
     "ename": "AttributeError",
     "evalue": "'BlimpImport' object has no attribute 'subsets_dprime'",
     "output_type": "error",
     "traceback": [
      "\u001b[0;31m---------------------------------------------------------------------------\u001b[0m",
      "\u001b[0;31mAttributeError\u001b[0m                            Traceback (most recent call last)",
      "\u001b[0;32m<ipython-input-7-6b57fceb9154>\u001b[0m in \u001b[0;36m<module>\u001b[0;34m\u001b[0m\n\u001b[0;32m----> 1\u001b[0;31m \u001b[0mimporter\u001b[0m\u001b[0;34m.\u001b[0m\u001b[0msubsets_dprime\u001b[0m\u001b[0;34m\u001b[0m\u001b[0;34m\u001b[0m\u001b[0m\n\u001b[0m",
      "\u001b[0;31mAttributeError\u001b[0m: 'BlimpImport' object has no attribute 'subsets_dprime'"
     ]
    }
   ],
   "source": [
    "importer.subsets_dprime"
   ]
  },
  {
   "cell_type": "code",
   "execution_count": null,
   "metadata": {},
   "outputs": [],
   "source": [
    "db = {\n",
    "       'data_path': tseries_folders[0],                                         \n",
    "       'diameter'  : 11, \n",
    "       'has_stim'  : False,\n",
    "       'fs'        : 15, # string which specifies where the binary file will be stored (should be an SSD)   \n",
    "}   "
   ]
  },
  {
   "cell_type": "code",
   "execution_count": null,
   "metadata": {},
   "outputs": [],
   "source": [
    "opsEnd=run_s2p(ops=ops,db=db)"
   ]
  },
  {
   "cell_type": "code",
   "execution_count": null,
   "metadata": {},
   "outputs": [],
   "source": [
    "tseries_folders[0]"
   ]
  }
 ],
 "metadata": {
  "kernelspec": {
   "display_name": "Python 3",
   "language": "python",
   "name": "python3"
  },
  "language_info": {
   "codemirror_mode": {
    "name": "ipython",
    "version": 3
   },
   "file_extension": ".py",
   "mimetype": "text/x-python",
   "name": "python",
   "nbconvert_exporter": "python",
   "pygments_lexer": "ipython3",
   "version": "3.7.3"
  }
 },
 "nbformat": 4,
 "nbformat_minor": 2
}
