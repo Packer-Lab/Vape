{
 "cells": [
  {
   "cell_type": "code",
   "execution_count": 1,
   "metadata": {},
   "outputs": [
    {
     "name": "stderr",
     "output_type": "stream",
     "text": [
      "/home/jamesrowland/anaconda3/lib/python3.6/site-packages/h5py/__init__.py:34: FutureWarning: Conversion of the second argument of issubdtype from `float` to `np.floating` is deprecated. In future, it will be treated as `np.float64 == np.dtype(float).type`.\n",
      "  from ._conv import register_converters as _register_converters\n"
     ]
    }
   ],
   "source": [
    "import suite2p\n",
    "from suite2p.run_s2p import run_s2p\n",
    "from settings import ops\n",
    "import sys\n",
    "sys.path.append('..')\n",
    "from utils import *\n",
    "import time"
   ]
  },
  {
   "cell_type": "code",
   "execution_count": 2,
   "metadata": {},
   "outputs": [],
   "source": [
    "#set paths to tiff here, any settings set here will overwrite ops settings, meaning we can set\n",
    "#different cell sizes with different zooms here.\n",
    "#JR added parameter has_stim = whether to remove phptostim artifact\n",
    "\n",
    "\n",
    "#important: data paths must be lists even if only one element\n",
    "\n",
    "\n",
    "#in the future this should be made to read a google spreadsheet or similar with experiment\n",
    "#metadata\n",
    "\n",
    "\n",
    "db = []\n",
    "\n",
    "#gave excellent results in suite2p though movie stutters around time of artefact removal\n",
    "# db.append({'data_path' : ['/home/jamesrowland/Desktop/j031/4'],\n",
    "#            'diameter'  : 18,   \n",
    "#            'has_stim'  : True\n",
    "#            })\n",
    "\n",
    "\n",
    "# ## this gave decent suite2p results, some banding but majority of cells found\n",
    "# db.append({'data_path' : ['/home/jamesrowland/Desktop/j031/6'], \n",
    "#            'diameter'  : 12, \n",
    "#            'has_stim'  : True\n",
    "#            })\n",
    "\n",
    "\n",
    "# #s2 100 shotsimaging session\n",
    "# db.append({'data_path' : ['/media/jamesrowland/DATA/plab/s2_100_shots'], \n",
    "#            'diameter'  : 12, \n",
    "#            'has_stim'  : True\n",
    "#            })\n",
    "# time.sleep(120)\n",
    "# #s2 100 shots take 2\n",
    "# db.append({'data_path' : ['/media/jamesrowland/DATA/plab/2019-02-19_RL025_S2imS1stim'], \n",
    "#            'diameter'  : 12, \n",
    "#            'has_stim'  : True\n",
    "#            })\n",
    "\n",
    "# #spontaneous activity imaging\n",
    "# db.append({'data_path' : ['/media/jamesrowland/DATA/plab/spont/4'], \n",
    "#            'diameter'  : 12, \n",
    "#            'has_stim'  : False\n",
    "#            })\n",
    "\n",
    "\n",
    "# Adam H data\n",
    "# db.append({'data_path' : ['/home/jamesrowland/Documents/packerstation/aharris/Data/2019-04-11/2019-04-11_RL025_t-007'], \n",
    "#            'diameter'  : 12, \n",
    "#            'has_stim'  : False\n",
    "#            })\n",
    "\n",
    "# db.append({'data_path' : ['/home/jamesrowland/Documents/packerstation/aharris/Data/2019-04-11/2019-04-11_RL025_t-009'], \n",
    "#            'diameter'  : 12, \n",
    "#            'has_stim'  : False\n",
    "#            })\n",
    "\n",
    "\n",
    "\n",
    "db.append({'data_path' : ['/home/jamesrowland/Documents/packerstation/jrowland/Data/2019-07-05/2019-07-05_J048_t-002'], \n",
    "           'diameter'  : 11, \n",
    "           'has_stim'  : False,\n",
    "           'fs'        : 15\n",
    "           \n",
    "           })\n",
    "\n",
    "\n",
    "\n",
    "\n",
    "\n",
    "\n"
   ]
  },
  {
   "cell_type": "code",
   "execution_count": null,
   "metadata": {},
   "outputs": [],
   "source": [
    "t1 = time.time()\n",
    "for dbi in db:\n",
    "    if dbi['has_stim']:\n",
    "        dbi = process_stim_artefact(db=dbi,threshold=1.3, interpolate=False)\n",
    "    opsEnd=run_s2p(ops=ops,db=dbi)\n",
    "    \n",
    "t2 = time.time()\n",
    "t2 - t1"
   ]
  },
  {
   "cell_type": "code",
   "execution_count": null,
   "metadata": {
    "collapsed": true
   },
   "outputs": [],
   "source": [
    "t1 = time.time()\n",
    "for dbi in db:\n",
    "    if dbi['has_stim']:\n",
    "        dbi = interpolate_through_stim(db=dbi,threshold=1.3)\n",
    "    opsEnd=run_s2p(ops=ops,db=dbi)\n",
    "    \n",
    "t2 = time.time()\n",
    "t2 - t1"
   ]
  },
  {
   "cell_type": "code",
   "execution_count": null,
   "metadata": {
    "collapsed": true
   },
   "outputs": [],
   "source": [
    "1/"
   ]
  },
  {
   "cell_type": "code",
   "execution_count": null,
   "metadata": {
    "collapsed": true
   },
   "outputs": [],
   "source": [
    "#use this cell to test artifcat removal through insepction of traces\n",
    "\n",
    "db = []\n",
    "\n",
    "#results still decent without artefact removal\n",
    "db.append({'data_path' : ['/home/jamesrowland/Desktop/j031/4'],\n",
    "           'diameter'  : 18,   \n",
    "           'has_stim'  : False\n",
    "           })\n",
    "\n",
    "#results pretty good without arefact removal\n",
    "db.append({'data_path' : ['/home/jamesrowland/Desktop/j031/6'], \n",
    "           'diameter'  : 12, \n",
    "           'has_stim'  : False\n",
    "           })"
   ]
  },
  {
   "cell_type": "code",
   "execution_count": null,
   "metadata": {
    "collapsed": true
   },
   "outputs": [],
   "source": [
    "for dbi in db:\n",
    "    if dbi['has_stim']:\n",
    "        dbi = interpolate_through_stim(db=dbi,threshold=1.3)\n",
    "    opsEnd=run_s2p(ops=ops,db=dbi)"
   ]
  }
 ],
 "metadata": {
  "kernelspec": {
   "display_name": "Python 3",
   "language": "python",
   "name": "python3"
  },
  "language_info": {
   "codemirror_mode": {
    "name": "ipython",
    "version": 3
   },
   "file_extension": ".py",
   "mimetype": "text/x-python",
   "name": "python",
   "nbconvert_exporter": "python",
   "pygments_lexer": "ipython3",
   "version": "3.7.3"
  }
 },
 "nbformat": 4,
 "nbformat_minor": 2
}
