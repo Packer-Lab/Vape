{
 "cells": [
  {
   "cell_type": "code",
   "execution_count": 1,
   "metadata": {},
   "outputs": [],
   "source": [
    "%load_ext autoreload\n",
    "%autoreload 2"
   ]
  },
  {
   "cell_type": "code",
   "execution_count": 3,
   "metadata": {},
   "outputs": [],
   "source": [
    "import sys\n",
    "sys.path.append('..')\n",
    "import os \n",
    "import time\n",
    "import numpy as np\n",
    "from datetime import datetime"
   ]
  },
  {
   "cell_type": "code",
   "execution_count": 4,
   "metadata": {},
   "outputs": [],
   "source": [
    "# Path to suite2p (if git cloned to code folder rather than pip installed)\n",
    "#s2p_path = os.path.expanduser('~/Documents/code/suite2p')\n",
    "#sys.path.append(s2p_path)\n",
    "from suite2p.run_s2p import run_s2p"
   ]
  },
  {
   "cell_type": "code",
   "execution_count": 5,
   "metadata": {},
   "outputs": [],
   "source": [
    "# default settings for analysis\n",
    "\n",
    "ops = {\n",
    "        'batch_size': 200, # reduce if running out of RAM\n",
    "        'fast_disk': os.path.expanduser('~/suite2p_binaries'), # used to store temporary binary file, defaults to save_path0 (set as a string NOT a list)\n",
    "         #'save_path0': '/media/jamesrowland/DATA/plab/suite_2p', # stores results, defaults to first item in data_path\n",
    "        'delete_bin': False, # whether to delete binary file after processing\n",
    "        # main settings\n",
    "        'nplanes' : 1, # each tiff has these many planes in sequence\n",
    "        'nchannels' : 1, # each tiff has these many channels per plane\n",
    "        'functional_chan' : 1, # this channel is used to extract functional ROIs (1-based)\n",
    "        'diameter': 12, # this is the main parameter for cell detection, 2-dimensional if Y and X are different (e.g. [6 12])\n",
    "        'tau':  1.26, # this is the main parameter for deconvolution (1.25-1.5 for gcamp6s)\n",
    "        'fs': 30.,  # sampling rate (total across planes)\n",
    "        # output settings\n",
    "        'save_mat': True, # whether to save output as matlab files\n",
    "        'combined': True, # combine multiple planes into a single result /single canvas for GUI\n",
    "        # parallel settings\n",
    "        'num_workers': 0, # 0 to select num_cores, -1 to disable parallelism, N to enforce value\n",
    "        'num_workers_roi': 0, # 0 to select number of planes, -1 to disable parallelism, N to enforce value\n",
    "        # registration settings\n",
    "        'do_registration': True, # whether to register data\n",
    "        'nimg_init': 200, # subsampled frames for finding reference image\n",
    "        'maxregshift': 0.1, # max allowed registration shift, as a fraction of frame max(width and height)\n",
    "        'align_by_chan' : 1, # when multi-channel, you can align by non-functional channel (1-based)\n",
    "        'reg_tif': False, # whether to save registered tiffs\n",
    "        'subpixel' : 10, # precision of subpixel registration (1/subpixel steps)\n",
    "        # cell detection settings\n",
    "        'connected': True, # whether or not to keep ROIs fully connected (set to 0 for dendrites)\n",
    "        'navg_frames_svd': 5000, # max number of binned frames for the SVD\n",
    "        'nsvd_for_roi': 1000, # max number of SVD components to keep for ROI detection\n",
    "        'max_iterations': 20, # maximum number of iterations to do cell detection\n",
    "        'ratio_neuropil': 6., # ratio between neuropil basis size and cell radius\n",
    "        'ratio_neuropil_to_cell': 3, # minimum ratio between neuropil radius and cell radius\n",
    "        'tile_factor': 1., # use finer (>1) or coarser (<1) tiles for neuropil estimation during cell detection\n",
    "        'threshold_scaling': 1., # adjust the automatically determined threshold by this scalar multiplier\n",
    "        'max_overlap': 0.75, # cells with more overlap than this get removed during triage, before refinement\n",
    "        'inner_neuropil_radius': 2, # number of pixels to keep between ROI and neuropil donut\n",
    "        'outer_neuropil_radius': np.inf, # maximum neuropil radius\n",
    "        'min_neuropil_pixels': 350, # minimum number of pixels in the neuropil\n",
    "        # deconvolution settings\n",
    "        'baseline': 'maximin', # baselining mode\n",
    "        'win_baseline': 60., # window for maximin\n",
    "        'sig_baseline': 10., # smoothing constant for gaussian filter\n",
    "        'prctile_baseline': 8.,# optional (whether to use a percentile baseline)\n",
    "        'neucoeff': .7,  # neuropil coefficient\n",
    "      }\n",
    "\n",
    "# make the local suite2p binaries file if it does not already exist\n",
    "if not os.path.exists(ops['fast_disk']):\n",
    "    os.mkdir(ops['fast_disk'])"
   ]
  },
  {
   "cell_type": "markdown",
   "metadata": {},
   "source": [
    "## The settings below are experiment specifc, make sure e.g. mouse name is correct\n",
    "### Settings here overwrite the default settings in the ops dictionary above"
   ]
  },
  {
   "cell_type": "code",
   "execution_count": 15,
   "metadata": {},
   "outputs": [],
   "source": [
    "mouse_name = 'CortexLabExample'\n",
    "\n",
    "# Folder to save the outputs of suite2p into\n",
    "suite2p_folder = os.path.expanduser('~/mnt/qnap/suite2p_results')\n",
    "\n",
    "date = datetime.today().strftime('%Y-%m-%d')\n",
    "\n",
    "save_folder = os.path.join(suite2p_folder, mouse_name, date)\n",
    "if not os.path.exists(save_folder):\n",
    "    os.makedirs(save_folder)\n",
    "    \n",
    "# Umbrealla folder of the tiffs you want to analyse together\n",
    "data_path = '/mnt/qnap_share/Data/suite2p/'\n",
    "# list of the tiffs you want to stitch together\n",
    "# (Have hardcoded paths as this is clearer, could also join tiff names to data_path)\n",
    "tiff_list = [  \n",
    "    '/mnt/qnap_share/Data/suite2p/M0_2017-10-13_000.tif',\n",
    "    '/mnt/qnap_share/Data/suite2p/M0_2017-10-13_001.tif',\n",
    "    '/mnt/qnap_share/Data/suite2p/M0_2017-10-13_002.tif',\n",
    "    '/mnt/qnap_share/Data/suite2p/M0_2017-10-13_003.tif',\n",
    "    '/mnt/qnap_share/Data/suite2p/M0_2017-10-13_004.tif',\n",
    "            ]\n",
    "\n",
    "    \n",
    "diameter = 11  # the average diameter (in pixels) of a cell -- check in fiji \n",
    "fs = 30  # sampling rate of imaging (default 30 fps)\n",
    "nplanes = 1  # number of planes (default 1)\n",
    "nchannels = 1 # number of channels aquired (default 1)  \n",
    "\n",
    "db = {\n",
    "     'data_path': data_path,\n",
    "     'tiff_list': tiff_list, \n",
    "     'diameter': diameter, \n",
    "     'fs': fs,\n",
    "     'nplanes': nplanes,\n",
    "     'nchannels': nchannels,\n",
    "     'save_folder': save_folder\n",
    "     }"
   ]
  },
  {
   "cell_type": "code",
   "execution_count": null,
   "metadata": {},
   "outputs": [
    {
     "name": "stdout",
     "output_type": "stream",
     "text": [
      "{'data_path': '/mnt/qnap_share/Data/suite2p/', 'tiff_list': ['/mnt/qnap_share/Data/suite2p/M0_2017-10-13_000.tif', '/mnt/qnap_share/Data/suite2p/M0_2017-10-13_001.tif', '/mnt/qnap_share/Data/suite2p/M0_2017-10-13_002.tif', '/mnt/qnap_share/Data/suite2p/M0_2017-10-13_003.tif', '/mnt/qnap_share/Data/suite2p/M0_2017-10-13_004.tif'], 'diameter': 11, 'fs': 30, 'nplanes': 1, 'nchannels': 1, 'save_folder': '/home/jrowland/mnt/qnap/suite2p_results/CortexLabExample/2020-05-13'}\n",
      "/home/jrowland/mnt/qnap/suite2p_results/CortexLabExample/2020-05-13/plane0\n",
      "['/mnt/qnap_share/Data/suite2p/M0_2017-10-13_000.tif', '/mnt/qnap_share/Data/suite2p/M0_2017-10-13_001.tif', '/mnt/qnap_share/Data/suite2p/M0_2017-10-13_002.tif', '/mnt/qnap_share/Data/suite2p/M0_2017-10-13_003.tif', '/mnt/qnap_share/Data/suite2p/M0_2017-10-13_004.tif']\n",
      "** Found 5 tifs - converting to binary **\n",
      "800 frames of binary, time 4.16 sec.\n",
      "1600 frames of binary, time 7.52 sec.\n",
      "2400 frames of binary, time 11.30 sec.\n",
      "3200 frames of binary, time 14.74 sec.\n",
      "4000 frames of binary, time 18.21 sec.\n",
      "4800 frames of binary, time 21.85 sec.\n",
      "5600 frames of binary, time 25.61 sec.\n",
      "6400 frames of binary, time 30.73 sec.\n"
     ]
    }
   ],
   "source": [
    "t1 = time.time()\n",
    "opsEnd=run_s2p(ops=ops,db=db)\n",
    "t2 = time.time()\n",
    "print('Total time this cell was running is {}'.format(t2-t1))"
   ]
  },
  {
   "cell_type": "code",
   "execution_count": null,
   "metadata": {},
   "outputs": [],
   "source": [
    "from datetime import datetime\n"
   ]
  },
  {
   "cell_type": "code",
   "execution_count": null,
   "metadata": {},
   "outputs": [],
   "source": []
  }
 ],
 "metadata": {
  "kernelspec": {
   "display_name": "Python 3",
   "language": "python",
   "name": "python3"
  },
  "language_info": {
   "codemirror_mode": {
    "name": "ipython",
    "version": 3
   },
   "file_extension": ".py",
   "mimetype": "text/x-python",
   "name": "python",
   "nbconvert_exporter": "python",
   "pygments_lexer": "ipython3",
   "version": "3.7.4"
  }
 },
 "nbformat": 4,
 "nbformat_minor": 2
}
